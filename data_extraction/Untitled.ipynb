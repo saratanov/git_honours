{
 "cells": [
  {
   "cell_type": "code",
   "execution_count": 8,
   "metadata": {},
   "outputs": [
    {
     "data": {
      "text/plain": [
       "261"
      ]
     },
     "execution_count": 8,
     "metadata": {},
     "output_type": "execute_result"
    }
   ],
   "source": [
    "lis = \"13.1 58.1 15.4 12.8 57.8 15.1 11.7 56.7 14.0 10.9 55.9 13.2 10.7 55.7 13.0 9.7 54.7 12.0 9.4 54.4 11.7 8.8 53.8 11.1 8.4 53.4 10.7 7.3 52.3 9.6 7.5 52.5 9.8 7.2 52.2 9.5 7.0 52.0 9.3 5.6 50.6 7.9 5.5 50.5 7.8 4.4 49.4 6.7 4.0 49.0 6.3 2.8 47.8 5.1 2.5 47.5 4.8 2.3 47.3 4.6 1.3 46.3 3.6 1.1 46.1 3.4 0.2 45.2 2.5 0.0 45.0 2.3 0.2 45.2 2.5 -0.8 44.2 1.5 -0.8 44.2 1.5 -0.9 44.1 1.4 -1.7 43.3 0.6 -1.4 43.6 0.9 -2.6 42.4 -0.3 -2.2 42.8 0.1 -2.8 42.2 -0.5 -3.9 41.1 -1.6 -4.3 40.7 -2.0 -4.6 40.4 -2.3 -4.4 40.6 -2.1 -5.1 39.9 -2.8 -6.0 39.0 -3.7 -6.6 38.4 -4.3 -6.4 38.6 -4.1 -7.0 38.0 -4.7 -6.8 38.2 -4.5 -7.0 38.0 -4.7 -7.5 37.5 -5.2 -7.9 37.1 -5.6 -7.3 37.7 -5.0 -7.9 37.1 -5.6 -8.6 36.4 -6.3 -8.9 36.1 -6.6 -8.9 36.1 -6.6 -8.7 36.3 -6.4 -9.1 35.9 -6.8 -9.0 36.0 -6.7 -9.1 35.9 -6.8 -9.3 35.7 -7.0 -9.5 35.5 -7.2 -10.0 35.0 -7.7 -10.3 34.7 -8.0 -10.7 34.3 -8.4 -10.7 34.3 -8.4 -11.4 33.6 -9.1 -11.5 33.5 -9.2 -11.4 33.6 -9.1 -11.5 33.5 -9.2 -11.3 33.7 -9.0 -11.7 33.3 -9.4 -11.5 33.5 -9.2 -11.8 33.2 -9.5 -12.0 33.0 -9.7 -12.0 33.0 -9.7 -12.0 33.0 -9.7 -12.3 32.7 -10.0 -12.1 32.9 -9.8 -12.3 32.7 -10.0 -12.4 32.6 -10.1 -12.4 32.6 -10.1 -12.4 32.6 -10.1 -12.8 32.2 -10.5 -12.8 32.2 -10.5 -13.1 31.9 -10.8 -13.3 31.7 -11.0 -13.3 31.7 -11.0 -13.6 31.4 -11.3 -15.0 30.0 -12.7 -15.1 29.9 -12.8 -15.3 29.7 -13.0\"\n",
    "lis = lis.split()\n",
    "len(lis)"
   ]
  },
  {
   "cell_type": "code",
   "execution_count": 13,
   "metadata": {},
   "outputs": [
    {
     "name": "stdout",
     "output_type": "stream",
     "text": [
      "[58.1, 57.8, 56.7, 55.9, 55.7, 54.7, 54.4, 53.8, 53.4, 52.3, 52.5, 52.2, 52.0, 50.6, 50.5, 49.4, 49.0, 47.8, 47.5, 47.3, 46.3, 46.1, 45.2, 45.0, 45.2, 44.2, 44.2, 44.1, 43.3, 43.6, 42.4, 42.8, 42.2, 41.1, 40.7, 40.4, 40.6, 39.9, 39.0, 38.4, 38.6, 38.0, 38.2, 38.0, 37.5, 37.1, 37.7, 37.1, 36.4, 36.1, 36.1, 36.3, 35.9, 36.0, 35.9, 35.7, 35.5, 35.0, 34.7, 34.3, 34.3, 33.6, 33.5, 33.6, 33.5, 33.7, 33.3, 33.5, 33.2, 33.0, 33.0, 33.0, 32.7, 32.9, 32.7, 32.6, 32.6, 32.6, 32.2, 32.2, 31.9, 31.7, 31.7, 31.4, 30.0, 29.9, 29.7]\n"
     ]
    }
   ],
   "source": [
    "pka = [float(lis[x]) for x in range(1,261,3)]\n",
    "print(pka)"
   ]
  },
  {
   "cell_type": "code",
   "execution_count": 14,
   "metadata": {},
   "outputs": [],
   "source": [
    "import pandas as pd\n",
    "data = pd.read_csv('data_csvs/pKa_pH_Acidity_Scale_12-Dichloroethane.csv')"
   ]
  },
  {
   "cell_type": "code",
   "execution_count": 15,
   "metadata": {},
   "outputs": [],
   "source": [
    "data['pka'] = pka\n",
    "data.to_csv('data_csvs/pKa_pH_Acidity_Scale_12-Dichloroethane.csv')"
   ]
  },
  {
   "cell_type": "code",
   "execution_count": 16,
   "metadata": {},
   "outputs": [
    {
     "data": {
      "text/html": [
       "<div>\n",
       "<style scoped>\n",
       "    .dataframe tbody tr th:only-of-type {\n",
       "        vertical-align: middle;\n",
       "    }\n",
       "\n",
       "    .dataframe tbody tr th {\n",
       "        vertical-align: top;\n",
       "    }\n",
       "\n",
       "    .dataframe thead th {\n",
       "        text-align: right;\n",
       "    }\n",
       "</style>\n",
       "<table border=\"1\" class=\"dataframe\">\n",
       "  <thead>\n",
       "    <tr style=\"text-align: right;\">\n",
       "      <th></th>\n",
       "      <th>Unnamed: 0</th>\n",
       "      <th>Unnamed: 0.1</th>\n",
       "      <th>Solute</th>\n",
       "      <th>Solvent</th>\n",
       "      <th>pka</th>\n",
       "    </tr>\n",
       "  </thead>\n",
       "  <tbody>\n",
       "    <tr>\n",
       "      <th>0</th>\n",
       "      <td>0</td>\n",
       "      <td>0</td>\n",
       "      <td>9-COOMe-fluorene</td>\n",
       "      <td>DCE</td>\n",
       "      <td>58.1</td>\n",
       "    </tr>\n",
       "    <tr>\n",
       "      <th>1</th>\n",
       "      <td>1</td>\n",
       "      <td>1</td>\n",
       "      <td>(4-Me-C6F4)2CHCN</td>\n",
       "      <td>DCE</td>\n",
       "      <td>57.8</td>\n",
       "    </tr>\n",
       "    <tr>\n",
       "      <th>2</th>\n",
       "      <td>2</td>\n",
       "      <td>2</td>\n",
       "      <td>(4-Me-C6F4)(C6F5)CHCN</td>\n",
       "      <td>DCE</td>\n",
       "      <td>56.7</td>\n",
       "    </tr>\n",
       "    <tr>\n",
       "      <th>3</th>\n",
       "      <td>3</td>\n",
       "      <td>3</td>\n",
       "      <td>9-CN-fluorene</td>\n",
       "      <td>DCE</td>\n",
       "      <td>55.9</td>\n",
       "    </tr>\n",
       "    <tr>\n",
       "      <th>4</th>\n",
       "      <td>4</td>\n",
       "      <td>4</td>\n",
       "      <td>(4-H-C6F4)(C6F5)CHCN</td>\n",
       "      <td>DCE</td>\n",
       "      <td>55.7</td>\n",
       "    </tr>\n",
       "  </tbody>\n",
       "</table>\n",
       "</div>"
      ],
      "text/plain": [
       "   Unnamed: 0  Unnamed: 0.1                  Solute Solvent   pka\n",
       "0           0             0        9-COOMe-fluorene     DCE  58.1\n",
       "1           1             1        (4-Me-C6F4)2CHCN     DCE  57.8\n",
       "2           2             2   (4-Me-C6F4)(C6F5)CHCN     DCE  56.7\n",
       "3           3             3           9-CN-fluorene     DCE  55.9\n",
       "4           4             4    (4-H-C6F4)(C6F5)CHCN     DCE  55.7"
      ]
     },
     "execution_count": 16,
     "metadata": {},
     "output_type": "execute_result"
    }
   ],
   "source": [
    "data = pd.read_csv('data_csvs/pKa_pH_Acidity_Scale_12-Dichloroethane.csv')\n",
    "data.head()"
   ]
  },
  {
   "cell_type": "code",
   "execution_count": null,
   "metadata": {},
   "outputs": [],
   "source": []
  }
 ],
 "metadata": {
  "kernelspec": {
   "display_name": "Python 3",
   "language": "python",
   "name": "python3"
  },
  "language_info": {
   "codemirror_mode": {
    "name": "ipython",
    "version": 3
   },
   "file_extension": ".py",
   "mimetype": "text/x-python",
   "name": "python",
   "nbconvert_exporter": "python",
   "pygments_lexer": "ipython3",
   "version": "3.8.5"
  }
 },
 "nbformat": 4,
 "nbformat_minor": 4
}
