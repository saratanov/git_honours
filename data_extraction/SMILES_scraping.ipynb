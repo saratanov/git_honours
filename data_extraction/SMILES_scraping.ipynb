{
 "cells": [
  {
   "cell_type": "code",
   "execution_count": 1,
   "metadata": {},
   "outputs": [],
   "source": [
    "from selenium import webdriver\n",
    "from selenium.webdriver.common.action_chains import ActionChains\n",
    "import time\n",
    "import tqdm\n",
    "import pandas as pd"
   ]
  },
  {
   "cell_type": "code",
   "execution_count": 248,
   "metadata": {},
   "outputs": [],
   "source": [
    "browser = webdriver.Chrome()\n",
    "browser.get(\"https://pubchem.ncbi.nlm.nih.gov\")"
   ]
  },
  {
   "cell_type": "code",
   "execution_count": 201,
   "metadata": {},
   "outputs": [],
   "source": [
    "def SMILES_scraper(mol_list):\n",
    "    SMILES_list = []\n",
    "    for i,mol in enumerate(tqdm.tqdm(mol_list)):\n",
    "        try:\n",
    "            #search query\n",
    "            browser.get(\"https://pubchem.ncbi.nlm.nih.gov/#query=\"+mol)\n",
    "            time.sleep(5)\n",
    "            #press first entry\n",
    "            try:\n",
    "                first_result_button = browser.find_element_by_xpath(\"/html/body/div[1]/div/div/main/div[2]/div[1]/div/div[2]/div/div[1]/div[2]/div[1]/a\")\n",
    "            except:\n",
    "                try:\n",
    "                    first_result_button = browser.find_element_by_xpath(\"/html/body/div[1]/div/div/main/div[2]/div[2]/div[3]/div/div/div/div[2]/ul/li/div/div/div/div[2]/div[1]/a\")\n",
    "                except:\n",
    "                    first_result_button = browser.find_element_by_xpath(\"/html/body/div[1]/div/div/main/div[2]/div[2]/div[2]/div/div/div/div[2]/ul/li[1]/div/div/div[1]/div[2]/div[1]/a\")\n",
    "            first_result_button.click()\n",
    "            time.sleep(2)\n",
    "            #find SMILES string\n",
    "            SMILES_section = browser.find_element_by_id(\"Chemical-and-Physical-Properties\")\n",
    "            actions = ActionChains(browser)\n",
    "            actions.move_to_element(SMILES_section).perform()\n",
    "            time.sleep(7)\n",
    "            SMILES_string = browser.find_element_by_xpath(\"/html/body/div[1]/div/main/div[2]/div/div/div[5]/section[2]/section[1]/section[4]/div[2]/div[1]/p\")\n",
    "            SMILES_list.append(SMILES_string.text)\n",
    "            print(SMILES_string.text)\n",
    "        except:\n",
    "            SMILES_list.append('skip')\n",
    "    return SMILES_list"
   ]
  },
  {
   "cell_type": "code",
   "execution_count": 122,
   "metadata": {
    "collapsed": true,
    "jupyter": {
     "outputs_hidden": true
    },
    "tags": []
   },
   "outputs": [
    {
     "name": "stderr",
     "output_type": "stream",
     "text": [
      " 20%|██        | 1/5 [00:12<00:48, 12.11s/it]"
     ]
    },
    {
     "name": "stdout",
     "output_type": "stream",
     "text": [
      "Cl\n"
     ]
    },
    {
     "name": "stderr",
     "output_type": "stream",
     "text": [
      " 40%|████      | 2/5 [00:23<00:35, 11.89s/it]"
     ]
    },
    {
     "name": "stdout",
     "output_type": "stream",
     "text": [
      "Br\n"
     ]
    },
    {
     "name": "stderr",
     "output_type": "stream",
     "text": [
      " 60%|██████    | 3/5 [00:35<00:24, 12.08s/it]"
     ]
    },
    {
     "name": "stdout",
     "output_type": "stream",
     "text": [
      "I\n"
     ]
    },
    {
     "name": "stderr",
     "output_type": "stream",
     "text": [
      " 80%|████████  | 4/5 [00:47<00:11, 11.97s/it]"
     ]
    },
    {
     "name": "stdout",
     "output_type": "stream",
     "text": [
      "OCl(=O)(=O)=O\n"
     ]
    },
    {
     "name": "stderr",
     "output_type": "stream",
     "text": [
      "100%|██████████| 5/5 [00:59<00:00, 11.84s/it]"
     ]
    },
    {
     "name": "stdout",
     "output_type": "stream",
     "text": [
      "C(F)(F)(F)S(=O)(=O)O\n"
     ]
    },
    {
     "name": "stderr",
     "output_type": "stream",
     "text": [
      "\n"
     ]
    },
    {
     "data": {
      "text/plain": [
       "['Cl', 'Br', 'I', 'OCl(=O)(=O)=O', 'C(F)(F)(F)S(=O)(=O)O']"
      ]
     },
     "execution_count": 122,
     "metadata": {},
     "output_type": "execute_result"
    }
   ],
   "source": [
    "mol_list = [\"HCl\",\"HBr\",\"HI\",\"HClO4\",\"TfOH\"]\n",
    "SMILES_scraper(mol_list)"
   ]
  },
  {
   "cell_type": "code",
   "execution_count": 130,
   "metadata": {
    "collapsed": true,
    "jupyter": {
     "outputs_hidden": true,
     "source_hidden": true
    },
    "tags": []
   },
   "outputs": [
    {
     "ename": "NoSuchElementException",
     "evalue": "Message: no such element: Unable to locate element: {\"method\":\"xpath\",\"selector\":\"/html/body/div[1]/div/div/main/div[2]/div[1]/div/div[2]/div/div[1]/div[2]/div[1]/a\"}\n  (Session info: chrome=92.0.4515.159)\n",
     "output_type": "error",
     "traceback": [
      "\u001b[0;31m---------------------------------------------------------------------------\u001b[0m",
      "\u001b[0;31mNoSuchElementException\u001b[0m                    Traceback (most recent call last)",
      "\u001b[0;32m<ipython-input-130-4ac35a3140ae>\u001b[0m in \u001b[0;36m<module>\u001b[0;34m\u001b[0m\n\u001b[1;32m      4\u001b[0m \u001b[0;32mtry\u001b[0m\u001b[0;34m:\u001b[0m\u001b[0;34m\u001b[0m\u001b[0;34m\u001b[0m\u001b[0m\n\u001b[0;32m----> 5\u001b[0;31m     \u001b[0mfirst_result_button\u001b[0m \u001b[0;34m=\u001b[0m \u001b[0mbrowser\u001b[0m\u001b[0;34m.\u001b[0m\u001b[0mfind_element_by_xpath\u001b[0m\u001b[0;34m(\u001b[0m\u001b[0;34m\"/html/body/div[1]/div/div/main/div[2]/div[2]/div[2]/div/div/div/div[2]/ul/li[1]/div/div/div[1]/div[2]/div[1]/a\"\u001b[0m\u001b[0;34m)\u001b[0m\u001b[0;34m\u001b[0m\u001b[0;34m\u001b[0m\u001b[0m\n\u001b[0m\u001b[1;32m      6\u001b[0m \u001b[0;32mexcept\u001b[0m\u001b[0;34m:\u001b[0m\u001b[0;34m\u001b[0m\u001b[0;34m\u001b[0m\u001b[0m\n",
      "\u001b[0;32m~/opt/anaconda3/lib/python3.8/site-packages/selenium/webdriver/remote/webdriver.py\u001b[0m in \u001b[0;36mfind_element_by_xpath\u001b[0;34m(self, xpath)\u001b[0m\n\u001b[1;32m    393\u001b[0m         \"\"\"\n\u001b[0;32m--> 394\u001b[0;31m         \u001b[0;32mreturn\u001b[0m \u001b[0mself\u001b[0m\u001b[0;34m.\u001b[0m\u001b[0mfind_element\u001b[0m\u001b[0;34m(\u001b[0m\u001b[0mby\u001b[0m\u001b[0;34m=\u001b[0m\u001b[0mBy\u001b[0m\u001b[0;34m.\u001b[0m\u001b[0mXPATH\u001b[0m\u001b[0;34m,\u001b[0m \u001b[0mvalue\u001b[0m\u001b[0;34m=\u001b[0m\u001b[0mxpath\u001b[0m\u001b[0;34m)\u001b[0m\u001b[0;34m\u001b[0m\u001b[0;34m\u001b[0m\u001b[0m\n\u001b[0m\u001b[1;32m    395\u001b[0m \u001b[0;34m\u001b[0m\u001b[0m\n",
      "\u001b[0;32m~/opt/anaconda3/lib/python3.8/site-packages/selenium/webdriver/remote/webdriver.py\u001b[0m in \u001b[0;36mfind_element\u001b[0;34m(self, by, value)\u001b[0m\n\u001b[1;32m    975\u001b[0m                 \u001b[0mvalue\u001b[0m \u001b[0;34m=\u001b[0m \u001b[0;34m'[name=\"%s\"]'\u001b[0m \u001b[0;34m%\u001b[0m \u001b[0mvalue\u001b[0m\u001b[0;34m\u001b[0m\u001b[0;34m\u001b[0m\u001b[0m\n\u001b[0;32m--> 976\u001b[0;31m         return self.execute(Command.FIND_ELEMENT, {\n\u001b[0m\u001b[1;32m    977\u001b[0m             \u001b[0;34m'using'\u001b[0m\u001b[0;34m:\u001b[0m \u001b[0mby\u001b[0m\u001b[0;34m,\u001b[0m\u001b[0;34m\u001b[0m\u001b[0;34m\u001b[0m\u001b[0m\n",
      "\u001b[0;32m~/opt/anaconda3/lib/python3.8/site-packages/selenium/webdriver/remote/webdriver.py\u001b[0m in \u001b[0;36mexecute\u001b[0;34m(self, driver_command, params)\u001b[0m\n\u001b[1;32m    320\u001b[0m         \u001b[0;32mif\u001b[0m \u001b[0mresponse\u001b[0m\u001b[0;34m:\u001b[0m\u001b[0;34m\u001b[0m\u001b[0;34m\u001b[0m\u001b[0m\n\u001b[0;32m--> 321\u001b[0;31m             \u001b[0mself\u001b[0m\u001b[0;34m.\u001b[0m\u001b[0merror_handler\u001b[0m\u001b[0;34m.\u001b[0m\u001b[0mcheck_response\u001b[0m\u001b[0;34m(\u001b[0m\u001b[0mresponse\u001b[0m\u001b[0;34m)\u001b[0m\u001b[0;34m\u001b[0m\u001b[0;34m\u001b[0m\u001b[0m\n\u001b[0m\u001b[1;32m    322\u001b[0m             response['value'] = self._unwrap_value(\n",
      "\u001b[0;32m~/opt/anaconda3/lib/python3.8/site-packages/selenium/webdriver/remote/errorhandler.py\u001b[0m in \u001b[0;36mcheck_response\u001b[0;34m(self, response)\u001b[0m\n\u001b[1;32m    241\u001b[0m             \u001b[0;32mraise\u001b[0m \u001b[0mexception_class\u001b[0m\u001b[0;34m(\u001b[0m\u001b[0mmessage\u001b[0m\u001b[0;34m,\u001b[0m \u001b[0mscreen\u001b[0m\u001b[0;34m,\u001b[0m \u001b[0mstacktrace\u001b[0m\u001b[0;34m,\u001b[0m \u001b[0malert_text\u001b[0m\u001b[0;34m)\u001b[0m\u001b[0;34m\u001b[0m\u001b[0;34m\u001b[0m\u001b[0m\n\u001b[0;32m--> 242\u001b[0;31m         \u001b[0;32mraise\u001b[0m \u001b[0mexception_class\u001b[0m\u001b[0;34m(\u001b[0m\u001b[0mmessage\u001b[0m\u001b[0;34m,\u001b[0m \u001b[0mscreen\u001b[0m\u001b[0;34m,\u001b[0m \u001b[0mstacktrace\u001b[0m\u001b[0;34m)\u001b[0m\u001b[0;34m\u001b[0m\u001b[0;34m\u001b[0m\u001b[0m\n\u001b[0m\u001b[1;32m    243\u001b[0m \u001b[0;34m\u001b[0m\u001b[0m\n",
      "\u001b[0;31mNoSuchElementException\u001b[0m: Message: no such element: Unable to locate element: {\"method\":\"xpath\",\"selector\":\"/html/body/div[1]/div/div/main/div[2]/div[2]/div[2]/div/div/div/div[2]/ul/li[1]/div/div/div[1]/div[2]/div[1]/a\"}\n  (Session info: chrome=92.0.4515.159)\n",
      "\nDuring handling of the above exception, another exception occurred:\n",
      "\u001b[0;31mNoSuchElementException\u001b[0m                    Traceback (most recent call last)",
      "\u001b[0;32m<ipython-input-130-4ac35a3140ae>\u001b[0m in \u001b[0;36m<module>\u001b[0;34m\u001b[0m\n\u001b[1;32m      5\u001b[0m     \u001b[0mfirst_result_button\u001b[0m \u001b[0;34m=\u001b[0m \u001b[0mbrowser\u001b[0m\u001b[0;34m.\u001b[0m\u001b[0mfind_element_by_xpath\u001b[0m\u001b[0;34m(\u001b[0m\u001b[0;34m\"/html/body/div[1]/div/div/main/div[2]/div[2]/div[2]/div/div/div/div[2]/ul/li[1]/div/div/div[1]/div[2]/div[1]/a\"\u001b[0m\u001b[0;34m)\u001b[0m\u001b[0;34m\u001b[0m\u001b[0;34m\u001b[0m\u001b[0m\n\u001b[1;32m      6\u001b[0m \u001b[0;32mexcept\u001b[0m\u001b[0;34m:\u001b[0m\u001b[0;34m\u001b[0m\u001b[0;34m\u001b[0m\u001b[0m\n\u001b[0;32m----> 7\u001b[0;31m     \u001b[0mfirst_result_button\u001b[0m \u001b[0;34m=\u001b[0m \u001b[0mbrowser\u001b[0m\u001b[0;34m.\u001b[0m\u001b[0mfind_element_by_xpath\u001b[0m\u001b[0;34m(\u001b[0m\u001b[0;34m\"/html/body/div[1]/div/div/main/div[2]/div[1]/div/div[2]/div/div[1]/div[2]/div[1]/a\"\u001b[0m\u001b[0;34m)\u001b[0m\u001b[0;34m\u001b[0m\u001b[0;34m\u001b[0m\u001b[0m\n\u001b[0m\u001b[1;32m      8\u001b[0m \u001b[0mfirst_result_button\u001b[0m\u001b[0;34m.\u001b[0m\u001b[0mclick\u001b[0m\u001b[0;34m(\u001b[0m\u001b[0;34m)\u001b[0m\u001b[0;34m\u001b[0m\u001b[0;34m\u001b[0m\u001b[0m\n\u001b[1;32m      9\u001b[0m \u001b[0mtime\u001b[0m\u001b[0;34m.\u001b[0m\u001b[0msleep\u001b[0m\u001b[0;34m(\u001b[0m\u001b[0;36m2\u001b[0m\u001b[0;34m)\u001b[0m\u001b[0;34m\u001b[0m\u001b[0;34m\u001b[0m\u001b[0m\n",
      "\u001b[0;32m~/opt/anaconda3/lib/python3.8/site-packages/selenium/webdriver/remote/webdriver.py\u001b[0m in \u001b[0;36mfind_element_by_xpath\u001b[0;34m(self, xpath)\u001b[0m\n\u001b[1;32m    392\u001b[0m             \u001b[0melement\u001b[0m \u001b[0;34m=\u001b[0m \u001b[0mdriver\u001b[0m\u001b[0;34m.\u001b[0m\u001b[0mfind_element_by_xpath\u001b[0m\u001b[0;34m(\u001b[0m\u001b[0;34m'//div/td[1]'\u001b[0m\u001b[0;34m)\u001b[0m\u001b[0;34m\u001b[0m\u001b[0;34m\u001b[0m\u001b[0m\n\u001b[1;32m    393\u001b[0m         \"\"\"\n\u001b[0;32m--> 394\u001b[0;31m         \u001b[0;32mreturn\u001b[0m \u001b[0mself\u001b[0m\u001b[0;34m.\u001b[0m\u001b[0mfind_element\u001b[0m\u001b[0;34m(\u001b[0m\u001b[0mby\u001b[0m\u001b[0;34m=\u001b[0m\u001b[0mBy\u001b[0m\u001b[0;34m.\u001b[0m\u001b[0mXPATH\u001b[0m\u001b[0;34m,\u001b[0m \u001b[0mvalue\u001b[0m\u001b[0;34m=\u001b[0m\u001b[0mxpath\u001b[0m\u001b[0;34m)\u001b[0m\u001b[0;34m\u001b[0m\u001b[0;34m\u001b[0m\u001b[0m\n\u001b[0m\u001b[1;32m    395\u001b[0m \u001b[0;34m\u001b[0m\u001b[0m\n\u001b[1;32m    396\u001b[0m     \u001b[0;32mdef\u001b[0m \u001b[0mfind_elements_by_xpath\u001b[0m\u001b[0;34m(\u001b[0m\u001b[0mself\u001b[0m\u001b[0;34m,\u001b[0m \u001b[0mxpath\u001b[0m\u001b[0;34m)\u001b[0m\u001b[0;34m:\u001b[0m\u001b[0;34m\u001b[0m\u001b[0;34m\u001b[0m\u001b[0m\n",
      "\u001b[0;32m~/opt/anaconda3/lib/python3.8/site-packages/selenium/webdriver/remote/webdriver.py\u001b[0m in \u001b[0;36mfind_element\u001b[0;34m(self, by, value)\u001b[0m\n\u001b[1;32m    974\u001b[0m                 \u001b[0mby\u001b[0m \u001b[0;34m=\u001b[0m \u001b[0mBy\u001b[0m\u001b[0;34m.\u001b[0m\u001b[0mCSS_SELECTOR\u001b[0m\u001b[0;34m\u001b[0m\u001b[0;34m\u001b[0m\u001b[0m\n\u001b[1;32m    975\u001b[0m                 \u001b[0mvalue\u001b[0m \u001b[0;34m=\u001b[0m \u001b[0;34m'[name=\"%s\"]'\u001b[0m \u001b[0;34m%\u001b[0m \u001b[0mvalue\u001b[0m\u001b[0;34m\u001b[0m\u001b[0;34m\u001b[0m\u001b[0m\n\u001b[0;32m--> 976\u001b[0;31m         return self.execute(Command.FIND_ELEMENT, {\n\u001b[0m\u001b[1;32m    977\u001b[0m             \u001b[0;34m'using'\u001b[0m\u001b[0;34m:\u001b[0m \u001b[0mby\u001b[0m\u001b[0;34m,\u001b[0m\u001b[0;34m\u001b[0m\u001b[0;34m\u001b[0m\u001b[0m\n\u001b[1;32m    978\u001b[0m             'value': value})['value']\n",
      "\u001b[0;32m~/opt/anaconda3/lib/python3.8/site-packages/selenium/webdriver/remote/webdriver.py\u001b[0m in \u001b[0;36mexecute\u001b[0;34m(self, driver_command, params)\u001b[0m\n\u001b[1;32m    319\u001b[0m         \u001b[0mresponse\u001b[0m \u001b[0;34m=\u001b[0m \u001b[0mself\u001b[0m\u001b[0;34m.\u001b[0m\u001b[0mcommand_executor\u001b[0m\u001b[0;34m.\u001b[0m\u001b[0mexecute\u001b[0m\u001b[0;34m(\u001b[0m\u001b[0mdriver_command\u001b[0m\u001b[0;34m,\u001b[0m \u001b[0mparams\u001b[0m\u001b[0;34m)\u001b[0m\u001b[0;34m\u001b[0m\u001b[0;34m\u001b[0m\u001b[0m\n\u001b[1;32m    320\u001b[0m         \u001b[0;32mif\u001b[0m \u001b[0mresponse\u001b[0m\u001b[0;34m:\u001b[0m\u001b[0;34m\u001b[0m\u001b[0;34m\u001b[0m\u001b[0m\n\u001b[0;32m--> 321\u001b[0;31m             \u001b[0mself\u001b[0m\u001b[0;34m.\u001b[0m\u001b[0merror_handler\u001b[0m\u001b[0;34m.\u001b[0m\u001b[0mcheck_response\u001b[0m\u001b[0;34m(\u001b[0m\u001b[0mresponse\u001b[0m\u001b[0;34m)\u001b[0m\u001b[0;34m\u001b[0m\u001b[0;34m\u001b[0m\u001b[0m\n\u001b[0m\u001b[1;32m    322\u001b[0m             response['value'] = self._unwrap_value(\n\u001b[1;32m    323\u001b[0m                 response.get('value', None))\n",
      "\u001b[0;32m~/opt/anaconda3/lib/python3.8/site-packages/selenium/webdriver/remote/errorhandler.py\u001b[0m in \u001b[0;36mcheck_response\u001b[0;34m(self, response)\u001b[0m\n\u001b[1;32m    240\u001b[0m                 \u001b[0malert_text\u001b[0m \u001b[0;34m=\u001b[0m \u001b[0mvalue\u001b[0m\u001b[0;34m[\u001b[0m\u001b[0;34m'alert'\u001b[0m\u001b[0;34m]\u001b[0m\u001b[0;34m.\u001b[0m\u001b[0mget\u001b[0m\u001b[0;34m(\u001b[0m\u001b[0;34m'text'\u001b[0m\u001b[0;34m)\u001b[0m\u001b[0;34m\u001b[0m\u001b[0;34m\u001b[0m\u001b[0m\n\u001b[1;32m    241\u001b[0m             \u001b[0;32mraise\u001b[0m \u001b[0mexception_class\u001b[0m\u001b[0;34m(\u001b[0m\u001b[0mmessage\u001b[0m\u001b[0;34m,\u001b[0m \u001b[0mscreen\u001b[0m\u001b[0;34m,\u001b[0m \u001b[0mstacktrace\u001b[0m\u001b[0;34m,\u001b[0m \u001b[0malert_text\u001b[0m\u001b[0;34m)\u001b[0m\u001b[0;34m\u001b[0m\u001b[0;34m\u001b[0m\u001b[0m\n\u001b[0;32m--> 242\u001b[0;31m         \u001b[0;32mraise\u001b[0m \u001b[0mexception_class\u001b[0m\u001b[0;34m(\u001b[0m\u001b[0mmessage\u001b[0m\u001b[0;34m,\u001b[0m \u001b[0mscreen\u001b[0m\u001b[0;34m,\u001b[0m \u001b[0mstacktrace\u001b[0m\u001b[0;34m)\u001b[0m\u001b[0;34m\u001b[0m\u001b[0;34m\u001b[0m\u001b[0m\n\u001b[0m\u001b[1;32m    243\u001b[0m \u001b[0;34m\u001b[0m\u001b[0m\n\u001b[1;32m    244\u001b[0m     \u001b[0;32mdef\u001b[0m \u001b[0m_value_or_default\u001b[0m\u001b[0;34m(\u001b[0m\u001b[0mself\u001b[0m\u001b[0;34m,\u001b[0m \u001b[0mobj\u001b[0m\u001b[0;34m,\u001b[0m \u001b[0mkey\u001b[0m\u001b[0;34m,\u001b[0m \u001b[0mdefault\u001b[0m\u001b[0;34m)\u001b[0m\u001b[0;34m:\u001b[0m\u001b[0;34m\u001b[0m\u001b[0;34m\u001b[0m\u001b[0m\n",
      "\u001b[0;31mNoSuchElementException\u001b[0m: Message: no such element: Unable to locate element: {\"method\":\"xpath\",\"selector\":\"/html/body/div[1]/div/div/main/div[2]/div[1]/div/div[2]/div/div[1]/div[2]/div[1]/a\"}\n  (Session info: chrome=92.0.4515.159)\n"
     ]
    }
   ],
   "source": [
    "browser.get(\"https://pubchem.ncbi.nlm.nih.gov/#query=\"+\"HCl\")\n",
    "time.sleep(2)\n",
    "#press first entry\n",
    "try:\n",
    "    first_result_button = browser.find_element_by_xpath(\"/html/body/div[1]/div/div/main/div[2]/div[2]/div[2]/div/div/div/div[2]/ul/li[1]/div/div/div[1]/div[2]/div[1]/a\")\n",
    "except:\n",
    "    first_result_button = browser.find_element_by_xpath(\"/html/body/div[1]/div/div/main/div[2]/div[1]/div/div[2]/div/div[1]/div[2]/div[1]/a\")\n",
    "first_result_button.click()\n",
    "time.sleep(2)\n",
    "#find SMILES string\n",
    "SMILES_section = browser.find_element_by_id(\"Canonical-SMILES\")\n",
    "actions = ActionChains(browser)\n",
    "actions.move_to_element(SMILES_section).perform()\n",
    "time.sleep(3)\n",
    "SMILES_string = browser.find_element_by_xpath(\"/html/body/div[1]/div/main/div[2]/div/div/div[5]/section[2]/section[1]/section[4]/div[2]/div[1]/p\")\n",
    "SMILES_list.append(SMILES_string.text)"
   ]
  },
  {
   "cell_type": "code",
   "execution_count": 117,
   "metadata": {
    "jupyter": {
     "source_hidden": true
    },
    "tags": []
   },
   "outputs": [
    {
     "name": "stdout",
     "output_type": "stream",
     "text": [
      "Cl\n"
     ]
    }
   ],
   "source": [
    "SMILES_string = browser.find_element_by_xpath(\"/html/body/div[1]/div/main/div[2]/div/div/div[5]/section[2]/section[1]/section[4]/div[2]/div[1]/p\")\n",
    "SMILES_list.append(SMILES_string.text)\n",
    "print(SMILES_string.text)"
   ]
  },
  {
   "cell_type": "code",
   "execution_count": 137,
   "metadata": {},
   "outputs": [],
   "source": [
    "import pandas as pd\n",
    "data = pd.read_csv('data_csvs/pka_data.csv')"
   ]
  },
  {
   "cell_type": "code",
   "execution_count": 155,
   "metadata": {},
   "outputs": [
    {
     "name": "stdout",
     "output_type": "stream",
     "text": [
      "CCOC(=O)C(C#N)C1=C(C(=C(C(=C1F)F)F)F)F\n"
     ]
    }
   ],
   "source": [
    "SMILES_section = browser.find_element_by_id(\"Molecular-Formula\")\n",
    "actions = ActionChains(browser)\n",
    "actions.move_to_element(SMILES_section).perform()\n",
    "time.sleep(5)\n",
    "SMILES_string = browser.find_element_by_xpath(\"/html/body/div[1]/div/main/div[2]/div/div/div[5]/section[2]/section[1]/section[4]/div[2]/div[1]/p\")\n",
    "SMILES_list.append(SMILES_string.text)\n",
    "print(SMILES_string.text)"
   ]
  },
  {
   "cell_type": "code",
   "execution_count": 153,
   "metadata": {},
   "outputs": [
    {
     "name": "stdout",
     "output_type": "stream",
     "text": [
      "CCOC(=O)C(C#N)C1=C(C(=C(C(=C1F)F)F)F)F\n"
     ]
    }
   ],
   "source": [
    "SMILES_string = browser.find_element_by_xpath(\"/html/body/div[1]/div/main/div[2]/div/div/div[5]/section[2]/section[1]/section[4]/div[2]/div[1]/p\")\n",
    "print(SMILES_string.text)"
   ]
  },
  {
   "cell_type": "code",
   "execution_count": 247,
   "metadata": {
    "tags": []
   },
   "outputs": [
    {
     "name": "stdout",
     "output_type": "stream",
     "text": [
      "2340-87-6\n"
     ]
    }
   ],
   "source": [
    "molist = data['solute'].tolist()\n",
    "print(molist[0])"
   ]
  },
  {
   "cell_type": "code",
   "execution_count": 202,
   "metadata": {
    "collapsed": true,
    "jupyter": {
     "outputs_hidden": true
    },
    "tags": []
   },
   "outputs": [
    {
     "name": "stderr",
     "output_type": "stream",
     "text": [
      "  0%|          | 1/463 [00:17<2:18:03, 17.93s/it]"
     ]
    },
    {
     "name": "stdout",
     "output_type": "stream",
     "text": [
      "CCOC(=O)C(C#N)C1=C(C(=C(C(=C1F)F)F)F)F\n"
     ]
    },
    {
     "name": "stderr",
     "output_type": "stream",
     "text": [
      "  0%|          | 2/463 [00:34<2:15:00, 17.57s/it]"
     ]
    },
    {
     "name": "stdout",
     "output_type": "stream",
     "text": [
      "CCOC(=O)C(C#N)C1=C(C(=C(C(=C1F)F)C(F)(F)F)F)F\n"
     ]
    },
    {
     "name": "stderr",
     "output_type": "stream",
     "text": [
      "  1%|          | 3/463 [00:52<2:14:45, 17.58s/it]"
     ]
    },
    {
     "name": "stdout",
     "output_type": "stream",
     "text": [
      "CC1=CC=C(C=C1)C(C#N)C#N\n"
     ]
    },
    {
     "name": "stderr",
     "output_type": "stream",
     "text": [
      "  3%|▎         | 14/463 [01:59<1:04:27,  8.61s/it]"
     ]
    },
    {
     "name": "stdout",
     "output_type": "stream",
     "text": [
      "C(#N)C(C#N)C1=C(C(=C(C(=C1F)F)C(F)(F)F)F)F\n"
     ]
    },
    {
     "name": "stderr",
     "output_type": "stream",
     "text": [
      "  4%|▍         | 19/463 [02:37<1:06:55,  9.04s/it]"
     ]
    },
    {
     "name": "stdout",
     "output_type": "stream",
     "text": [
      "C(#N)C(C#N)C1=C(C2=C(C(=C1F)F)C(=C(C(=C2F)F)F)F)F\n"
     ]
    },
    {
     "name": "stderr",
     "output_type": "stream",
     "text": [
      "  6%|▌         | 27/463 [03:32<1:07:18,  9.26s/it]"
     ]
    },
    {
     "name": "stdout",
     "output_type": "stream",
     "text": [
      "C(#N)C(C#N)C1=C(C(=C(C(=C1F)F)F)F)F\n"
     ]
    },
    {
     "name": "stderr",
     "output_type": "stream",
     "text": [
      "  6%|▌         | 28/463 [03:48<1:22:08, 11.33s/it]"
     ]
    },
    {
     "name": "stdout",
     "output_type": "stream",
     "text": [
      "C1=CC(=CC(=C1)C(F)(F)F)C(C#N)C#N\n"
     ]
    },
    {
     "name": "stderr",
     "output_type": "stream",
     "text": [
      "  6%|▋         | 29/463 [04:04<1:32:49, 12.83s/it]"
     ]
    },
    {
     "name": "stdout",
     "output_type": "stream",
     "text": [
      "C1=CC(=CC=C1C(C#N)C#N)[N+](=O)[O-]\n"
     ]
    },
    {
     "name": "stderr",
     "output_type": "stream",
     "text": [
      "  6%|▋         | 30/463 [04:21<1:40:05, 13.87s/it]"
     ]
    },
    {
     "name": "stdout",
     "output_type": "stream",
     "text": [
      "C1=CC=C(C=C1)C(S(=O)(=O)C(F)(F)F)S(=O)(=O)C(F)(F)F\n"
     ]
    },
    {
     "name": "stderr",
     "output_type": "stream",
     "text": [
      "  7%|▋         | 31/463 [04:37<1:45:16, 14.62s/it]"
     ]
    },
    {
     "name": "stdout",
     "output_type": "stream",
     "text": [
      "CCOC(=O)C(C1=C(C(=C(C(=C1F)F)F)F)F)C(=O)OCC\n"
     ]
    },
    {
     "name": "stderr",
     "output_type": "stream",
     "text": [
      "  7%|▋         | 34/463 [05:05<1:25:09, 11.91s/it]"
     ]
    },
    {
     "name": "stdout",
     "output_type": "stream",
     "text": [
      "C1=CC=C2C3=C4C(C2=C1)C5=CC=CC=C5C4=CC=C3\n"
     ]
    },
    {
     "name": "stderr",
     "output_type": "stream",
     "text": [
      "  8%|▊         | 35/463 [05:22<1:35:48, 13.43s/it]"
     ]
    },
    {
     "name": "stdout",
     "output_type": "stream",
     "text": [
      "COC(=O)C1C2=CC=CC=C2C3=CC=CC=C13\n"
     ]
    },
    {
     "name": "stderr",
     "output_type": "stream",
     "text": [
      "  8%|▊         | 36/463 [05:38<1:42:05, 14.35s/it]"
     ]
    },
    {
     "name": "stdout",
     "output_type": "stream",
     "text": [
      "C1=CC=C2C(=C1)C(C3=CC=CC=C32)C#N\n"
     ]
    },
    {
     "name": "stderr",
     "output_type": "stream",
     "text": [
      "  8%|▊         | 37/463 [05:55<1:47:54, 15.20s/it]"
     ]
    },
    {
     "name": "stdout",
     "output_type": "stream",
     "text": [
      "C1(C2=C(C3=C1C(=C(C(=C3F)F)F)F)C(=C(C(=C2F)F)F)F)C4=C(C(=C(C(=C4F)F)F)F)F\n"
     ]
    },
    {
     "name": "stderr",
     "output_type": "stream",
     "text": [
      "  8%|▊         | 38/463 [06:12<1:50:01, 15.53s/it]"
     ]
    },
    {
     "name": "stdout",
     "output_type": "stream",
     "text": [
      "C1C2=C(C3=C1C(=C(C(=C3F)F)F)F)C(=C(C(=C2F)F)F)F\n"
     ]
    },
    {
     "name": "stderr",
     "output_type": "stream",
     "text": [
      "  8%|▊         | 39/463 [06:28<1:52:09, 15.87s/it]"
     ]
    },
    {
     "name": "stdout",
     "output_type": "stream",
     "text": [
      "C1=C(C=C(C(=C1Br)O)Br)Br\n"
     ]
    },
    {
     "name": "stderr",
     "output_type": "stream",
     "text": [
      "  9%|▊         | 40/463 [06:45<1:54:56, 16.30s/it]"
     ]
    },
    {
     "name": "stdout",
     "output_type": "stream",
     "text": [
      "C1(=C(NC(=C(C1=O)F)F)F)F\n"
     ]
    },
    {
     "name": "stderr",
     "output_type": "stream",
     "text": [
      "  9%|▉         | 41/463 [07:02<1:54:31, 16.28s/it]"
     ]
    },
    {
     "name": "stdout",
     "output_type": "stream",
     "text": [
      "C1(=C(C(=C(C(=C1F)F)O)F)F)C(F)(F)F\n"
     ]
    },
    {
     "name": "stderr",
     "output_type": "stream",
     "text": [
      "  9%|▉         | 42/463 [07:18<1:54:37, 16.33s/it]"
     ]
    },
    {
     "name": "stdout",
     "output_type": "stream",
     "text": [
      "C1(=C(C(=C(C(=C1F)F)O)F)F)C2=C(C(=C(C(=C2F)F)F)F)F\n"
     ]
    },
    {
     "name": "stderr",
     "output_type": "stream",
     "text": [
      "  9%|▉         | 43/463 [07:35<1:55:02, 16.43s/it]"
     ]
    },
    {
     "name": "stdout",
     "output_type": "stream",
     "text": [
      "C12=C(C(=C(C(=C1O)F)F)F)C(=C(C(=C2F)F)F)F\n"
     ]
    },
    {
     "name": "stderr",
     "output_type": "stream",
     "text": [
      " 10%|▉         | 45/463 [08:08<1:55:41, 16.61s/it]"
     ]
    },
    {
     "name": "stdout",
     "output_type": "stream",
     "text": [
      "C12=C(C(=C(C(=C1F)O)F)F)C(=C(C(=C2F)F)F)F\n"
     ]
    },
    {
     "name": "stderr",
     "output_type": "stream",
     "text": [
      " 10%|▉         | 46/463 [08:25<1:55:57, 16.68s/it]"
     ]
    },
    {
     "name": "stdout",
     "output_type": "stream",
     "text": [
      "C1=C(C(=C(C(=C1F)F)O)F)F\n"
     ]
    },
    {
     "name": "stderr",
     "output_type": "stream",
     "text": [
      " 10%|█         | 47/463 [08:42<1:55:12, 16.62s/it]"
     ]
    },
    {
     "name": "stdout",
     "output_type": "stream",
     "text": [
      "C1(=C(C(=C(C(=C1F)F)F)F)F)O\n"
     ]
    },
    {
     "name": "stderr",
     "output_type": "stream",
     "text": [
      " 11%|█         | 50/463 [09:19<1:35:59, 13.95s/it]"
     ]
    },
    {
     "name": "stdout",
     "output_type": "stream",
     "text": [
      "C1=CC=C(C(=C1)[N+](=O)[O-])O\n"
     ]
    },
    {
     "name": "stderr",
     "output_type": "stream",
     "text": [
      " 11%|█         | 51/463 [09:37<1:44:05, 15.16s/it]"
     ]
    },
    {
     "name": "stdout",
     "output_type": "stream",
     "text": [
      "C1=CC(=C(C=C1[N+](=O)[O-])[N+](=O)[O-])O\n"
     ]
    },
    {
     "name": "stderr",
     "output_type": "stream",
     "text": [
      " 11%|█         | 52/463 [09:53<1:45:57, 15.47s/it]"
     ]
    },
    {
     "name": "stdout",
     "output_type": "stream",
     "text": [
      "C1=C(C=C(C(=C1[N+](=O)[O-])O)[N+](=O)[O-])[N+](=O)[O-]\n"
     ]
    },
    {
     "name": "stderr",
     "output_type": "stream",
     "text": [
      " 12%|█▏        | 56/463 [10:34<1:23:40, 12.34s/it]"
     ]
    },
    {
     "name": "stdout",
     "output_type": "stream",
     "text": [
      "C1=CC=C(C=C1)C(=O)O\n"
     ]
    },
    {
     "name": "stderr",
     "output_type": "stream",
     "text": [
      " 12%|█▏        | 57/463 [10:51<1:33:03, 13.75s/it]"
     ]
    },
    {
     "name": "stdout",
     "output_type": "stream",
     "text": [
      "CC1=CC=C(C=C1)S(=O)(=O)O\n"
     ]
    },
    {
     "name": "stderr",
     "output_type": "stream",
     "text": [
      " 13%|█▎        | 58/463 [11:07<1:38:08, 14.54s/it]"
     ]
    },
    {
     "name": "stdout",
     "output_type": "stream",
     "text": [
      "C1=CC(=CC=C1[N+](=O)[O-])S(=O)(=O)O\n"
     ]
    },
    {
     "name": "stderr",
     "output_type": "stream",
     "text": [
      " 13%|█▎        | 59/463 [11:24<1:43:31, 15.37s/it]"
     ]
    },
    {
     "name": "stdout",
     "output_type": "stream",
     "text": [
      "C1=CC=C2C(=C1)C=CC=C2S(=O)(=O)O\n"
     ]
    },
    {
     "name": "stderr",
     "output_type": "stream",
     "text": [
      " 13%|█▎        | 60/463 [11:41<1:45:53, 15.77s/it]"
     ]
    },
    {
     "name": "stdout",
     "output_type": "stream",
     "text": [
      "C1=CC(=CC(=C1)S(=O)(=O)O)[N+](=O)[O-]\n"
     ]
    },
    {
     "name": "stderr",
     "output_type": "stream",
     "text": [
      " 13%|█▎        | 61/463 [11:57<1:46:52, 15.95s/it]"
     ]
    },
    {
     "name": "stdout",
     "output_type": "stream",
     "text": [
      "C1=CC(=CC=C1S(=O)(=O)O)Cl\n"
     ]
    },
    {
     "name": "stderr",
     "output_type": "stream",
     "text": [
      " 13%|█▎        | 62/463 [12:14<1:47:32, 16.09s/it]"
     ]
    },
    {
     "name": "stdout",
     "output_type": "stream",
     "text": [
      "CC1=CC=C(C=C1)C(=O)NS(=O)(=O)C(F)(F)F\n"
     ]
    },
    {
     "name": "stderr",
     "output_type": "stream",
     "text": [
      " 14%|█▍        | 64/463 [12:40<1:38:06, 14.75s/it]"
     ]
    },
    {
     "name": "stdout",
     "output_type": "stream",
     "text": [
      "C1=CC(=CC=C1C(=O)NS(=O)(=O)C(F)(F)F)[N+](=O)[O-]\n"
     ]
    },
    {
     "name": "stderr",
     "output_type": "stream",
     "text": [
      " 17%|█▋        | 78/463 [14:27<56:19,  8.78s/it]  "
     ]
    },
    {
     "name": "stdout",
     "output_type": "stream",
     "text": [
      "C1=CC=C(C=C1)S(=O)(=O)NS(=O)(=O)C2=CC=CC=C2\n"
     ]
    },
    {
     "name": "stderr",
     "output_type": "stream",
     "text": [
      " 17%|█▋        | 79/463 [14:44<1:12:28, 11.32s/it]"
     ]
    },
    {
     "name": "stdout",
     "output_type": "stream",
     "text": [
      "C1=CC(=CC=C1S(=O)(=O)NS(=O)(=O)C2=CC=C(C=C2)Cl)Cl\n"
     ]
    },
    {
     "name": "stderr",
     "output_type": "stream",
     "text": [
      " 17%|█▋        | 80/463 [15:01<1:23:31, 13.08s/it]"
     ]
    },
    {
     "name": "stdout",
     "output_type": "stream",
     "text": [
      "CC1=CC=C(C=C1)S(=O)(=O)NS(=O)(=O)C2=CC=C(C=C2)C\n"
     ]
    },
    {
     "name": "stderr",
     "output_type": "stream",
     "text": [
      " 19%|█▉        | 89/463 [15:59<54:45,  8.78s/it]  "
     ]
    },
    {
     "name": "stdout",
     "output_type": "stream",
     "text": [
      "C1=CC(=CC(=C1)S(=O)(=O)NS(=O)(=O)C2=CC=C(C=C2)Cl)[N+](=O)[O-]\n"
     ]
    },
    {
     "name": "stderr",
     "output_type": "stream",
     "text": [
      " 19%|█▉        | 90/463 [16:16<1:10:20, 11.32s/it]"
     ]
    },
    {
     "name": "stdout",
     "output_type": "stream",
     "text": [
      "C1=CC=C(C=C1)NC2=C(C(=NC(=C2F)F)F)F\n"
     ]
    },
    {
     "name": "stderr",
     "output_type": "stream",
     "text": [
      " 20%|██        | 94/463 [16:49<1:01:58, 10.08s/it]"
     ]
    },
    {
     "name": "stdout",
     "output_type": "stream",
     "text": [
      "C([N+](=O)[O-])([N+](=O)[O-])[N+](=O)[O-]\n"
     ]
    },
    {
     "name": "stderr",
     "output_type": "stream",
     "text": [
      " 21%|██        | 95/463 [17:06<1:13:52, 12.04s/it]"
     ]
    },
    {
     "name": "stdout",
     "output_type": "stream",
     "text": [
      "CC(C)(C)C(C1=CC=C(C=C1)[N+](=O)[O-])[N+](=O)[O-]\n"
     ]
    },
    {
     "name": "stderr",
     "output_type": "stream",
     "text": [
      " 22%|██▏       | 100/463 [17:42<56:45,  9.38s/it] "
     ]
    },
    {
     "name": "stdout",
     "output_type": "stream",
     "text": [
      "C1=CC=C2C(=C1)C(C3=CC=CC=C32)C#N\n"
     ]
    },
    {
     "name": "stderr",
     "output_type": "stream",
     "text": [
      " 22%|██▏       | 104/463 [18:14<56:23,  9.43s/it]"
     ]
    },
    {
     "name": "stdout",
     "output_type": "stream",
     "text": [
      "CC1=C(C(=C(C(=C1C#N)C#N)C#N)C#N)C#N\n"
     ]
    },
    {
     "name": "stderr",
     "output_type": "stream",
     "text": [
      " 23%|██▎       | 105/463 [18:31<1:08:56, 11.56s/it]"
     ]
    },
    {
     "name": "stdout",
     "output_type": "stream",
     "text": [
      "CC1=C(C=C(C=C1[N+](=O)[O-])[N+](=O)[O-])[N+](=O)[O-]\n"
     ]
    },
    {
     "name": "stderr",
     "output_type": "stream",
     "text": [
      " 23%|██▎       | 106/463 [18:47<1:18:17, 13.16s/it]"
     ]
    },
    {
     "name": "stdout",
     "output_type": "stream",
     "text": [
      "C1=CC(=CC=C1CC#N)[N+](=O)[O-]\n"
     ]
    },
    {
     "name": "stderr",
     "output_type": "stream",
     "text": [
      " 24%|██▍       | 110/463 [19:19<59:56, 10.19s/it]  "
     ]
    },
    {
     "name": "stdout",
     "output_type": "stream",
     "text": [
      "C1=CC(=CC=C1C(C#N)C2=CC=C(C=C2)[N+](=O)[O-])[N+](=O)[O-]\n"
     ]
    },
    {
     "name": "stderr",
     "output_type": "stream",
     "text": [
      " 24%|██▍       | 112/463 [19:41<1:04:20, 11.00s/it]"
     ]
    },
    {
     "name": "stdout",
     "output_type": "stream",
     "text": [
      "C1=CC(=CC=C1C[N+](=O)[O-])[N+](=O)[O-]\n"
     ]
    },
    {
     "name": "stderr",
     "output_type": "stream",
     "text": [
      " 24%|██▍       | 113/463 [19:58<1:14:37, 12.79s/it]"
     ]
    },
    {
     "name": "stdout",
     "output_type": "stream",
     "text": [
      "C1=CC=C(C(=C1)C(=O)O)C(=O)O\n"
     ]
    },
    {
     "name": "stderr",
     "output_type": "stream",
     "text": [
      " 25%|██▍       | 115/463 [20:20<1:11:40, 12.36s/it]"
     ]
    },
    {
     "name": "stdout",
     "output_type": "stream",
     "text": [
      "C1=CC(=C(C=C1C(F)(F)F)CO)C(F)(F)F\n"
     ]
    },
    {
     "name": "stderr",
     "output_type": "stream",
     "text": [
      " 25%|██▌       | 116/463 [20:36<1:18:55, 13.65s/it]"
     ]
    },
    {
     "name": "stdout",
     "output_type": "stream",
     "text": [
      "C(C(=O)O)C(=O)O\n"
     ]
    },
    {
     "name": "stderr",
     "output_type": "stream",
     "text": [
      " 25%|██▌       | 117/463 [20:53<1:24:21, 14.63s/it]"
     ]
    },
    {
     "name": "stdout",
     "output_type": "stream",
     "text": [
      "C1=CC=C(C=C1)C(C2=CC=CC=C2F)O\n"
     ]
    },
    {
     "name": "stderr",
     "output_type": "stream",
     "text": [
      " 26%|██▌       | 119/463 [21:15<1:15:49, 13.23s/it]"
     ]
    },
    {
     "name": "stdout",
     "output_type": "stream",
     "text": [
      "C(C(=O)O)(C(=O)O)O\n"
     ]
    },
    {
     "name": "stderr",
     "output_type": "stream",
     "text": [
      " 26%|██▌       | 120/463 [21:31<1:20:52, 14.15s/it]"
     ]
    },
    {
     "name": "stdout",
     "output_type": "stream",
     "text": [
      "C1=CC(=C(C(=C1)O)C(=O)O)O\n"
     ]
    },
    {
     "name": "stderr",
     "output_type": "stream",
     "text": [
      " 26%|██▌       | 121/463 [21:48<1:25:15, 14.96s/it]"
     ]
    },
    {
     "name": "stdout",
     "output_type": "stream",
     "text": [
      "[O-]Cl(=O)(=O)=O.[O-]Cl(=O)(=O)=O.[O-]Cl(=O)(=O)=O.[In+3]\n"
     ]
    },
    {
     "name": "stderr",
     "output_type": "stream",
     "text": [
      " 27%|██▋       | 123/463 [22:10<1:14:59, 13.23s/it]"
     ]
    },
    {
     "name": "stdout",
     "output_type": "stream",
     "text": [
      "C1(=C(C(=C2C(=C1S2)[N+](=O)[O-])[N+](=O)[O-])O)[N+](=O)[O-]\n"
     ]
    },
    {
     "name": "stderr",
     "output_type": "stream",
     "text": [
      " 27%|██▋       | 124/463 [22:26<1:20:34, 14.26s/it]"
     ]
    },
    {
     "name": "stdout",
     "output_type": "stream",
     "text": [
      "C1=CC=C(C(=C1)O)S\n"
     ]
    },
    {
     "name": "stderr",
     "output_type": "stream",
     "text": [
      " 27%|██▋       | 125/463 [22:43<1:23:46, 14.87s/it]"
     ]
    },
    {
     "name": "stdout",
     "output_type": "stream",
     "text": [
      "CC(CC([N+](=O)[O-])[N+](=O)[O-])([N+](=O)[O-])[N+](=O)[O-]\n"
     ]
    },
    {
     "name": "stderr",
     "output_type": "stream",
     "text": [
      " 27%|██▋       | 126/463 [22:59<1:25:58, 15.31s/it]"
     ]
    },
    {
     "name": "stdout",
     "output_type": "stream",
     "text": [
      "C1(=C(C(=C(C(=C1C(F)(F)F)C(F)(F)F)N)C(F)(F)F)C(F)(F)F)C(F)(F)F\n"
     ]
    },
    {
     "name": "stderr",
     "output_type": "stream",
     "text": [
      " 27%|██▋       | 127/463 [23:15<1:27:36, 15.64s/it]"
     ]
    },
    {
     "name": "stdout",
     "output_type": "stream",
     "text": [
      "C1=C(C=C2C(=C1[N+](=O)[O-])NC3=C(C=C(C=C3O2)[N+](=O)[O-])[N+](=O)[O-])[N+](=O)[O-]\n"
     ]
    },
    {
     "name": "stderr",
     "output_type": "stream",
     "text": [
      " 28%|██▊       | 128/463 [23:32<1:28:45, 15.90s/it]"
     ]
    },
    {
     "name": "stdout",
     "output_type": "stream",
     "text": [
      "C1=CC2=C(C=C1[N+](=O)[O-])OC3=CC(=CC(=C3N2)[N+](=O)[O-])[N+](=O)[O-]\n"
     ]
    },
    {
     "name": "stderr",
     "output_type": "stream",
     "text": [
      " 28%|██▊       | 130/463 [23:55<1:18:11, 14.09s/it]"
     ]
    },
    {
     "name": "stdout",
     "output_type": "stream",
     "text": [
      "C1=CC=C2C(=C1)NC3=C(C=C(C=C3O2)[N+](=O)[O-])[N+](=O)[O-]\n"
     ]
    },
    {
     "name": "stderr",
     "output_type": "stream",
     "text": [
      " 29%|██▊       | 133/463 [24:21<1:03:11, 11.49s/it]"
     ]
    },
    {
     "name": "stdout",
     "output_type": "stream",
     "text": [
      "C1=CC=C2C(=C1)N(C3=C(C=CC=C3O2)[N+](=O)[O-])C4=CC=CC=C4Br\n"
     ]
    },
    {
     "name": "stderr",
     "output_type": "stream",
     "text": [
      " 29%|██▉       | 135/463 [24:44<1:04:53, 11.87s/it]"
     ]
    },
    {
     "name": "stdout",
     "output_type": "stream",
     "text": [
      "C1=CC=C2C(=C1)NC3=C(O2)C=C(C=C3)[N+](=O)[O-]\n"
     ]
    },
    {
     "name": "stderr",
     "output_type": "stream",
     "text": [
      " 29%|██▉       | 136/463 [25:00<1:11:54, 13.19s/it]"
     ]
    },
    {
     "name": "stdout",
     "output_type": "stream",
     "text": [
      "C1=CC(=C(C=C1S(=O)(=O)N)Cl)Cl\n"
     ]
    },
    {
     "name": "stderr",
     "output_type": "stream",
     "text": [
      " 30%|██▉       | 137/463 [25:17<1:17:23, 14.24s/it]"
     ]
    },
    {
     "name": "stdout",
     "output_type": "stream",
     "text": [
      "CC1=CC=C(C=C1)S(=O)(=O)N\n"
     ]
    },
    {
     "name": "stderr",
     "output_type": "stream",
     "text": [
      " 30%|██▉       | 138/463 [25:34<1:21:36, 15.07s/it]"
     ]
    },
    {
     "name": "stdout",
     "output_type": "stream",
     "text": [
      "C1=CC=C(C=C1)S(=O)(=O)N\n"
     ]
    },
    {
     "name": "stderr",
     "output_type": "stream",
     "text": [
      " 30%|███       | 139/463 [25:50<1:23:39, 15.49s/it]"
     ]
    },
    {
     "name": "stdout",
     "output_type": "stream",
     "text": [
      "C#CCC1=C(C=CC=C1Cl)S(=O)(=O)N\n"
     ]
    },
    {
     "name": "stderr",
     "output_type": "stream",
     "text": [
      " 30%|███       | 141/463 [26:12<1:12:38, 13.54s/it]"
     ]
    },
    {
     "name": "stdout",
     "output_type": "stream",
     "text": [
      "CN(C)S(=O)(=O)C1=CC=CC(=C1)OC\n"
     ]
    },
    {
     "name": "stderr",
     "output_type": "stream",
     "text": [
      " 31%|███       | 142/463 [26:28<1:17:09, 14.42s/it]"
     ]
    },
    {
     "name": "stdout",
     "output_type": "stream",
     "text": [
      "C1=CC(=CC(=C1)S(=O)(=O)N)[N+](=O)[O-]\n"
     ]
    },
    {
     "name": "stderr",
     "output_type": "stream",
     "text": [
      " 31%|███       | 143/463 [26:45<1:20:00, 15.00s/it]"
     ]
    },
    {
     "name": "stdout",
     "output_type": "stream",
     "text": [
      "CC1=CC(=CC=C1)S(=O)(=O)N\n"
     ]
    },
    {
     "name": "stderr",
     "output_type": "stream",
     "text": [
      " 31%|███       | 144/463 [27:01<1:22:39, 15.55s/it]"
     ]
    },
    {
     "name": "stdout",
     "output_type": "stream",
     "text": [
      "C1=CC(=CC(=C1)S(=O)(=O)N)C(F)(F)F\n"
     ]
    },
    {
     "name": "stderr",
     "output_type": "stream",
     "text": [
      " 32%|███▏      | 147/463 [27:29<1:04:12, 12.19s/it]"
     ]
    },
    {
     "name": "stdout",
     "output_type": "stream",
     "text": [
      "C1=CC(=CC=C1F)S(=O)(=O)N\n"
     ]
    },
    {
     "name": "stderr",
     "output_type": "stream",
     "text": [
      " 32%|███▏      | 148/463 [27:47<1:13:47, 14.06s/it]"
     ]
    },
    {
     "name": "stdout",
     "output_type": "stream",
     "text": [
      "COC1=CC=C(C=C1)S(=O)(=O)N\n"
     ]
    },
    {
     "name": "stderr",
     "output_type": "stream",
     "text": [
      " 32%|███▏      | 149/463 [28:04<1:18:01, 14.91s/it]"
     ]
    },
    {
     "name": "stdout",
     "output_type": "stream",
     "text": [
      "C1=CC(=CC=C1[N+](=O)[O-])S(=O)(=O)N\n"
     ]
    },
    {
     "name": "stderr",
     "output_type": "stream",
     "text": [
      " 32%|███▏      | 150/463 [28:21<1:20:43, 15.48s/it]"
     ]
    },
    {
     "name": "stdout",
     "output_type": "stream",
     "text": [
      "C1=CC(=CC=C1C(=O)O)Br\n"
     ]
    },
    {
     "name": "stderr",
     "output_type": "stream",
     "text": [
      " 33%|███▎      | 151/463 [28:39<1:24:38, 16.28s/it]"
     ]
    },
    {
     "name": "stdout",
     "output_type": "stream",
     "text": [
      "C1=CC(=CC=C1C(=O)O)O\n"
     ]
    },
    {
     "name": "stderr",
     "output_type": "stream",
     "text": [
      " 33%|███▎      | 152/463 [28:56<1:25:14, 16.45s/it]"
     ]
    },
    {
     "name": "stdout",
     "output_type": "stream",
     "text": [
      "C(COC(=O)CCl)CBr\n"
     ]
    },
    {
     "name": "stderr",
     "output_type": "stream",
     "text": [
      " 33%|███▎      | 153/463 [29:12<1:24:40, 16.39s/it]"
     ]
    },
    {
     "name": "stdout",
     "output_type": "stream",
     "text": [
      "C(C#N)C(=O)O\n"
     ]
    },
    {
     "name": "stderr",
     "output_type": "stream",
     "text": [
      " 33%|███▎      | 154/463 [29:29<1:24:28, 16.40s/it]"
     ]
    },
    {
     "name": "stdout",
     "output_type": "stream",
     "text": [
      "B1(OC(C(O1)(C)C)(C)C)C2=C(C=CC(=C2)C(=O)OC)C\n"
     ]
    },
    {
     "name": "stderr",
     "output_type": "stream",
     "text": [
      " 33%|███▎      | 155/463 [29:45<1:24:17, 16.42s/it]"
     ]
    },
    {
     "name": "stdout",
     "output_type": "stream",
     "text": [
      "C1=NNC(=C1Br)C(=O)O\n"
     ]
    },
    {
     "name": "stderr",
     "output_type": "stream",
     "text": [
      " 34%|███▎      | 156/463 [30:04<1:28:35, 17.32s/it]"
     ]
    },
    {
     "name": "stdout",
     "output_type": "stream",
     "text": [
      "C(=O)(C(=O)O)O\n"
     ]
    },
    {
     "name": "stderr",
     "output_type": "stream",
     "text": [
      " 34%|███▍      | 157/463 [30:21<1:26:35, 16.98s/it]"
     ]
    },
    {
     "name": "stdout",
     "output_type": "stream",
     "text": [
      "CCCC1=CC=C(C=C1)Cl\n"
     ]
    },
    {
     "name": "stderr",
     "output_type": "stream",
     "text": [
      " 34%|███▍      | 158/463 [30:37<1:25:52, 16.89s/it]"
     ]
    },
    {
     "name": "stdout",
     "output_type": "stream",
     "text": [
      "C(OCF)F\n"
     ]
    },
    {
     "name": "stderr",
     "output_type": "stream",
     "text": [
      " 34%|███▍      | 159/463 [30:54<1:24:57, 16.77s/it]"
     ]
    },
    {
     "name": "stdout",
     "output_type": "stream",
     "text": [
      "C(=O)(C(F)(F)F)O\n"
     ]
    },
    {
     "name": "stderr",
     "output_type": "stream",
     "text": [
      " 35%|███▍      | 160/463 [31:10<1:24:05, 16.65s/it]"
     ]
    },
    {
     "name": "stdout",
     "output_type": "stream",
     "text": [
      "C1CCN(C1)CC2C(CCCN2)C3=CC=CC=C3\n"
     ]
    },
    {
     "name": "stderr",
     "output_type": "stream",
     "text": [
      " 35%|███▍      | 161/463 [31:27<1:24:32, 16.79s/it]"
     ]
    },
    {
     "name": "stdout",
     "output_type": "stream",
     "text": [
      "CC(C)(C)OC(=O)C1=CC=C(C=C1)C(=O)O\n"
     ]
    },
    {
     "name": "stderr",
     "output_type": "stream",
     "text": [
      " 35%|███▍      | 162/463 [31:45<1:25:20, 17.01s/it]"
     ]
    },
    {
     "name": "stdout",
     "output_type": "stream",
     "text": [
      "C1=CC2=C(C(=C1)C(=O)O)C(=CC=C2)C(=O)O\n"
     ]
    },
    {
     "name": "stderr",
     "output_type": "stream",
     "text": [
      " 35%|███▌      | 164/463 [32:10<1:15:11, 15.09s/it]"
     ]
    },
    {
     "name": "stdout",
     "output_type": "stream",
     "text": [
      "CC1=CC(=C(C(=C1)C)C(=O)O)C\n"
     ]
    },
    {
     "name": "stderr",
     "output_type": "stream",
     "text": [
      " 36%|███▌      | 166/463 [32:36<1:10:21, 14.21s/it]"
     ]
    },
    {
     "name": "stdout",
     "output_type": "stream",
     "text": [
      "C1=C(C(=CC(=C1Cl)[N+](=O)[O-])[N+](=O)[O-])C(=O)O\n"
     ]
    },
    {
     "name": "stderr",
     "output_type": "stream",
     "text": [
      " 36%|███▋      | 168/463 [32:57<1:03:29, 12.91s/it]"
     ]
    },
    {
     "name": "stdout",
     "output_type": "stream",
     "text": [
      "C1=CC(=C(C(=C1)Cl)C(=O)O)Cl\n"
     ]
    },
    {
     "name": "stderr",
     "output_type": "stream",
     "text": [
      " 37%|███▋      | 169/463 [33:15<1:09:50, 14.25s/it]"
     ]
    },
    {
     "name": "stdout",
     "output_type": "stream",
     "text": [
      "C1=CC(=C(C(=C1)[N+](=O)[O-])C(=O)O)[N+](=O)[O-]\n"
     ]
    },
    {
     "name": "stderr",
     "output_type": "stream",
     "text": [
      " 37%|███▋      | 171/463 [33:43<1:11:46, 14.75s/it]"
     ]
    },
    {
     "name": "stdout",
     "output_type": "stream",
     "text": [
      "CC(C)(C)OC(=O)N1CCN(CC1)C(C2=CC(=CC=C2)Cl)C(=O)O.Cl\n"
     ]
    },
    {
     "name": "stderr",
     "output_type": "stream",
     "text": [
      " 37%|███▋      | 173/463 [34:05<1:04:07, 13.27s/it]"
     ]
    },
    {
     "name": "stdout",
     "output_type": "stream",
     "text": [
      "C1=C(C=C(C(=C1C(=O)O)N)Cl)Cl\n"
     ]
    },
    {
     "name": "stderr",
     "output_type": "stream",
     "text": [
      " 38%|███▊      | 174/463 [34:22<1:08:32, 14.23s/it]"
     ]
    },
    {
     "name": "stdout",
     "output_type": "stream",
     "text": [
      "CC1=CC2=C(C=C1)N=CN=C2Cl\n"
     ]
    },
    {
     "name": "stderr",
     "output_type": "stream",
     "text": [
      " 38%|███▊      | 175/463 [34:38<1:11:35, 14.92s/it]"
     ]
    },
    {
     "name": "stdout",
     "output_type": "stream",
     "text": [
      "C1=CC(=CC(=C1)Br)C(=O)O\n"
     ]
    },
    {
     "name": "stderr",
     "output_type": "stream",
     "text": [
      " 38%|███▊      | 176/463 [34:54<1:13:14, 15.31s/it]"
     ]
    },
    {
     "name": "stdout",
     "output_type": "stream",
     "text": [
      "CCN1C(=NC(=C1I)[N+](=O)[O-])C\n"
     ]
    },
    {
     "name": "stderr",
     "output_type": "stream",
     "text": [
      " 38%|███▊      | 177/463 [35:11<1:14:36, 15.65s/it]"
     ]
    },
    {
     "name": "stdout",
     "output_type": "stream",
     "text": [
      "CCN1C(=NC(=C1I)[N+](=O)[O-])C\n"
     ]
    },
    {
     "name": "stderr",
     "output_type": "stream",
     "text": [
      " 39%|███▊      | 179/463 [35:45<1:17:08, 16.30s/it]"
     ]
    },
    {
     "name": "stdout",
     "output_type": "stream",
     "text": [
      "C1=CC(=CC=C1C(=O)O)[N+](=O)[O-]\n"
     ]
    },
    {
     "name": "stderr",
     "output_type": "stream",
     "text": [
      " 39%|███▉      | 180/463 [36:01<1:16:50, 16.29s/it]"
     ]
    },
    {
     "name": "stdout",
     "output_type": "stream",
     "text": [
      "CC12CCC3C(C1CC(C2O)O)CCC4=CC(=C(C=C34)O)O\n"
     ]
    },
    {
     "name": "stderr",
     "output_type": "stream",
     "text": [
      " 39%|███▉      | 181/463 [36:17<1:16:27, 16.27s/it]"
     ]
    },
    {
     "name": "stdout",
     "output_type": "stream",
     "text": [
      "CCCCCCCCCCCCCCSC(=NC)NC.I\n"
     ]
    },
    {
     "name": "stderr",
     "output_type": "stream",
     "text": [
      " 40%|███▉      | 183/463 [36:43<1:08:54, 14.77s/it]"
     ]
    },
    {
     "name": "stdout",
     "output_type": "stream",
     "text": [
      "CC1=C(N(C=N1)C(=O)OC(C)(C)C)C(C(=O)O)O\n"
     ]
    },
    {
     "name": "stderr",
     "output_type": "stream",
     "text": [
      " 40%|████      | 186/463 [37:14<57:32, 12.46s/it]  "
     ]
    },
    {
     "name": "stdout",
     "output_type": "stream",
     "text": [
      "CCCCC=C(CC(C(=O)O)N)C(=O)O\n"
     ]
    },
    {
     "name": "stderr",
     "output_type": "stream",
     "text": [
      " 40%|████      | 187/463 [37:30<1:02:48, 13.65s/it]"
     ]
    },
    {
     "name": "stdout",
     "output_type": "stream",
     "text": [
      "CC1=CC=CC=C1C(=O)OC(=O)C(C(C(=O)OC(=O)C2=CC=CC=C2C)O)O\n"
     ]
    },
    {
     "name": "stderr",
     "output_type": "stream",
     "text": [
      " 41%|████      | 188/463 [37:47<1:06:40, 14.55s/it]"
     ]
    },
    {
     "name": "stdout",
     "output_type": "stream",
     "text": [
      "[N+](=O)([O-])[O-].[N+](=O)([O-])[O-].[N+](=O)([O-])[O-].[Tb+3]\n"
     ]
    },
    {
     "name": "stderr",
     "output_type": "stream",
     "text": [
      " 60%|██████    | 278/463 [57:58<38:20, 12.44s/it]  "
     ]
    },
    {
     "name": "stdout",
     "output_type": "stream",
     "text": [
      "C1=CC=C2C(=C1)C(=O)NS2(=O)=O\n"
     ]
    },
    {
     "name": "stderr",
     "output_type": "stream",
     "text": [
      " 60%|██████    | 280/463 [58:20<37:05, 12.16s/it]"
     ]
    },
    {
     "name": "stdout",
     "output_type": "stream",
     "text": [
      "Cl\n"
     ]
    },
    {
     "name": "stderr",
     "output_type": "stream",
     "text": [
      " 61%|██████    | 281/463 [58:35<40:19, 13.30s/it]"
     ]
    },
    {
     "name": "stdout",
     "output_type": "stream",
     "text": [
      "Br\n"
     ]
    },
    {
     "name": "stderr",
     "output_type": "stream",
     "text": [
      " 61%|██████    | 282/463 [58:51<42:33, 14.11s/it]"
     ]
    },
    {
     "name": "stdout",
     "output_type": "stream",
     "text": [
      "I\n"
     ]
    },
    {
     "name": "stderr",
     "output_type": "stream",
     "text": [
      " 61%|██████    | 283/463 [59:08<44:13, 14.74s/it]"
     ]
    },
    {
     "name": "stdout",
     "output_type": "stream",
     "text": [
      "OCl(=O)(=O)=O\n"
     ]
    },
    {
     "name": "stderr",
     "output_type": "stream",
     "text": [
      " 61%|██████▏   | 284/463 [59:24<45:01, 15.09s/it]"
     ]
    },
    {
     "name": "stdout",
     "output_type": "stream",
     "text": [
      "C(F)(F)(F)S(=O)(=O)O\n"
     ]
    },
    {
     "name": "stderr",
     "output_type": "stream",
     "text": [
      " 62%|██████▏   | 285/463 [59:41<46:25, 15.65s/it]"
     ]
    },
    {
     "name": "stdout",
     "output_type": "stream",
     "text": [
      "CC(=O)O\n"
     ]
    },
    {
     "name": "stderr",
     "output_type": "stream",
     "text": [
      " 62%|██████▏   | 286/463 [59:57<47:11, 16.00s/it]"
     ]
    },
    {
     "name": "stdout",
     "output_type": "stream",
     "text": [
      "C1=CC=C(C=C1)C(=O)O\n"
     ]
    },
    {
     "name": "stderr",
     "output_type": "stream",
     "text": [
      " 62%|██████▏   | 288/463 [1:00:22<42:03, 14.42s/it]"
     ]
    },
    {
     "name": "stdout",
     "output_type": "stream",
     "text": [
      "[H-].CC(C)(C)S(=O)CCS(=O)C(C)(C)C.CC(C)(C1=CC=CC=N1)[O-].[Cl-].[Ir+3]\n"
     ]
    },
    {
     "name": "stderr",
     "output_type": "stream",
     "text": [
      " 63%|██████▎   | 291/463 [1:00:49<33:22, 11.64s/it]"
     ]
    },
    {
     "name": "stdout",
     "output_type": "stream",
     "text": [
      "C1=C(C=C(C(=C1[N+](=O)[O-])O)[N+](=O)[O-])[N+](=O)[O-]\n"
     ]
    },
    {
     "name": "stderr",
     "output_type": "stream",
     "text": [
      " 63%|██████▎   | 293/463 [1:01:10<32:33, 11.49s/it]"
     ]
    },
    {
     "name": "stdout",
     "output_type": "stream",
     "text": [
      "OCl(=O)(=O)=O\n"
     ]
    },
    {
     "name": "stderr",
     "output_type": "stream",
     "text": [
      " 63%|██████▎   | 294/463 [1:01:25<35:56, 12.76s/it]"
     ]
    },
    {
     "name": "stdout",
     "output_type": "stream",
     "text": [
      "C(F)(F)(F)S(=O)(=O)O\n"
     ]
    },
    {
     "name": "stderr",
     "output_type": "stream",
     "text": [
      " 64%|██████▎   | 295/463 [1:01:43<39:32, 14.12s/it]"
     ]
    },
    {
     "name": "stdout",
     "output_type": "stream",
     "text": [
      "CC(=O)O\n"
     ]
    },
    {
     "name": "stderr",
     "output_type": "stream",
     "text": [
      " 64%|██████▍   | 296/463 [1:02:00<41:37, 14.96s/it]"
     ]
    },
    {
     "name": "stdout",
     "output_type": "stream",
     "text": [
      "C1=CC=C(C=C1)C(=O)O\n"
     ]
    },
    {
     "name": "stderr",
     "output_type": "stream",
     "text": [
      " 64%|██████▍   | 298/463 [1:02:24<38:01, 13.83s/it]"
     ]
    },
    {
     "name": "stdout",
     "output_type": "stream",
     "text": [
      "[H-].CC(C)(C)S(=O)CCS(=O)C(C)(C)C.CC(C)(C1=CC=CC=N1)[O-].[Cl-].[Ir+3]\n"
     ]
    },
    {
     "name": "stderr",
     "output_type": "stream",
     "text": [
      " 65%|██████▍   | 299/463 [1:02:40<39:28, 14.44s/it]"
     ]
    },
    {
     "name": "stdout",
     "output_type": "stream",
     "text": [
      "C1CCC2=[N+](CC1)CCCN2.C(=O)[O-]\n"
     ]
    },
    {
     "name": "stderr",
     "output_type": "stream",
     "text": [
      " 68%|██████▊   | 314/463 [1:04:07<20:25,  8.22s/it]"
     ]
    },
    {
     "name": "stdout",
     "output_type": "stream",
     "text": [
      "C1=CC2=C(C3=C(C=C2)C=CC4=C3N=CC=C4)N=C1\n"
     ]
    },
    {
     "name": "stderr",
     "output_type": "stream",
     "text": [
      " 69%|██████▊   | 318/463 [1:04:38<21:48,  9.02s/it]"
     ]
    },
    {
     "name": "stdout",
     "output_type": "stream",
     "text": [
      "C1=CN=CN1\n"
     ]
    },
    {
     "name": "stderr",
     "output_type": "stream",
     "text": [
      " 70%|██████▉   | 324/463 [1:05:21<20:40,  8.92s/it]"
     ]
    },
    {
     "name": "stdout",
     "output_type": "stream",
     "text": [
      "C1=CC2=C(C3=C(C=CC=N3)C=C2)N=C1\n"
     ]
    },
    {
     "name": "stderr",
     "output_type": "stream",
     "text": [
      " 70%|███████   | 325/463 [1:05:38<25:42, 11.18s/it]"
     ]
    },
    {
     "name": "stdout",
     "output_type": "stream",
     "text": [
      "C1=CC=C2C(=C1)NC=N2\n"
     ]
    },
    {
     "name": "stderr",
     "output_type": "stream",
     "text": [
      " 71%|███████   | 327/463 [1:05:59<25:56, 11.44s/it]"
     ]
    },
    {
     "name": "stdout",
     "output_type": "stream",
     "text": [
      "C1=CC=C2C=NC=CC2=C1\n"
     ]
    },
    {
     "name": "stderr",
     "output_type": "stream",
     "text": [
      " 71%|███████   | 328/463 [1:06:16<29:30, 13.12s/it]"
     ]
    },
    {
     "name": "stdout",
     "output_type": "stream",
     "text": [
      "C1=CC=C2C(=C1)C=C3C=CC=CC3=N2\n"
     ]
    },
    {
     "name": "stderr",
     "output_type": "stream",
     "text": [
      " 71%|███████▏  | 330/463 [1:06:50<33:00, 14.89s/it]"
     ]
    },
    {
     "name": "stdout",
     "output_type": "stream",
     "text": [
      "C1=CC=C2C(=C1)NC(=N2)C3=CSC=N3\n"
     ]
    },
    {
     "name": "stderr",
     "output_type": "stream",
     "text": [
      " 72%|███████▏  | 334/463 [1:07:49<33:24, 15.54s/it]"
     ]
    },
    {
     "name": "stdout",
     "output_type": "stream",
     "text": [
      "C1=CC=C2C(=C1)C=CC3=C2C=CC=N3\n"
     ]
    },
    {
     "name": "stderr",
     "output_type": "stream",
     "text": [
      " 73%|███████▎  | 337/463 [1:08:16<25:36, 12.19s/it]"
     ]
    },
    {
     "name": "stdout",
     "output_type": "stream",
     "text": [
      "C1=CC=C2C=NN=CC2=C1\n"
     ]
    },
    {
     "name": "stderr",
     "output_type": "stream",
     "text": [
      " 74%|███████▍  | 342/463 [1:09:05<23:10, 11.50s/it]"
     ]
    },
    {
     "name": "stdout",
     "output_type": "stream",
     "text": [
      "C1=CC=C2C(=C1)C=CN=N2\n"
     ]
    },
    {
     "name": "stderr",
     "output_type": "stream",
     "text": [
      " 74%|███████▍  | 344/463 [1:09:27<23:16, 11.74s/it]"
     ]
    },
    {
     "name": "stdout",
     "output_type": "stream",
     "text": [
      "C1=CC=NN=C1\n"
     ]
    },
    {
     "name": "stderr",
     "output_type": "stream",
     "text": [
      " 75%|███████▍  | 346/463 [1:09:49<23:07, 11.86s/it]"
     ]
    },
    {
     "name": "stdout",
     "output_type": "stream",
     "text": [
      "CC(=O)C.[C-]#[O+].C1=CC=C(C=C1)P(C2=CC=CC=C2)C3=CC=CC=C3.C1=CC=C2C(=C1)C=CC=C2[N+](=N[O-])[O-].[Rh]\n"
     ]
    },
    {
     "name": "stderr",
     "output_type": "stream",
     "text": [
      " 75%|███████▌  | 349/463 [1:10:16<20:51, 10.97s/it]"
     ]
    },
    {
     "name": "stdout",
     "output_type": "stream",
     "text": [
      "C1=CC=C2C(=C1)C=NC=N2\n"
     ]
    },
    {
     "name": "stderr",
     "output_type": "stream",
     "text": [
      " 76%|███████▌  | 350/463 [1:10:32<23:37, 12.55s/it]"
     ]
    },
    {
     "name": "stdout",
     "output_type": "stream",
     "text": [
      "C1=CNN=C1\n"
     ]
    },
    {
     "name": "stderr",
     "output_type": "stream",
     "text": [
      " 76%|███████▌  | 351/463 [1:10:50<26:22, 14.13s/it]"
     ]
    },
    {
     "name": "stdout",
     "output_type": "stream",
     "text": [
      "C1=CN=CN=C1\n"
     ]
    },
    {
     "name": "stderr",
     "output_type": "stream",
     "text": [
      " 76%|███████▋  | 354/463 [1:11:18<21:17, 11.72s/it]"
     ]
    },
    {
     "name": "stdout",
     "output_type": "stream",
     "text": [
      "C1=NNN=C1\n"
     ]
    },
    {
     "name": "stderr",
     "output_type": "stream",
     "text": [
      " 77%|███████▋  | 356/463 [1:11:39<20:46, 11.65s/it]"
     ]
    },
    {
     "name": "stdout",
     "output_type": "stream",
     "text": [
      "C1=CN=CC=N1\n"
     ]
    },
    {
     "name": "stderr",
     "output_type": "stream",
     "text": [
      " 78%|███████▊  | 359/463 [1:12:06<18:43, 10.80s/it]"
     ]
    },
    {
     "name": "stdout",
     "output_type": "stream",
     "text": [
      "C1=CC=C2C(=C1)C=NN2\n"
     ]
    },
    {
     "name": "stderr",
     "output_type": "stream",
     "text": [
      " 78%|███████▊  | 361/463 [1:12:40<23:47, 14.00s/it]"
     ]
    },
    {
     "name": "stdout",
     "output_type": "stream",
     "text": [
      "C1=CC=C2C(=C1)N=CC=N2\n"
     ]
    },
    {
     "name": "stderr",
     "output_type": "stream",
     "text": [
      " 78%|███████▊  | 362/463 [1:12:58<25:18, 15.04s/it]"
     ]
    },
    {
     "name": "stdout",
     "output_type": "stream",
     "text": [
      "C1=CC2=NNN=C2C=C1\n"
     ]
    },
    {
     "name": "stderr",
     "output_type": "stream",
     "text": [
      " 78%|███████▊  | 363/463 [1:13:14<25:54, 15.54s/it]"
     ]
    },
    {
     "name": "stdout",
     "output_type": "stream",
     "text": [
      "C1CN(C(=N1)NC#N)CC2=CN=C(C=C2)Cl\n"
     ]
    },
    {
     "name": "stderr",
     "output_type": "stream",
     "text": [
      " 79%|███████▉  | 368/463 [1:13:52<16:09, 10.20s/it]"
     ]
    },
    {
     "name": "stdout",
     "output_type": "stream",
     "text": [
      "C1=CC=C(C=C1)OCCCN2C=CN=C2[N+](=O)[O-]\n"
     ]
    },
    {
     "name": "stderr",
     "output_type": "stream",
     "text": [
      " 81%|████████  | 375/463 [1:14:39<12:58,  8.85s/it]"
     ]
    },
    {
     "name": "stdout",
     "output_type": "stream",
     "text": [
      "C1=CNC(=O)NC1=O\n"
     ]
    },
    {
     "name": "stderr",
     "output_type": "stream",
     "text": [
      " 81%|████████  | 376/463 [1:14:55<16:02, 11.06s/it]"
     ]
    },
    {
     "name": "stdout",
     "output_type": "stream",
     "text": [
      "CC1=CNC(=O)NC1=O\n"
     ]
    },
    {
     "name": "stderr",
     "output_type": "stream",
     "text": [
      " 82%|████████▏ | 378/463 [1:15:16<16:02, 11.33s/it]"
     ]
    },
    {
     "name": "stdout",
     "output_type": "stream",
     "text": [
      "C1=CC2=C(C3=C(C=C2)C=CC4=C3N=CC=C4)N=C1\n"
     ]
    },
    {
     "name": "stderr",
     "output_type": "stream",
     "text": [
      " 82%|████████▏ | 379/463 [1:15:34<18:21, 13.11s/it]"
     ]
    },
    {
     "name": "stdout",
     "output_type": "stream",
     "text": [
      "C1=CN=CN1\n"
     ]
    },
    {
     "name": "stderr",
     "output_type": "stream",
     "text": [
      " 82%|████████▏ | 380/463 [1:15:49<19:12, 13.88s/it]"
     ]
    },
    {
     "name": "stdout",
     "output_type": "stream",
     "text": [
      "C1=CC2=C(C3=C(C=CC=N3)C=C2)N=C1\n"
     ]
    },
    {
     "name": "stderr",
     "output_type": "stream",
     "text": [
      " 82%|████████▏ | 381/463 [1:16:05<19:48, 14.50s/it]"
     ]
    },
    {
     "name": "stdout",
     "output_type": "stream",
     "text": [
      "C1=CC=C2C(=C1)NC=N2\n"
     ]
    },
    {
     "name": "stderr",
     "output_type": "stream",
     "text": [
      " 83%|████████▎ | 382/463 [1:16:21<20:13, 14.98s/it]"
     ]
    },
    {
     "name": "stdout",
     "output_type": "stream",
     "text": [
      "C1=CC=C2C=NC=CC2=C1\n"
     ]
    },
    {
     "name": "stderr",
     "output_type": "stream",
     "text": [
      " 83%|████████▎ | 383/463 [1:16:38<20:25, 15.32s/it]"
     ]
    },
    {
     "name": "stdout",
     "output_type": "stream",
     "text": [
      "C1=CC=C2C(=C1)C=C3C=CC=CC3=N2\n"
     ]
    },
    {
     "name": "stderr",
     "output_type": "stream",
     "text": [
      " 83%|████████▎ | 384/463 [1:16:55<21:08, 16.05s/it]"
     ]
    },
    {
     "name": "stdout",
     "output_type": "stream",
     "text": [
      "C1=CC=NC=C1\n"
     ]
    },
    {
     "name": "stderr",
     "output_type": "stream",
     "text": [
      " 83%|████████▎ | 385/463 [1:17:12<21:01, 16.17s/it]"
     ]
    },
    {
     "name": "stdout",
     "output_type": "stream",
     "text": [
      "C1=CC=C2C(=C1)NC(=N2)C3=CSC=N3\n"
     ]
    },
    {
     "name": "stderr",
     "output_type": "stream",
     "text": [
      " 84%|████████▎ | 387/463 [1:17:37<18:33, 14.65s/it]"
     ]
    },
    {
     "name": "stdout",
     "output_type": "stream",
     "text": [
      "COC(=O)NC1=NC2=CC=CC=C2N1\n"
     ]
    },
    {
     "name": "stderr",
     "output_type": "stream",
     "text": [
      " 84%|████████▍ | 388/463 [1:17:54<19:04, 15.26s/it]"
     ]
    },
    {
     "name": "stdout",
     "output_type": "stream",
     "text": [
      "C1=CC=C2C(=C1)C=CC=N2\n"
     ]
    },
    {
     "name": "stderr",
     "output_type": "stream",
     "text": [
      "100%|██████████| 463/463 [1:27:59<00:00, 11.40s/it]\n"
     ]
    }
   ],
   "source": [
    "smiles = SMILES_scraper(molist)"
   ]
  },
  {
   "cell_type": "code",
   "execution_count": 300,
   "metadata": {},
   "outputs": [],
   "source": [
    "data['solute SMILES'] = smiles"
   ]
  },
  {
   "cell_type": "code",
   "execution_count": 230,
   "metadata": {},
   "outputs": [
    {
     "data": {
      "text/html": [
       "<div>\n",
       "<style scoped>\n",
       "    .dataframe tbody tr th:only-of-type {\n",
       "        vertical-align: middle;\n",
       "    }\n",
       "\n",
       "    .dataframe tbody tr th {\n",
       "        vertical-align: top;\n",
       "    }\n",
       "\n",
       "    .dataframe thead th {\n",
       "        text-align: right;\n",
       "    }\n",
       "</style>\n",
       "<table border=\"1\" class=\"dataframe\">\n",
       "  <thead>\n",
       "    <tr style=\"text-align: right;\">\n",
       "      <th></th>\n",
       "      <th>Unnamed: 0</th>\n",
       "      <th>solute</th>\n",
       "      <th>solute SMILES</th>\n",
       "      <th>solvent</th>\n",
       "      <th>solvent SMILES</th>\n",
       "      <th>pka</th>\n",
       "      <th>ref</th>\n",
       "    </tr>\n",
       "  </thead>\n",
       "  <tbody>\n",
       "    <tr>\n",
       "      <th>0</th>\n",
       "      <td>0</td>\n",
       "      <td>2340-87-6</td>\n",
       "      <td>CCOC(=O)C(C#N)C1=C(C(=C(C(=C1F)F)F)F)F</td>\n",
       "      <td>acetonitrile</td>\n",
       "      <td>CC#N</td>\n",
       "      <td>17.75</td>\n",
       "      <td>MeCN_Acids_COSMO-RS_2008_Table.pdf</td>\n",
       "    </tr>\n",
       "    <tr>\n",
       "      <th>1</th>\n",
       "      <td>1</td>\n",
       "      <td>32251-53-9</td>\n",
       "      <td>CCOC(=O)C(C#N)C1=C(C(=C(C(=C1F)F)C(F)(F)F)F)F</td>\n",
       "      <td>acetonitrile</td>\n",
       "      <td>CC#N</td>\n",
       "      <td>16.08</td>\n",
       "      <td>MeCN_Acids_COSMO-RS_2008_Table.pdf</td>\n",
       "    </tr>\n",
       "    <tr>\n",
       "      <th>2</th>\n",
       "      <td>2</td>\n",
       "      <td>33534-88-2</td>\n",
       "      <td>CC1=CC=C(C=C1)C(C#N)C#N</td>\n",
       "      <td>acetonitrile</td>\n",
       "      <td>CC#N</td>\n",
       "      <td>17.59</td>\n",
       "      <td>MeCN_Acids_COSMO-RS_2008_Table.pdf</td>\n",
       "    </tr>\n",
       "    <tr>\n",
       "      <th>3</th>\n",
       "      <td>3</td>\n",
       "      <td>42238-33-5</td>\n",
       "      <td>no matches</td>\n",
       "      <td>acetonitrile</td>\n",
       "      <td>CC#N</td>\n",
       "      <td>26.14</td>\n",
       "      <td>MeCN_Acids_COSMO-RS_2008_Table.pdf</td>\n",
       "    </tr>\n",
       "    <tr>\n",
       "      <th>4</th>\n",
       "      <td>4</td>\n",
       "      <td>42238-34-6</td>\n",
       "      <td>no matches</td>\n",
       "      <td>acetonitrile</td>\n",
       "      <td>CC#N</td>\n",
       "      <td>21.10</td>\n",
       "      <td>MeCN_Acids_COSMO-RS_2008_Table.pdf</td>\n",
       "    </tr>\n",
       "  </tbody>\n",
       "</table>\n",
       "</div>"
      ],
      "text/plain": [
       "   Unnamed: 0      solute                                  solute SMILES  \\\n",
       "0           0   2340-87-6         CCOC(=O)C(C#N)C1=C(C(=C(C(=C1F)F)F)F)F   \n",
       "1           1  32251-53-9  CCOC(=O)C(C#N)C1=C(C(=C(C(=C1F)F)C(F)(F)F)F)F   \n",
       "2           2  33534-88-2                        CC1=CC=C(C=C1)C(C#N)C#N   \n",
       "3           3  42238-33-5                                     no matches   \n",
       "4           4  42238-34-6                                     no matches   \n",
       "\n",
       "        solvent solvent SMILES    pka                                 ref  \n",
       "0  acetonitrile           CC#N  17.75  MeCN_Acids_COSMO-RS_2008_Table.pdf  \n",
       "1  acetonitrile           CC#N  16.08  MeCN_Acids_COSMO-RS_2008_Table.pdf  \n",
       "2  acetonitrile           CC#N  17.59  MeCN_Acids_COSMO-RS_2008_Table.pdf  \n",
       "3  acetonitrile           CC#N  26.14  MeCN_Acids_COSMO-RS_2008_Table.pdf  \n",
       "4  acetonitrile           CC#N  21.10  MeCN_Acids_COSMO-RS_2008_Table.pdf  "
      ]
     },
     "execution_count": 230,
     "metadata": {},
     "output_type": "execute_result"
    }
   ],
   "source": [
    "data.head()"
   ]
  },
  {
   "cell_type": "code",
   "execution_count": 302,
   "metadata": {},
   "outputs": [],
   "source": [
    "data['solute SMILES'] = smiles\n",
    "data.to_csv('data_csvs/pka_data_updated.csv')"
   ]
  },
  {
   "cell_type": "code",
   "execution_count": 297,
   "metadata": {},
   "outputs": [],
   "source": [
    "def SMILE_scraper(mol):\n",
    "    try:\n",
    "        #search query\n",
    "        browser.get(\"https://pubchem.ncbi.nlm.nih.gov/#query=\"+mol)\n",
    "        time.sleep(5)\n",
    "        #press first entry\n",
    "        try:\n",
    "            try:\n",
    "                first_result_button = browser.find_element_by_xpath(\"/html/body/div[1]/div/div/main/div[2]/div[1]/div/div[2]/div/div[1]/div[2]/div[1]/a\")\n",
    "            except:\n",
    "                try:\n",
    "                    first_result_button = browser.find_element_by_xpath(\"/html/body/div[1]/div/div/main/div[2]/div[2]/div[3]/div/div/div/div[2]/ul/li/div/div/div/div[2]/div[1]/a\")\n",
    "                except:\n",
    "                    first_result_button = browser.find_element_by_xpath(\"/html/body/div[1]/div/div/main/div[2]/div[2]/div[2]/div/div/div/div[2]/ul/li[1]/div/div/div[1]/div[2]/div[1]/a\")\n",
    "            first_result_button.click()\n",
    "        except:\n",
    "            return 'no matches'\n",
    "        time.sleep(2)\n",
    "        #find SMILES string\n",
    "        try:\n",
    "            SMILES_section = browser.find_element_by_id(\"Chemical-and-Physical-Properties\")\n",
    "            actions = ActionChains(browser)\n",
    "            actions.move_to_element(SMILES_section).perform()\n",
    "        except:\n",
    "            return 'no SMILES'\n",
    "        time.sleep(10)\n",
    "        SMILES_string = browser.find_element_by_xpath(\"/html/body/div[1]/div/main/div[2]/div/div/div[5]/section[2]/section[1]/section[4]/div[2]/div[1]/p\")\n",
    "        return SMILES_string.text\n",
    "    except:\n",
    "        return 'error in recall'"
   ]
  },
  {
   "cell_type": "code",
   "execution_count": 352,
   "metadata": {},
   "outputs": [],
   "source": [
    "data = pd.read_csv('data_csvs/pka_data_updated.csv')\n",
    "molist = data['solute'].tolist()\n",
    "smiles = data['solute SMILES'].tolist()"
   ]
  },
  {
   "cell_type": "code",
   "execution_count": 315,
   "metadata": {},
   "outputs": [
    {
     "data": {
      "text/plain": [
       "str"
      ]
     },
     "execution_count": 315,
     "metadata": {},
     "output_type": "execute_result"
    }
   ],
   "source": [
    "type(smiles[2])"
   ]
  },
  {
   "cell_type": "code",
   "execution_count": 324,
   "metadata": {},
   "outputs": [],
   "source": [
    "browser = webdriver.Chrome()\n",
    "browser.get(\"https://pubchem.ncbi.nlm.nih.gov\")"
   ]
  },
  {
   "cell_type": "code",
   "execution_count": 326,
   "metadata": {},
   "outputs": [
    {
     "name": "stdout",
     "output_type": "stream",
     "text": [
      "440 C6F5SO2NHSO2C6H3-3-NO2-4-Cl no matches\n",
      "458 4-Cl-C6H4SO(=NTf)NHSO2-C6H4-4-Cl no matches\n",
      "519 7-nitroIndole error in recall\n",
      "520 Indoxyl acetate error in recall\n",
      "521 Phenol error in recall\n",
      "523 4-cyano-2,3,5,6-tetrafluoroAniline CC(C)C1=C(C(=CC=C1)C(C)C)N=C(C)NC2=C(C(=C(C(=C2F)F)C#N)F)F\n",
      "524 pentakis(trifluoromethyl)Toluene no matches\n",
      "525 5-nitroIndole C1=CC2=C(C=CN2)C=C1[N+](=O)[O-]\n",
      "528 4-nitroIndole C1=CC2=C(C=CN2)C(=C1)[N+](=O)[O-]\n",
      "529 6-nitroIndole C1=CC(=CC2=C1C=CN2)[N+](=O)[O-]\n",
      "542 3-trifluoromethylPhenol C1=CC(=CC(=C1)O)C(F)(F)F\n",
      "546 4-nitroIndolocarbazole C1=CC=C2C(=C1)C3=CC=CC=C3N2N=O\n",
      "550 3-cyanoIndole C1=CC=C2C(=C1)C(=CN2)C#N\n",
      "554 4-trifluoromethylPhenol C1=CC(=CC=C1C(F)(F)F)O\n",
      "561 2-trifluoromethylPhenol C1=CC=C(C(=C1)C(F)(F)F)O\n",
      "564 pentakis(trifluoromethyl)Aniline C1(=C(C(=C(C(=C1C(F)(F)F)C(F)(F)F)N)C(F)(F)F)C(F)(F)F)C(F)(F)F\n",
      "575 2,4,6-trinitroAniline C1=C(C=C(C(=C1[N+](=O)[O-])N)[N+](=O)[O-])[N+](=O)[O-]\n",
      "576 3,5-bis(trifluoromethyl)Phenol C1=C(C=C(C=C1C(F)(F)F)O)C(F)(F)F\n",
      "577 2-nitroIndole CCOC(=O)N1C2=CC=CC=C2C=C1[N+](=O)[O-]\n",
      "579 Acetic acid error in recall\n",
      "582 Sorbic acid CC=CC=CC(=O)O\n",
      "584 2-nitroPhenol C1=CC=C(C(=C1)[N+](=O)[O-])O\n",
      "587 Retinoic acid CC1=C(C(CCC1)(C)C)C=CC(=CC=CC(=CC(=O)O)C)C\n",
      "588 3-nitroIndole C1=CC=C2C(=C1)C(=CN2)[N+](=O)[O-]\n",
      "592 Benzoic acid error in recall\n",
      "595 Alizarin C1=CC=C2C(=C1)C(=O)C3=C(C2=O)C(=C(C=C3)O)O\n",
      "599 (CF3)3COH C(C(F)(F)F)(C(F)(F)F)(C(F)(F)F)O\n",
      "602 2,4,6-tribromoPhenol C1=C(C=C(C(=C1Br)O)Br)Br\n",
      "603 pentacyanoToluene CC1=C(C(=C(C(=C1C#N)C#N)C#N)C#N)C#N\n",
      "605 2,3,5,6-tetrafluoroPhenol C1=C(C(=C(C(=C1F)F)O)F)F\n",
      "606 pentafluoroPhenol C1(=C(C(=C(C(=C1F)F)F)F)F)O\n",
      "621 pentachloroPhenol error in recall\n",
      "622 pentabromoPhenol C1(=C(C(=C(C(=C1Br)Br)Br)Br)Br)O\n",
      "630 2,6-dinitroPhenol C1=CC(=C(C(=C1)[N+](=O)[O-])O)[N+](=O)[O-]\n",
      "631 2,4-dinitroPhenol error in recall\n",
      "632 2,3,5,6-tetrafluoro-4-trifluoromethylPhenol C(C(C(F)(F)F)(Cl)Cl)(Cl)Cl\n",
      "634 4-fluoro-2,6-dinitroPhenol C1=C(C=C(C(=C1[N+](=O)[O-])O)[N+](=O)[O-])F\n",
      "642 Saccharin C1=CC=C2C(=C1)C(=O)NS2(=O)=O\n",
      "645 2-chloro-4,6-dinitroPhenol C1=C(C=C(C(=C1[N+](=O)[O-])O)Cl)[N+](=O)[O-]\n",
      "673 Picric acid C1=C(C=C(C(=C1[N+](=O)[O-])O)[N+](=O)[O-])[N+](=O)[O-]\n",
      "674 5-nitroBarbituric acid C1(C(=O)NC(=O)NC1=O)[N+](=O)[O-]\n",
      "680 HCl error in recall\n",
      "684 pentakis(trifluoromethyl)Thiophenol C1=CC(=CC(=C1)S)C(F)(F)F\n",
      "687 CH3SO3H CS(=O)(=O)O\n",
      "695 TosOH CC1=CC=C(C=C1)S(=O)(=O)O\n",
      "696 PhSO3H C=CCOC(=O)CCC(C(=O)OCC=C)N.C1=CC=C(C=C1)S(=O)(=O)O\n",
      "705 H2SO4 error in recall\n",
      "735 CH(CN)3 C1=CNC2=C1C(=NC=N2)Cl\n",
      "740 2,4,6-Tf3Phenol CC(C)(C)C1=CC(=CC=C1)O\n",
      "763 4855-02-1 C1=CC=C(C=C1)CS(=O)(=O)C(F)(F)F\n",
      "769 7210-08-4 C1=CC=C2C(=C1)N=C(O2)CC3=NC4=CC=CC=C4O3\n",
      "783 triazine 1 CSC1=NC2=NN=C(C(=O)N2N1)[N+](=O)[O-]\n",
      "789 (4-Me2N-C6F4)(C6F5)NH no matches\n",
      "859 Br4-CX-benzoic acid C1=CC(=CC=C1C(=O)O)Br\n",
      "882 2,3,4,5,6-(CF3)5-C6-CH(CN)COOEt no matches\n",
      "910 4-Cl-C6H4-CO-NH-Tf C1=CC(=CC=C1C(=O)O)S(=O)(=O)O\n",
      "923 2,3,4,5,6-(CF3)5-C6-CH(CN)2 C(C(F)(F)F)(Cl)Br\n",
      "929 4009-06-7 C1=CC(=CC=C1[N+](=O)[O-])S(=O)(=O)NS(=O)(=O)C2=CC=C(C=C2)[N+](=O)[O-]\n",
      "967 4-Cl-C6H4-SO2-NH-Tf no SMILES\n",
      "977 4-Cl-C6H4-SO(=NTf)-NH-SO2-C6H4-4-NO2 no matches\n",
      "1032 4855-02-1 C1=CC=C(C=C1)CS(=O)(=O)C(F)(F)F\n",
      "1044 (4-Me2N-C6F4)(C6F5)NH no matches\n",
      "1057 (4-Cl-C6F4)(C6F5)NH no matches\n",
      "1065 (4-NC5F4)(C6F5)NH no matches\n",
      "1079 4-Cl-C6F4-CH(CN)COOEt no matches\n",
      "1110 4-Cl-C6F4-CH(CN)COOEt no matches\n",
      "1116 2,3,4,5,6-(CF3)5-C6-CH(CN)COOEt no matches\n",
      "1125 2,3,4,5,6-(CF3)5-C6-CH(CN)2 C(C(F)(F)F)(Cl)Br\n",
      "1126 4009-06-7 C1=CC(=CC=C1[N+](=O)[O-])S(=O)(=O)NS(=O)(=O)C2=CC=C(C=C2)[N+](=O)[O-]\n",
      "1141 4-Cl-C6H4-SO(=NTf)-NH-SO2-C6H4-4-NO2 no matches\n"
     ]
    }
   ],
   "source": [
    "for i in range(len(smiles)):\n",
    "    if type(smiles[i]) == float:\n",
    "        smiles[i] = SMILE_scraper(molist[i])\n",
    "        print(i, molist[i], smiles[i])"
   ]
  },
  {
   "cell_type": "code",
   "execution_count": 274,
   "metadata": {},
   "outputs": [],
   "source": [
    "smiles[424] = 'CC1=CC=C(C=C1)S(=O)(=O)O'"
   ]
  },
  {
   "cell_type": "code",
   "execution_count": 237,
   "metadata": {},
   "outputs": [
    {
     "name": "stdout",
     "output_type": "stream",
     "text": [
      "Phthalic acid\n"
     ]
    }
   ],
   "source": [
    "stri = 'Phthalicacid'\n",
    "print(stri[:-4]+'%20acid')"
   ]
  },
  {
   "cell_type": "code",
   "execution_count": 322,
   "metadata": {},
   "outputs": [],
   "source": [
    "data['solute SMILES'] = smiles\n",
    "data.to_csv('data_csvs/pka_data_updated.csv')"
   ]
  },
  {
   "cell_type": "code",
   "execution_count": 276,
   "metadata": {},
   "outputs": [],
   "source": [
    "for i in range(len(smiles)):\n",
    "    if 'acid' in molist[i]:\n",
    "        if smiles[i] == 'no SMILES':\n",
    "            print(i)\n",
    "    else:\n",
    "        continue"
   ]
  },
  {
   "cell_type": "code",
   "execution_count": 273,
   "metadata": {},
   "outputs": [
    {
     "name": "stdout",
     "output_type": "stream",
     "text": [
      "(TosOH, TsOH)onicacid\n"
     ]
    }
   ],
   "source": [
    "print(molist[424])"
   ]
  },
  {
   "cell_type": "code",
   "execution_count": 363,
   "metadata": {},
   "outputs": [],
   "source": [
    "browser = webdriver.Chrome()\n",
    "browser.get(\"https://pubchem.ncbi.nlm.nih.gov\")"
   ]
  },
  {
   "cell_type": "code",
   "execution_count": 346,
   "metadata": {},
   "outputs": [],
   "source": [
    "##checking SMILES\n",
    "def SMILE_checker(mol):\n",
    "    try:\n",
    "        #search query\n",
    "        browser.get(\"https://pubchem.ncbi.nlm.nih.gov/#query=\"+mol)\n",
    "        time.sleep(5)\n",
    "        IUPAC = '-'\n",
    "        CAS = '-'\n",
    "        \n",
    "        #press first entry\n",
    "        try:\n",
    "            try:\n",
    "                first_result_button = browser.find_element_by_xpath(\"/html/body/div[1]/div/div/main/div[2]/div[1]/div/div[2]/div/div[1]/div[2]/div[1]/a\")\n",
    "            except:\n",
    "                try:\n",
    "                    first_result_button = browser.find_element_by_xpath(\"/html/body/div[1]/div/div/main/div[2]/div[2]/div[3]/div/div/div/div[2]/ul/li/div/div/div/div[2]/div[1]/a\")\n",
    "                except:\n",
    "                    first_result_button = browser.find_element_by_xpath(\"/html/body/div[1]/div/div/main/div[2]/div[2]/div[2]/div/div/div/div[2]/ul/li[1]/div/div/div[1]/div[2]/div[1]/a\")\n",
    "            first_result_button.click()\n",
    "        except:\n",
    "            pass\n",
    "        time.sleep(2)\n",
    "        \n",
    "        #find SMILES string\n",
    "        try:\n",
    "            SMILES_section = browser.find_element_by_id(\"Chemical-and-Physical-Properties\")\n",
    "            actions = ActionChains(browser)\n",
    "            actions.move_to_element(SMILES_section).perform()\n",
    "        except:\n",
    "            pass\n",
    "        time.sleep(10)\n",
    "        \n",
    "        IUPAC = browser.find_element_by_xpath(\"/html/body/div[1]/div/main/div[2]/div/div/div[5]/section[2]/section[1]/section[1]/div[2]/div[1]/p\").text\n",
    "#        SMILES = browser.find_element_by_xpath(\"/html/body/div[1]/div/main/div[2]/div/div/div[5]/section[2]/section[1]/section[4]/div[2]/div[1]/p\").text\n",
    "        CAS = browser.find_element_by_xpath(\"/html/body/div[1]/div/main/div[2]/div/div/div[5]/section[2]/section[3]/section[1]/div[2]/div[1]/p\").text\n",
    "        return IUPAC, CAS\n",
    "    except:\n",
    "        return IUPAC, CAS"
   ]
  },
  {
   "cell_type": "code",
   "execution_count": 353,
   "metadata": {},
   "outputs": [
    {
     "data": {
      "text/plain": [
       "'2340-87-6'"
      ]
     },
     "execution_count": 353,
     "metadata": {},
     "output_type": "execute_result"
    }
   ],
   "source": [
    "molist[0]\n",
    "iupaclist = ['-']*1163\n",
    "caslist = ['-']*1163"
   ]
  },
  {
   "cell_type": "code",
   "execution_count": 370,
   "metadata": {
    "collapsed": true,
    "jupyter": {
     "outputs_hidden": true
    },
    "tags": []
   },
   "outputs": [
    {
     "name": "stdout",
     "output_type": "stream",
     "text": [
      "291 2,4-dinitrophenol - C1=CC(=C(C=C1[N+](=O)[O-])[N+](=O)[O-])O -\n",
      "292 HClO4 7601-90-3 OCl(=O)(=O)=O perchloric acid\n",
      "293 Trifluoromethanesulfonic acid 1493-13-6 C(F)(F)(F)S(=O)(=O)O trifluoromethanesulfonic acid\n",
      "294 Acetic acid - CC(=O)O -\n",
      "295 Benzoic acid - C1=CC=C(C=C1)C(=O)O -\n",
      "296 Aniline-H+ 65756-50-5 C1=CC=C(C=C1)[N+] phenylazanium\n",
      "297 Pyridine-H+ 16969-45-2 C1=CC=[N+]C=C1 pyridin-1-ium\n",
      "298 DBU-H+ - C1CCC2=[N+](CC1)CCCN2 2,3,4,6,7,8,9,10-octahydro-1H-pyrimido[1,2-a]azepin-5-ium\n",
      "299 TBD-H+ - C1CNC2=[NH+]CCCN2C1 1,2,3,4,6,7,8,9-octahydropyrimido[1,2-a]pyrimidin-5-ium\n",
      "300 t-BuP1(dma)3-H+ - no matches -\n",
      "301 t-BuP1(pyrr)3-H+ - no matches -\n",
      "302 Et3N-H+ 17440-81-2 CC[N+](CC)CC triethylazanium\n",
      "303 TMG-H+ - CN(C)C(=[N+])N(C)C [amino(dimethylamino)methylidene]-dimethylazanium\n",
      "304 (2-C10F7)2CHCN - FC1=C(F)C2=C(C(=C1F)F)C(=C(C(C#N)C3=C(F)C4=C(F)C(=C(F)C(=C4C(=C3F)F)F)F)C(=C2F)F)F 2,2-bis(1,3,4,5,6,7,8-heptafluoronaphthalen-2-yl)acetonitrile\n",
      "305 (C6F5)2CHCN Bis(pentafluorophenyl)acetonitrile FC1=C(F)C(=C(C(C#N)C2=C(F)C(=C(F)C(=C2F)F)F)C(=C1F)F)F 2,2-bis(2,3,4,5,6-pentafluorophenyl)acetonitrile\n",
      "306 9-C6F5-Octafluorofluorene 63264-80-2 FC1=C(F)C(=C(C2C3=C(C(=C(F)C(=C3F)F)F)C4=C2C(=C(F)C(=C4F)F)F)C(=C1F)F)F 1,2,3,4,5,6,7,8-octafluoro-9-(2,3,4,5,6-pentafluorophenyl)-9H-fluorene\n",
      "307 (4-CF3-C6F4)(C6F5)CHCN - FC1=C(F)C(=C(C(C#N)C2=C(F)C(=C(C(=C2F)F)C(F)(F)F)F)C(=C1F)F)F 2-(2,3,4,5,6-pentafluorophenyl)-2-[2,3,5,6-tetrafluoro-4-(trifluoromethyl)phenyl]acetonitrile\n",
      "308 (C6F5)2CHCN Bis(pentafluorophenyl)acetonitrile FC1=C(F)C(=C(C(C#N)C2=C(F)C(=C(F)C(=C2F)F)F)C(=C1F)F)F 2,2-bis(2,3,4,5,6-pentafluorophenyl)acetonitrile\n",
      "309 9-C6F5-Octafluorofluorene 63264-80-2 FC1=C(F)C(=C(C2C3=C(C(=C(F)C(=C3F)F)F)C4=C2C(=C(F)C(=C4F)F)F)C(=C1F)F)F 1,2,3,4,5,6,7,8-octafluoro-9-(2,3,4,5,6-pentafluorophenyl)-9H-fluorene\n",
      "310 (4-CF3-C6F4)(C6F5)CHCN - FC1=C(F)C(=C(C(C#N)C2=C(F)C(=C(C(=C2F)F)C(F)(F)F)F)C(=C1F)F)F 2-(2,3,4,5,6-pentafluorophenyl)-2-[2,3,5,6-tetrafluoro-4-(trifluoromethyl)phenyl]acetonitrile\n",
      "311 (C6H5)(C6F5)CHCN 2-Phenyl-2-(pentafluorophenyl)acetonitrile FC1=C(F)C(=C(C(C#N)C2=CC=CC=C2)C(=C1F)F)F 2-(2,3,4,5,6-pentafluorophenyl)-2-phenylacetonitrile\n",
      "312 2-Cl-C7H4P1(pyrr) - no matches -\n",
      "313 Quino[7,8-h]quinoline - C1=CC2=C(C3=C(C=C2)C=CC4=C3N=CC=C4)N=C1 quinolino[7,8-h]quinoline\n",
      "314 2,5-Cl2-C6H3P1(pyrr) - no matches -\n",
      "315 4-NO2-C6H4P1(pyrr) - no matches -\n",
      "316 2,3-diaminopyridine 452-58-4 C1=CC(=C(N=C1)N)N pyridine-2,3-diamine\n",
      "317 Imidazole - C1=CN=CN1 -\n",
      "318 2,4-dinitroC6H3P1(pyrr) - no matches -\n",
      "319 2,6-diaminoPyridine 141-86-6 C1=CC(=NC(=C1)N)N pyridine-2,6-diamine\n",
      "320 2,6-Cl2-4-NO2-C6H2P1(pyrr) - no matches -\n",
      "321 2,6-Cl2-4-NO2-C6H2P1(pyrr) - no matches -\n",
      "322 2,6-NO2-C6H3P1(pyrr) - no matches -\n",
      "323 Phenanthroline 66-71-7 C1=CC2=C(C3=C(C=CC=N3)C=C2)N=C1 1,10-phenanthroline\n",
      "324 Benzimidazole - C1=CC=C2C(=C1)NC=N2 -\n",
      "325 2-methylpyridine - CC1=CC=CC=N1 -\n",
      "326 Isoquinoline 119-65-3 C1=CC=C2C=NC=CC2=C1 isoquinoline\n",
      "327 Acridine - C1=CC=C2C(=C1)C=C3C=CC=CC3=N2 -\n",
      "328 Pyridine - C1=CC=NC=C1 -\n",
      "329 Thiabendazole - C1=CC=C2C(=C1)NC(=N2)C3=CSC=N3 -\n",
      "330 2,2'-Bipyridine 366-18-7 C1=CC=NC(=C1)C2=CC=CC=N2 2-pyridin-2-ylpyridine\n",
      "331 Carbendazim - COC(=O)NC1=NC2=CC=CC=C2N1 -\n",
      "332 Quinoline - C1=CC=C2C(=C1)C=CC=N2 -\n",
      "333 5,6-Benzoquinoline 85-02-9 C1=CC=C2C(=C1)C=CC3=C2C=CC=N3 benzo[f]quinoline\n",
      "334 4-methoxyAniline - COC1=CC=C(C=C1)N -\n",
      "335 2-methyl-8-aminoquinoline 18978-78-4 CC1=NC2=C(C=CC=C2N)C=C1 2-methylquinolin-8-amine\n",
      "336 Phthalazine 253-52-1 C1=CC=C2C=NN=CC2=C1 phthalazine\n",
      "337 N,N-dimethylAniline - CN(C)C1=CC=CC=C1 -\n",
      "338 2,2'-Biquinoline 1245-13-2 C1=CC=C2C(=C1)C(=CC(=N2)C3=NC4=CC=CC=C4C(=C3)C(=O)O)C(=O)O 2-(4-carboxyquinolin-2-yl)quinoline-4-carboxylic acid\n",
      "339 7,8-Benzoquinoline 230-27-3 C1=CC=C2C(=C1)C=CC3=C2N=CC=C3 benzo[h]quinoline\n",
      "340 Aniline - C1=CC=C(C=C1)N -\n",
      "341 Cinnoline 253-66-7 C1=CC=C2C(=C1)C=CN=N2 cinnoline\n",
      "342 2-methylaniline - CC1=CC=CC=C1N -\n",
      "343 Pyridazine 289-80-5 C1=CC=NN=C1 pyridazine\n",
      "344 2-methoxypyridine 1628-89-3 COC1=CC=CC=N1 2-methoxypyridine\n",
      "345 1-Naphtylamine - C1=CC=C2C(=C1)C=CC=C2N -\n",
      "346 3-chloroPyridine 626-60-8 C1=CC(=CN=C1)Cl 3-chloropyridine\n",
      "347 4-bromoAniline - C1=CC(=CC=C1N)Br -\n",
      "348 Quinazoline 253-82-7 C1=CC=C2C(=C1)C=NC=N2 quinazoline\n",
      "349 Pyrazole 288-13-1 C1=CNN=C1 1H-pyrazole\n",
      "350 Pyrimidine 289-95-2 C1=CN=CN=C1 pyrimidine\n",
      "351 2,4-difluoroAniline 367-25-9 C1=CC(=C(C=C1F)F)N 2,4-difluoroaniline\n",
      "352 4-trifluoromethylAniline - C1=CC(=CC=C1C(F)(F)F)N -\n",
      "353 1,2,3-Triazole 288-35-7 C1=NNN=C1 2H-triazole\n",
      "354 2-chloroaniline - C1=CC=C(C(=C1)N)Cl -\n",
      "355 Pyrazine 290-37-9 C1=CN=CC=N1 pyrazine\n",
      "356 4-fluoro-3-nitroAniline 364-76-1 C1=CC(=C(C=C1N)[N+](=O)[O-])F 4-fluoro-3-nitroaniline\n",
      "357 2,6-dimethoxyPyridine 6231-18-1 COC1=NC(=CC=C1)OC 2,6-dimethoxypyridine\n",
      "358 Indazole 271-44-3 C1=CC=C2C(=C1)C=NN2 1H-indazole\n",
      "359 Caffeine - CN1C=NC2=C1C(=O)N(C(=O)N2C)C -\n",
      "360 Quinoxaline 91-19-0 C1=CC=C2C(=C1)N=CC=N2 quinoxaline\n",
      "361 Benzotriazole - C1=CC2=NNN=C2C=C1 -\n",
      "362 2-Cl-Pyridine 111988-43-3 C1CN(C(=N1)NC#N)CC2=CN=C(C=C2)Cl [1-[(6-chloropyridin-3-yl)methyl]-4,5-dihydroimidazol-2-yl]cyanamide\n",
      "363 N-methyldiphenylAmine 552-82-9 CN(C1=CC=CC=C1)C2=CC=CC=C2 N-methyl-N-phenylaniline\n",
      "364 4-nitroimidazole 3034-38-6 C1=C(NC=N1)[N+](=O)[O-] 5-nitro-1H-imidazole\n",
      "365 4-nitroAniline - C1=CC(=CC=C1N)[N+](=O)[O-] -\n",
      "366 2,5-dichloroaniline 95-82-9 C1=CC(=C(C=C1Cl)N)Cl 2,5-dichloroaniline\n",
      "367 2-nitroimidazole 1-(3-PHENOXYPROPYL)-2-NO2 -IMIDAZOLE C1=CC=C(C=C1)OCCCN2C=CN=C2[N+](=O)[O-] 2-nitro-1-(3-phenoxypropyl)imidazole\n",
      "368 2,5-dichloroaniline 95-82-9 C1=CC(=C(C=C1Cl)N)Cl 2,5-dichloroaniline\n",
      "369 5-nitroindazole  5401-94-5 C1=CC2=C(C=C1[N+](=O)[O-])C=NN2 5-nitro-1H-indazole\n",
      "370 6-nitroindazole  7597-18-4 C1=CC2=C(C=C1[N+](=O)[O-])NN=C2 6-nitro-1H-indazole\n",
      "371 2-nitroaniline 88-74-4 C1=CC=C(C(=C1)N)[N+](=O)[O-] 2-nitroaniline\n",
      "372 4-chloro-2-nitroAniline 89-63-4 C1=CC(=C(C=C1Cl)[N+](=O)[O-])N 4-chloro-2-nitroaniline\n",
      "373 2-chloro-4-nitroaniline 121-87-9 C1=CC(=C(C=C1[N+](=O)[O-])Cl)N 2-chloro-4-nitroaniline\n",
      "374 Uracil - C1=CNC(=O)NC1=O -\n",
      "375 Thymine - CC1=CNC(=O)NC1=O -\n",
      "376 2,3,4,5,6-pentachloroAniline 121-87-9 C1=CC(=C(C=C1[N+](=O)[O-])Cl)N 2-chloro-4-nitroaniline\n",
      "377 Quino[7,8-h]quinoline - C1=CC2=C(C3=C(C=C2)C=CC4=C3N=CC=C4)N=C1 quinolino[7,8-h]quinoline\n",
      "378 Imidazole 288-32-4 C1=CN=CN1 1H-imidazole\n",
      "379 Phenanthroline 66-71-7 C1=CC2=C(C3=C(C=CC=N3)C=C2)N=C1 1,10-phenanthroline\n",
      "380 Benzimidazole 51-17-2 C1=CC=C2C(=C1)NC=N2 1H-benzimidazole\n",
      "381 Isoquinoline 119-65-3 C1=CC=C2C=NC=CC2=C1 isoquinoline\n",
      "382 Acridine 260-94-6 C1=CC=C2C(=C1)C=C3C=CC=CC3=N2 acridine\n",
      "383 Pyridine 110-86-1 C1=CC=NC=C1 pyridine\n",
      "384 Thiabendazole 148-79-8 C1=CC=C2C(=C1)NC(=N2)C3=CSC=N3 4-(1H-benzimidazol-2-yl)-1,3-thiazole\n",
      "385 2,2'-Bipyridine 366-18-7 C1=CC=NC(=C1)C2=CC=CC=N2 2-pyridin-2-ylpyridine\n",
      "386 Carbendazim 10605-21-7 COC(=O)NC1=NC2=CC=CC=C2N1 methyl N-(1H-benzimidazol-2-yl)carbamate\n",
      "387 Quinoline 91-22-5 C1=CC=C2C(=C1)C=CC=N2 quinoline\n",
      "388 5,6-Benzoquinoline 85-02-9 C1=CC=C2C(=C1)C=CC3=C2C=CC=N3 benzo[f]quinoline\n",
      "389 Phthalazine 253-52-1 C1=CC=C2C=NN=CC2=C1 phthalazine\n",
      "390 2,2'-Biquinoline 1245-13-2 C1=CC=C2C(=C1)C(=CC(=N2)C3=NC4=CC=CC=C4C(=C3)C(=O)O)C(=O)O 2-(4-carboxyquinolin-2-yl)quinoline-4-carboxylic acid\n",
      "391 7,8-Benzoquinoline 230-27-3 C1=CC=C2C(=C1)C=CC3=C2N=CC=C3 benzo[h]quinoline\n",
      "392 Cinnoline 253-66-7 C1=CC=C2C(=C1)C=CN=N2 cinnoline\n",
      "393 Pyridazine 289-80-5 C1=CC=NN=C1 pyridazine\n",
      "394 Quinazoline 253-82-7 C1=CC=C2C(=C1)C=NC=N2 quinazoline\n",
      "395 Pyrazole 288-13-1 C1=CNN=C1 1H-pyrazole\n",
      "396 Pyrimidine 289-95-2 C1=CN=CN=C1 pyrimidine\n",
      "397 1,2,3-Triazole 288-35-7 C1=NNN=C1 2H-triazole\n",
      "398 Pyrazine 290-37-9 C1=CN=CC=N1 pyrazine\n",
      "399 Indazole 271-44-3 C1=CC=C2C(=C1)C=NN2 1H-indazole\n",
      "400 Caffeine 58-08-2 CN1C=NC2=C1C(=O)N(C(=O)N2C)C 1,3,7-trimethylpurine-2,6-dione\n",
      "401 Quinoxaline 91-19-0 C1=CC=C2C(=C1)N=CC=N2 quinoxaline\n",
      "402 Benzotriazole 95-14-7 C1=CC2=NNN=C2C=C1 2H-benzotriazole\n",
      "403 4-nitroimidazole 3034-38-6 C1=C(NC=N1)[N+](=O)[O-] 5-nitro-1H-imidazole\n",
      "404 2-nitroimidazole 1-(3-PHENOXYPROPYL)-2-NO2 -IMIDAZOLE C1=CC=C(C=C1)OCCCN2C=CN=C2[N+](=O)[O-] 2-nitro-1-(3-phenoxypropyl)imidazole\n",
      "405 5-nitroindazole  5401-94-5 C1=CC2=C(C=C1[N+](=O)[O-])C=NN2 5-nitro-1H-indazole\n",
      "406 6-nitroindazole  7597-18-4 C1=CC2=C(C=C1[N+](=O)[O-])NN=C2 6-nitro-1H-indazole\n",
      "407 Uracil 66-22-8 C1=CNC(=O)NC1=O 1H-pyrimidine-2,4-dione\n",
      "408 Thymine 65-71-4 CC1=CNC(=O)NC1=O 5-methyl-1H-pyrimidine-2,4-dione\n",
      "409 Picric acid - C1=C(C=C(C(=C1[N+](=O)[O-])O)[N+](=O)[O-])[N+](=O)[O-] -\n",
      "410 4-F-C6H4C(=O)NHTf - FC1=CC=C(C=C1)C(=O)N[S](=O)(=O)C(F)(F)F 4-fluoro-N-(trifluoromethylsulfonyl)benzamide\n",
      "411 2,3,4,5,6-pentakis(trifluoromethyl)Phenol 723294-91-5 C1(=C(C(=C(C(=C1C(F)(F)F)C(F)(F)F)O)C(F)(F)F)C(F)(F)F)C(F)(F)F 2,3,4,5,6-pentakis(trifluoromethyl)phenol\n",
      "412 2,3,4,6-(CF3)4-C6HCH(CN)2 - FC(F)(F)C1=C(C(C#N)C#N)C(=C(C(=C1)C(F)(F)F)C(F)(F)F)C(F)(F)F -\n",
      "413 4-Cl-C6H4C(=O)NHTf - FC(F)(F)[S](=O)(=O)NC(=O)C1=CC=C(Cl)C=C1 4-chloro-N-(trifluoromethylsulfonyl)benzamide\n",
      "414 HCl 16887-00-6 Cl chloride\n",
      "415 (4-Cl-C6H4SO2)2NH - no matches -\n",
      "416 4-CF3-C6F4CH(CN)2 55852-24-9 FC1=C(C(C#N)C#N)C(=C(F)C(=C1F)C(F)(F)F)F 2-[2,3,5,6-tetrafluoro-4-(trifluoromethyl)phenyl]propanedinitrile\n",
      "417 2,3,4,5,6-pentakis(trifluoromethyl)benzenethiol SCHEMBL8512489 C1(=C(C(=C(C(=C1C(F)(F)F)C(F)(F)F)S)C(F)(F)F)C(F)(F)F)C(F)(F)F 2,3,4,5,6-pentakis(trifluoromethyl)benzenethiol\n",
      "418 4-NO2-C6H4SO2NHTos - no matches -\n",
      "419 4-Cl-3-NO2C6H3SO2NHTos - no matches -\n",
      "420 4-NO2-C6H4C(=O)NHTf 39062-98-1 [O-][N+](=O)C1=CC=C(C=C1)C(=O)N[S](=O)(=O)C(F)(F)F 4-nitro-N-(trifluoromethylsulfonyl)benzamide\n",
      "421 4-NO2-C6H4SO2NH-SO2C6H4-4-Cl - no matches -\n",
      "422 C6(CF3)5CH(CN)2 2-[Pentakis(trifluoromethyl)phenyl]malononitrile FC(F)(F)C1=C(C(C#N)C#N)C(=C(C(=C1C(F)(F)F)C(F)(F)F)C(F)(F)F)C(F)(F)F 2-[2,3,4,5,6-pentakis(trifluoromethyl)phenyl]propanedinitrile\n",
      "423 4-Cl-3-NO2-C6H3SO2NH-SO2C6H4-4-Cl - no matches -\n",
      "424 4-Methylbenzenesulfonic acid 104-15-4 CC1=CC=C(C=C1)S(=O)(=O)O 4-methylbenzenesulfonic acid\n",
      "425 (4-NO2-C6H4SO2)2NH - no matches -\n",
      "Phenol - OC1=C(C=C(C=C1[S](=O)(=O)OCC(F)(F)C(F)F)[S](=O)(=O)OCC(F)(F)C(F)F)[S](=O)(=O)OCC(F)(F)C(F)F -\n",
      "427 2,4,6-(SO2OCH2CF3)3-Phenol - OC1=C(C=C(C=C1[S](=O)(=O)OCC(F)(F)F)[S](=O)(=O)OCC(F)(F)F)[S](=O)(=O)OCC(F)(F)F -\n",
      "428 1-Naphtalenesulfonic acid 81-16-3 C1=CC=C2C(=C1)C=CC(=C2S(=O)(=O)O)N 2-aminonaphthalene-1-sulfonic acid\n",
      "429 4-Cl-3-NO2-C6H3SO2NHSO2-C6H4-3-NO2 - no matches -\n",
      "430 C6H5CH(Tf)2 40906-82-9 FC(F)(F)[S](=O)(=O)C(C1=CC=CC=C1)[S](=O)(=O)C(F)(F)F bis(trifluoromethylsulfonyl)methylbenzene\n",
      "431 4-Cl-3-NO2-C6H3SO2NHSO2C6H4-4-NO2 - no matches -\n",
      "432 C6F5SO2NHSO2C6H4-4-Cl - no matches -\n",
      "433 (4-Cl-3-NO2-C6H3SO2)2NH - no matches -\n",
      "434 4-chloro-benzenesulfonicacid 98-66-8 C1=CC(=CC=C1S(=O)(=O)O)Cl 4-chlorobenzenesulfonic acid\n",
      "435 C6F5SO2NHSO2C6H4-3-NO2 - no matches -\n",
      "436 3-nitro-benzenesulfonic acid 98-47-5 C1=CC(=CC(=C1)S(=O)(=O)O)[N+](=O)[O-] 3-nitrobenzenesulfonic acid\n",
      "437 C6F5SO2NHSO2C6H4-4-NO2 - no matches -\n",
      "438 4-nitro-benzenesulfonic acid 138-42-1 C1=CC(=CC=C1[N+](=O)[O-])S(=O)(=O)O 4-nitrobenzenesulfonic acid\n",
      "439 3-NO2-C6H4SO2CH(CN)2 - [O-][N+](=O)C1=CC(=CC=C1)[S](=O)(=O)C(C#N)C#N -\n",
      "440 C6F5SO2NHSO2C6H3-3-NO2-4-Cl - nan -\n",
      "441 4-MeO-C6H4C(=NTf)NHTf - COC1=CC=C(C=C1)C(N[S](=O)(=O)C(F)(F)F)=N[S](=O)(=O)C(F)(F)F -\n",
      "442 4-NO2-C6H4SO2CH(CN)2 - [O-][N+](=O)C1=CC=C(C=C1)[S](=O)(=O)C(C#N)C#N -\n",
      "443 4-Me-C6H4SO2NHTf - CC1=CC=C(C=C1)[S](=O)(=O)N[S](=O)(=O)C(F)(F)F 4-methyl-N-(trifluoromethylsulfonyl)benzenesulfonamide\n",
      "444 4-Me-C6H4C(=NTf)NHTf - CC1=CC=C(C=C1)C(N[S](=O)(=O)C(F)(F)F)=N[S](=O)(=O)C(F)(F)F -\n",
      "445 C6H5C(=NTf)NHTf - FC(F)(F)[S](=O)(=O)NC(=N[S](=O)(=O)C(F)(F)F)C1=CC=CC=C1 -\n",
      "446 C6H5SO2NHTf - FC(F)(F)[S](=O)(=O)N[S](=O)(=O)C1=CC=CC=C1 N-(trifluoromethylsulfonyl)benzenesulfonamide\n",
      "447 4-F-C6H4C(=NTf)NHTf - FC1=CC=C(C=C1)C(N[S](=O)(=O)C(F)(F)F)=N[S](=O)(=O)C(F)(F)F -\n",
      "448 4-Cl-C6H4-C(=NTf)NHTf - FC(F)(F)[S](=O)(=O)NC(=N[S](=O)(=O)C(F)(F)F)C1=CC=C(Cl)C=C1 -\n",
      "449 HBr 24959-67-9 Br bromide\n",
      "450 2,4,6-(SO2F)3-Phenol 2-hydroxybenzene-1,3,5-trisulfonyl fluoride OC1=C(C=C(C=C1[S](F)(=O)=O)[S](F)(=O)=O)[S](F)(=O)=O 2-hydroxybenzene-1,3,5-trisulfonyl fluoride\n",
      "451 (C6F5SO2)2NH - no matches -\n",
      "452 4-Cl-C6H4SO2NHTf - FC(F)(F)[S](=O)(=O)N[S](=O)(=O)C1=CC=C(Cl)C=C1 4-chloro-N-(trifluoromethylsulfonyl)benzenesulfonamide\n",
      "453 4-Cl-C6H4SO(=NTf)NHTos - no matches -\n",
      "454 4-NO2-C6H4C(=NTf)NHTf N-(Trifluoromethylsulfonyl)-alpha-(trifluoromethylsulfonylimino)-4-nitrobenzylamineanion [O-][N+](=O)C1=CC=C(C=C1)C(N[S](=O)(=O)C(F)(F)F)=N[S](=O)(=O)C(F)(F)F 4-nitro-N,N'-bis(trifluoromethylsulfonyl)benzenecarboximidamide\n",
      "455 2,4,6-Tf3-Phenol - OC1=C(C=C(C=C1[S](=O)(=O)C(F)(F)F)[S](=O)(=O)C(F)(F)F)[S](=O)(=O)C(F)(F)F 2,4,6-tris(trifluoromethylsulfonyl)phenol\n",
      "456 (CN)2C=C(CN)OH - OC(C#N)=C(C#N)C#N 2-hydroxyethene-1,1,2-tricarbonitrile\n",
      "457 4-NO2-C6H4SO2NHTf - [O-][N+](=O)C1=CC=C(C=C1)[S](=O)(=O)N[S](=O)(=O)C(F)(F)F 4-nitro-N-(trifluoromethylsulfonyl)benzenesulfonamide\n",
      "458 4-Cl-C6H4SO(=NTf)NHSO2-C6H4-4-Cl - nan -\n",
      "459 2,4-(NO2)2-C6H3SO3H - no matches -\n",
      "460 2,3,5-tricyanocyclopentadiene 1,3-Cyclopentadiene-2,3,5-tricarbonitrile N#CC1C=C(C#N)C(=C1)C#N cyclopenta-2,5-diene-1,2,4-tricarbonitrile\n",
      "461 4-Cl-C6H4-SO(=NTf)NH-SO2C6H4-4-NO2 - [NH-][S](=O)(=N[S](=O)(=O)C(F)(F)F)C1=CC=C(Cl)C=C1 -\n",
      "462 HI 20461-54-5 I iodide\n",
      "463 9-COOMe-fluorene - no matches -\n",
      "464 (4-Me-C6F4)2CHCN - no matches -\n",
      "465 (4-Me-C6F4)(C6F5)CHCN - no matches -\n",
      "466 9-CN-fluorene - no matches -\n",
      "467 (4-H-C6F4)(C6F5)CHCN - no matches -\n",
      "468 (4-Cl-C6F4)(C6F5)CHCN - no matches -\n",
      "469 (2-C10F7)(C6F5)CHCN - no matches -\n",
      "470 9-C6F5-Octafluorofluorene 63264-80-2 FC1=C(F)C(=C(C2C3=C(C(=C(F)C(=C3F)F)F)C4=C2C(=C(F)C(=C4F)F)F)C(=C1F)F)F 1,2,3,4,5,6,7,8-octafluoro-9-(2,3,4,5,6-pentafluorophenyl)-9H-fluorene\n",
      "471 (2-C10F7)2CHCN - FC1=C(F)C2=C(C(=C1F)F)C(=C(C(C#N)C3=C(F)C4=C(F)C(=C(F)C(=C4C(=C3F)F)F)F)C(=C2F)F)F 2,2-bis(1,3,4,5,6,7,8-heptafluoronaphthalen-2-yl)acetonitrile\n",
      "472 (4-CF3-C6F4)(C6F5)CHCN - FC1=C(F)C(=C(C(C#N)C2=C(F)C(=C(C(=C2F)F)C(F)(F)F)F)C(=C1F)F)F 2-(2,3,4,5,6-pentafluorophenyl)-2-[2,3,5,6-tetrafluoro-4-(trifluoromethyl)phenyl]acetonitrile\n",
      "473 (C 6F5)CH(CN)COOEt - no matches -\n",
      "474 (4-Cl-C6F4)CH(CN)COOEt - no matches -\n",
      "475 (2-C10F7)CH(CN)COOEt - no matches -\n",
      "476 (4-CF3-C6F4)CH(CN)COOEt - no matches -\n",
      "477 (4-NC5F4)(C6F5)CHCN - no matches -\n",
      "478 (4-NC5F4)CH(CN)COOEt - no matches -\n",
      "479 3-CF3-C6H4CH(CN)2 - no matches -\n",
      "480 (4-NC5F4)2CHCN - no matches -\n",
      "481 4-H-C6F4CH(CN)2 - no matches -\n",
      "482 2-C10F7CH(CN)2 - no matches -\n",
      "483 Bromothymol blue 76-59-5 CC1=C(C=C(C(=C1Br)O)C(C)C)C2(C3=CC=CC=C3S(=O)(=O)O2)C4=C(C(=C(C(=C4)C(C)C)O)Br)C 2-bromo-4-[3-(3-bromo-4-hydroxy-2-methyl-5-propan-2-ylphenyl)-1,1-dioxo-2,1λ6-benzoxathiol-3-yl]-3-methyl-6-propan-2-ylphenol\n",
      "484 Bromocresol green 76-60-8 CC1=C(C(=C(C=C1C2(C3=CC=CC=C3S(=O)(=O)O2)C4=CC(=C(C(=C4C)Br)O)Br)Br)O)Br 2,6-dibromo-4-[3-(3,5-dibromo-4-hydroxy-2-methylphenyl)-1,1-dioxo-2,1λ6-benzoxathiol-3-yl]-3-methylphenol\n",
      "485 Picric acid 88-89-1 C1=C(C=C(C(=C1[N+](=O)[O-])O)[N+](=O)[O-])[N+](=O)[O-] 2,4,6-trinitrophenol\n",
      "486 HCl 16887-00-6 Cl chloride\n",
      "487 2,3,4,6-(CF3)4-C6HCH(CN)2 - FC(F)(F)C1=C(C(C#N)C#N)C(=C(C(=C1)C(F)(F)F)C(F)(F)F)C(F)(F)F -\n",
      "488 4-CF3-C6F4CH(CN)2 - no matches -\n",
      "489 4-NO2-C H 6 4SO2NHTos m - no matches -\n",
      "490 4-NO2-C6H4SO2NHSO2C6H4-4-Cl - no matches -\n",
      "491 C6(CF3)5CH(CN)2 - no matches -\n",
      "492 (4-NO2-C6H4-SO2)2NH - no matches -\n",
      "493 3-NO2-4-Cl-C6H3SO2NHSO2C6H4-4- - no matches -\n",
      "494 N(3O-N2 O 2-4-Cl-C H SO 6 3 2)2NH - no matches -\n",
      "495 HBr 24959-67-9 Br bromide\n",
      "496 4-NO2-C6H4SO2CH(CN)2 - no matches -\n",
      "497 2,4,6-(SO2F)3-Phenol 654055-01-3 no SMILES 2-(2,4-dihydroxyphenyl)-3,5,7-trihydroxychromen-4-one;dihydrate\n",
      "498 2,4,6-Tf3-Phenol - OC1=C(C=C(C=C1[S](=O)(=O)C(F)(F)F)[S](=O)(=O)C(F)(F)F)[S](=O)(=O)C(F)(F)F 2,4,6-tris(trifluoromethylsulfonyl)phenol\n",
      "499 4-Cl-C6H4SO(=NTf)NHTos - no matches -\n",
      "500 2,3,5-tricyanocyclopentadiene 1,3-Cyclopentadiene-2,3,5-tricarbonitrile N#CC1C=C(C#N)C(=C1)C#N cyclopenta-2,5-diene-1,2,4-tricarbonitrile\n",
      "501 4-Cl-C6H4SO(=NTf)NHSO2C6H4-5-Cl - no matches -\n",
      "502 HI 20461-54-5 I iodide\n",
      "503 4-NO2-C6H4SO2NHTf - no matches -\n",
      "504 C(CN)2=C(CN)OH 654055-01-3 no SMILES 2-(2,4-dihydroxyphenyl)-3,5,7-trihydroxychromen-4-one;dihydrate\n",
      "505 4-Cl-C6H4SO(=NTf)NHSO2C6H4-NO2 - no matches -\n",
      "506 2,4-(NO2)2-C6H3SO2OH - no matches -\n",
      "507 9-COOMe-fluorene - no matches -\n",
      "508 9-CN-fluorene - no matches -\n",
      "509 (4-Cl-C6F4)(C6F5)CHCN - no matches -\n",
      "510 (4-CF3-C6F4)(C6F5)CHCN - FC1=C(F)C(=C(C(C#N)C2=C(F)C(=C(C(=C2F)F)C(F)(F)F)F)C(=C1F)F)F 2-(2,3,4,5,6-pentafluorophenyl)-2-[2,3,5,6-tetrafluoro-4-(trifluoromethyl)phenyl]acetonitrile\n",
      "511 (C 6F5)CH(CN)COOEt - no matches -\n",
      "512 (4-Cl-C6F4)CH(CN)COOEt - no matches -\n",
      "513 (4-CF3-C6F4)CH(CN)COOEt - no matches -\n",
      "514 (4-NC5F4)(C6F5)CHCN - no matches -\n",
      "515 (4-NC5F4)CH(CN)COOEt - no matches -\n",
      "516 (4-NC5F4)2CHCN - no matches -\n",
      "517 Picric acid 88-89-1 C1=C(C=C(C(=C1[N+](=O)[O-])O)[N+](=O)[O-])[N+](=O)[O-] 2,4,6-trinitrophenol\n",
      "518 4-CF3-C6F4CH(CN)2 - no matches -\n",
      "519 7-nitroIndole - nan -\n",
      "520 Indoxyl acetate - nan -\n",
      "521 Phenol - nan -\n",
      "522 tBu4Box2CH2 - no matches -\n",
      "523 4-cyano-2,3,5,6-tetrafluoroAniline - nan -\n",
      "524 pentakis(trifluoromethyl)Toluene - nan -\n",
      "525 5-nitroIndole - nan -\n",
      "526 9_C6F5_Fluorene - no matches -\n",
      "527 1_(4_Cl_C6H4)_3_(3,4_Cl2_C6H3)urea - no matches -\n",
      "528 4-nitroIndole - nan -\n",
      "529 6-nitroIndole - nan -\n",
      "530 Me2Box2CH2 - no matches -\n",
      "531 (3,5_(CF3)2_C6H3)3COH - no matches -\n",
      "532 C6H5_CH2_Tf - no matches -\n",
      "533 1,2,3,4_F4_9_Ph_Fluorene - no matches -\n",
      "534 4_Cl_C6H4_CH2_Tf - no matches -\n",
      "535 4_F_C6H4_CH2_Tf - no matches -\n",
      "536 (Ph)(4_Me_C6F4)CHCN - no matches -\n",
      "537 4_Me_C6H4_SO2_NH2 - no matches -\n",
      "538 Box2CH2 - no matches -\n",
      "539 (4_NC5F4)(4_Me_C6H4)NH - no matches -\n",
      "540 Ph_SO2_NH2 - no matches -\n",
      "541 Triazine 2 - no matches -\n",
      "542 3-trifluoromethylPhenol - nan -\n",
      "543 C6F5_NH_COMe - no matches -\n",
      "544 (Ph)(4_NC5F4)NH - no matches -\n",
      "545 (4_NO2_C6H4)2NH - no matches -\n",
      "546 4-nitroIndolocarbazole - nan -\n",
      "547 4_F_C6H4_SO2_NH2 - no matches -\n",
      "548 SBoxCH2 - no matches -\n",
      "549 (Ph)(C6F5)CHCN - no matches -\n",
      "550 3-cyanoIndole - nan -\n",
      "551 4_Cl_C6H4_SO2_NH2 - no matches -\n",
      "552 Triazine 1 - no matches -\n",
      "553 3_F_C6H4_CH2_Tf - no matches -\n",
      "554 4-trifluoromethylPhenol - nan -\n",
      "555 3_Cl_C6H4_CH2_Tf - no matches -\n",
      "556 4_CF3_C6H4_SO2_NH2 - no matches -\n",
      "557 3_CF3_C6H4_SO2_NH2 - no matches -\n",
      "558 (4_Me2N_C6F4)(C6F5)NH - no matches -\n",
      "559 3_CF3_C6H4_CH2_Tf - no matches -\n",
      "560 (4_Me_C6F4)(C6F5)NH - no matches -\n",
      "561 2-trifluoromethylPhenol - nan -\n",
      "562 1,3_Bis(4_NO2_C6H4)urea - no matches -\n",
      "563 3_NO2_C6H4_SO2_NH2 - no matches -\n",
      "564 pentakis(trifluoromethyl)Aniline - nan -\n",
      "565 4_NO2_C6H4_SO2_NH2 - no matches -\n",
      "566 3_CN_C6H4_CH2_Tf - no matches -\n",
      "567 Octafluorofluorene - no matches -\n",
      "568 4_CF3_C6H4_CH2_Tf - no matches -\n",
      "569 3,5_(CF3)2_Ph_C_thiourea - no matches -\n",
      "570 (4_H_C6F4)(C6F5)NH - no matches -\n",
      "571 C6F5_NH_C(CF3)3 - no matches -\n",
      "572 (C6F5)2NH - no matches -\n",
      "573 3,5_F2_C6H3_CH2_Tf - no matches -\n",
      "574 Fluoradene - no matches -\n",
      "575 2,4,6-trinitroAniline - nan -\n",
      "576 3,5-bis(trifluoromethyl)Phenol - nan -\n",
      "577 2-nitroIndole - nan -\n",
      "578 9_COOMe_Fluorene - no matches -\n",
      "579 Acetic acid - nan -\n",
      "580 (4_Cl_C6F4)(C6F5)NH - no matches -\n",
      "581 4_CN_C6H4_CH2_Tf - no matches -\n",
      "582 Sorbic acid - nan -\n",
      "583 C6F5_CH(COOEt)2 - no matches -\n",
      "584 2-nitroPhenol - nan -\n",
      "585 3,5_(CF3)2_C6H3_CH2_Tf - no matches -\n",
      "586 (4_Me_C6F4)2CHCN - no matches -\n",
      "587 Retinoic acid - nan -\n",
      "588 3-nitroIndole - nan -\n",
      "589 C6F5_SO2_NH2 - no matches -\n",
      "590 (4_Me_C6F4)(C6F5)CHCN - no matches -\n",
      "591 4_NO2_C6H4_CH2_Tf - no matches -\n",
      "592 Benzoic acid - nan -\n",
      "593 (4_CF3_C6H4)(C6F5)NH - no matches -\n",
      "594 9_CN_Fluorene - no matches -\n",
      "595 Alizarin - nan -\n",
      "596 (4_H_C6F4)(C6F5)CHCN - no matches -\n",
      "597 (C6F5)2CHCN Bis(pentafluorophenyl)acetonitrile FC1=C(F)C(=C(C(C#N)C2=C(F)C(=C(F)C(=C2F)F)F)C(=C1F)F)F 2,2-bis(2,3,4,5,6-pentafluorophenyl)acetonitrile\n",
      "598 4_CF3_C6F4_CH2_Tf - no matches -\n",
      "599 (CF3)3COH - nan -\n",
      "600 (4_NC5F4)(C6F5)NH - no matches -\n",
      "601 (4_Cl_C6F4)(C6F5)CHCN - no matches -\n",
      "602 2,4,6-tribromoPhenol - nan -\n",
      "603 pentacyanoToluene - nan -\n",
      "604 (2,4,6_Cl3_C6F2)(C6F5)CHCN - no matches -\n",
      "605 2,3,5,6-tetrafluoroPhenol - nan -\n",
      "606 pentafluoroPhenol - nan -\n",
      "607 (2-C10F7)(C6F5)CHCN - no matches -\n",
      "608 (4_CN_C6F4)(C6F5)NH - no matches -\n",
      "609 1_C10F7_OH - no matches -\n",
      "610 2,4,6_(SO2F)3_Aniline - no matches -\n",
      "611 (2_C10F7)2CHCN - no matches -\n",
      "612 Br4_CA_benzoic acid - no matches -\n",
      "613 9_C6F5_Octafluorofluorene - no matches -\n",
      "614 2_C10F7_OH - no matches -\n",
      "615 [4_(Ph3B)_2,6_Mes2_Pyridine]H - no matches -\n",
      "616 (4_NC5F4)(4_CF3_C6F4)NH - no matches -\n",
      "617 (4_CF3_C6F4)(C6F5)CHCN - no matches -\n",
      "618 4_C6F5_2,3,5,6_F4_Phenol - no matches -\n",
      "619 Br4_CF3_CAC_benzoic acid - no matches -\n",
      "620 4_H_C6F4_CH(CN)COOEt - no matches -\n",
      "621 pentachloroPhenol - nan -\n",
      "622 pentabromoPhenol - nan -\n",
      "623 C6F5_CH(CN)COOEt - no matches -\n",
      "624 4_Me_C6H4_CH(CN)2 - no matches -\n",
      "625 2_C10F7_CH(CN)COOEt - no matches -\n",
      "626 4_Cl_C6F4_CH(CN)COOEt - no matches -\n",
      "627 (4_NC5F4)2NH - no matches -\n",
      "628 Br4_CX_benzoic acid - no matches -\n",
      "629 2_Me_4,6_(NO2)2_Phenol - no matches -\n",
      "630 2,6-dinitroPhenol - nan -\n",
      "631 2,4-dinitroPhenol - nan -\n",
      "632 2,3,5,6-tetrafluoro-4-trifluoromethylPhenol - nan -\n",
      "633 (4_NC5F4)(C6F5)CHCN - no matches -\n",
      "634 4-fluoro-2,6-dinitroPhenol - nan -\n",
      "635 (4_CF3_C6F4)2CHCN - no matches -\n",
      "636 4_CF3_C6F4_CH(CN)COOEt - no matches -\n",
      "637 (4_NC5F4)(2_C10F7)CHCN - no matches -\n",
      "638 4_NO2_C6H4_SO2_NH_CO_C6H4_4_Me - no matches -\n",
      "639 4_NC5F4_OH - no matches -\n",
      "640 4_NC5F4_CH(CN)COOEt - no matches -\n",
      "641 3_CF3_C6H4_CH(CN)2 - no matches -\n",
      "642 Saccharin - nan -\n",
      "643 3_NO2_C6H4_SO2_NH_CO_C6H4_3_Cl - no matches -\n",
      "644 4_NO2_C6H4_SO2_NH_CO_C6H4_3_Cl - no matches -\n",
      "645 2-chloro-4,6-dinitroPhenol - nan -\n",
      "646 [9_Phenanthrene]_BPA_[H8] - no matches -\n",
      "647 4_Me_C6F4_CH(CN)2 - no matches -\n",
      "648 [2,4,6_i_Pr3_C6H2]_BPA - no matches -\n",
      "649 RR_3,5_(CF3)2_Ph_CXCC_Br4_benzoic acid - no matches -\n",
      "650 (4_NC5F4)2CHCN - no matches -\n",
      "651 2,3,4,5,6_(CF3)5_C6_CH(CN)COOEt - no matches -\n",
      "652 [9_Phenanthrene]_BPA - no matches -\n",
      "653 C6F5_CH(CN)2 - no matches -\n",
      "654 4_H_C6F4_CH(CN)2 - no matches -\n",
      "655 [Ph]_BPA - no matches -\n",
      "656 3_CF3_4_NO2_Ph_CACC_Br4_benzoic acid - no matches -\n",
      "657 [4_F_C6H4]_BPA - no matches -\n",
      "658 3,5_(CF3)2_Ph_CACC_Br4_benzoic acid - no matches -\n",
      "659 2_C10F7_CH(CN)2 - no matches -\n",
      "660 Tos2NH - no matches -\n",
      "661 Ph_SO2_NH_SO2_Me - no matches -\n",
      "662 RS_3,5_(CF3)2_Ph_CXCC_Br4_benzoic acid - no matches -\n",
      "663 4_NO2_C6H4_CH(CN)2 - no matches -\n",
      "664 4_MeO_C6H4_CO_NH_Tf - no matches -\n",
      "665 C6F5_NH_Tf - no matches -\n",
      "666 4_Me_C6H4_CO_NH_Tf - no matches -\n",
      "667 (C6H5_SO2)2NH - no matches -\n",
      "668 4_MeO_C6H4_SO2_NH_SO2_C6H4_4_Cl - no matches -\n",
      "669 C6F5_NH_SO2_C4F9 - no matches -\n",
      "670 C6F5_NH_SO2_C8F17 - no matches -\n",
      "671 4_Cl_C6H4_SO2_NH_Tos - no matches -\n",
      "672 C6H5_CO_NH_Tf - no matches -\n",
      "673 Picric acid - nan -\n",
      "674 5-nitroBarbituric acid - nan -\n",
      "675 4_F_C6H4_CO_NH_Tf - no matches -\n",
      "676 (2,4,6_(NO2)3_C6H2)2NH - no matches -\n",
      "677 pentakis(trifluoromethyl)Phenol 723294-91-5 C1(=C(C(=C(C(=C1C(F)(F)F)C(F)(F)F)O)C(F)(F)F)C(F)(F)F)C(F)(F)F 2,3,4,5,6-pentakis(trifluoromethyl)phenol\n",
      "678 2,3,4,6_(CF3)4_C6H_CH(CN)2 - no matches -\n",
      "679 4_Cl_C6H4_CO_NH_Tf - no matches -\n",
      "680 HCl - nan -\n",
      "681 4_MeO_C6H4_SO2_NH_SO2_C6H4_4_NO2 - no matches -\n",
      "682 (4_Cl_C6H4_SO2)2NH - no matches -\n",
      "683 4_CF3_C6F4_CH(CN)2 - no matches -\n",
      "684 pentakis(trifluoromethyl)Thiophenol - nan -\n",
      "685 3_NO2_C6H4_SO2_NH_Tos - no matches -\n",
      "686 4_NO2_C6H4_SO2_NH_Tos - no matches -\n",
      "687 CH3SO3H - nan -\n",
      "688 4_Cl_3_NO2_C6H3_SO2_NH_Tos - no matches -\n",
      "689 2,4_(NO2)2_C6H3_CH(CN)2 - no matches -\n",
      "690 4_NO2_C6H4_CO_NH_Tf - no matches -\n",
      "691 4_NO2_C6H4_SO2_NH_SO2_C6H4_4_Cl - no matches -\n",
      "692 2,3,4,5,6_(CF3)5_C6_CH(CN)2 - no matches -\n",
      "693 [2,3,4,5,6_(CF3)5_C6]2NH - no matches -\n",
      "694 4_Cl_3_NO2_C6H3_SO2_NH_SO2_C6H4_4_Cl - no matches -\n",
      "695 TosOH - nan -\n",
      "696 PhSO3H - nan -\n",
      "697 (3_NO2_C6H4_SO2)2NH - no matches -\n",
      "698 (4_NO2_C6H4_SO2)2NH - no matches -\n",
      "699 2,4,6_(SO2OCH2CF2CF2H)3_Phenol - no matches -\n",
      "700 2,4,6_(SO2OCH2CF3)3_Phenol - no matches -\n",
      "701 1_C10H7_SO3H - no matches -\n",
      "702 3_NO2_C6H4_SO2_NH_SO2_C6H3_3_NO2_4_Cl - no matches -\n",
      "703 4_NO2_C6H4_SO2_NH_SO2_C6H3_3_NO2_4_Cl - no matches -\n",
      "704 C6H5_CHTf2 - no matches -\n",
      "705 H2SO4 - nan -\n",
      "706 C6F5_SO2_NH_SO2_C6H4_4_Cl - no matches -\n",
      "707 (4_Cl_3_NO2_C6H3_SO2)2NH - no matches -\n",
      "708 Me_TCNP - no matches -\n",
      "709 4_Cl_C6H4_SO3H - no matches -\n",
      "710 [4_MeO_C6H4][CF3]_NTPA_[H8] - no matches -\n",
      "711 [Ph][C8F17]_NTPA_[H8] - no matches -\n",
      "712 [Ph][CF3]_NTPA_[H8] - no matches -\n",
      "713 C6F5_SO2_NH_SO2_C6H4_3_NO2 - no matches -\n",
      "714 [Ph][C4F9]_NTPA_[H8] - no matches -\n",
      "715 C6F5_SO2_NH_SO2_C6H4_4_NO2 - no matches -\n",
      "716 3_NO2_C6H4_SO3H - no matches -\n",
      "717 [4_MeO_C6H4][CF3]_NTPA - no matches -\n",
      "718 [Ph][CF3]_NTPA - no matches -\n",
      "719 4_NO2_C6H4_SO3H - no matches -\n",
      "720 [4_F_C6H4][CF3]_NTPA_[H8] - no matches -\n",
      "721 3_NO2_C6H4_SO2_CH(CN)2 - no matches -\n",
      "722 C6F5_SO2_NH_SO2_C6H3_3_NO2_4Cl - no matches -\n",
      "723 4_MeO_C6H4_C(=NTf)_NH_Tf - no matches -\n",
      "724 4_NO2_C6H4_SO2_CH(CN)2 - no matches -\n",
      "725 Tos_NH_Tf - no matches -\n",
      "726 4_Me_C6H4_C(=NTf)_NH_Tf - no matches -\n",
      "727 C6H5_C(=NTf)_NH_Tf - no matches -\n",
      "728 H_TCNP - no matches -\n",
      "729 C6H5_SO2_NH_Tf - no matches -\n",
      "730 HBr 24959-67-9 Br bromide\n",
      "731 4_F_C6H4_C(=NTf)_NH_Tf - no matches -\n",
      "732 2,4,6_(SO2F)3_Phenol - no matches -\n",
      "733 4_Cl_C6H4_C(=NTf)_NH_Tf - no matches -\n",
      "734 (C6F5_SO2)2NH - no matches -\n",
      "735 CH(CN)3 - nan -\n",
      "736 4_Cl_C6H4_SO2_NH_Tf - no matches -\n",
      "737 [3,5_(CF3)2_C6H3]_JINGLE - no matches -\n",
      "738 4_Cl_C6H4_SO(=NTf)_NH_Tos - no matches -\n",
      "739 4_NO2_C6H4_C(=NTf)_NH_Tf - no matches -\n",
      "740 2,4,6-Tf3Phenol - nan -\n",
      "741 (CN)2C=C(CN)OH - OC(C#N)=C(C#N)C#N 2-hydroxyethene-1,1,2-tricarbonitrile\n",
      "742 4_NO2_C6H4_SO2_NH_Tf - no matches -\n",
      "743 4-Cl-C6H4-SO(=NTf)-NH-SO2-C6H4-4-Cl - no matches -\n",
      "744 2.4-(NO2)2-C6H3-SO3H - no matches -\n",
      "745 2,3,5-tricyanocyclopentadiene 1,3-Cyclopentadiene-2,3,5-tricarbonitrile N#CC1C=C(C#N)C(=C1)C#N cyclopenta-2,5-diene-1,2,4-tricarbonitrile\n",
      "746 4-Cl-C6H4-SO(=NTf)-NH-SO2-C6H4-4-NO2 - no matches -\n",
      "747 HI - I -\n"
     ]
    },
    {
     "ename": "UnboundLocalError",
     "evalue": "local variable 'IUPAC' referenced before assignment",
     "output_type": "error",
     "traceback": [
      "\u001b[0;31m---------------------------------------------------------------------------\u001b[0m",
      "\u001b[0;31mConnectionResetError\u001b[0m                      Traceback (most recent call last)",
      "\u001b[0;32m~/opt/anaconda3/lib/python3.8/site-packages/urllib3/connectionpool.py\u001b[0m in \u001b[0;36murlopen\u001b[0;34m(self, method, url, body, headers, retries, redirect, assert_same_host, timeout, pool_timeout, release_conn, chunked, body_pos, **response_kw)\u001b[0m\n\u001b[1;32m    669\u001b[0m             \u001b[0;31m# Make the request on the httplib connection object.\u001b[0m\u001b[0;34m\u001b[0m\u001b[0;34m\u001b[0m\u001b[0;34m\u001b[0m\u001b[0m\n\u001b[0;32m--> 670\u001b[0;31m             httplib_response = self._make_request(\n\u001b[0m\u001b[1;32m    671\u001b[0m                 \u001b[0mconn\u001b[0m\u001b[0;34m,\u001b[0m\u001b[0;34m\u001b[0m\u001b[0;34m\u001b[0m\u001b[0m\n",
      "\u001b[0;32m~/opt/anaconda3/lib/python3.8/site-packages/urllib3/connectionpool.py\u001b[0m in \u001b[0;36m_make_request\u001b[0;34m(self, conn, method, url, timeout, chunked, **httplib_request_kw)\u001b[0m\n\u001b[1;32m    425\u001b[0m                     \u001b[0;31m# Otherwise it looks like a bug in the code.\u001b[0m\u001b[0;34m\u001b[0m\u001b[0;34m\u001b[0m\u001b[0;34m\u001b[0m\u001b[0m\n\u001b[0;32m--> 426\u001b[0;31m                     \u001b[0msix\u001b[0m\u001b[0;34m.\u001b[0m\u001b[0mraise_from\u001b[0m\u001b[0;34m(\u001b[0m\u001b[0me\u001b[0m\u001b[0;34m,\u001b[0m \u001b[0;32mNone\u001b[0m\u001b[0;34m)\u001b[0m\u001b[0;34m\u001b[0m\u001b[0;34m\u001b[0m\u001b[0m\n\u001b[0m\u001b[1;32m    427\u001b[0m         \u001b[0;32mexcept\u001b[0m \u001b[0;34m(\u001b[0m\u001b[0mSocketTimeout\u001b[0m\u001b[0;34m,\u001b[0m \u001b[0mBaseSSLError\u001b[0m\u001b[0;34m,\u001b[0m \u001b[0mSocketError\u001b[0m\u001b[0;34m)\u001b[0m \u001b[0;32mas\u001b[0m \u001b[0me\u001b[0m\u001b[0;34m:\u001b[0m\u001b[0;34m\u001b[0m\u001b[0;34m\u001b[0m\u001b[0m\n",
      "\u001b[0;32m~/opt/anaconda3/lib/python3.8/site-packages/urllib3/packages/six.py\u001b[0m in \u001b[0;36mraise_from\u001b[0;34m(value, from_value)\u001b[0m\n",
      "\u001b[0;32m~/opt/anaconda3/lib/python3.8/site-packages/urllib3/connectionpool.py\u001b[0m in \u001b[0;36m_make_request\u001b[0;34m(self, conn, method, url, timeout, chunked, **httplib_request_kw)\u001b[0m\n\u001b[1;32m    420\u001b[0m                 \u001b[0;32mtry\u001b[0m\u001b[0;34m:\u001b[0m\u001b[0;34m\u001b[0m\u001b[0;34m\u001b[0m\u001b[0m\n\u001b[0;32m--> 421\u001b[0;31m                     \u001b[0mhttplib_response\u001b[0m \u001b[0;34m=\u001b[0m \u001b[0mconn\u001b[0m\u001b[0;34m.\u001b[0m\u001b[0mgetresponse\u001b[0m\u001b[0;34m(\u001b[0m\u001b[0;34m)\u001b[0m\u001b[0;34m\u001b[0m\u001b[0;34m\u001b[0m\u001b[0m\n\u001b[0m\u001b[1;32m    422\u001b[0m                 \u001b[0;32mexcept\u001b[0m \u001b[0mBaseException\u001b[0m \u001b[0;32mas\u001b[0m \u001b[0me\u001b[0m\u001b[0;34m:\u001b[0m\u001b[0;34m\u001b[0m\u001b[0;34m\u001b[0m\u001b[0m\n",
      "\u001b[0;32m~/opt/anaconda3/lib/python3.8/http/client.py\u001b[0m in \u001b[0;36mgetresponse\u001b[0;34m(self)\u001b[0m\n\u001b[1;32m   1346\u001b[0m             \u001b[0;32mtry\u001b[0m\u001b[0;34m:\u001b[0m\u001b[0;34m\u001b[0m\u001b[0;34m\u001b[0m\u001b[0m\n\u001b[0;32m-> 1347\u001b[0;31m                 \u001b[0mresponse\u001b[0m\u001b[0;34m.\u001b[0m\u001b[0mbegin\u001b[0m\u001b[0;34m(\u001b[0m\u001b[0;34m)\u001b[0m\u001b[0;34m\u001b[0m\u001b[0;34m\u001b[0m\u001b[0m\n\u001b[0m\u001b[1;32m   1348\u001b[0m             \u001b[0;32mexcept\u001b[0m \u001b[0mConnectionError\u001b[0m\u001b[0;34m:\u001b[0m\u001b[0;34m\u001b[0m\u001b[0;34m\u001b[0m\u001b[0m\n",
      "\u001b[0;32m~/opt/anaconda3/lib/python3.8/http/client.py\u001b[0m in \u001b[0;36mbegin\u001b[0;34m(self)\u001b[0m\n\u001b[1;32m    306\u001b[0m         \u001b[0;32mwhile\u001b[0m \u001b[0;32mTrue\u001b[0m\u001b[0;34m:\u001b[0m\u001b[0;34m\u001b[0m\u001b[0;34m\u001b[0m\u001b[0m\n\u001b[0;32m--> 307\u001b[0;31m             \u001b[0mversion\u001b[0m\u001b[0;34m,\u001b[0m \u001b[0mstatus\u001b[0m\u001b[0;34m,\u001b[0m \u001b[0mreason\u001b[0m \u001b[0;34m=\u001b[0m \u001b[0mself\u001b[0m\u001b[0;34m.\u001b[0m\u001b[0m_read_status\u001b[0m\u001b[0;34m(\u001b[0m\u001b[0;34m)\u001b[0m\u001b[0;34m\u001b[0m\u001b[0;34m\u001b[0m\u001b[0m\n\u001b[0m\u001b[1;32m    308\u001b[0m             \u001b[0;32mif\u001b[0m \u001b[0mstatus\u001b[0m \u001b[0;34m!=\u001b[0m \u001b[0mCONTINUE\u001b[0m\u001b[0;34m:\u001b[0m\u001b[0;34m\u001b[0m\u001b[0;34m\u001b[0m\u001b[0m\n",
      "\u001b[0;32m~/opt/anaconda3/lib/python3.8/http/client.py\u001b[0m in \u001b[0;36m_read_status\u001b[0;34m(self)\u001b[0m\n\u001b[1;32m    267\u001b[0m     \u001b[0;32mdef\u001b[0m \u001b[0m_read_status\u001b[0m\u001b[0;34m(\u001b[0m\u001b[0mself\u001b[0m\u001b[0;34m)\u001b[0m\u001b[0;34m:\u001b[0m\u001b[0;34m\u001b[0m\u001b[0;34m\u001b[0m\u001b[0m\n\u001b[0;32m--> 268\u001b[0;31m         \u001b[0mline\u001b[0m \u001b[0;34m=\u001b[0m \u001b[0mstr\u001b[0m\u001b[0;34m(\u001b[0m\u001b[0mself\u001b[0m\u001b[0;34m.\u001b[0m\u001b[0mfp\u001b[0m\u001b[0;34m.\u001b[0m\u001b[0mreadline\u001b[0m\u001b[0;34m(\u001b[0m\u001b[0m_MAXLINE\u001b[0m \u001b[0;34m+\u001b[0m \u001b[0;36m1\u001b[0m\u001b[0;34m)\u001b[0m\u001b[0;34m,\u001b[0m \u001b[0;34m\"iso-8859-1\"\u001b[0m\u001b[0;34m)\u001b[0m\u001b[0;34m\u001b[0m\u001b[0;34m\u001b[0m\u001b[0m\n\u001b[0m\u001b[1;32m    269\u001b[0m         \u001b[0;32mif\u001b[0m \u001b[0mlen\u001b[0m\u001b[0;34m(\u001b[0m\u001b[0mline\u001b[0m\u001b[0;34m)\u001b[0m \u001b[0;34m>\u001b[0m \u001b[0m_MAXLINE\u001b[0m\u001b[0;34m:\u001b[0m\u001b[0;34m\u001b[0m\u001b[0;34m\u001b[0m\u001b[0m\n",
      "\u001b[0;32m~/opt/anaconda3/lib/python3.8/socket.py\u001b[0m in \u001b[0;36mreadinto\u001b[0;34m(self, b)\u001b[0m\n\u001b[1;32m    668\u001b[0m             \u001b[0;32mtry\u001b[0m\u001b[0;34m:\u001b[0m\u001b[0;34m\u001b[0m\u001b[0;34m\u001b[0m\u001b[0m\n\u001b[0;32m--> 669\u001b[0;31m                 \u001b[0;32mreturn\u001b[0m \u001b[0mself\u001b[0m\u001b[0;34m.\u001b[0m\u001b[0m_sock\u001b[0m\u001b[0;34m.\u001b[0m\u001b[0mrecv_into\u001b[0m\u001b[0;34m(\u001b[0m\u001b[0mb\u001b[0m\u001b[0;34m)\u001b[0m\u001b[0;34m\u001b[0m\u001b[0;34m\u001b[0m\u001b[0m\n\u001b[0m\u001b[1;32m    670\u001b[0m             \u001b[0;32mexcept\u001b[0m \u001b[0mtimeout\u001b[0m\u001b[0;34m:\u001b[0m\u001b[0;34m\u001b[0m\u001b[0;34m\u001b[0m\u001b[0m\n",
      "\u001b[0;31mConnectionResetError\u001b[0m: [Errno 54] Connection reset by peer",
      "\nDuring handling of the above exception, another exception occurred:\n",
      "\u001b[0;31mProtocolError\u001b[0m                             Traceback (most recent call last)",
      "\u001b[0;32m<ipython-input-346-f40ffd934f2d>\u001b[0m in \u001b[0;36mSMILE_checker\u001b[0;34m(mol)\u001b[0m\n\u001b[1;32m      4\u001b[0m         \u001b[0;31m#search query\u001b[0m\u001b[0;34m\u001b[0m\u001b[0;34m\u001b[0m\u001b[0;34m\u001b[0m\u001b[0m\n\u001b[0;32m----> 5\u001b[0;31m         \u001b[0mbrowser\u001b[0m\u001b[0;34m.\u001b[0m\u001b[0mget\u001b[0m\u001b[0;34m(\u001b[0m\u001b[0;34m\"https://pubchem.ncbi.nlm.nih.gov/#query=\"\u001b[0m\u001b[0;34m+\u001b[0m\u001b[0mmol\u001b[0m\u001b[0;34m)\u001b[0m\u001b[0;34m\u001b[0m\u001b[0;34m\u001b[0m\u001b[0m\n\u001b[0m\u001b[1;32m      6\u001b[0m         \u001b[0mtime\u001b[0m\u001b[0;34m.\u001b[0m\u001b[0msleep\u001b[0m\u001b[0;34m(\u001b[0m\u001b[0;36m5\u001b[0m\u001b[0;34m)\u001b[0m\u001b[0;34m\u001b[0m\u001b[0;34m\u001b[0m\u001b[0m\n",
      "\u001b[0;32m~/opt/anaconda3/lib/python3.8/site-packages/selenium/webdriver/remote/webdriver.py\u001b[0m in \u001b[0;36mget\u001b[0;34m(self, url)\u001b[0m\n\u001b[1;32m    332\u001b[0m         \"\"\"\n\u001b[0;32m--> 333\u001b[0;31m         \u001b[0mself\u001b[0m\u001b[0;34m.\u001b[0m\u001b[0mexecute\u001b[0m\u001b[0;34m(\u001b[0m\u001b[0mCommand\u001b[0m\u001b[0;34m.\u001b[0m\u001b[0mGET\u001b[0m\u001b[0;34m,\u001b[0m \u001b[0;34m{\u001b[0m\u001b[0;34m'url'\u001b[0m\u001b[0;34m:\u001b[0m \u001b[0murl\u001b[0m\u001b[0;34m}\u001b[0m\u001b[0;34m)\u001b[0m\u001b[0;34m\u001b[0m\u001b[0;34m\u001b[0m\u001b[0m\n\u001b[0m\u001b[1;32m    334\u001b[0m \u001b[0;34m\u001b[0m\u001b[0m\n",
      "\u001b[0;32m~/opt/anaconda3/lib/python3.8/site-packages/selenium/webdriver/remote/webdriver.py\u001b[0m in \u001b[0;36mexecute\u001b[0;34m(self, driver_command, params)\u001b[0m\n\u001b[1;32m    318\u001b[0m         \u001b[0mparams\u001b[0m \u001b[0;34m=\u001b[0m \u001b[0mself\u001b[0m\u001b[0;34m.\u001b[0m\u001b[0m_wrap_value\u001b[0m\u001b[0;34m(\u001b[0m\u001b[0mparams\u001b[0m\u001b[0;34m)\u001b[0m\u001b[0;34m\u001b[0m\u001b[0;34m\u001b[0m\u001b[0m\n\u001b[0;32m--> 319\u001b[0;31m         \u001b[0mresponse\u001b[0m \u001b[0;34m=\u001b[0m \u001b[0mself\u001b[0m\u001b[0;34m.\u001b[0m\u001b[0mcommand_executor\u001b[0m\u001b[0;34m.\u001b[0m\u001b[0mexecute\u001b[0m\u001b[0;34m(\u001b[0m\u001b[0mdriver_command\u001b[0m\u001b[0;34m,\u001b[0m \u001b[0mparams\u001b[0m\u001b[0;34m)\u001b[0m\u001b[0;34m\u001b[0m\u001b[0;34m\u001b[0m\u001b[0m\n\u001b[0m\u001b[1;32m    320\u001b[0m         \u001b[0;32mif\u001b[0m \u001b[0mresponse\u001b[0m\u001b[0;34m:\u001b[0m\u001b[0;34m\u001b[0m\u001b[0;34m\u001b[0m\u001b[0m\n",
      "\u001b[0;32m~/opt/anaconda3/lib/python3.8/site-packages/selenium/webdriver/remote/remote_connection.py\u001b[0m in \u001b[0;36mexecute\u001b[0;34m(self, command, params)\u001b[0m\n\u001b[1;32m    373\u001b[0m         \u001b[0murl\u001b[0m \u001b[0;34m=\u001b[0m \u001b[0;34m'%s%s'\u001b[0m \u001b[0;34m%\u001b[0m \u001b[0;34m(\u001b[0m\u001b[0mself\u001b[0m\u001b[0;34m.\u001b[0m\u001b[0m_url\u001b[0m\u001b[0;34m,\u001b[0m \u001b[0mpath\u001b[0m\u001b[0;34m)\u001b[0m\u001b[0;34m\u001b[0m\u001b[0;34m\u001b[0m\u001b[0m\n\u001b[0;32m--> 374\u001b[0;31m         \u001b[0;32mreturn\u001b[0m \u001b[0mself\u001b[0m\u001b[0;34m.\u001b[0m\u001b[0m_request\u001b[0m\u001b[0;34m(\u001b[0m\u001b[0mcommand_info\u001b[0m\u001b[0;34m[\u001b[0m\u001b[0;36m0\u001b[0m\u001b[0;34m]\u001b[0m\u001b[0;34m,\u001b[0m \u001b[0murl\u001b[0m\u001b[0;34m,\u001b[0m \u001b[0mbody\u001b[0m\u001b[0;34m=\u001b[0m\u001b[0mdata\u001b[0m\u001b[0;34m)\u001b[0m\u001b[0;34m\u001b[0m\u001b[0;34m\u001b[0m\u001b[0m\n\u001b[0m\u001b[1;32m    375\u001b[0m \u001b[0;34m\u001b[0m\u001b[0m\n",
      "\u001b[0;32m~/opt/anaconda3/lib/python3.8/site-packages/selenium/webdriver/remote/remote_connection.py\u001b[0m in \u001b[0;36m_request\u001b[0;34m(self, method, url, body)\u001b[0m\n\u001b[1;32m    396\u001b[0m         \u001b[0;32mif\u001b[0m \u001b[0mself\u001b[0m\u001b[0;34m.\u001b[0m\u001b[0mkeep_alive\u001b[0m\u001b[0;34m:\u001b[0m\u001b[0;34m\u001b[0m\u001b[0;34m\u001b[0m\u001b[0m\n\u001b[0;32m--> 397\u001b[0;31m             \u001b[0mresp\u001b[0m \u001b[0;34m=\u001b[0m \u001b[0mself\u001b[0m\u001b[0;34m.\u001b[0m\u001b[0m_conn\u001b[0m\u001b[0;34m.\u001b[0m\u001b[0mrequest\u001b[0m\u001b[0;34m(\u001b[0m\u001b[0mmethod\u001b[0m\u001b[0;34m,\u001b[0m \u001b[0murl\u001b[0m\u001b[0;34m,\u001b[0m \u001b[0mbody\u001b[0m\u001b[0;34m=\u001b[0m\u001b[0mbody\u001b[0m\u001b[0;34m,\u001b[0m \u001b[0mheaders\u001b[0m\u001b[0;34m=\u001b[0m\u001b[0mheaders\u001b[0m\u001b[0;34m)\u001b[0m\u001b[0;34m\u001b[0m\u001b[0;34m\u001b[0m\u001b[0m\n\u001b[0m\u001b[1;32m    398\u001b[0m \u001b[0;34m\u001b[0m\u001b[0m\n",
      "\u001b[0;32m~/opt/anaconda3/lib/python3.8/site-packages/urllib3/request.py\u001b[0m in \u001b[0;36mrequest\u001b[0;34m(self, method, url, fields, headers, **urlopen_kw)\u001b[0m\n\u001b[1;32m     78\u001b[0m         \u001b[0;32melse\u001b[0m\u001b[0;34m:\u001b[0m\u001b[0;34m\u001b[0m\u001b[0;34m\u001b[0m\u001b[0m\n\u001b[0;32m---> 79\u001b[0;31m             return self.request_encode_body(\n\u001b[0m\u001b[1;32m     80\u001b[0m                 \u001b[0mmethod\u001b[0m\u001b[0;34m,\u001b[0m \u001b[0murl\u001b[0m\u001b[0;34m,\u001b[0m \u001b[0mfields\u001b[0m\u001b[0;34m=\u001b[0m\u001b[0mfields\u001b[0m\u001b[0;34m,\u001b[0m \u001b[0mheaders\u001b[0m\u001b[0;34m=\u001b[0m\u001b[0mheaders\u001b[0m\u001b[0;34m,\u001b[0m \u001b[0;34m**\u001b[0m\u001b[0murlopen_kw\u001b[0m\u001b[0;34m\u001b[0m\u001b[0;34m\u001b[0m\u001b[0m\n",
      "\u001b[0;32m~/opt/anaconda3/lib/python3.8/site-packages/urllib3/request.py\u001b[0m in \u001b[0;36mrequest_encode_body\u001b[0;34m(self, method, url, fields, headers, encode_multipart, multipart_boundary, **urlopen_kw)\u001b[0m\n\u001b[1;32m    170\u001b[0m \u001b[0;34m\u001b[0m\u001b[0m\n\u001b[0;32m--> 171\u001b[0;31m         \u001b[0;32mreturn\u001b[0m \u001b[0mself\u001b[0m\u001b[0;34m.\u001b[0m\u001b[0murlopen\u001b[0m\u001b[0;34m(\u001b[0m\u001b[0mmethod\u001b[0m\u001b[0;34m,\u001b[0m \u001b[0murl\u001b[0m\u001b[0;34m,\u001b[0m \u001b[0;34m**\u001b[0m\u001b[0mextra_kw\u001b[0m\u001b[0;34m)\u001b[0m\u001b[0;34m\u001b[0m\u001b[0;34m\u001b[0m\u001b[0m\n\u001b[0m",
      "\u001b[0;32m~/opt/anaconda3/lib/python3.8/site-packages/urllib3/poolmanager.py\u001b[0m in \u001b[0;36murlopen\u001b[0;34m(self, method, url, redirect, **kw)\u001b[0m\n\u001b[1;32m    335\u001b[0m         \u001b[0;32melse\u001b[0m\u001b[0;34m:\u001b[0m\u001b[0;34m\u001b[0m\u001b[0;34m\u001b[0m\u001b[0m\n\u001b[0;32m--> 336\u001b[0;31m             \u001b[0mresponse\u001b[0m \u001b[0;34m=\u001b[0m \u001b[0mconn\u001b[0m\u001b[0;34m.\u001b[0m\u001b[0murlopen\u001b[0m\u001b[0;34m(\u001b[0m\u001b[0mmethod\u001b[0m\u001b[0;34m,\u001b[0m \u001b[0mu\u001b[0m\u001b[0;34m.\u001b[0m\u001b[0mrequest_uri\u001b[0m\u001b[0;34m,\u001b[0m \u001b[0;34m**\u001b[0m\u001b[0mkw\u001b[0m\u001b[0;34m)\u001b[0m\u001b[0;34m\u001b[0m\u001b[0;34m\u001b[0m\u001b[0m\n\u001b[0m\u001b[1;32m    337\u001b[0m \u001b[0;34m\u001b[0m\u001b[0m\n",
      "\u001b[0;32m~/opt/anaconda3/lib/python3.8/site-packages/urllib3/connectionpool.py\u001b[0m in \u001b[0;36murlopen\u001b[0;34m(self, method, url, body, headers, retries, redirect, assert_same_host, timeout, pool_timeout, release_conn, chunked, body_pos, **response_kw)\u001b[0m\n\u001b[1;32m    725\u001b[0m \u001b[0;34m\u001b[0m\u001b[0m\n\u001b[0;32m--> 726\u001b[0;31m             retries = retries.increment(\n\u001b[0m\u001b[1;32m    727\u001b[0m                 \u001b[0mmethod\u001b[0m\u001b[0;34m,\u001b[0m \u001b[0murl\u001b[0m\u001b[0;34m,\u001b[0m \u001b[0merror\u001b[0m\u001b[0;34m=\u001b[0m\u001b[0me\u001b[0m\u001b[0;34m,\u001b[0m \u001b[0m_pool\u001b[0m\u001b[0;34m=\u001b[0m\u001b[0mself\u001b[0m\u001b[0;34m,\u001b[0m \u001b[0m_stacktrace\u001b[0m\u001b[0;34m=\u001b[0m\u001b[0msys\u001b[0m\u001b[0;34m.\u001b[0m\u001b[0mexc_info\u001b[0m\u001b[0;34m(\u001b[0m\u001b[0;34m)\u001b[0m\u001b[0;34m[\u001b[0m\u001b[0;36m2\u001b[0m\u001b[0;34m]\u001b[0m\u001b[0;34m\u001b[0m\u001b[0;34m\u001b[0m\u001b[0m\n",
      "\u001b[0;32m~/opt/anaconda3/lib/python3.8/site-packages/urllib3/util/retry.py\u001b[0m in \u001b[0;36mincrement\u001b[0;34m(self, method, url, response, error, _pool, _stacktrace)\u001b[0m\n\u001b[1;32m    409\u001b[0m             \u001b[0;32mif\u001b[0m \u001b[0mread\u001b[0m \u001b[0;32mis\u001b[0m \u001b[0;32mFalse\u001b[0m \u001b[0;32mor\u001b[0m \u001b[0;32mnot\u001b[0m \u001b[0mself\u001b[0m\u001b[0;34m.\u001b[0m\u001b[0m_is_method_retryable\u001b[0m\u001b[0;34m(\u001b[0m\u001b[0mmethod\u001b[0m\u001b[0;34m)\u001b[0m\u001b[0;34m:\u001b[0m\u001b[0;34m\u001b[0m\u001b[0;34m\u001b[0m\u001b[0m\n\u001b[0;32m--> 410\u001b[0;31m                 \u001b[0;32mraise\u001b[0m \u001b[0msix\u001b[0m\u001b[0;34m.\u001b[0m\u001b[0mreraise\u001b[0m\u001b[0;34m(\u001b[0m\u001b[0mtype\u001b[0m\u001b[0;34m(\u001b[0m\u001b[0merror\u001b[0m\u001b[0;34m)\u001b[0m\u001b[0;34m,\u001b[0m \u001b[0merror\u001b[0m\u001b[0;34m,\u001b[0m \u001b[0m_stacktrace\u001b[0m\u001b[0;34m)\u001b[0m\u001b[0;34m\u001b[0m\u001b[0;34m\u001b[0m\u001b[0m\n\u001b[0m\u001b[1;32m    411\u001b[0m             \u001b[0;32melif\u001b[0m \u001b[0mread\u001b[0m \u001b[0;32mis\u001b[0m \u001b[0;32mnot\u001b[0m \u001b[0;32mNone\u001b[0m\u001b[0;34m:\u001b[0m\u001b[0;34m\u001b[0m\u001b[0;34m\u001b[0m\u001b[0m\n",
      "\u001b[0;32m~/opt/anaconda3/lib/python3.8/site-packages/urllib3/packages/six.py\u001b[0m in \u001b[0;36mreraise\u001b[0;34m(tp, value, tb)\u001b[0m\n\u001b[1;32m    733\u001b[0m             \u001b[0;32mif\u001b[0m \u001b[0mvalue\u001b[0m\u001b[0;34m.\u001b[0m\u001b[0m__traceback__\u001b[0m \u001b[0;32mis\u001b[0m \u001b[0;32mnot\u001b[0m \u001b[0mtb\u001b[0m\u001b[0;34m:\u001b[0m\u001b[0;34m\u001b[0m\u001b[0;34m\u001b[0m\u001b[0m\n\u001b[0;32m--> 734\u001b[0;31m                 \u001b[0;32mraise\u001b[0m \u001b[0mvalue\u001b[0m\u001b[0;34m.\u001b[0m\u001b[0mwith_traceback\u001b[0m\u001b[0;34m(\u001b[0m\u001b[0mtb\u001b[0m\u001b[0;34m)\u001b[0m\u001b[0;34m\u001b[0m\u001b[0;34m\u001b[0m\u001b[0m\n\u001b[0m\u001b[1;32m    735\u001b[0m             \u001b[0;32mraise\u001b[0m \u001b[0mvalue\u001b[0m\u001b[0;34m\u001b[0m\u001b[0;34m\u001b[0m\u001b[0m\n",
      "\u001b[0;32m~/opt/anaconda3/lib/python3.8/site-packages/urllib3/connectionpool.py\u001b[0m in \u001b[0;36murlopen\u001b[0;34m(self, method, url, body, headers, retries, redirect, assert_same_host, timeout, pool_timeout, release_conn, chunked, body_pos, **response_kw)\u001b[0m\n\u001b[1;32m    669\u001b[0m             \u001b[0;31m# Make the request on the httplib connection object.\u001b[0m\u001b[0;34m\u001b[0m\u001b[0;34m\u001b[0m\u001b[0;34m\u001b[0m\u001b[0m\n\u001b[0;32m--> 670\u001b[0;31m             httplib_response = self._make_request(\n\u001b[0m\u001b[1;32m    671\u001b[0m                 \u001b[0mconn\u001b[0m\u001b[0;34m,\u001b[0m\u001b[0;34m\u001b[0m\u001b[0;34m\u001b[0m\u001b[0m\n",
      "\u001b[0;32m~/opt/anaconda3/lib/python3.8/site-packages/urllib3/connectionpool.py\u001b[0m in \u001b[0;36m_make_request\u001b[0;34m(self, conn, method, url, timeout, chunked, **httplib_request_kw)\u001b[0m\n\u001b[1;32m    425\u001b[0m                     \u001b[0;31m# Otherwise it looks like a bug in the code.\u001b[0m\u001b[0;34m\u001b[0m\u001b[0;34m\u001b[0m\u001b[0;34m\u001b[0m\u001b[0m\n\u001b[0;32m--> 426\u001b[0;31m                     \u001b[0msix\u001b[0m\u001b[0;34m.\u001b[0m\u001b[0mraise_from\u001b[0m\u001b[0;34m(\u001b[0m\u001b[0me\u001b[0m\u001b[0;34m,\u001b[0m \u001b[0;32mNone\u001b[0m\u001b[0;34m)\u001b[0m\u001b[0;34m\u001b[0m\u001b[0;34m\u001b[0m\u001b[0m\n\u001b[0m\u001b[1;32m    427\u001b[0m         \u001b[0;32mexcept\u001b[0m \u001b[0;34m(\u001b[0m\u001b[0mSocketTimeout\u001b[0m\u001b[0;34m,\u001b[0m \u001b[0mBaseSSLError\u001b[0m\u001b[0;34m,\u001b[0m \u001b[0mSocketError\u001b[0m\u001b[0;34m)\u001b[0m \u001b[0;32mas\u001b[0m \u001b[0me\u001b[0m\u001b[0;34m:\u001b[0m\u001b[0;34m\u001b[0m\u001b[0;34m\u001b[0m\u001b[0m\n",
      "\u001b[0;32m~/opt/anaconda3/lib/python3.8/site-packages/urllib3/packages/six.py\u001b[0m in \u001b[0;36mraise_from\u001b[0;34m(value, from_value)\u001b[0m\n",
      "\u001b[0;32m~/opt/anaconda3/lib/python3.8/site-packages/urllib3/connectionpool.py\u001b[0m in \u001b[0;36m_make_request\u001b[0;34m(self, conn, method, url, timeout, chunked, **httplib_request_kw)\u001b[0m\n\u001b[1;32m    420\u001b[0m                 \u001b[0;32mtry\u001b[0m\u001b[0;34m:\u001b[0m\u001b[0;34m\u001b[0m\u001b[0;34m\u001b[0m\u001b[0m\n\u001b[0;32m--> 421\u001b[0;31m                     \u001b[0mhttplib_response\u001b[0m \u001b[0;34m=\u001b[0m \u001b[0mconn\u001b[0m\u001b[0;34m.\u001b[0m\u001b[0mgetresponse\u001b[0m\u001b[0;34m(\u001b[0m\u001b[0;34m)\u001b[0m\u001b[0;34m\u001b[0m\u001b[0;34m\u001b[0m\u001b[0m\n\u001b[0m\u001b[1;32m    422\u001b[0m                 \u001b[0;32mexcept\u001b[0m \u001b[0mBaseException\u001b[0m \u001b[0;32mas\u001b[0m \u001b[0me\u001b[0m\u001b[0;34m:\u001b[0m\u001b[0;34m\u001b[0m\u001b[0;34m\u001b[0m\u001b[0m\n",
      "\u001b[0;32m~/opt/anaconda3/lib/python3.8/http/client.py\u001b[0m in \u001b[0;36mgetresponse\u001b[0;34m(self)\u001b[0m\n\u001b[1;32m   1346\u001b[0m             \u001b[0;32mtry\u001b[0m\u001b[0;34m:\u001b[0m\u001b[0;34m\u001b[0m\u001b[0;34m\u001b[0m\u001b[0m\n\u001b[0;32m-> 1347\u001b[0;31m                 \u001b[0mresponse\u001b[0m\u001b[0;34m.\u001b[0m\u001b[0mbegin\u001b[0m\u001b[0;34m(\u001b[0m\u001b[0;34m)\u001b[0m\u001b[0;34m\u001b[0m\u001b[0;34m\u001b[0m\u001b[0m\n\u001b[0m\u001b[1;32m   1348\u001b[0m             \u001b[0;32mexcept\u001b[0m \u001b[0mConnectionError\u001b[0m\u001b[0;34m:\u001b[0m\u001b[0;34m\u001b[0m\u001b[0;34m\u001b[0m\u001b[0m\n",
      "\u001b[0;32m~/opt/anaconda3/lib/python3.8/http/client.py\u001b[0m in \u001b[0;36mbegin\u001b[0;34m(self)\u001b[0m\n\u001b[1;32m    306\u001b[0m         \u001b[0;32mwhile\u001b[0m \u001b[0;32mTrue\u001b[0m\u001b[0;34m:\u001b[0m\u001b[0;34m\u001b[0m\u001b[0;34m\u001b[0m\u001b[0m\n\u001b[0;32m--> 307\u001b[0;31m             \u001b[0mversion\u001b[0m\u001b[0;34m,\u001b[0m \u001b[0mstatus\u001b[0m\u001b[0;34m,\u001b[0m \u001b[0mreason\u001b[0m \u001b[0;34m=\u001b[0m \u001b[0mself\u001b[0m\u001b[0;34m.\u001b[0m\u001b[0m_read_status\u001b[0m\u001b[0;34m(\u001b[0m\u001b[0;34m)\u001b[0m\u001b[0;34m\u001b[0m\u001b[0;34m\u001b[0m\u001b[0m\n\u001b[0m\u001b[1;32m    308\u001b[0m             \u001b[0;32mif\u001b[0m \u001b[0mstatus\u001b[0m \u001b[0;34m!=\u001b[0m \u001b[0mCONTINUE\u001b[0m\u001b[0;34m:\u001b[0m\u001b[0;34m\u001b[0m\u001b[0;34m\u001b[0m\u001b[0m\n",
      "\u001b[0;32m~/opt/anaconda3/lib/python3.8/http/client.py\u001b[0m in \u001b[0;36m_read_status\u001b[0;34m(self)\u001b[0m\n\u001b[1;32m    267\u001b[0m     \u001b[0;32mdef\u001b[0m \u001b[0m_read_status\u001b[0m\u001b[0;34m(\u001b[0m\u001b[0mself\u001b[0m\u001b[0;34m)\u001b[0m\u001b[0;34m:\u001b[0m\u001b[0;34m\u001b[0m\u001b[0;34m\u001b[0m\u001b[0m\n\u001b[0;32m--> 268\u001b[0;31m         \u001b[0mline\u001b[0m \u001b[0;34m=\u001b[0m \u001b[0mstr\u001b[0m\u001b[0;34m(\u001b[0m\u001b[0mself\u001b[0m\u001b[0;34m.\u001b[0m\u001b[0mfp\u001b[0m\u001b[0;34m.\u001b[0m\u001b[0mreadline\u001b[0m\u001b[0;34m(\u001b[0m\u001b[0m_MAXLINE\u001b[0m \u001b[0;34m+\u001b[0m \u001b[0;36m1\u001b[0m\u001b[0;34m)\u001b[0m\u001b[0;34m,\u001b[0m \u001b[0;34m\"iso-8859-1\"\u001b[0m\u001b[0;34m)\u001b[0m\u001b[0;34m\u001b[0m\u001b[0;34m\u001b[0m\u001b[0m\n\u001b[0m\u001b[1;32m    269\u001b[0m         \u001b[0;32mif\u001b[0m \u001b[0mlen\u001b[0m\u001b[0;34m(\u001b[0m\u001b[0mline\u001b[0m\u001b[0;34m)\u001b[0m \u001b[0;34m>\u001b[0m \u001b[0m_MAXLINE\u001b[0m\u001b[0;34m:\u001b[0m\u001b[0;34m\u001b[0m\u001b[0;34m\u001b[0m\u001b[0m\n",
      "\u001b[0;32m~/opt/anaconda3/lib/python3.8/socket.py\u001b[0m in \u001b[0;36mreadinto\u001b[0;34m(self, b)\u001b[0m\n\u001b[1;32m    668\u001b[0m             \u001b[0;32mtry\u001b[0m\u001b[0;34m:\u001b[0m\u001b[0;34m\u001b[0m\u001b[0;34m\u001b[0m\u001b[0m\n\u001b[0;32m--> 669\u001b[0;31m                 \u001b[0;32mreturn\u001b[0m \u001b[0mself\u001b[0m\u001b[0;34m.\u001b[0m\u001b[0m_sock\u001b[0m\u001b[0;34m.\u001b[0m\u001b[0mrecv_into\u001b[0m\u001b[0;34m(\u001b[0m\u001b[0mb\u001b[0m\u001b[0;34m)\u001b[0m\u001b[0;34m\u001b[0m\u001b[0;34m\u001b[0m\u001b[0m\n\u001b[0m\u001b[1;32m    670\u001b[0m             \u001b[0;32mexcept\u001b[0m \u001b[0mtimeout\u001b[0m\u001b[0;34m:\u001b[0m\u001b[0;34m\u001b[0m\u001b[0;34m\u001b[0m\u001b[0m\n",
      "\u001b[0;31mProtocolError\u001b[0m: ('Connection aborted.', ConnectionResetError(54, 'Connection reset by peer'))",
      "\nDuring handling of the above exception, another exception occurred:\n",
      "\u001b[0;31mUnboundLocalError\u001b[0m                         Traceback (most recent call last)",
      "\u001b[0;32m<ipython-input-370-0e1f05d8f118>\u001b[0m in \u001b[0;36m<module>\u001b[0;34m\u001b[0m\n\u001b[1;32m      8\u001b[0m         \u001b[0;32mpass\u001b[0m\u001b[0;34m\u001b[0m\u001b[0;34m\u001b[0m\u001b[0m\n\u001b[1;32m      9\u001b[0m     \u001b[0;32melse\u001b[0m\u001b[0;34m:\u001b[0m\u001b[0;34m\u001b[0m\u001b[0;34m\u001b[0m\u001b[0m\n\u001b[0;32m---> 10\u001b[0;31m         \u001b[0miupac\u001b[0m\u001b[0;34m,\u001b[0m \u001b[0mcas\u001b[0m \u001b[0;34m=\u001b[0m \u001b[0mSMILE_checker\u001b[0m\u001b[0;34m(\u001b[0m\u001b[0msmiles\u001b[0m\u001b[0;34m[\u001b[0m\u001b[0mi\u001b[0m\u001b[0;34m]\u001b[0m\u001b[0;34m)\u001b[0m\u001b[0;34m\u001b[0m\u001b[0;34m\u001b[0m\u001b[0m\n\u001b[0m\u001b[1;32m     11\u001b[0m         \u001b[0miupaclist\u001b[0m\u001b[0;34m[\u001b[0m\u001b[0mi\u001b[0m\u001b[0;34m]\u001b[0m \u001b[0;34m=\u001b[0m \u001b[0miupac\u001b[0m\u001b[0;34m\u001b[0m\u001b[0;34m\u001b[0m\u001b[0m\n\u001b[1;32m     12\u001b[0m         \u001b[0mcaslist\u001b[0m\u001b[0;34m[\u001b[0m\u001b[0mi\u001b[0m\u001b[0;34m]\u001b[0m \u001b[0;34m=\u001b[0m \u001b[0mcas\u001b[0m\u001b[0;34m\u001b[0m\u001b[0;34m\u001b[0m\u001b[0m\n",
      "\u001b[0;32m<ipython-input-346-f40ffd934f2d>\u001b[0m in \u001b[0;36mSMILE_checker\u001b[0;34m(mol)\u001b[0m\n\u001b[1;32m     36\u001b[0m         \u001b[0;32mreturn\u001b[0m \u001b[0mIUPAC\u001b[0m\u001b[0;34m,\u001b[0m \u001b[0mCAS\u001b[0m\u001b[0;34m\u001b[0m\u001b[0;34m\u001b[0m\u001b[0m\n\u001b[1;32m     37\u001b[0m     \u001b[0;32mexcept\u001b[0m\u001b[0;34m:\u001b[0m\u001b[0;34m\u001b[0m\u001b[0;34m\u001b[0m\u001b[0m\n\u001b[0;32m---> 38\u001b[0;31m         \u001b[0;32mreturn\u001b[0m \u001b[0mIUPAC\u001b[0m\u001b[0;34m,\u001b[0m \u001b[0mCAS\u001b[0m\u001b[0;34m\u001b[0m\u001b[0;34m\u001b[0m\u001b[0m\n\u001b[0m",
      "\u001b[0;31mUnboundLocalError\u001b[0m: local variable 'IUPAC' referenced before assignment"
     ]
    }
   ],
   "source": [
    "browser = webdriver.Chrome()\n",
    "browser.get(\"https://pubchem.ncbi.nlm.nih.gov\")\n",
    "\n",
    "for i in range(291,1163):\n",
    "    if smiles[i] == 'no matches':\n",
    "        pass\n",
    "    elif type(smiles[i]) == float:\n",
    "        pass\n",
    "    else:\n",
    "        iupac, cas = SMILE_checker(smiles[i])\n",
    "        iupaclist[i] = iupac\n",
    "        caslist[i] = cas\n",
    "    print(i, molist[i], caslist[i], smiles[i], iupaclist[i])"
   ]
  },
  {
   "cell_type": "code",
   "execution_count": 371,
   "metadata": {},
   "outputs": [],
   "source": [
    "data['computed CAS'] = caslist\n",
    "data['computed IUPAC'] = iupaclist\n",
    "data.to_csv('data_csvs/pka_data_updated.csv')"
   ]
  },
  {
   "cell_type": "code",
   "execution_count": 372,
   "metadata": {},
   "outputs": [],
   "source": [
    "data = pd.read_csv('data_csvs/pka_data_updated2.csv')\n",
    "molist = data['solute'].tolist()\n",
    "smiles = data['solute SMILES'].tolist()\n",
    "caslist = data['computed CAS'].tolist()\n",
    "iupaclist = data['computed IUPAC'].tolist()"
   ]
  },
  {
   "cell_type": "code",
   "execution_count": 373,
   "metadata": {
    "collapsed": true,
    "jupyter": {
     "outputs_hidden": true
    },
    "tags": []
   },
   "outputs": [
    {
     "name": "stdout",
     "output_type": "stream",
     "text": [
      "440 C6F5SO2NHSO2C6H3-3-NO2-4-Cl no matches\n",
      "458 4-Cl-C6H4SO(=NTf)NHSO2-C6H4-4-Cl no matches\n",
      "519 7-nitroIndole C1=CC2=C(C(=C1)[N+](=O)[O-])NC=C2\n",
      "520 Indoxyl acetate CC(=O)OC1=CNC2=CC=CC=C21\n",
      "521 Phenol no SMILES\n",
      "523 4-cyano-2,3,5,6-tetrafluoroAniline CC(C)C1=C(C(=CC=C1)C(C)C)N=C(C)NC2=C(C(=C(C(=C2F)F)C#N)F)F\n",
      "524 pentakis(trifluoromethyl)Toluene no matches\n",
      "525 5-nitroIndole C1=CC2=C(C=CN2)C=C1[N+](=O)[O-]\n",
      "528 4-nitroIndole C1=CC2=C(C=CN2)C(=C1)[N+](=O)[O-]\n",
      "529 6-nitroIndole C1=CC(=CC2=C1C=CN2)[N+](=O)[O-]\n",
      "542 3-trifluoromethylPhenol C1=CC(=CC(=C1)O)C(F)(F)F\n",
      "546 4-nitroIndolocarbazole no matches\n",
      "550 3-cyanoIndole C1=CC=C2C(=C1)C(=CN2)C#N\n",
      "554 4-trifluoromethylPhenol C1=CC(=CC=C1C(F)(F)F)O\n",
      "561 2-trifluoromethylPhenol C1=CC=C(C(=C1)C(F)(F)F)O\n",
      "564 pentakis(trifluoromethyl)Aniline C1(=C(C(=C(C(=C1C(F)(F)F)C(F)(F)F)N)C(F)(F)F)C(F)(F)F)C(F)(F)F\n",
      "575 2,4,6-trinitroAniline C1=C(C=C(C(=C1[N+](=O)[O-])N)[N+](=O)[O-])[N+](=O)[O-]\n",
      "576 3,5-bis(trifluoromethyl)Phenol C1=C(C=C(C=C1C(F)(F)F)O)C(F)(F)F\n",
      "577 2-nitroIndole CCOC(=O)N1C2=CC=CC=C2C=C1[N+](=O)[O-]\n",
      "579 Acetic acid error in recall\n",
      "582 Sorbic acid CC=CC=CC(=O)O\n",
      "584 2-nitroPhenol error in recall\n",
      "587 Retinoic acid error in recall\n",
      "588 3-nitroIndole C1=CC=C2C(=C1)C(=CN2)[N+](=O)[O-]\n",
      "592 Benzoic acid error in recall\n",
      "595 Alizarin C1=CC=C2C(=C1)C(=O)C3=C(C2=O)C(=C(C=C3)O)O\n",
      "599 (CF3)3COH C(C(F)(F)F)(C(F)(F)F)(C(F)(F)F)O\n",
      "602 2,4,6-tribromoPhenol error in recall\n",
      "603 pentacyanoToluene CC1=C(C(=C(C(=C1C#N)C#N)C#N)C#N)C#N\n",
      "605 2,3,5,6-tetrafluoroPhenol C1=C(C(=C(C(=C1F)F)O)F)F\n",
      "606 pentafluoroPhenol C1(=C(C(=C(C(=C1F)F)F)F)F)O\n",
      "621 pentachloroPhenol no SMILES\n",
      "622 pentabromoPhenol C1(=C(C(=C(C(=C1Br)Br)Br)Br)Br)O\n",
      "630 2,6-dinitroPhenol C1=CC(=C(C(=C1)[N+](=O)[O-])O)[N+](=O)[O-]\n",
      "631 2,4-dinitroPhenol error in recall\n",
      "632 2,3,5,6-tetrafluoro-4-trifluoromethylPhenol no matches\n",
      "634 4-fluoro-2,6-dinitroPhenol C1=C(C=C(C(=C1[N+](=O)[O-])O)[N+](=O)[O-])F\n",
      "642 Saccharin error in recall\n",
      "645 2-chloro-4,6-dinitroPhenol C1=C(C=C(C(=C1[N+](=O)[O-])O)Cl)[N+](=O)[O-]\n",
      "673 Picric acid error in recall\n",
      "674 5-nitroBarbituric acid C1(C(=O)NC(=O)NC1=O)[N+](=O)[O-]\n",
      "680 HCl Cl\n",
      "684 pentakis(trifluoromethyl)Thiophenol no matches\n",
      "687 CH3SO3H CS(=O)(=O)O\n",
      "695 TosOH CC1=CC=C(C=C1)S(=O)(=O)O\n",
      "696 PhSO3H C=CCOC(=O)CCC(C(=O)OCC=C)N.C1=CC=C(C=C1)S(=O)(=O)O\n",
      "705 H2SO4 error in recall\n",
      "735 CH(CN)3 no matches\n",
      "740 2,4,6-Tf3Phenol no matches\n",
      "763 1/2/55 C1CC2C3C(C1)SC4CCC5C(C4)OCCOCCOCCOCCOCCOC6CC(S2)CCC6SC7CCCC(C7OCCOCCOCCOCCOCCO3)S5\n",
      "769 4/8/10 C1C2(COC(O1)CCCN)COC(OC2)CCCN\n",
      "783 triazine 1 CSC1=NC2=NN=C(C(=O)N2N1)[N+](=O)[O-]\n",
      "789 (4-Me2N-C6F4)(C6F5)NH no matches\n",
      "859 Br4-CX-benzoic acid no matches\n",
      "882 2,3,4,5,6-(CF3)5-C6-CH(CN)COOEt no matches\n",
      "899 4-MeO-C6H4-SO2-NH-SO2-C6H4-4-Cl no matches\n",
      "910 4-Cl-C6H4-CO-NH-Tf no matches\n",
      "923 2,3,4,5,6-(CF3)5-C6-CH(CN)2 no matches\n",
      "929 7/6/09 no matches\n",
      "967 4-Cl-C6H4-SO2-NH-Tf no matches\n",
      "977 4-Cl-C6H4-SO(=NTf)-NH-SO2-C6H4-4-NO2 no matches\n",
      "1032 1/2/55 C1CC2C3C(C1)SC4CCC5C(C4)OCCOCCOCCOCCOCCOC6CC(S2)CCC6SC7CCCC(C7OCCOCCOCCOCCOCCO3)S5\n",
      "1044 (4-Me2N-C6F4)(C6F5)NH no matches\n",
      "1057 (4-Cl-C6F4)(C6F5)NH no matches\n",
      "1065 (4-NC5F4)(C6F5)NH no matches\n",
      "1079 4-Cl-C6F4-CH(CN)COOEt no matches\n",
      "1110 4-Cl-C6F4-CH(CN)COOEt no matches\n",
      "1116 2,3,4,5,6-(CF3)5-C6-CH(CN)COOEt no matches\n",
      "1125 2,3,4,5,6-(CF3)5-C6-CH(CN)2 no matches\n",
      "1126 7/6/09 no matches\n",
      "1141 4-Cl-C6H4-SO(=NTf)-NH-SO2-C6H4-4-NO2 no matches\n"
     ]
    }
   ],
   "source": [
    "#checking all nan values\n",
    "browser = webdriver.Chrome()\n",
    "browser.get(\"https://pubchem.ncbi.nlm.nih.gov\")\n",
    "\n",
    "for i in range(len(smiles)):\n",
    "    if type(smiles[i]) == float:\n",
    "        smiles[i] = SMILE_scraper(molist[i])\n",
    "        print(i, molist[i], smiles[i])"
   ]
  },
  {
   "cell_type": "code",
   "execution_count": 376,
   "metadata": {
    "collapsed": true,
    "jupyter": {
     "outputs_hidden": true
    },
    "tags": []
   },
   "outputs": [
    {
     "name": "stdout",
     "output_type": "stream",
     "text": [
      "0 2340-87-6 - CCOC(=O)C(C#N)C1=C(C(=C(C(=C1F)F)F)F)F ethyl 2-cyano-2-(2,3,4,5,6-pentafluorophenyl)acetate\n",
      "4 42238-34-6 Bis(pentafluorophenyl)acetonitrile FC1=C(F)C(=C(C(C#N)C2=C(F)C(=C(F)C(=C2F)F)F)C(=C1F)F)F 2,2-bis(2,3,4,5,6-pentafluorophenyl)acetonitrile\n",
      "5 42238-35-7 - FC1=C(F)C(=C(C(C#N)C2=CC=C(C=C2)C(F)(F)F)C(=C1F)F)F -\n",
      "6 42238-36-8 (Pentafluorophenyl)(2,3,5,6-tetrafluoro-4-chlorophenyl)acetonitrile FC1=C(F)C(=C(C(C#N)C2=C(F)C(=C(Cl)C(=C2F)F)F)C(=C1F)F)F 2-(4-chloro-2,3,5,6-tetrafluorophenyl)-2-(2,3,4,5,6-pentafluorophenyl)acetonitrile\n",
      "7 42254-09-1 FGXMDMFWDQMYLC-UHFFFAOYSA- FC1=C(F)C(=C(F)C(=C1)F)C(C#N)C2=C(F)C(=C(F)C(=C2F)F)F 2-(2,3,4,5,6-pentafluorophenyl)-2-(2,3,5,6-tetrafluorophenyl)acetonitrile\n",
      "8 52345-34-3 - CC1=C(F)C(=C([C@@H](C#N)C2=C(F)C(=C(F)C(=C2F)F)F)C(=C1F)F)F -\n",
      "9 55810-56-5 2-(2,3,5,6-Tetrafluoro-4-chlorophenyl)-2-cyanoacetic acid ethyl ester CCOC(=O)C(C#N)C1=C(F)C(=C(Cl)C(=C1F)F)F ethyl 2-(4-chloro-2,3,5,6-tetrafluorophenyl)-2-cyanoacetate\n",
      "10 55810-61-2 - CCOC(=O)C(C#N)C1=C(F)C(=NC(=C1F)F)F -\n",
      "11 55810-63-4 (2,3,5,6-Tetrafluorophenyl)malononitrile FC1=C(F)C(=C(F)C(=C1)F)C(C#N)C#N 2-(2,3,5,6-tetrafluorophenyl)propanedinitrile\n",
      "12 55852-22-7 2-(2,3,5,6-Tetrafluorophenyl)-2-cyanoacetic acid ethyl ester CCOC(=O)C(C#N)C1=C(F)C(=CC(=C1F)F)F ethyl 2-cyano-2-(2,3,5,6-tetrafluorophenyl)acetate\n",
      "14 58432-44-3 - CC1=C(F)C(=C(C(C#N)C2=C(F)C(=C(C)C(=C2F)F)F)C(=C1F)F)F -\n",
      "15 58432-55-6 Bis[2,3,5,6-tetrafluoro-4-(trifluoromethyl)phenyl]acetonitrile FC1=C(F)C(=C(F)C(=C1C(C#N)C2=C(F)C(=C(C(=C2F)F)C(F)(F)F)F)F)C(F)(F)F 2,2-bis[2,3,5,6-tetrafluoro-4-(trifluoromethyl)phenyl]acetonitrile\n",
      "16 58432-62-5 2-Phenyl-2-(2,3,5,6-tetrafluoro-4-methylphenyl)acetonitrile CC1=C(F)C(=C(C(C#N)C2=CC=CC=C2)C(=C1F)F)F 2-phenyl-2-(2,3,5,6-tetrafluoro-4-methylphenyl)acetonitrile\n",
      "17 62325-34-2 ethyl 2-cyano-2-(heptafluoronaphthalen-2-yl)acetate CCOC(=O)C(C#N)C1=C(F)C2=C(F)C(=C(F)C(=C2C(=C1F)F)F)F ethyl 2-cyano-2-(1,3,4,5,6,7,8-heptafluoronaphthalen-2-yl)acetate\n",
      "19 62325-37-5 NKERQBCGNOZIGK-UHFFFAOYSA- FC1=C(F)C(=C(F)C(=N1)F)C(C#N)C2=C(F)C3=C(F)C(=C(F)C(=C3C(=C2F)F)F)F 2-(1,3,4,5,6,7,8-heptafluoronaphthalen-2-yl)-2-(2,3,5,6-tetrafluoropyridin-4-yl)acetonitrile\n",
      "21 62325-51-3 2-(Pentafluorophenyl)-2-(2,3,5,6-tetrafluoro-4-pyridyl)acetonitrile FC1=NC(=C(F)C(=C1F)C(C#N)C2=C(F)C(=C(F)C(=C2F)F)F)F 2-(2,3,4,5,6-pentafluorophenyl)-2-(2,3,5,6-tetrafluoropyridin-4-yl)acetonitrile\n",
      "22 64934-68-5 - FC1=C(F)C(=C(C(C#N)C2=C(F)C3=C(F)C(=C(F)C(=C3C(=C2F)F)F)F)C(=C1F)F)F -\n",
      "23 64934-69-6 - FC1=C(F)C(=C(C(C#N)C2=C(Cl)C(=C(Cl)C(=C2Cl)F)F)C(=C1F)F)F 2-(2,3,4,5,6-pentafluorophenyl)-2-(2,4,6-trichloro-3,5-difluorophenyl)acetonitrile\n",
      "24 64934-71-0 HGIXMNIATOKKRV-UHFFFAOYSA- CC1=C(F)C(=C(C(C#N)C#N)C(=C1F)F)F 2-(2,3,5,6-tetrafluoro-4-methylphenyl)propanedinitrile\n",
      "25 64934-72-1 - FC1=C(F)C(=C(F)C(=N1)F)C(C#N)C#N -\n",
      "28 7077-65-8 7077-65-8 C1=CC(=CC=C1C(C#N)C#N)[N+](=O)[O-] 2-(4-nitrophenyl)propanedinitrile\n",
      "31 215395-09-8 1,3-Cyclopentadiene-2,3,5-tricarbonitrile N#CC1C=C(C#N)C(=C1)C#N cyclopenta-2,5-diene-1,2,4-tricarbonitrile\n",
      "32 73482-93-6 - FC1=C(F)C(=C(C2C3=C(C=CC=C3)C4=C2C=CC=C4)C(=C1F)F)F 9-(2,3,4,5,6-pentafluorophenyl)-9H-fluorene\n",
      "47 87-86-5 87-86-5 C1(=C(C(=C(C(=C1Cl)Cl)Cl)Cl)Cl)O 2,3,4,5,6-pentachlorophenol\n",
      "48 882492-01-5 2-hydroxybenzene-1,3,5-trisulfonyl fluoride OC1=C(C=C(C=C1[S](F)(=O)=O)[S](F)(=O)=O)[S](F)(=O)=O 2-hydroxybenzene-1,3,5-trisulfonyl fluoride\n",
      "52 71571-37-4 - OC1=C(C=C(C=C1[S](=O)(=O)C(F)(F)F)[S](=O)(=O)C(F)(F)F)[S](=O)(=O)C(F)(F)F 2,4,6-tris(trifluoromethylsulfonyl)phenol\n",
      "62 39062-91-4 - FC(F)(F)[S](=O)(=O)NC(=O)C1=CC=CC=C1 N-(trifluoromethylsulfonyl)benzamide\n",
      "64 39062-99-2 - FC(F)(F)[S](=O)(=O)NC(=O)C1=CC=C(Cl)C=C1 4-chloro-N-(trifluoromethylsulfonyl)benzamide\n",
      "65 39063-00-8 - FC1=CC=C(C=C1)C(=O)N[S](=O)(=O)C(F)(F)F 4-fluoro-N-(trifluoromethylsulfonyl)benzamide\n",
      "66 39063-05-3 - COC1=CC=C(C=C1)C(=O)N[S](=O)(=O)C(F)(F)F 4-methoxy-N-(trifluoromethylsulfonyl)benzamide\n",
      "68 100724-78-5 4-Methyl-4'-nitro[1,1'-iminobis(sulfonyl)bis(benzene)] CC1=CC=C(C=C1)[S](=O)(=O)N[S](=O)(=O)C2=CC=C(C=C2)[N+]([O-])=O 4-methyl-N-(4-nitrophenyl)sulfonylbenzenesulfonamide\n",
      "69 174788-87-5 - FC(F)(F)[S](=O)(=O)N[S](=O)(=O)C1=CC=CC=C1 N-(trifluoromethylsulfonyl)benzenesulfonamide\n",
      "70 174788-89-7 - FC(F)(F)[S](=O)(=O)N[S](=O)(=O)C1=CC=C(Cl)C=C1 4-chloro-N-(trifluoromethylsulfonyl)benzenesulfonamide\n",
      "72 174788-93-3 - CC1=CC=C(C=C1)[S](=O)(=O)N[S](=O)(=N[S](=O)(=O)C(F)(F)F)C2=CC=C(Cl)C=C2 -\n",
      "73 174788-95-5 - FC(F)(F)[S](=O)(=O)N=[S](=O)(N[S](=O)(=O)C1=CC=C(Cl)C=C1)C2=CC=C(Cl)C=C2 -\n",
      "74 174788-97-7 - [O-][N+](=O)C1=CC=C(C=C1)[S](=O)(=O)N[S](=O)(=N[S](=O)(=O)C(F)(F)F)C2=CC=C(Cl)C=C2 -\n",
      "75 215395-06-5 3-Nitro-4-chloro-4'-methyl[1,1'-iminobis(sulfonyl)bis(benzene)] CC1=CC=C(C=C1)[S](=O)(=O)N[S](=O)(=O)C2=CC(=C(Cl)C=C2)[N+]([O-])=O 4-chloro-N-(4-methylphenyl)sulfonyl-3-nitrobenzenesulfonamide\n",
      "76 215395-07-6 - CC1=CC=C(C=C1)[S](=O)(=O)N[S](=O)(=O)C(F)(F)F 4-methyl-N-(trifluoromethylsulfonyl)benzenesulfonamide\n",
      "81 500721-87-9 - COC1=CC=C(C=C1)C(N[S](=O)(=O)C(F)(F)F)=N[S](=O)(=O)C(F)(F)F -\n",
      "82 500721-89-1 - CC1=CC=C(C=C1)C(N[S](=O)(=O)C(F)(F)F)=N[S](=O)(=O)C(F)(F)F -\n",
      "83 500721-91-5 - FC(F)(F)[S](=O)(=O)NC(=N[S](=O)(=O)C(F)(F)F)C1=CC=CC=C1 -\n",
      "84 500721-93-7 - FC1=CC=C(C=C1)C(N[S](=O)(=O)C(F)(F)F)=N[S](=O)(=O)C(F)(F)F -\n",
      "85 500721-95-9 - FC(F)(F)[S](=O)(=O)NC(=N[S](=O)(=O)C(F)(F)F)C1=CC=C(Cl)C=C1 -\n",
      "87 69173-28-0 4-Methyl-4'-chloro[1,1'-iminobis(sulfonyl)bis(benzene)] CC1=CC=C(C=C1)[S](=O)(=O)N[S](=O)(=O)C2=CC=C(Cl)C=C2 N-(4-chlorophenyl)sulfonyl-4-methylbenzenesulfonamide\n",
      "88 95468-16-9 - C1=CC(=CC(=C1)S(=O)(=O)NS(=O)(=O)C2=CC=C(C=C2)Cl)[N+](=O)[O-] N-(4-chlorophenyl)sulfonyl-3-nitrobenzenesulfonamide\n",
      "89 39077-43-5 - C1=CC=C(C=C1)NC2=C(C(=NC(=C2F)F)F)F 2,3,5,6-tetrafluoro-N-phenylpyridin-4-amine\n",
      "90 80588-34-7 - CN(C)C1=C(F)C(=C(NC2=C(F)C(=C(F)C(=C2F)F)F)C(=C1F)F)F -\n",
      "91 80588-36-9 N-(Pentafluorophenyl)-4-methyl-2,3,5,6-tetrafluoroaniline CC1=C(F)C(=C(NC2=C(F)C(=C(F)C(=C2F)F)F)C(=C1F)F)F 2,3,5,6-tetrafluoro-4-methyl-N-(2,3,4,5,6-pentafluorophenyl)aniline\n",
      "92 133213-11-3 - NC1=C(C=C(C=C1[S](F)(=O)=O)[S](F)(=O)=O)[S](F)(=O)=O -\n",
      "94 1-(4-Nitrophenyl)-1-nitropropane 126661-13-0 CCC(C1=CC=C(C=C1)[N+]([O-])=O)[N+]([O-])=O 1-nitro-4-(1-nitropropyl)benzene\n",
      "95 1-(4-Nitrophenyl)-2-methyl-1-nitropropane 126661-11-8 CC(C)C(C1=CC=C(C=C1)[N+]([O-])=O)[N+]([O-])=O 1-(2-methyl-1-nitropropyl)-4-nitrobenzene\n",
      "96 1,2-Dicyanocyclopentadiene N#CC1=C(C#N)C=CC1 N#CC1=C(C=CC1)C#N cyclopenta-1,3-diene-1,2-dicarbonitrile\n",
      "97 1,2,3-Tricyanocyclopentadiene SCHEMBL11360517 N#CC1=C(C#N)C(=CC1)C#N cyclopenta-1,3-diene-1,2,3-tricarbonitrile\n",
      "98 1,2,4-Tricyano-3-methylcyclopentadiene - CC1=C(CC(=C1C#N)C#N)C#N -\n",
      "100 Pentakis(trifluoromethyl)-phenylmalonitrile 2-[Pentakis(trifluoromethyl)phenyl]malononitrile FC(F)(F)C1=C(C(C#N)C#N)C(=C(C(=C1C(F)(F)F)C(F)(F)F)C(F)(F)F)C(F)(F)F 2-[2,3,4,5,6-pentakis(trifluoromethyl)phenyl]propanedinitrile\n",
      "101 2,3,4,6-Tetrakis(trifluoromethyl)-phenylmalonitrile - FC(F)(F)C1=C(C(C#N)C#N)C(=C(C(=C1)C(F)(F)F)C(F)(F)F)C(F)(F)F -\n",
      "102 Pentakis(trifluoromethyl)-toluene - CC1=C(C(=C(C(=C1C(F)(F)F)C(F)(F)F)C(F)(F)F)C(F)(F)F)C(F)(F)F 1-methyl-2,3,4,5,6-pentakis(trifluoromethyl)benzene\n",
      "104 2,4,6-Trinitrotoluene 118-96-7 CC1=C(C=C(C=C1[N+](=O)[O-])[N+](=O)[O-])[N+](=O)[O-] 2-methyl-1,3,5-trinitrobenzene\n",
      "109 Bis(4-nitrophenyl)acetonitrile - C1=CC(=CC=C1C(C#N)C2=CC=C(C=C2)[N+](=O)[O-])[N+](=O)[O-] 2,2-bis(4-nitrophenyl)acetonitrile\n",
      "122 2,4,6-Trinitrothiophenol 2,4,6-Trinitrothiophenol C1(=C(C(=C2C(=C1S2)[N+](=O)[O-])[N+](=O)[O-])O)[N+](=O)[O-] 2,4,7-trinitro-6-thiabicyclo[3.1.1]hepta-1(7),2,4-trien-3-ol\n",
      "124 1,1,3,3-Tetranitrobutane - CC(CC([N+](=O)[O-])[N+](=O)[O-])([N+](=O)[O-])[N+](=O)[O-] 1,1,3,3-tetranitrobutane\n",
      "127 1,3,7-Trinitrophenoxazine - C1=CC2=C(C=C1[N+](=O)[O-])OC3=CC(=CC(=C3N2)[N+](=O)[O-])[N+](=O)[O-] 1,3,7-trinitro-10H-phenoxazine\n",
      "130 1,7-Dimethyl-3-nitrophenoxazine - CC1=CC2=C(NC3=C(O2)C=C(C=C3C)[N+]([O-])=O)C=C1 -\n",
      "131 1-Methyl-3-nitrophenoxazine - CC1=CC(=CC2=C1NC3=CC=CC=C3O2)[N+]([O-])=O -\n",
      "133 3,7-Dinitro-10H-phenoxazine - C1=CC2=C(C=C1[N+](=O)[O-])OC3=C(N2)C=CC(=C3)[N+](=O)[O-] 3,7-dinitro-10H-phenoxazine\n",
      "134 3-Nitrophenoxazine - C1=CC=C2C(=C1)NC3=C(O2)C=C(C=C3)[N+](=O)[O-] 3-nitro-10H-phenoxazine\n",
      "187 Nitricacid - [N+](=O)(O)[O-] -\n",
      "188 2-Bromophenol 95-56-7 C1=CC=C(C(=C1)O)Br 2-bromophenol\n",
      "190 3,4-Dichlorophenol 95-77-2 C1=CC(=C(C=C1O)Cl)Cl 3,4-dichlorophenol\n",
      "191 3,5-Dichlorophenol - C1=C(C=C(C=C1Cl)Cl)O -\n",
      "195 4-Nitrophenol - C1=CC(=CC=C1[N+](=O)[O-])O -\n",
      "197 Phenol 108-95-2 C1=CC=C(C=C1)O phenol\n",
      "198 2-Methylphenol - CC1=CC=CC=C1O -\n",
      "206 4-(1,1-Dimethylethyl)-phenol - CC(C)(C)C1=CC=C(C=C1)O -\n",
      "209 2,4,6-Trichlorophenol - C1=C(C=C(C(=C1Cl)O)Cl)Cl -\n",
      "217 Methanesulfonic acid 75-75-2 CS(=O)(=O)O methanesulfonic acid\n",
      "219 sulfuric acid 7664-93-9 OS(=O)(=O)O sulfuric acid\n",
      "225 (C6F5)2CHCN Bis(pentafluorophenyl)acetonitrile FC1=C(F)C(=C(C(C#N)C2=C(F)C(=C(F)C(=C2F)F)F)C(=C1F)F)F 2,2-bis(2,3,4,5,6-pentafluorophenyl)acetonitrile\n",
      "227 (4-CF3-C6F4)(C6F5)CHCN - FC1=C(F)C(=C(C(C#N)C2=C(F)C(=C(C(=C2F)F)C(F)(F)F)F)C(=C1F)F)F 2-(2,3,4,5,6-pentafluorophenyl)-2-[2,3,5,6-tetrafluoro-4-(trifluoromethyl)phenyl]acetonitrile\n",
      "240 DBU-H+ - C1CCC2=[N+](CC1)CCCN2 2,3,4,6,7,8,9,10-octahydro-1H-pyrimido[1,2-a]azepin-5-ium\n",
      "241 TBD-H+ - C1CNC2=[NH+]CCCN2C1 1,2,3,4,6,7,8,9-octahydropyrimido[1,2-a]pyrimidin-5-ium\n",
      "245 TMG-H+ - CN(C)C(=[N+])N(C)C [amino(dimethylamino)methylidene]-dimethylazanium\n",
      "249 (C6F5)2CHCN Bis(pentafluorophenyl)acetonitrile FC1=C(F)C(=C(C(C#N)C2=C(F)C(=C(F)C(=C2F)F)F)C(=C1F)F)F 2,2-bis(2,3,4,5,6-pentafluorophenyl)acetonitrile\n",
      "251 (4-CF3-C6F4)(C6F5)CHCN - FC1=C(F)C(=C(C(C#N)C2=C(F)C(=C(C(=C2F)F)C(F)(F)F)F)C(=C1F)F)F 2-(2,3,4,5,6-pentafluorophenyl)-2-[2,3,5,6-tetrafluoro-4-(trifluoromethyl)phenyl]acetonitrile\n",
      "258 (C6F5)2CHCN Bis(pentafluorophenyl)acetonitrile FC1=C(F)C(=C(C(C#N)C2=C(F)C(=C(F)C(=C2F)F)F)C(=C1F)F)F 2,2-bis(2,3,4,5,6-pentafluorophenyl)acetonitrile\n",
      "259 (4-CF3-C6F4)(C6F5)CHCN - FC1=C(F)C(=C(C(C#N)C2=C(F)C(=C(C(=C2F)F)C(F)(F)F)F)C(=C1F)F)F 2-(2,3,4,5,6-pentafluorophenyl)-2-[2,3,5,6-tetrafluoro-4-(trifluoromethyl)phenyl]acetonitrile\n",
      "272 DBU-H+ - C1CCC2=[N+](CC1)CCCN2 2,3,4,6,7,8,9,10-octahydro-1H-pyrimido[1,2-a]azepin-5-ium\n",
      "275 TMG-H+ - CN(C)C(=[N+])N(C)C [amino(dimethylamino)methylidene]-dimethylazanium\n",
      "289 TMG-H+ - CN(C)C(=[N+])N(C)C [amino(dimethylamino)methylidene]-dimethylazanium\n",
      "296 Aniline-H+ 65756-50-5 C1=CC=C(C=C1)[N+] phenylazanium\n",
      "297 Pyridine-H+ 16969-45-2 C1=CC=[N+]C=C1 pyridin-1-ium\n",
      "298 DBU-H+ - C1CCC2=[N+](CC1)CCCN2 2,3,4,6,7,8,9,10-octahydro-1H-pyrimido[1,2-a]azepin-5-ium\n",
      "299 TBD-H+ - C1CNC2=[NH+]CCCN2C1 1,2,3,4,6,7,8,9-octahydropyrimido[1,2-a]pyrimidin-5-ium\n",
      "302 Et3N-H+ 17440-81-2 CC[N+](CC)CC triethylazanium\n",
      "303 TMG-H+ - CN(C)C(=[N+])N(C)C [amino(dimethylamino)methylidene]-dimethylazanium\n",
      "305 (C6F5)2CHCN Bis(pentafluorophenyl)acetonitrile FC1=C(F)C(=C(C(C#N)C2=C(F)C(=C(F)C(=C2F)F)F)C(=C1F)F)F 2,2-bis(2,3,4,5,6-pentafluorophenyl)acetonitrile\n",
      "307 (4-CF3-C6F4)(C6F5)CHCN - FC1=C(F)C(=C(C(C#N)C2=C(F)C(=C(C(=C2F)F)C(F)(F)F)F)C(=C1F)F)F 2-(2,3,4,5,6-pentafluorophenyl)-2-[2,3,5,6-tetrafluoro-4-(trifluoromethyl)phenyl]acetonitrile\n",
      "308 (C6F5)2CHCN Bis(pentafluorophenyl)acetonitrile FC1=C(F)C(=C(C(C#N)C2=C(F)C(=C(F)C(=C2F)F)F)C(=C1F)F)F 2,2-bis(2,3,4,5,6-pentafluorophenyl)acetonitrile\n",
      "310 (4-CF3-C6F4)(C6F5)CHCN - FC1=C(F)C(=C(C(C#N)C2=C(F)C(=C(C(=C2F)F)C(F)(F)F)F)C(=C1F)F)F 2-(2,3,4,5,6-pentafluorophenyl)-2-[2,3,5,6-tetrafluoro-4-(trifluoromethyl)phenyl]acetonitrile\n",
      "313 Quino[7,8-h]quinoline - C1=CC2=C(C3=C(C=C2)C=CC4=C3N=CC=C4)N=C1 quinolino[7,8-h]quinoline\n",
      "317 Imidazole - C1=CN=CN1 -\n",
      "324 Benzimidazole - C1=CC=C2C(=C1)NC=N2 -\n",
      "325 2-methylpyridine 109-06-8 CC1=CC=CC=N1 2-methylpyridine\n",
      "327 Acridine - C1=CC=C2C(=C1)C=C3C=CC=CC3=N2 -\n",
      "328 Pyridine - C1=CC=NC=C1 -\n",
      "329 Thiabendazole - C1=CC=C2C(=C1)NC(=N2)C3=CSC=N3 -\n",
      "331 Carbendazim - COC(=O)NC1=NC2=CC=CC=C2N1 -\n",
      "332 Quinoline - C1=CC=C2C(=C1)C=CC=N2 -\n",
      "334 4-methoxyAniline - COC1=CC=C(C=C1)N -\n",
      "337 N,N-dimethylAniline - CN(C)C1=CC=CC=C1 -\n",
      "340 Aniline - C1=CC=C(C=C1)N -\n",
      "342 2-methylaniline - CC1=CC=CC=C1N -\n",
      "345 1-Naphtylamine - C1=CC=C2C(=C1)C=CC=C2N -\n",
      "347 4-bromoAniline - C1=CC(=CC=C1N)Br -\n",
      "352 4-trifluoromethylAniline - C1=CC(=CC=C1C(F)(F)F)N -\n",
      "354 2-chloroaniline - C1=CC=C(C(=C1)N)Cl -\n",
      "359 Caffeine - CN1C=NC2=C1C(=O)N(C(=O)N2C)C -\n",
      "361 Benzotriazole - C1=CC2=NNN=C2C=C1 -\n",
      "365 4-nitroAniline - C1=CC(=CC=C1N)[N+](=O)[O-] -\n",
      "374 Uracil - C1=CNC(=O)NC1=O -\n",
      "375 Thymine - CC1=CNC(=O)NC1=O -\n",
      "377 Quino[7,8-h]quinoline - C1=CC2=C(C3=C(C=C2)C=CC4=C3N=CC=C4)N=C1 -\n",
      "410 4-F-C6H4C(=O)NHTf - FC1=CC=C(C=C1)C(=O)N[S](=O)(=O)C(F)(F)F -\n",
      "412 2,3,4,6-(CF3)4-C6HCH(CN)2 - FC(F)(F)C1=C(C(C#N)C#N)C(=C(C(=C1)C(F)(F)F)C(F)(F)F)C(F)(F)F -\n",
      "413 4-Cl-C6H4C(=O)NHTf - FC(F)(F)[S](=O)(=O)NC(=O)C1=CC=C(Cl)C=C1 -\n",
      "422 C6(CF3)5CH(CN)2 - FC(F)(F)C1=C(C(C#N)C#N)C(=C(C(=C1C(F)(F)F)C(F)(F)F)C(F)(F)F)C(F)(F)F -\n",
      "Phenol - OC1=C(C=C(C=C1[S](=O)(=O)OCC(F)(F)C(F)F)[S](=O)(=O)OCC(F)(F)C(F)F)[S](=O)(=O)OCC(F)(F)C(F)F -\n",
      "427 2,4,6-(SO2OCH2CF3)3-Phenol - OC1=C(C=C(C=C1[S](=O)(=O)OCC(F)(F)F)[S](=O)(=O)OCC(F)(F)F)[S](=O)(=O)OCC(F)(F)F -\n",
      "439 3-NO2-C6H4SO2CH(CN)2 - [O-][N+](=O)C1=CC(=CC=C1)[S](=O)(=O)C(C#N)C#N -\n",
      "441 4-MeO-C6H4C(=NTf)NHTf - COC1=CC=C(C=C1)C(N[S](=O)(=O)C(F)(F)F)=N[S](=O)(=O)C(F)(F)F -\n",
      "442 4-NO2-C6H4SO2CH(CN)2 - [O-][N+](=O)C1=CC=C(C=C1)[S](=O)(=O)C(C#N)C#N -\n",
      "443 4-Me-C6H4SO2NHTf - CC1=CC=C(C=C1)[S](=O)(=O)N[S](=O)(=O)C(F)(F)F -\n",
      "444 4-Me-C6H4C(=NTf)NHTf - CC1=CC=C(C=C1)C(N[S](=O)(=O)C(F)(F)F)=N[S](=O)(=O)C(F)(F)F -\n",
      "445 C6H5C(=NTf)NHTf - FC(F)(F)[S](=O)(=O)NC(=N[S](=O)(=O)C(F)(F)F)C1=CC=CC=C1 -\n",
      "446 C6H5SO2NHTf - FC(F)(F)[S](=O)(=O)N[S](=O)(=O)C1=CC=CC=C1 -\n",
      "447 4-F-C6H4C(=NTf)NHTf - FC1=CC=C(C=C1)C(N[S](=O)(=O)C(F)(F)F)=N[S](=O)(=O)C(F)(F)F -\n",
      "448 4-Cl-C6H4-C(=NTf)NHTf - FC(F)(F)[S](=O)(=O)NC(=N[S](=O)(=O)C(F)(F)F)C1=CC=C(Cl)C=C1 -\n",
      "450 2,4,6-(SO2F)3-Phenol - OC1=C(C=C(C=C1[S](F)(=O)=O)[S](F)(=O)=O)[S](F)(=O)=O -\n",
      "452 4-Cl-C6H4SO2NHTf - FC(F)(F)[S](=O)(=O)N[S](=O)(=O)C1=CC=C(Cl)C=C1 -\n",
      "455 2,4,6-Tf3-Phenol - OC1=C(C=C(C=C1[S](=O)(=O)C(F)(F)F)[S](=O)(=O)C(F)(F)F)[S](=O)(=O)C(F)(F)F -\n",
      "460 2,3,5-tricyanocyclopentadiene - N#CC1C=C(C#N)C(=C1)C#N -\n",
      "461 4-Cl-C6H4-SO(=NTf)NH-SO2C6H4-4-NO2 - [NH-][S](=O)(=N[S](=O)(=O)C(F)(F)F)C1=CC=C(Cl)C=C1 -\n",
      "472 (4-CF3-C6F4)(C6F5)CHCN - FC1=C(F)C(=C(C(C#N)C2=C(F)C(=C(C(=C2F)F)C(F)(F)F)F)C(=C1F)F)F 2-(2,3,4,5,6-pentafluorophenyl)-2-[2,3,5,6-tetrafluoro-4-(trifluoromethyl)phenyl]acetonitrile\n",
      "487 2,3,4,6-(CF3)4-C6HCH(CN)2 - FC(F)(F)C1=C(C(C#N)C#N)C(=C(C(=C1)C(F)(F)F)C(F)(F)F)C(F)(F)F -\n",
      "498 2,4,6-Tf3-Phenol - OC1=C(C=C(C=C1[S](=O)(=O)C(F)(F)F)[S](=O)(=O)C(F)(F)F)[S](=O)(=O)C(F)(F)F 2,4,6-tris(trifluoromethylsulfonyl)phenol\n",
      "500 2,3,5-tricyanocyclopentadiene 1,3-Cyclopentadiene-2,3,5-tricarbonitrile N#CC1C=C(C#N)C(=C1)C#N cyclopenta-2,5-diene-1,2,4-tricarbonitrile\n",
      "504 C(CN)2=C(CN)OH 654055-01-3 no SMILES 2-(2,4-dihydroxyphenyl)-3,5,7-trihydroxychromen-4-one;dihydrate\n",
      "510 (4-CF3-C6F4)(C6F5)CHCN - FC1=C(F)C(=C(C(C#N)C2=C(F)C(=C(C(=C2F)F)C(F)(F)F)F)C(=C1F)F)F 2-(2,3,4,5,6-pentafluorophenyl)-2-[2,3,5,6-tetrafluoro-4-(trifluoromethyl)phenyl]acetonitrile\n",
      "519 7-nitroIndole 6960-42-5 C1=CC2=C(C(=C1)[N+](=O)[O-])NC=C2 7-nitro-1H-indole\n",
      "520 Indoxyl acetate 608-08-2 CC(=O)OC1=CNC2=CC=CC=C21 1H-indol-3-yl acetate\n",
      "521 Phenol 654055-01-3 no SMILES 2-(2,4-dihydroxyphenyl)-3,5,7-trihydroxychromen-4-one;dihydrate\n",
      "523 4-cyano-2,3,5,6-tetrafluoroAniline N-[1-[(2,6-Diisopropylphenyl)amino]ethylidene]-4-cyano-2,3,5,6-tetrafluoroaniline CC(C)C1=C(C(=CC=C1)C(C)C)N=C(C)NC2=C(C(=C(C(=C2F)F)C#N)F)F N-(4-cyano-2,3,5,6-tetrafluorophenyl)-N'-[2,6-di(propan-2-yl)phenyl]ethanimidamide\n",
      "525 5-nitroIndole 6146-52-7 C1=CC2=C(C=CN2)C=C1[N+](=O)[O-] 5-nitro-1H-indole\n",
      "528 4-nitroIndole 4769-97-5 C1=CC2=C(C=CN2)C(=C1)[N+](=O)[O-] 4-nitro-1H-indole\n",
      "529 6-nitroIndole 4769-96-4 C1=CC(=CC2=C1C=CN2)[N+](=O)[O-] 6-nitro-1H-indole\n",
      "542 3-trifluoromethylPhenol 98-17-9 C1=CC(=CC(=C1)O)C(F)(F)F 3-(trifluoromethyl)phenol\n",
      "550 3-cyanoIndole 5457-28-3 C1=CC=C2C(=C1)C(=CN2)C#N 1H-indole-3-carbonitrile\n",
      "554 4-trifluoromethylPhenol 402-45-9 C1=CC(=CC=C1C(F)(F)F)O 4-(trifluoromethyl)phenol\n",
      "561 2-trifluoromethylPhenol 444-30-4 C1=CC=C(C(=C1)C(F)(F)F)O 2-(trifluoromethyl)phenol\n",
      "564 pentakis(trifluoromethyl)Aniline 58956-76-6 C1(=C(C(=C(C(=C1C(F)(F)F)C(F)(F)F)N)C(F)(F)F)C(F)(F)F)C(F)(F)F 2,3,4,5,6-pentakis(trifluoromethyl)aniline\n",
      "575 2,4,6-trinitroAniline 489-98-5 C1=C(C=C(C(=C1[N+](=O)[O-])N)[N+](=O)[O-])[N+](=O)[O-] 2,4,6-trinitroaniline\n",
      "576 3,5-bis(trifluoromethyl)Phenol 349-58-6 C1=C(C=C(C=C1C(F)(F)F)O)C(F)(F)F 3,5-bis(trifluoromethyl)phenol\n",
      "577 2-nitroIndole - CCOC(=O)N1C2=CC=CC=C2C=C1[N+](=O)[O-] ethyl 2-nitroindole-1-carboxylate\n",
      "579 Acetic acid 64-19-7 CC(=O)O acetic acid\n",
      "582 Sorbic acid 22500-92-1 CC=CC=CC(=O)O hexa-2,4-dienoic acid\n",
      "584 2-nitroPhenol 88-75-5 C1=CC=C(C(=C1)[N+](=O)[O-])O 2-nitrophenol\n",
      "587 Retinoic acid 3555-80-4 CC1=C(C(CCC1)(C)C)C=CC(=CC=CC(=CC(=O)O)C)C 3,7-dimethyl-9-(2,6,6-trimethylcyclohexen-1-yl)nona-2,4,6,8-tetraenoic acid\n",
      "588 3-nitroIndole 4770-03-0 C1=CC=C2C(=C1)C(=CN2)[N+](=O)[O-] 3-nitro-1H-indole\n",
      "592 Benzoic acid 65-85-0 C1=CC=C(C=C1)C(=O)O benzoic acid\n",
      "595 Alizarin 72-48-0 C1=CC=C2C(=C1)C(=O)C3=C(C2=O)C(=C(C=C3)O)O 1,2-dihydroxyanthracene-9,10-dione\n",
      "597 (C6F5)2CHCN Bis(pentafluorophenyl)acetonitrile FC1=C(F)C(=C(C(C#N)C2=C(F)C(=C(F)C(=C2F)F)F)C(=C1F)F)F 2,2-bis(2,3,4,5,6-pentafluorophenyl)acetonitrile\n",
      "599 (CF3)3COH 2378-02-1 C(C(F)(F)F)(C(F)(F)F)(C(F)(F)F)O 1,1,1,3,3,3-hexafluoro-2-(trifluoromethyl)propan-2-ol\n",
      "602 2,4,6-tribromoPhenol 118-79-6 C1=C(C=C(C(=C1Br)O)Br)Br 2,4,6-tribromophenol\n",
      "603 pentacyanoToluene - CC1=C(C(=C(C(=C1C#N)C#N)C#N)C#N)C#N 6-methylbenzene-1,2,3,4,5-pentacarbonitrile\n",
      "605 2,3,5,6-tetrafluoroPhenol 769-39-1 C1=C(C(=C(C(=C1F)F)O)F)F 2,3,5,6-tetrafluorophenol\n",
      "606 pentafluoroPhenol 771-61-9 C1(=C(C(=C(C(=C1F)F)F)F)F)O 2,3,4,5,6-pentafluorophenol\n",
      "621 pentachloroPhenol 654055-01-3 no SMILES 2-(2,4-dihydroxyphenyl)-3,5,7-trihydroxychromen-4-one;dihydrate\n",
      "622 pentabromoPhenol 608-71-9 C1(=C(C(=C(C(=C1Br)Br)Br)Br)Br)O 2,3,4,5,6-pentabromophenol\n",
      "630 2,6-dinitroPhenol 573-56-8 C1=CC(=C(C(=C1)[N+](=O)[O-])O)[N+](=O)[O-] 2,6-dinitrophenol\n",
      "631 2,4-dinitroPhenol 51-28-5 C1=CC(=C(C=C1[N+](=O)[O-])[N+](=O)[O-])O 2,4-dinitrophenol\n",
      "634 4-fluoro-2,6-dinitroPhenol 364-32-9 C1=C(C=C(C(=C1[N+](=O)[O-])O)[N+](=O)[O-])F 4-fluoro-2,6-dinitrophenol\n",
      "642 Saccharin 128-44-9 C1=CC=C2C(=C1)C(=O)NS2(=O)=O 1,1-dioxo-1,2-benzothiazol-3-one\n",
      "645 2-chloro-4,6-dinitroPhenol 946-31-6 C1=C(C=C(C(=C1[N+](=O)[O-])O)Cl)[N+](=O)[O-] 2-chloro-4,6-dinitrophenol\n",
      "673 Picric acid 88-89-1 C1=C(C=C(C(=C1[N+](=O)[O-])O)[N+](=O)[O-])[N+](=O)[O-] 2,4,6-trinitrophenol\n",
      "674 5-nitroBarbituric acid 480-68-2 C1(C(=O)NC(=O)NC1=O)[N+](=O)[O-] 5-nitro-1,3-diazinane-2,4,6-trione\n",
      "680 HCl 16887-00-6 Cl chloride\n",
      "687 CH3SO3H 75-75-2 CS(=O)(=O)O methanesulfonic acid\n",
      "695 TosOH 104-15-4 CC1=CC=C(C=C1)S(=O)(=O)O 4-methylbenzenesulfonic acid\n",
      "696 PhSO3H - C=CCOC(=O)CCC(C(=O)OCC=C)N.C1=CC=C(C=C1)S(=O)(=O)O -\n",
      "705 H2SO4 7664-93-9 OS(=O)(=O)O sulfuric acid\n",
      "745 2,3,5-tricyanocyclopentadiene 1,3-Cyclopentadiene-2,3,5-tricarbonitrile N#CC1C=C(C#N)C(=C1)C#N cyclopenta-2,5-diene-1,2,4-tricarbonitrile\n",
      "748 120-72-9 - C1=CC=C2C(=C1)C=CN2 -\n",
      "750 6960-42-5 6960-42-5 C1=CC2=C(C(=C1)[N+](=O)[O-])NC=C2 7-nitro-1H-indole\n",
      "751 608-08-2 608-08-2 CC(=O)OC1=CNC2=CC=CC=C21 1H-indol-3-yl acetate\n",
      "752 108-95-2 108-95-2 C1=CC=C(C=C1)O phenol\n",
      "753 2128672-84-2 - C1=CC(=CC=C1C(=O)NC2=NNC(=S)C=C2)F 4-fluoro-N-(6-sulfanylidene-1H-pyridazin-3-yl)benzamide\n",
      "754 17823-38-0 17823-38-0 C(#N)C1=C(C(=C(C(=C1F)F)N)F)F 4-amino-2,3,5,6-tetrafluorobenzonitrile\n",
      "755 1018330-43-2 654055-01-3 no SMILES 2-(2,4-dihydroxyphenyl)-3,5,7-trihydroxychromen-4-one;dihydrate\n",
      "756 6146-52-7 6146-52-7 C1=CC2=C(C=CN2)C=C1[N+](=O)[O-] 5-nitro-1H-indole\n",
      "757 73482-93-6 73489-84-6 CCOC(=O)CC(C)(CC(=O)OCC)O diethyl 3-hydroxy-3-methylpentanedioate\n",
      "758 101-20-2 101-20-2 C1=CC(=CC=C1NC(=O)NC2=CC(=C(C=C2)Cl)Cl)Cl 1-(4-chlorophenyl)-3-(3,4-dichlorophenyl)urea\n",
      "759 4769-97-5 4769-97-5 C1=CC2=C(C=CN2)C(=C1)[N+](=O)[O-] 4-nitro-1H-indole\n",
      "760 4769-96-4 4769-96-4 C1=CC(=CC2=C1C=CN2)[N+](=O)[O-] 6-nitro-1H-indole\n",
      "762 2376448-26-7 74472-40-5 C1=CC(=C(C(=C1)Cl)C2=C(C(=C(C=C2Cl)Cl)Cl)Cl)Cl 1,2,3,5-tetrachloro-4-(2,6-dichlorophenyl)benzene\n",
      "763 1/2/55 388569-88-8 C1CC2C3C(C1)SC4CCC5C(C4)OCCOCCOCCOCCOCCOC6CC(S2)CCC6SC7CCCC(C7OCCOCCOCCOCCOCCO3)S5 3,6,9,12,15,18,32,35,38,41,44,47-dodecaoxa-25,54,58,60-tetrathiaheptacyclo[28.27.1.12,55.121,49.019,24.026,31.048,53]hexacontane\n",
      "764 77758-24-8 777828-03-2 CCOC(=N)C1=CC(=C(C=C1)OC)Br ethyl 3-bromo-4-methoxybenzenecarboximidate\n",
      "766 2408-04-0 - C1=CC(=CC=C1CS(=O)(=O)C(F)(F)F)F 1-fluoro-4-(trifluoromethylsulfonylmethyl)benzene\n",
      "767 58432-62-5 - CC1=CC=CC=C1C(C)C#N 2-(2-methylphenyl)propanenitrile\n",
      "769 4/8/10 21587-74-6 C1C2(COC(O1)CCCN)COC(OC2)CCCN 3-[3-(3-aminopropyl)-2,4,8,10-tetraoxaspiro[5.5]undecan-9-yl]propan-1-amine\n",
      "770 210486-32-1 318-85-4 C1=CC=C2C(=C1)C=CC=C2NC(=O)CF 2-fluoro-N-naphthalen-1-ylacetamide\n",
      "772 1354970-97-0 654055-01-3 no SMILES 2-(2,4-dihydroxyphenyl)-3,5,7-trihydroxychromen-4-one;dihydrate\n",
      "774 653-22-5 653-22-5 CC(=O)NC1=C(C(=C(C(=C1F)F)F)F)F N-(2,3,4,5,6-pentafluorophenyl)acetamide\n",
      "775 39077-43-5 - C1=CC=C(C=C1)NC2=C(C(=NC(=C2F)F)F)F 2,3,5,6-tetrafluoro-N-phenylpyridin-4-amine\n",
      "776 1821-27-8 1821-27-8 C1=CC(=CC=C1NC2=CC=C(C=C2)[N+](=O)[O-])[N+](=O)[O-] 4-nitro-N-(4-nitrophenyl)aniline\n",
      "777 1448617-67-1 - CC1=C(C(=NN1)C(F)(F)F)CC2=C(C3=C(S2)N(C(=O)N(C3=O)C)C(C)C)C(=O)N4CC(CO4)(C)O 5-(4-hydroxy-4-methyl-1,2-oxazolidine-2-carbonyl)-3-methyl-6-[[5-methyl-3-(trifluoromethyl)-1H-pyrazol-4-yl]methyl]-1-propan-2-ylthieno[2,3-d]pyrimidine-2,4-dione\n",
      "779 1945-78-4 1945-78-4 C1=CC=C2C(=C1)N=C(S2)CC3=NC4=CC=CC=C4S3 2-(1,3-benzothiazol-2-ylmethyl)-1,3-benzothiazole\n",
      "781 5457-28-3 5457-28-3 C1=CC=C2C(=C1)C(=CN2)C#N 1H-indole-3-carbonitrile\n",
      "782 98-64-6 654055-01-3 no SMILES 2-(2,4-dihydroxyphenyl)-3,5,7-trihydroxychromen-4-one;dihydrate\n",
      "783 triazine 1 123606-06-4 CSC1=NC2=NN=C(C(=O)N2N1)[N+](=O)[O-] 7-methylsulfanyl-3-nitro-6H-[1,2,4]triazolo[5,1-c][1,2,4]triazin-4-one\n",
      "784 2408-22-2 240122-25-2 C1=C(C=C(C(=C1C(F)(F)F)F)F)Br 5-bromo-1,2-difluoro-3-(trifluoromethyl)benzene\n",
      "787 830-43-3 830-43-3 C1=CC(=CC=C1C(F)(F)F)S(=O)(=O)N 4-(trifluoromethyl)benzenesulfonamide\n",
      "793 587-90-6 - C1=CC(=CC=C1NC(=O)NC2=CC=C(C=C2)[N+](=O)[O-])[N+](=O)[O-] -\n",
      "796 6325-93-5 6325-93-5 C1=CC(=CC=C1[N+](=O)[O-])S(=O)(=O)N 4-nitrobenzenesulfonamide\n",
      "797 1449332-69-7 - C1=CN=CC=C1C=NOC=O -\n",
      "799 194222-97-4 194222-97-4 C1=CC(=CC=C1CS(=O)(=O)C(F)(F)F)C(F)(F)F 1-(trifluoromethyl)-4-(trifluoromethylsulfonylmethyl)benzene\n",
      "801 3752-73-6 37526-59-3 C1=CC=C(C(=C1)OC(F)(F)F)S(=O)(=O)N 2-(trifluoromethoxy)benzenesulfonamide\n",
      "802 1580000-57-2 OS-3-106 COC1=CC=CC=C1N2CCN(CC2)CCCCNC(=O)C3=CC=C(C=C3)C4=CSC=N4 N-[4-[4-(2-methoxyphenyl)piperazin-1-yl]butyl]-4-(1,3-thiazol-4-yl)benzamide\n",
      "803 1535-92-8 1535-92-8 C1(=C(C(=C(C(=C1F)F)F)F)F)NC2=C(C(=C(C(=C2F)F)F)F)F 2,3,4,5,6-pentafluoro-N-(2,3,4,5,6-pentafluorophenyl)aniline\n",
      "806 489-98-5 489-98-5 C1=C(C=C(C(=C1[N+](=O)[O-])N)[N+](=O)[O-])[N+](=O)[O-] 2,4,6-trinitroaniline\n",
      "808 193686-70-3 60544-75-4 C1=CC=C2C(=C1)C=C(N2)[N+](=O)[O-] 2-nitro-1H-indole\n",
      "812 73622-52-3 654055-01-3 no SMILES 2-(2,4-dihydroxyphenyl)-3,5,7-trihydroxychromen-4-one;dihydrate\n",
      "813 110-44-1 22500-92-1 CC=CC=CC(=O)O hexa-2,4-dienoic acid\n",
      "815 88-75-5 88-75-5 C1=CC=C(C(=C1)[N+](=O)[O-])O 2-nitrophenol\n",
      "816 434957-15-0 434957-15-0 C1=C(C=C(C=C1C(F)(F)F)C(F)(F)F)CS(=O)(=O)C(F)(F)F 1,3-bis(trifluoromethyl)-5-(trifluoromethylsulfonylmethyl)benzene\n",
      "818 302-79-4 3555-80-4 CC1=C(C(CCC1)(C)C)C=CC(=CC=CC(=CC(=O)O)C)C 3,7-dimethyl-9-(2,6,6-trimethylcyclohexen-1-yl)nona-2,4,6,8-tetraenoic acid\n",
      "819 4770-03-0 4770-03-0 C1=CC=C2C(=C1)C(=CN2)[N+](=O)[O-] 3-nitro-1H-indole\n",
      "820 778-36-9 778-36-9 C1(=C(C(=C(C(=C1F)F)S(=O)(=O)N)F)F)F 2,3,4,5,6-pentafluorobenzenesulfonamide\n",
      "827 42254-09-1 - CCOC1=CC=C(C=C1)N2C(=O)C3=C(NC2=S)NN=C3 5-(4-ethoxyphenyl)-6-sulfanylidene-1,7-dihydropyrazolo[3,4-d]pyrimidin-4-one\n",
      "828 42238-34-6 - CCOC(=O)C1=C(SC2=C1CCCC2)NC(=O)OC(C)(C)C ethyl 2-[(2-methylpropan-2-yl)oxycarbonylamino]-4,5,6,7-tetrahydro-1-benzothiophene-3-carboxylate\n",
      "832 42238-36-8 93995-89-2 CN(C)CCNCC(=O)N1C2=CC=CC=C2SC3=CC=CC=C31 2-[2-(dimethylamino)ethylamino]-1-phenothiazin-10-ylethanone\n",
      "835 64934-69-6 64934-83-4 CC1=[N+](C(NC1(C)C)(C)C)[O-] 2,2,4,5,5-pentamethyl-3-oxido-1H-imidazol-3-ium\n",
      "839 38727-34-3 38727-55-8 CCC1=C(C(=CC=C1)CC)N(CC(=O)OCC)C(=O)CCl ethyl 2-(N-(2-chloroacetyl)-2,6-diethylanilino)acetate\n",
      "841 133213-11-3 - NC1=C(C=C(C=C1[S](F)(=O)=O)[S](F)(=O)=O)[S](F)(=O)=O -\n",
      "843 1269510-74-8 654055-01-3 no SMILES 2-(2,4-dihydroxyphenyl)-3,5,7-trihydroxychromen-4-one;dihydrate\n",
      "846 2249843-76-1 50285-72-8 CCN(CC)C(=O)N(C)N=O 1,1-diethyl-3-methyl-3-nitrosourea\n",
      "847 92916-62-6 929626-16-4 B1(OC(C(O1)(C)C)(C)C)C2=CC(=CC(=C2)Cl)OC 2-(3-chloro-5-methoxyphenyl)-4,4,5,5-tetramethyl-1,3,2-dioxaborolane\n",
      "848 42238-35-7 42237-85-4 C1=C(C=C(C=C1N)Br)C(=O)O 3-amino-5-bromobenzoic acid\n",
      "851 55852-22-7 77694-41-8 CC1(CC(C(=O)O1)N2C3=CC=CC=C3C=C2CC(=O)N)C 2-[1-(5,5-dimethyl-2-oxooxolan-3-yl)indol-2-yl]acetamide\n",
      "852 87-86-5 87-86-5 C1(=C(C(=C(C(=C1Cl)Cl)Cl)Cl)Cl)O 2,3,4,5,6-pentachlorophenol\n",
      "854 2340-87-6 - CCOC(=O)C(C#N)C1=C(C(=C(C(=C1F)F)F)F)F ethyl 2-cyano-2-(2,3,4,5,6-pentafluorophenyl)acetate\n",
      "857 55810-56-5 654055-01-3 no SMILES 2-(2,4-dihydroxyphenyl)-3,5,7-trihydroxychromen-4-one;dihydrate\n",
      "858 35622-48-1 654055-01-3 no SMILES 2-(2,4-dihydroxyphenyl)-3,5,7-trihydroxychromen-4-one;dihydrate\n",
      "860 534-52-1 534-52-1 CC1=CC(=CC(=C1O)[N+](=O)[O-])[N+](=O)[O-] 2-methyl-4,6-dinitrophenol\n",
      "861 573-56-8 573-56-8 C1=CC(=C(C(=C1)[N+](=O)[O-])O)[N+](=O)[O-] 2,6-dinitrophenol\n",
      "862 51-28-5 654055-01-3 no SMILES 2-(2,4-dihydroxyphenyl)-3,5,7-trihydroxychromen-4-one;dihydrate\n",
      "864 62325-51-3 62325-30-8 C1=CC2=C(C=CC3=C2C=CC(=C3)Br)C=C1Br 2,7-dibromophenanthrene\n",
      "865 364-32-9 364-32-9 C1=C(C=C(C(=C1[N+](=O)[O-])O)[N+](=O)[O-])F 4-fluoro-2,6-dinitrophenol\n",
      "868 62325-37-5 654055-01-3 no SMILES 2-(2,4-dihydroxyphenyl)-3,5,7-trihydroxychromen-4-one;dihydrate\n",
      "874 1378040-90-4 - COC(=O)C1=CC=C(C=C1)OC2=NC=C(C=C2)I methyl 4-(5-iodopyridin-2-yl)oxybenzoate\n",
      "876 946-31-6 946-31-6 C1=C(C=C(C(=C1[N+](=O)[O-])O)Cl)[N+](=O)[O-] 2-chloro-4,6-dinitrophenol\n",
      "877 934201-93-1 - C1CCC2=C3C4=C5CCCCC5=CC(=C4OP(=O)(OC3=C(C=C2C1)C6=CC7=CC=CC=C7C8=CC=CC=C86)O)C9=CC1=CC=CC=C1C1=CC=CC=C19 13-hydroxy-10,16-di(phenanthren-9-yl)-12,14-dioxa-13λ5-phosphapentacyclo[13.8.0.02,11.03,8.018,23]tricosa-1(23),2,8,10,15,17-hexaene 13-oxide\n",
      "879 791616-63-2 791616-63-2 CC(C)C1=CC(=C(C(=C1)C(C)C)C2=CC3=CC=CC=C3C4=C2OP(=O)(OC5=C4C6=CC=CC=C6C=C5C7=C(C=C(C=C7C(C)C)C(C)C)C(C)C)O)C(C)C 13-hydroxy-10,16-bis[2,4,6-tri(propan-2-yl)phenyl]-12,14-dioxa-13λ5-phosphapentacyclo[13.8.0.02,11.03,8.018,23]tricosa-1(15),2(11),3,5,7,9,16,18,20,22-decaene 13-oxide\n",
      "880 2489223-24-5 248924-59-6 B1(OC(C(O1)(C)C)(C)C)C2=COC=C2 2-(furan-3-yl)-4,4,5,5-tetramethyl-1,3,2-dioxaborolane\n",
      "881 64934-72-1 64932-36-1 CC(C)C(C=O)Br 2-bromo-3-methylbutanal\n",
      "883 864943-22-6 864943-22-6 C1=CC=C2C(=C1)C=C(C3=CC=CC=C23)C4=CC5=CC=CC=C5C6=C4OP(=O)(OC7=C6C8=CC=CC=C8C=C7C9=CC1=CC=CC=C1C1=CC=CC=C19)O 13-hydroxy-10,16-di(phenanthren-9-yl)-12,14-dioxa-13λ5-phosphapentacyclo[13.8.0.02,11.03,8.018,23]tricosa-1(15),2(11),3,5,7,9,16,18,20,22-decaene 13-oxide\n",
      "885 55810-63-4 70737-24-5 CCN(CC)CCOCC[Si](C)(C1=CC=CC=C1)C2=CC=CC=C2 N,N-diethyl-2-[2-[methyl(diphenyl)silyl]ethoxy]ethanamine\n",
      "886 695162-86-8 1244725-08-3 C1=CC=C(C=C1)C2=CC3=CC=CC=C3C4=C2OP(=O)(OC5=C4C6=CC=CC=C6C=C5C7=CC=CC=C7)O 13-hydroxy-10,16-diphenyl-12,14-dioxa-13λ5-phosphapentacyclo[13.8.0.02,11.03,8.018,23]tricosa-1(15),2(11),3,5,7,9,16,18,20,22-decaene 13-oxide\n",
      "887 2408902-84-9 30560-37-3 CCOP(=O)(NC(=O)C)SC N-[ethoxy(methylsulfanyl)phosphoryl]acetamide\n",
      "888 915038-14-1 - CCC1C2CC(CCC2(C3CCC4(C(C3C1=O)CCC4C(C)CCC(=O)O)C)C)O -\n",
      "889 1541182-00-6 - C1CCC(C(C1)NC(=O)C2=C(C(=C(C(=C2Br)Br)Br)Br)C(=O)O)NC(=S)NC3=CC(=CC(=C3)C(F)(F)F)C(F)(F)F 2-[[2-[[3,5-bis(trifluoromethyl)phenyl]carbamothioylamino]cyclohexyl]carbamoyl]-3,4,5,6-tetrabromobenzoic acid\n",
      "892 14561-75-2 145612-66-4 CC(C)(C)C1=CC=C(C=C1)[S+](C2=CC=CC=C2)C3=CC=CC=C3.C(F)(F)(F)S(=O)(=O)[O-] (4-tert-butylphenyl)-diphenylsulfanium;trifluoromethanesulfonate\n",
      "893 2489223-25-6 654055-01-3 no SMILES 2-(2,4-dihydroxyphenyl)-3,5,7-trihydroxychromen-4-one;dihydrate\n",
      "894 7077-65-8 7077-65-8 C1=CC(=CC=C1C(C#N)C#N)[N+](=O)[O-] 2-(4-nitrophenyl)propanedinitrile\n",
      "895 39063-05-3 39065-49-1 C1=CC=C(C=C1)C2=C(C=CC=N2)C#N 2-phenylpyridine-3-carbonitrile\n",
      "900 958028-58-5 654055-01-3 no SMILES 2-(2,4-dihydroxyphenyl)-3,5,7-trihydroxychromen-4-one;dihydrate\n",
      "901 1685282-48-7 1629062-56-1 CC(C)C(C(=O)N)NC(=O)C1=NN(C2=CC=CC=C21)CC3=CC=C(C=C3)F N-(1-amino-3-methyl-1-oxobutan-2-yl)-1-[(4-fluorophenyl)methyl]indazole-3-carboxamide\n",
      "902 69173-28-0 69173-20-2 COC1=C(C=C(C=C1)S(=O)(=O)N)Cl 3-chloro-4-methoxybenzenesulfonamide\n",
      "903 39062-91-4 39061-97-7 C1=CC=C2C(=C1)C(=C(C=N2)[N+](=O)[O-])Cl 4-chloro-3-nitroquinoline\n",
      "905 480-68-2 480-68-2 C1(C(=O)NC(=O)NC1=O)[N+](=O)[O-] 5-nitro-1,3-diazinane-2,4,6-trione\n",
      "906 39063-00-8 654055-01-3 no SMILES 2-(2,4-dihydroxyphenyl)-3,5,7-trihydroxychromen-4-one;dihydrate\n",
      "907 131-73-7 131-73-7 C1=C(C=C(C(=C1[N+](=O)[O-])NC2=C(C=C(C=C2[N+](=O)[O-])[N+](=O)[O-])[N+](=O)[O-])[N+](=O)[O-])[N+](=O)[O-] 2,4,6-trinitro-N-(2,4,6-trinitrophenyl)aniline\n",
      "912 96433-16-8 96433-09-9 B1(OCCCO1)C2=CC=C(C=C2)B3OCCCO3 2-[4-(1,3,2-dioxaborinan-2-yl)phenyl]-1,3,2-dioxaborinane\n",
      "916 28006-58-8 10397-78-1 CNC(=O)C1=C(C(=C(C(=C1I)NC(=O)CCCCCCCCCCC(=O)NC2=C(C(=C(C(=C2I)C(=O)O)I)C(=O)NC)I)I)C(=O)O)I 3-[[12-[3-carboxy-2,4,6-triiodo-5-(methylcarbamoyl)anilino]-12-oxododecanoyl]amino]-2,4,6-triiodo-5-(methylcarbamoyl)benzoic acid\n",
      "917 100724-78-5 4-Methyl-4'-nitro[1,1'-iminobis(sulfonyl)bis(benzene)] CC1=CC=C(C=C1)[S](=O)(=O)N[S](=O)(=O)C2=CC=C(C=C2)[N+]([O-])=O 4-methyl-N-(4-nitrophenyl)sulfonylbenzenesulfonamide\n",
      "918 75-75-2 75-75-2 CS(=O)(=O)O methanesulfonic acid\n",
      "919 215395-06-5 215306-02-8 C1=CN=C(C(=C1C(=O)O)C(=O)O)Cl 2-chloropyridine-3,4-dicarboxylic acid\n",
      "922 95468-16-9 - C1=CC(=CC(=C1)S(=O)(=O)NS(=O)(=O)C2=CC=C(C=C2)Cl)[N+](=O)[O-] N-(4-chlorophenyl)sulfonyl-3-nitrobenzenesulfonamide\n",
      "925 1171188-83-2 654055-01-3 no SMILES 2-(2,4-dihydroxyphenyl)-3,5,7-trihydroxychromen-4-one;dihydrate\n",
      "927 98-11-3 98-11-3 C1=CC=C(C=C1)S(=O)(=O)O benzenesulfonic acid\n",
      "928 116082-80-5 - C1=CC(=CC(=C1)S(=O)(=O)NS(=O)(=O)C2=CC=CC(=C2)[N+](=O)[O-])[N+](=O)[O-] 3-nitro-N-(3-nitrophenyl)sulfonylbenzenesulfonamide\n",
      "930 1263293-54-4 126325-46-0 CC1=NC(=C(C=C1)Br)N 3-bromo-6-methylpyridin-2-amine\n",
      "931 1263293-53-3 654055-01-3 no SMILES 2-(2,4-dihydroxyphenyl)-3,5,7-trihydroxychromen-4-one;dihydrate\n",
      "936 7664-93-9 7664-93-9 OS(=O)(=O)O sulfuric acid\n",
      "941 1071853-99-0 - COC1=CC=C(C=C1)C2=CC3CCCCC3C4=C2OP(=O)(OC5=C(C=C6CCCCC6=C45)C7=CC=C(C=C7)OC)NS(=O)(=O)C(F)(F)F N-[10,16-bis(4-methoxyphenyl)-13-oxo-12,14-dioxa-13λ5-phosphapentacyclo[13.8.0.02,11.03,8.018,23]tricosa-1(15),2,8,10,16-pentaen-13-yl]-1,1,1-trifluoromethanesulfonamide\n",
      "943 1261302-62-8 - C1CCC2=C3C4=C5CCCCC5=CC(=C4OP(=O)(OC3=C(C=C2C1)C6=CC=CC=C6)NS(=O)(=O)C(F)(F)F)C7=CC=CC=C7 1,1,1-trifluoro-N-(13-oxo-10,16-diphenyl-12,14-dioxa-13λ5-phosphapentacyclo[13.8.0.02,11.03,8.018,23]tricosa-1(23),2,8,10,15,17-hexaen-13-yl)methanesulfonamide\n",
      "944 1171188-92-3 1171123-46-8 CC1=C(C2=C(N1)C=CC(=C2)Cl)C3=CCNCC3.Cl 5-chloro-2-methyl-3-(1,2,3,6-tetrahydropyridin-4-yl)-1H-indole;hydrochloride\n",
      "945 1261302-67-3 1261302-02-6 C1=CSC2=C1C(=NC=C2C#N)Cl 4-chlorothieno[3,2-c]pyridine-7-carbonitrile\n",
      "946 1171188-93-4 1171884-78-8 C1=CC=NC(=C1)OC2=CC=C(C=C2)CN.Cl (4-pyridin-2-yloxyphenyl)methanamine;hydrochloride\n",
      "947 98-47-5 98-47-5 C1=CC(=CC(=C1)S(=O)(=O)O)[N+](=O)[O-] 3-nitrobenzenesulfonic acid\n",
      "949 1010799-98-0 - C1=CC=C(C=C1)C2=CC3=CC=CC=C3C4=C2OP(=O)(OC5=C4C6=CC=CC=C6C=C5C7=CC=CC=C7)NS(=O)(=O)C(F)(F)F 1,1,1-trifluoro-N-(13-oxo-10,16-diphenyl-12,14-dioxa-13λ5-phosphapentacyclo[13.8.0.02,11.03,8.018,23]tricosa-1(15),2(11),3,5,7,9,16,18,20,22-decaen-13-yl)methanesulfonamide\n",
      "952 46764-49-2 654055-01-3 no SMILES 2-(2,4-dihydroxyphenyl)-3,5,7-trihydroxychromen-4-one;dihydrate\n",
      "953 1171188-96-7 - CC(C)(C)OC(=O)N1CCCC(C1)C2=CC=C(C=C2)N tert-butyl 3-(4-aminophenyl)piperidine-1-carboxylate\n",
      "954 500721-87-9 284493-59-0 CC(C)(C)OC(=O)NC(CC(=O)O)C1=CC(=CC=C1)F 3-(3-fluorophenyl)-3-[(2-methylpropan-2-yl)oxycarbonylamino]propanoic acid\n",
      "955 1207878-53-2 654055-01-3 no SMILES 2-(2,4-dihydroxyphenyl)-3,5,7-trihydroxychromen-4-one;dihydrate\n",
      "956 215395-07-6 215306-02-8 C1=CN=C(C(=C1C(=O)O)C(=O)O)Cl 2-chloropyridine-3,4-dicarboxylic acid\n",
      "957 500721-89-1 1502-46-1 C1(=O)NC2=NC(=O)NC3=NC(=O)N=C(N23)N1 2,4,6,8,10,12,13-heptazatricyclo[7.3.1.05,13]trideca-1,4,8-triene-3,7,11-trione\n",
      "960 174788-87-5 174775-48-5 CCOC(=O)C1=CC2=C(O1)C=CC(=C2)N ethyl 5-amino-1-benzofuran-2-carboxylate\n",
      "962 500721-93-7 500717-23-7 CC1(C2=CC=CC=C2C3=C1C=C(C=C3)NC4=CC5=C(C=C4)C6=CC=CC=C6C5(C)C)C N-(9,9-dimethylfluoren-2-yl)-9,9-dimethylfluoren-2-amine\n",
      "963 882492-01-5 654055-01-3 no SMILES 2-(2,4-dihydroxyphenyl)-3,5,7-trihydroxychromen-4-one;dihydrate\n",
      "964 500721-95-9 87299-55-6 CC1(CCC2C(CC(OC2C1)C3CCCCC3)C4CCCCC4)C 2,4-dicyclohexyl-7,7-dimethyl-2,3,4,4a,5,6,8,8a-octahydrochromene\n",
      "965 1535-93-9 153559-49-0 CC1=CC2=C(C=C1C(=C)C3=CC=C(C=C3)C(=O)O)C(CCC2(C)C)(C)C 4-[1-(3,5,5,8,8-pentamethyl-6,7-dihydronaphthalen-2-yl)ethenyl]benzoic acid\n",
      "966 454-50-2 454-50-2 C(#N)C(C#N)C#N methanetricarbonitrile\n",
      "969 174788-93-3 - CC1=CC=C(C=C1)[S](=O)(=O)N[S](=O)(=N[S](=O)(=O)C(F)(F)F)C2=CC=C(Cl)C=C2 -\n",
      "970 500721-97-1 654055-01-3 no SMILES 2-(2,4-dihydroxyphenyl)-3,5,7-trihydroxychromen-4-one;dihydrate\n",
      "971 71571-37-4 71574-33-9 CC1=C(SC(=N1)N)C.Cl 4,5-dimethyl-1,3-thiazol-2-amine;hydrochloride\n",
      "972 27062-39-1 - C(#N)C(=C(C#N)O)C#N 2-hydroxyethene-1,1,2-tricarbonitrile\n",
      "974 174788-95-5 - FC(F)(F)[S](=O)(=O)N=[S](=O)(N[S](=O)(=O)C1=CC=C(Cl)C=C1)C2=CC=C(Cl)C=C2 -\n",
      "975 89-02-1 89-02-1 C1=CC(=C(C=C1[N+](=O)[O-])[N+](=O)[O-])S(=O)(=O)O 2,4-dinitrobenzenesulfonic acid\n",
      "979 120-72-9 120-72-9 C1=CC=C2C(=C1)C=CN2 1H-indole\n",
      "980 108-95-2 108-95-2 C1=CC=C(C=C1)O phenol\n",
      "981 6146-52-7 6146-52-7 C1=CC2=C(C=CN2)C=C1[N+](=O)[O-] 5-nitro-1H-indole\n",
      "982 4769-96-4 4769-96-4 C1=CC(=CC2=C1C=CN2)[N+](=O)[O-] 6-nitro-1H-indole\n",
      "987 98-64-6 98-64-6 C1=CC(=CC=C1S(=O)(=O)N)Cl 4-chlorobenzenesulfonamide\n",
      "989 830-43-3 830-43-3 C1=CC(=CC=C1C(F)(F)F)S(=O)(=O)N 4-(trifluoromethyl)benzenesulfonamide\n",
      "993 489-98-5 489-98-5 C1=C(C=C(C(=C1[N+](=O)[O-])N)[N+](=O)[O-])[N+](=O)[O-] 2,4,6-trinitroaniline\n",
      "997 110-44-1 22500-92-1 CC=CC=CC(=O)O hexa-2,4-dienoic acid\n",
      "999 4770-03-0 4770-03-0 C1=CC=C2C(=C1)C(=CN2)[N+](=O)[O-] 3-nitro-1H-indole\n",
      "1000 778-36-9 778-36-9 C1(=C(C(=C(C(=C1F)F)S(=O)(=O)N)F)F)F 2,3,4,5,6-pentafluorobenzenesulfonamide\n",
      "1001 65-85-0 65-85-0 C1=CC=C(C=C1)C(=O)O benzoic acid\n",
      "1003 42238-34-6 - CCOC(=O)C1=C(SC2=C1CCCC2)NC(=O)OC(C)(C)C ethyl 2-[(2-methylpropan-2-yl)oxycarbonylamino]-4,5,6,7-tetrahydro-1-benzothiophene-3-carboxylate\n",
      "1008 87-86-5 654055-01-3 no SMILES 2-(2,4-dihydroxyphenyl)-3,5,7-trihydroxychromen-4-one;dihydrate\n",
      "1010 2340-87-6 - CCOC(=O)C(C#N)C1=C(C(=C(C(=C1F)F)F)F)F ethyl 2-cyano-2-(2,3,4,5,6-pentafluorophenyl)acetate\n",
      "1011 534-52-1 - error in recall -\n",
      "1012 573-56-8 573-56-8 C1=CC(=C(C(=C1)[N+](=O)[O-])O)[N+](=O)[O-] 2,6-dinitrophenol\n",
      "1013 51-28-5 51-28-5 C1=CC(=C(C=C1[N+](=O)[O-])[N+](=O)[O-])O 2,4-dinitrophenol\n",
      "1014 58432-55-6 58436-28-5 C1=CC(=CC=C1CCC2=CC(=CC(=C2)O)O)O 5-[2-(4-hydroxyphenyl)ethyl]benzene-1,3-diol\n",
      "1015 81-07-2 128-44-9 C1=CC=C2C(=C1)C(=O)NS2(=O)=O 1,1-dioxo-1,2-benzothiazol-3-one\n",
      "1016 946-31-6 946-31-6 C1=C(C=C(C(=C1[N+](=O)[O-])O)Cl)[N+](=O)[O-] 2-chloro-4,6-dinitrophenol\n",
      "1017 7077-65-8 7077-65-8 C1=CC(=CC=C1C(C#N)C#N)[N+](=O)[O-] 2-(4-nitrophenyl)propanedinitrile\n",
      "1019 131-73-7 131-73-7 C1=C(C=C(C(=C1[N+](=O)[O-])NC2=C(C=C(C=C2[N+](=O)[O-])[N+](=O)[O-])[N+](=O)[O-])[N+](=O)[O-])[N+](=O)[O-] 2,4,6-trinitro-N-(2,4,6-trinitrophenyl)aniline\n",
      "1023 454-50-2 454-50-2 C(#N)C(C#N)C#N methanetricarbonitrile\n",
      "1024 71571-37-4 71574-33-9 CC1=C(SC(=N1)N)C.Cl 4,5-dimethyl-1,3-thiazol-2-amine;hydrochloride\n",
      "1026 120-72-9 120-72-9 C1=CC=C2C(=C1)C=CN2 1H-indole\n",
      "1027 108-95-2 108-95-2 C1=CC=C(C=C1)O phenol\n",
      "1028 17823-38-0 17823-38-0 C(#N)C1=C(C(=C(C(=C1F)F)N)F)F 4-amino-2,3,5,6-tetrafluorobenzonitrile\n",
      "1029 1018330-43-2 654055-01-3 no SMILES 2-(2,4-dihydroxyphenyl)-3,5,7-trihydroxychromen-4-one;dihydrate\n",
      "1030 6146-52-7 6146-52-7 C1=CC2=C(C=CN2)C=C1[N+](=O)[O-] 5-nitro-1H-indole\n",
      "1031 73482-93-6 73489-84-6 CCOC(=O)CC(C)(CC(=O)OCC)O diethyl 3-hydroxy-3-methylpentanedioate\n",
      "1032 1/2/55 388569-88-8 C1CC2C3C(C1)SC4CCC5C(C4)OCCOCCOCCOCCOCCOC6CC(S2)CCC6SC7CCCC(C7OCCOCCOCCOCCOCCO3)S5 3,6,9,12,15,18,32,35,38,41,44,47-dodecaoxa-25,54,58,60-tetrathiaheptacyclo[28.27.1.12,55.121,49.019,24.026,31.048,53]hexacontane\n",
      "1033 58432-62-5 - CC1=CC=CC=C1C(C)C#N 2-(2-methylphenyl)propanenitrile\n",
      "1035 210486-32-1 318-85-4 C1=CC=C2C(=C1)C=CC=C2NC(=O)CF 2-fluoro-N-naphthalen-1-ylacetamide\n",
      "1038 653-22-5 653-22-5 CC(=O)NC1=C(C(=C(C(=C1F)F)F)F)F N-(2,3,4,5,6-pentafluorophenyl)acetamide\n",
      "1041 98-64-6 98-64-6 C1=CC(=CC=C1S(=O)(=O)N)Cl 4-chlorobenzenesulfonamide\n",
      "1050 194222-97-4 194222-97-4 C1=CC(=CC=C1CS(=O)(=O)C(F)(F)F)C(F)(F)F 1-(trifluoromethyl)-4-(trifluoromethylsulfonylmethyl)benzene\n",
      "1051 3752-73-6 37526-59-3 C1=CC=C(C(=C1)OC(F)(F)F)S(=O)(=O)N 2-(trifluoromethoxy)benzenesulfonamide\n",
      "1052 1535-92-8 1535-92-8 C1(=C(C(=C(C(=C1F)F)F)F)F)NC2=C(C(=C(C(=C2F)F)F)F)F 2,3,4,5,6-pentafluoro-N-(2,3,4,5,6-pentafluorophenyl)aniline\n",
      "1058 73622-52-3 73622-98-7 CC(C(=O)O)OC(=O)NC1=CC=CC=C1 2-(phenylcarbamoyloxy)propanoic acid\n",
      "1063 42238-34-6 - CCOC(=O)C1=C(SC2=C1CCCC2)NC(=O)OC(C)(C)C ethyl 2-[(2-methylpropan-2-yl)oxycarbonylamino]-4,5,6,7-tetrahydro-1-benzothiophene-3-carboxylate\n",
      "1066 42238-36-8 93995-89-2 CN(C)CCNCC(=O)N1C2=CC=CC=C2SC3=CC=CC=C31 2-[2-(dimethylamino)ethylamino]-1-phenothiazin-10-ylethanone\n",
      "1070 38727-34-3 38727-55-8 CCC1=C(C(=CC=C1)CC)N(CC(=O)OCC)C(=O)CCl ethyl 2-(N-(2-chloroacetyl)-2,6-diethylanilino)acetate\n",
      "1072 133213-11-3 - NC1=C(C=C(C=C1[S](F)(=O)=O)[S](F)(=O)=O)[S](F)(=O)=O -\n",
      "1074 42238-35-7 42237-85-4 C1=C(C=C(C=C1N)Br)C(=O)O 3-amino-5-bromobenzoic acid\n",
      "1075 55852-22-7 77694-41-8 CC1(CC(C(=O)O1)N2C3=CC=CC=C3C=C2CC(=O)N)C 2-[1-(5,5-dimethyl-2-oxooxolan-3-yl)indol-2-yl]acetamide\n",
      "1076 87-86-5 87-86-5 C1(=C(C(=C(C(=C1Cl)Cl)Cl)Cl)Cl)O 2,3,4,5,6-pentachlorophenol\n",
      "1077 2340-87-6 - CCOC(=O)C(C#N)C1=C(C(=C(C(=C1F)F)F)F)F ethyl 2-cyano-2-(2,3,4,5,6-pentafluorophenyl)acetate\n",
      "1080 35622-48-1 122975-87-5 CC1=CC=CC=C1N2C(=O)C(=CC(=O)C3=CC=C(C=C3)Cl)OC2=N 5-[2-(4-chlorophenyl)-2-oxoethylidene]-2-imino-3-(2-methylphenyl)-1,3-oxazolidin-4-one\n",
      "1081 534-52-1 534-52-1 CC1=CC(=CC(=C1O)[N+](=O)[O-])[N+](=O)[O-] 2-methyl-4,6-dinitrophenol\n",
      "1082 573-56-8 573-56-8 C1=CC(=C(C(=C1)[N+](=O)[O-])O)[N+](=O)[O-] 2,6-dinitrophenol\n",
      "1088 791616-63-2 791616-63-2 CC(C)C1=CC(=C(C(=C1)C(C)C)C2=CC3=CC=CC=C3C4=C2OP(=O)(OC5=C4C6=CC=CC=C6C=C5C7=C(C=C(C=C7C(C)C)C(C)C)C(C)C)O)C(C)C 13-hydroxy-10,16-bis[2,4,6-tri(propan-2-yl)phenyl]-12,14-dioxa-13λ5-phosphapentacyclo[13.8.0.02,11.03,8.018,23]tricosa-1(15),2(11),3,5,7,9,16,18,20,22-decaene 13-oxide\n",
      "1089 64934-72-1 64932-36-1 CC(C)C(C=O)Br 2-bromo-3-methylbutanal\n",
      "1090 695162-86-8 1244725-08-3 C1=CC=C(C=C1)C2=CC3=CC=CC=C3C4=C2OP(=O)(OC5=C4C6=CC=CC=C6C=C5C7=CC=CC=C7)O 13-hydroxy-10,16-diphenyl-12,14-dioxa-13λ5-phosphapentacyclo[13.8.0.02,11.03,8.018,23]tricosa-1(15),2(11),3,5,7,9,16,18,20,22-decaene 13-oxide\n",
      "1092 480-68-2 480-68-2 C1(C(=O)NC(=O)NC1=O)[N+](=O)[O-] 5-nitro-1,3-diazinane-2,4,6-trione\n",
      "1099 58432-44-3 654055-01-3 no SMILES 2-(2,4-dihydroxyphenyl)-3,5,7-trihydroxychromen-4-one;dihydrate\n",
      "1100 52345-34-3 137-88-2 CCCC1=NC=C(C(=N1)N)C[N+]2=CC=CC=C2C.Cl.[Cl-] 5-[(2-methylpyridin-1-ium-1-yl)methyl]-2-propylpyrimidin-4-amine;chloride;hydrochloride\n",
      "1102 42254-09-1 - CCOC1=CC=C(C=C1)N2C(=O)C3=C(NC2=S)NN=C3 5-(4-ethoxyphenyl)-6-sulfanylidene-1,7-dihydropyrazolo[3,4-d]pyrimidin-4-one\n",
      "1103 42238-36-8 93995-89-2 CN(C)CCNCC(=O)N1C2=CC=CC=C2SC3=CC=CC=C31 2-[2-(dimethylamino)ethylamino]-1-phenothiazin-10-ylethanone\n",
      "1105 62325-38-6 62325-30-8 C1=CC2=C(C=CC3=C2C=CC(=C3)Br)C=C1Br 2,7-dibromophenanthrene\n",
      "1107 42238-35-7 42237-85-4 C1=C(C=C(C=C1N)Br)C(=O)O 3-amino-5-bromobenzoic acid\n",
      "1108 2340-87-6 - CCOC(=O)C(C#N)C1=C(C(=C(C(=C1F)F)F)F)F ethyl 2-cyano-2-(2,3,4,5,6-pentafluorophenyl)acetate\n",
      "1109 62325-34-2 NCI60_006939 COC1=C(C=C(C=C1)C(=C(C=O)C2=CC(=C(C(=C2)OC)OC)OC)Cl)OC 3-chloro-3-(3,4-dimethoxyphenyl)-2-(3,4,5-trimethoxyphenyl)prop-2-enal\n",
      "1111 62325-51-3 62325-30-8 C1=CC2=C(C=CC3=C2C=CC(=C3)Br)C=C1Br 2,7-dibromophenanthrene\n",
      "1115 64934-72-1 64932-36-1 CC(C)C(C=O)Br 2-bromo-3-methylbutanal\n",
      "1117 55810-63-4 70737-24-5 CCN(CC)CCOCC[Si](C)(C1=CC=CC=C1)C2=CC=CC=C2 N,N-diethyl-2-[2-[methyl(diphenyl)silyl]ethoxy]ethanamine\n",
      "1123 100724-78-5 4-Methyl-4'-nitro[1,1'-iminobis(sulfonyl)bis(benzene)] CC1=CC=C(C=C1)[S](=O)(=O)N[S](=O)(=O)C2=CC=C(C=C2)[N+]([O-])=O 4-methyl-N-(4-nitrophenyl)sulfonylbenzenesulfonamide\n",
      "1124 95468-16-9 - C1=CC(=CC(=C1)S(=O)(=O)NS(=O)(=O)C2=CC=C(C=C2)Cl)[N+](=O)[O-] N-(4-chlorophenyl)sulfonyl-3-nitrobenzenesulfonamide\n",
      "1128 7664-93-9 7664-93-9 OS(=O)(=O)O sulfuric acid\n",
      "1129 64646-01-1 64640-13-7 C1=CC=C(C=C1)C2=CN=C(O2)CCl 2-(chloromethyl)-5-phenyl-1,3-oxazole\n",
      "1133 454-50-2 454-50-2 C(#N)C(C#N)C#N methanetricarbonitrile\n",
      "1134 174788-93-3 - CC1=CC=C(C=C1)[S](=O)(=O)N[S](=O)(=N[S](=O)(=O)C(F)(F)F)C2=CC=C(Cl)C=C2 -\n",
      "1135 71571-37-4 71574-33-9 CC1=C(SC(=N1)N)C.Cl 4,5-dimethyl-1,3-thiazol-2-amine;hydrochloride\n",
      "1136 27062-39-1 - C(#N)C(=C(C#N)O)C#N 2-hydroxyethene-1,1,2-tricarbonitrile\n",
      "1138 174788-95-5 - FC(F)(F)[S](=O)(=O)N=[S](=O)(N[S](=O)(=O)C1=CC=C(Cl)C=C1)C2=CC=C(Cl)C=C2 -\n",
      "1139 89-02-1 89-02-1 C1=CC(=C(C=C1[N+](=O)[O-])[N+](=O)[O-])S(=O)(=O)O 2,4-dinitrobenzenesulfonic acid\n",
      "1140 215395-09-8 40164-67-8 CCC1=C(C(=CC=C1)CC)N(CNC(=O)C)C(=O)CCl N-(acetamidomethyl)-2-chloro-N-(2,6-diethylphenyl)acetamide\n",
      "1143 120-72-9 120-72-9 C1=CC=C2C(=C1)C=CN2 1H-indole\n",
      "1144 108-95-2 108-95-2 C1=CC=C(C=C1)O phenol\n",
      "1148 98-64-6 98-64-6 C1=CC(=CC=C1S(=O)(=O)N)Cl 4-chlorobenzenesulfonamide\n",
      "1150 6325-93-5 6325-93-5 C1=CC(=CC=C1[N+](=O)[O-])S(=O)(=O)N 4-nitrobenzenesulfonamide\n",
      "1154 87-86-5 87-86-5 C1(=C(C(=C(C(=C1Cl)Cl)Cl)Cl)Cl)O 2,3,4,5,6-pentachlorophenol\n",
      "1155 573-56-8 573-56-8 C1=CC(=C(C(=C1)[N+](=O)[O-])O)[N+](=O)[O-] 2,6-dinitrophenol\n",
      "1160 131-73-7 131-73-7 C1=C(C=C(C(=C1[N+](=O)[O-])NC2=C(C=C(C=C2[N+](=O)[O-])[N+](=O)[O-])[N+](=O)[O-])[N+](=O)[O-])[N+](=O)[O-] 2,4,6-trinitro-N-(2,4,6-trinitrophenyl)aniline\n"
     ]
    }
   ],
   "source": [
    "#checking all smiles without cas\n",
    "for i in range(0,1163):\n",
    "    if smiles[i] == 'no matches':\n",
    "        pass\n",
    "    if smiles[i] == 'no SMILES':\n",
    "        iupaclist[i] = '-'\n",
    "        caslist[i] = '-'\n",
    "    elif caslist[i] == '-':\n",
    "        iupac, cas = SMILE_checker(smiles[i])\n",
    "        iupaclist[i] = iupac\n",
    "        caslist[i] = cas\n",
    "        print(i, molist[i], caslist[i], smiles[i], iupaclist[i])\n",
    "    else:\n",
    "        pass"
   ]
  },
  {
   "cell_type": "code",
   "execution_count": 375,
   "metadata": {
    "collapsed": true,
    "jupyter": {
     "outputs_hidden": true
    },
    "tags": []
   },
   "outputs": [
    {
     "name": "stdout",
     "output_type": "stream",
     "text": [
      "579 Acetic acid CC(=O)O\n",
      "584 2-nitroPhenol C1=CC=C(C(=C1)[N+](=O)[O-])O\n",
      "587 Retinoic acid CC1=C(C(CCC1)(C)C)C=CC(=CC=CC(=CC(=O)O)C)C\n",
      "592 Benzoic acid C1=CC=C(C=C1)C(=O)O\n",
      "602 2,4,6-tribromoPhenol C1=C(C=C(C(=C1Br)O)Br)Br\n",
      "631 2,4-dinitroPhenol C1=CC(=C(C=C1[N+](=O)[O-])[N+](=O)[O-])O\n",
      "642 Saccharin C1=CC=C2C(=C1)C(=O)NS2(=O)=O\n",
      "673 Picric acid C1=C(C=C(C(=C1[N+](=O)[O-])O)[N+](=O)[O-])[N+](=O)[O-]\n",
      "705 H2SO4 OS(=O)(=O)O\n",
      "758 101-20-2 C1=CC(=CC=C1NC(=O)NC2=CC(=C(C=C2)Cl)Cl)Cl\n",
      "791 80588-36-9 no matches\n",
      "815 88-75-5 C1=CC=C(C(=C1)[N+](=O)[O-])O\n",
      "915 741243-29-8 no matches\n",
      "948 1486486-92-3 no matches\n",
      "1001 65-85-0 C1=CC=C(C=C1)C(=O)O\n",
      "1008 87-86-5 no SMILES\n",
      "1011 534-52-1 error in recall\n",
      "1013 51-28-5 C1=CC(=C(C=C1[N+](=O)[O-])[N+](=O)[O-])O\n",
      "1015 81-07-2 C1=CC=C2C(=C1)C(=O)NS2(=O)=O\n",
      "1016 946-31-6 C1=C(C=C(C(=C1[N+](=O)[O-])O)Cl)[N+](=O)[O-]\n",
      "1045 80588-36-9 no matches\n",
      "1128 7664-93-9 OS(=O)(=O)O\n"
     ]
    }
   ],
   "source": [
    "for i in range(len(smiles)):\n",
    "    if smiles[i] == \"error in recall\":\n",
    "        smiles[i] = SMILE_scraper(molist[i])\n",
    "        print(i, molist[i], smiles[i])"
   ]
  },
  {
   "cell_type": "code",
   "execution_count": 378,
   "metadata": {},
   "outputs": [],
   "source": [
    "data['solute SMILES'] = smiles\n",
    "data['computed CAS'] = caslist\n",
    "data['computed IUPAC'] = iupaclist\n",
    "data.to_csv('data_csvs/pka_data_updated2.csv')"
   ]
  },
  {
   "cell_type": "code",
   "execution_count": 380,
   "metadata": {},
   "outputs": [
    {
     "data": {
      "text/plain": [
       "'Oc1ccccc1'"
      ]
     },
     "execution_count": 380,
     "metadata": {},
     "output_type": "execute_result"
    }
   ],
   "source": [
    "from rdkit import Chem\n",
    "\n",
    "Chem.MolToSmiles(Chem.MolFromSmiles(\"Oc1ccccc1\"),True)"
   ]
  },
  {
   "cell_type": "code",
   "execution_count": 382,
   "metadata": {},
   "outputs": [
    {
     "ename": "ModuleNotFoundError",
     "evalue": "No module named 'oechem'",
     "output_type": "error",
     "traceback": [
      "\u001b[0;31m---------------------------------------------------------------------------\u001b[0m",
      "\u001b[0;31mModuleNotFoundError\u001b[0m                       Traceback (most recent call last)",
      "\u001b[0;32m<ipython-input-382-983b8ea0af86>\u001b[0m in \u001b[0;36m<module>\u001b[0;34m\u001b[0m\n\u001b[0;32m----> 1\u001b[0;31m \u001b[0;32mfrom\u001b[0m \u001b[0moechem\u001b[0m \u001b[0;32mimport\u001b[0m \u001b[0;34m*\u001b[0m\u001b[0;34m\u001b[0m\u001b[0;34m\u001b[0m\u001b[0m\n\u001b[0m\u001b[1;32m      2\u001b[0m \u001b[0;34m\u001b[0m\u001b[0m\n\u001b[1;32m      3\u001b[0m \u001b[0;32mdef\u001b[0m \u001b[0mcanonicalize\u001b[0m\u001b[0;34m(\u001b[0m\u001b[0msmiles\u001b[0m\u001b[0;34m)\u001b[0m\u001b[0;34m:\u001b[0m\u001b[0;34m\u001b[0m\u001b[0;34m\u001b[0m\u001b[0m\n\u001b[1;32m      4\u001b[0m     \u001b[0mmol\u001b[0m \u001b[0;34m=\u001b[0m \u001b[0mOEGraphMol\u001b[0m\u001b[0;34m(\u001b[0m\u001b[0;34m)\u001b[0m\u001b[0;34m\u001b[0m\u001b[0;34m\u001b[0m\u001b[0m\n\u001b[1;32m      5\u001b[0m     \u001b[0mOEParseSmiles\u001b[0m\u001b[0;34m(\u001b[0m\u001b[0mmol\u001b[0m\u001b[0;34m,\u001b[0m \u001b[0msmiles\u001b[0m\u001b[0;34m)\u001b[0m\u001b[0;34m\u001b[0m\u001b[0;34m\u001b[0m\u001b[0m\n",
      "\u001b[0;31mModuleNotFoundError\u001b[0m: No module named 'oechem'"
     ]
    }
   ],
   "source": [
    "from oechem import *\n",
    "\n",
    "def canonicalize(smiles):\n",
    "    mol = OEGraphMol()\n",
    "    OEParseSmiles(mol, smiles)\n",
    "    return OECreateCanSmiString(mol)\n",
    "\n",
    "assert (canonicalize(\"CN2C(=O)N(C)C(=O)C1=C2N=CN1C\") ==\n",
    "        canonicalize(\"CN1C=NC2=C1C(=O)N(C)C(=O)N2C\"))"
   ]
  },
  {
   "cell_type": "code",
   "execution_count": 8,
   "metadata": {},
   "outputs": [],
   "source": [
    "##scraping + checking SMILES\n",
    "def SMILE_scrape_checker(mol):\n",
    "    try:\n",
    "        #search query\n",
    "        browser.get(\"https://pubchem.ncbi.nlm.nih.gov/#query=\"+mol)\n",
    "        time.sleep(5)\n",
    "        IUPAC = '-'\n",
    "        CAS = '-'\n",
    "        SMILES = '-'\n",
    "        \n",
    "        #press first entry\n",
    "        try:\n",
    "            try:\n",
    "                first_result_button = browser.find_element_by_xpath(\"/html/body/div[1]/div/div/main/div[2]/div[1]/div/div[2]/div/div[1]/div[2]/div[1]/a\")\n",
    "            except:\n",
    "                try:\n",
    "                    first_result_button = browser.find_element_by_xpath(\"/html/body/div[1]/div/div/main/div[2]/div[2]/div[3]/div/div/div/div[2]/ul/li/div/div/div/div[2]/div[1]/a\")\n",
    "                except:\n",
    "                    first_result_button = browser.find_element_by_xpath(\"/html/body/div[1]/div/div/main/div[2]/div[2]/div[2]/div/div/div/div[2]/ul/li[1]/div/div/div[1]/div[2]/div[1]/a\")\n",
    "            first_result_button.click()\n",
    "        except:\n",
    "            SMILES = 'no matches'\n",
    "        time.sleep(5)\n",
    "        \n",
    "        #find SMILES string\n",
    "        try:\n",
    "            SMILES_section = browser.find_element_by_id(\"Chemical-and-Physical-Properties\")\n",
    "            actions = ActionChains(browser)\n",
    "            actions.move_to_element(SMILES_section).perform()\n",
    "        except:\n",
    "            pass\n",
    "        time.sleep(10)\n",
    "        \n",
    "        SMILES = browser.find_element_by_xpath(\"/html/body/div[1]/div/main/div[2]/div/div/div[5]/section[2]/section[1]/section[4]/div[2]/div[1]/p\").text\n",
    "        IUPAC = browser.find_element_by_xpath(\"/html/body/div[1]/div/main/div[2]/div/div/div[5]/section[2]/section[1]/section[1]/div[2]/div[1]/p\").text\n",
    "#        SMILES = browser.find_element_by_xpath(\"/html/body/div[1]/div/main/div[2]/div/div/div[5]/section[2]/section[1]/section[4]/div[2]/div[1]/p\").text\n",
    "        CAS = browser.find_element_by_xpath(\"/html/body/div[1]/div/main/div[2]/div/div/div[5]/section[2]/section[3]/section[1]/div[2]/div[1]/p\").text\n",
    "        return SMILES, IUPAC, CAS\n",
    "    except:\n",
    "        return SMILES, IUPAC, CAS"
   ]
  },
  {
   "cell_type": "code",
   "execution_count": 384,
   "metadata": {},
   "outputs": [],
   "source": [
    "data = pd.read_csv('data_csvs/pka_data_updated2.csv')\n",
    "molist = data['solute'].tolist()\n",
    "smiles = data['solute SMILES'].tolist()\n",
    "caslist = data['computed CAS'].tolist()\n",
    "iupaclist = data['computed IUPAC'].tolist()"
   ]
  },
  {
   "cell_type": "code",
   "execution_count": 393,
   "metadata": {
    "tags": []
   },
   "outputs": [
    {
     "name": "stdout",
     "output_type": "stream",
     "text": [
      "1158 CN methanamine 74-89-5\n",
      "1159 CCN ethanamine 75-04-7\n",
      "1160 CCCN propan-1-amine 107-10-8\n",
      "1161 CC(C)N propan-2-amine 75-31-0\n",
      "1162 CCCCN butan-1-amine 109-73-9\n",
      "1165 C1=CC=C(C=C1)N aniline 62-53-3\n",
      "1166 N azane 7664-41-7\n",
      "1167 CNC N-methylmethanamine 124-40-3\n",
      "1174 CN(C)C N,N-dimethylmethanamine 75-50-3\n",
      "1175 CCN(CC)CC N,N-diethylethanamine 121-44-8\n",
      "1180 CN(C)C1=CC=CC=C1 N,N-dimethylaniline 121-69-7\n",
      "1181 CCN(C)C N,N-dimethylethanamine 598-56-1\n",
      "1184 C(CN)N ethane-1,2-diamine 107-15-3\n",
      "1186 C(CCN)CN butane-1,4-diamine 110-60-1\n",
      "1191 C1=CC2=C(C(=C1)N)C(=CC=C2)N naphthalene-1,8-diamine 479-27-6\n",
      "1194 C1CCNCC1 piperidine 110-89-4\n",
      "1195 CN1CCCCC1 1-methylpiperidine 626-67-5\n",
      "1196 C1CNCCN1 piperazine 110-85-0\n",
      "1198 C1CCNC1 pyrrolidine 123-75-1\n",
      "1200 C1CN2CCN1CC2 1,4-diazabicyclo[2.2.2]octane 280-57-9\n",
      "1201 C1=CC=NC=C1 pyridine 110-86-1\n",
      "1202 C1=CC=NC(=C1)C2=CC=CC=N2 2-pyridin-2-ylpyridine 366-18-7\n",
      "1203 C1=CC=C2C(=C1)C=CC=N2 quinoline 91-22-5\n",
      "1205 C1=CC=C2C=NC=CC2=C1 isoquinoline 119-65-3\n",
      "1207 C1=CC2=C(C3=C(C=CC=N3)C=C2)N=C1 1,10-phenanthroline 66-71-7\n",
      "1208 C1=CN=CN1 1H-imidazole 288-32-4\n",
      "1209 C1=CC=C2C(=C1)NC=N2 1H-benzimidazole 51-17-2\n",
      "1211 C1=CC2=NNN=C2C=C1 2H-benzotriazole 95-14-7\n",
      "1222 C1=CC=C(C=C1)NC(=NC2=CC=CC=C2)N 1,2-diphenylguanidine 102-06-7\n"
     ]
    }
   ],
   "source": [
    "#checking all new nan values\n",
    "browser = webdriver.Chrome()\n",
    "browser.get(\"https://pubchem.ncbi.nlm.nih.gov\")\n",
    "\n",
    "for i in range(1158,1229):\n",
    "    if smiles[i] == '-':\n",
    "        smiles[i], iupaclist[i], caslist[i] = SMILE_scrape_checker(molist[i])\n",
    "        print(i, smiles[i], iupaclist[i], caslist[i])"
   ]
  },
  {
   "cell_type": "code",
   "execution_count": 394,
   "metadata": {},
   "outputs": [],
   "source": [
    "data['solute SMILES'] = smiles\n",
    "data['computed CAS'] = caslist\n",
    "data['computed IUPAC'] = iupaclist\n",
    "data.to_csv('data_csvs/pka_data_updated2.csv')"
   ]
  },
  {
   "cell_type": "code",
   "execution_count": 2,
   "metadata": {},
   "outputs": [],
   "source": [
    "##scraping iupac and canonical smiles\n",
    "def SMILE_iupac_scraper(mol):\n",
    "    try:\n",
    "        #search query\n",
    "        browser.get(\"https://pubchem.ncbi.nlm.nih.gov/#query=\"+mol)\n",
    "        time.sleep(5)\n",
    "        IUPAC = '-'\n",
    "        SMILES = '-'\n",
    "        \n",
    "        #press first entry\n",
    "        try:\n",
    "            try:\n",
    "                first_result_button = browser.find_element_by_xpath(\"/html/body/div[1]/div/div/main/div[2]/div[1]/div/div[2]/div/div[1]/div[2]/div[1]/a\")\n",
    "            except:\n",
    "                try:\n",
    "                    first_result_button = browser.find_element_by_xpath(\"/html/body/div[1]/div/div/main/div[2]/div[2]/div[3]/div/div/div/div[2]/ul/li/div/div/div/div[2]/div[1]/a\")\n",
    "                except:\n",
    "                    first_result_button = browser.find_element_by_xpath(\"/html/body/div[1]/div/div/main/div[2]/div[2]/div[2]/div/div/div/div[2]/ul/li[1]/div/div/div[1]/div[2]/div[1]/a\")\n",
    "            first_result_button.click()\n",
    "        except:\n",
    "            SMILES = 'no matches'\n",
    "        time.sleep(5)\n",
    "        \n",
    "        #find SMILES string\n",
    "        try:\n",
    "            SMILES_section = browser.find_element_by_id(\"Chemical-and-Physical-Properties\")\n",
    "            actions = ActionChains(browser)\n",
    "            actions.move_to_element(SMILES_section).perform()\n",
    "        except:\n",
    "            pass\n",
    "        time.sleep(10)\n",
    "        \n",
    "        SMILES = browser.find_element_by_xpath(\"/html/body/div[1]/div/main/div[2]/div/div/div[5]/section[2]/section[1]/section[4]/div[2]/div[1]/p\").text\n",
    "        IUPAC = browser.find_element_by_xpath(\"/html/body/div[1]/div/main/div[2]/div/div/div[5]/section[2]/section[1]/section[1]/div[2]/div[1]/p\").text\n",
    "        return SMILES, IUPAC\n",
    "    except:\n",
    "        return SMILES, IUPAC"
   ]
  },
  {
   "cell_type": "code",
   "execution_count": 3,
   "metadata": {},
   "outputs": [],
   "source": [
    "data = pd.read_csv('data_csvs/leito_acids_analysis.csv')\n",
    "smiles = data['smiles'].tolist()\n",
    "new_smiles = data['new smiles'].tolist()\n",
    "iupaclist = data['iupac'].tolist()"
   ]
  },
  {
   "cell_type": "code",
   "execution_count": 4,
   "metadata": {
    "collapsed": true,
    "jupyter": {
     "outputs_hidden": true
    },
    "tags": []
   },
   "outputs": [
    {
     "name": "stdout",
     "output_type": "stream",
     "text": [
      "0 C1=CC=C(C=C1)O phenol\n",
      "1 CC1=C(C(=C(C(=C1C(F)(F)F)C(F)(F)F)C(F)(F)F)C(F)(F)F)C(F)(F)F 1-methyl-2,3,4,5,6-pentakis(trifluoromethyl)benzene\n",
      "2 C1=CC=C2C(=C1)C(C3=CC=CC=C32)C4=C(C(=C(C(=C4F)F)F)F)F 9-(2,3,4,5,6-pentafluorophenyl)-9H-fluorene\n",
      "3 CC1=C(C(=C(C(=C1F)F)C(C#N)C2=CC=CC=C2)F)F 2-phenyl-2-(2,3,5,6-tetrafluoro-4-methylphenyl)acetonitrile\n",
      "4 C1=CC(=CC(=C1)O)C(F)(F)F 3-(trifluoromethyl)phenol\n",
      "5 no matches -\n",
      "6 C1=CC=C(C=C1)C(C#N)C2=C(C(=C(C(=C2F)F)F)F)F 2-(2,3,4,5,6-pentafluorophenyl)-2-phenylacetonitrile\n",
      "7 C1=CC(=CC=C1C(F)(F)F)O 4-(trifluoromethyl)phenol\n",
      "8 no matches -\n",
      "9 CC1=C(C(=C(C(=C1F)F)NC2=C(C(=C(C(=C2F)F)F)F)F)F)F 2,3,5,6-tetrafluoro-4-methyl-N-(2,3,4,5,6-pentafluorophenyl)aniline\n",
      "10 C1=CC=C(C(=C1)C(F)(F)F)O 2-(trifluoromethyl)phenol\n",
      "11 C1=CC(=C(C(=C1C(F)(F)F)C(F)(F)F)C(F)(F)F)N(C(F)(F)F)C(F)(F)F N,N,2,3,4-pentakis(trifluoromethyl)aniline\n",
      "12 C1C2=C(C3=C1C(=C(C(=C3F)F)F)F)C(=C(C(=C2F)F)F)F 1,2,3,4,5,6,7,8-octafluoro-9H-fluorene\n",
      "13 C1=CC=C2C3=C4C(C2=C1)C5=CC=CC=C5C4=CC=C3 pentacyclo[10.6.1.02,7.08,19.013,18]nonadeca-2,4,6,8(19),9,11,13,15,17-nonaene\n",
      "14 C1=C(C=C(C=C1C(F)(F)F)O)C(F)(F)F 3,5-bis(trifluoromethyl)phenol\n",
      "15 COC(=O)C1C2=CC=CC=C2C3=CC=CC=C13 methyl 9H-fluorene-9-carboxylate\n",
      "16 CC(=O)O acetic acid\n",
      "17 CCOC(=O)C(C1=C(C(=C(C(=C1F)F)F)F)F)C(=O)OCC diethyl 2-(2,3,4,5,6-pentafluorophenyl)propanedioate\n",
      "18 C1=CC=C(C(=C1)[N+](=O)[O-])O 2-nitrophenol\n",
      "19 no matches -\n",
      "20 CC1=C(C(CCC1)(C)C)C=CC(=CC=CC(=CC(=O)O)C)C (2E,4E,6E,8E)-3,7-dimethyl-9-(2,6,6-trimethylcyclohexen-1-yl)nona-2,4,6,8-tetraenoic acid\n",
      "21 C1(=C(C(=C(C(=C1F)F)F)F)F)C(C(F)(F)F)(C(F)(F)F)O 1,1,1,3,3,3-hexafluoro-2-(2,3,4,5,6-pentafluorophenyl)propan-2-ol\n",
      "22 C1(=C(C(=C(C(=C1F)F)F)F)F)C2(C(C(C(C(C2(F)F)(F)F)(F)F)(F)F)(F)F)O 2,2,3,3,4,4,5,5,6,6-decafluoro-1-(2,3,4,5,6-pentafluorophenyl)cyclohexan-1-ol\n",
      "23 no matches -\n",
      "24 C1=CC=C(C=C1)C(=O)O benzoic acid\n",
      "25 C1=CC=C2C(=C1)C(C3=CC=CC=C32)C#N 9H-fluorene-9-carbonitrile\n",
      "26 C1=C(C(=C(C(=C1F)F)C(C#N)C2=C(C(=C(C(=C2F)F)F)F)F)F)F 2-(2,3,4,5,6-pentafluorophenyl)-2-(2,3,5,6-tetrafluorophenyl)acetonitrile\n",
      "27 C(#N)C(C1=C(C(=C(C(=C1F)F)F)F)F)C2=C(C(=C(C(=C2F)F)F)F)F 2,2-bis(2,3,4,5,6-pentafluorophenyl)acetonitrile\n",
      "28 C(C(F)(F)F)(C(F)(F)F)(C(F)(F)F)O 1,1,1,3,3,3-hexafluoro-2-(trifluoromethyl)propan-2-ol\n",
      "29 C(#N)C(C1=C(C(=C(C(=C1F)F)F)F)F)C2=C(C(=C(C(=C2F)F)Cl)F)F 2-(4-chloro-2,3,5,6-tetrafluorophenyl)-2-(2,3,4,5,6-pentafluorophenyl)acetonitrile\n",
      "30 C1=C(C=C(C(=C1Br)O)Br)Br 2,4,6-tribromophenol\n",
      "31 C(#N)C(C1=C(C(=C(C(=C1F)F)F)F)F)C2=C(C(=C(C(=C2Cl)F)Cl)F)Cl 2-(2,3,4,5,6-pentafluorophenyl)-2-(2,4,6-trichloro-3,5-difluorophenyl)acetonitrile\n",
      "32 C1=C(C(=C(C(=C1F)F)O)F)F 2,3,5,6-tetrafluorophenol\n",
      "33 C1(=C(C(=C(C(=C1F)F)F)F)F)O 2,3,4,5,6-pentafluorophenol\n",
      "34 C(#N)C(C1=C(C2=C(C(=C1F)F)C(=C(C(=C2F)F)F)F)F)C3=C(C(=C(C(=C3F)F)F)F)F 2-(1,3,4,5,6,7,8-heptafluoronaphthalen-2-yl)-2-(2,3,4,5,6-pentafluorophenyl)acetonitrile\n",
      "35 C12=C(C(=C(C(=C1O)F)F)F)C(=C(C(=C2F)F)F)F 2,3,4,5,6,7,8-heptafluoronaphthalen-1-ol\n",
      "36 no matches -\n",
      "37 no matches -\n",
      "38 C1(C2=C(C3=C1C(=C(C(=C3F)F)F)F)C(=C(C(=C2F)F)F)F)C4=C(C(=C(C(=C4F)F)F)F)F 1,2,3,4,5,6,7,8-octafluoro-9-(2,3,4,5,6-pentafluorophenyl)-9H-fluorene\n",
      "39 C12=C(C(=C(C(=C1F)O)F)F)C(=C(C(=C2F)F)F)F 1,3,4,5,6,7,8-heptafluoronaphthalen-2-ol\n",
      "40 C12(C(C3(C(C(C1(F)F)(C(C(C2(F)F)(C3(F)F)F)(F)F)F)(F)F)F)(F)F)O 2,2,3,4,4,5,6,6,7,8,8,9,9,10,10-pentadecafluoroadamantan-1-ol\n",
      "41 no matches -\n",
      "42 C1(=C(C(=C(C(=C1F)F)O)F)F)C2=C(C(=C(C(=C2F)F)F)F)F 2,3,5,6-tetrafluoro-4-(2,3,4,5,6-pentafluorophenyl)phenol\n",
      "43 CCOC(=O)C(C#N)C1=C(C(=CC(=C1F)F)F)F ethyl 2-cyano-2-(2,3,5,6-tetrafluorophenyl)acetate\n",
      "44 C1(=C(C(=C(C(=C1Cl)Cl)Cl)Cl)Cl)O 2,3,4,5,6-pentachlorophenol\n",
      "45 C1(=C(C(=C(C(=C1Br)Br)Br)Br)Br)O 2,3,4,5,6-pentabromophenol\n",
      "46 CCOC(=O)C(C#N)C1=C(C(=C(C(=C1F)F)F)F)F ethyl 2-cyano-2-(2,3,4,5,6-pentafluorophenyl)acetate\n",
      "47 CC1=CC=C(C=C1)C(C#N)C#N 2-(4-methylphenyl)propanedinitrile\n",
      "48 CCOC(=O)C(C#N)C1=C(C2=C(C(=C1F)F)C(=C(C(=C2F)F)F)F)F ethyl 2-cyano-2-(1,3,4,5,6,7,8-heptafluoronaphthalen-2-yl)acetate\n",
      "49 CCOC(=O)C(C#N)C1=C(C(=C(C(=C1F)F)Cl)F)F ethyl 2-(4-chloro-2,3,5,6-tetrafluorophenyl)-2-cyanoacetate\n",
      "50 C1=CC(=C(C=C1[N+](=O)[O-])[N+](=O)[O-])O 2,4-dinitrophenol\n",
      "51 C1(=C(C(=C(C(=C1F)F)O)F)F)C(F)(F)F 2,3,5,6-tetrafluoro-4-(trifluoromethyl)phenol\n",
      "52 C(#N)C(C1=C(C(=C(C(=C1F)F)F)F)F)C2=C(C(=NC(=C2F)F)F)F 2-(2,3,4,5,6-pentafluorophenyl)-2-(2,3,5,6-tetrafluoropyridin-4-yl)acetonitrile\n",
      "53 C(#N)C(C1=C(C(=C(C(=C1F)F)C(F)(F)F)F)F)C2=C(C(=C(C(=C2F)F)C(F)(F)F)F)F 2,2-bis[2,3,5,6-tetrafluoro-4-(trifluoromethyl)phenyl]acetonitrile\n",
      "54 CCOC(=O)C(C#N)C1=C(C(=C(C(=C1F)F)C(F)(F)F)F)F ethyl 2-cyano-2-[2,3,5,6-tetrafluoro-4-(trifluoromethyl)phenyl]acetate\n",
      "55 C(#N)C(C1=C(C2=C(C(=C1F)F)C(=C(C(=C2F)F)F)F)F)C3=C(C(=NC(=C3F)F)F)F 2-(1,3,4,5,6,7,8-heptafluoronaphthalen-2-yl)-2-(2,3,5,6-tetrafluoropyridin-4-yl)acetonitrile\n",
      "56 C1(=C(NC(=C(C1=O)F)F)F)F 2,3,5,6-tetrafluoro-1H-pyridin-4-one\n",
      "57 CCOC(=O)C(C#N)C1=C(C(=NC(=C1F)F)F)F ethyl 2-cyano-2-(2,3,5,6-tetrafluoropyridin-4-yl)acetate\n",
      "58 C1=CC(=CC(=C1)C(F)(F)F)C(C#N)C#N 2-[3-(trifluoromethyl)phenyl]propanedinitrile\n",
      "59 C1=CC=C2C(=C1)C(=O)NS2(=O)=O 1,1-dioxo-1,2-benzothiazol-3-one\n",
      "60 no matches -\n",
      "61 no matches -\n",
      "62 CC1=C(C(=C(C(=C1F)F)C(C#N)C#N)F)F 2-(2,3,5,6-tetrafluoro-4-methylphenyl)propanedinitrile\n",
      "63 CC(C)C1=CC(=C(C(=C1)C(C)C)C2=CC3=CC=CC=C3C4=C2OP(=O)(OC5=C4C6=CC=CC=C6C=C5C7=C(C=C(C=C7C(C)C)C(C)C)C(C)C)O)C(C)C 13-hydroxy-10,16-bis[2,4,6-tri(propan-2-yl)phenyl]-12,14-dioxa-13λ5-phosphapentacyclo[13.8.0.02,11.03,8.018,23]tricosa-1(15),2(11),3,5,7,9,16,18,20,22-decaene 13-oxide\n",
      "64 no matches -\n",
      "65 no matches -\n",
      "66 no matches -\n",
      "67 C(#N)C(C#N)C1=C(C(=C(C(=C1F)F)F)F)F 2-(2,3,4,5,6-pentafluorophenyl)propanedinitrile\n",
      "68 C1=C(C(=C(C(=C1F)F)C(C#N)C#N)F)F 2-(2,3,5,6-tetrafluorophenyl)propanedinitrile\n",
      "69 C1=CC=C(C=C1)C2=CC3=CC=CC=C3C4=C2OP(=O)(OC5=C4C6=CC=CC=C6C=C5C7=CC=CC=C7)O 13-hydroxy-10,16-diphenyl-12,14-dioxa-13λ5-phosphapentacyclo[13.8.0.02,11.03,8.018,23]tricosa-1(15),2(11),3,5,7,9,16,18,20,22-decaene 13-oxide\n",
      "70 no matches -\n",
      "71 CC1=CC=C(C=C1)S(=O)(=O)NS(=O)(=O)C2=CC=C(C=C2)C 4-methyl-N-(4-methylphenyl)sulfonylbenzenesulfonamide\n",
      "72 C1=CC(=CC=C1C(C#N)C#N)[N+](=O)[O-] 2-(4-nitrophenyl)propanedinitrile\n",
      "73 COC1=CC=C(C=C1)C(=O)NS(=O)(=O)C(F)(F)F 4-methoxy-N-(trifluoromethylsulfonyl)benzamide\n",
      "74 CC1=CC=C(C=C1)C(=O)NS(=O)(=O)C(F)(F)F 4-methyl-N-(trifluoromethylsulfonyl)benzamide\n",
      "75 C1=CC=C(C=C1)S(=O)(=O)NS(=O)(=O)C2=CC=CC=C2 N-(benzenesulfonyl)benzenesulfonamide\n",
      "76 CC1=CC=C(C=C1)S(=O)(=O)NS(=O)(=O)C2=CC=C(C=C2)Cl N-(4-chlorophenyl)sulfonyl-4-methylbenzenesulfonamide\n",
      "77 C1=CC=C(C=C1)C(=O)NS(=O)(=O)C(F)(F)F N-(trifluoromethylsulfonyl)benzamide\n",
      "78 C1=C(C=C(C(=C1[N+](=O)[O-])O)[N+](=O)[O-])[N+](=O)[O-] 2,4,6-trinitrophenol\n",
      "79 C1=CC(=CC=C1C(=O)NS(=O)(=O)C(F)(F)F)F 4-fluoro-N-(trifluoromethylsulfonyl)benzamide\n",
      "80 C1(=C(C(=C(C(=C1C(F)(F)F)C(F)(F)F)O)C(F)(F)F)C(F)(F)F)C(F)(F)F 2,3,4,5,6-pentakis(trifluoromethyl)phenol\n",
      "81 no matches -\n",
      "82 C1=CC(=CC=C1C(=O)NS(=O)(=O)C(F)(F)F)Cl 4-chloro-N-(trifluoromethylsulfonyl)benzamide\n",
      "83 [Cl-] chloride\n",
      "84 C1=CC(=CC=C1S(=O)(=O)NS(=O)(=O)C2=CC=C(C=C2)Cl)Cl 4-chloro-N-(4-chlorophenyl)sulfonylbenzenesulfonamide\n",
      "85 C(#N)C(C#N)C1=C(C(=C(C(=C1F)F)C(F)(F)F)F)F 2-[2,3,5,6-tetrafluoro-4-(trifluoromethyl)phenyl]propanedinitrile\n",
      "86 C1(=C(C(=C(C(=C1C(F)(F)F)C(F)(F)F)S)C(F)(F)F)C(F)(F)F)C(F)(F)F 2,3,4,5,6-pentakis(trifluoromethyl)benzenethiol\n",
      "87 CC1=CC=C(C=C1)S(=O)(=O)NS(=O)(=O)C2=CC=C(C=C2)[N+](=O)[O-] 4-methyl-N-(4-nitrophenyl)sulfonylbenzenesulfonamide\n",
      "88 CC1=CC=C(C=C1)S(=O)(=O)NS(=O)(=O)C2=CC(=C(C=C2)Cl)[N+](=O)[O-] 4-chloro-N-(4-methylphenyl)sulfonyl-3-nitrobenzenesulfonamide\n",
      "89 C1=CC(=CC=C1C(=O)NS(=O)(=O)C(F)(F)F)[N+](=O)[O-] 4-nitro-N-(trifluoromethylsulfonyl)benzamide\n",
      "90 C1=CC(=CC=C1[N+](=O)[O-])S(=O)(=O)NS(=O)(=O)C2=CC=C(C=C2)Cl N-(4-chlorophenyl)sulfonyl-4-nitrobenzenesulfonamide\n",
      "91 C(#N)C(C#N)C1=C(C(=C(C(=C1C(F)(F)F)C(F)(F)F)C(F)(F)F)C(F)(F)F)C(F)(F)F 2-[2,3,4,5,6-pentakis(trifluoromethyl)phenyl]propanedinitrile\n",
      "92 no matches -\n",
      "93 CC1=CC=C(C=C1)S(=O)(=O)O 4-methylbenzenesulfonic acid\n",
      "94 C1=CC(=CC=C1[N+](=O)[O-])S(=O)(=O)NS(=O)(=O)C2=CC=C(C=C2)[N+](=O)[O-] 4-nitro-N-(4-nitrophenyl)sulfonylbenzenesulfonamide\n",
      "95 no matches -\n",
      "96 C1=CC(=CC(=C1)S(=O)(=O)NS(=O)(=O)C2=CC=CC(=C2)[N+](=O)[O-])[N+](=O)[O-] 3-nitro-N-(3-nitrophenyl)sulfonylbenzenesulfonamide\n",
      "97 no matches -\n",
      "98 C1=CC=C2C(=C1)C=CC=C2S(=O)(=O)O naphthalene-1-sulfonic acid\n",
      "99 no matches -\n",
      "100 C1=CC=C(C=C1)C(S(=O)(=O)C(F)(F)F)S(=O)(=O)C(F)(F)F bis(trifluoromethylsulfonyl)methylbenzene\n",
      "101 no matches -\n",
      "102 no matches -\n",
      "103 C1=CC(=CC=C1S(=O)(=O)O)Cl 4-chlorobenzenesulfonic acid\n",
      "104 no matches -\n",
      "105 COC1=CC=C(C=C1)C2=CC3CCCCC3C4=C2OP(=O)(OC5=C(C=C6CCCCC6=C45)C7=CC=C(C=C7)OC)NS(=O)(=O)C(F)(F)F N-[10,16-bis(4-methoxyphenyl)-13-oxo-12,14-dioxa-13λ5-phosphapentacyclo[13.8.0.02,11.03,8.018,23]tricosa-1(15),2,8,10,16-pentaen-13-yl]-1,1,1-trifluoromethanesulfonamide\n",
      "106 no matches -\n",
      "107 no matches -\n",
      "108 no matches -\n",
      "109 no matches -\n",
      "110 C1=CC(=CC(=C1)S(=O)(=O)O)[N+](=O)[O-] 3-nitrobenzenesulfonic acid\n",
      "111 no matches -\n",
      "112 no matches -\n",
      "113 no matches -\n",
      "114 no matches -\n",
      "115 C1=CC(=CC=C1[N+](=O)[O-])S(=O)(=O)O 4-nitrobenzenesulfonic acid\n",
      "116 no matches -\n",
      "117 no matches -\n",
      "118 no matches -\n",
      "119 no matches -\n",
      "120 no matches -\n",
      "121 no matches -\n",
      "122 CC1=CC=C(C=C1)S(=O)(=O)NS(=O)(=O)C(F)(F)F 4-methyl-N-(trifluoromethylsulfonyl)benzenesulfonamide\n",
      "123 no matches -\n",
      "124 C1=CC=C(C=C1)S(=O)(=O)NS(=O)(=O)C(F)(F)F N-(trifluoromethylsulfonyl)benzenesulfonamide\n",
      "125 [Br-] bromide\n",
      "126 no matches -\n",
      "127 C1=C(C=C(C(=C1S(=O)(=O)F)O)S(=O)(=O)F)S(=O)(=O)F 2-hydroxybenzene-1,3,5-trisulfonyl fluoride\n",
      "128 no matches -\n",
      "129 C1=CC=C2C(=C1)C=C(C3=C2C4=C(C(=CC5=CC=CC=C54)C6=CC(=CC(=C6)C(F)(F)F)C(F)(F)F)OS(=O)(=O)NS(=O)(=O)O3)C7=CC(=CC(=C7)C(F)(F)F)C(F)(F)F 10,18-bis[3,5-bis(trifluoromethyl)phenyl]-12,16-dioxa-13λ6,15λ6-dithia-14-azapentacyclo[15.8.0.02,11.03,8.020,25]pentacosa-1(17),2(11),3,5,7,9,18,20,22,24-decaene 13,13,15,15-tetraoxide\n",
      "130 C1(=C(C(=C(C(=C1F)F)S(=O)(=O)NS(=O)(=O)C2=C(C(=C(C(=C2F)F)F)F)F)F)F)F 2,3,4,5,6-pentafluoro-N-(2,3,4,5,6-pentafluorophenyl)sulfonylbenzenesulfonamide\n",
      "131 C1=CC(=CC=C1S(=O)(=O)NS(=O)(=O)C(F)(F)F)Cl 4-chloro-N-(trifluoromethylsulfonyl)benzenesulfonamide\n",
      "132 no matches -\n",
      "133 C1=CC(=CC=C1C(=NS(=O)(=O)C(F)(F)F)NS(=O)(=O)C(F)(F)F)[N+](=O)[O-] 4-nitro-N,N'-bis(trifluoromethylsulfonyl)benzenecarboximidamide\n",
      "134 C1=C(C=C(C(=C1S(=O)(=O)C(F)(F)F)O)S(=O)(=O)C(F)(F)F)S(=O)(=O)C(F)(F)F 2,4,6-tris(trifluoromethylsulfonyl)phenol\n",
      "135 C(#N)C(=C(C#N)O)C#N 2-hydroxyethene-1,1,2-tricarbonitrile\n",
      "136 C1=CC(=CC=C1[N+](=O)[O-])S(=O)(=O)NS(=O)(=O)C(F)(F)F 4-nitro-N-(trifluoromethylsulfonyl)benzenesulfonamide\n",
      "137 no matches -\n",
      "138 C1=CC(=C(C=C1[N+](=O)[O-])[N+](=O)[O-])S(=O)(=O)O 2,4-dinitrobenzenesulfonic acid\n",
      "139 C1=C(C(=CC1C#N)C#N)C#N cyclopenta-2,5-diene-1,2,4-tricarbonitrile\n",
      "140 no matches -\n",
      "141 [I-] iodide\n",
      "142 C(#N)C(C#N)C1=C(C2=C(C(=C1F)F)C(=C(C(=C2F)F)F)F)F 2-(1,3,4,5,6,7,8-heptafluoronaphthalen-2-yl)propanedinitrile\n",
      "143 no matches -\n",
      "144 no matches -\n",
      "145 COC(=O)C1C2=CC=CC=C2C3=CC=CC=C13 methyl 9H-fluorene-9-carboxylate\n",
      "146 no matches -\n",
      "147 no matches -\n",
      "148 C1=CC=C2C(=C1)C(C3=CC=CC=C32)C#N 9H-fluorene-9-carbonitrile\n",
      "149 C1=C(C(=C(C(=C1F)F)C(C#N)C2=C(C(=C(C(=C2F)F)F)F)F)F)F 2-(2,3,4,5,6-pentafluorophenyl)-2-(2,3,5,6-tetrafluorophenyl)acetonitrile\n",
      "150 C(#N)C(C1=C(C2=C(C(=C1F)F)C(=C(C(=C2F)F)F)F)F)C3=C(C(=C(C(=C3F)F)F)F)F 2-(1,3,4,5,6,7,8-heptafluoronaphthalen-2-yl)-2-(2,3,4,5,6-pentafluorophenyl)acetonitrile\n",
      "151 C(#N)C(C1=C(C2=C(C(=C1F)F)C(=C(C(=C2F)F)F)F)F)C3=C(C4=C(C(=C3F)F)C(=C(C(=C4F)F)F)F)F 2,2-bis(1,3,4,5,6,7,8-heptafluoronaphthalen-2-yl)acetonitrile\n",
      "152 C1(C2=C(C3=C1C(=C(C(=C3F)F)F)F)C(=C(C(=C2F)F)F)F)C4=C(C(=C(C(=C4F)F)F)F)F 1,2,3,4,5,6,7,8-octafluoro-9-(2,3,4,5,6-pentafluorophenyl)-9H-fluorene\n",
      "153 no matches -\n",
      "154 CCOC(=O)C(C#N)C1=C(C(=C(C(=C1F)F)F)F)F ethyl 2-cyano-2-(2,3,4,5,6-pentafluorophenyl)acetate\n",
      "155 CCOC(=O)C(C#N)C1=C(C2=C(C(=C1F)F)C(=C(C(=C2F)F)F)F)F ethyl 2-cyano-2-(1,3,4,5,6,7,8-heptafluoronaphthalen-2-yl)acetate\n",
      "156 CCOC(=O)C(C#N)C1=C(C(=C(C(=C1F)F)Cl)F)F ethyl 2-(4-chloro-2,3,5,6-tetrafluorophenyl)-2-cyanoacetate\n",
      "157 C(#N)C(C1=C(C(=C(C(=C1F)F)F)F)F)C2=C(C(=NC(=C2F)F)F)F 2-(2,3,4,5,6-pentafluorophenyl)-2-(2,3,5,6-tetrafluoropyridin-4-yl)acetonitrile\n",
      "158 CCOC(=O)C(C#N)C1=C(C(=C(C(=C1F)F)C(F)(F)F)F)F ethyl 2-cyano-2-[2,3,5,6-tetrafluoro-4-(trifluoromethyl)phenyl]acetate\n",
      "159 CCOC(=O)C(C#N)C1=C(C(=NC(=C1F)F)F)F ethyl 2-cyano-2-(2,3,5,6-tetrafluoropyridin-4-yl)acetate\n",
      "160 C1=CC(=CC(=C1)C(F)(F)F)C(C#N)C#N 2-[3-(trifluoromethyl)phenyl]propanedinitrile\n",
      "161 no matches -\n",
      "162 C1=C(C(=C(C(=C1F)F)C(C#N)C#N)F)F 2-(2,3,5,6-tetrafluorophenyl)propanedinitrile\n",
      "163 C1=C(C=C(C(=C1[N+](=O)[O-])O)[N+](=O)[O-])[N+](=O)[O-] 2,4,6-trinitrophenol\n",
      "164 no matches -\n",
      "165 [Cl-] chloride\n",
      "166 C(#N)C(C#N)C1=C(C(=C(C(=C1F)F)C(F)(F)F)F)F 2-[2,3,5,6-tetrafluoro-4-(trifluoromethyl)phenyl]propanedinitrile\n",
      "167 CC1=CC=C(C=C1)S(=O)(=O)NS(=O)(=O)C2=CC=C(C=C2)[N+](=O)[O-] 4-methyl-N-(4-nitrophenyl)sulfonylbenzenesulfonamide\n",
      "168 C1=CC(=CC=C1[N+](=O)[O-])S(=O)(=O)NS(=O)(=O)C2=CC=C(C=C2)Cl N-(4-chlorophenyl)sulfonyl-4-nitrobenzenesulfonamide\n",
      "169 C(#N)C(C#N)C1=C(C(=C(C(=C1C(F)(F)F)C(F)(F)F)C(F)(F)F)C(F)(F)F)C(F)(F)F 2-[2,3,4,5,6-pentakis(trifluoromethyl)phenyl]propanedinitrile\n",
      "170 C1=CC(=CC=C1[N+](=O)[O-])S(=O)(=O)NS(=O)(=O)C2=CC=C(C=C2)[N+](=O)[O-] 4-nitro-N-(4-nitrophenyl)sulfonylbenzenesulfonamide\n",
      "171 no matches -\n",
      "172 no matches -\n",
      "173 no matches -\n",
      "174 [Br-] bromide\n",
      "175 C1=C(C=C(C(=C1S(=O)(=O)F)O)S(=O)(=O)F)S(=O)(=O)F 2-hydroxybenzene-1,3,5-trisulfonyl fluoride\n",
      "176 no matches -\n",
      "177 no matches -\n",
      "178 C1=CC(=CC=C1C(=NS(=O)(=O)C(F)(F)F)NS(=O)(=O)C(F)(F)F)[N+](=O)[O-] 4-nitro-N,N'-bis(trifluoromethylsulfonyl)benzenecarboximidamide\n",
      "179 C1=C(C=C(C(=C1S(=O)(=O)C(F)(F)F)O)S(=O)(=O)C(F)(F)F)S(=O)(=O)C(F)(F)F 2,4,6-tris(trifluoromethylsulfonyl)phenol\n",
      "180 C(#N)C(=C(C#N)O)C#N 2-hydroxyethene-1,1,2-tricarbonitrile\n",
      "181 C1=CC(=CC=C1[N+](=O)[O-])S(=O)(=O)NS(=O)(=O)C(F)(F)F 4-nitro-N-(trifluoromethylsulfonyl)benzenesulfonamide\n",
      "182 no matches -\n",
      "183 C1=CC(=C(C=C1[N+](=O)[O-])[N+](=O)[O-])S(=O)(=O)O 2,4-dinitrobenzenesulfonic acid\n",
      "184 C1=C(C(=CC1C#N)C#N)C#N cyclopenta-2,5-diene-1,2,4-tricarbonitrile\n",
      "185 no matches -\n",
      "186 [I-] iodide\n",
      "187 no matches -\n",
      "188 C(#N)C(C#N)C1=C(C2=C(C(=C1F)F)C(=C(C(=C2F)F)F)F)F 2-(1,3,4,5,6,7,8-heptafluoronaphthalen-2-yl)propanedinitrile\n",
      "189 CC1=C(C=C(C(=C1Br)O)C(C)C)C2(C3=CC=CC=C3S(=O)(=O)O2)C4=C(C(=C(C(=C4)C(C)C)O)Br)C 2-bromo-4-[3-(3-bromo-4-hydroxy-2-methyl-5-propan-2-ylphenyl)-1,1-dioxo-2,1λ6-benzoxathiol-3-yl]-3-methyl-6-propan-2-ylphenol\n",
      "190 CC1=C(C(=C(C=C1C2(C3=CC=CC=C3S(=O)(=O)O2)C4=CC(=C(C(=C4C)Br)O)Br)Br)O)Br 2,6-dibromo-4-[3-(3,5-dibromo-4-hydroxy-2-methylphenyl)-1,1-dioxo-2,1λ6-benzoxathiol-3-yl]-3-methylphenol\n",
      "191 C1=C(C(=C(C(=C1[N+](=O)[O-])O)[N+](=O)[O-])O)[N+](=O)[O-] 2,4,6-trinitrobenzene-1,3-diol\n",
      "192 [N+](=O)(O)[O-] nitric acid\n",
      "193 OS(=O)(=O)O sulfuric acid\n",
      "194 no matches -\n",
      "195 C(#N)C(C#N)C#N methanetricarbonitrile\n",
      "196 C(#N)C(C#N)C(=C(C#N)C#N)N 2-aminoprop-1-ene-1,1,3,3-tetracarbonitrile\n",
      "197 C(#N)C1=C(C(=C(C(=C1C#N)C#N)O)C#N)C#N 6-hydroxybenzene-1,2,3,4,5-pentacarbonitrile\n",
      "198 CC(=C(C#N)C#N)C(C#N)C#N 2-methylprop-1-ene-1,1,3,3-tetracarbonitrile\n",
      "199 no matches -\n",
      "200 no matches -\n",
      "201 C1(=C(C(=C(C(=C1F)F)F)F)F)C(S(=O)(=O)C(F)(F)F)S(=O)(=O)C(F)(F)F 1-[bis(trifluoromethylsulfonyl)methyl]-2,3,4,5,6-pentafluorobenzene\n",
      "202 no matches -\n",
      "203 C1=CC=C(C=C1)C(=C(C#N)C#N)C(C#N)C#N 2-phenylprop-1-ene-1,1,3,3-tetracarbonitrile\n",
      "204 [H+].[B-](F)(F)(F)F hydron;tetrafluoroborate\n",
      "205 OS(=O)(=O)F sulfurofluoridic acid\n",
      "206 no matches -\n",
      "207 C(=C(C#N)C#N)C(C#N)C#N prop-1-ene-1,1,3,3-tetracarbonitrile\n",
      "208 C1=CC=C(C=C1)S(=NS(=O)(=O)C(F)(F)F)(=O)NS(=NS(=O)(=O)C(F)(F)F)(=O)C2=CC=CC=C2 1,1,1-trifluoro-N-[oxo-phenyl-[[S-phenyl-N-(trifluoromethylsulfonyl)sulfonimidoyl]amino]-λ6-sulfanylidene]methanesulfonamide\n",
      "209 C(C(F)(F)P(=O)(C(C(F)(F)F)(F)F)NP(=O)(C(C(F)(F)F)(F)F)C(C(F)(F)F)(F)F)(F)(F)F 1-[[bis(1,1,2,2,2-pentafluoroethyl)phosphorylamino]-(1,1,2,2,2-pentafluoroethyl)phosphoryl]-1,1,2,2,2-pentafluoroethane\n",
      "210 C1=C(C=C(C(=C1[N+](=O)[O-])S(=O)(=O)O)[N+](=O)[O-])[N+](=O)[O-] 2,4,6-trinitrobenzenesulfonic acid\n",
      "211 no matches -\n",
      "212 C(F)(F)(F)S(=O)(=O)O trifluoromethanesulfonic acid\n",
      "213 C(#N)C(C#N)S(=O)(=O)C(F)(F)F 2-(trifluoromethylsulfonyl)propanedinitrile\n",
      "214 C(#N)C(C#N)C(=C(C#N)C#N)Br 2-bromoprop-1-ene-1,1,3,3-tetracarbonitrile\n",
      "215 C(#N)C(=C(C#N)NC(=C(C#N)C#N)C#N)C#N 2-(1,2,2-tricyanoethenylamino)ethene-1,1,2-tricarbonitrile\n",
      "216 no matches -\n",
      "217 C(F)(F)(F)S(=O)(=O)NS(=O)(=O)C(F)(F)F 1,1,1-trifluoro-N-(trifluoromethylsulfonyl)methanesulfonamide\n",
      "218 C(#N)C(C#N)C(=C(C#N)C#N)Cl 2-chloroprop-1-ene-1,1,3,3-tetracarbonitrile\n",
      "219 C(C(F)(F)F)(C(F)(F)S(=O)(=O)NS(=O)(=O)C(C(C(F)(F)F)(F)F)(F)F)(F)F 1,1,2,2,3,3,3-heptafluoro-N-(1,1,2,2,3,3,3-heptafluoropropylsulfonyl)propane-1-sulfonamide\n",
      "220 C(C(C(F)(F)S(=O)(=O)NS(=O)(=O)C(C(C(C(F)(F)F)(F)F)(F)F)(F)F)(F)F)(C(F)(F)F)(F)F 1,1,2,2,3,3,4,4,4-nonafluoro-N-(1,1,2,2,3,3,4,4,4-nonafluorobutylsulfonyl)butane-1-sulfonamide\n",
      "221 C(C#N)C(=C(C#N)C#N)C(C#N)C#N 2-(cyanomethyl)prop-1-ene-1,1,3,3-tetracarbonitrile\n",
      "222 C(C(F)(F)S(=O)(=O)NS(=O)(=O)C(C(F)(F)F)(F)F)(F)(F)F 1,1,2,2,2-pentafluoro-N-(1,1,2,2,2-pentafluoroethylsulfonyl)ethanesulfonamide\n",
      "223 no matches -\n",
      "224 OCl(=O)(=O)=O perchloric acid\n",
      "225 C1(C(S(=O)(=O)NS(=O)(=O)C1(F)F)(F)F)(F)F 4,4,5,5,6,6-hexafluoro-1,3,2-dithiazinane 1,1,3,3-tetraoxide\n",
      "226 no matches -\n",
      "227 C(S(=O)(=O)F)(S(=O)(=O)F)S(=O)(=O)F methanetrisulfonyl fluoride\n",
      "228 no matches -\n",
      "229 C1=C(C(=C(C1C#N)C#N)C#N)C#N cyclopenta-2,4-diene-1,2,3,4-tetracarbonitrile\n",
      "230 C(#N)C(C#N)C(=C(C#N)C#N)C#N prop-1-ene-1,1,2,3,3-pentacarbonitrile\n"
     ]
    }
   ],
   "source": [
    "#checking all new nan values\n",
    "browser = webdriver.Chrome()\n",
    "browser.get(\"https://pubchem.ncbi.nlm.nih.gov\")\n",
    "\n",
    "for i in range(len(smiles)):\n",
    "    new_smiles[i], iupaclist[i] = SMILE_iupac_scraper(smiles[i])\n",
    "    print(i, new_smiles[i], iupaclist[i])"
   ]
  },
  {
   "cell_type": "code",
   "execution_count": 5,
   "metadata": {},
   "outputs": [],
   "source": [
    "data['new smiles'] = new_smiles\n",
    "data['iupac'] = iupaclist\n",
    "data.to_csv('data_csvs/leito_acids_analysis.csv')"
   ]
  },
  {
   "cell_type": "code",
   "execution_count": 6,
   "metadata": {},
   "outputs": [],
   "source": [
    "data = pd.read_csv('data_csvs/base_analysis.csv')\n",
    "smiles = data['smiles'].tolist()\n",
    "nsmiles = data['new smiles'].tolist()\n",
    "niupac = data['new iupac'].tolist()\n",
    "ncas = data['new cas'].tolist()"
   ]
  },
  {
   "cell_type": "code",
   "execution_count": 9,
   "metadata": {},
   "outputs": [
    {
     "name": "stdout",
     "output_type": "stream",
     "text": [
      "0 C[NH3+] methylazanium 17000-00-9\n",
      "1 CC[NH3+] ethylazanium 16999-99-8\n",
      "2 CCC[NH3+] propylazanium Propan-1-aminium\n",
      "3 CC(C)[NH3+] propan-2-ylazanium Isopropylaminium\n",
      "4 CCCC[NH3+] butylazanium -\n",
      "5 CC(C)C[NH3+] 2-methylpropylazanium 58471-06-0\n",
      "6 C1=CC=C(C=C1)C[NH3+] benzylazanium Benzylaminium\n",
      "7 C1=CC=C(C=C1)[NH3+] phenylazanium 65756-50-5\n",
      "8 [NH4+] azanium 14798-03-9\n",
      "9 C[NH2+]C dimethylazanium 49784-85-2\n",
      "10 CC[NH2+]CC diethylazanium Diethylammonium\n",
      "11 CCC[NH2+]CCC dipropylazanium -\n",
      "12 CCCC[NH2+]CCCC dibutylazanium -\n",
      "13 C1=CC=C(C=C1)C[NH2+]CC2=CC=CC=C2 dibenzylazanium -\n",
      "14 C1=CC=C(C=C1)[NH2+]C2=CC=CC=C2 diphenylazanium 61236-17-7\n",
      "15 C[NH2+]C1=CC=CC=C1 methyl(phenyl)azanium -\n",
      "16 C[NH+](C)C trimethylazanium Trimethylammonium\n",
      "17 CC[NH+](CC)CC triethylazanium 17440-81-2\n",
      "18 CCC[NH+](CCC)CCC tripropylazanium -\n",
      "19 CCCC[NH+](CCCC)CCCC tributylazanium -\n",
      "20 C1=CC=C(C=C1)C[NH+](CC2=CC=CC=C2)CC3=CC=CC=C3 tribenzylazanium -\n",
      "21 C1=CC=C(C=C1)[NH+](C2=CC=CC=C2)C3=CC=CC=C3 triphenylazanium -\n",
      "22 C[NH+](C)C1=CC=CC=C1 dimethyl(phenyl)azanium -\n",
      "23 CC[NH+](C)C ethyl(dimethyl)azanium -\n",
      "24 CC[NH+](C)CC diethyl(methyl)azanium -\n",
      "25 CCC[NH+](CC)CC diethyl(propyl)azanium -\n",
      "26 C(CN)[NH3+] 2-aminoethylazanium -\n",
      "27 C(C[NH3+])CN 3-aminopropylazanium 3-aminopropylazanium\n",
      "28 C(CCN)C[NH3+] 4-aminobutylazanium NCCCC[NH3+]\n",
      "29 C(CC[NH3+])CCN 5-aminopentylazanium -\n",
      "30 C[NH+](C)CCN(C)C 2-(dimethylamino)ethyl-dimethylazanium -\n",
      "31 C[NH+](C)CCCN(C)C 3-(dimethylamino)propyl-dimethylazanium -\n",
      "32 no matches - -\n",
      "33 no matches - -\n",
      "34 C[NH+](C)C1=CC=CC2=C1C(=CC=C2)N(C)C [8-(dimethylamino)naphthalen-1-yl]-dimethylazanium -\n",
      "35 [NH3+]N aminoazanium 18500-32-8\n",
      "36 C1CC[NH2+]CC1 piperidin-1-ium 17523-59-0\n",
      "37 C[NH+]1CCCCC1 1-methylpiperidin-1-ium -\n",
      "38 C1CNCC[NH2+]1 piperazin-1-ium 8057-14-5\n",
      "39 C[NH+]1CCN(CC1)C 1,4-dimethylpiperazin-1-ium -\n",
      "40 C1CC[NH2+]C1 pyrrolidin-1-ium 84316-19-8\n",
      "41 C1C[NH+]2CCC1CC2 1-azoniabicyclo[2.2.2]octane -\n",
      "42 C1CN2CC[NH+]1CC2 4-aza-1-azoniabicyclo[2.2.2]octane 49623-77-0\n",
      "43 C1=CC=[NH+]C=C1 pyridin-1-ium 16969-45-2\n",
      "44 C1=CC=[NH+]C(=C1)C2=CC=CC=N2 2-pyridin-1-ium-2-ylpyridine 2-pyridin-1-ium-2-ylpyridine\n",
      "45 C1=CC=C2C(=C1)C=CC=[NH+]2 quinolin-1-ium -\n",
      "46 no matches - -\n",
      "47 no matches - -\n",
      "48 C1=CC=C2C(=C1)C=C3C=CC=CC3=[NH+]2 acridin-10-ium -\n",
      "49 C1=CC2=C(C3=C(C=CC=N3)C=C2)[NH+]=C1 1,10-phenanthrolin-10-ium -\n",
      "50 no matches - -\n",
      "51 C1=CC=C2C(=C1)NC=[NH+]2 1H-benzimidazol-3-ium -\n",
      "52 C1=[NH+]NN=C1 2H-triazol-1-ium -\n",
      "53 no matches - -\n",
      "54 C1=CN[NH+]=C1 1H-pyrazol-2-ium Pyrazolium\n",
      "55 no matches - -\n",
      "56 C1=CC=N[NH+]=C1 pyridazin-1-ium -\n",
      "57 C1=C[NH+]=CN=C1 pyrimidin-1-ium -\n",
      "58 C1=CN=CC=[NH+]1 pyrazin-1-ium -\n",
      "59 no matches - -\n",
      "60 no matches - -\n",
      "61 no matches - -\n",
      "62 no matches - -\n",
      "63 C[N+]1=C2NCCCN2CCC1 1-methyl-3,4,6,7,8,9-hexahydro-2H-pyrimido[1,2-a]pyrimidin-1-ium -\n",
      "64 C1=CC=C(C=C1)NC(=[NH+]C2=CC=CC=C2)N [amino(anilino)methylidene]-phenylazanium -\n",
      "65 no matches - -\n",
      "66 no matches - -\n",
      "67 no matches - -\n",
      "68 no matches - -\n",
      "69 no matches - -\n",
      "70 no matches - -\n"
     ]
    }
   ],
   "source": [
    "#checking all new nan values\n",
    "browser = webdriver.Chrome()\n",
    "browser.get(\"https://pubchem.ncbi.nlm.nih.gov\")\n",
    "\n",
    "for i in range(len(smiles)):\n",
    "    nsmiles[i], niupac[i], ncas[i] = SMILE_scrape_checker(smiles[i])\n",
    "    print(i, nsmiles[i], niupac[i], ncas[i])"
   ]
  },
  {
   "cell_type": "code",
   "execution_count": 10,
   "metadata": {},
   "outputs": [],
   "source": [
    "data['new smiles'] = nsmiles\n",
    "data['new cas'] = ncas\n",
    "data['new iupac'] = niupac\n",
    "data.to_csv('data_csvs/base_analysis.csv')"
   ]
  },
  {
   "cell_type": "code",
   "execution_count": 18,
   "metadata": {},
   "outputs": [],
   "source": [
    "### collating all the data to remove duplicates\n",
    "data = pd.read_csv('data_csvs/pka_data_updated_final.csv', engine = 'python')\n",
    "x_smiles = data['solute SMILES'].tolist()\n",
    "y_smiles = data['solvent SMILES'].tolist()\n",
    "iupac = data['computed IUPAC'].tolist()\n",
    "cas = data['computed CAS'].tolist()\n",
    "pka = data['pka'].tolist()\n",
    "ref = data['ref'].tolist()\n",
    "n = len(x_smiles)"
   ]
  },
  {
   "cell_type": "code",
   "execution_count": 30,
   "metadata": {},
   "outputs": [
    {
     "data": {
      "text/plain": [
       "1410"
      ]
     },
     "execution_count": 30,
     "metadata": {},
     "output_type": "execute_result"
    }
   ],
   "source": [
    "xy_smiles = [(x_smiles[i],y_smiles[i]) for i in range(n)]\n",
    "len(xy_smiles)"
   ]
  },
  {
   "cell_type": "code",
   "execution_count": 33,
   "metadata": {},
   "outputs": [
    {
     "data": {
      "text/plain": [
       "899"
      ]
     },
     "execution_count": 33,
     "metadata": {},
     "output_type": "execute_result"
    }
   ],
   "source": [
    "xy_singles = list(set(xy_smiles))\n",
    "len(xy_singles)"
   ]
  },
  {
   "cell_type": "code",
   "execution_count": 36,
   "metadata": {},
   "outputs": [],
   "source": [
    "solute = []\n",
    "solvent = []\n",
    "iupac2 = []\n",
    "cas2 = []\n",
    "pkalist = []\n",
    "pkaave = []\n",
    "reflist = []\n",
    "\n",
    "for xy in set(xy_smiles):\n",
    "    solute.append(xy[0])\n",
    "    solvent.append(xy[1])\n",
    "    \n",
    "    #find all instances of the solute/solvent pair\n",
    "    indices = [i for i, k in enumerate(xy_smiles) if k == xy]\n",
    "    \n",
    "    iupac2.append(iupac[indices[0]])\n",
    "    cas2.append(cas[indices[0]])\n",
    "    reflist.append([ref[i] for i in indices])\n",
    "    \n",
    "    pkas = [pka[i] for i in indices]\n",
    "    pkalist.append(pkas)\n",
    "    pkaave.append(sum(pkas)/len(pkas))"
   ]
  },
  {
   "cell_type": "code",
   "execution_count": 39,
   "metadata": {},
   "outputs": [
    {
     "data": {
      "text/html": [
       "<div>\n",
       "<style scoped>\n",
       "    .dataframe tbody tr th:only-of-type {\n",
       "        vertical-align: middle;\n",
       "    }\n",
       "\n",
       "    .dataframe tbody tr th {\n",
       "        vertical-align: top;\n",
       "    }\n",
       "\n",
       "    .dataframe thead th {\n",
       "        text-align: right;\n",
       "    }\n",
       "</style>\n",
       "<table border=\"1\" class=\"dataframe\">\n",
       "  <thead>\n",
       "    <tr style=\"text-align: right;\">\n",
       "      <th></th>\n",
       "      <th>Solute SMILES</th>\n",
       "      <th>Solvent SMILES</th>\n",
       "      <th>Solute CAS</th>\n",
       "      <th>Solute IUPAC</th>\n",
       "      <th>pKa (avg)</th>\n",
       "      <th>pKa (all)</th>\n",
       "      <th>Source (all)</th>\n",
       "    </tr>\n",
       "  </thead>\n",
       "  <tbody>\n",
       "    <tr>\n",
       "      <th>0</th>\n",
       "      <td>C1C2=C(C3=C1C(=C(C(=C3F)F)F)F)C(=C(C(=C2F)F)F)F</td>\n",
       "      <td>CS(=O)C</td>\n",
       "      <td>27053-34-5</td>\n",
       "      <td>1,2,3,4,5,6,7,8-octafluoro-9H-fluorene</td>\n",
       "      <td>10.800000</td>\n",
       "      <td>[10.8]</td>\n",
       "      <td>[Ejoc202001649-sup-00001-misc_information.pdf]</td>\n",
       "    </tr>\n",
       "    <tr>\n",
       "      <th>1</th>\n",
       "      <td>C1=CC=C2C(=C1)C(C3=CC=CC=C32)C#N</td>\n",
       "      <td>C(CCl)Cl</td>\n",
       "      <td>1529-40-4</td>\n",
       "      <td>9H-fluorene-9-carbonitrile</td>\n",
       "      <td>55.900000</td>\n",
       "      <td>[55.9, 55.9]</td>\n",
       "      <td>[Ejoc202001649-sup-00001-misc_information.pdf,...</td>\n",
       "    </tr>\n",
       "    <tr>\n",
       "      <th>2</th>\n",
       "      <td>CC[NH+](CC)CC</td>\n",
       "      <td>C1CCOC1</td>\n",
       "      <td>17440-81-2</td>\n",
       "      <td>triethylazanium</td>\n",
       "      <td>12.500000</td>\n",
       "      <td>[12.5, 12.5]</td>\n",
       "      <td>[pKa_values_of_acids_and_bases_in_MeCN_DCE_DMS...</td>\n",
       "    </tr>\n",
       "    <tr>\n",
       "      <th>3</th>\n",
       "      <td>CC1=CC=C(C=C1)C(C#N)C#N</td>\n",
       "      <td>CC#N</td>\n",
       "      <td>33534-88-2</td>\n",
       "      <td>2-(4-methylphenyl)propanedinitrile</td>\n",
       "      <td>17.583333</td>\n",
       "      <td>[17.59, 17.57, 17.59]</td>\n",
       "      <td>[MeCN_Acids_COSMO-RS_2008_Table.pdf, Ejoc20200...</td>\n",
       "    </tr>\n",
       "    <tr>\n",
       "      <th>4</th>\n",
       "      <td>C1=CC=C2C(=C1)C=CN2</td>\n",
       "      <td>CS(=O)C</td>\n",
       "      <td>120-72-9</td>\n",
       "      <td>1H-indole</td>\n",
       "      <td>20.950000</td>\n",
       "      <td>[20.95]</td>\n",
       "      <td>[Ejoc202001649-sup-00001-misc_information.pdf]</td>\n",
       "    </tr>\n",
       "  </tbody>\n",
       "</table>\n",
       "</div>"
      ],
      "text/plain": [
       "                                     Solute SMILES Solvent SMILES  Solute CAS  \\\n",
       "0  C1C2=C(C3=C1C(=C(C(=C3F)F)F)F)C(=C(C(=C2F)F)F)F        CS(=O)C  27053-34-5   \n",
       "1                 C1=CC=C2C(=C1)C(C3=CC=CC=C32)C#N       C(CCl)Cl   1529-40-4   \n",
       "2                                    CC[NH+](CC)CC        C1CCOC1  17440-81-2   \n",
       "3                          CC1=CC=C(C=C1)C(C#N)C#N           CC#N  33534-88-2   \n",
       "4                              C1=CC=C2C(=C1)C=CN2        CS(=O)C    120-72-9   \n",
       "\n",
       "                             Solute IUPAC  pKa (avg)              pKa (all)  \\\n",
       "0  1,2,3,4,5,6,7,8-octafluoro-9H-fluorene  10.800000                 [10.8]   \n",
       "1              9H-fluorene-9-carbonitrile  55.900000           [55.9, 55.9]   \n",
       "2                         triethylazanium  12.500000           [12.5, 12.5]   \n",
       "3      2-(4-methylphenyl)propanedinitrile  17.583333  [17.59, 17.57, 17.59]   \n",
       "4                               1H-indole  20.950000                [20.95]   \n",
       "\n",
       "                                        Source (all)  \n",
       "0     [Ejoc202001649-sup-00001-misc_information.pdf]  \n",
       "1  [Ejoc202001649-sup-00001-misc_information.pdf,...  \n",
       "2  [pKa_values_of_acids_and_bases_in_MeCN_DCE_DMS...  \n",
       "3  [MeCN_Acids_COSMO-RS_2008_Table.pdf, Ejoc20200...  \n",
       "4     [Ejoc202001649-sup-00001-misc_information.pdf]  "
      ]
     },
     "execution_count": 39,
     "metadata": {},
     "output_type": "execute_result"
    }
   ],
   "source": [
    "final = {'Solute SMILES':solute,\n",
    "         'Solvent SMILES':solvent,\n",
    "         'Solute CAS':cas2,\n",
    "         'Solute IUPAC':iupac2,\n",
    "         'pKa (avg)':pkaave,\n",
    "         'pKa (all)':pkalist,\n",
    "         'Source (all)':reflist}\n",
    "final_df = pd.DataFrame(final)\n",
    "final_df.head()"
   ]
  },
  {
   "cell_type": "code",
   "execution_count": 40,
   "metadata": {},
   "outputs": [],
   "source": [
    "final_df.to_csv('non_aqueous_pka_data.csv')"
   ]
  },
  {
   "cell_type": "code",
   "execution_count": 41,
   "metadata": {},
   "outputs": [
    {
     "name": "stdout",
     "output_type": "stream",
     "text": [
      "471\n"
     ]
    }
   ],
   "source": [
    "print(len(list(set(solute))))"
   ]
  },
  {
   "cell_type": "code",
   "execution_count": 42,
   "metadata": {},
   "outputs": [
    {
     "name": "stdout",
     "output_type": "stream",
     "text": [
      "8\n"
     ]
    }
   ],
   "source": [
    "print(len(list(set(solvent))))"
   ]
  },
  {
   "cell_type": "code",
   "execution_count": 2,
   "metadata": {},
   "outputs": [
    {
     "name": "stderr",
     "output_type": "stream",
     "text": [
      "RDKit WARNING: [12:33:40] Enabling RDKit 2019.09.3 jupyter extensions\n"
     ]
    }
   ],
   "source": [
    "import pandas as pd\n",
    "import rdkit.Chem as Chem"
   ]
  },
  {
   "cell_type": "code",
   "execution_count": 9,
   "metadata": {},
   "outputs": [],
   "source": [
    "### collating all the data to remove duplicates\n",
    "data = pd.read_csv('full_pka_data2.csv', engine = 'python')\n",
    "x_smiles = data['Solute SMILES'].tolist()\n",
    "y_smiles = data['Solvent SMILES'].tolist()\n",
    "iupac = data['Solute IUPAC'].tolist()\n",
    "cas = data['Solute CAS'].tolist()\n",
    "pka = data['pKa (all)'].tolist()\n",
    "ref = data['Source (all)'].tolist()\n",
    "n = len(x_smiles)"
   ]
  },
  {
   "cell_type": "code",
   "execution_count": 19,
   "metadata": {},
   "outputs": [
    {
     "name": "stdout",
     "output_type": "stream",
     "text": [
      "['[43.6]']\n"
     ]
    },
    {
     "data": {
      "text/plain": [
       "[]"
      ]
     },
     "execution_count": 19,
     "metadata": {},
     "output_type": "execute_result"
    }
   ],
   "source": [
    "txt = pka[0]\n",
    "print(txt.split())\n",
    "[int(s) for s in txt.split() if s.isdigit()]"
   ]
  },
  {
   "cell_type": "code",
   "execution_count": 20,
   "metadata": {},
   "outputs": [
    {
     "data": {
      "text/plain": [
       "['43.6']"
      ]
     },
     "execution_count": 20,
     "metadata": {},
     "output_type": "execute_result"
    }
   ],
   "source": [
    "import re\n",
    "re.findall(\"[-+]?[.]?[\\d]+(?:,\\d\\d\\d)*[\\.]?\\d*(?:[eE][-+]?\\d+)?\", pka[0])"
   ]
  },
  {
   "cell_type": "code",
   "execution_count": 10,
   "metadata": {},
   "outputs": [
    {
     "data": {
      "text/plain": [
       "3373"
      ]
     },
     "execution_count": 10,
     "metadata": {},
     "output_type": "execute_result"
    }
   ],
   "source": [
    "xy_smiles = [(x_smiles[i],y_smiles[i]) for i in range(n)]\n",
    "len(xy_smiles)"
   ]
  },
  {
   "cell_type": "code",
   "execution_count": 28,
   "metadata": {},
   "outputs": [],
   "source": [
    "solute = []\n",
    "solvent = []\n",
    "iupac2 = []\n",
    "cas2 = []\n",
    "pkalist = []\n",
    "pkaave = []\n",
    "reflist = []\n",
    "\n",
    "for xy in set(xy_smiles):\n",
    "    solute.append(xy[0])\n",
    "    solvent.append(xy[1])\n",
    "    \n",
    "    #find all instances of the solute/solvent pair\n",
    "    indices = [i for i, k in enumerate(xy_smiles) if k == xy]\n",
    "    \n",
    "    iupac2.append(iupac[indices[0]])\n",
    "    cas2.append(cas[indices[0]])\n",
    "    reflist.append([ref[i] for i in indices])\n",
    "    \n",
    "    pkas = str([pka[i] for i in indices])\n",
    "    pkas = re.findall(\"[-+]?[.]?[\\d]+(?:,\\d\\d\\d)*[\\.]?\\d*(?:[eE][-+]?\\d+)?\", pkas)\n",
    "    pkas = [float(x) for x in pkas]\n",
    "    pkalist.append(pkas)\n",
    "    pkaave.append(sum(pkas)/len(pkas))"
   ]
  },
  {
   "cell_type": "code",
   "execution_count": 29,
   "metadata": {},
   "outputs": [
    {
     "data": {
      "text/html": [
       "<div>\n",
       "<style scoped>\n",
       "    .dataframe tbody tr th:only-of-type {\n",
       "        vertical-align: middle;\n",
       "    }\n",
       "\n",
       "    .dataframe tbody tr th {\n",
       "        vertical-align: top;\n",
       "    }\n",
       "\n",
       "    .dataframe thead th {\n",
       "        text-align: right;\n",
       "    }\n",
       "</style>\n",
       "<table border=\"1\" class=\"dataframe\">\n",
       "  <thead>\n",
       "    <tr style=\"text-align: right;\">\n",
       "      <th></th>\n",
       "      <th>Solute SMILES</th>\n",
       "      <th>Solvent SMILES</th>\n",
       "      <th>Solute CAS</th>\n",
       "      <th>Solute IUPAC</th>\n",
       "      <th>pKa (avg)</th>\n",
       "      <th>pKa (all)</th>\n",
       "      <th>Source (all)</th>\n",
       "    </tr>\n",
       "  </thead>\n",
       "  <tbody>\n",
       "    <tr>\n",
       "      <th>0</th>\n",
       "      <td>C1CN=C2NCCC[NH+]2C1</td>\n",
       "      <td>CS(=O)C</td>\n",
       "      <td>-</td>\n",
       "      <td>2,3,4,5,6,7,8,9-octahydropyrimido[1,2-a]pyrimi...</td>\n",
       "      <td>15.30</td>\n",
       "      <td>[15.3]</td>\n",
       "      <td>[['Bases_pKa_values_MeCN_DMSO_THF_Water.pdf']]</td>\n",
       "    </tr>\n",
       "    <tr>\n",
       "      <th>1</th>\n",
       "      <td>c1ccc([NH2+]c2ccccc2)cc1</td>\n",
       "      <td>O</td>\n",
       "      <td>61236-17-7</td>\n",
       "      <td>diphenylazanium</td>\n",
       "      <td>0.79</td>\n",
       "      <td>[0.79]</td>\n",
       "      <td>[['Bases_pKa_values_MeCN_DMSO_THF_Water.pdf']]</td>\n",
       "    </tr>\n",
       "    <tr>\n",
       "      <th>2</th>\n",
       "      <td>N#CC1=C(C#N)CC=C1</td>\n",
       "      <td>CC#N</td>\n",
       "      <td>-</td>\n",
       "      <td>cyclopenta-1,3-diene-1,2-dicarbonitrile</td>\n",
       "      <td>10.17</td>\n",
       "      <td>[10.17]</td>\n",
       "      <td>[['MeCN_Acids_COSMO-RS_2008_Table.pdf']]</td>\n",
       "    </tr>\n",
       "    <tr>\n",
       "      <th>3</th>\n",
       "      <td>C[NH+:9](C)c1c(Cl)cc([N+](=O)[O-])cc1Cl</td>\n",
       "      <td>O</td>\n",
       "      <td>0</td>\n",
       "      <td>0</td>\n",
       "      <td>-0.23</td>\n",
       "      <td>[-0.23]</td>\n",
       "      <td>[['hunt_et_al']]</td>\n",
       "    </tr>\n",
       "    <tr>\n",
       "      <th>4</th>\n",
       "      <td>C[N+]1(CC[NH+:21](c2ccccc2)c2ccccc2)CCCCC1</td>\n",
       "      <td>O</td>\n",
       "      <td>0</td>\n",
       "      <td>0</td>\n",
       "      <td>-1.50</td>\n",
       "      <td>[-1.5]</td>\n",
       "      <td>[['hunt_et_al']]</td>\n",
       "    </tr>\n",
       "  </tbody>\n",
       "</table>\n",
       "</div>"
      ],
      "text/plain": [
       "                                Solute SMILES Solvent SMILES  Solute CAS  \\\n",
       "0                         C1CN=C2NCCC[NH+]2C1        CS(=O)C           -   \n",
       "1                    c1ccc([NH2+]c2ccccc2)cc1              O  61236-17-7   \n",
       "2                           N#CC1=C(C#N)CC=C1           CC#N           -   \n",
       "3     C[NH+:9](C)c1c(Cl)cc([N+](=O)[O-])cc1Cl              O           0   \n",
       "4  C[N+]1(CC[NH+:21](c2ccccc2)c2ccccc2)CCCCC1              O           0   \n",
       "\n",
       "                                        Solute IUPAC  pKa (avg) pKa (all)  \\\n",
       "0  2,3,4,5,6,7,8,9-octahydropyrimido[1,2-a]pyrimi...      15.30    [15.3]   \n",
       "1                                    diphenylazanium       0.79    [0.79]   \n",
       "2            cyclopenta-1,3-diene-1,2-dicarbonitrile      10.17   [10.17]   \n",
       "3                                                  0      -0.23   [-0.23]   \n",
       "4                                                  0      -1.50    [-1.5]   \n",
       "\n",
       "                                     Source (all)  \n",
       "0  [['Bases_pKa_values_MeCN_DMSO_THF_Water.pdf']]  \n",
       "1  [['Bases_pKa_values_MeCN_DMSO_THF_Water.pdf']]  \n",
       "2        [['MeCN_Acids_COSMO-RS_2008_Table.pdf']]  \n",
       "3                                [['hunt_et_al']]  \n",
       "4                                [['hunt_et_al']]  "
      ]
     },
     "execution_count": 29,
     "metadata": {},
     "output_type": "execute_result"
    }
   ],
   "source": [
    "final = {'Solute SMILES':solute,\n",
    "         'Solvent SMILES':solvent,\n",
    "         'Solute CAS':cas2,\n",
    "         'Solute IUPAC':iupac2,\n",
    "         'pKa (avg)':pkaave,\n",
    "         'pKa (all)':pkalist,\n",
    "         'Source (all)':reflist}\n",
    "final_df = pd.DataFrame(final)\n",
    "final_df.head()"
   ]
  },
  {
   "cell_type": "code",
   "execution_count": 30,
   "metadata": {},
   "outputs": [],
   "source": [
    "final_df.to_csv('full_pka_data2.csv')"
   ]
  },
  {
   "cell_type": "code",
   "execution_count": null,
   "metadata": {},
   "outputs": [],
   "source": []
  }
 ],
 "metadata": {
  "kernelspec": {
   "display_name": "Python 3",
   "language": "python",
   "name": "python3"
  },
  "language_info": {
   "codemirror_mode": {
    "name": "ipython",
    "version": 3
   },
   "file_extension": ".py",
   "mimetype": "text/x-python",
   "name": "python",
   "nbconvert_exporter": "python",
   "pygments_lexer": "ipython3",
   "version": "3.8.5"
  }
 },
 "nbformat": 4,
 "nbformat_minor": 4
}
