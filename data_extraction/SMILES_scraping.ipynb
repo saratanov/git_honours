{
 "cells": [
  {
   "cell_type": "code",
   "execution_count": 1,
   "metadata": {},
   "outputs": [],
   "source": [
    "from selenium import webdriver\n",
    "from selenium.webdriver.common.action_chains import ActionChains\n",
    "import time\n",
    "import tqdm\n",
    "import pandas as pd"
   ]
  },
  {
   "cell_type": "code",
   "execution_count": 248,
   "metadata": {},
   "outputs": [],
   "source": [
    "browser = webdriver.Chrome()\n",
    "browser.get(\"https://pubchem.ncbi.nlm.nih.gov\")"
   ]
  },
  {
   "cell_type": "code",
   "execution_count": 201,
   "metadata": {},
   "outputs": [],
   "source": [
    "def SMILES_scraper(mol_list):\n",
    "    SMILES_list = []\n",
    "    for i,mol in enumerate(tqdm.tqdm(mol_list)):\n",
    "        try:\n",
    "            #search query\n",
    "            browser.get(\"https://pubchem.ncbi.nlm.nih.gov/#query=\"+mol)\n",
    "            time.sleep(5)\n",
    "            #press first entry\n",
    "            try:\n",
    "                first_result_button = browser.find_element_by_xpath(\"/html/body/div[1]/div/div/main/div[2]/div[1]/div/div[2]/div/div[1]/div[2]/div[1]/a\")\n",
    "            except:\n",
    "                try:\n",
    "                    first_result_button = browser.find_element_by_xpath(\"/html/body/div[1]/div/div/main/div[2]/div[2]/div[3]/div/div/div/div[2]/ul/li/div/div/div/div[2]/div[1]/a\")\n",
    "                except:\n",
    "                    first_result_button = browser.find_element_by_xpath(\"/html/body/div[1]/div/div/main/div[2]/div[2]/div[2]/div/div/div/div[2]/ul/li[1]/div/div/div[1]/div[2]/div[1]/a\")\n",
    "            first_result_button.click()\n",
    "            time.sleep(2)\n",
    "            #find SMILES string\n",
    "            SMILES_section = browser.find_element_by_id(\"Chemical-and-Physical-Properties\")\n",
    "            actions = ActionChains(browser)\n",
    "            actions.move_to_element(SMILES_section).perform()\n",
    "            time.sleep(7)\n",
    "            SMILES_string = browser.find_element_by_xpath(\"/html/body/div[1]/div/main/div[2]/div/div/div[5]/section[2]/section[1]/section[4]/div[2]/div[1]/p\")\n",
    "            SMILES_list.append(SMILES_string.text)\n",
    "            print(SMILES_string.text)\n",
    "        except:\n",
    "            SMILES_list.append('skip')\n",
    "    return SMILES_list"
   ]
  },
  {
   "cell_type": "code",
   "execution_count": 122,
   "metadata": {
    "collapsed": true,
    "jupyter": {
     "outputs_hidden": true
    },
    "tags": []
   },
   "outputs": [
    {
     "name": "stderr",
     "output_type": "stream",
     "text": [
      " 20%|██        | 1/5 [00:12<00:48, 12.11s/it]"
     ]
    },
    {
     "name": "stdout",
     "output_type": "stream",
     "text": [
      "Cl\n"
     ]
    },
    {
     "name": "stderr",
     "output_type": "stream",
     "text": [
      " 40%|████      | 2/5 [00:23<00:35, 11.89s/it]"
     ]
    },
    {
     "name": "stdout",
     "output_type": "stream",
     "text": [
      "Br\n"
     ]
    },
    {
     "name": "stderr",
     "output_type": "stream",
     "text": [
      " 60%|██████    | 3/5 [00:35<00:24, 12.08s/it]"
     ]
    },
    {
     "name": "stdout",
     "output_type": "stream",
     "text": [
      "I\n"
     ]
    },
    {
     "name": "stderr",
     "output_type": "stream",
     "text": [
      " 80%|████████  | 4/5 [00:47<00:11, 11.97s/it]"
     ]
    },
    {
     "name": "stdout",
     "output_type": "stream",
     "text": [
      "OCl(=O)(=O)=O\n"
     ]
    },
    {
     "name": "stderr",
     "output_type": "stream",
     "text": [
      "100%|██████████| 5/5 [00:59<00:00, 11.84s/it]"
     ]
    },
    {
     "name": "stdout",
     "output_type": "stream",
     "text": [
      "C(F)(F)(F)S(=O)(=O)O\n"
     ]
    },
    {
     "name": "stderr",
     "output_type": "stream",
     "text": [
      "\n"
     ]
    },
    {
     "data": {
      "text/plain": [
       "['Cl', 'Br', 'I', 'OCl(=O)(=O)=O', 'C(F)(F)(F)S(=O)(=O)O']"
      ]
     },
     "execution_count": 122,
     "metadata": {},
     "output_type": "execute_result"
    }
   ],
   "source": [
    "mol_list = [\"HCl\",\"HBr\",\"HI\",\"HClO4\",\"TfOH\"]\n",
    "SMILES_scraper(mol_list)"
   ]
  },
  {
   "cell_type": "code",
   "execution_count": 130,
   "metadata": {
    "collapsed": true,
    "jupyter": {
     "outputs_hidden": true,
     "source_hidden": true
    },
    "tags": []
   },
   "outputs": [
    {
     "ename": "NoSuchElementException",
     "evalue": "Message: no such element: Unable to locate element: {\"method\":\"xpath\",\"selector\":\"/html/body/div[1]/div/div/main/div[2]/div[1]/div/div[2]/div/div[1]/div[2]/div[1]/a\"}\n  (Session info: chrome=92.0.4515.159)\n",
     "output_type": "error",
     "traceback": [
      "\u001b[0;31m---------------------------------------------------------------------------\u001b[0m",
      "\u001b[0;31mNoSuchElementException\u001b[0m                    Traceback (most recent call last)",
      "\u001b[0;32m<ipython-input-130-4ac35a3140ae>\u001b[0m in \u001b[0;36m<module>\u001b[0;34m\u001b[0m\n\u001b[1;32m      4\u001b[0m \u001b[0;32mtry\u001b[0m\u001b[0;34m:\u001b[0m\u001b[0;34m\u001b[0m\u001b[0;34m\u001b[0m\u001b[0m\n\u001b[0;32m----> 5\u001b[0;31m     \u001b[0mfirst_result_button\u001b[0m \u001b[0;34m=\u001b[0m \u001b[0mbrowser\u001b[0m\u001b[0;34m.\u001b[0m\u001b[0mfind_element_by_xpath\u001b[0m\u001b[0;34m(\u001b[0m\u001b[0;34m\"/html/body/div[1]/div/div/main/div[2]/div[2]/div[2]/div/div/div/div[2]/ul/li[1]/div/div/div[1]/div[2]/div[1]/a\"\u001b[0m\u001b[0;34m)\u001b[0m\u001b[0;34m\u001b[0m\u001b[0;34m\u001b[0m\u001b[0m\n\u001b[0m\u001b[1;32m      6\u001b[0m \u001b[0;32mexcept\u001b[0m\u001b[0;34m:\u001b[0m\u001b[0;34m\u001b[0m\u001b[0;34m\u001b[0m\u001b[0m\n",
      "\u001b[0;32m~/opt/anaconda3/lib/python3.8/site-packages/selenium/webdriver/remote/webdriver.py\u001b[0m in \u001b[0;36mfind_element_by_xpath\u001b[0;34m(self, xpath)\u001b[0m\n\u001b[1;32m    393\u001b[0m         \"\"\"\n\u001b[0;32m--> 394\u001b[0;31m         \u001b[0;32mreturn\u001b[0m \u001b[0mself\u001b[0m\u001b[0;34m.\u001b[0m\u001b[0mfind_element\u001b[0m\u001b[0;34m(\u001b[0m\u001b[0mby\u001b[0m\u001b[0;34m=\u001b[0m\u001b[0mBy\u001b[0m\u001b[0;34m.\u001b[0m\u001b[0mXPATH\u001b[0m\u001b[0;34m,\u001b[0m \u001b[0mvalue\u001b[0m\u001b[0;34m=\u001b[0m\u001b[0mxpath\u001b[0m\u001b[0;34m)\u001b[0m\u001b[0;34m\u001b[0m\u001b[0;34m\u001b[0m\u001b[0m\n\u001b[0m\u001b[1;32m    395\u001b[0m \u001b[0;34m\u001b[0m\u001b[0m\n",
      "\u001b[0;32m~/opt/anaconda3/lib/python3.8/site-packages/selenium/webdriver/remote/webdriver.py\u001b[0m in \u001b[0;36mfind_element\u001b[0;34m(self, by, value)\u001b[0m\n\u001b[1;32m    975\u001b[0m                 \u001b[0mvalue\u001b[0m \u001b[0;34m=\u001b[0m \u001b[0;34m'[name=\"%s\"]'\u001b[0m \u001b[0;34m%\u001b[0m \u001b[0mvalue\u001b[0m\u001b[0;34m\u001b[0m\u001b[0;34m\u001b[0m\u001b[0m\n\u001b[0;32m--> 976\u001b[0;31m         return self.execute(Command.FIND_ELEMENT, {\n\u001b[0m\u001b[1;32m    977\u001b[0m             \u001b[0;34m'using'\u001b[0m\u001b[0;34m:\u001b[0m \u001b[0mby\u001b[0m\u001b[0;34m,\u001b[0m\u001b[0;34m\u001b[0m\u001b[0;34m\u001b[0m\u001b[0m\n",
      "\u001b[0;32m~/opt/anaconda3/lib/python3.8/site-packages/selenium/webdriver/remote/webdriver.py\u001b[0m in \u001b[0;36mexecute\u001b[0;34m(self, driver_command, params)\u001b[0m\n\u001b[1;32m    320\u001b[0m         \u001b[0;32mif\u001b[0m \u001b[0mresponse\u001b[0m\u001b[0;34m:\u001b[0m\u001b[0;34m\u001b[0m\u001b[0;34m\u001b[0m\u001b[0m\n\u001b[0;32m--> 321\u001b[0;31m             \u001b[0mself\u001b[0m\u001b[0;34m.\u001b[0m\u001b[0merror_handler\u001b[0m\u001b[0;34m.\u001b[0m\u001b[0mcheck_response\u001b[0m\u001b[0;34m(\u001b[0m\u001b[0mresponse\u001b[0m\u001b[0;34m)\u001b[0m\u001b[0;34m\u001b[0m\u001b[0;34m\u001b[0m\u001b[0m\n\u001b[0m\u001b[1;32m    322\u001b[0m             response['value'] = self._unwrap_value(\n",
      "\u001b[0;32m~/opt/anaconda3/lib/python3.8/site-packages/selenium/webdriver/remote/errorhandler.py\u001b[0m in \u001b[0;36mcheck_response\u001b[0;34m(self, response)\u001b[0m\n\u001b[1;32m    241\u001b[0m             \u001b[0;32mraise\u001b[0m \u001b[0mexception_class\u001b[0m\u001b[0;34m(\u001b[0m\u001b[0mmessage\u001b[0m\u001b[0;34m,\u001b[0m \u001b[0mscreen\u001b[0m\u001b[0;34m,\u001b[0m \u001b[0mstacktrace\u001b[0m\u001b[0;34m,\u001b[0m \u001b[0malert_text\u001b[0m\u001b[0;34m)\u001b[0m\u001b[0;34m\u001b[0m\u001b[0;34m\u001b[0m\u001b[0m\n\u001b[0;32m--> 242\u001b[0;31m         \u001b[0;32mraise\u001b[0m \u001b[0mexception_class\u001b[0m\u001b[0;34m(\u001b[0m\u001b[0mmessage\u001b[0m\u001b[0;34m,\u001b[0m \u001b[0mscreen\u001b[0m\u001b[0;34m,\u001b[0m \u001b[0mstacktrace\u001b[0m\u001b[0;34m)\u001b[0m\u001b[0;34m\u001b[0m\u001b[0;34m\u001b[0m\u001b[0m\n\u001b[0m\u001b[1;32m    243\u001b[0m \u001b[0;34m\u001b[0m\u001b[0m\n",
      "\u001b[0;31mNoSuchElementException\u001b[0m: Message: no such element: Unable to locate element: {\"method\":\"xpath\",\"selector\":\"/html/body/div[1]/div/div/main/div[2]/div[2]/div[2]/div/div/div/div[2]/ul/li[1]/div/div/div[1]/div[2]/div[1]/a\"}\n  (Session info: chrome=92.0.4515.159)\n",
      "\nDuring handling of the above exception, another exception occurred:\n",
      "\u001b[0;31mNoSuchElementException\u001b[0m                    Traceback (most recent call last)",
      "\u001b[0;32m<ipython-input-130-4ac35a3140ae>\u001b[0m in \u001b[0;36m<module>\u001b[0;34m\u001b[0m\n\u001b[1;32m      5\u001b[0m     \u001b[0mfirst_result_button\u001b[0m \u001b[0;34m=\u001b[0m \u001b[0mbrowser\u001b[0m\u001b[0;34m.\u001b[0m\u001b[0mfind_element_by_xpath\u001b[0m\u001b[0;34m(\u001b[0m\u001b[0;34m\"/html/body/div[1]/div/div/main/div[2]/div[2]/div[2]/div/div/div/div[2]/ul/li[1]/div/div/div[1]/div[2]/div[1]/a\"\u001b[0m\u001b[0;34m)\u001b[0m\u001b[0;34m\u001b[0m\u001b[0;34m\u001b[0m\u001b[0m\n\u001b[1;32m      6\u001b[0m \u001b[0;32mexcept\u001b[0m\u001b[0;34m:\u001b[0m\u001b[0;34m\u001b[0m\u001b[0;34m\u001b[0m\u001b[0m\n\u001b[0;32m----> 7\u001b[0;31m     \u001b[0mfirst_result_button\u001b[0m \u001b[0;34m=\u001b[0m \u001b[0mbrowser\u001b[0m\u001b[0;34m.\u001b[0m\u001b[0mfind_element_by_xpath\u001b[0m\u001b[0;34m(\u001b[0m\u001b[0;34m\"/html/body/div[1]/div/div/main/div[2]/div[1]/div/div[2]/div/div[1]/div[2]/div[1]/a\"\u001b[0m\u001b[0;34m)\u001b[0m\u001b[0;34m\u001b[0m\u001b[0;34m\u001b[0m\u001b[0m\n\u001b[0m\u001b[1;32m      8\u001b[0m \u001b[0mfirst_result_button\u001b[0m\u001b[0;34m.\u001b[0m\u001b[0mclick\u001b[0m\u001b[0;34m(\u001b[0m\u001b[0;34m)\u001b[0m\u001b[0;34m\u001b[0m\u001b[0;34m\u001b[0m\u001b[0m\n\u001b[1;32m      9\u001b[0m \u001b[0mtime\u001b[0m\u001b[0;34m.\u001b[0m\u001b[0msleep\u001b[0m\u001b[0;34m(\u001b[0m\u001b[0;36m2\u001b[0m\u001b[0;34m)\u001b[0m\u001b[0;34m\u001b[0m\u001b[0;34m\u001b[0m\u001b[0m\n",
      "\u001b[0;32m~/opt/anaconda3/lib/python3.8/site-packages/selenium/webdriver/remote/webdriver.py\u001b[0m in \u001b[0;36mfind_element_by_xpath\u001b[0;34m(self, xpath)\u001b[0m\n\u001b[1;32m    392\u001b[0m             \u001b[0melement\u001b[0m \u001b[0;34m=\u001b[0m \u001b[0mdriver\u001b[0m\u001b[0;34m.\u001b[0m\u001b[0mfind_element_by_xpath\u001b[0m\u001b[0;34m(\u001b[0m\u001b[0;34m'//div/td[1]'\u001b[0m\u001b[0;34m)\u001b[0m\u001b[0;34m\u001b[0m\u001b[0;34m\u001b[0m\u001b[0m\n\u001b[1;32m    393\u001b[0m         \"\"\"\n\u001b[0;32m--> 394\u001b[0;31m         \u001b[0;32mreturn\u001b[0m \u001b[0mself\u001b[0m\u001b[0;34m.\u001b[0m\u001b[0mfind_element\u001b[0m\u001b[0;34m(\u001b[0m\u001b[0mby\u001b[0m\u001b[0;34m=\u001b[0m\u001b[0mBy\u001b[0m\u001b[0;34m.\u001b[0m\u001b[0mXPATH\u001b[0m\u001b[0;34m,\u001b[0m \u001b[0mvalue\u001b[0m\u001b[0;34m=\u001b[0m\u001b[0mxpath\u001b[0m\u001b[0;34m)\u001b[0m\u001b[0;34m\u001b[0m\u001b[0;34m\u001b[0m\u001b[0m\n\u001b[0m\u001b[1;32m    395\u001b[0m \u001b[0;34m\u001b[0m\u001b[0m\n\u001b[1;32m    396\u001b[0m     \u001b[0;32mdef\u001b[0m \u001b[0mfind_elements_by_xpath\u001b[0m\u001b[0;34m(\u001b[0m\u001b[0mself\u001b[0m\u001b[0;34m,\u001b[0m \u001b[0mxpath\u001b[0m\u001b[0;34m)\u001b[0m\u001b[0;34m:\u001b[0m\u001b[0;34m\u001b[0m\u001b[0;34m\u001b[0m\u001b[0m\n",
      "\u001b[0;32m~/opt/anaconda3/lib/python3.8/site-packages/selenium/webdriver/remote/webdriver.py\u001b[0m in \u001b[0;36mfind_element\u001b[0;34m(self, by, value)\u001b[0m\n\u001b[1;32m    974\u001b[0m                 \u001b[0mby\u001b[0m \u001b[0;34m=\u001b[0m \u001b[0mBy\u001b[0m\u001b[0;34m.\u001b[0m\u001b[0mCSS_SELECTOR\u001b[0m\u001b[0;34m\u001b[0m\u001b[0;34m\u001b[0m\u001b[0m\n\u001b[1;32m    975\u001b[0m                 \u001b[0mvalue\u001b[0m \u001b[0;34m=\u001b[0m \u001b[0;34m'[name=\"%s\"]'\u001b[0m \u001b[0;34m%\u001b[0m \u001b[0mvalue\u001b[0m\u001b[0;34m\u001b[0m\u001b[0;34m\u001b[0m\u001b[0m\n\u001b[0;32m--> 976\u001b[0;31m         return self.execute(Command.FIND_ELEMENT, {\n\u001b[0m\u001b[1;32m    977\u001b[0m             \u001b[0;34m'using'\u001b[0m\u001b[0;34m:\u001b[0m \u001b[0mby\u001b[0m\u001b[0;34m,\u001b[0m\u001b[0;34m\u001b[0m\u001b[0;34m\u001b[0m\u001b[0m\n\u001b[1;32m    978\u001b[0m             'value': value})['value']\n",
      "\u001b[0;32m~/opt/anaconda3/lib/python3.8/site-packages/selenium/webdriver/remote/webdriver.py\u001b[0m in \u001b[0;36mexecute\u001b[0;34m(self, driver_command, params)\u001b[0m\n\u001b[1;32m    319\u001b[0m         \u001b[0mresponse\u001b[0m \u001b[0;34m=\u001b[0m \u001b[0mself\u001b[0m\u001b[0;34m.\u001b[0m\u001b[0mcommand_executor\u001b[0m\u001b[0;34m.\u001b[0m\u001b[0mexecute\u001b[0m\u001b[0;34m(\u001b[0m\u001b[0mdriver_command\u001b[0m\u001b[0;34m,\u001b[0m \u001b[0mparams\u001b[0m\u001b[0;34m)\u001b[0m\u001b[0;34m\u001b[0m\u001b[0;34m\u001b[0m\u001b[0m\n\u001b[1;32m    320\u001b[0m         \u001b[0;32mif\u001b[0m \u001b[0mresponse\u001b[0m\u001b[0;34m:\u001b[0m\u001b[0;34m\u001b[0m\u001b[0;34m\u001b[0m\u001b[0m\n\u001b[0;32m--> 321\u001b[0;31m             \u001b[0mself\u001b[0m\u001b[0;34m.\u001b[0m\u001b[0merror_handler\u001b[0m\u001b[0;34m.\u001b[0m\u001b[0mcheck_response\u001b[0m\u001b[0;34m(\u001b[0m\u001b[0mresponse\u001b[0m\u001b[0;34m)\u001b[0m\u001b[0;34m\u001b[0m\u001b[0;34m\u001b[0m\u001b[0m\n\u001b[0m\u001b[1;32m    322\u001b[0m             response['value'] = self._unwrap_value(\n\u001b[1;32m    323\u001b[0m                 response.get('value', None))\n",
      "\u001b[0;32m~/opt/anaconda3/lib/python3.8/site-packages/selenium/webdriver/remote/errorhandler.py\u001b[0m in \u001b[0;36mcheck_response\u001b[0;34m(self, response)\u001b[0m\n\u001b[1;32m    240\u001b[0m                 \u001b[0malert_text\u001b[0m \u001b[0;34m=\u001b[0m \u001b[0mvalue\u001b[0m\u001b[0;34m[\u001b[0m\u001b[0;34m'alert'\u001b[0m\u001b[0;34m]\u001b[0m\u001b[0;34m.\u001b[0m\u001b[0mget\u001b[0m\u001b[0;34m(\u001b[0m\u001b[0;34m'text'\u001b[0m\u001b[0;34m)\u001b[0m\u001b[0;34m\u001b[0m\u001b[0;34m\u001b[0m\u001b[0m\n\u001b[1;32m    241\u001b[0m             \u001b[0;32mraise\u001b[0m \u001b[0mexception_class\u001b[0m\u001b[0;34m(\u001b[0m\u001b[0mmessage\u001b[0m\u001b[0;34m,\u001b[0m \u001b[0mscreen\u001b[0m\u001b[0;34m,\u001b[0m \u001b[0mstacktrace\u001b[0m\u001b[0;34m,\u001b[0m \u001b[0malert_text\u001b[0m\u001b[0;34m)\u001b[0m\u001b[0;34m\u001b[0m\u001b[0;34m\u001b[0m\u001b[0m\n\u001b[0;32m--> 242\u001b[0;31m         \u001b[0;32mraise\u001b[0m \u001b[0mexception_class\u001b[0m\u001b[0;34m(\u001b[0m\u001b[0mmessage\u001b[0m\u001b[0;34m,\u001b[0m \u001b[0mscreen\u001b[0m\u001b[0;34m,\u001b[0m \u001b[0mstacktrace\u001b[0m\u001b[0;34m)\u001b[0m\u001b[0;34m\u001b[0m\u001b[0;34m\u001b[0m\u001b[0m\n\u001b[0m\u001b[1;32m    243\u001b[0m \u001b[0;34m\u001b[0m\u001b[0m\n\u001b[1;32m    244\u001b[0m     \u001b[0;32mdef\u001b[0m \u001b[0m_value_or_default\u001b[0m\u001b[0;34m(\u001b[0m\u001b[0mself\u001b[0m\u001b[0;34m,\u001b[0m \u001b[0mobj\u001b[0m\u001b[0;34m,\u001b[0m \u001b[0mkey\u001b[0m\u001b[0;34m,\u001b[0m \u001b[0mdefault\u001b[0m\u001b[0;34m)\u001b[0m\u001b[0;34m:\u001b[0m\u001b[0;34m\u001b[0m\u001b[0;34m\u001b[0m\u001b[0m\n",
      "\u001b[0;31mNoSuchElementException\u001b[0m: Message: no such element: Unable to locate element: {\"method\":\"xpath\",\"selector\":\"/html/body/div[1]/div/div/main/div[2]/div[1]/div/div[2]/div/div[1]/div[2]/div[1]/a\"}\n  (Session info: chrome=92.0.4515.159)\n"
     ]
    }
   ],
   "source": [
    "browser.get(\"https://pubchem.ncbi.nlm.nih.gov/#query=\"+\"HCl\")\n",
    "time.sleep(2)\n",
    "#press first entry\n",
    "try:\n",
    "    first_result_button = browser.find_element_by_xpath(\"/html/body/div[1]/div/div/main/div[2]/div[2]/div[2]/div/div/div/div[2]/ul/li[1]/div/div/div[1]/div[2]/div[1]/a\")\n",
    "except:\n",
    "    first_result_button = browser.find_element_by_xpath(\"/html/body/div[1]/div/div/main/div[2]/div[1]/div/div[2]/div/div[1]/div[2]/div[1]/a\")\n",
    "first_result_button.click()\n",
    "time.sleep(2)\n",
    "#find SMILES string\n",
    "SMILES_section = browser.find_element_by_id(\"Canonical-SMILES\")\n",
    "actions = ActionChains(browser)\n",
    "actions.move_to_element(SMILES_section).perform()\n",
    "time.sleep(3)\n",
    "SMILES_string = browser.find_element_by_xpath(\"/html/body/div[1]/div/main/div[2]/div/div/div[5]/section[2]/section[1]/section[4]/div[2]/div[1]/p\")\n",
    "SMILES_list.append(SMILES_string.text)"
   ]
  },
  {
   "cell_type": "code",
   "execution_count": 117,
   "metadata": {
    "jupyter": {
     "source_hidden": true
    },
    "tags": []
   },
   "outputs": [
    {
     "name": "stdout",
     "output_type": "stream",
     "text": [
      "Cl\n"
     ]
    }
   ],
   "source": [
    "SMILES_string = browser.find_element_by_xpath(\"/html/body/div[1]/div/main/div[2]/div/div/div[5]/section[2]/section[1]/section[4]/div[2]/div[1]/p\")\n",
    "SMILES_list.append(SMILES_string.text)\n",
    "print(SMILES_string.text)"
   ]
  },
  {
   "cell_type": "code",
   "execution_count": 137,
   "metadata": {},
   "outputs": [],
   "source": [
    "import pandas as pd\n",
    "data = pd.read_csv('data_csvs/pka_data.csv')"
   ]
  },
  {
   "cell_type": "code",
   "execution_count": 155,
   "metadata": {},
   "outputs": [
    {
     "name": "stdout",
     "output_type": "stream",
     "text": [
      "CCOC(=O)C(C#N)C1=C(C(=C(C(=C1F)F)F)F)F\n"
     ]
    }
   ],
   "source": [
    "SMILES_section = browser.find_element_by_id(\"Molecular-Formula\")\n",
    "actions = ActionChains(browser)\n",
    "actions.move_to_element(SMILES_section).perform()\n",
    "time.sleep(5)\n",
    "SMILES_string = browser.find_element_by_xpath(\"/html/body/div[1]/div/main/div[2]/div/div/div[5]/section[2]/section[1]/section[4]/div[2]/div[1]/p\")\n",
    "SMILES_list.append(SMILES_string.text)\n",
    "print(SMILES_string.text)"
   ]
  },
  {
   "cell_type": "code",
   "execution_count": 153,
   "metadata": {},
   "outputs": [
    {
     "name": "stdout",
     "output_type": "stream",
     "text": [
      "CCOC(=O)C(C#N)C1=C(C(=C(C(=C1F)F)F)F)F\n"
     ]
    }
   ],
   "source": [
    "SMILES_string = browser.find_element_by_xpath(\"/html/body/div[1]/div/main/div[2]/div/div/div[5]/section[2]/section[1]/section[4]/div[2]/div[1]/p\")\n",
    "print(SMILES_string.text)"
   ]
  },
  {
   "cell_type": "code",
   "execution_count": 247,
   "metadata": {
    "tags": []
   },
   "outputs": [
    {
     "name": "stdout",
     "output_type": "stream",
     "text": [
      "2340-87-6\n"
     ]
    }
   ],
   "source": [
    "molist = data['solute'].tolist()\n",
    "print(molist[0])"
   ]
  },
  {
   "cell_type": "code",
   "execution_count": 202,
   "metadata": {
    "collapsed": true,
    "jupyter": {
     "outputs_hidden": true
    },
    "tags": []
   },
   "outputs": [
    {
     "name": "stderr",
     "output_type": "stream",
     "text": [
      "  0%|          | 1/463 [00:17<2:18:03, 17.93s/it]"
     ]
    },
    {
     "name": "stdout",
     "output_type": "stream",
     "text": [
      "CCOC(=O)C(C#N)C1=C(C(=C(C(=C1F)F)F)F)F\n"
     ]
    },
    {
     "name": "stderr",
     "output_type": "stream",
     "text": [
      "  0%|          | 2/463 [00:34<2:15:00, 17.57s/it]"
     ]
    },
    {
     "name": "stdout",
     "output_type": "stream",
     "text": [
      "CCOC(=O)C(C#N)C1=C(C(=C(C(=C1F)F)C(F)(F)F)F)F\n"
     ]
    },
    {
     "name": "stderr",
     "output_type": "stream",
     "text": [
      "  1%|          | 3/463 [00:52<2:14:45, 17.58s/it]"
     ]
    },
    {
     "name": "stdout",
     "output_type": "stream",
     "text": [
      "CC1=CC=C(C=C1)C(C#N)C#N\n"
     ]
    },
    {
     "name": "stderr",
     "output_type": "stream",
     "text": [
      "  3%|▎         | 14/463 [01:59<1:04:27,  8.61s/it]"
     ]
    },
    {
     "name": "stdout",
     "output_type": "stream",
     "text": [
      "C(#N)C(C#N)C1=C(C(=C(C(=C1F)F)C(F)(F)F)F)F\n"
     ]
    },
    {
     "name": "stderr",
     "output_type": "stream",
     "text": [
      "  4%|▍         | 19/463 [02:37<1:06:55,  9.04s/it]"
     ]
    },
    {
     "name": "stdout",
     "output_type": "stream",
     "text": [
      "C(#N)C(C#N)C1=C(C2=C(C(=C1F)F)C(=C(C(=C2F)F)F)F)F\n"
     ]
    },
    {
     "name": "stderr",
     "output_type": "stream",
     "text": [
      "  6%|▌         | 27/463 [03:32<1:07:18,  9.26s/it]"
     ]
    },
    {
     "name": "stdout",
     "output_type": "stream",
     "text": [
      "C(#N)C(C#N)C1=C(C(=C(C(=C1F)F)F)F)F\n"
     ]
    },
    {
     "name": "stderr",
     "output_type": "stream",
     "text": [
      "  6%|▌         | 28/463 [03:48<1:22:08, 11.33s/it]"
     ]
    },
    {
     "name": "stdout",
     "output_type": "stream",
     "text": [
      "C1=CC(=CC(=C1)C(F)(F)F)C(C#N)C#N\n"
     ]
    },
    {
     "name": "stderr",
     "output_type": "stream",
     "text": [
      "  6%|▋         | 29/463 [04:04<1:32:49, 12.83s/it]"
     ]
    },
    {
     "name": "stdout",
     "output_type": "stream",
     "text": [
      "C1=CC(=CC=C1C(C#N)C#N)[N+](=O)[O-]\n"
     ]
    },
    {
     "name": "stderr",
     "output_type": "stream",
     "text": [
      "  6%|▋         | 30/463 [04:21<1:40:05, 13.87s/it]"
     ]
    },
    {
     "name": "stdout",
     "output_type": "stream",
     "text": [
      "C1=CC=C(C=C1)C(S(=O)(=O)C(F)(F)F)S(=O)(=O)C(F)(F)F\n"
     ]
    },
    {
     "name": "stderr",
     "output_type": "stream",
     "text": [
      "  7%|▋         | 31/463 [04:37<1:45:16, 14.62s/it]"
     ]
    },
    {
     "name": "stdout",
     "output_type": "stream",
     "text": [
      "CCOC(=O)C(C1=C(C(=C(C(=C1F)F)F)F)F)C(=O)OCC\n"
     ]
    },
    {
     "name": "stderr",
     "output_type": "stream",
     "text": [
      "  7%|▋         | 34/463 [05:05<1:25:09, 11.91s/it]"
     ]
    },
    {
     "name": "stdout",
     "output_type": "stream",
     "text": [
      "C1=CC=C2C3=C4C(C2=C1)C5=CC=CC=C5C4=CC=C3\n"
     ]
    },
    {
     "name": "stderr",
     "output_type": "stream",
     "text": [
      "  8%|▊         | 35/463 [05:22<1:35:48, 13.43s/it]"
     ]
    },
    {
     "name": "stdout",
     "output_type": "stream",
     "text": [
      "COC(=O)C1C2=CC=CC=C2C3=CC=CC=C13\n"
     ]
    },
    {
     "name": "stderr",
     "output_type": "stream",
     "text": [
      "  8%|▊         | 36/463 [05:38<1:42:05, 14.35s/it]"
     ]
    },
    {
     "name": "stdout",
     "output_type": "stream",
     "text": [
      "C1=CC=C2C(=C1)C(C3=CC=CC=C32)C#N\n"
     ]
    },
    {
     "name": "stderr",
     "output_type": "stream",
     "text": [
      "  8%|▊         | 37/463 [05:55<1:47:54, 15.20s/it]"
     ]
    },
    {
     "name": "stdout",
     "output_type": "stream",
     "text": [
      "C1(C2=C(C3=C1C(=C(C(=C3F)F)F)F)C(=C(C(=C2F)F)F)F)C4=C(C(=C(C(=C4F)F)F)F)F\n"
     ]
    },
    {
     "name": "stderr",
     "output_type": "stream",
     "text": [
      "  8%|▊         | 38/463 [06:12<1:50:01, 15.53s/it]"
     ]
    },
    {
     "name": "stdout",
     "output_type": "stream",
     "text": [
      "C1C2=C(C3=C1C(=C(C(=C3F)F)F)F)C(=C(C(=C2F)F)F)F\n"
     ]
    },
    {
     "name": "stderr",
     "output_type": "stream",
     "text": [
      "  8%|▊         | 39/463 [06:28<1:52:09, 15.87s/it]"
     ]
    },
    {
     "name": "stdout",
     "output_type": "stream",
     "text": [
      "C1=C(C=C(C(=C1Br)O)Br)Br\n"
     ]
    },
    {
     "name": "stderr",
     "output_type": "stream",
     "text": [
      "  9%|▊         | 40/463 [06:45<1:54:56, 16.30s/it]"
     ]
    },
    {
     "name": "stdout",
     "output_type": "stream",
     "text": [
      "C1(=C(NC(=C(C1=O)F)F)F)F\n"
     ]
    },
    {
     "name": "stderr",
     "output_type": "stream",
     "text": [
      "  9%|▉         | 41/463 [07:02<1:54:31, 16.28s/it]"
     ]
    },
    {
     "name": "stdout",
     "output_type": "stream",
     "text": [
      "C1(=C(C(=C(C(=C1F)F)O)F)F)C(F)(F)F\n"
     ]
    },
    {
     "name": "stderr",
     "output_type": "stream",
     "text": [
      "  9%|▉         | 42/463 [07:18<1:54:37, 16.33s/it]"
     ]
    },
    {
     "name": "stdout",
     "output_type": "stream",
     "text": [
      "C1(=C(C(=C(C(=C1F)F)O)F)F)C2=C(C(=C(C(=C2F)F)F)F)F\n"
     ]
    },
    {
     "name": "stderr",
     "output_type": "stream",
     "text": [
      "  9%|▉         | 43/463 [07:35<1:55:02, 16.43s/it]"
     ]
    },
    {
     "name": "stdout",
     "output_type": "stream",
     "text": [
      "C12=C(C(=C(C(=C1O)F)F)F)C(=C(C(=C2F)F)F)F\n"
     ]
    },
    {
     "name": "stderr",
     "output_type": "stream",
     "text": [
      " 10%|▉         | 45/463 [08:08<1:55:41, 16.61s/it]"
     ]
    },
    {
     "name": "stdout",
     "output_type": "stream",
     "text": [
      "C12=C(C(=C(C(=C1F)O)F)F)C(=C(C(=C2F)F)F)F\n"
     ]
    },
    {
     "name": "stderr",
     "output_type": "stream",
     "text": [
      " 10%|▉         | 46/463 [08:25<1:55:57, 16.68s/it]"
     ]
    },
    {
     "name": "stdout",
     "output_type": "stream",
     "text": [
      "C1=C(C(=C(C(=C1F)F)O)F)F\n"
     ]
    },
    {
     "name": "stderr",
     "output_type": "stream",
     "text": [
      " 10%|█         | 47/463 [08:42<1:55:12, 16.62s/it]"
     ]
    },
    {
     "name": "stdout",
     "output_type": "stream",
     "text": [
      "C1(=C(C(=C(C(=C1F)F)F)F)F)O\n"
     ]
    },
    {
     "name": "stderr",
     "output_type": "stream",
     "text": [
      " 11%|█         | 50/463 [09:19<1:35:59, 13.95s/it]"
     ]
    },
    {
     "name": "stdout",
     "output_type": "stream",
     "text": [
      "C1=CC=C(C(=C1)[N+](=O)[O-])O\n"
     ]
    },
    {
     "name": "stderr",
     "output_type": "stream",
     "text": [
      " 11%|█         | 51/463 [09:37<1:44:05, 15.16s/it]"
     ]
    },
    {
     "name": "stdout",
     "output_type": "stream",
     "text": [
      "C1=CC(=C(C=C1[N+](=O)[O-])[N+](=O)[O-])O\n"
     ]
    },
    {
     "name": "stderr",
     "output_type": "stream",
     "text": [
      " 11%|█         | 52/463 [09:53<1:45:57, 15.47s/it]"
     ]
    },
    {
     "name": "stdout",
     "output_type": "stream",
     "text": [
      "C1=C(C=C(C(=C1[N+](=O)[O-])O)[N+](=O)[O-])[N+](=O)[O-]\n"
     ]
    },
    {
     "name": "stderr",
     "output_type": "stream",
     "text": [
      " 12%|█▏        | 56/463 [10:34<1:23:40, 12.34s/it]"
     ]
    },
    {
     "name": "stdout",
     "output_type": "stream",
     "text": [
      "C1=CC=C(C=C1)C(=O)O\n"
     ]
    },
    {
     "name": "stderr",
     "output_type": "stream",
     "text": [
      " 12%|█▏        | 57/463 [10:51<1:33:03, 13.75s/it]"
     ]
    },
    {
     "name": "stdout",
     "output_type": "stream",
     "text": [
      "CC1=CC=C(C=C1)S(=O)(=O)O\n"
     ]
    },
    {
     "name": "stderr",
     "output_type": "stream",
     "text": [
      " 13%|█▎        | 58/463 [11:07<1:38:08, 14.54s/it]"
     ]
    },
    {
     "name": "stdout",
     "output_type": "stream",
     "text": [
      "C1=CC(=CC=C1[N+](=O)[O-])S(=O)(=O)O\n"
     ]
    },
    {
     "name": "stderr",
     "output_type": "stream",
     "text": [
      " 13%|█▎        | 59/463 [11:24<1:43:31, 15.37s/it]"
     ]
    },
    {
     "name": "stdout",
     "output_type": "stream",
     "text": [
      "C1=CC=C2C(=C1)C=CC=C2S(=O)(=O)O\n"
     ]
    },
    {
     "name": "stderr",
     "output_type": "stream",
     "text": [
      " 13%|█▎        | 60/463 [11:41<1:45:53, 15.77s/it]"
     ]
    },
    {
     "name": "stdout",
     "output_type": "stream",
     "text": [
      "C1=CC(=CC(=C1)S(=O)(=O)O)[N+](=O)[O-]\n"
     ]
    },
    {
     "name": "stderr",
     "output_type": "stream",
     "text": [
      " 13%|█▎        | 61/463 [11:57<1:46:52, 15.95s/it]"
     ]
    },
    {
     "name": "stdout",
     "output_type": "stream",
     "text": [
      "C1=CC(=CC=C1S(=O)(=O)O)Cl\n"
     ]
    },
    {
     "name": "stderr",
     "output_type": "stream",
     "text": [
      " 13%|█▎        | 62/463 [12:14<1:47:32, 16.09s/it]"
     ]
    },
    {
     "name": "stdout",
     "output_type": "stream",
     "text": [
      "CC1=CC=C(C=C1)C(=O)NS(=O)(=O)C(F)(F)F\n"
     ]
    },
    {
     "name": "stderr",
     "output_type": "stream",
     "text": [
      " 14%|█▍        | 64/463 [12:40<1:38:06, 14.75s/it]"
     ]
    },
    {
     "name": "stdout",
     "output_type": "stream",
     "text": [
      "C1=CC(=CC=C1C(=O)NS(=O)(=O)C(F)(F)F)[N+](=O)[O-]\n"
     ]
    },
    {
     "name": "stderr",
     "output_type": "stream",
     "text": [
      " 17%|█▋        | 78/463 [14:27<56:19,  8.78s/it]  "
     ]
    },
    {
     "name": "stdout",
     "output_type": "stream",
     "text": [
      "C1=CC=C(C=C1)S(=O)(=O)NS(=O)(=O)C2=CC=CC=C2\n"
     ]
    },
    {
     "name": "stderr",
     "output_type": "stream",
     "text": [
      " 17%|█▋        | 79/463 [14:44<1:12:28, 11.32s/it]"
     ]
    },
    {
     "name": "stdout",
     "output_type": "stream",
     "text": [
      "C1=CC(=CC=C1S(=O)(=O)NS(=O)(=O)C2=CC=C(C=C2)Cl)Cl\n"
     ]
    },
    {
     "name": "stderr",
     "output_type": "stream",
     "text": [
      " 17%|█▋        | 80/463 [15:01<1:23:31, 13.08s/it]"
     ]
    },
    {
     "name": "stdout",
     "output_type": "stream",
     "text": [
      "CC1=CC=C(C=C1)S(=O)(=O)NS(=O)(=O)C2=CC=C(C=C2)C\n"
     ]
    },
    {
     "name": "stderr",
     "output_type": "stream",
     "text": [
      " 19%|█▉        | 89/463 [15:59<54:45,  8.78s/it]  "
     ]
    },
    {
     "name": "stdout",
     "output_type": "stream",
     "text": [
      "C1=CC(=CC(=C1)S(=O)(=O)NS(=O)(=O)C2=CC=C(C=C2)Cl)[N+](=O)[O-]\n"
     ]
    },
    {
     "name": "stderr",
     "output_type": "stream",
     "text": [
      " 19%|█▉        | 90/463 [16:16<1:10:20, 11.32s/it]"
     ]
    },
    {
     "name": "stdout",
     "output_type": "stream",
     "text": [
      "C1=CC=C(C=C1)NC2=C(C(=NC(=C2F)F)F)F\n"
     ]
    },
    {
     "name": "stderr",
     "output_type": "stream",
     "text": [
      " 20%|██        | 94/463 [16:49<1:01:58, 10.08s/it]"
     ]
    },
    {
     "name": "stdout",
     "output_type": "stream",
     "text": [
      "C([N+](=O)[O-])([N+](=O)[O-])[N+](=O)[O-]\n"
     ]
    },
    {
     "name": "stderr",
     "output_type": "stream",
     "text": [
      " 21%|██        | 95/463 [17:06<1:13:52, 12.04s/it]"
     ]
    },
    {
     "name": "stdout",
     "output_type": "stream",
     "text": [
      "CC(C)(C)C(C1=CC=C(C=C1)[N+](=O)[O-])[N+](=O)[O-]\n"
     ]
    },
    {
     "name": "stderr",
     "output_type": "stream",
     "text": [
      " 22%|██▏       | 100/463 [17:42<56:45,  9.38s/it] "
     ]
    },
    {
     "name": "stdout",
     "output_type": "stream",
     "text": [
      "C1=CC=C2C(=C1)C(C3=CC=CC=C32)C#N\n"
     ]
    },
    {
     "name": "stderr",
     "output_type": "stream",
     "text": [
      " 22%|██▏       | 104/463 [18:14<56:23,  9.43s/it]"
     ]
    },
    {
     "name": "stdout",
     "output_type": "stream",
     "text": [
      "CC1=C(C(=C(C(=C1C#N)C#N)C#N)C#N)C#N\n"
     ]
    },
    {
     "name": "stderr",
     "output_type": "stream",
     "text": [
      " 23%|██▎       | 105/463 [18:31<1:08:56, 11.56s/it]"
     ]
    },
    {
     "name": "stdout",
     "output_type": "stream",
     "text": [
      "CC1=C(C=C(C=C1[N+](=O)[O-])[N+](=O)[O-])[N+](=O)[O-]\n"
     ]
    },
    {
     "name": "stderr",
     "output_type": "stream",
     "text": [
      " 23%|██▎       | 106/463 [18:47<1:18:17, 13.16s/it]"
     ]
    },
    {
     "name": "stdout",
     "output_type": "stream",
     "text": [
      "C1=CC(=CC=C1CC#N)[N+](=O)[O-]\n"
     ]
    },
    {
     "name": "stderr",
     "output_type": "stream",
     "text": [
      " 24%|██▍       | 110/463 [19:19<59:56, 10.19s/it]  "
     ]
    },
    {
     "name": "stdout",
     "output_type": "stream",
     "text": [
      "C1=CC(=CC=C1C(C#N)C2=CC=C(C=C2)[N+](=O)[O-])[N+](=O)[O-]\n"
     ]
    },
    {
     "name": "stderr",
     "output_type": "stream",
     "text": [
      " 24%|██▍       | 112/463 [19:41<1:04:20, 11.00s/it]"
     ]
    },
    {
     "name": "stdout",
     "output_type": "stream",
     "text": [
      "C1=CC(=CC=C1C[N+](=O)[O-])[N+](=O)[O-]\n"
     ]
    },
    {
     "name": "stderr",
     "output_type": "stream",
     "text": [
      " 24%|██▍       | 113/463 [19:58<1:14:37, 12.79s/it]"
     ]
    },
    {
     "name": "stdout",
     "output_type": "stream",
     "text": [
      "C1=CC=C(C(=C1)C(=O)O)C(=O)O\n"
     ]
    },
    {
     "name": "stderr",
     "output_type": "stream",
     "text": [
      " 25%|██▍       | 115/463 [20:20<1:11:40, 12.36s/it]"
     ]
    },
    {
     "name": "stdout",
     "output_type": "stream",
     "text": [
      "C1=CC(=C(C=C1C(F)(F)F)CO)C(F)(F)F\n"
     ]
    },
    {
     "name": "stderr",
     "output_type": "stream",
     "text": [
      " 25%|██▌       | 116/463 [20:36<1:18:55, 13.65s/it]"
     ]
    },
    {
     "name": "stdout",
     "output_type": "stream",
     "text": [
      "C(C(=O)O)C(=O)O\n"
     ]
    },
    {
     "name": "stderr",
     "output_type": "stream",
     "text": [
      " 25%|██▌       | 117/463 [20:53<1:24:21, 14.63s/it]"
     ]
    },
    {
     "name": "stdout",
     "output_type": "stream",
     "text": [
      "C1=CC=C(C=C1)C(C2=CC=CC=C2F)O\n"
     ]
    },
    {
     "name": "stderr",
     "output_type": "stream",
     "text": [
      " 26%|██▌       | 119/463 [21:15<1:15:49, 13.23s/it]"
     ]
    },
    {
     "name": "stdout",
     "output_type": "stream",
     "text": [
      "C(C(=O)O)(C(=O)O)O\n"
     ]
    },
    {
     "name": "stderr",
     "output_type": "stream",
     "text": [
      " 26%|██▌       | 120/463 [21:31<1:20:52, 14.15s/it]"
     ]
    },
    {
     "name": "stdout",
     "output_type": "stream",
     "text": [
      "C1=CC(=C(C(=C1)O)C(=O)O)O\n"
     ]
    },
    {
     "name": "stderr",
     "output_type": "stream",
     "text": [
      " 26%|██▌       | 121/463 [21:48<1:25:15, 14.96s/it]"
     ]
    },
    {
     "name": "stdout",
     "output_type": "stream",
     "text": [
      "[O-]Cl(=O)(=O)=O.[O-]Cl(=O)(=O)=O.[O-]Cl(=O)(=O)=O.[In+3]\n"
     ]
    },
    {
     "name": "stderr",
     "output_type": "stream",
     "text": [
      " 27%|██▋       | 123/463 [22:10<1:14:59, 13.23s/it]"
     ]
    },
    {
     "name": "stdout",
     "output_type": "stream",
     "text": [
      "C1(=C(C(=C2C(=C1S2)[N+](=O)[O-])[N+](=O)[O-])O)[N+](=O)[O-]\n"
     ]
    },
    {
     "name": "stderr",
     "output_type": "stream",
     "text": [
      " 27%|██▋       | 124/463 [22:26<1:20:34, 14.26s/it]"
     ]
    },
    {
     "name": "stdout",
     "output_type": "stream",
     "text": [
      "C1=CC=C(C(=C1)O)S\n"
     ]
    },
    {
     "name": "stderr",
     "output_type": "stream",
     "text": [
      " 27%|██▋       | 125/463 [22:43<1:23:46, 14.87s/it]"
     ]
    },
    {
     "name": "stdout",
     "output_type": "stream",
     "text": [
      "CC(CC([N+](=O)[O-])[N+](=O)[O-])([N+](=O)[O-])[N+](=O)[O-]\n"
     ]
    },
    {
     "name": "stderr",
     "output_type": "stream",
     "text": [
      " 27%|██▋       | 126/463 [22:59<1:25:58, 15.31s/it]"
     ]
    },
    {
     "name": "stdout",
     "output_type": "stream",
     "text": [
      "C1(=C(C(=C(C(=C1C(F)(F)F)C(F)(F)F)N)C(F)(F)F)C(F)(F)F)C(F)(F)F\n"
     ]
    },
    {
     "name": "stderr",
     "output_type": "stream",
     "text": [
      " 27%|██▋       | 127/463 [23:15<1:27:36, 15.64s/it]"
     ]
    },
    {
     "name": "stdout",
     "output_type": "stream",
     "text": [
      "C1=C(C=C2C(=C1[N+](=O)[O-])NC3=C(C=C(C=C3O2)[N+](=O)[O-])[N+](=O)[O-])[N+](=O)[O-]\n"
     ]
    },
    {
     "name": "stderr",
     "output_type": "stream",
     "text": [
      " 28%|██▊       | 128/463 [23:32<1:28:45, 15.90s/it]"
     ]
    },
    {
     "name": "stdout",
     "output_type": "stream",
     "text": [
      "C1=CC2=C(C=C1[N+](=O)[O-])OC3=CC(=CC(=C3N2)[N+](=O)[O-])[N+](=O)[O-]\n"
     ]
    },
    {
     "name": "stderr",
     "output_type": "stream",
     "text": [
      " 28%|██▊       | 130/463 [23:55<1:18:11, 14.09s/it]"
     ]
    },
    {
     "name": "stdout",
     "output_type": "stream",
     "text": [
      "C1=CC=C2C(=C1)NC3=C(C=C(C=C3O2)[N+](=O)[O-])[N+](=O)[O-]\n"
     ]
    },
    {
     "name": "stderr",
     "output_type": "stream",
     "text": [
      " 29%|██▊       | 133/463 [24:21<1:03:11, 11.49s/it]"
     ]
    },
    {
     "name": "stdout",
     "output_type": "stream",
     "text": [
      "C1=CC=C2C(=C1)N(C3=C(C=CC=C3O2)[N+](=O)[O-])C4=CC=CC=C4Br\n"
     ]
    },
    {
     "name": "stderr",
     "output_type": "stream",
     "text": [
      " 29%|██▉       | 135/463 [24:44<1:04:53, 11.87s/it]"
     ]
    },
    {
     "name": "stdout",
     "output_type": "stream",
     "text": [
      "C1=CC=C2C(=C1)NC3=C(O2)C=C(C=C3)[N+](=O)[O-]\n"
     ]
    },
    {
     "name": "stderr",
     "output_type": "stream",
     "text": [
      " 29%|██▉       | 136/463 [25:00<1:11:54, 13.19s/it]"
     ]
    },
    {
     "name": "stdout",
     "output_type": "stream",
     "text": [
      "C1=CC(=C(C=C1S(=O)(=O)N)Cl)Cl\n"
     ]
    },
    {
     "name": "stderr",
     "output_type": "stream",
     "text": [
      " 30%|██▉       | 137/463 [25:17<1:17:23, 14.24s/it]"
     ]
    },
    {
     "name": "stdout",
     "output_type": "stream",
     "text": [
      "CC1=CC=C(C=C1)S(=O)(=O)N\n"
     ]
    },
    {
     "name": "stderr",
     "output_type": "stream",
     "text": [
      " 30%|██▉       | 138/463 [25:34<1:21:36, 15.07s/it]"
     ]
    },
    {
     "name": "stdout",
     "output_type": "stream",
     "text": [
      "C1=CC=C(C=C1)S(=O)(=O)N\n"
     ]
    },
    {
     "name": "stderr",
     "output_type": "stream",
     "text": [
      " 30%|███       | 139/463 [25:50<1:23:39, 15.49s/it]"
     ]
    },
    {
     "name": "stdout",
     "output_type": "stream",
     "text": [
      "C#CCC1=C(C=CC=C1Cl)S(=O)(=O)N\n"
     ]
    },
    {
     "name": "stderr",
     "output_type": "stream",
     "text": [
      " 30%|███       | 141/463 [26:12<1:12:38, 13.54s/it]"
     ]
    },
    {
     "name": "stdout",
     "output_type": "stream",
     "text": [
      "CN(C)S(=O)(=O)C1=CC=CC(=C1)OC\n"
     ]
    },
    {
     "name": "stderr",
     "output_type": "stream",
     "text": [
      " 31%|███       | 142/463 [26:28<1:17:09, 14.42s/it]"
     ]
    },
    {
     "name": "stdout",
     "output_type": "stream",
     "text": [
      "C1=CC(=CC(=C1)S(=O)(=O)N)[N+](=O)[O-]\n"
     ]
    },
    {
     "name": "stderr",
     "output_type": "stream",
     "text": [
      " 31%|███       | 143/463 [26:45<1:20:00, 15.00s/it]"
     ]
    },
    {
     "name": "stdout",
     "output_type": "stream",
     "text": [
      "CC1=CC(=CC=C1)S(=O)(=O)N\n"
     ]
    },
    {
     "name": "stderr",
     "output_type": "stream",
     "text": [
      " 31%|███       | 144/463 [27:01<1:22:39, 15.55s/it]"
     ]
    },
    {
     "name": "stdout",
     "output_type": "stream",
     "text": [
      "C1=CC(=CC(=C1)S(=O)(=O)N)C(F)(F)F\n"
     ]
    },
    {
     "name": "stderr",
     "output_type": "stream",
     "text": [
      " 32%|███▏      | 147/463 [27:29<1:04:12, 12.19s/it]"
     ]
    },
    {
     "name": "stdout",
     "output_type": "stream",
     "text": [
      "C1=CC(=CC=C1F)S(=O)(=O)N\n"
     ]
    },
    {
     "name": "stderr",
     "output_type": "stream",
     "text": [
      " 32%|███▏      | 148/463 [27:47<1:13:47, 14.06s/it]"
     ]
    },
    {
     "name": "stdout",
     "output_type": "stream",
     "text": [
      "COC1=CC=C(C=C1)S(=O)(=O)N\n"
     ]
    },
    {
     "name": "stderr",
     "output_type": "stream",
     "text": [
      " 32%|███▏      | 149/463 [28:04<1:18:01, 14.91s/it]"
     ]
    },
    {
     "name": "stdout",
     "output_type": "stream",
     "text": [
      "C1=CC(=CC=C1[N+](=O)[O-])S(=O)(=O)N\n"
     ]
    },
    {
     "name": "stderr",
     "output_type": "stream",
     "text": [
      " 32%|███▏      | 150/463 [28:21<1:20:43, 15.48s/it]"
     ]
    },
    {
     "name": "stdout",
     "output_type": "stream",
     "text": [
      "C1=CC(=CC=C1C(=O)O)Br\n"
     ]
    },
    {
     "name": "stderr",
     "output_type": "stream",
     "text": [
      " 33%|███▎      | 151/463 [28:39<1:24:38, 16.28s/it]"
     ]
    },
    {
     "name": "stdout",
     "output_type": "stream",
     "text": [
      "C1=CC(=CC=C1C(=O)O)O\n"
     ]
    },
    {
     "name": "stderr",
     "output_type": "stream",
     "text": [
      " 33%|███▎      | 152/463 [28:56<1:25:14, 16.45s/it]"
     ]
    },
    {
     "name": "stdout",
     "output_type": "stream",
     "text": [
      "C(COC(=O)CCl)CBr\n"
     ]
    },
    {
     "name": "stderr",
     "output_type": "stream",
     "text": [
      " 33%|███▎      | 153/463 [29:12<1:24:40, 16.39s/it]"
     ]
    },
    {
     "name": "stdout",
     "output_type": "stream",
     "text": [
      "C(C#N)C(=O)O\n"
     ]
    },
    {
     "name": "stderr",
     "output_type": "stream",
     "text": [
      " 33%|███▎      | 154/463 [29:29<1:24:28, 16.40s/it]"
     ]
    },
    {
     "name": "stdout",
     "output_type": "stream",
     "text": [
      "B1(OC(C(O1)(C)C)(C)C)C2=C(C=CC(=C2)C(=O)OC)C\n"
     ]
    },
    {
     "name": "stderr",
     "output_type": "stream",
     "text": [
      " 33%|███▎      | 155/463 [29:45<1:24:17, 16.42s/it]"
     ]
    },
    {
     "name": "stdout",
     "output_type": "stream",
     "text": [
      "C1=NNC(=C1Br)C(=O)O\n"
     ]
    },
    {
     "name": "stderr",
     "output_type": "stream",
     "text": [
      " 34%|███▎      | 156/463 [30:04<1:28:35, 17.32s/it]"
     ]
    },
    {
     "name": "stdout",
     "output_type": "stream",
     "text": [
      "C(=O)(C(=O)O)O\n"
     ]
    },
    {
     "name": "stderr",
     "output_type": "stream",
     "text": [
      " 34%|███▍      | 157/463 [30:21<1:26:35, 16.98s/it]"
     ]
    },
    {
     "name": "stdout",
     "output_type": "stream",
     "text": [
      "CCCC1=CC=C(C=C1)Cl\n"
     ]
    },
    {
     "name": "stderr",
     "output_type": "stream",
     "text": [
      " 34%|███▍      | 158/463 [30:37<1:25:52, 16.89s/it]"
     ]
    },
    {
     "name": "stdout",
     "output_type": "stream",
     "text": [
      "C(OCF)F\n"
     ]
    },
    {
     "name": "stderr",
     "output_type": "stream",
     "text": [
      " 34%|███▍      | 159/463 [30:54<1:24:57, 16.77s/it]"
     ]
    },
    {
     "name": "stdout",
     "output_type": "stream",
     "text": [
      "C(=O)(C(F)(F)F)O\n"
     ]
    },
    {
     "name": "stderr",
     "output_type": "stream",
     "text": [
      " 35%|███▍      | 160/463 [31:10<1:24:05, 16.65s/it]"
     ]
    },
    {
     "name": "stdout",
     "output_type": "stream",
     "text": [
      "C1CCN(C1)CC2C(CCCN2)C3=CC=CC=C3\n"
     ]
    },
    {
     "name": "stderr",
     "output_type": "stream",
     "text": [
      " 35%|███▍      | 161/463 [31:27<1:24:32, 16.79s/it]"
     ]
    },
    {
     "name": "stdout",
     "output_type": "stream",
     "text": [
      "CC(C)(C)OC(=O)C1=CC=C(C=C1)C(=O)O\n"
     ]
    },
    {
     "name": "stderr",
     "output_type": "stream",
     "text": [
      " 35%|███▍      | 162/463 [31:45<1:25:20, 17.01s/it]"
     ]
    },
    {
     "name": "stdout",
     "output_type": "stream",
     "text": [
      "C1=CC2=C(C(=C1)C(=O)O)C(=CC=C2)C(=O)O\n"
     ]
    },
    {
     "name": "stderr",
     "output_type": "stream",
     "text": [
      " 35%|███▌      | 164/463 [32:10<1:15:11, 15.09s/it]"
     ]
    },
    {
     "name": "stdout",
     "output_type": "stream",
     "text": [
      "CC1=CC(=C(C(=C1)C)C(=O)O)C\n"
     ]
    },
    {
     "name": "stderr",
     "output_type": "stream",
     "text": [
      " 36%|███▌      | 166/463 [32:36<1:10:21, 14.21s/it]"
     ]
    },
    {
     "name": "stdout",
     "output_type": "stream",
     "text": [
      "C1=C(C(=CC(=C1Cl)[N+](=O)[O-])[N+](=O)[O-])C(=O)O\n"
     ]
    },
    {
     "name": "stderr",
     "output_type": "stream",
     "text": [
      " 36%|███▋      | 168/463 [32:57<1:03:29, 12.91s/it]"
     ]
    },
    {
     "name": "stdout",
     "output_type": "stream",
     "text": [
      "C1=CC(=C(C(=C1)Cl)C(=O)O)Cl\n"
     ]
    },
    {
     "name": "stderr",
     "output_type": "stream",
     "text": [
      " 37%|███▋      | 169/463 [33:15<1:09:50, 14.25s/it]"
     ]
    },
    {
     "name": "stdout",
     "output_type": "stream",
     "text": [
      "C1=CC(=C(C(=C1)[N+](=O)[O-])C(=O)O)[N+](=O)[O-]\n"
     ]
    },
    {
     "name": "stderr",
     "output_type": "stream",
     "text": [
      " 37%|███▋      | 171/463 [33:43<1:11:46, 14.75s/it]"
     ]
    },
    {
     "name": "stdout",
     "output_type": "stream",
     "text": [
      "CC(C)(C)OC(=O)N1CCN(CC1)C(C2=CC(=CC=C2)Cl)C(=O)O.Cl\n"
     ]
    },
    {
     "name": "stderr",
     "output_type": "stream",
     "text": [
      " 37%|███▋      | 173/463 [34:05<1:04:07, 13.27s/it]"
     ]
    },
    {
     "name": "stdout",
     "output_type": "stream",
     "text": [
      "C1=C(C=C(C(=C1C(=O)O)N)Cl)Cl\n"
     ]
    },
    {
     "name": "stderr",
     "output_type": "stream",
     "text": [
      " 38%|███▊      | 174/463 [34:22<1:08:32, 14.23s/it]"
     ]
    },
    {
     "name": "stdout",
     "output_type": "stream",
     "text": [
      "CC1=CC2=C(C=C1)N=CN=C2Cl\n"
     ]
    },
    {
     "name": "stderr",
     "output_type": "stream",
     "text": [
      " 38%|███▊      | 175/463 [34:38<1:11:35, 14.92s/it]"
     ]
    },
    {
     "name": "stdout",
     "output_type": "stream",
     "text": [
      "C1=CC(=CC(=C1)Br)C(=O)O\n"
     ]
    },
    {
     "name": "stderr",
     "output_type": "stream",
     "text": [
      " 38%|███▊      | 176/463 [34:54<1:13:14, 15.31s/it]"
     ]
    },
    {
     "name": "stdout",
     "output_type": "stream",
     "text": [
      "CCN1C(=NC(=C1I)[N+](=O)[O-])C\n"
     ]
    },
    {
     "name": "stderr",
     "output_type": "stream",
     "text": [
      " 38%|███▊      | 177/463 [35:11<1:14:36, 15.65s/it]"
     ]
    },
    {
     "name": "stdout",
     "output_type": "stream",
     "text": [
      "CCN1C(=NC(=C1I)[N+](=O)[O-])C\n"
     ]
    },
    {
     "name": "stderr",
     "output_type": "stream",
     "text": [
      " 39%|███▊      | 179/463 [35:45<1:17:08, 16.30s/it]"
     ]
    },
    {
     "name": "stdout",
     "output_type": "stream",
     "text": [
      "C1=CC(=CC=C1C(=O)O)[N+](=O)[O-]\n"
     ]
    },
    {
     "name": "stderr",
     "output_type": "stream",
     "text": [
      " 39%|███▉      | 180/463 [36:01<1:16:50, 16.29s/it]"
     ]
    },
    {
     "name": "stdout",
     "output_type": "stream",
     "text": [
      "CC12CCC3C(C1CC(C2O)O)CCC4=CC(=C(C=C34)O)O\n"
     ]
    },
    {
     "name": "stderr",
     "output_type": "stream",
     "text": [
      " 39%|███▉      | 181/463 [36:17<1:16:27, 16.27s/it]"
     ]
    },
    {
     "name": "stdout",
     "output_type": "stream",
     "text": [
      "CCCCCCCCCCCCCCSC(=NC)NC.I\n"
     ]
    },
    {
     "name": "stderr",
     "output_type": "stream",
     "text": [
      " 40%|███▉      | 183/463 [36:43<1:08:54, 14.77s/it]"
     ]
    },
    {
     "name": "stdout",
     "output_type": "stream",
     "text": [
      "CC1=C(N(C=N1)C(=O)OC(C)(C)C)C(C(=O)O)O\n"
     ]
    },
    {
     "name": "stderr",
     "output_type": "stream",
     "text": [
      " 40%|████      | 186/463 [37:14<57:32, 12.46s/it]  "
     ]
    },
    {
     "name": "stdout",
     "output_type": "stream",
     "text": [
      "CCCCC=C(CC(C(=O)O)N)C(=O)O\n"
     ]
    },
    {
     "name": "stderr",
     "output_type": "stream",
     "text": [
      " 40%|████      | 187/463 [37:30<1:02:48, 13.65s/it]"
     ]
    },
    {
     "name": "stdout",
     "output_type": "stream",
     "text": [
      "CC1=CC=CC=C1C(=O)OC(=O)C(C(C(=O)OC(=O)C2=CC=CC=C2C)O)O\n"
     ]
    },
    {
     "name": "stderr",
     "output_type": "stream",
     "text": [
      " 41%|████      | 188/463 [37:47<1:06:40, 14.55s/it]"
     ]
    },
    {
     "name": "stdout",
     "output_type": "stream",
     "text": [
      "[N+](=O)([O-])[O-].[N+](=O)([O-])[O-].[N+](=O)([O-])[O-].[Tb+3]\n"
     ]
    },
    {
     "name": "stderr",
     "output_type": "stream",
     "text": [
      " 60%|██████    | 278/463 [57:58<38:20, 12.44s/it]  "
     ]
    },
    {
     "name": "stdout",
     "output_type": "stream",
     "text": [
      "C1=CC=C2C(=C1)C(=O)NS2(=O)=O\n"
     ]
    },
    {
     "name": "stderr",
     "output_type": "stream",
     "text": [
      " 60%|██████    | 280/463 [58:20<37:05, 12.16s/it]"
     ]
    },
    {
     "name": "stdout",
     "output_type": "stream",
     "text": [
      "Cl\n"
     ]
    },
    {
     "name": "stderr",
     "output_type": "stream",
     "text": [
      " 61%|██████    | 281/463 [58:35<40:19, 13.30s/it]"
     ]
    },
    {
     "name": "stdout",
     "output_type": "stream",
     "text": [
      "Br\n"
     ]
    },
    {
     "name": "stderr",
     "output_type": "stream",
     "text": [
      " 61%|██████    | 282/463 [58:51<42:33, 14.11s/it]"
     ]
    },
    {
     "name": "stdout",
     "output_type": "stream",
     "text": [
      "I\n"
     ]
    },
    {
     "name": "stderr",
     "output_type": "stream",
     "text": [
      " 61%|██████    | 283/463 [59:08<44:13, 14.74s/it]"
     ]
    },
    {
     "name": "stdout",
     "output_type": "stream",
     "text": [
      "OCl(=O)(=O)=O\n"
     ]
    },
    {
     "name": "stderr",
     "output_type": "stream",
     "text": [
      " 61%|██████▏   | 284/463 [59:24<45:01, 15.09s/it]"
     ]
    },
    {
     "name": "stdout",
     "output_type": "stream",
     "text": [
      "C(F)(F)(F)S(=O)(=O)O\n"
     ]
    },
    {
     "name": "stderr",
     "output_type": "stream",
     "text": [
      " 62%|██████▏   | 285/463 [59:41<46:25, 15.65s/it]"
     ]
    },
    {
     "name": "stdout",
     "output_type": "stream",
     "text": [
      "CC(=O)O\n"
     ]
    },
    {
     "name": "stderr",
     "output_type": "stream",
     "text": [
      " 62%|██████▏   | 286/463 [59:57<47:11, 16.00s/it]"
     ]
    },
    {
     "name": "stdout",
     "output_type": "stream",
     "text": [
      "C1=CC=C(C=C1)C(=O)O\n"
     ]
    },
    {
     "name": "stderr",
     "output_type": "stream",
     "text": [
      " 62%|██████▏   | 288/463 [1:00:22<42:03, 14.42s/it]"
     ]
    },
    {
     "name": "stdout",
     "output_type": "stream",
     "text": [
      "[H-].CC(C)(C)S(=O)CCS(=O)C(C)(C)C.CC(C)(C1=CC=CC=N1)[O-].[Cl-].[Ir+3]\n"
     ]
    },
    {
     "name": "stderr",
     "output_type": "stream",
     "text": [
      " 63%|██████▎   | 291/463 [1:00:49<33:22, 11.64s/it]"
     ]
    },
    {
     "name": "stdout",
     "output_type": "stream",
     "text": [
      "C1=C(C=C(C(=C1[N+](=O)[O-])O)[N+](=O)[O-])[N+](=O)[O-]\n"
     ]
    },
    {
     "name": "stderr",
     "output_type": "stream",
     "text": [
      " 63%|██████▎   | 293/463 [1:01:10<32:33, 11.49s/it]"
     ]
    },
    {
     "name": "stdout",
     "output_type": "stream",
     "text": [
      "OCl(=O)(=O)=O\n"
     ]
    },
    {
     "name": "stderr",
     "output_type": "stream",
     "text": [
      " 63%|██████▎   | 294/463 [1:01:25<35:56, 12.76s/it]"
     ]
    },
    {
     "name": "stdout",
     "output_type": "stream",
     "text": [
      "C(F)(F)(F)S(=O)(=O)O\n"
     ]
    },
    {
     "name": "stderr",
     "output_type": "stream",
     "text": [
      " 64%|██████▎   | 295/463 [1:01:43<39:32, 14.12s/it]"
     ]
    },
    {
     "name": "stdout",
     "output_type": "stream",
     "text": [
      "CC(=O)O\n"
     ]
    },
    {
     "name": "stderr",
     "output_type": "stream",
     "text": [
      " 64%|██████▍   | 296/463 [1:02:00<41:37, 14.96s/it]"
     ]
    },
    {
     "name": "stdout",
     "output_type": "stream",
     "text": [
      "C1=CC=C(C=C1)C(=O)O\n"
     ]
    },
    {
     "name": "stderr",
     "output_type": "stream",
     "text": [
      " 64%|██████▍   | 298/463 [1:02:24<38:01, 13.83s/it]"
     ]
    },
    {
     "name": "stdout",
     "output_type": "stream",
     "text": [
      "[H-].CC(C)(C)S(=O)CCS(=O)C(C)(C)C.CC(C)(C1=CC=CC=N1)[O-].[Cl-].[Ir+3]\n"
     ]
    },
    {
     "name": "stderr",
     "output_type": "stream",
     "text": [
      " 65%|██████▍   | 299/463 [1:02:40<39:28, 14.44s/it]"
     ]
    },
    {
     "name": "stdout",
     "output_type": "stream",
     "text": [
      "C1CCC2=[N+](CC1)CCCN2.C(=O)[O-]\n"
     ]
    },
    {
     "name": "stderr",
     "output_type": "stream",
     "text": [
      " 68%|██████▊   | 314/463 [1:04:07<20:25,  8.22s/it]"
     ]
    },
    {
     "name": "stdout",
     "output_type": "stream",
     "text": [
      "C1=CC2=C(C3=C(C=C2)C=CC4=C3N=CC=C4)N=C1\n"
     ]
    },
    {
     "name": "stderr",
     "output_type": "stream",
     "text": [
      " 69%|██████▊   | 318/463 [1:04:38<21:48,  9.02s/it]"
     ]
    },
    {
     "name": "stdout",
     "output_type": "stream",
     "text": [
      "C1=CN=CN1\n"
     ]
    },
    {
     "name": "stderr",
     "output_type": "stream",
     "text": [
      " 70%|██████▉   | 324/463 [1:05:21<20:40,  8.92s/it]"
     ]
    },
    {
     "name": "stdout",
     "output_type": "stream",
     "text": [
      "C1=CC2=C(C3=C(C=CC=N3)C=C2)N=C1\n"
     ]
    },
    {
     "name": "stderr",
     "output_type": "stream",
     "text": [
      " 70%|███████   | 325/463 [1:05:38<25:42, 11.18s/it]"
     ]
    },
    {
     "name": "stdout",
     "output_type": "stream",
     "text": [
      "C1=CC=C2C(=C1)NC=N2\n"
     ]
    },
    {
     "name": "stderr",
     "output_type": "stream",
     "text": [
      " 71%|███████   | 327/463 [1:05:59<25:56, 11.44s/it]"
     ]
    },
    {
     "name": "stdout",
     "output_type": "stream",
     "text": [
      "C1=CC=C2C=NC=CC2=C1\n"
     ]
    },
    {
     "name": "stderr",
     "output_type": "stream",
     "text": [
      " 71%|███████   | 328/463 [1:06:16<29:30, 13.12s/it]"
     ]
    },
    {
     "name": "stdout",
     "output_type": "stream",
     "text": [
      "C1=CC=C2C(=C1)C=C3C=CC=CC3=N2\n"
     ]
    },
    {
     "name": "stderr",
     "output_type": "stream",
     "text": [
      " 71%|███████▏  | 330/463 [1:06:50<33:00, 14.89s/it]"
     ]
    },
    {
     "name": "stdout",
     "output_type": "stream",
     "text": [
      "C1=CC=C2C(=C1)NC(=N2)C3=CSC=N3\n"
     ]
    },
    {
     "name": "stderr",
     "output_type": "stream",
     "text": [
      " 72%|███████▏  | 334/463 [1:07:49<33:24, 15.54s/it]"
     ]
    },
    {
     "name": "stdout",
     "output_type": "stream",
     "text": [
      "C1=CC=C2C(=C1)C=CC3=C2C=CC=N3\n"
     ]
    },
    {
     "name": "stderr",
     "output_type": "stream",
     "text": [
      " 73%|███████▎  | 337/463 [1:08:16<25:36, 12.19s/it]"
     ]
    },
    {
     "name": "stdout",
     "output_type": "stream",
     "text": [
      "C1=CC=C2C=NN=CC2=C1\n"
     ]
    },
    {
     "name": "stderr",
     "output_type": "stream",
     "text": [
      " 74%|███████▍  | 342/463 [1:09:05<23:10, 11.50s/it]"
     ]
    },
    {
     "name": "stdout",
     "output_type": "stream",
     "text": [
      "C1=CC=C2C(=C1)C=CN=N2\n"
     ]
    },
    {
     "name": "stderr",
     "output_type": "stream",
     "text": [
      " 74%|███████▍  | 344/463 [1:09:27<23:16, 11.74s/it]"
     ]
    },
    {
     "name": "stdout",
     "output_type": "stream",
     "text": [
      "C1=CC=NN=C1\n"
     ]
    },
    {
     "name": "stderr",
     "output_type": "stream",
     "text": [
      " 75%|███████▍  | 346/463 [1:09:49<23:07, 11.86s/it]"
     ]
    },
    {
     "name": "stdout",
     "output_type": "stream",
     "text": [
      "CC(=O)C.[C-]#[O+].C1=CC=C(C=C1)P(C2=CC=CC=C2)C3=CC=CC=C3.C1=CC=C2C(=C1)C=CC=C2[N+](=N[O-])[O-].[Rh]\n"
     ]
    },
    {
     "name": "stderr",
     "output_type": "stream",
     "text": [
      " 75%|███████▌  | 349/463 [1:10:16<20:51, 10.97s/it]"
     ]
    },
    {
     "name": "stdout",
     "output_type": "stream",
     "text": [
      "C1=CC=C2C(=C1)C=NC=N2\n"
     ]
    },
    {
     "name": "stderr",
     "output_type": "stream",
     "text": [
      " 76%|███████▌  | 350/463 [1:10:32<23:37, 12.55s/it]"
     ]
    },
    {
     "name": "stdout",
     "output_type": "stream",
     "text": [
      "C1=CNN=C1\n"
     ]
    },
    {
     "name": "stderr",
     "output_type": "stream",
     "text": [
      " 76%|███████▌  | 351/463 [1:10:50<26:22, 14.13s/it]"
     ]
    },
    {
     "name": "stdout",
     "output_type": "stream",
     "text": [
      "C1=CN=CN=C1\n"
     ]
    },
    {
     "name": "stderr",
     "output_type": "stream",
     "text": [
      " 76%|███████▋  | 354/463 [1:11:18<21:17, 11.72s/it]"
     ]
    },
    {
     "name": "stdout",
     "output_type": "stream",
     "text": [
      "C1=NNN=C1\n"
     ]
    },
    {
     "name": "stderr",
     "output_type": "stream",
     "text": [
      " 77%|███████▋  | 356/463 [1:11:39<20:46, 11.65s/it]"
     ]
    },
    {
     "name": "stdout",
     "output_type": "stream",
     "text": [
      "C1=CN=CC=N1\n"
     ]
    },
    {
     "name": "stderr",
     "output_type": "stream",
     "text": [
      " 78%|███████▊  | 359/463 [1:12:06<18:43, 10.80s/it]"
     ]
    },
    {
     "name": "stdout",
     "output_type": "stream",
     "text": [
      "C1=CC=C2C(=C1)C=NN2\n"
     ]
    },
    {
     "name": "stderr",
     "output_type": "stream",
     "text": [
      " 78%|███████▊  | 361/463 [1:12:40<23:47, 14.00s/it]"
     ]
    },
    {
     "name": "stdout",
     "output_type": "stream",
     "text": [
      "C1=CC=C2C(=C1)N=CC=N2\n"
     ]
    },
    {
     "name": "stderr",
     "output_type": "stream",
     "text": [
      " 78%|███████▊  | 362/463 [1:12:58<25:18, 15.04s/it]"
     ]
    },
    {
     "name": "stdout",
     "output_type": "stream",
     "text": [
      "C1=CC2=NNN=C2C=C1\n"
     ]
    },
    {
     "name": "stderr",
     "output_type": "stream",
     "text": [
      " 78%|███████▊  | 363/463 [1:13:14<25:54, 15.54s/it]"
     ]
    },
    {
     "name": "stdout",
     "output_type": "stream",
     "text": [
      "C1CN(C(=N1)NC#N)CC2=CN=C(C=C2)Cl\n"
     ]
    },
    {
     "name": "stderr",
     "output_type": "stream",
     "text": [
      " 79%|███████▉  | 368/463 [1:13:52<16:09, 10.20s/it]"
     ]
    },
    {
     "name": "stdout",
     "output_type": "stream",
     "text": [
      "C1=CC=C(C=C1)OCCCN2C=CN=C2[N+](=O)[O-]\n"
     ]
    },
    {
     "name": "stderr",
     "output_type": "stream",
     "text": [
      " 81%|████████  | 375/463 [1:14:39<12:58,  8.85s/it]"
     ]
    },
    {
     "name": "stdout",
     "output_type": "stream",
     "text": [
      "C1=CNC(=O)NC1=O\n"
     ]
    },
    {
     "name": "stderr",
     "output_type": "stream",
     "text": [
      " 81%|████████  | 376/463 [1:14:55<16:02, 11.06s/it]"
     ]
    },
    {
     "name": "stdout",
     "output_type": "stream",
     "text": [
      "CC1=CNC(=O)NC1=O\n"
     ]
    },
    {
     "name": "stderr",
     "output_type": "stream",
     "text": [
      " 82%|████████▏ | 378/463 [1:15:16<16:02, 11.33s/it]"
     ]
    },
    {
     "name": "stdout",
     "output_type": "stream",
     "text": [
      "C1=CC2=C(C3=C(C=C2)C=CC4=C3N=CC=C4)N=C1\n"
     ]
    },
    {
     "name": "stderr",
     "output_type": "stream",
     "text": [
      " 82%|████████▏ | 379/463 [1:15:34<18:21, 13.11s/it]"
     ]
    },
    {
     "name": "stdout",
     "output_type": "stream",
     "text": [
      "C1=CN=CN1\n"
     ]
    },
    {
     "name": "stderr",
     "output_type": "stream",
     "text": [
      " 82%|████████▏ | 380/463 [1:15:49<19:12, 13.88s/it]"
     ]
    },
    {
     "name": "stdout",
     "output_type": "stream",
     "text": [
      "C1=CC2=C(C3=C(C=CC=N3)C=C2)N=C1\n"
     ]
    },
    {
     "name": "stderr",
     "output_type": "stream",
     "text": [
      " 82%|████████▏ | 381/463 [1:16:05<19:48, 14.50s/it]"
     ]
    },
    {
     "name": "stdout",
     "output_type": "stream",
     "text": [
      "C1=CC=C2C(=C1)NC=N2\n"
     ]
    },
    {
     "name": "stderr",
     "output_type": "stream",
     "text": [
      " 83%|████████▎ | 382/463 [1:16:21<20:13, 14.98s/it]"
     ]
    },
    {
     "name": "stdout",
     "output_type": "stream",
     "text": [
      "C1=CC=C2C=NC=CC2=C1\n"
     ]
    },
    {
     "name": "stderr",
     "output_type": "stream",
     "text": [
      " 83%|████████▎ | 383/463 [1:16:38<20:25, 15.32s/it]"
     ]
    },
    {
     "name": "stdout",
     "output_type": "stream",
     "text": [
      "C1=CC=C2C(=C1)C=C3C=CC=CC3=N2\n"
     ]
    },
    {
     "name": "stderr",
     "output_type": "stream",
     "text": [
      " 83%|████████▎ | 384/463 [1:16:55<21:08, 16.05s/it]"
     ]
    },
    {
     "name": "stdout",
     "output_type": "stream",
     "text": [
      "C1=CC=NC=C1\n"
     ]
    },
    {
     "name": "stderr",
     "output_type": "stream",
     "text": [
      " 83%|████████▎ | 385/463 [1:17:12<21:01, 16.17s/it]"
     ]
    },
    {
     "name": "stdout",
     "output_type": "stream",
     "text": [
      "C1=CC=C2C(=C1)NC(=N2)C3=CSC=N3\n"
     ]
    },
    {
     "name": "stderr",
     "output_type": "stream",
     "text": [
      " 84%|████████▎ | 387/463 [1:17:37<18:33, 14.65s/it]"
     ]
    },
    {
     "name": "stdout",
     "output_type": "stream",
     "text": [
      "COC(=O)NC1=NC2=CC=CC=C2N1\n"
     ]
    },
    {
     "name": "stderr",
     "output_type": "stream",
     "text": [
      " 84%|████████▍ | 388/463 [1:17:54<19:04, 15.26s/it]"
     ]
    },
    {
     "name": "stdout",
     "output_type": "stream",
     "text": [
      "C1=CC=C2C(=C1)C=CC=N2\n"
     ]
    },
    {
     "name": "stderr",
     "output_type": "stream",
     "text": [
      "100%|██████████| 463/463 [1:27:59<00:00, 11.40s/it]\n"
     ]
    }
   ],
   "source": [
    "smiles = SMILES_scraper(molist)"
   ]
  },
  {
   "cell_type": "code",
   "execution_count": 300,
   "metadata": {},
   "outputs": [],
   "source": [
    "data['solute SMILES'] = smiles"
   ]
  },
  {
   "cell_type": "code",
   "execution_count": 230,
   "metadata": {},
   "outputs": [
    {
     "data": {
      "text/html": [
       "<div>\n",
       "<style scoped>\n",
       "    .dataframe tbody tr th:only-of-type {\n",
       "        vertical-align: middle;\n",
       "    }\n",
       "\n",
       "    .dataframe tbody tr th {\n",
       "        vertical-align: top;\n",
       "    }\n",
       "\n",
       "    .dataframe thead th {\n",
       "        text-align: right;\n",
       "    }\n",
       "</style>\n",
       "<table border=\"1\" class=\"dataframe\">\n",
       "  <thead>\n",
       "    <tr style=\"text-align: right;\">\n",
       "      <th></th>\n",
       "      <th>Unnamed: 0</th>\n",
       "      <th>solute</th>\n",
       "      <th>solute SMILES</th>\n",
       "      <th>solvent</th>\n",
       "      <th>solvent SMILES</th>\n",
       "      <th>pka</th>\n",
       "      <th>ref</th>\n",
       "    </tr>\n",
       "  </thead>\n",
       "  <tbody>\n",
       "    <tr>\n",
       "      <th>0</th>\n",
       "      <td>0</td>\n",
       "      <td>2340-87-6</td>\n",
       "      <td>CCOC(=O)C(C#N)C1=C(C(=C(C(=C1F)F)F)F)F</td>\n",
       "      <td>acetonitrile</td>\n",
       "      <td>CC#N</td>\n",
       "      <td>17.75</td>\n",
       "      <td>MeCN_Acids_COSMO-RS_2008_Table.pdf</td>\n",
       "    </tr>\n",
       "    <tr>\n",
       "      <th>1</th>\n",
       "      <td>1</td>\n",
       "      <td>32251-53-9</td>\n",
       "      <td>CCOC(=O)C(C#N)C1=C(C(=C(C(=C1F)F)C(F)(F)F)F)F</td>\n",
       "      <td>acetonitrile</td>\n",
       "      <td>CC#N</td>\n",
       "      <td>16.08</td>\n",
       "      <td>MeCN_Acids_COSMO-RS_2008_Table.pdf</td>\n",
       "    </tr>\n",
       "    <tr>\n",
       "      <th>2</th>\n",
       "      <td>2</td>\n",
       "      <td>33534-88-2</td>\n",
       "      <td>CC1=CC=C(C=C1)C(C#N)C#N</td>\n",
       "      <td>acetonitrile</td>\n",
       "      <td>CC#N</td>\n",
       "      <td>17.59</td>\n",
       "      <td>MeCN_Acids_COSMO-RS_2008_Table.pdf</td>\n",
       "    </tr>\n",
       "    <tr>\n",
       "      <th>3</th>\n",
       "      <td>3</td>\n",
       "      <td>42238-33-5</td>\n",
       "      <td>no matches</td>\n",
       "      <td>acetonitrile</td>\n",
       "      <td>CC#N</td>\n",
       "      <td>26.14</td>\n",
       "      <td>MeCN_Acids_COSMO-RS_2008_Table.pdf</td>\n",
       "    </tr>\n",
       "    <tr>\n",
       "      <th>4</th>\n",
       "      <td>4</td>\n",
       "      <td>42238-34-6</td>\n",
       "      <td>no matches</td>\n",
       "      <td>acetonitrile</td>\n",
       "      <td>CC#N</td>\n",
       "      <td>21.10</td>\n",
       "      <td>MeCN_Acids_COSMO-RS_2008_Table.pdf</td>\n",
       "    </tr>\n",
       "  </tbody>\n",
       "</table>\n",
       "</div>"
      ],
      "text/plain": [
       "   Unnamed: 0      solute                                  solute SMILES  \\\n",
       "0           0   2340-87-6         CCOC(=O)C(C#N)C1=C(C(=C(C(=C1F)F)F)F)F   \n",
       "1           1  32251-53-9  CCOC(=O)C(C#N)C1=C(C(=C(C(=C1F)F)C(F)(F)F)F)F   \n",
       "2           2  33534-88-2                        CC1=CC=C(C=C1)C(C#N)C#N   \n",
       "3           3  42238-33-5                                     no matches   \n",
       "4           4  42238-34-6                                     no matches   \n",
       "\n",
       "        solvent solvent SMILES    pka                                 ref  \n",
       "0  acetonitrile           CC#N  17.75  MeCN_Acids_COSMO-RS_2008_Table.pdf  \n",
       "1  acetonitrile           CC#N  16.08  MeCN_Acids_COSMO-RS_2008_Table.pdf  \n",
       "2  acetonitrile           CC#N  17.59  MeCN_Acids_COSMO-RS_2008_Table.pdf  \n",
       "3  acetonitrile           CC#N  26.14  MeCN_Acids_COSMO-RS_2008_Table.pdf  \n",
       "4  acetonitrile           CC#N  21.10  MeCN_Acids_COSMO-RS_2008_Table.pdf  "
      ]
     },
     "execution_count": 230,
     "metadata": {},
     "output_type": "execute_result"
    }
   ],
   "source": [
    "data.head()"
   ]
  },
  {
   "cell_type": "code",
   "execution_count": 302,
   "metadata": {},
   "outputs": [],
   "source": [
    "data['solute SMILES'] = smiles\n",
    "data.to_csv('data_csvs/pka_data_updated.csv')"
   ]
  },
  {
   "cell_type": "code",
   "execution_count": 297,
   "metadata": {},
   "outputs": [],
   "source": [
    "def SMILE_scraper(mol):\n",
    "    try:\n",
    "        #search query\n",
    "        browser.get(\"https://pubchem.ncbi.nlm.nih.gov/#query=\"+mol)\n",
    "        time.sleep(5)\n",
    "        #press first entry\n",
    "        try:\n",
    "            try:\n",
    "                first_result_button = browser.find_element_by_xpath(\"/html/body/div[1]/div/div/main/div[2]/div[1]/div/div[2]/div/div[1]/div[2]/div[1]/a\")\n",
    "            except:\n",
    "                try:\n",
    "                    first_result_button = browser.find_element_by_xpath(\"/html/body/div[1]/div/div/main/div[2]/div[2]/div[3]/div/div/div/div[2]/ul/li/div/div/div/div[2]/div[1]/a\")\n",
    "                except:\n",
    "                    first_result_button = browser.find_element_by_xpath(\"/html/body/div[1]/div/div/main/div[2]/div[2]/div[2]/div/div/div/div[2]/ul/li[1]/div/div/div[1]/div[2]/div[1]/a\")\n",
    "            first_result_button.click()\n",
    "        except:\n",
    "            return 'no matches'\n",
    "        time.sleep(2)\n",
    "        #find SMILES string\n",
    "        try:\n",
    "            SMILES_section = browser.find_element_by_id(\"Chemical-and-Physical-Properties\")\n",
    "            actions = ActionChains(browser)\n",
    "            actions.move_to_element(SMILES_section).perform()\n",
    "        except:\n",
    "            return 'no SMILES'\n",
    "        time.sleep(10)\n",
    "        SMILES_string = browser.find_element_by_xpath(\"/html/body/div[1]/div/main/div[2]/div/div/div[5]/section[2]/section[1]/section[4]/div[2]/div[1]/p\")\n",
    "        return SMILES_string.text\n",
    "    except:\n",
    "        return 'error in recall'"
   ]
  },
  {
   "cell_type": "code",
   "execution_count": 352,
   "metadata": {},
   "outputs": [],
   "source": [
    "data = pd.read_csv('data_csvs/pka_data_updated.csv')\n",
    "molist = data['solute'].tolist()\n",
    "smiles = data['solute SMILES'].tolist()"
   ]
  },
  {
   "cell_type": "code",
   "execution_count": 315,
   "metadata": {},
   "outputs": [
    {
     "data": {
      "text/plain": [
       "str"
      ]
     },
     "execution_count": 315,
     "metadata": {},
     "output_type": "execute_result"
    }
   ],
   "source": [
    "type(smiles[2])"
   ]
  },
  {
   "cell_type": "code",
   "execution_count": 324,
   "metadata": {},
   "outputs": [],
   "source": [
    "browser = webdriver.Chrome()\n",
    "browser.get(\"https://pubchem.ncbi.nlm.nih.gov\")"
   ]
  },
  {
   "cell_type": "code",
   "execution_count": 326,
   "metadata": {},
   "outputs": [
    {
     "name": "stdout",
     "output_type": "stream",
     "text": [
      "440 C6F5SO2NHSO2C6H3-3-NO2-4-Cl no matches\n",
      "458 4-Cl-C6H4SO(=NTf)NHSO2-C6H4-4-Cl no matches\n",
      "519 7-nitroIndole error in recall\n",
      "520 Indoxyl acetate error in recall\n",
      "521 Phenol error in recall\n",
      "523 4-cyano-2,3,5,6-tetrafluoroAniline CC(C)C1=C(C(=CC=C1)C(C)C)N=C(C)NC2=C(C(=C(C(=C2F)F)C#N)F)F\n",
      "524 pentakis(trifluoromethyl)Toluene no matches\n",
      "525 5-nitroIndole C1=CC2=C(C=CN2)C=C1[N+](=O)[O-]\n",
      "528 4-nitroIndole C1=CC2=C(C=CN2)C(=C1)[N+](=O)[O-]\n",
      "529 6-nitroIndole C1=CC(=CC2=C1C=CN2)[N+](=O)[O-]\n",
      "542 3-trifluoromethylPhenol C1=CC(=CC(=C1)O)C(F)(F)F\n",
      "546 4-nitroIndolocarbazole C1=CC=C2C(=C1)C3=CC=CC=C3N2N=O\n",
      "550 3-cyanoIndole C1=CC=C2C(=C1)C(=CN2)C#N\n",
      "554 4-trifluoromethylPhenol C1=CC(=CC=C1C(F)(F)F)O\n",
      "561 2-trifluoromethylPhenol C1=CC=C(C(=C1)C(F)(F)F)O\n",
      "564 pentakis(trifluoromethyl)Aniline C1(=C(C(=C(C(=C1C(F)(F)F)C(F)(F)F)N)C(F)(F)F)C(F)(F)F)C(F)(F)F\n",
      "575 2,4,6-trinitroAniline C1=C(C=C(C(=C1[N+](=O)[O-])N)[N+](=O)[O-])[N+](=O)[O-]\n",
      "576 3,5-bis(trifluoromethyl)Phenol C1=C(C=C(C=C1C(F)(F)F)O)C(F)(F)F\n",
      "577 2-nitroIndole CCOC(=O)N1C2=CC=CC=C2C=C1[N+](=O)[O-]\n",
      "579 Acetic acid error in recall\n",
      "582 Sorbic acid CC=CC=CC(=O)O\n",
      "584 2-nitroPhenol C1=CC=C(C(=C1)[N+](=O)[O-])O\n",
      "587 Retinoic acid CC1=C(C(CCC1)(C)C)C=CC(=CC=CC(=CC(=O)O)C)C\n",
      "588 3-nitroIndole C1=CC=C2C(=C1)C(=CN2)[N+](=O)[O-]\n",
      "592 Benzoic acid error in recall\n",
      "595 Alizarin C1=CC=C2C(=C1)C(=O)C3=C(C2=O)C(=C(C=C3)O)O\n",
      "599 (CF3)3COH C(C(F)(F)F)(C(F)(F)F)(C(F)(F)F)O\n",
      "602 2,4,6-tribromoPhenol C1=C(C=C(C(=C1Br)O)Br)Br\n",
      "603 pentacyanoToluene CC1=C(C(=C(C(=C1C#N)C#N)C#N)C#N)C#N\n",
      "605 2,3,5,6-tetrafluoroPhenol C1=C(C(=C(C(=C1F)F)O)F)F\n",
      "606 pentafluoroPhenol C1(=C(C(=C(C(=C1F)F)F)F)F)O\n",
      "621 pentachloroPhenol error in recall\n",
      "622 pentabromoPhenol C1(=C(C(=C(C(=C1Br)Br)Br)Br)Br)O\n",
      "630 2,6-dinitroPhenol C1=CC(=C(C(=C1)[N+](=O)[O-])O)[N+](=O)[O-]\n",
      "631 2,4-dinitroPhenol error in recall\n",
      "632 2,3,5,6-tetrafluoro-4-trifluoromethylPhenol C(C(C(F)(F)F)(Cl)Cl)(Cl)Cl\n",
      "634 4-fluoro-2,6-dinitroPhenol C1=C(C=C(C(=C1[N+](=O)[O-])O)[N+](=O)[O-])F\n",
      "642 Saccharin C1=CC=C2C(=C1)C(=O)NS2(=O)=O\n",
      "645 2-chloro-4,6-dinitroPhenol C1=C(C=C(C(=C1[N+](=O)[O-])O)Cl)[N+](=O)[O-]\n",
      "673 Picric acid C1=C(C=C(C(=C1[N+](=O)[O-])O)[N+](=O)[O-])[N+](=O)[O-]\n",
      "674 5-nitroBarbituric acid C1(C(=O)NC(=O)NC1=O)[N+](=O)[O-]\n",
      "680 HCl error in recall\n",
      "684 pentakis(trifluoromethyl)Thiophenol C1=CC(=CC(=C1)S)C(F)(F)F\n",
      "687 CH3SO3H CS(=O)(=O)O\n",
      "695 TosOH CC1=CC=C(C=C1)S(=O)(=O)O\n",
      "696 PhSO3H C=CCOC(=O)CCC(C(=O)OCC=C)N.C1=CC=C(C=C1)S(=O)(=O)O\n",
      "705 H2SO4 error in recall\n",
      "735 CH(CN)3 C1=CNC2=C1C(=NC=N2)Cl\n",
      "740 2,4,6-Tf3Phenol CC(C)(C)C1=CC(=CC=C1)O\n",
      "763 4855-02-1 C1=CC=C(C=C1)CS(=O)(=O)C(F)(F)F\n",
      "769 7210-08-4 C1=CC=C2C(=C1)N=C(O2)CC3=NC4=CC=CC=C4O3\n",
      "783 triazine 1 CSC1=NC2=NN=C(C(=O)N2N1)[N+](=O)[O-]\n",
      "789 (4-Me2N-C6F4)(C6F5)NH no matches\n",
      "859 Br4-CX-benzoic acid C1=CC(=CC=C1C(=O)O)Br\n",
      "882 2,3,4,5,6-(CF3)5-C6-CH(CN)COOEt no matches\n",
      "910 4-Cl-C6H4-CO-NH-Tf C1=CC(=CC=C1C(=O)O)S(=O)(=O)O\n",
      "923 2,3,4,5,6-(CF3)5-C6-CH(CN)2 C(C(F)(F)F)(Cl)Br\n",
      "929 4009-06-7 C1=CC(=CC=C1[N+](=O)[O-])S(=O)(=O)NS(=O)(=O)C2=CC=C(C=C2)[N+](=O)[O-]\n",
      "967 4-Cl-C6H4-SO2-NH-Tf no SMILES\n",
      "977 4-Cl-C6H4-SO(=NTf)-NH-SO2-C6H4-4-NO2 no matches\n",
      "1032 4855-02-1 C1=CC=C(C=C1)CS(=O)(=O)C(F)(F)F\n",
      "1044 (4-Me2N-C6F4)(C6F5)NH no matches\n",
      "1057 (4-Cl-C6F4)(C6F5)NH no matches\n",
      "1065 (4-NC5F4)(C6F5)NH no matches\n",
      "1079 4-Cl-C6F4-CH(CN)COOEt no matches\n",
      "1110 4-Cl-C6F4-CH(CN)COOEt no matches\n",
      "1116 2,3,4,5,6-(CF3)5-C6-CH(CN)COOEt no matches\n",
      "1125 2,3,4,5,6-(CF3)5-C6-CH(CN)2 C(C(F)(F)F)(Cl)Br\n",
      "1126 4009-06-7 C1=CC(=CC=C1[N+](=O)[O-])S(=O)(=O)NS(=O)(=O)C2=CC=C(C=C2)[N+](=O)[O-]\n",
      "1141 4-Cl-C6H4-SO(=NTf)-NH-SO2-C6H4-4-NO2 no matches\n"
     ]
    }
   ],
   "source": [
    "for i in range(len(smiles)):\n",
    "    if type(smiles[i]) == float:\n",
    "        smiles[i] = SMILE_scraper(molist[i])\n",
    "        print(i, molist[i], smiles[i])"
   ]
  },
  {
   "cell_type": "code",
   "execution_count": 274,
   "metadata": {},
   "outputs": [],
   "source": [
    "smiles[424] = 'CC1=CC=C(C=C1)S(=O)(=O)O'"
   ]
  },
  {
   "cell_type": "code",
   "execution_count": 237,
   "metadata": {},
   "outputs": [
    {
     "name": "stdout",
     "output_type": "stream",
     "text": [
      "Phthalic acid\n"
     ]
    }
   ],
   "source": [
    "stri = 'Phthalicacid'\n",
    "print(stri[:-4]+'%20acid')"
   ]
  },
  {
   "cell_type": "code",
   "execution_count": 322,
   "metadata": {},
   "outputs": [],
   "source": [
    "data['solute SMILES'] = smiles\n",
    "data.to_csv('data_csvs/pka_data_updated.csv')"
   ]
  },
  {
   "cell_type": "code",
   "execution_count": 276,
   "metadata": {},
   "outputs": [],
   "source": [
    "for i in range(len(smiles)):\n",
    "    if 'acid' in molist[i]:\n",
    "        if smiles[i] == 'no SMILES':\n",
    "            print(i)\n",
    "    else:\n",
    "        continue"
   ]
  },
  {
   "cell_type": "code",
   "execution_count": 273,
   "metadata": {},
   "outputs": [
    {
     "name": "stdout",
     "output_type": "stream",
     "text": [
      "(TosOH, TsOH)onicacid\n"
     ]
    }
   ],
   "source": [
    "print(molist[424])"
   ]
  },
  {
   "cell_type": "code",
   "execution_count": 363,
   "metadata": {},
   "outputs": [],
   "source": [
    "browser = webdriver.Chrome()\n",
    "browser.get(\"https://pubchem.ncbi.nlm.nih.gov\")"
   ]
  },
  {
   "cell_type": "code",
   "execution_count": 346,
   "metadata": {},
   "outputs": [],
   "source": [
    "##checking SMILES\n",
    "def SMILE_checker(mol):\n",
    "    try:\n",
    "        #search query\n",
    "        browser.get(\"https://pubchem.ncbi.nlm.nih.gov/#query=\"+mol)\n",
    "        time.sleep(5)\n",
    "        IUPAC = '-'\n",
    "        CAS = '-'\n",
    "        \n",
    "        #press first entry\n",
    "        try:\n",
    "            try:\n",
    "                first_result_button = browser.find_element_by_xpath(\"/html/body/div[1]/div/div/main/div[2]/div[1]/div/div[2]/div/div[1]/div[2]/div[1]/a\")\n",
    "            except:\n",
    "                try:\n",
    "                    first_result_button = browser.find_element_by_xpath(\"/html/body/div[1]/div/div/main/div[2]/div[2]/div[3]/div/div/div/div[2]/ul/li/div/div/div/div[2]/div[1]/a\")\n",
    "                except:\n",
    "                    first_result_button = browser.find_element_by_xpath(\"/html/body/div[1]/div/div/main/div[2]/div[2]/div[2]/div/div/div/div[2]/ul/li[1]/div/div/div[1]/div[2]/div[1]/a\")\n",
    "            first_result_button.click()\n",
    "        except:\n",
    "            pass\n",
    "        time.sleep(2)\n",
    "        \n",
    "        #find SMILES string\n",
    "        try:\n",
    "            SMILES_section = browser.find_element_by_id(\"Chemical-and-Physical-Properties\")\n",
    "            actions = ActionChains(browser)\n",
    "            actions.move_to_element(SMILES_section).perform()\n",
    "        except:\n",
    "            pass\n",
    "        time.sleep(10)\n",
    "        \n",
    "        IUPAC = browser.find_element_by_xpath(\"/html/body/div[1]/div/main/div[2]/div/div/div[5]/section[2]/section[1]/section[1]/div[2]/div[1]/p\").text\n",
    "#        SMILES = browser.find_element_by_xpath(\"/html/body/div[1]/div/main/div[2]/div/div/div[5]/section[2]/section[1]/section[4]/div[2]/div[1]/p\").text\n",
    "        CAS = browser.find_element_by_xpath(\"/html/body/div[1]/div/main/div[2]/div/div/div[5]/section[2]/section[3]/section[1]/div[2]/div[1]/p\").text\n",
    "        return IUPAC, CAS\n",
    "    except:\n",
    "        return IUPAC, CAS"
   ]
  },
  {
   "cell_type": "code",
   "execution_count": 353,
   "metadata": {},
   "outputs": [
    {
     "data": {
      "text/plain": [
       "'2340-87-6'"
      ]
     },
     "execution_count": 353,
     "metadata": {},
     "output_type": "execute_result"
    }
   ],
   "source": [
    "molist[0]\n",
    "iupaclist = ['-']*1163\n",
    "caslist = ['-']*1163"
   ]
  },
  {
   "cell_type": "code",
   "execution_count": 370,
   "metadata": {
    "collapsed": true,
    "jupyter": {
     "outputs_hidden": true
    },
    "tags": []
   },
   "outputs": [
    {
     "name": "stdout",
     "output_type": "stream",
     "text": [
      "291 2,4-dinitrophenol - C1=CC(=C(C=C1[N+](=O)[O-])[N+](=O)[O-])O -\n",
      "292 HClO4 7601-90-3 OCl(=O)(=O)=O perchloric acid\n",
      "293 Trifluoromethanesulfonic acid 1493-13-6 C(F)(F)(F)S(=O)(=O)O trifluoromethanesulfonic acid\n",
      "294 Acetic acid - CC(=O)O -\n",
      "295 Benzoic acid - C1=CC=C(C=C1)C(=O)O -\n",
      "296 Aniline-H+ 65756-50-5 C1=CC=C(C=C1)[N+] phenylazanium\n",
      "297 Pyridine-H+ 16969-45-2 C1=CC=[N+]C=C1 pyridin-1-ium\n",
      "298 DBU-H+ - C1CCC2=[N+](CC1)CCCN2 2,3,4,6,7,8,9,10-octahydro-1H-pyrimido[1,2-a]azepin-5-ium\n",
      "299 TBD-H+ - C1CNC2=[NH+]CCCN2C1 1,2,3,4,6,7,8,9-octahydropyrimido[1,2-a]pyrimidin-5-ium\n",
      "300 t-BuP1(dma)3-H+ - no matches -\n",
      "301 t-BuP1(pyrr)3-H+ - no matches -\n",
      "302 Et3N-H+ 17440-81-2 CC[N+](CC)CC triethylazanium\n",
      "303 TMG-H+ - CN(C)C(=[N+])N(C)C [amino(dimethylamino)methylidene]-dimethylazanium\n",
      "304 (2-C10F7)2CHCN - FC1=C(F)C2=C(C(=C1F)F)C(=C(C(C#N)C3=C(F)C4=C(F)C(=C(F)C(=C4C(=C3F)F)F)F)C(=C2F)F)F 2,2-bis(1,3,4,5,6,7,8-heptafluoronaphthalen-2-yl)acetonitrile\n",
      "305 (C6F5)2CHCN Bis(pentafluorophenyl)acetonitrile FC1=C(F)C(=C(C(C#N)C2=C(F)C(=C(F)C(=C2F)F)F)C(=C1F)F)F 2,2-bis(2,3,4,5,6-pentafluorophenyl)acetonitrile\n",
      "306 9-C6F5-Octafluorofluorene 63264-80-2 FC1=C(F)C(=C(C2C3=C(C(=C(F)C(=C3F)F)F)C4=C2C(=C(F)C(=C4F)F)F)C(=C1F)F)F 1,2,3,4,5,6,7,8-octafluoro-9-(2,3,4,5,6-pentafluorophenyl)-9H-fluorene\n",
      "307 (4-CF3-C6F4)(C6F5)CHCN - FC1=C(F)C(=C(C(C#N)C2=C(F)C(=C(C(=C2F)F)C(F)(F)F)F)C(=C1F)F)F 2-(2,3,4,5,6-pentafluorophenyl)-2-[2,3,5,6-tetrafluoro-4-(trifluoromethyl)phenyl]acetonitrile\n",
      "308 (C6F5)2CHCN Bis(pentafluorophenyl)acetonitrile FC1=C(F)C(=C(C(C#N)C2=C(F)C(=C(F)C(=C2F)F)F)C(=C1F)F)F 2,2-bis(2,3,4,5,6-pentafluorophenyl)acetonitrile\n",
      "309 9-C6F5-Octafluorofluorene 63264-80-2 FC1=C(F)C(=C(C2C3=C(C(=C(F)C(=C3F)F)F)C4=C2C(=C(F)C(=C4F)F)F)C(=C1F)F)F 1,2,3,4,5,6,7,8-octafluoro-9-(2,3,4,5,6-pentafluorophenyl)-9H-fluorene\n",
      "310 (4-CF3-C6F4)(C6F5)CHCN - FC1=C(F)C(=C(C(C#N)C2=C(F)C(=C(C(=C2F)F)C(F)(F)F)F)C(=C1F)F)F 2-(2,3,4,5,6-pentafluorophenyl)-2-[2,3,5,6-tetrafluoro-4-(trifluoromethyl)phenyl]acetonitrile\n",
      "311 (C6H5)(C6F5)CHCN 2-Phenyl-2-(pentafluorophenyl)acetonitrile FC1=C(F)C(=C(C(C#N)C2=CC=CC=C2)C(=C1F)F)F 2-(2,3,4,5,6-pentafluorophenyl)-2-phenylacetonitrile\n",
      "312 2-Cl-C7H4P1(pyrr) - no matches -\n",
      "313 Quino[7,8-h]quinoline - C1=CC2=C(C3=C(C=C2)C=CC4=C3N=CC=C4)N=C1 quinolino[7,8-h]quinoline\n",
      "314 2,5-Cl2-C6H3P1(pyrr) - no matches -\n",
      "315 4-NO2-C6H4P1(pyrr) - no matches -\n",
      "316 2,3-diaminopyridine 452-58-4 C1=CC(=C(N=C1)N)N pyridine-2,3-diamine\n",
      "317 Imidazole - C1=CN=CN1 -\n",
      "318 2,4-dinitroC6H3P1(pyrr) - no matches -\n",
      "319 2,6-diaminoPyridine 141-86-6 C1=CC(=NC(=C1)N)N pyridine-2,6-diamine\n",
      "320 2,6-Cl2-4-NO2-C6H2P1(pyrr) - no matches -\n",
      "321 2,6-Cl2-4-NO2-C6H2P1(pyrr) - no matches -\n",
      "322 2,6-NO2-C6H3P1(pyrr) - no matches -\n",
      "323 Phenanthroline 66-71-7 C1=CC2=C(C3=C(C=CC=N3)C=C2)N=C1 1,10-phenanthroline\n",
      "324 Benzimidazole - C1=CC=C2C(=C1)NC=N2 -\n",
      "325 2-methylpyridine - CC1=CC=CC=N1 -\n",
      "326 Isoquinoline 119-65-3 C1=CC=C2C=NC=CC2=C1 isoquinoline\n",
      "327 Acridine - C1=CC=C2C(=C1)C=C3C=CC=CC3=N2 -\n",
      "328 Pyridine - C1=CC=NC=C1 -\n",
      "329 Thiabendazole - C1=CC=C2C(=C1)NC(=N2)C3=CSC=N3 -\n",
      "330 2,2'-Bipyridine 366-18-7 C1=CC=NC(=C1)C2=CC=CC=N2 2-pyridin-2-ylpyridine\n",
      "331 Carbendazim - COC(=O)NC1=NC2=CC=CC=C2N1 -\n",
      "332 Quinoline - C1=CC=C2C(=C1)C=CC=N2 -\n",
      "333 5,6-Benzoquinoline 85-02-9 C1=CC=C2C(=C1)C=CC3=C2C=CC=N3 benzo[f]quinoline\n",
      "334 4-methoxyAniline - COC1=CC=C(C=C1)N -\n",
      "335 2-methyl-8-aminoquinoline 18978-78-4 CC1=NC2=C(C=CC=C2N)C=C1 2-methylquinolin-8-amine\n",
      "336 Phthalazine 253-52-1 C1=CC=C2C=NN=CC2=C1 phthalazine\n",
      "337 N,N-dimethylAniline - CN(C)C1=CC=CC=C1 -\n",
      "338 2,2'-Biquinoline 1245-13-2 C1=CC=C2C(=C1)C(=CC(=N2)C3=NC4=CC=CC=C4C(=C3)C(=O)O)C(=O)O 2-(4-carboxyquinolin-2-yl)quinoline-4-carboxylic acid\n",
      "339 7,8-Benzoquinoline 230-27-3 C1=CC=C2C(=C1)C=CC3=C2N=CC=C3 benzo[h]quinoline\n",
      "340 Aniline - C1=CC=C(C=C1)N -\n",
      "341 Cinnoline 253-66-7 C1=CC=C2C(=C1)C=CN=N2 cinnoline\n",
      "342 2-methylaniline - CC1=CC=CC=C1N -\n",
      "343 Pyridazine 289-80-5 C1=CC=NN=C1 pyridazine\n",
      "344 2-methoxypyridine 1628-89-3 COC1=CC=CC=N1 2-methoxypyridine\n",
      "345 1-Naphtylamine - C1=CC=C2C(=C1)C=CC=C2N -\n",
      "346 3-chloroPyridine 626-60-8 C1=CC(=CN=C1)Cl 3-chloropyridine\n",
      "347 4-bromoAniline - C1=CC(=CC=C1N)Br -\n",
      "348 Quinazoline 253-82-7 C1=CC=C2C(=C1)C=NC=N2 quinazoline\n",
      "349 Pyrazole 288-13-1 C1=CNN=C1 1H-pyrazole\n",
      "350 Pyrimidine 289-95-2 C1=CN=CN=C1 pyrimidine\n",
      "351 2,4-difluoroAniline 367-25-9 C1=CC(=C(C=C1F)F)N 2,4-difluoroaniline\n",
      "352 4-trifluoromethylAniline - C1=CC(=CC=C1C(F)(F)F)N -\n",
      "353 1,2,3-Triazole 288-35-7 C1=NNN=C1 2H-triazole\n",
      "354 2-chloroaniline - C1=CC=C(C(=C1)N)Cl -\n",
      "355 Pyrazine 290-37-9 C1=CN=CC=N1 pyrazine\n",
      "356 4-fluoro-3-nitroAniline 364-76-1 C1=CC(=C(C=C1N)[N+](=O)[O-])F 4-fluoro-3-nitroaniline\n",
      "357 2,6-dimethoxyPyridine 6231-18-1 COC1=NC(=CC=C1)OC 2,6-dimethoxypyridine\n",
      "358 Indazole 271-44-3 C1=CC=C2C(=C1)C=NN2 1H-indazole\n",
      "359 Caffeine - CN1C=NC2=C1C(=O)N(C(=O)N2C)C -\n",
      "360 Quinoxaline 91-19-0 C1=CC=C2C(=C1)N=CC=N2 quinoxaline\n",
      "361 Benzotriazole - C1=CC2=NNN=C2C=C1 -\n",
      "362 2-Cl-Pyridine 111988-43-3 C1CN(C(=N1)NC#N)CC2=CN=C(C=C2)Cl [1-[(6-chloropyridin-3-yl)methyl]-4,5-dihydroimidazol-2-yl]cyanamide\n",
      "363 N-methyldiphenylAmine 552-82-9 CN(C1=CC=CC=C1)C2=CC=CC=C2 N-methyl-N-phenylaniline\n",
      "364 4-nitroimidazole 3034-38-6 C1=C(NC=N1)[N+](=O)[O-] 5-nitro-1H-imidazole\n",
      "365 4-nitroAniline - C1=CC(=CC=C1N)[N+](=O)[O-] -\n",
      "366 2,5-dichloroaniline 95-82-9 C1=CC(=C(C=C1Cl)N)Cl 2,5-dichloroaniline\n",
      "367 2-nitroimidazole 1-(3-PHENOXYPROPYL)-2-NO2 -IMIDAZOLE C1=CC=C(C=C1)OCCCN2C=CN=C2[N+](=O)[O-] 2-nitro-1-(3-phenoxypropyl)imidazole\n",
      "368 2,5-dichloroaniline 95-82-9 C1=CC(=C(C=C1Cl)N)Cl 2,5-dichloroaniline\n",
      "369 5-nitroindazole  5401-94-5 C1=CC2=C(C=C1[N+](=O)[O-])C=NN2 5-nitro-1H-indazole\n",
      "370 6-nitroindazole  7597-18-4 C1=CC2=C(C=C1[N+](=O)[O-])NN=C2 6-nitro-1H-indazole\n",
      "371 2-nitroaniline 88-74-4 C1=CC=C(C(=C1)N)[N+](=O)[O-] 2-nitroaniline\n",
      "372 4-chloro-2-nitroAniline 89-63-4 C1=CC(=C(C=C1Cl)[N+](=O)[O-])N 4-chloro-2-nitroaniline\n",
      "373 2-chloro-4-nitroaniline 121-87-9 C1=CC(=C(C=C1[N+](=O)[O-])Cl)N 2-chloro-4-nitroaniline\n",
      "374 Uracil - C1=CNC(=O)NC1=O -\n",
      "375 Thymine - CC1=CNC(=O)NC1=O -\n",
      "376 2,3,4,5,6-pentachloroAniline 121-87-9 C1=CC(=C(C=C1[N+](=O)[O-])Cl)N 2-chloro-4-nitroaniline\n",
      "377 Quino[7,8-h]quinoline - C1=CC2=C(C3=C(C=C2)C=CC4=C3N=CC=C4)N=C1 quinolino[7,8-h]quinoline\n",
      "378 Imidazole 288-32-4 C1=CN=CN1 1H-imidazole\n",
      "379 Phenanthroline 66-71-7 C1=CC2=C(C3=C(C=CC=N3)C=C2)N=C1 1,10-phenanthroline\n",
      "380 Benzimidazole 51-17-2 C1=CC=C2C(=C1)NC=N2 1H-benzimidazole\n",
      "381 Isoquinoline 119-65-3 C1=CC=C2C=NC=CC2=C1 isoquinoline\n",
      "382 Acridine 260-94-6 C1=CC=C2C(=C1)C=C3C=CC=CC3=N2 acridine\n",
      "383 Pyridine 110-86-1 C1=CC=NC=C1 pyridine\n",
      "384 Thiabendazole 148-79-8 C1=CC=C2C(=C1)NC(=N2)C3=CSC=N3 4-(1H-benzimidazol-2-yl)-1,3-thiazole\n",
      "385 2,2'-Bipyridine 366-18-7 C1=CC=NC(=C1)C2=CC=CC=N2 2-pyridin-2-ylpyridine\n",
      "386 Carbendazim 10605-21-7 COC(=O)NC1=NC2=CC=CC=C2N1 methyl N-(1H-benzimidazol-2-yl)carbamate\n",
      "387 Quinoline 91-22-5 C1=CC=C2C(=C1)C=CC=N2 quinoline\n",
      "388 5,6-Benzoquinoline 85-02-9 C1=CC=C2C(=C1)C=CC3=C2C=CC=N3 benzo[f]quinoline\n",
      "389 Phthalazine 253-52-1 C1=CC=C2C=NN=CC2=C1 phthalazine\n",
      "390 2,2'-Biquinoline 1245-13-2 C1=CC=C2C(=C1)C(=CC(=N2)C3=NC4=CC=CC=C4C(=C3)C(=O)O)C(=O)O 2-(4-carboxyquinolin-2-yl)quinoline-4-carboxylic acid\n",
      "391 7,8-Benzoquinoline 230-27-3 C1=CC=C2C(=C1)C=CC3=C2N=CC=C3 benzo[h]quinoline\n",
      "392 Cinnoline 253-66-7 C1=CC=C2C(=C1)C=CN=N2 cinnoline\n",
      "393 Pyridazine 289-80-5 C1=CC=NN=C1 pyridazine\n",
      "394 Quinazoline 253-82-7 C1=CC=C2C(=C1)C=NC=N2 quinazoline\n",
      "395 Pyrazole 288-13-1 C1=CNN=C1 1H-pyrazole\n",
      "396 Pyrimidine 289-95-2 C1=CN=CN=C1 pyrimidine\n",
      "397 1,2,3-Triazole 288-35-7 C1=NNN=C1 2H-triazole\n",
      "398 Pyrazine 290-37-9 C1=CN=CC=N1 pyrazine\n",
      "399 Indazole 271-44-3 C1=CC=C2C(=C1)C=NN2 1H-indazole\n",
      "400 Caffeine 58-08-2 CN1C=NC2=C1C(=O)N(C(=O)N2C)C 1,3,7-trimethylpurine-2,6-dione\n",
      "401 Quinoxaline 91-19-0 C1=CC=C2C(=C1)N=CC=N2 quinoxaline\n",
      "402 Benzotriazole 95-14-7 C1=CC2=NNN=C2C=C1 2H-benzotriazole\n",
      "403 4-nitroimidazole 3034-38-6 C1=C(NC=N1)[N+](=O)[O-] 5-nitro-1H-imidazole\n",
      "404 2-nitroimidazole 1-(3-PHENOXYPROPYL)-2-NO2 -IMIDAZOLE C1=CC=C(C=C1)OCCCN2C=CN=C2[N+](=O)[O-] 2-nitro-1-(3-phenoxypropyl)imidazole\n",
      "405 5-nitroindazole  5401-94-5 C1=CC2=C(C=C1[N+](=O)[O-])C=NN2 5-nitro-1H-indazole\n",
      "406 6-nitroindazole  7597-18-4 C1=CC2=C(C=C1[N+](=O)[O-])NN=C2 6-nitro-1H-indazole\n",
      "407 Uracil 66-22-8 C1=CNC(=O)NC1=O 1H-pyrimidine-2,4-dione\n",
      "408 Thymine 65-71-4 CC1=CNC(=O)NC1=O 5-methyl-1H-pyrimidine-2,4-dione\n",
      "409 Picric acid - C1=C(C=C(C(=C1[N+](=O)[O-])O)[N+](=O)[O-])[N+](=O)[O-] -\n",
      "410 4-F-C6H4C(=O)NHTf - FC1=CC=C(C=C1)C(=O)N[S](=O)(=O)C(F)(F)F 4-fluoro-N-(trifluoromethylsulfonyl)benzamide\n",
      "411 2,3,4,5,6-pentakis(trifluoromethyl)Phenol 723294-91-5 C1(=C(C(=C(C(=C1C(F)(F)F)C(F)(F)F)O)C(F)(F)F)C(F)(F)F)C(F)(F)F 2,3,4,5,6-pentakis(trifluoromethyl)phenol\n",
      "412 2,3,4,6-(CF3)4-C6HCH(CN)2 - FC(F)(F)C1=C(C(C#N)C#N)C(=C(C(=C1)C(F)(F)F)C(F)(F)F)C(F)(F)F -\n",
      "413 4-Cl-C6H4C(=O)NHTf - FC(F)(F)[S](=O)(=O)NC(=O)C1=CC=C(Cl)C=C1 4-chloro-N-(trifluoromethylsulfonyl)benzamide\n",
      "414 HCl 16887-00-6 Cl chloride\n",
      "415 (4-Cl-C6H4SO2)2NH - no matches -\n",
      "416 4-CF3-C6F4CH(CN)2 55852-24-9 FC1=C(C(C#N)C#N)C(=C(F)C(=C1F)C(F)(F)F)F 2-[2,3,5,6-tetrafluoro-4-(trifluoromethyl)phenyl]propanedinitrile\n",
      "417 2,3,4,5,6-pentakis(trifluoromethyl)benzenethiol SCHEMBL8512489 C1(=C(C(=C(C(=C1C(F)(F)F)C(F)(F)F)S)C(F)(F)F)C(F)(F)F)C(F)(F)F 2,3,4,5,6-pentakis(trifluoromethyl)benzenethiol\n",
      "418 4-NO2-C6H4SO2NHTos - no matches -\n",
      "419 4-Cl-3-NO2C6H3SO2NHTos - no matches -\n",
      "420 4-NO2-C6H4C(=O)NHTf 39062-98-1 [O-][N+](=O)C1=CC=C(C=C1)C(=O)N[S](=O)(=O)C(F)(F)F 4-nitro-N-(trifluoromethylsulfonyl)benzamide\n",
      "421 4-NO2-C6H4SO2NH-SO2C6H4-4-Cl - no matches -\n",
      "422 C6(CF3)5CH(CN)2 2-[Pentakis(trifluoromethyl)phenyl]malononitrile FC(F)(F)C1=C(C(C#N)C#N)C(=C(C(=C1C(F)(F)F)C(F)(F)F)C(F)(F)F)C(F)(F)F 2-[2,3,4,5,6-pentakis(trifluoromethyl)phenyl]propanedinitrile\n",
      "423 4-Cl-3-NO2-C6H3SO2NH-SO2C6H4-4-Cl - no matches -\n",
      "424 4-Methylbenzenesulfonic acid 104-15-4 CC1=CC=C(C=C1)S(=O)(=O)O 4-methylbenzenesulfonic acid\n",
      "425 (4-NO2-C6H4SO2)2NH - no matches -\n",
      "Phenol - OC1=C(C=C(C=C1[S](=O)(=O)OCC(F)(F)C(F)F)[S](=O)(=O)OCC(F)(F)C(F)F)[S](=O)(=O)OCC(F)(F)C(F)F -\n",
      "427 2,4,6-(SO2OCH2CF3)3-Phenol - OC1=C(C=C(C=C1[S](=O)(=O)OCC(F)(F)F)[S](=O)(=O)OCC(F)(F)F)[S](=O)(=O)OCC(F)(F)F -\n",
      "428 1-Naphtalenesulfonic acid 81-16-3 C1=CC=C2C(=C1)C=CC(=C2S(=O)(=O)O)N 2-aminonaphthalene-1-sulfonic acid\n",
      "429 4-Cl-3-NO2-C6H3SO2NHSO2-C6H4-3-NO2 - no matches -\n",
      "430 C6H5CH(Tf)2 40906-82-9 FC(F)(F)[S](=O)(=O)C(C1=CC=CC=C1)[S](=O)(=O)C(F)(F)F bis(trifluoromethylsulfonyl)methylbenzene\n",
      "431 4-Cl-3-NO2-C6H3SO2NHSO2C6H4-4-NO2 - no matches -\n",
      "432 C6F5SO2NHSO2C6H4-4-Cl - no matches -\n",
      "433 (4-Cl-3-NO2-C6H3SO2)2NH - no matches -\n",
      "434 4-chloro-benzenesulfonicacid 98-66-8 C1=CC(=CC=C1S(=O)(=O)O)Cl 4-chlorobenzenesulfonic acid\n",
      "435 C6F5SO2NHSO2C6H4-3-NO2 - no matches -\n",
      "436 3-nitro-benzenesulfonic acid 98-47-5 C1=CC(=CC(=C1)S(=O)(=O)O)[N+](=O)[O-] 3-nitrobenzenesulfonic acid\n",
      "437 C6F5SO2NHSO2C6H4-4-NO2 - no matches -\n",
      "438 4-nitro-benzenesulfonic acid 138-42-1 C1=CC(=CC=C1[N+](=O)[O-])S(=O)(=O)O 4-nitrobenzenesulfonic acid\n",
      "439 3-NO2-C6H4SO2CH(CN)2 - [O-][N+](=O)C1=CC(=CC=C1)[S](=O)(=O)C(C#N)C#N -\n",
      "440 C6F5SO2NHSO2C6H3-3-NO2-4-Cl - nan -\n",
      "441 4-MeO-C6H4C(=NTf)NHTf - COC1=CC=C(C=C1)C(N[S](=O)(=O)C(F)(F)F)=N[S](=O)(=O)C(F)(F)F -\n",
      "442 4-NO2-C6H4SO2CH(CN)2 - [O-][N+](=O)C1=CC=C(C=C1)[S](=O)(=O)C(C#N)C#N -\n",
      "443 4-Me-C6H4SO2NHTf - CC1=CC=C(C=C1)[S](=O)(=O)N[S](=O)(=O)C(F)(F)F 4-methyl-N-(trifluoromethylsulfonyl)benzenesulfonamide\n",
      "444 4-Me-C6H4C(=NTf)NHTf - CC1=CC=C(C=C1)C(N[S](=O)(=O)C(F)(F)F)=N[S](=O)(=O)C(F)(F)F -\n",
      "445 C6H5C(=NTf)NHTf - FC(F)(F)[S](=O)(=O)NC(=N[S](=O)(=O)C(F)(F)F)C1=CC=CC=C1 -\n",
      "446 C6H5SO2NHTf - FC(F)(F)[S](=O)(=O)N[S](=O)(=O)C1=CC=CC=C1 N-(trifluoromethylsulfonyl)benzenesulfonamide\n",
      "447 4-F-C6H4C(=NTf)NHTf - FC1=CC=C(C=C1)C(N[S](=O)(=O)C(F)(F)F)=N[S](=O)(=O)C(F)(F)F -\n",
      "448 4-Cl-C6H4-C(=NTf)NHTf - FC(F)(F)[S](=O)(=O)NC(=N[S](=O)(=O)C(F)(F)F)C1=CC=C(Cl)C=C1 -\n",
      "449 HBr 24959-67-9 Br bromide\n",
      "450 2,4,6-(SO2F)3-Phenol 2-hydroxybenzene-1,3,5-trisulfonyl fluoride OC1=C(C=C(C=C1[S](F)(=O)=O)[S](F)(=O)=O)[S](F)(=O)=O 2-hydroxybenzene-1,3,5-trisulfonyl fluoride\n",
      "451 (C6F5SO2)2NH - no matches -\n",
      "452 4-Cl-C6H4SO2NHTf - FC(F)(F)[S](=O)(=O)N[S](=O)(=O)C1=CC=C(Cl)C=C1 4-chloro-N-(trifluoromethylsulfonyl)benzenesulfonamide\n",
      "453 4-Cl-C6H4SO(=NTf)NHTos - no matches -\n",
      "454 4-NO2-C6H4C(=NTf)NHTf N-(Trifluoromethylsulfonyl)-alpha-(trifluoromethylsulfonylimino)-4-nitrobenzylamineanion [O-][N+](=O)C1=CC=C(C=C1)C(N[S](=O)(=O)C(F)(F)F)=N[S](=O)(=O)C(F)(F)F 4-nitro-N,N'-bis(trifluoromethylsulfonyl)benzenecarboximidamide\n",
      "455 2,4,6-Tf3-Phenol - OC1=C(C=C(C=C1[S](=O)(=O)C(F)(F)F)[S](=O)(=O)C(F)(F)F)[S](=O)(=O)C(F)(F)F 2,4,6-tris(trifluoromethylsulfonyl)phenol\n",
      "456 (CN)2C=C(CN)OH - OC(C#N)=C(C#N)C#N 2-hydroxyethene-1,1,2-tricarbonitrile\n",
      "457 4-NO2-C6H4SO2NHTf - [O-][N+](=O)C1=CC=C(C=C1)[S](=O)(=O)N[S](=O)(=O)C(F)(F)F 4-nitro-N-(trifluoromethylsulfonyl)benzenesulfonamide\n",
      "458 4-Cl-C6H4SO(=NTf)NHSO2-C6H4-4-Cl - nan -\n",
      "459 2,4-(NO2)2-C6H3SO3H - no matches -\n",
      "460 2,3,5-tricyanocyclopentadiene 1,3-Cyclopentadiene-2,3,5-tricarbonitrile N#CC1C=C(C#N)C(=C1)C#N cyclopenta-2,5-diene-1,2,4-tricarbonitrile\n",
      "461 4-Cl-C6H4-SO(=NTf)NH-SO2C6H4-4-NO2 - [NH-][S](=O)(=N[S](=O)(=O)C(F)(F)F)C1=CC=C(Cl)C=C1 -\n",
      "462 HI 20461-54-5 I iodide\n",
      "463 9-COOMe-fluorene - no matches -\n",
      "464 (4-Me-C6F4)2CHCN - no matches -\n",
      "465 (4-Me-C6F4)(C6F5)CHCN - no matches -\n",
      "466 9-CN-fluorene - no matches -\n",
      "467 (4-H-C6F4)(C6F5)CHCN - no matches -\n",
      "468 (4-Cl-C6F4)(C6F5)CHCN - no matches -\n",
      "469 (2-C10F7)(C6F5)CHCN - no matches -\n",
      "470 9-C6F5-Octafluorofluorene 63264-80-2 FC1=C(F)C(=C(C2C3=C(C(=C(F)C(=C3F)F)F)C4=C2C(=C(F)C(=C4F)F)F)C(=C1F)F)F 1,2,3,4,5,6,7,8-octafluoro-9-(2,3,4,5,6-pentafluorophenyl)-9H-fluorene\n",
      "471 (2-C10F7)2CHCN - FC1=C(F)C2=C(C(=C1F)F)C(=C(C(C#N)C3=C(F)C4=C(F)C(=C(F)C(=C4C(=C3F)F)F)F)C(=C2F)F)F 2,2-bis(1,3,4,5,6,7,8-heptafluoronaphthalen-2-yl)acetonitrile\n",
      "472 (4-CF3-C6F4)(C6F5)CHCN - FC1=C(F)C(=C(C(C#N)C2=C(F)C(=C(C(=C2F)F)C(F)(F)F)F)C(=C1F)F)F 2-(2,3,4,5,6-pentafluorophenyl)-2-[2,3,5,6-tetrafluoro-4-(trifluoromethyl)phenyl]acetonitrile\n",
      "473 (C 6F5)CH(CN)COOEt - no matches -\n",
      "474 (4-Cl-C6F4)CH(CN)COOEt - no matches -\n",
      "475 (2-C10F7)CH(CN)COOEt - no matches -\n",
      "476 (4-CF3-C6F4)CH(CN)COOEt - no matches -\n",
      "477 (4-NC5F4)(C6F5)CHCN - no matches -\n",
      "478 (4-NC5F4)CH(CN)COOEt - no matches -\n",
      "479 3-CF3-C6H4CH(CN)2 - no matches -\n",
      "480 (4-NC5F4)2CHCN - no matches -\n",
      "481 4-H-C6F4CH(CN)2 - no matches -\n",
      "482 2-C10F7CH(CN)2 - no matches -\n",
      "483 Bromothymol blue 76-59-5 CC1=C(C=C(C(=C1Br)O)C(C)C)C2(C3=CC=CC=C3S(=O)(=O)O2)C4=C(C(=C(C(=C4)C(C)C)O)Br)C 2-bromo-4-[3-(3-bromo-4-hydroxy-2-methyl-5-propan-2-ylphenyl)-1,1-dioxo-2,1λ6-benzoxathiol-3-yl]-3-methyl-6-propan-2-ylphenol\n",
      "484 Bromocresol green 76-60-8 CC1=C(C(=C(C=C1C2(C3=CC=CC=C3S(=O)(=O)O2)C4=CC(=C(C(=C4C)Br)O)Br)Br)O)Br 2,6-dibromo-4-[3-(3,5-dibromo-4-hydroxy-2-methylphenyl)-1,1-dioxo-2,1λ6-benzoxathiol-3-yl]-3-methylphenol\n",
      "485 Picric acid 88-89-1 C1=C(C=C(C(=C1[N+](=O)[O-])O)[N+](=O)[O-])[N+](=O)[O-] 2,4,6-trinitrophenol\n",
      "486 HCl 16887-00-6 Cl chloride\n",
      "487 2,3,4,6-(CF3)4-C6HCH(CN)2 - FC(F)(F)C1=C(C(C#N)C#N)C(=C(C(=C1)C(F)(F)F)C(F)(F)F)C(F)(F)F -\n",
      "488 4-CF3-C6F4CH(CN)2 - no matches -\n",
      "489 4-NO2-C H 6 4SO2NHTos m - no matches -\n",
      "490 4-NO2-C6H4SO2NHSO2C6H4-4-Cl - no matches -\n",
      "491 C6(CF3)5CH(CN)2 - no matches -\n",
      "492 (4-NO2-C6H4-SO2)2NH - no matches -\n",
      "493 3-NO2-4-Cl-C6H3SO2NHSO2C6H4-4- - no matches -\n",
      "494 N(3O-N2 O 2-4-Cl-C H SO 6 3 2)2NH - no matches -\n",
      "495 HBr 24959-67-9 Br bromide\n",
      "496 4-NO2-C6H4SO2CH(CN)2 - no matches -\n",
      "497 2,4,6-(SO2F)3-Phenol 654055-01-3 no SMILES 2-(2,4-dihydroxyphenyl)-3,5,7-trihydroxychromen-4-one;dihydrate\n",
      "498 2,4,6-Tf3-Phenol - OC1=C(C=C(C=C1[S](=O)(=O)C(F)(F)F)[S](=O)(=O)C(F)(F)F)[S](=O)(=O)C(F)(F)F 2,4,6-tris(trifluoromethylsulfonyl)phenol\n",
      "499 4-Cl-C6H4SO(=NTf)NHTos - no matches -\n",
      "500 2,3,5-tricyanocyclopentadiene 1,3-Cyclopentadiene-2,3,5-tricarbonitrile N#CC1C=C(C#N)C(=C1)C#N cyclopenta-2,5-diene-1,2,4-tricarbonitrile\n",
      "501 4-Cl-C6H4SO(=NTf)NHSO2C6H4-5-Cl - no matches -\n",
      "502 HI 20461-54-5 I iodide\n",
      "503 4-NO2-C6H4SO2NHTf - no matches -\n",
      "504 C(CN)2=C(CN)OH 654055-01-3 no SMILES 2-(2,4-dihydroxyphenyl)-3,5,7-trihydroxychromen-4-one;dihydrate\n",
      "505 4-Cl-C6H4SO(=NTf)NHSO2C6H4-NO2 - no matches -\n",
      "506 2,4-(NO2)2-C6H3SO2OH - no matches -\n",
      "507 9-COOMe-fluorene - no matches -\n",
      "508 9-CN-fluorene - no matches -\n",
      "509 (4-Cl-C6F4)(C6F5)CHCN - no matches -\n",
      "510 (4-CF3-C6F4)(C6F5)CHCN - FC1=C(F)C(=C(C(C#N)C2=C(F)C(=C(C(=C2F)F)C(F)(F)F)F)C(=C1F)F)F 2-(2,3,4,5,6-pentafluorophenyl)-2-[2,3,5,6-tetrafluoro-4-(trifluoromethyl)phenyl]acetonitrile\n",
      "511 (C 6F5)CH(CN)COOEt - no matches -\n",
      "512 (4-Cl-C6F4)CH(CN)COOEt - no matches -\n",
      "513 (4-CF3-C6F4)CH(CN)COOEt - no matches -\n",
      "514 (4-NC5F4)(C6F5)CHCN - no matches -\n",
      "515 (4-NC5F4)CH(CN)COOEt - no matches -\n",
      "516 (4-NC5F4)2CHCN - no matches -\n",
      "517 Picric acid 88-89-1 C1=C(C=C(C(=C1[N+](=O)[O-])O)[N+](=O)[O-])[N+](=O)[O-] 2,4,6-trinitrophenol\n",
      "518 4-CF3-C6F4CH(CN)2 - no matches -\n",
      "519 7-nitroIndole - nan -\n",
      "520 Indoxyl acetate - nan -\n",
      "521 Phenol - nan -\n",
      "522 tBu4Box2CH2 - no matches -\n",
      "523 4-cyano-2,3,5,6-tetrafluoroAniline - nan -\n",
      "524 pentakis(trifluoromethyl)Toluene - nan -\n",
      "525 5-nitroIndole - nan -\n",
      "526 9_C6F5_Fluorene - no matches -\n",
      "527 1_(4_Cl_C6H4)_3_(3,4_Cl2_C6H3)urea - no matches -\n",
      "528 4-nitroIndole - nan -\n",
      "529 6-nitroIndole - nan -\n",
      "530 Me2Box2CH2 - no matches -\n",
      "531 (3,5_(CF3)2_C6H3)3COH - no matches -\n",
      "532 C6H5_CH2_Tf - no matches -\n",
      "533 1,2,3,4_F4_9_Ph_Fluorene - no matches -\n",
      "534 4_Cl_C6H4_CH2_Tf - no matches -\n",
      "535 4_F_C6H4_CH2_Tf - no matches -\n",
      "536 (Ph)(4_Me_C6F4)CHCN - no matches -\n",
      "537 4_Me_C6H4_SO2_NH2 - no matches -\n",
      "538 Box2CH2 - no matches -\n",
      "539 (4_NC5F4)(4_Me_C6H4)NH - no matches -\n",
      "540 Ph_SO2_NH2 - no matches -\n",
      "541 Triazine 2 - no matches -\n",
      "542 3-trifluoromethylPhenol - nan -\n",
      "543 C6F5_NH_COMe - no matches -\n",
      "544 (Ph)(4_NC5F4)NH - no matches -\n",
      "545 (4_NO2_C6H4)2NH - no matches -\n",
      "546 4-nitroIndolocarbazole - nan -\n",
      "547 4_F_C6H4_SO2_NH2 - no matches -\n",
      "548 SBoxCH2 - no matches -\n",
      "549 (Ph)(C6F5)CHCN - no matches -\n",
      "550 3-cyanoIndole - nan -\n",
      "551 4_Cl_C6H4_SO2_NH2 - no matches -\n",
      "552 Triazine 1 - no matches -\n",
      "553 3_F_C6H4_CH2_Tf - no matches -\n",
      "554 4-trifluoromethylPhenol - nan -\n",
      "555 3_Cl_C6H4_CH2_Tf - no matches -\n",
      "556 4_CF3_C6H4_SO2_NH2 - no matches -\n",
      "557 3_CF3_C6H4_SO2_NH2 - no matches -\n",
      "558 (4_Me2N_C6F4)(C6F5)NH - no matches -\n",
      "559 3_CF3_C6H4_CH2_Tf - no matches -\n",
      "560 (4_Me_C6F4)(C6F5)NH - no matches -\n",
      "561 2-trifluoromethylPhenol - nan -\n",
      "562 1,3_Bis(4_NO2_C6H4)urea - no matches -\n",
      "563 3_NO2_C6H4_SO2_NH2 - no matches -\n",
      "564 pentakis(trifluoromethyl)Aniline - nan -\n",
      "565 4_NO2_C6H4_SO2_NH2 - no matches -\n",
      "566 3_CN_C6H4_CH2_Tf - no matches -\n",
      "567 Octafluorofluorene - no matches -\n",
      "568 4_CF3_C6H4_CH2_Tf - no matches -\n",
      "569 3,5_(CF3)2_Ph_C_thiourea - no matches -\n",
      "570 (4_H_C6F4)(C6F5)NH - no matches -\n",
      "571 C6F5_NH_C(CF3)3 - no matches -\n",
      "572 (C6F5)2NH - no matches -\n",
      "573 3,5_F2_C6H3_CH2_Tf - no matches -\n",
      "574 Fluoradene - no matches -\n",
      "575 2,4,6-trinitroAniline - nan -\n",
      "576 3,5-bis(trifluoromethyl)Phenol - nan -\n",
      "577 2-nitroIndole - nan -\n",
      "578 9_COOMe_Fluorene - no matches -\n",
      "579 Acetic acid - nan -\n",
      "580 (4_Cl_C6F4)(C6F5)NH - no matches -\n",
      "581 4_CN_C6H4_CH2_Tf - no matches -\n",
      "582 Sorbic acid - nan -\n",
      "583 C6F5_CH(COOEt)2 - no matches -\n",
      "584 2-nitroPhenol - nan -\n",
      "585 3,5_(CF3)2_C6H3_CH2_Tf - no matches -\n",
      "586 (4_Me_C6F4)2CHCN - no matches -\n",
      "587 Retinoic acid - nan -\n",
      "588 3-nitroIndole - nan -\n",
      "589 C6F5_SO2_NH2 - no matches -\n",
      "590 (4_Me_C6F4)(C6F5)CHCN - no matches -\n",
      "591 4_NO2_C6H4_CH2_Tf - no matches -\n",
      "592 Benzoic acid - nan -\n",
      "593 (4_CF3_C6H4)(C6F5)NH - no matches -\n",
      "594 9_CN_Fluorene - no matches -\n",
      "595 Alizarin - nan -\n",
      "596 (4_H_C6F4)(C6F5)CHCN - no matches -\n",
      "597 (C6F5)2CHCN Bis(pentafluorophenyl)acetonitrile FC1=C(F)C(=C(C(C#N)C2=C(F)C(=C(F)C(=C2F)F)F)C(=C1F)F)F 2,2-bis(2,3,4,5,6-pentafluorophenyl)acetonitrile\n",
      "598 4_CF3_C6F4_CH2_Tf - no matches -\n",
      "599 (CF3)3COH - nan -\n",
      "600 (4_NC5F4)(C6F5)NH - no matches -\n",
      "601 (4_Cl_C6F4)(C6F5)CHCN - no matches -\n",
      "602 2,4,6-tribromoPhenol - nan -\n",
      "603 pentacyanoToluene - nan -\n",
      "604 (2,4,6_Cl3_C6F2)(C6F5)CHCN - no matches -\n",
      "605 2,3,5,6-tetrafluoroPhenol - nan -\n",
      "606 pentafluoroPhenol - nan -\n",
      "607 (2-C10F7)(C6F5)CHCN - no matches -\n",
      "608 (4_CN_C6F4)(C6F5)NH - no matches -\n",
      "609 1_C10F7_OH - no matches -\n",
      "610 2,4,6_(SO2F)3_Aniline - no matches -\n",
      "611 (2_C10F7)2CHCN - no matches -\n",
      "612 Br4_CA_benzoic acid - no matches -\n",
      "613 9_C6F5_Octafluorofluorene - no matches -\n",
      "614 2_C10F7_OH - no matches -\n",
      "615 [4_(Ph3B)_2,6_Mes2_Pyridine]H - no matches -\n",
      "616 (4_NC5F4)(4_CF3_C6F4)NH - no matches -\n",
      "617 (4_CF3_C6F4)(C6F5)CHCN - no matches -\n",
      "618 4_C6F5_2,3,5,6_F4_Phenol - no matches -\n",
      "619 Br4_CF3_CAC_benzoic acid - no matches -\n",
      "620 4_H_C6F4_CH(CN)COOEt - no matches -\n",
      "621 pentachloroPhenol - nan -\n",
      "622 pentabromoPhenol - nan -\n",
      "623 C6F5_CH(CN)COOEt - no matches -\n",
      "624 4_Me_C6H4_CH(CN)2 - no matches -\n",
      "625 2_C10F7_CH(CN)COOEt - no matches -\n",
      "626 4_Cl_C6F4_CH(CN)COOEt - no matches -\n",
      "627 (4_NC5F4)2NH - no matches -\n",
      "628 Br4_CX_benzoic acid - no matches -\n",
      "629 2_Me_4,6_(NO2)2_Phenol - no matches -\n",
      "630 2,6-dinitroPhenol - nan -\n",
      "631 2,4-dinitroPhenol - nan -\n",
      "632 2,3,5,6-tetrafluoro-4-trifluoromethylPhenol - nan -\n",
      "633 (4_NC5F4)(C6F5)CHCN - no matches -\n",
      "634 4-fluoro-2,6-dinitroPhenol - nan -\n",
      "635 (4_CF3_C6F4)2CHCN - no matches -\n",
      "636 4_CF3_C6F4_CH(CN)COOEt - no matches -\n",
      "637 (4_NC5F4)(2_C10F7)CHCN - no matches -\n",
      "638 4_NO2_C6H4_SO2_NH_CO_C6H4_4_Me - no matches -\n",
      "639 4_NC5F4_OH - no matches -\n",
      "640 4_NC5F4_CH(CN)COOEt - no matches -\n",
      "641 3_CF3_C6H4_CH(CN)2 - no matches -\n",
      "642 Saccharin - nan -\n",
      "643 3_NO2_C6H4_SO2_NH_CO_C6H4_3_Cl - no matches -\n",
      "644 4_NO2_C6H4_SO2_NH_CO_C6H4_3_Cl - no matches -\n",
      "645 2-chloro-4,6-dinitroPhenol - nan -\n",
      "646 [9_Phenanthrene]_BPA_[H8] - no matches -\n",
      "647 4_Me_C6F4_CH(CN)2 - no matches -\n",
      "648 [2,4,6_i_Pr3_C6H2]_BPA - no matches -\n",
      "649 RR_3,5_(CF3)2_Ph_CXCC_Br4_benzoic acid - no matches -\n",
      "650 (4_NC5F4)2CHCN - no matches -\n",
      "651 2,3,4,5,6_(CF3)5_C6_CH(CN)COOEt - no matches -\n",
      "652 [9_Phenanthrene]_BPA - no matches -\n",
      "653 C6F5_CH(CN)2 - no matches -\n",
      "654 4_H_C6F4_CH(CN)2 - no matches -\n",
      "655 [Ph]_BPA - no matches -\n",
      "656 3_CF3_4_NO2_Ph_CACC_Br4_benzoic acid - no matches -\n",
      "657 [4_F_C6H4]_BPA - no matches -\n",
      "658 3,5_(CF3)2_Ph_CACC_Br4_benzoic acid - no matches -\n",
      "659 2_C10F7_CH(CN)2 - no matches -\n",
      "660 Tos2NH - no matches -\n",
      "661 Ph_SO2_NH_SO2_Me - no matches -\n",
      "662 RS_3,5_(CF3)2_Ph_CXCC_Br4_benzoic acid - no matches -\n",
      "663 4_NO2_C6H4_CH(CN)2 - no matches -\n",
      "664 4_MeO_C6H4_CO_NH_Tf - no matches -\n",
      "665 C6F5_NH_Tf - no matches -\n",
      "666 4_Me_C6H4_CO_NH_Tf - no matches -\n",
      "667 (C6H5_SO2)2NH - no matches -\n",
      "668 4_MeO_C6H4_SO2_NH_SO2_C6H4_4_Cl - no matches -\n",
      "669 C6F5_NH_SO2_C4F9 - no matches -\n",
      "670 C6F5_NH_SO2_C8F17 - no matches -\n",
      "671 4_Cl_C6H4_SO2_NH_Tos - no matches -\n",
      "672 C6H5_CO_NH_Tf - no matches -\n",
      "673 Picric acid - nan -\n",
      "674 5-nitroBarbituric acid - nan -\n",
      "675 4_F_C6H4_CO_NH_Tf - no matches -\n",
      "676 (2,4,6_(NO2)3_C6H2)2NH - no matches -\n",
      "677 pentakis(trifluoromethyl)Phenol 723294-91-5 C1(=C(C(=C(C(=C1C(F)(F)F)C(F)(F)F)O)C(F)(F)F)C(F)(F)F)C(F)(F)F 2,3,4,5,6-pentakis(trifluoromethyl)phenol\n",
      "678 2,3,4,6_(CF3)4_C6H_CH(CN)2 - no matches -\n",
      "679 4_Cl_C6H4_CO_NH_Tf - no matches -\n",
      "680 HCl - nan -\n",
      "681 4_MeO_C6H4_SO2_NH_SO2_C6H4_4_NO2 - no matches -\n",
      "682 (4_Cl_C6H4_SO2)2NH - no matches -\n",
      "683 4_CF3_C6F4_CH(CN)2 - no matches -\n",
      "684 pentakis(trifluoromethyl)Thiophenol - nan -\n",
      "685 3_NO2_C6H4_SO2_NH_Tos - no matches -\n",
      "686 4_NO2_C6H4_SO2_NH_Tos - no matches -\n",
      "687 CH3SO3H - nan -\n",
      "688 4_Cl_3_NO2_C6H3_SO2_NH_Tos - no matches -\n",
      "689 2,4_(NO2)2_C6H3_CH(CN)2 - no matches -\n",
      "690 4_NO2_C6H4_CO_NH_Tf - no matches -\n",
      "691 4_NO2_C6H4_SO2_NH_SO2_C6H4_4_Cl - no matches -\n",
      "692 2,3,4,5,6_(CF3)5_C6_CH(CN)2 - no matches -\n",
      "693 [2,3,4,5,6_(CF3)5_C6]2NH - no matches -\n",
      "694 4_Cl_3_NO2_C6H3_SO2_NH_SO2_C6H4_4_Cl - no matches -\n",
      "695 TosOH - nan -\n",
      "696 PhSO3H - nan -\n",
      "697 (3_NO2_C6H4_SO2)2NH - no matches -\n",
      "698 (4_NO2_C6H4_SO2)2NH - no matches -\n",
      "699 2,4,6_(SO2OCH2CF2CF2H)3_Phenol - no matches -\n",
      "700 2,4,6_(SO2OCH2CF3)3_Phenol - no matches -\n",
      "701 1_C10H7_SO3H - no matches -\n",
      "702 3_NO2_C6H4_SO2_NH_SO2_C6H3_3_NO2_4_Cl - no matches -\n",
      "703 4_NO2_C6H4_SO2_NH_SO2_C6H3_3_NO2_4_Cl - no matches -\n",
      "704 C6H5_CHTf2 - no matches -\n",
      "705 H2SO4 - nan -\n",
      "706 C6F5_SO2_NH_SO2_C6H4_4_Cl - no matches -\n",
      "707 (4_Cl_3_NO2_C6H3_SO2)2NH - no matches -\n",
      "708 Me_TCNP - no matches -\n",
      "709 4_Cl_C6H4_SO3H - no matches -\n",
      "710 [4_MeO_C6H4][CF3]_NTPA_[H8] - no matches -\n",
      "711 [Ph][C8F17]_NTPA_[H8] - no matches -\n",
      "712 [Ph][CF3]_NTPA_[H8] - no matches -\n",
      "713 C6F5_SO2_NH_SO2_C6H4_3_NO2 - no matches -\n",
      "714 [Ph][C4F9]_NTPA_[H8] - no matches -\n",
      "715 C6F5_SO2_NH_SO2_C6H4_4_NO2 - no matches -\n",
      "716 3_NO2_C6H4_SO3H - no matches -\n",
      "717 [4_MeO_C6H4][CF3]_NTPA - no matches -\n",
      "718 [Ph][CF3]_NTPA - no matches -\n",
      "719 4_NO2_C6H4_SO3H - no matches -\n",
      "720 [4_F_C6H4][CF3]_NTPA_[H8] - no matches -\n",
      "721 3_NO2_C6H4_SO2_CH(CN)2 - no matches -\n",
      "722 C6F5_SO2_NH_SO2_C6H3_3_NO2_4Cl - no matches -\n",
      "723 4_MeO_C6H4_C(=NTf)_NH_Tf - no matches -\n",
      "724 4_NO2_C6H4_SO2_CH(CN)2 - no matches -\n",
      "725 Tos_NH_Tf - no matches -\n",
      "726 4_Me_C6H4_C(=NTf)_NH_Tf - no matches -\n",
      "727 C6H5_C(=NTf)_NH_Tf - no matches -\n",
      "728 H_TCNP - no matches -\n",
      "729 C6H5_SO2_NH_Tf - no matches -\n",
      "730 HBr 24959-67-9 Br bromide\n",
      "731 4_F_C6H4_C(=NTf)_NH_Tf - no matches -\n",
      "732 2,4,6_(SO2F)3_Phenol - no matches -\n",
      "733 4_Cl_C6H4_C(=NTf)_NH_Tf - no matches -\n",
      "734 (C6F5_SO2)2NH - no matches -\n",
      "735 CH(CN)3 - nan -\n",
      "736 4_Cl_C6H4_SO2_NH_Tf - no matches -\n",
      "737 [3,5_(CF3)2_C6H3]_JINGLE - no matches -\n",
      "738 4_Cl_C6H4_SO(=NTf)_NH_Tos - no matches -\n",
      "739 4_NO2_C6H4_C(=NTf)_NH_Tf - no matches -\n",
      "740 2,4,6-Tf3Phenol - nan -\n",
      "741 (CN)2C=C(CN)OH - OC(C#N)=C(C#N)C#N 2-hydroxyethene-1,1,2-tricarbonitrile\n",
      "742 4_NO2_C6H4_SO2_NH_Tf - no matches -\n",
      "743 4-Cl-C6H4-SO(=NTf)-NH-SO2-C6H4-4-Cl - no matches -\n",
      "744 2.4-(NO2)2-C6H3-SO3H - no matches -\n",
      "745 2,3,5-tricyanocyclopentadiene 1,3-Cyclopentadiene-2,3,5-tricarbonitrile N#CC1C=C(C#N)C(=C1)C#N cyclopenta-2,5-diene-1,2,4-tricarbonitrile\n",
      "746 4-Cl-C6H4-SO(=NTf)-NH-SO2-C6H4-4-NO2 - no matches -\n",
      "747 HI - I -\n"
     ]
    },
    {
     "ename": "UnboundLocalError",
     "evalue": "local variable 'IUPAC' referenced before assignment",
     "output_type": "error",
     "traceback": [
      "\u001b[0;31m---------------------------------------------------------------------------\u001b[0m",
      "\u001b[0;31mConnectionResetError\u001b[0m                      Traceback (most recent call last)",
      "\u001b[0;32m~/opt/anaconda3/lib/python3.8/site-packages/urllib3/connectionpool.py\u001b[0m in \u001b[0;36murlopen\u001b[0;34m(self, method, url, body, headers, retries, redirect, assert_same_host, timeout, pool_timeout, release_conn, chunked, body_pos, **response_kw)\u001b[0m\n\u001b[1;32m    669\u001b[0m             \u001b[0;31m# Make the request on the httplib connection object.\u001b[0m\u001b[0;34m\u001b[0m\u001b[0;34m\u001b[0m\u001b[0;34m\u001b[0m\u001b[0m\n\u001b[0;32m--> 670\u001b[0;31m             httplib_response = self._make_request(\n\u001b[0m\u001b[1;32m    671\u001b[0m                 \u001b[0mconn\u001b[0m\u001b[0;34m,\u001b[0m\u001b[0;34m\u001b[0m\u001b[0;34m\u001b[0m\u001b[0m\n",
      "\u001b[0;32m~/opt/anaconda3/lib/python3.8/site-packages/urllib3/connectionpool.py\u001b[0m in \u001b[0;36m_make_request\u001b[0;34m(self, conn, method, url, timeout, chunked, **httplib_request_kw)\u001b[0m\n\u001b[1;32m    425\u001b[0m                     \u001b[0;31m# Otherwise it looks like a bug in the code.\u001b[0m\u001b[0;34m\u001b[0m\u001b[0;34m\u001b[0m\u001b[0;34m\u001b[0m\u001b[0m\n\u001b[0;32m--> 426\u001b[0;31m                     \u001b[0msix\u001b[0m\u001b[0;34m.\u001b[0m\u001b[0mraise_from\u001b[0m\u001b[0;34m(\u001b[0m\u001b[0me\u001b[0m\u001b[0;34m,\u001b[0m \u001b[0;32mNone\u001b[0m\u001b[0;34m)\u001b[0m\u001b[0;34m\u001b[0m\u001b[0;34m\u001b[0m\u001b[0m\n\u001b[0m\u001b[1;32m    427\u001b[0m         \u001b[0;32mexcept\u001b[0m \u001b[0;34m(\u001b[0m\u001b[0mSocketTimeout\u001b[0m\u001b[0;34m,\u001b[0m \u001b[0mBaseSSLError\u001b[0m\u001b[0;34m,\u001b[0m \u001b[0mSocketError\u001b[0m\u001b[0;34m)\u001b[0m \u001b[0;32mas\u001b[0m \u001b[0me\u001b[0m\u001b[0;34m:\u001b[0m\u001b[0;34m\u001b[0m\u001b[0;34m\u001b[0m\u001b[0m\n",
      "\u001b[0;32m~/opt/anaconda3/lib/python3.8/site-packages/urllib3/packages/six.py\u001b[0m in \u001b[0;36mraise_from\u001b[0;34m(value, from_value)\u001b[0m\n",
      "\u001b[0;32m~/opt/anaconda3/lib/python3.8/site-packages/urllib3/connectionpool.py\u001b[0m in \u001b[0;36m_make_request\u001b[0;34m(self, conn, method, url, timeout, chunked, **httplib_request_kw)\u001b[0m\n\u001b[1;32m    420\u001b[0m                 \u001b[0;32mtry\u001b[0m\u001b[0;34m:\u001b[0m\u001b[0;34m\u001b[0m\u001b[0;34m\u001b[0m\u001b[0m\n\u001b[0;32m--> 421\u001b[0;31m                     \u001b[0mhttplib_response\u001b[0m \u001b[0;34m=\u001b[0m \u001b[0mconn\u001b[0m\u001b[0;34m.\u001b[0m\u001b[0mgetresponse\u001b[0m\u001b[0;34m(\u001b[0m\u001b[0;34m)\u001b[0m\u001b[0;34m\u001b[0m\u001b[0;34m\u001b[0m\u001b[0m\n\u001b[0m\u001b[1;32m    422\u001b[0m                 \u001b[0;32mexcept\u001b[0m \u001b[0mBaseException\u001b[0m \u001b[0;32mas\u001b[0m \u001b[0me\u001b[0m\u001b[0;34m:\u001b[0m\u001b[0;34m\u001b[0m\u001b[0;34m\u001b[0m\u001b[0m\n",
      "\u001b[0;32m~/opt/anaconda3/lib/python3.8/http/client.py\u001b[0m in \u001b[0;36mgetresponse\u001b[0;34m(self)\u001b[0m\n\u001b[1;32m   1346\u001b[0m             \u001b[0;32mtry\u001b[0m\u001b[0;34m:\u001b[0m\u001b[0;34m\u001b[0m\u001b[0;34m\u001b[0m\u001b[0m\n\u001b[0;32m-> 1347\u001b[0;31m                 \u001b[0mresponse\u001b[0m\u001b[0;34m.\u001b[0m\u001b[0mbegin\u001b[0m\u001b[0;34m(\u001b[0m\u001b[0;34m)\u001b[0m\u001b[0;34m\u001b[0m\u001b[0;34m\u001b[0m\u001b[0m\n\u001b[0m\u001b[1;32m   1348\u001b[0m             \u001b[0;32mexcept\u001b[0m \u001b[0mConnectionError\u001b[0m\u001b[0;34m:\u001b[0m\u001b[0;34m\u001b[0m\u001b[0;34m\u001b[0m\u001b[0m\n",
      "\u001b[0;32m~/opt/anaconda3/lib/python3.8/http/client.py\u001b[0m in \u001b[0;36mbegin\u001b[0;34m(self)\u001b[0m\n\u001b[1;32m    306\u001b[0m         \u001b[0;32mwhile\u001b[0m \u001b[0;32mTrue\u001b[0m\u001b[0;34m:\u001b[0m\u001b[0;34m\u001b[0m\u001b[0;34m\u001b[0m\u001b[0m\n\u001b[0;32m--> 307\u001b[0;31m             \u001b[0mversion\u001b[0m\u001b[0;34m,\u001b[0m \u001b[0mstatus\u001b[0m\u001b[0;34m,\u001b[0m \u001b[0mreason\u001b[0m \u001b[0;34m=\u001b[0m \u001b[0mself\u001b[0m\u001b[0;34m.\u001b[0m\u001b[0m_read_status\u001b[0m\u001b[0;34m(\u001b[0m\u001b[0;34m)\u001b[0m\u001b[0;34m\u001b[0m\u001b[0;34m\u001b[0m\u001b[0m\n\u001b[0m\u001b[1;32m    308\u001b[0m             \u001b[0;32mif\u001b[0m \u001b[0mstatus\u001b[0m \u001b[0;34m!=\u001b[0m \u001b[0mCONTINUE\u001b[0m\u001b[0;34m:\u001b[0m\u001b[0;34m\u001b[0m\u001b[0;34m\u001b[0m\u001b[0m\n",
      "\u001b[0;32m~/opt/anaconda3/lib/python3.8/http/client.py\u001b[0m in \u001b[0;36m_read_status\u001b[0;34m(self)\u001b[0m\n\u001b[1;32m    267\u001b[0m     \u001b[0;32mdef\u001b[0m \u001b[0m_read_status\u001b[0m\u001b[0;34m(\u001b[0m\u001b[0mself\u001b[0m\u001b[0;34m)\u001b[0m\u001b[0;34m:\u001b[0m\u001b[0;34m\u001b[0m\u001b[0;34m\u001b[0m\u001b[0m\n\u001b[0;32m--> 268\u001b[0;31m         \u001b[0mline\u001b[0m \u001b[0;34m=\u001b[0m \u001b[0mstr\u001b[0m\u001b[0;34m(\u001b[0m\u001b[0mself\u001b[0m\u001b[0;34m.\u001b[0m\u001b[0mfp\u001b[0m\u001b[0;34m.\u001b[0m\u001b[0mreadline\u001b[0m\u001b[0;34m(\u001b[0m\u001b[0m_MAXLINE\u001b[0m \u001b[0;34m+\u001b[0m \u001b[0;36m1\u001b[0m\u001b[0;34m)\u001b[0m\u001b[0;34m,\u001b[0m \u001b[0;34m\"iso-8859-1\"\u001b[0m\u001b[0;34m)\u001b[0m\u001b[0;34m\u001b[0m\u001b[0;34m\u001b[0m\u001b[0m\n\u001b[0m\u001b[1;32m    269\u001b[0m         \u001b[0;32mif\u001b[0m \u001b[0mlen\u001b[0m\u001b[0;34m(\u001b[0m\u001b[0mline\u001b[0m\u001b[0;34m)\u001b[0m \u001b[0;34m>\u001b[0m \u001b[0m_MAXLINE\u001b[0m\u001b[0;34m:\u001b[0m\u001b[0;34m\u001b[0m\u001b[0;34m\u001b[0m\u001b[0m\n",
      "\u001b[0;32m~/opt/anaconda3/lib/python3.8/socket.py\u001b[0m in \u001b[0;36mreadinto\u001b[0;34m(self, b)\u001b[0m\n\u001b[1;32m    668\u001b[0m             \u001b[0;32mtry\u001b[0m\u001b[0;34m:\u001b[0m\u001b[0;34m\u001b[0m\u001b[0;34m\u001b[0m\u001b[0m\n\u001b[0;32m--> 669\u001b[0;31m                 \u001b[0;32mreturn\u001b[0m \u001b[0mself\u001b[0m\u001b[0;34m.\u001b[0m\u001b[0m_sock\u001b[0m\u001b[0;34m.\u001b[0m\u001b[0mrecv_into\u001b[0m\u001b[0;34m(\u001b[0m\u001b[0mb\u001b[0m\u001b[0;34m)\u001b[0m\u001b[0;34m\u001b[0m\u001b[0;34m\u001b[0m\u001b[0m\n\u001b[0m\u001b[1;32m    670\u001b[0m             \u001b[0;32mexcept\u001b[0m \u001b[0mtimeout\u001b[0m\u001b[0;34m:\u001b[0m\u001b[0;34m\u001b[0m\u001b[0;34m\u001b[0m\u001b[0m\n",
      "\u001b[0;31mConnectionResetError\u001b[0m: [Errno 54] Connection reset by peer",
      "\nDuring handling of the above exception, another exception occurred:\n",
      "\u001b[0;31mProtocolError\u001b[0m                             Traceback (most recent call last)",
      "\u001b[0;32m<ipython-input-346-f40ffd934f2d>\u001b[0m in \u001b[0;36mSMILE_checker\u001b[0;34m(mol)\u001b[0m\n\u001b[1;32m      4\u001b[0m         \u001b[0;31m#search query\u001b[0m\u001b[0;34m\u001b[0m\u001b[0;34m\u001b[0m\u001b[0;34m\u001b[0m\u001b[0m\n\u001b[0;32m----> 5\u001b[0;31m         \u001b[0mbrowser\u001b[0m\u001b[0;34m.\u001b[0m\u001b[0mget\u001b[0m\u001b[0;34m(\u001b[0m\u001b[0;34m\"https://pubchem.ncbi.nlm.nih.gov/#query=\"\u001b[0m\u001b[0;34m+\u001b[0m\u001b[0mmol\u001b[0m\u001b[0;34m)\u001b[0m\u001b[0;34m\u001b[0m\u001b[0;34m\u001b[0m\u001b[0m\n\u001b[0m\u001b[1;32m      6\u001b[0m         \u001b[0mtime\u001b[0m\u001b[0;34m.\u001b[0m\u001b[0msleep\u001b[0m\u001b[0;34m(\u001b[0m\u001b[0;36m5\u001b[0m\u001b[0;34m)\u001b[0m\u001b[0;34m\u001b[0m\u001b[0;34m\u001b[0m\u001b[0m\n",
      "\u001b[0;32m~/opt/anaconda3/lib/python3.8/site-packages/selenium/webdriver/remote/webdriver.py\u001b[0m in \u001b[0;36mget\u001b[0;34m(self, url)\u001b[0m\n\u001b[1;32m    332\u001b[0m         \"\"\"\n\u001b[0;32m--> 333\u001b[0;31m         \u001b[0mself\u001b[0m\u001b[0;34m.\u001b[0m\u001b[0mexecute\u001b[0m\u001b[0;34m(\u001b[0m\u001b[0mCommand\u001b[0m\u001b[0;34m.\u001b[0m\u001b[0mGET\u001b[0m\u001b[0;34m,\u001b[0m \u001b[0;34m{\u001b[0m\u001b[0;34m'url'\u001b[0m\u001b[0;34m:\u001b[0m \u001b[0murl\u001b[0m\u001b[0;34m}\u001b[0m\u001b[0;34m)\u001b[0m\u001b[0;34m\u001b[0m\u001b[0;34m\u001b[0m\u001b[0m\n\u001b[0m\u001b[1;32m    334\u001b[0m \u001b[0;34m\u001b[0m\u001b[0m\n",
      "\u001b[0;32m~/opt/anaconda3/lib/python3.8/site-packages/selenium/webdriver/remote/webdriver.py\u001b[0m in \u001b[0;36mexecute\u001b[0;34m(self, driver_command, params)\u001b[0m\n\u001b[1;32m    318\u001b[0m         \u001b[0mparams\u001b[0m \u001b[0;34m=\u001b[0m \u001b[0mself\u001b[0m\u001b[0;34m.\u001b[0m\u001b[0m_wrap_value\u001b[0m\u001b[0;34m(\u001b[0m\u001b[0mparams\u001b[0m\u001b[0;34m)\u001b[0m\u001b[0;34m\u001b[0m\u001b[0;34m\u001b[0m\u001b[0m\n\u001b[0;32m--> 319\u001b[0;31m         \u001b[0mresponse\u001b[0m \u001b[0;34m=\u001b[0m \u001b[0mself\u001b[0m\u001b[0;34m.\u001b[0m\u001b[0mcommand_executor\u001b[0m\u001b[0;34m.\u001b[0m\u001b[0mexecute\u001b[0m\u001b[0;34m(\u001b[0m\u001b[0mdriver_command\u001b[0m\u001b[0;34m,\u001b[0m \u001b[0mparams\u001b[0m\u001b[0;34m)\u001b[0m\u001b[0;34m\u001b[0m\u001b[0;34m\u001b[0m\u001b[0m\n\u001b[0m\u001b[1;32m    320\u001b[0m         \u001b[0;32mif\u001b[0m \u001b[0mresponse\u001b[0m\u001b[0;34m:\u001b[0m\u001b[0;34m\u001b[0m\u001b[0;34m\u001b[0m\u001b[0m\n",
      "\u001b[0;32m~/opt/anaconda3/lib/python3.8/site-packages/selenium/webdriver/remote/remote_connection.py\u001b[0m in \u001b[0;36mexecute\u001b[0;34m(self, command, params)\u001b[0m\n\u001b[1;32m    373\u001b[0m         \u001b[0murl\u001b[0m \u001b[0;34m=\u001b[0m \u001b[0;34m'%s%s'\u001b[0m \u001b[0;34m%\u001b[0m \u001b[0;34m(\u001b[0m\u001b[0mself\u001b[0m\u001b[0;34m.\u001b[0m\u001b[0m_url\u001b[0m\u001b[0;34m,\u001b[0m \u001b[0mpath\u001b[0m\u001b[0;34m)\u001b[0m\u001b[0;34m\u001b[0m\u001b[0;34m\u001b[0m\u001b[0m\n\u001b[0;32m--> 374\u001b[0;31m         \u001b[0;32mreturn\u001b[0m \u001b[0mself\u001b[0m\u001b[0;34m.\u001b[0m\u001b[0m_request\u001b[0m\u001b[0;34m(\u001b[0m\u001b[0mcommand_info\u001b[0m\u001b[0;34m[\u001b[0m\u001b[0;36m0\u001b[0m\u001b[0;34m]\u001b[0m\u001b[0;34m,\u001b[0m \u001b[0murl\u001b[0m\u001b[0;34m,\u001b[0m \u001b[0mbody\u001b[0m\u001b[0;34m=\u001b[0m\u001b[0mdata\u001b[0m\u001b[0;34m)\u001b[0m\u001b[0;34m\u001b[0m\u001b[0;34m\u001b[0m\u001b[0m\n\u001b[0m\u001b[1;32m    375\u001b[0m \u001b[0;34m\u001b[0m\u001b[0m\n",
      "\u001b[0;32m~/opt/anaconda3/lib/python3.8/site-packages/selenium/webdriver/remote/remote_connection.py\u001b[0m in \u001b[0;36m_request\u001b[0;34m(self, method, url, body)\u001b[0m\n\u001b[1;32m    396\u001b[0m         \u001b[0;32mif\u001b[0m \u001b[0mself\u001b[0m\u001b[0;34m.\u001b[0m\u001b[0mkeep_alive\u001b[0m\u001b[0;34m:\u001b[0m\u001b[0;34m\u001b[0m\u001b[0;34m\u001b[0m\u001b[0m\n\u001b[0;32m--> 397\u001b[0;31m             \u001b[0mresp\u001b[0m \u001b[0;34m=\u001b[0m \u001b[0mself\u001b[0m\u001b[0;34m.\u001b[0m\u001b[0m_conn\u001b[0m\u001b[0;34m.\u001b[0m\u001b[0mrequest\u001b[0m\u001b[0;34m(\u001b[0m\u001b[0mmethod\u001b[0m\u001b[0;34m,\u001b[0m \u001b[0murl\u001b[0m\u001b[0;34m,\u001b[0m \u001b[0mbody\u001b[0m\u001b[0;34m=\u001b[0m\u001b[0mbody\u001b[0m\u001b[0;34m,\u001b[0m \u001b[0mheaders\u001b[0m\u001b[0;34m=\u001b[0m\u001b[0mheaders\u001b[0m\u001b[0;34m)\u001b[0m\u001b[0;34m\u001b[0m\u001b[0;34m\u001b[0m\u001b[0m\n\u001b[0m\u001b[1;32m    398\u001b[0m \u001b[0;34m\u001b[0m\u001b[0m\n",
      "\u001b[0;32m~/opt/anaconda3/lib/python3.8/site-packages/urllib3/request.py\u001b[0m in \u001b[0;36mrequest\u001b[0;34m(self, method, url, fields, headers, **urlopen_kw)\u001b[0m\n\u001b[1;32m     78\u001b[0m         \u001b[0;32melse\u001b[0m\u001b[0;34m:\u001b[0m\u001b[0;34m\u001b[0m\u001b[0;34m\u001b[0m\u001b[0m\n\u001b[0;32m---> 79\u001b[0;31m             return self.request_encode_body(\n\u001b[0m\u001b[1;32m     80\u001b[0m                 \u001b[0mmethod\u001b[0m\u001b[0;34m,\u001b[0m \u001b[0murl\u001b[0m\u001b[0;34m,\u001b[0m \u001b[0mfields\u001b[0m\u001b[0;34m=\u001b[0m\u001b[0mfields\u001b[0m\u001b[0;34m,\u001b[0m \u001b[0mheaders\u001b[0m\u001b[0;34m=\u001b[0m\u001b[0mheaders\u001b[0m\u001b[0;34m,\u001b[0m \u001b[0;34m**\u001b[0m\u001b[0murlopen_kw\u001b[0m\u001b[0;34m\u001b[0m\u001b[0;34m\u001b[0m\u001b[0m\n",
      "\u001b[0;32m~/opt/anaconda3/lib/python3.8/site-packages/urllib3/request.py\u001b[0m in \u001b[0;36mrequest_encode_body\u001b[0;34m(self, method, url, fields, headers, encode_multipart, multipart_boundary, **urlopen_kw)\u001b[0m\n\u001b[1;32m    170\u001b[0m \u001b[0;34m\u001b[0m\u001b[0m\n\u001b[0;32m--> 171\u001b[0;31m         \u001b[0;32mreturn\u001b[0m \u001b[0mself\u001b[0m\u001b[0;34m.\u001b[0m\u001b[0murlopen\u001b[0m\u001b[0;34m(\u001b[0m\u001b[0mmethod\u001b[0m\u001b[0;34m,\u001b[0m \u001b[0murl\u001b[0m\u001b[0;34m,\u001b[0m \u001b[0;34m**\u001b[0m\u001b[0mextra_kw\u001b[0m\u001b[0;34m)\u001b[0m\u001b[0;34m\u001b[0m\u001b[0;34m\u001b[0m\u001b[0m\n\u001b[0m",
      "\u001b[0;32m~/opt/anaconda3/lib/python3.8/site-packages/urllib3/poolmanager.py\u001b[0m in \u001b[0;36murlopen\u001b[0;34m(self, method, url, redirect, **kw)\u001b[0m\n\u001b[1;32m    335\u001b[0m         \u001b[0;32melse\u001b[0m\u001b[0;34m:\u001b[0m\u001b[0;34m\u001b[0m\u001b[0;34m\u001b[0m\u001b[0m\n\u001b[0;32m--> 336\u001b[0;31m             \u001b[0mresponse\u001b[0m \u001b[0;34m=\u001b[0m \u001b[0mconn\u001b[0m\u001b[0;34m.\u001b[0m\u001b[0murlopen\u001b[0m\u001b[0;34m(\u001b[0m\u001b[0mmethod\u001b[0m\u001b[0;34m,\u001b[0m \u001b[0mu\u001b[0m\u001b[0;34m.\u001b[0m\u001b[0mrequest_uri\u001b[0m\u001b[0;34m,\u001b[0m \u001b[0;34m**\u001b[0m\u001b[0mkw\u001b[0m\u001b[0;34m)\u001b[0m\u001b[0;34m\u001b[0m\u001b[0;34m\u001b[0m\u001b[0m\n\u001b[0m\u001b[1;32m    337\u001b[0m \u001b[0;34m\u001b[0m\u001b[0m\n",
      "\u001b[0;32m~/opt/anaconda3/lib/python3.8/site-packages/urllib3/connectionpool.py\u001b[0m in \u001b[0;36murlopen\u001b[0;34m(self, method, url, body, headers, retries, redirect, assert_same_host, timeout, pool_timeout, release_conn, chunked, body_pos, **response_kw)\u001b[0m\n\u001b[1;32m    725\u001b[0m \u001b[0;34m\u001b[0m\u001b[0m\n\u001b[0;32m--> 726\u001b[0;31m             retries = retries.increment(\n\u001b[0m\u001b[1;32m    727\u001b[0m                 \u001b[0mmethod\u001b[0m\u001b[0;34m,\u001b[0m \u001b[0murl\u001b[0m\u001b[0;34m,\u001b[0m \u001b[0merror\u001b[0m\u001b[0;34m=\u001b[0m\u001b[0me\u001b[0m\u001b[0;34m,\u001b[0m \u001b[0m_pool\u001b[0m\u001b[0;34m=\u001b[0m\u001b[0mself\u001b[0m\u001b[0;34m,\u001b[0m \u001b[0m_stacktrace\u001b[0m\u001b[0;34m=\u001b[0m\u001b[0msys\u001b[0m\u001b[0;34m.\u001b[0m\u001b[0mexc_info\u001b[0m\u001b[0;34m(\u001b[0m\u001b[0;34m)\u001b[0m\u001b[0;34m[\u001b[0m\u001b[0;36m2\u001b[0m\u001b[0;34m]\u001b[0m\u001b[0;34m\u001b[0m\u001b[0;34m\u001b[0m\u001b[0m\n",
      "\u001b[0;32m~/opt/anaconda3/lib/python3.8/site-packages/urllib3/util/retry.py\u001b[0m in \u001b[0;36mincrement\u001b[0;34m(self, method, url, response, error, _pool, _stacktrace)\u001b[0m\n\u001b[1;32m    409\u001b[0m             \u001b[0;32mif\u001b[0m \u001b[0mread\u001b[0m \u001b[0;32mis\u001b[0m \u001b[0;32mFalse\u001b[0m \u001b[0;32mor\u001b[0m \u001b[0;32mnot\u001b[0m \u001b[0mself\u001b[0m\u001b[0;34m.\u001b[0m\u001b[0m_is_method_retryable\u001b[0m\u001b[0;34m(\u001b[0m\u001b[0mmethod\u001b[0m\u001b[0;34m)\u001b[0m\u001b[0;34m:\u001b[0m\u001b[0;34m\u001b[0m\u001b[0;34m\u001b[0m\u001b[0m\n\u001b[0;32m--> 410\u001b[0;31m                 \u001b[0;32mraise\u001b[0m \u001b[0msix\u001b[0m\u001b[0;34m.\u001b[0m\u001b[0mreraise\u001b[0m\u001b[0;34m(\u001b[0m\u001b[0mtype\u001b[0m\u001b[0;34m(\u001b[0m\u001b[0merror\u001b[0m\u001b[0;34m)\u001b[0m\u001b[0;34m,\u001b[0m \u001b[0merror\u001b[0m\u001b[0;34m,\u001b[0m \u001b[0m_stacktrace\u001b[0m\u001b[0;34m)\u001b[0m\u001b[0;34m\u001b[0m\u001b[0;34m\u001b[0m\u001b[0m\n\u001b[0m\u001b[1;32m    411\u001b[0m             \u001b[0;32melif\u001b[0m \u001b[0mread\u001b[0m \u001b[0;32mis\u001b[0m \u001b[0;32mnot\u001b[0m \u001b[0;32mNone\u001b[0m\u001b[0;34m:\u001b[0m\u001b[0;34m\u001b[0m\u001b[0;34m\u001b[0m\u001b[0m\n",
      "\u001b[0;32m~/opt/anaconda3/lib/python3.8/site-packages/urllib3/packages/six.py\u001b[0m in \u001b[0;36mreraise\u001b[0;34m(tp, value, tb)\u001b[0m\n\u001b[1;32m    733\u001b[0m             \u001b[0;32mif\u001b[0m \u001b[0mvalue\u001b[0m\u001b[0;34m.\u001b[0m\u001b[0m__traceback__\u001b[0m \u001b[0;32mis\u001b[0m \u001b[0;32mnot\u001b[0m \u001b[0mtb\u001b[0m\u001b[0;34m:\u001b[0m\u001b[0;34m\u001b[0m\u001b[0;34m\u001b[0m\u001b[0m\n\u001b[0;32m--> 734\u001b[0;31m                 \u001b[0;32mraise\u001b[0m \u001b[0mvalue\u001b[0m\u001b[0;34m.\u001b[0m\u001b[0mwith_traceback\u001b[0m\u001b[0;34m(\u001b[0m\u001b[0mtb\u001b[0m\u001b[0;34m)\u001b[0m\u001b[0;34m\u001b[0m\u001b[0;34m\u001b[0m\u001b[0m\n\u001b[0m\u001b[1;32m    735\u001b[0m             \u001b[0;32mraise\u001b[0m \u001b[0mvalue\u001b[0m\u001b[0;34m\u001b[0m\u001b[0;34m\u001b[0m\u001b[0m\n",
      "\u001b[0;32m~/opt/anaconda3/lib/python3.8/site-packages/urllib3/connectionpool.py\u001b[0m in \u001b[0;36murlopen\u001b[0;34m(self, method, url, body, headers, retries, redirect, assert_same_host, timeout, pool_timeout, release_conn, chunked, body_pos, **response_kw)\u001b[0m\n\u001b[1;32m    669\u001b[0m             \u001b[0;31m# Make the request on the httplib connection object.\u001b[0m\u001b[0;34m\u001b[0m\u001b[0;34m\u001b[0m\u001b[0;34m\u001b[0m\u001b[0m\n\u001b[0;32m--> 670\u001b[0;31m             httplib_response = self._make_request(\n\u001b[0m\u001b[1;32m    671\u001b[0m                 \u001b[0mconn\u001b[0m\u001b[0;34m,\u001b[0m\u001b[0;34m\u001b[0m\u001b[0;34m\u001b[0m\u001b[0m\n",
      "\u001b[0;32m~/opt/anaconda3/lib/python3.8/site-packages/urllib3/connectionpool.py\u001b[0m in \u001b[0;36m_make_request\u001b[0;34m(self, conn, method, url, timeout, chunked, **httplib_request_kw)\u001b[0m\n\u001b[1;32m    425\u001b[0m                     \u001b[0;31m# Otherwise it looks like a bug in the code.\u001b[0m\u001b[0;34m\u001b[0m\u001b[0;34m\u001b[0m\u001b[0;34m\u001b[0m\u001b[0m\n\u001b[0;32m--> 426\u001b[0;31m                     \u001b[0msix\u001b[0m\u001b[0;34m.\u001b[0m\u001b[0mraise_from\u001b[0m\u001b[0;34m(\u001b[0m\u001b[0me\u001b[0m\u001b[0;34m,\u001b[0m \u001b[0;32mNone\u001b[0m\u001b[0;34m)\u001b[0m\u001b[0;34m\u001b[0m\u001b[0;34m\u001b[0m\u001b[0m\n\u001b[0m\u001b[1;32m    427\u001b[0m         \u001b[0;32mexcept\u001b[0m \u001b[0;34m(\u001b[0m\u001b[0mSocketTimeout\u001b[0m\u001b[0;34m,\u001b[0m \u001b[0mBaseSSLError\u001b[0m\u001b[0;34m,\u001b[0m \u001b[0mSocketError\u001b[0m\u001b[0;34m)\u001b[0m \u001b[0;32mas\u001b[0m \u001b[0me\u001b[0m\u001b[0;34m:\u001b[0m\u001b[0;34m\u001b[0m\u001b[0;34m\u001b[0m\u001b[0m\n",
      "\u001b[0;32m~/opt/anaconda3/lib/python3.8/site-packages/urllib3/packages/six.py\u001b[0m in \u001b[0;36mraise_from\u001b[0;34m(value, from_value)\u001b[0m\n",
      "\u001b[0;32m~/opt/anaconda3/lib/python3.8/site-packages/urllib3/connectionpool.py\u001b[0m in \u001b[0;36m_make_request\u001b[0;34m(self, conn, method, url, timeout, chunked, **httplib_request_kw)\u001b[0m\n\u001b[1;32m    420\u001b[0m                 \u001b[0;32mtry\u001b[0m\u001b[0;34m:\u001b[0m\u001b[0;34m\u001b[0m\u001b[0;34m\u001b[0m\u001b[0m\n\u001b[0;32m--> 421\u001b[0;31m                     \u001b[0mhttplib_response\u001b[0m \u001b[0;34m=\u001b[0m \u001b[0mconn\u001b[0m\u001b[0;34m.\u001b[0m\u001b[0mgetresponse\u001b[0m\u001b[0;34m(\u001b[0m\u001b[0;34m)\u001b[0m\u001b[0;34m\u001b[0m\u001b[0;34m\u001b[0m\u001b[0m\n\u001b[0m\u001b[1;32m    422\u001b[0m                 \u001b[0;32mexcept\u001b[0m \u001b[0mBaseException\u001b[0m \u001b[0;32mas\u001b[0m \u001b[0me\u001b[0m\u001b[0;34m:\u001b[0m\u001b[0;34m\u001b[0m\u001b[0;34m\u001b[0m\u001b[0m\n",
      "\u001b[0;32m~/opt/anaconda3/lib/python3.8/http/client.py\u001b[0m in \u001b[0;36mgetresponse\u001b[0;34m(self)\u001b[0m\n\u001b[1;32m   1346\u001b[0m             \u001b[0;32mtry\u001b[0m\u001b[0;34m:\u001b[0m\u001b[0;34m\u001b[0m\u001b[0;34m\u001b[0m\u001b[0m\n\u001b[0;32m-> 1347\u001b[0;31m                 \u001b[0mresponse\u001b[0m\u001b[0;34m.\u001b[0m\u001b[0mbegin\u001b[0m\u001b[0;34m(\u001b[0m\u001b[0;34m)\u001b[0m\u001b[0;34m\u001b[0m\u001b[0;34m\u001b[0m\u001b[0m\n\u001b[0m\u001b[1;32m   1348\u001b[0m             \u001b[0;32mexcept\u001b[0m \u001b[0mConnectionError\u001b[0m\u001b[0;34m:\u001b[0m\u001b[0;34m\u001b[0m\u001b[0;34m\u001b[0m\u001b[0m\n",
      "\u001b[0;32m~/opt/anaconda3/lib/python3.8/http/client.py\u001b[0m in \u001b[0;36mbegin\u001b[0;34m(self)\u001b[0m\n\u001b[1;32m    306\u001b[0m         \u001b[0;32mwhile\u001b[0m \u001b[0;32mTrue\u001b[0m\u001b[0;34m:\u001b[0m\u001b[0;34m\u001b[0m\u001b[0;34m\u001b[0m\u001b[0m\n\u001b[0;32m--> 307\u001b[0;31m             \u001b[0mversion\u001b[0m\u001b[0;34m,\u001b[0m \u001b[0mstatus\u001b[0m\u001b[0;34m,\u001b[0m \u001b[0mreason\u001b[0m \u001b[0;34m=\u001b[0m \u001b[0mself\u001b[0m\u001b[0;34m.\u001b[0m\u001b[0m_read_status\u001b[0m\u001b[0;34m(\u001b[0m\u001b[0;34m)\u001b[0m\u001b[0;34m\u001b[0m\u001b[0;34m\u001b[0m\u001b[0m\n\u001b[0m\u001b[1;32m    308\u001b[0m             \u001b[0;32mif\u001b[0m \u001b[0mstatus\u001b[0m \u001b[0;34m!=\u001b[0m \u001b[0mCONTINUE\u001b[0m\u001b[0;34m:\u001b[0m\u001b[0;34m\u001b[0m\u001b[0;34m\u001b[0m\u001b[0m\n",
      "\u001b[0;32m~/opt/anaconda3/lib/python3.8/http/client.py\u001b[0m in \u001b[0;36m_read_status\u001b[0;34m(self)\u001b[0m\n\u001b[1;32m    267\u001b[0m     \u001b[0;32mdef\u001b[0m \u001b[0m_read_status\u001b[0m\u001b[0;34m(\u001b[0m\u001b[0mself\u001b[0m\u001b[0;34m)\u001b[0m\u001b[0;34m:\u001b[0m\u001b[0;34m\u001b[0m\u001b[0;34m\u001b[0m\u001b[0m\n\u001b[0;32m--> 268\u001b[0;31m         \u001b[0mline\u001b[0m \u001b[0;34m=\u001b[0m \u001b[0mstr\u001b[0m\u001b[0;34m(\u001b[0m\u001b[0mself\u001b[0m\u001b[0;34m.\u001b[0m\u001b[0mfp\u001b[0m\u001b[0;34m.\u001b[0m\u001b[0mreadline\u001b[0m\u001b[0;34m(\u001b[0m\u001b[0m_MAXLINE\u001b[0m \u001b[0;34m+\u001b[0m \u001b[0;36m1\u001b[0m\u001b[0;34m)\u001b[0m\u001b[0;34m,\u001b[0m \u001b[0;34m\"iso-8859-1\"\u001b[0m\u001b[0;34m)\u001b[0m\u001b[0;34m\u001b[0m\u001b[0;34m\u001b[0m\u001b[0m\n\u001b[0m\u001b[1;32m    269\u001b[0m         \u001b[0;32mif\u001b[0m \u001b[0mlen\u001b[0m\u001b[0;34m(\u001b[0m\u001b[0mline\u001b[0m\u001b[0;34m)\u001b[0m \u001b[0;34m>\u001b[0m \u001b[0m_MAXLINE\u001b[0m\u001b[0;34m:\u001b[0m\u001b[0;34m\u001b[0m\u001b[0;34m\u001b[0m\u001b[0m\n",
      "\u001b[0;32m~/opt/anaconda3/lib/python3.8/socket.py\u001b[0m in \u001b[0;36mreadinto\u001b[0;34m(self, b)\u001b[0m\n\u001b[1;32m    668\u001b[0m             \u001b[0;32mtry\u001b[0m\u001b[0;34m:\u001b[0m\u001b[0;34m\u001b[0m\u001b[0;34m\u001b[0m\u001b[0m\n\u001b[0;32m--> 669\u001b[0;31m                 \u001b[0;32mreturn\u001b[0m \u001b[0mself\u001b[0m\u001b[0;34m.\u001b[0m\u001b[0m_sock\u001b[0m\u001b[0;34m.\u001b[0m\u001b[0mrecv_into\u001b[0m\u001b[0;34m(\u001b[0m\u001b[0mb\u001b[0m\u001b[0;34m)\u001b[0m\u001b[0;34m\u001b[0m\u001b[0;34m\u001b[0m\u001b[0m\n\u001b[0m\u001b[1;32m    670\u001b[0m             \u001b[0;32mexcept\u001b[0m \u001b[0mtimeout\u001b[0m\u001b[0;34m:\u001b[0m\u001b[0;34m\u001b[0m\u001b[0;34m\u001b[0m\u001b[0m\n",
      "\u001b[0;31mProtocolError\u001b[0m: ('Connection aborted.', ConnectionResetError(54, 'Connection reset by peer'))",
      "\nDuring handling of the above exception, another exception occurred:\n",
      "\u001b[0;31mUnboundLocalError\u001b[0m                         Traceback (most recent call last)",
      "\u001b[0;32m<ipython-input-370-0e1f05d8f118>\u001b[0m in \u001b[0;36m<module>\u001b[0;34m\u001b[0m\n\u001b[1;32m      8\u001b[0m         \u001b[0;32mpass\u001b[0m\u001b[0;34m\u001b[0m\u001b[0;34m\u001b[0m\u001b[0m\n\u001b[1;32m      9\u001b[0m     \u001b[0;32melse\u001b[0m\u001b[0;34m:\u001b[0m\u001b[0;34m\u001b[0m\u001b[0;34m\u001b[0m\u001b[0m\n\u001b[0;32m---> 10\u001b[0;31m         \u001b[0miupac\u001b[0m\u001b[0;34m,\u001b[0m \u001b[0mcas\u001b[0m \u001b[0;34m=\u001b[0m \u001b[0mSMILE_checker\u001b[0m\u001b[0;34m(\u001b[0m\u001b[0msmiles\u001b[0m\u001b[0;34m[\u001b[0m\u001b[0mi\u001b[0m\u001b[0;34m]\u001b[0m\u001b[0;34m)\u001b[0m\u001b[0;34m\u001b[0m\u001b[0;34m\u001b[0m\u001b[0m\n\u001b[0m\u001b[1;32m     11\u001b[0m         \u001b[0miupaclist\u001b[0m\u001b[0;34m[\u001b[0m\u001b[0mi\u001b[0m\u001b[0;34m]\u001b[0m \u001b[0;34m=\u001b[0m \u001b[0miupac\u001b[0m\u001b[0;34m\u001b[0m\u001b[0;34m\u001b[0m\u001b[0m\n\u001b[1;32m     12\u001b[0m         \u001b[0mcaslist\u001b[0m\u001b[0;34m[\u001b[0m\u001b[0mi\u001b[0m\u001b[0;34m]\u001b[0m \u001b[0;34m=\u001b[0m \u001b[0mcas\u001b[0m\u001b[0;34m\u001b[0m\u001b[0;34m\u001b[0m\u001b[0m\n",
      "\u001b[0;32m<ipython-input-346-f40ffd934f2d>\u001b[0m in \u001b[0;36mSMILE_checker\u001b[0;34m(mol)\u001b[0m\n\u001b[1;32m     36\u001b[0m         \u001b[0;32mreturn\u001b[0m \u001b[0mIUPAC\u001b[0m\u001b[0;34m,\u001b[0m \u001b[0mCAS\u001b[0m\u001b[0;34m\u001b[0m\u001b[0;34m\u001b[0m\u001b[0m\n\u001b[1;32m     37\u001b[0m     \u001b[0;32mexcept\u001b[0m\u001b[0;34m:\u001b[0m\u001b[0;34m\u001b[0m\u001b[0;34m\u001b[0m\u001b[0m\n\u001b[0;32m---> 38\u001b[0;31m         \u001b[0;32mreturn\u001b[0m \u001b[0mIUPAC\u001b[0m\u001b[0;34m,\u001b[0m \u001b[0mCAS\u001b[0m\u001b[0;34m\u001b[0m\u001b[0;34m\u001b[0m\u001b[0m\n\u001b[0m",
      "\u001b[0;31mUnboundLocalError\u001b[0m: local variable 'IUPAC' referenced before assignment"
     ]
    }
   ],
   "source": [
    "browser = webdriver.Chrome()\n",
    "browser.get(\"https://pubchem.ncbi.nlm.nih.gov\")\n",
    "\n",
    "for i in range(291,1163):\n",
    "    if smiles[i] == 'no matches':\n",
    "        pass\n",
    "    elif type(smiles[i]) == float:\n",
    "        pass\n",
    "    else:\n",
    "        iupac, cas = SMILE_checker(smiles[i])\n",
    "        iupaclist[i] = iupac\n",
    "        caslist[i] = cas\n",
    "    print(i, molist[i], caslist[i], smiles[i], iupaclist[i])"
   ]
  },
  {
   "cell_type": "code",
   "execution_count": 371,
   "metadata": {},
   "outputs": [],
   "source": [
    "data['computed CAS'] = caslist\n",
    "data['computed IUPAC'] = iupaclist\n",
    "data.to_csv('data_csvs/pka_data_updated.csv')"
   ]
  },
  {
   "cell_type": "code",
   "execution_count": 372,
   "metadata": {},
   "outputs": [],
   "source": [
    "data = pd.read_csv('data_csvs/pka_data_updated2.csv')\n",
    "molist = data['solute'].tolist()\n",
    "smiles = data['solute SMILES'].tolist()\n",
    "caslist = data['computed CAS'].tolist()\n",
    "iupaclist = data['computed IUPAC'].tolist()"
   ]
  },
  {
   "cell_type": "code",
   "execution_count": 373,
   "metadata": {
    "collapsed": true,
    "jupyter": {
     "outputs_hidden": true
    },
    "tags": []
   },
   "outputs": [
    {
     "name": "stdout",
     "output_type": "stream",
     "text": [
      "440 C6F5SO2NHSO2C6H3-3-NO2-4-Cl no matches\n",
      "458 4-Cl-C6H4SO(=NTf)NHSO2-C6H4-4-Cl no matches\n",
      "519 7-nitroIndole C1=CC2=C(C(=C1)[N+](=O)[O-])NC=C2\n",
      "520 Indoxyl acetate CC(=O)OC1=CNC2=CC=CC=C21\n",
      "521 Phenol no SMILES\n",
      "523 4-cyano-2,3,5,6-tetrafluoroAniline CC(C)C1=C(C(=CC=C1)C(C)C)N=C(C)NC2=C(C(=C(C(=C2F)F)C#N)F)F\n",
      "524 pentakis(trifluoromethyl)Toluene no matches\n",
      "525 5-nitroIndole C1=CC2=C(C=CN2)C=C1[N+](=O)[O-]\n",
      "528 4-nitroIndole C1=CC2=C(C=CN2)C(=C1)[N+](=O)[O-]\n",
      "529 6-nitroIndole C1=CC(=CC2=C1C=CN2)[N+](=O)[O-]\n",
      "542 3-trifluoromethylPhenol C1=CC(=CC(=C1)O)C(F)(F)F\n",
      "546 4-nitroIndolocarbazole no matches\n",
      "550 3-cyanoIndole C1=CC=C2C(=C1)C(=CN2)C#N\n",
      "554 4-trifluoromethylPhenol C1=CC(=CC=C1C(F)(F)F)O\n",
      "561 2-trifluoromethylPhenol C1=CC=C(C(=C1)C(F)(F)F)O\n",
      "564 pentakis(trifluoromethyl)Aniline C1(=C(C(=C(C(=C1C(F)(F)F)C(F)(F)F)N)C(F)(F)F)C(F)(F)F)C(F)(F)F\n",
      "575 2,4,6-trinitroAniline C1=C(C=C(C(=C1[N+](=O)[O-])N)[N+](=O)[O-])[N+](=O)[O-]\n",
      "576 3,5-bis(trifluoromethyl)Phenol C1=C(C=C(C=C1C(F)(F)F)O)C(F)(F)F\n",
      "577 2-nitroIndole CCOC(=O)N1C2=CC=CC=C2C=C1[N+](=O)[O-]\n",
      "579 Acetic acid error in recall\n",
      "582 Sorbic acid CC=CC=CC(=O)O\n",
      "584 2-nitroPhenol error in recall\n",
      "587 Retinoic acid error in recall\n",
      "588 3-nitroIndole C1=CC=C2C(=C1)C(=CN2)[N+](=O)[O-]\n",
      "592 Benzoic acid error in recall\n",
      "595 Alizarin C1=CC=C2C(=C1)C(=O)C3=C(C2=O)C(=C(C=C3)O)O\n",
      "599 (CF3)3COH C(C(F)(F)F)(C(F)(F)F)(C(F)(F)F)O\n",
      "602 2,4,6-tribromoPhenol error in recall\n",
      "603 pentacyanoToluene CC1=C(C(=C(C(=C1C#N)C#N)C#N)C#N)C#N\n",
      "605 2,3,5,6-tetrafluoroPhenol C1=C(C(=C(C(=C1F)F)O)F)F\n",
      "606 pentafluoroPhenol C1(=C(C(=C(C(=C1F)F)F)F)F)O\n",
      "621 pentachloroPhenol no SMILES\n",
      "622 pentabromoPhenol C1(=C(C(=C(C(=C1Br)Br)Br)Br)Br)O\n",
      "630 2,6-dinitroPhenol C1=CC(=C(C(=C1)[N+](=O)[O-])O)[N+](=O)[O-]\n",
      "631 2,4-dinitroPhenol error in recall\n",
      "632 2,3,5,6-tetrafluoro-4-trifluoromethylPhenol no matches\n",
      "634 4-fluoro-2,6-dinitroPhenol C1=C(C=C(C(=C1[N+](=O)[O-])O)[N+](=O)[O-])F\n",
      "642 Saccharin error in recall\n",
      "645 2-chloro-4,6-dinitroPhenol C1=C(C=C(C(=C1[N+](=O)[O-])O)Cl)[N+](=O)[O-]\n",
      "673 Picric acid error in recall\n",
      "674 5-nitroBarbituric acid C1(C(=O)NC(=O)NC1=O)[N+](=O)[O-]\n",
      "680 HCl Cl\n",
      "684 pentakis(trifluoromethyl)Thiophenol no matches\n",
      "687 CH3SO3H CS(=O)(=O)O\n",
      "695 TosOH CC1=CC=C(C=C1)S(=O)(=O)O\n",
      "696 PhSO3H C=CCOC(=O)CCC(C(=O)OCC=C)N.C1=CC=C(C=C1)S(=O)(=O)O\n",
      "705 H2SO4 error in recall\n",
      "735 CH(CN)3 no matches\n",
      "740 2,4,6-Tf3Phenol no matches\n",
      "763 1/2/55 C1CC2C3C(C1)SC4CCC5C(C4)OCCOCCOCCOCCOCCOC6CC(S2)CCC6SC7CCCC(C7OCCOCCOCCOCCOCCO3)S5\n",
      "769 4/8/10 C1C2(COC(O1)CCCN)COC(OC2)CCCN\n",
      "783 triazine 1 CSC1=NC2=NN=C(C(=O)N2N1)[N+](=O)[O-]\n",
      "789 (4-Me2N-C6F4)(C6F5)NH no matches\n",
      "859 Br4-CX-benzoic acid no matches\n",
      "882 2,3,4,5,6-(CF3)5-C6-CH(CN)COOEt no matches\n",
      "899 4-MeO-C6H4-SO2-NH-SO2-C6H4-4-Cl no matches\n",
      "910 4-Cl-C6H4-CO-NH-Tf no matches\n",
      "923 2,3,4,5,6-(CF3)5-C6-CH(CN)2 no matches\n",
      "929 7/6/09 no matches\n",
      "967 4-Cl-C6H4-SO2-NH-Tf no matches\n",
      "977 4-Cl-C6H4-SO(=NTf)-NH-SO2-C6H4-4-NO2 no matches\n",
      "1032 1/2/55 C1CC2C3C(C1)SC4CCC5C(C4)OCCOCCOCCOCCOCCOC6CC(S2)CCC6SC7CCCC(C7OCCOCCOCCOCCOCCO3)S5\n",
      "1044 (4-Me2N-C6F4)(C6F5)NH no matches\n",
      "1057 (4-Cl-C6F4)(C6F5)NH no matches\n",
      "1065 (4-NC5F4)(C6F5)NH no matches\n",
      "1079 4-Cl-C6F4-CH(CN)COOEt no matches\n",
      "1110 4-Cl-C6F4-CH(CN)COOEt no matches\n",
      "1116 2,3,4,5,6-(CF3)5-C6-CH(CN)COOEt no matches\n",
      "1125 2,3,4,5,6-(CF3)5-C6-CH(CN)2 no matches\n",
      "1126 7/6/09 no matches\n",
      "1141 4-Cl-C6H4-SO(=NTf)-NH-SO2-C6H4-4-NO2 no matches\n"
     ]
    }
   ],
   "source": [
    "#checking all nan values\n",
    "browser = webdriver.Chrome()\n",
    "browser.get(\"https://pubchem.ncbi.nlm.nih.gov\")\n",
    "\n",
    "for i in range(len(smiles)):\n",
    "    if type(smiles[i]) == float:\n",
    "        smiles[i] = SMILE_scraper(molist[i])\n",
    "        print(i, molist[i], smiles[i])"
   ]
  },
  {
   "cell_type": "code",
   "execution_count": 376,
   "metadata": {
    "collapsed": true,
    "jupyter": {
     "outputs_hidden": true
    },
    "tags": []
   },
   "outputs": [
    {
     "name": "stdout",
     "output_type": "stream",
     "text": [
      "0 2340-87-6 - CCOC(=O)C(C#N)C1=C(C(=C(C(=C1F)F)F)F)F ethyl 2-cyano-2-(2,3,4,5,6-pentafluorophenyl)acetate\n",
      "4 42238-34-6 Bis(pentafluorophenyl)acetonitrile FC1=C(F)C(=C(C(C#N)C2=C(F)C(=C(F)C(=C2F)F)F)C(=C1F)F)F 2,2-bis(2,3,4,5,6-pentafluorophenyl)acetonitrile\n",
      "5 42238-35-7 - FC1=C(F)C(=C(C(C#N)C2=CC=C(C=C2)C(F)(F)F)C(=C1F)F)F -\n",
      "6 42238-36-8 (Pentafluorophenyl)(2,3,5,6-tetrafluoro-4-chlorophenyl)acetonitrile FC1=C(F)C(=C(C(C#N)C2=C(F)C(=C(Cl)C(=C2F)F)F)C(=C1F)F)F 2-(4-chloro-2,3,5,6-tetrafluorophenyl)-2-(2,3,4,5,6-pentafluorophenyl)acetonitrile\n",
      "7 42254-09-1 FGXMDMFWDQMYLC-UHFFFAOYSA- FC1=C(F)C(=C(F)C(=C1)F)C(C#N)C2=C(F)C(=C(F)C(=C2F)F)F 2-(2,3,4,5,6-pentafluorophenyl)-2-(2,3,5,6-tetrafluorophenyl)acetonitrile\n",
      "8 52345-34-3 - CC1=C(F)C(=C([C@@H](C#N)C2=C(F)C(=C(F)C(=C2F)F)F)C(=C1F)F)F -\n",
      "9 55810-56-5 2-(2,3,5,6-Tetrafluoro-4-chlorophenyl)-2-cyanoacetic acid ethyl ester CCOC(=O)C(C#N)C1=C(F)C(=C(Cl)C(=C1F)F)F ethyl 2-(4-chloro-2,3,5,6-tetrafluorophenyl)-2-cyanoacetate\n",
      "10 55810-61-2 - CCOC(=O)C(C#N)C1=C(F)C(=NC(=C1F)F)F -\n",
      "11 55810-63-4 (2,3,5,6-Tetrafluorophenyl)malononitrile FC1=C(F)C(=C(F)C(=C1)F)C(C#N)C#N 2-(2,3,5,6-tetrafluorophenyl)propanedinitrile\n",
      "12 55852-22-7 2-(2,3,5,6-Tetrafluorophenyl)-2-cyanoacetic acid ethyl ester CCOC(=O)C(C#N)C1=C(F)C(=CC(=C1F)F)F ethyl 2-cyano-2-(2,3,5,6-tetrafluorophenyl)acetate\n",
      "14 58432-44-3 - CC1=C(F)C(=C(C(C#N)C2=C(F)C(=C(C)C(=C2F)F)F)C(=C1F)F)F -\n",
      "15 58432-55-6 Bis[2,3,5,6-tetrafluoro-4-(trifluoromethyl)phenyl]acetonitrile FC1=C(F)C(=C(F)C(=C1C(C#N)C2=C(F)C(=C(C(=C2F)F)C(F)(F)F)F)F)C(F)(F)F 2,2-bis[2,3,5,6-tetrafluoro-4-(trifluoromethyl)phenyl]acetonitrile\n",
      "16 58432-62-5 2-Phenyl-2-(2,3,5,6-tetrafluoro-4-methylphenyl)acetonitrile CC1=C(F)C(=C(C(C#N)C2=CC=CC=C2)C(=C1F)F)F 2-phenyl-2-(2,3,5,6-tetrafluoro-4-methylphenyl)acetonitrile\n",
      "17 62325-34-2 ethyl 2-cyano-2-(heptafluoronaphthalen-2-yl)acetate CCOC(=O)C(C#N)C1=C(F)C2=C(F)C(=C(F)C(=C2C(=C1F)F)F)F ethyl 2-cyano-2-(1,3,4,5,6,7,8-heptafluoronaphthalen-2-yl)acetate\n",
      "19 62325-37-5 NKERQBCGNOZIGK-UHFFFAOYSA- FC1=C(F)C(=C(F)C(=N1)F)C(C#N)C2=C(F)C3=C(F)C(=C(F)C(=C3C(=C2F)F)F)F 2-(1,3,4,5,6,7,8-heptafluoronaphthalen-2-yl)-2-(2,3,5,6-tetrafluoropyridin-4-yl)acetonitrile\n",
      "21 62325-51-3 2-(Pentafluorophenyl)-2-(2,3,5,6-tetrafluoro-4-pyridyl)acetonitrile FC1=NC(=C(F)C(=C1F)C(C#N)C2=C(F)C(=C(F)C(=C2F)F)F)F 2-(2,3,4,5,6-pentafluorophenyl)-2-(2,3,5,6-tetrafluoropyridin-4-yl)acetonitrile\n",
      "22 64934-68-5 - FC1=C(F)C(=C(C(C#N)C2=C(F)C3=C(F)C(=C(F)C(=C3C(=C2F)F)F)F)C(=C1F)F)F -\n",
      "23 64934-69-6 - FC1=C(F)C(=C(C(C#N)C2=C(Cl)C(=C(Cl)C(=C2Cl)F)F)C(=C1F)F)F 2-(2,3,4,5,6-pentafluorophenyl)-2-(2,4,6-trichloro-3,5-difluorophenyl)acetonitrile\n",
      "24 64934-71-0 HGIXMNIATOKKRV-UHFFFAOYSA- CC1=C(F)C(=C(C(C#N)C#N)C(=C1F)F)F 2-(2,3,5,6-tetrafluoro-4-methylphenyl)propanedinitrile\n",
      "25 64934-72-1 - FC1=C(F)C(=C(F)C(=N1)F)C(C#N)C#N -\n",
      "28 7077-65-8 7077-65-8 C1=CC(=CC=C1C(C#N)C#N)[N+](=O)[O-] 2-(4-nitrophenyl)propanedinitrile\n",
      "31 215395-09-8 1,3-Cyclopentadiene-2,3,5-tricarbonitrile N#CC1C=C(C#N)C(=C1)C#N cyclopenta-2,5-diene-1,2,4-tricarbonitrile\n",
      "32 73482-93-6 - FC1=C(F)C(=C(C2C3=C(C=CC=C3)C4=C2C=CC=C4)C(=C1F)F)F 9-(2,3,4,5,6-pentafluorophenyl)-9H-fluorene\n",
      "47 87-86-5 87-86-5 C1(=C(C(=C(C(=C1Cl)Cl)Cl)Cl)Cl)O 2,3,4,5,6-pentachlorophenol\n",
      "48 882492-01-5 2-hydroxybenzene-1,3,5-trisulfonyl fluoride OC1=C(C=C(C=C1[S](F)(=O)=O)[S](F)(=O)=O)[S](F)(=O)=O 2-hydroxybenzene-1,3,5-trisulfonyl fluoride\n",
      "52 71571-37-4 - OC1=C(C=C(C=C1[S](=O)(=O)C(F)(F)F)[S](=O)(=O)C(F)(F)F)[S](=O)(=O)C(F)(F)F 2,4,6-tris(trifluoromethylsulfonyl)phenol\n",
      "62 39062-91-4 - FC(F)(F)[S](=O)(=O)NC(=O)C1=CC=CC=C1 N-(trifluoromethylsulfonyl)benzamide\n",
      "64 39062-99-2 - FC(F)(F)[S](=O)(=O)NC(=O)C1=CC=C(Cl)C=C1 4-chloro-N-(trifluoromethylsulfonyl)benzamide\n",
      "65 39063-00-8 - FC1=CC=C(C=C1)C(=O)N[S](=O)(=O)C(F)(F)F 4-fluoro-N-(trifluoromethylsulfonyl)benzamide\n",
      "66 39063-05-3 - COC1=CC=C(C=C1)C(=O)N[S](=O)(=O)C(F)(F)F 4-methoxy-N-(trifluoromethylsulfonyl)benzamide\n",
      "68 100724-78-5 4-Methyl-4'-nitro[1,1'-iminobis(sulfonyl)bis(benzene)] CC1=CC=C(C=C1)[S](=O)(=O)N[S](=O)(=O)C2=CC=C(C=C2)[N+]([O-])=O 4-methyl-N-(4-nitrophenyl)sulfonylbenzenesulfonamide\n",
      "69 174788-87-5 - FC(F)(F)[S](=O)(=O)N[S](=O)(=O)C1=CC=CC=C1 N-(trifluoromethylsulfonyl)benzenesulfonamide\n",
      "70 174788-89-7 - FC(F)(F)[S](=O)(=O)N[S](=O)(=O)C1=CC=C(Cl)C=C1 4-chloro-N-(trifluoromethylsulfonyl)benzenesulfonamide\n",
      "72 174788-93-3 - CC1=CC=C(C=C1)[S](=O)(=O)N[S](=O)(=N[S](=O)(=O)C(F)(F)F)C2=CC=C(Cl)C=C2 -\n",
      "73 174788-95-5 - FC(F)(F)[S](=O)(=O)N=[S](=O)(N[S](=O)(=O)C1=CC=C(Cl)C=C1)C2=CC=C(Cl)C=C2 -\n",
      "74 174788-97-7 - [O-][N+](=O)C1=CC=C(C=C1)[S](=O)(=O)N[S](=O)(=N[S](=O)(=O)C(F)(F)F)C2=CC=C(Cl)C=C2 -\n",
      "75 215395-06-5 3-Nitro-4-chloro-4'-methyl[1,1'-iminobis(sulfonyl)bis(benzene)] CC1=CC=C(C=C1)[S](=O)(=O)N[S](=O)(=O)C2=CC(=C(Cl)C=C2)[N+]([O-])=O 4-chloro-N-(4-methylphenyl)sulfonyl-3-nitrobenzenesulfonamide\n",
      "76 215395-07-6 - CC1=CC=C(C=C1)[S](=O)(=O)N[S](=O)(=O)C(F)(F)F 4-methyl-N-(trifluoromethylsulfonyl)benzenesulfonamide\n",
      "81 500721-87-9 - COC1=CC=C(C=C1)C(N[S](=O)(=O)C(F)(F)F)=N[S](=O)(=O)C(F)(F)F -\n",
      "82 500721-89-1 - CC1=CC=C(C=C1)C(N[S](=O)(=O)C(F)(F)F)=N[S](=O)(=O)C(F)(F)F -\n",
      "83 500721-91-5 - FC(F)(F)[S](=O)(=O)NC(=N[S](=O)(=O)C(F)(F)F)C1=CC=CC=C1 -\n",
      "84 500721-93-7 - FC1=CC=C(C=C1)C(N[S](=O)(=O)C(F)(F)F)=N[S](=O)(=O)C(F)(F)F -\n",
      "85 500721-95-9 - FC(F)(F)[S](=O)(=O)NC(=N[S](=O)(=O)C(F)(F)F)C1=CC=C(Cl)C=C1 -\n",
      "87 69173-28-0 4-Methyl-4'-chloro[1,1'-iminobis(sulfonyl)bis(benzene)] CC1=CC=C(C=C1)[S](=O)(=O)N[S](=O)(=O)C2=CC=C(Cl)C=C2 N-(4-chlorophenyl)sulfonyl-4-methylbenzenesulfonamide\n",
      "88 95468-16-9 - C1=CC(=CC(=C1)S(=O)(=O)NS(=O)(=O)C2=CC=C(C=C2)Cl)[N+](=O)[O-] N-(4-chlorophenyl)sulfonyl-3-nitrobenzenesulfonamide\n",
      "89 39077-43-5 - C1=CC=C(C=C1)NC2=C(C(=NC(=C2F)F)F)F 2,3,5,6-tetrafluoro-N-phenylpyridin-4-amine\n",
      "90 80588-34-7 - CN(C)C1=C(F)C(=C(NC2=C(F)C(=C(F)C(=C2F)F)F)C(=C1F)F)F -\n",
      "91 80588-36-9 N-(Pentafluorophenyl)-4-methyl-2,3,5,6-tetrafluoroaniline CC1=C(F)C(=C(NC2=C(F)C(=C(F)C(=C2F)F)F)C(=C1F)F)F 2,3,5,6-tetrafluoro-4-methyl-N-(2,3,4,5,6-pentafluorophenyl)aniline\n",
      "92 133213-11-3 - NC1=C(C=C(C=C1[S](F)(=O)=O)[S](F)(=O)=O)[S](F)(=O)=O -\n",
      "94 1-(4-Nitrophenyl)-1-nitropropane 126661-13-0 CCC(C1=CC=C(C=C1)[N+]([O-])=O)[N+]([O-])=O 1-nitro-4-(1-nitropropyl)benzene\n",
      "95 1-(4-Nitrophenyl)-2-methyl-1-nitropropane 126661-11-8 CC(C)C(C1=CC=C(C=C1)[N+]([O-])=O)[N+]([O-])=O 1-(2-methyl-1-nitropropyl)-4-nitrobenzene\n",
      "96 1,2-Dicyanocyclopentadiene N#CC1=C(C#N)C=CC1 N#CC1=C(C=CC1)C#N cyclopenta-1,3-diene-1,2-dicarbonitrile\n",
      "97 1,2,3-Tricyanocyclopentadiene SCHEMBL11360517 N#CC1=C(C#N)C(=CC1)C#N cyclopenta-1,3-diene-1,2,3-tricarbonitrile\n",
      "98 1,2,4-Tricyano-3-methylcyclopentadiene - CC1=C(CC(=C1C#N)C#N)C#N -\n",
      "100 Pentakis(trifluoromethyl)-phenylmalonitrile 2-[Pentakis(trifluoromethyl)phenyl]malononitrile FC(F)(F)C1=C(C(C#N)C#N)C(=C(C(=C1C(F)(F)F)C(F)(F)F)C(F)(F)F)C(F)(F)F 2-[2,3,4,5,6-pentakis(trifluoromethyl)phenyl]propanedinitrile\n",
      "101 2,3,4,6-Tetrakis(trifluoromethyl)-phenylmalonitrile - FC(F)(F)C1=C(C(C#N)C#N)C(=C(C(=C1)C(F)(F)F)C(F)(F)F)C(F)(F)F -\n",
      "102 Pentakis(trifluoromethyl)-toluene - CC1=C(C(=C(C(=C1C(F)(F)F)C(F)(F)F)C(F)(F)F)C(F)(F)F)C(F)(F)F 1-methyl-2,3,4,5,6-pentakis(trifluoromethyl)benzene\n",
      "104 2,4,6-Trinitrotoluene 118-96-7 CC1=C(C=C(C=C1[N+](=O)[O-])[N+](=O)[O-])[N+](=O)[O-] 2-methyl-1,3,5-trinitrobenzene\n",
      "109 Bis(4-nitrophenyl)acetonitrile - C1=CC(=CC=C1C(C#N)C2=CC=C(C=C2)[N+](=O)[O-])[N+](=O)[O-] 2,2-bis(4-nitrophenyl)acetonitrile\n",
      "122 2,4,6-Trinitrothiophenol 2,4,6-Trinitrothiophenol C1(=C(C(=C2C(=C1S2)[N+](=O)[O-])[N+](=O)[O-])O)[N+](=O)[O-] 2,4,7-trinitro-6-thiabicyclo[3.1.1]hepta-1(7),2,4-trien-3-ol\n",
      "124 1,1,3,3-Tetranitrobutane - CC(CC([N+](=O)[O-])[N+](=O)[O-])([N+](=O)[O-])[N+](=O)[O-] 1,1,3,3-tetranitrobutane\n",
      "127 1,3,7-Trinitrophenoxazine - C1=CC2=C(C=C1[N+](=O)[O-])OC3=CC(=CC(=C3N2)[N+](=O)[O-])[N+](=O)[O-] 1,3,7-trinitro-10H-phenoxazine\n",
      "130 1,7-Dimethyl-3-nitrophenoxazine - CC1=CC2=C(NC3=C(O2)C=C(C=C3C)[N+]([O-])=O)C=C1 -\n",
      "131 1-Methyl-3-nitrophenoxazine - CC1=CC(=CC2=C1NC3=CC=CC=C3O2)[N+]([O-])=O -\n",
      "133 3,7-Dinitro-10H-phenoxazine - C1=CC2=C(C=C1[N+](=O)[O-])OC3=C(N2)C=CC(=C3)[N+](=O)[O-] 3,7-dinitro-10H-phenoxazine\n",
      "134 3-Nitrophenoxazine - C1=CC=C2C(=C1)NC3=C(O2)C=C(C=C3)[N+](=O)[O-] 3-nitro-10H-phenoxazine\n",
      "187 Nitricacid - [N+](=O)(O)[O-] -\n",
      "188 2-Bromophenol 95-56-7 C1=CC=C(C(=C1)O)Br 2-bromophenol\n",
      "190 3,4-Dichlorophenol 95-77-2 C1=CC(=C(C=C1O)Cl)Cl 3,4-dichlorophenol\n",
      "191 3,5-Dichlorophenol - C1=C(C=C(C=C1Cl)Cl)O -\n",
      "195 4-Nitrophenol - C1=CC(=CC=C1[N+](=O)[O-])O -\n",
      "197 Phenol 108-95-2 C1=CC=C(C=C1)O phenol\n",
      "198 2-Methylphenol - CC1=CC=CC=C1O -\n",
      "206 4-(1,1-Dimethylethyl)-phenol - CC(C)(C)C1=CC=C(C=C1)O -\n",
      "209 2,4,6-Trichlorophenol - C1=C(C=C(C(=C1Cl)O)Cl)Cl -\n",
      "217 Methanesulfonic acid 75-75-2 CS(=O)(=O)O methanesulfonic acid\n",
      "219 sulfuric acid 7664-93-9 OS(=O)(=O)O sulfuric acid\n",
      "225 (C6F5)2CHCN Bis(pentafluorophenyl)acetonitrile FC1=C(F)C(=C(C(C#N)C2=C(F)C(=C(F)C(=C2F)F)F)C(=C1F)F)F 2,2-bis(2,3,4,5,6-pentafluorophenyl)acetonitrile\n",
      "227 (4-CF3-C6F4)(C6F5)CHCN - FC1=C(F)C(=C(C(C#N)C2=C(F)C(=C(C(=C2F)F)C(F)(F)F)F)C(=C1F)F)F 2-(2,3,4,5,6-pentafluorophenyl)-2-[2,3,5,6-tetrafluoro-4-(trifluoromethyl)phenyl]acetonitrile\n",
      "240 DBU-H+ - C1CCC2=[N+](CC1)CCCN2 2,3,4,6,7,8,9,10-octahydro-1H-pyrimido[1,2-a]azepin-5-ium\n",
      "241 TBD-H+ - C1CNC2=[NH+]CCCN2C1 1,2,3,4,6,7,8,9-octahydropyrimido[1,2-a]pyrimidin-5-ium\n",
      "245 TMG-H+ - CN(C)C(=[N+])N(C)C [amino(dimethylamino)methylidene]-dimethylazanium\n",
      "249 (C6F5)2CHCN Bis(pentafluorophenyl)acetonitrile FC1=C(F)C(=C(C(C#N)C2=C(F)C(=C(F)C(=C2F)F)F)C(=C1F)F)F 2,2-bis(2,3,4,5,6-pentafluorophenyl)acetonitrile\n",
      "251 (4-CF3-C6F4)(C6F5)CHCN - FC1=C(F)C(=C(C(C#N)C2=C(F)C(=C(C(=C2F)F)C(F)(F)F)F)C(=C1F)F)F 2-(2,3,4,5,6-pentafluorophenyl)-2-[2,3,5,6-tetrafluoro-4-(trifluoromethyl)phenyl]acetonitrile\n",
      "258 (C6F5)2CHCN Bis(pentafluorophenyl)acetonitrile FC1=C(F)C(=C(C(C#N)C2=C(F)C(=C(F)C(=C2F)F)F)C(=C1F)F)F 2,2-bis(2,3,4,5,6-pentafluorophenyl)acetonitrile\n",
      "259 (4-CF3-C6F4)(C6F5)CHCN - FC1=C(F)C(=C(C(C#N)C2=C(F)C(=C(C(=C2F)F)C(F)(F)F)F)C(=C1F)F)F 2-(2,3,4,5,6-pentafluorophenyl)-2-[2,3,5,6-tetrafluoro-4-(trifluoromethyl)phenyl]acetonitrile\n",
      "272 DBU-H+ - C1CCC2=[N+](CC1)CCCN2 2,3,4,6,7,8,9,10-octahydro-1H-pyrimido[1,2-a]azepin-5-ium\n",
      "275 TMG-H+ - CN(C)C(=[N+])N(C)C [amino(dimethylamino)methylidene]-dimethylazanium\n",
      "289 TMG-H+ - CN(C)C(=[N+])N(C)C [amino(dimethylamino)methylidene]-dimethylazanium\n",
      "296 Aniline-H+ 65756-50-5 C1=CC=C(C=C1)[N+] phenylazanium\n",
      "297 Pyridine-H+ 16969-45-2 C1=CC=[N+]C=C1 pyridin-1-ium\n",
      "298 DBU-H+ - C1CCC2=[N+](CC1)CCCN2 2,3,4,6,7,8,9,10-octahydro-1H-pyrimido[1,2-a]azepin-5-ium\n",
      "299 TBD-H+ - C1CNC2=[NH+]CCCN2C1 1,2,3,4,6,7,8,9-octahydropyrimido[1,2-a]pyrimidin-5-ium\n",
      "302 Et3N-H+ 17440-81-2 CC[N+](CC)CC triethylazanium\n",
      "303 TMG-H+ - CN(C)C(=[N+])N(C)C [amino(dimethylamino)methylidene]-dimethylazanium\n",
      "305 (C6F5)2CHCN Bis(pentafluorophenyl)acetonitrile FC1=C(F)C(=C(C(C#N)C2=C(F)C(=C(F)C(=C2F)F)F)C(=C1F)F)F 2,2-bis(2,3,4,5,6-pentafluorophenyl)acetonitrile\n",
      "307 (4-CF3-C6F4)(C6F5)CHCN - FC1=C(F)C(=C(C(C#N)C2=C(F)C(=C(C(=C2F)F)C(F)(F)F)F)C(=C1F)F)F 2-(2,3,4,5,6-pentafluorophenyl)-2-[2,3,5,6-tetrafluoro-4-(trifluoromethyl)phenyl]acetonitrile\n",
      "308 (C6F5)2CHCN Bis(pentafluorophenyl)acetonitrile FC1=C(F)C(=C(C(C#N)C2=C(F)C(=C(F)C(=C2F)F)F)C(=C1F)F)F 2,2-bis(2,3,4,5,6-pentafluorophenyl)acetonitrile\n",
      "310 (4-CF3-C6F4)(C6F5)CHCN - FC1=C(F)C(=C(C(C#N)C2=C(F)C(=C(C(=C2F)F)C(F)(F)F)F)C(=C1F)F)F 2-(2,3,4,5,6-pentafluorophenyl)-2-[2,3,5,6-tetrafluoro-4-(trifluoromethyl)phenyl]acetonitrile\n",
      "313 Quino[7,8-h]quinoline - C1=CC2=C(C3=C(C=C2)C=CC4=C3N=CC=C4)N=C1 quinolino[7,8-h]quinoline\n",
      "317 Imidazole - C1=CN=CN1 -\n",
      "324 Benzimidazole - C1=CC=C2C(=C1)NC=N2 -\n",
      "325 2-methylpyridine 109-06-8 CC1=CC=CC=N1 2-methylpyridine\n",
      "327 Acridine - C1=CC=C2C(=C1)C=C3C=CC=CC3=N2 -\n",
      "328 Pyridine - C1=CC=NC=C1 -\n",
      "329 Thiabendazole - C1=CC=C2C(=C1)NC(=N2)C3=CSC=N3 -\n",
      "331 Carbendazim - COC(=O)NC1=NC2=CC=CC=C2N1 -\n",
      "332 Quinoline - C1=CC=C2C(=C1)C=CC=N2 -\n",
      "334 4-methoxyAniline - COC1=CC=C(C=C1)N -\n",
      "337 N,N-dimethylAniline - CN(C)C1=CC=CC=C1 -\n",
      "340 Aniline - C1=CC=C(C=C1)N -\n",
      "342 2-methylaniline - CC1=CC=CC=C1N -\n",
      "345 1-Naphtylamine - C1=CC=C2C(=C1)C=CC=C2N -\n",
      "347 4-bromoAniline - C1=CC(=CC=C1N)Br -\n",
      "352 4-trifluoromethylAniline - C1=CC(=CC=C1C(F)(F)F)N -\n",
      "354 2-chloroaniline - C1=CC=C(C(=C1)N)Cl -\n",
      "359 Caffeine - CN1C=NC2=C1C(=O)N(C(=O)N2C)C -\n",
      "361 Benzotriazole - C1=CC2=NNN=C2C=C1 -\n",
      "365 4-nitroAniline - C1=CC(=CC=C1N)[N+](=O)[O-] -\n",
      "374 Uracil - C1=CNC(=O)NC1=O -\n",
      "375 Thymine - CC1=CNC(=O)NC1=O -\n",
      "377 Quino[7,8-h]quinoline - C1=CC2=C(C3=C(C=C2)C=CC4=C3N=CC=C4)N=C1 -\n",
      "410 4-F-C6H4C(=O)NHTf - FC1=CC=C(C=C1)C(=O)N[S](=O)(=O)C(F)(F)F -\n",
      "412 2,3,4,6-(CF3)4-C6HCH(CN)2 - FC(F)(F)C1=C(C(C#N)C#N)C(=C(C(=C1)C(F)(F)F)C(F)(F)F)C(F)(F)F -\n",
      "413 4-Cl-C6H4C(=O)NHTf - FC(F)(F)[S](=O)(=O)NC(=O)C1=CC=C(Cl)C=C1 -\n",
      "422 C6(CF3)5CH(CN)2 - FC(F)(F)C1=C(C(C#N)C#N)C(=C(C(=C1C(F)(F)F)C(F)(F)F)C(F)(F)F)C(F)(F)F -\n",
      "Phenol - OC1=C(C=C(C=C1[S](=O)(=O)OCC(F)(F)C(F)F)[S](=O)(=O)OCC(F)(F)C(F)F)[S](=O)(=O)OCC(F)(F)C(F)F -\n",
      "427 2,4,6-(SO2OCH2CF3)3-Phenol - OC1=C(C=C(C=C1[S](=O)(=O)OCC(F)(F)F)[S](=O)(=O)OCC(F)(F)F)[S](=O)(=O)OCC(F)(F)F -\n",
      "439 3-NO2-C6H4SO2CH(CN)2 - [O-][N+](=O)C1=CC(=CC=C1)[S](=O)(=O)C(C#N)C#N -\n",
      "441 4-MeO-C6H4C(=NTf)NHTf - COC1=CC=C(C=C1)C(N[S](=O)(=O)C(F)(F)F)=N[S](=O)(=O)C(F)(F)F -\n",
      "442 4-NO2-C6H4SO2CH(CN)2 - [O-][N+](=O)C1=CC=C(C=C1)[S](=O)(=O)C(C#N)C#N -\n",
      "443 4-Me-C6H4SO2NHTf - CC1=CC=C(C=C1)[S](=O)(=O)N[S](=O)(=O)C(F)(F)F -\n",
      "444 4-Me-C6H4C(=NTf)NHTf - CC1=CC=C(C=C1)C(N[S](=O)(=O)C(F)(F)F)=N[S](=O)(=O)C(F)(F)F -\n",
      "445 C6H5C(=NTf)NHTf - FC(F)(F)[S](=O)(=O)NC(=N[S](=O)(=O)C(F)(F)F)C1=CC=CC=C1 -\n",
      "446 C6H5SO2NHTf - FC(F)(F)[S](=O)(=O)N[S](=O)(=O)C1=CC=CC=C1 -\n",
      "447 4-F-C6H4C(=NTf)NHTf - FC1=CC=C(C=C1)C(N[S](=O)(=O)C(F)(F)F)=N[S](=O)(=O)C(F)(F)F -\n",
      "448 4-Cl-C6H4-C(=NTf)NHTf - FC(F)(F)[S](=O)(=O)NC(=N[S](=O)(=O)C(F)(F)F)C1=CC=C(Cl)C=C1 -\n",
      "450 2,4,6-(SO2F)3-Phenol - OC1=C(C=C(C=C1[S](F)(=O)=O)[S](F)(=O)=O)[S](F)(=O)=O -\n",
      "452 4-Cl-C6H4SO2NHTf - FC(F)(F)[S](=O)(=O)N[S](=O)(=O)C1=CC=C(Cl)C=C1 -\n",
      "455 2,4,6-Tf3-Phenol - OC1=C(C=C(C=C1[S](=O)(=O)C(F)(F)F)[S](=O)(=O)C(F)(F)F)[S](=O)(=O)C(F)(F)F -\n",
      "460 2,3,5-tricyanocyclopentadiene - N#CC1C=C(C#N)C(=C1)C#N -\n",
      "461 4-Cl-C6H4-SO(=NTf)NH-SO2C6H4-4-NO2 - [NH-][S](=O)(=N[S](=O)(=O)C(F)(F)F)C1=CC=C(Cl)C=C1 -\n",
      "472 (4-CF3-C6F4)(C6F5)CHCN - FC1=C(F)C(=C(C(C#N)C2=C(F)C(=C(C(=C2F)F)C(F)(F)F)F)C(=C1F)F)F 2-(2,3,4,5,6-pentafluorophenyl)-2-[2,3,5,6-tetrafluoro-4-(trifluoromethyl)phenyl]acetonitrile\n",
      "487 2,3,4,6-(CF3)4-C6HCH(CN)2 - FC(F)(F)C1=C(C(C#N)C#N)C(=C(C(=C1)C(F)(F)F)C(F)(F)F)C(F)(F)F -\n",
      "498 2,4,6-Tf3-Phenol - OC1=C(C=C(C=C1[S](=O)(=O)C(F)(F)F)[S](=O)(=O)C(F)(F)F)[S](=O)(=O)C(F)(F)F 2,4,6-tris(trifluoromethylsulfonyl)phenol\n",
      "500 2,3,5-tricyanocyclopentadiene 1,3-Cyclopentadiene-2,3,5-tricarbonitrile N#CC1C=C(C#N)C(=C1)C#N cyclopenta-2,5-diene-1,2,4-tricarbonitrile\n",
      "504 C(CN)2=C(CN)OH 654055-01-3 no SMILES 2-(2,4-dihydroxyphenyl)-3,5,7-trihydroxychromen-4-one;dihydrate\n",
      "510 (4-CF3-C6F4)(C6F5)CHCN - FC1=C(F)C(=C(C(C#N)C2=C(F)C(=C(C(=C2F)F)C(F)(F)F)F)C(=C1F)F)F 2-(2,3,4,5,6-pentafluorophenyl)-2-[2,3,5,6-tetrafluoro-4-(trifluoromethyl)phenyl]acetonitrile\n",
      "519 7-nitroIndole 6960-42-5 C1=CC2=C(C(=C1)[N+](=O)[O-])NC=C2 7-nitro-1H-indole\n",
      "520 Indoxyl acetate 608-08-2 CC(=O)OC1=CNC2=CC=CC=C21 1H-indol-3-yl acetate\n",
      "521 Phenol 654055-01-3 no SMILES 2-(2,4-dihydroxyphenyl)-3,5,7-trihydroxychromen-4-one;dihydrate\n",
      "523 4-cyano-2,3,5,6-tetrafluoroAniline N-[1-[(2,6-Diisopropylphenyl)amino]ethylidene]-4-cyano-2,3,5,6-tetrafluoroaniline CC(C)C1=C(C(=CC=C1)C(C)C)N=C(C)NC2=C(C(=C(C(=C2F)F)C#N)F)F N-(4-cyano-2,3,5,6-tetrafluorophenyl)-N'-[2,6-di(propan-2-yl)phenyl]ethanimidamide\n",
      "525 5-nitroIndole 6146-52-7 C1=CC2=C(C=CN2)C=C1[N+](=O)[O-] 5-nitro-1H-indole\n",
      "528 4-nitroIndole 4769-97-5 C1=CC2=C(C=CN2)C(=C1)[N+](=O)[O-] 4-nitro-1H-indole\n",
      "529 6-nitroIndole 4769-96-4 C1=CC(=CC2=C1C=CN2)[N+](=O)[O-] 6-nitro-1H-indole\n",
      "542 3-trifluoromethylPhenol 98-17-9 C1=CC(=CC(=C1)O)C(F)(F)F 3-(trifluoromethyl)phenol\n",
      "550 3-cyanoIndole 5457-28-3 C1=CC=C2C(=C1)C(=CN2)C#N 1H-indole-3-carbonitrile\n",
      "554 4-trifluoromethylPhenol 402-45-9 C1=CC(=CC=C1C(F)(F)F)O 4-(trifluoromethyl)phenol\n",
      "561 2-trifluoromethylPhenol 444-30-4 C1=CC=C(C(=C1)C(F)(F)F)O 2-(trifluoromethyl)phenol\n",
      "564 pentakis(trifluoromethyl)Aniline 58956-76-6 C1(=C(C(=C(C(=C1C(F)(F)F)C(F)(F)F)N)C(F)(F)F)C(F)(F)F)C(F)(F)F 2,3,4,5,6-pentakis(trifluoromethyl)aniline\n",
      "575 2,4,6-trinitroAniline 489-98-5 C1=C(C=C(C(=C1[N+](=O)[O-])N)[N+](=O)[O-])[N+](=O)[O-] 2,4,6-trinitroaniline\n",
      "576 3,5-bis(trifluoromethyl)Phenol 349-58-6 C1=C(C=C(C=C1C(F)(F)F)O)C(F)(F)F 3,5-bis(trifluoromethyl)phenol\n",
      "577 2-nitroIndole - CCOC(=O)N1C2=CC=CC=C2C=C1[N+](=O)[O-] ethyl 2-nitroindole-1-carboxylate\n",
      "579 Acetic acid 64-19-7 CC(=O)O acetic acid\n",
      "582 Sorbic acid 22500-92-1 CC=CC=CC(=O)O hexa-2,4-dienoic acid\n",
      "584 2-nitroPhenol 88-75-5 C1=CC=C(C(=C1)[N+](=O)[O-])O 2-nitrophenol\n",
      "587 Retinoic acid 3555-80-4 CC1=C(C(CCC1)(C)C)C=CC(=CC=CC(=CC(=O)O)C)C 3,7-dimethyl-9-(2,6,6-trimethylcyclohexen-1-yl)nona-2,4,6,8-tetraenoic acid\n",
      "588 3-nitroIndole 4770-03-0 C1=CC=C2C(=C1)C(=CN2)[N+](=O)[O-] 3-nitro-1H-indole\n",
      "592 Benzoic acid 65-85-0 C1=CC=C(C=C1)C(=O)O benzoic acid\n",
      "595 Alizarin 72-48-0 C1=CC=C2C(=C1)C(=O)C3=C(C2=O)C(=C(C=C3)O)O 1,2-dihydroxyanthracene-9,10-dione\n",
      "597 (C6F5)2CHCN Bis(pentafluorophenyl)acetonitrile FC1=C(F)C(=C(C(C#N)C2=C(F)C(=C(F)C(=C2F)F)F)C(=C1F)F)F 2,2-bis(2,3,4,5,6-pentafluorophenyl)acetonitrile\n",
      "599 (CF3)3COH 2378-02-1 C(C(F)(F)F)(C(F)(F)F)(C(F)(F)F)O 1,1,1,3,3,3-hexafluoro-2-(trifluoromethyl)propan-2-ol\n",
      "602 2,4,6-tribromoPhenol 118-79-6 C1=C(C=C(C(=C1Br)O)Br)Br 2,4,6-tribromophenol\n",
      "603 pentacyanoToluene - CC1=C(C(=C(C(=C1C#N)C#N)C#N)C#N)C#N 6-methylbenzene-1,2,3,4,5-pentacarbonitrile\n",
      "605 2,3,5,6-tetrafluoroPhenol 769-39-1 C1=C(C(=C(C(=C1F)F)O)F)F 2,3,5,6-tetrafluorophenol\n",
      "606 pentafluoroPhenol 771-61-9 C1(=C(C(=C(C(=C1F)F)F)F)F)O 2,3,4,5,6-pentafluorophenol\n",
      "621 pentachloroPhenol 654055-01-3 no SMILES 2-(2,4-dihydroxyphenyl)-3,5,7-trihydroxychromen-4-one;dihydrate\n",
      "622 pentabromoPhenol 608-71-9 C1(=C(C(=C(C(=C1Br)Br)Br)Br)Br)O 2,3,4,5,6-pentabromophenol\n",
      "630 2,6-dinitroPhenol 573-56-8 C1=CC(=C(C(=C1)[N+](=O)[O-])O)[N+](=O)[O-] 2,6-dinitrophenol\n",
      "631 2,4-dinitroPhenol 51-28-5 C1=CC(=C(C=C1[N+](=O)[O-])[N+](=O)[O-])O 2,4-dinitrophenol\n",
      "634 4-fluoro-2,6-dinitroPhenol 364-32-9 C1=C(C=C(C(=C1[N+](=O)[O-])O)[N+](=O)[O-])F 4-fluoro-2,6-dinitrophenol\n",
      "642 Saccharin 128-44-9 C1=CC=C2C(=C1)C(=O)NS2(=O)=O 1,1-dioxo-1,2-benzothiazol-3-one\n",
      "645 2-chloro-4,6-dinitroPhenol 946-31-6 C1=C(C=C(C(=C1[N+](=O)[O-])O)Cl)[N+](=O)[O-] 2-chloro-4,6-dinitrophenol\n",
      "673 Picric acid 88-89-1 C1=C(C=C(C(=C1[N+](=O)[O-])O)[N+](=O)[O-])[N+](=O)[O-] 2,4,6-trinitrophenol\n",
      "674 5-nitroBarbituric acid 480-68-2 C1(C(=O)NC(=O)NC1=O)[N+](=O)[O-] 5-nitro-1,3-diazinane-2,4,6-trione\n",
      "680 HCl 16887-00-6 Cl chloride\n",
      "687 CH3SO3H 75-75-2 CS(=O)(=O)O methanesulfonic acid\n",
      "695 TosOH 104-15-4 CC1=CC=C(C=C1)S(=O)(=O)O 4-methylbenzenesulfonic acid\n",
      "696 PhSO3H - C=CCOC(=O)CCC(C(=O)OCC=C)N.C1=CC=C(C=C1)S(=O)(=O)O -\n",
      "705 H2SO4 7664-93-9 OS(=O)(=O)O sulfuric acid\n",
      "745 2,3,5-tricyanocyclopentadiene 1,3-Cyclopentadiene-2,3,5-tricarbonitrile N#CC1C=C(C#N)C(=C1)C#N cyclopenta-2,5-diene-1,2,4-tricarbonitrile\n",
      "748 120-72-9 - C1=CC=C2C(=C1)C=CN2 -\n",
      "750 6960-42-5 6960-42-5 C1=CC2=C(C(=C1)[N+](=O)[O-])NC=C2 7-nitro-1H-indole\n",
      "751 608-08-2 608-08-2 CC(=O)OC1=CNC2=CC=CC=C21 1H-indol-3-yl acetate\n",
      "752 108-95-2 108-95-2 C1=CC=C(C=C1)O phenol\n",
      "753 2128672-84-2 - C1=CC(=CC=C1C(=O)NC2=NNC(=S)C=C2)F 4-fluoro-N-(6-sulfanylidene-1H-pyridazin-3-yl)benzamide\n",
      "754 17823-38-0 17823-38-0 C(#N)C1=C(C(=C(C(=C1F)F)N)F)F 4-amino-2,3,5,6-tetrafluorobenzonitrile\n",
      "755 1018330-43-2 654055-01-3 no SMILES 2-(2,4-dihydroxyphenyl)-3,5,7-trihydroxychromen-4-one;dihydrate\n",
      "756 6146-52-7 6146-52-7 C1=CC2=C(C=CN2)C=C1[N+](=O)[O-] 5-nitro-1H-indole\n",
      "757 73482-93-6 73489-84-6 CCOC(=O)CC(C)(CC(=O)OCC)O diethyl 3-hydroxy-3-methylpentanedioate\n",
      "758 101-20-2 101-20-2 C1=CC(=CC=C1NC(=O)NC2=CC(=C(C=C2)Cl)Cl)Cl 1-(4-chlorophenyl)-3-(3,4-dichlorophenyl)urea\n",
      "759 4769-97-5 4769-97-5 C1=CC2=C(C=CN2)C(=C1)[N+](=O)[O-] 4-nitro-1H-indole\n",
      "760 4769-96-4 4769-96-4 C1=CC(=CC2=C1C=CN2)[N+](=O)[O-] 6-nitro-1H-indole\n",
      "762 2376448-26-7 74472-40-5 C1=CC(=C(C(=C1)Cl)C2=C(C(=C(C=C2Cl)Cl)Cl)Cl)Cl 1,2,3,5-tetrachloro-4-(2,6-dichlorophenyl)benzene\n",
      "763 1/2/55 388569-88-8 C1CC2C3C(C1)SC4CCC5C(C4)OCCOCCOCCOCCOCCOC6CC(S2)CCC6SC7CCCC(C7OCCOCCOCCOCCOCCO3)S5 3,6,9,12,15,18,32,35,38,41,44,47-dodecaoxa-25,54,58,60-tetrathiaheptacyclo[28.27.1.12,55.121,49.019,24.026,31.048,53]hexacontane\n",
      "764 77758-24-8 777828-03-2 CCOC(=N)C1=CC(=C(C=C1)OC)Br ethyl 3-bromo-4-methoxybenzenecarboximidate\n",
      "766 2408-04-0 - C1=CC(=CC=C1CS(=O)(=O)C(F)(F)F)F 1-fluoro-4-(trifluoromethylsulfonylmethyl)benzene\n",
      "767 58432-62-5 - CC1=CC=CC=C1C(C)C#N 2-(2-methylphenyl)propanenitrile\n",
      "769 4/8/10 21587-74-6 C1C2(COC(O1)CCCN)COC(OC2)CCCN 3-[3-(3-aminopropyl)-2,4,8,10-tetraoxaspiro[5.5]undecan-9-yl]propan-1-amine\n",
      "770 210486-32-1 318-85-4 C1=CC=C2C(=C1)C=CC=C2NC(=O)CF 2-fluoro-N-naphthalen-1-ylacetamide\n",
      "772 1354970-97-0 654055-01-3 no SMILES 2-(2,4-dihydroxyphenyl)-3,5,7-trihydroxychromen-4-one;dihydrate\n",
      "774 653-22-5 653-22-5 CC(=O)NC1=C(C(=C(C(=C1F)F)F)F)F N-(2,3,4,5,6-pentafluorophenyl)acetamide\n",
      "775 39077-43-5 - C1=CC=C(C=C1)NC2=C(C(=NC(=C2F)F)F)F 2,3,5,6-tetrafluoro-N-phenylpyridin-4-amine\n",
      "776 1821-27-8 1821-27-8 C1=CC(=CC=C1NC2=CC=C(C=C2)[N+](=O)[O-])[N+](=O)[O-] 4-nitro-N-(4-nitrophenyl)aniline\n",
      "777 1448617-67-1 - CC1=C(C(=NN1)C(F)(F)F)CC2=C(C3=C(S2)N(C(=O)N(C3=O)C)C(C)C)C(=O)N4CC(CO4)(C)O 5-(4-hydroxy-4-methyl-1,2-oxazolidine-2-carbonyl)-3-methyl-6-[[5-methyl-3-(trifluoromethyl)-1H-pyrazol-4-yl]methyl]-1-propan-2-ylthieno[2,3-d]pyrimidine-2,4-dione\n",
      "779 1945-78-4 1945-78-4 C1=CC=C2C(=C1)N=C(S2)CC3=NC4=CC=CC=C4S3 2-(1,3-benzothiazol-2-ylmethyl)-1,3-benzothiazole\n",
      "781 5457-28-3 5457-28-3 C1=CC=C2C(=C1)C(=CN2)C#N 1H-indole-3-carbonitrile\n",
      "782 98-64-6 654055-01-3 no SMILES 2-(2,4-dihydroxyphenyl)-3,5,7-trihydroxychromen-4-one;dihydrate\n",
      "783 triazine 1 123606-06-4 CSC1=NC2=NN=C(C(=O)N2N1)[N+](=O)[O-] 7-methylsulfanyl-3-nitro-6H-[1,2,4]triazolo[5,1-c][1,2,4]triazin-4-one\n",
      "784 2408-22-2 240122-25-2 C1=C(C=C(C(=C1C(F)(F)F)F)F)Br 5-bromo-1,2-difluoro-3-(trifluoromethyl)benzene\n",
      "787 830-43-3 830-43-3 C1=CC(=CC=C1C(F)(F)F)S(=O)(=O)N 4-(trifluoromethyl)benzenesulfonamide\n",
      "793 587-90-6 - C1=CC(=CC=C1NC(=O)NC2=CC=C(C=C2)[N+](=O)[O-])[N+](=O)[O-] -\n",
      "796 6325-93-5 6325-93-5 C1=CC(=CC=C1[N+](=O)[O-])S(=O)(=O)N 4-nitrobenzenesulfonamide\n",
      "797 1449332-69-7 - C1=CN=CC=C1C=NOC=O -\n",
      "799 194222-97-4 194222-97-4 C1=CC(=CC=C1CS(=O)(=O)C(F)(F)F)C(F)(F)F 1-(trifluoromethyl)-4-(trifluoromethylsulfonylmethyl)benzene\n",
      "801 3752-73-6 37526-59-3 C1=CC=C(C(=C1)OC(F)(F)F)S(=O)(=O)N 2-(trifluoromethoxy)benzenesulfonamide\n",
      "802 1580000-57-2 OS-3-106 COC1=CC=CC=C1N2CCN(CC2)CCCCNC(=O)C3=CC=C(C=C3)C4=CSC=N4 N-[4-[4-(2-methoxyphenyl)piperazin-1-yl]butyl]-4-(1,3-thiazol-4-yl)benzamide\n",
      "803 1535-92-8 1535-92-8 C1(=C(C(=C(C(=C1F)F)F)F)F)NC2=C(C(=C(C(=C2F)F)F)F)F 2,3,4,5,6-pentafluoro-N-(2,3,4,5,6-pentafluorophenyl)aniline\n",
      "806 489-98-5 489-98-5 C1=C(C=C(C(=C1[N+](=O)[O-])N)[N+](=O)[O-])[N+](=O)[O-] 2,4,6-trinitroaniline\n",
      "808 193686-70-3 60544-75-4 C1=CC=C2C(=C1)C=C(N2)[N+](=O)[O-] 2-nitro-1H-indole\n",
      "812 73622-52-3 654055-01-3 no SMILES 2-(2,4-dihydroxyphenyl)-3,5,7-trihydroxychromen-4-one;dihydrate\n",
      "813 110-44-1 22500-92-1 CC=CC=CC(=O)O hexa-2,4-dienoic acid\n",
      "815 88-75-5 88-75-5 C1=CC=C(C(=C1)[N+](=O)[O-])O 2-nitrophenol\n",
      "816 434957-15-0 434957-15-0 C1=C(C=C(C=C1C(F)(F)F)C(F)(F)F)CS(=O)(=O)C(F)(F)F 1,3-bis(trifluoromethyl)-5-(trifluoromethylsulfonylmethyl)benzene\n",
      "818 302-79-4 3555-80-4 CC1=C(C(CCC1)(C)C)C=CC(=CC=CC(=CC(=O)O)C)C 3,7-dimethyl-9-(2,6,6-trimethylcyclohexen-1-yl)nona-2,4,6,8-tetraenoic acid\n",
      "819 4770-03-0 4770-03-0 C1=CC=C2C(=C1)C(=CN2)[N+](=O)[O-] 3-nitro-1H-indole\n",
      "820 778-36-9 778-36-9 C1(=C(C(=C(C(=C1F)F)S(=O)(=O)N)F)F)F 2,3,4,5,6-pentafluorobenzenesulfonamide\n",
      "827 42254-09-1 - CCOC1=CC=C(C=C1)N2C(=O)C3=C(NC2=S)NN=C3 5-(4-ethoxyphenyl)-6-sulfanylidene-1,7-dihydropyrazolo[3,4-d]pyrimidin-4-one\n",
      "828 42238-34-6 - CCOC(=O)C1=C(SC2=C1CCCC2)NC(=O)OC(C)(C)C ethyl 2-[(2-methylpropan-2-yl)oxycarbonylamino]-4,5,6,7-tetrahydro-1-benzothiophene-3-carboxylate\n",
      "832 42238-36-8 93995-89-2 CN(C)CCNCC(=O)N1C2=CC=CC=C2SC3=CC=CC=C31 2-[2-(dimethylamino)ethylamino]-1-phenothiazin-10-ylethanone\n",
      "835 64934-69-6 64934-83-4 CC1=[N+](C(NC1(C)C)(C)C)[O-] 2,2,4,5,5-pentamethyl-3-oxido-1H-imidazol-3-ium\n",
      "839 38727-34-3 38727-55-8 CCC1=C(C(=CC=C1)CC)N(CC(=O)OCC)C(=O)CCl ethyl 2-(N-(2-chloroacetyl)-2,6-diethylanilino)acetate\n",
      "841 133213-11-3 - NC1=C(C=C(C=C1[S](F)(=O)=O)[S](F)(=O)=O)[S](F)(=O)=O -\n",
      "843 1269510-74-8 654055-01-3 no SMILES 2-(2,4-dihydroxyphenyl)-3,5,7-trihydroxychromen-4-one;dihydrate\n",
      "846 2249843-76-1 50285-72-8 CCN(CC)C(=O)N(C)N=O 1,1-diethyl-3-methyl-3-nitrosourea\n",
      "847 92916-62-6 929626-16-4 B1(OC(C(O1)(C)C)(C)C)C2=CC(=CC(=C2)Cl)OC 2-(3-chloro-5-methoxyphenyl)-4,4,5,5-tetramethyl-1,3,2-dioxaborolane\n",
      "848 42238-35-7 42237-85-4 C1=C(C=C(C=C1N)Br)C(=O)O 3-amino-5-bromobenzoic acid\n",
      "851 55852-22-7 77694-41-8 CC1(CC(C(=O)O1)N2C3=CC=CC=C3C=C2CC(=O)N)C 2-[1-(5,5-dimethyl-2-oxooxolan-3-yl)indol-2-yl]acetamide\n",
      "852 87-86-5 87-86-5 C1(=C(C(=C(C(=C1Cl)Cl)Cl)Cl)Cl)O 2,3,4,5,6-pentachlorophenol\n",
      "854 2340-87-6 - CCOC(=O)C(C#N)C1=C(C(=C(C(=C1F)F)F)F)F ethyl 2-cyano-2-(2,3,4,5,6-pentafluorophenyl)acetate\n",
      "857 55810-56-5 654055-01-3 no SMILES 2-(2,4-dihydroxyphenyl)-3,5,7-trihydroxychromen-4-one;dihydrate\n",
      "858 35622-48-1 654055-01-3 no SMILES 2-(2,4-dihydroxyphenyl)-3,5,7-trihydroxychromen-4-one;dihydrate\n",
      "860 534-52-1 534-52-1 CC1=CC(=CC(=C1O)[N+](=O)[O-])[N+](=O)[O-] 2-methyl-4,6-dinitrophenol\n",
      "861 573-56-8 573-56-8 C1=CC(=C(C(=C1)[N+](=O)[O-])O)[N+](=O)[O-] 2,6-dinitrophenol\n",
      "862 51-28-5 654055-01-3 no SMILES 2-(2,4-dihydroxyphenyl)-3,5,7-trihydroxychromen-4-one;dihydrate\n",
      "864 62325-51-3 62325-30-8 C1=CC2=C(C=CC3=C2C=CC(=C3)Br)C=C1Br 2,7-dibromophenanthrene\n",
      "865 364-32-9 364-32-9 C1=C(C=C(C(=C1[N+](=O)[O-])O)[N+](=O)[O-])F 4-fluoro-2,6-dinitrophenol\n",
      "868 62325-37-5 654055-01-3 no SMILES 2-(2,4-dihydroxyphenyl)-3,5,7-trihydroxychromen-4-one;dihydrate\n",
      "874 1378040-90-4 - COC(=O)C1=CC=C(C=C1)OC2=NC=C(C=C2)I methyl 4-(5-iodopyridin-2-yl)oxybenzoate\n",
      "876 946-31-6 946-31-6 C1=C(C=C(C(=C1[N+](=O)[O-])O)Cl)[N+](=O)[O-] 2-chloro-4,6-dinitrophenol\n",
      "877 934201-93-1 - C1CCC2=C3C4=C5CCCCC5=CC(=C4OP(=O)(OC3=C(C=C2C1)C6=CC7=CC=CC=C7C8=CC=CC=C86)O)C9=CC1=CC=CC=C1C1=CC=CC=C19 13-hydroxy-10,16-di(phenanthren-9-yl)-12,14-dioxa-13λ5-phosphapentacyclo[13.8.0.02,11.03,8.018,23]tricosa-1(23),2,8,10,15,17-hexaene 13-oxide\n",
      "879 791616-63-2 791616-63-2 CC(C)C1=CC(=C(C(=C1)C(C)C)C2=CC3=CC=CC=C3C4=C2OP(=O)(OC5=C4C6=CC=CC=C6C=C5C7=C(C=C(C=C7C(C)C)C(C)C)C(C)C)O)C(C)C 13-hydroxy-10,16-bis[2,4,6-tri(propan-2-yl)phenyl]-12,14-dioxa-13λ5-phosphapentacyclo[13.8.0.02,11.03,8.018,23]tricosa-1(15),2(11),3,5,7,9,16,18,20,22-decaene 13-oxide\n",
      "880 2489223-24-5 248924-59-6 B1(OC(C(O1)(C)C)(C)C)C2=COC=C2 2-(furan-3-yl)-4,4,5,5-tetramethyl-1,3,2-dioxaborolane\n",
      "881 64934-72-1 64932-36-1 CC(C)C(C=O)Br 2-bromo-3-methylbutanal\n",
      "883 864943-22-6 864943-22-6 C1=CC=C2C(=C1)C=C(C3=CC=CC=C23)C4=CC5=CC=CC=C5C6=C4OP(=O)(OC7=C6C8=CC=CC=C8C=C7C9=CC1=CC=CC=C1C1=CC=CC=C19)O 13-hydroxy-10,16-di(phenanthren-9-yl)-12,14-dioxa-13λ5-phosphapentacyclo[13.8.0.02,11.03,8.018,23]tricosa-1(15),2(11),3,5,7,9,16,18,20,22-decaene 13-oxide\n",
      "885 55810-63-4 70737-24-5 CCN(CC)CCOCC[Si](C)(C1=CC=CC=C1)C2=CC=CC=C2 N,N-diethyl-2-[2-[methyl(diphenyl)silyl]ethoxy]ethanamine\n",
      "886 695162-86-8 1244725-08-3 C1=CC=C(C=C1)C2=CC3=CC=CC=C3C4=C2OP(=O)(OC5=C4C6=CC=CC=C6C=C5C7=CC=CC=C7)O 13-hydroxy-10,16-diphenyl-12,14-dioxa-13λ5-phosphapentacyclo[13.8.0.02,11.03,8.018,23]tricosa-1(15),2(11),3,5,7,9,16,18,20,22-decaene 13-oxide\n",
      "887 2408902-84-9 30560-37-3 CCOP(=O)(NC(=O)C)SC N-[ethoxy(methylsulfanyl)phosphoryl]acetamide\n",
      "888 915038-14-1 - CCC1C2CC(CCC2(C3CCC4(C(C3C1=O)CCC4C(C)CCC(=O)O)C)C)O -\n",
      "889 1541182-00-6 - C1CCC(C(C1)NC(=O)C2=C(C(=C(C(=C2Br)Br)Br)Br)C(=O)O)NC(=S)NC3=CC(=CC(=C3)C(F)(F)F)C(F)(F)F 2-[[2-[[3,5-bis(trifluoromethyl)phenyl]carbamothioylamino]cyclohexyl]carbamoyl]-3,4,5,6-tetrabromobenzoic acid\n",
      "892 14561-75-2 145612-66-4 CC(C)(C)C1=CC=C(C=C1)[S+](C2=CC=CC=C2)C3=CC=CC=C3.C(F)(F)(F)S(=O)(=O)[O-] (4-tert-butylphenyl)-diphenylsulfanium;trifluoromethanesulfonate\n",
      "893 2489223-25-6 654055-01-3 no SMILES 2-(2,4-dihydroxyphenyl)-3,5,7-trihydroxychromen-4-one;dihydrate\n",
      "894 7077-65-8 7077-65-8 C1=CC(=CC=C1C(C#N)C#N)[N+](=O)[O-] 2-(4-nitrophenyl)propanedinitrile\n",
      "895 39063-05-3 39065-49-1 C1=CC=C(C=C1)C2=C(C=CC=N2)C#N 2-phenylpyridine-3-carbonitrile\n",
      "900 958028-58-5 654055-01-3 no SMILES 2-(2,4-dihydroxyphenyl)-3,5,7-trihydroxychromen-4-one;dihydrate\n",
      "901 1685282-48-7 1629062-56-1 CC(C)C(C(=O)N)NC(=O)C1=NN(C2=CC=CC=C21)CC3=CC=C(C=C3)F N-(1-amino-3-methyl-1-oxobutan-2-yl)-1-[(4-fluorophenyl)methyl]indazole-3-carboxamide\n",
      "902 69173-28-0 69173-20-2 COC1=C(C=C(C=C1)S(=O)(=O)N)Cl 3-chloro-4-methoxybenzenesulfonamide\n",
      "903 39062-91-4 39061-97-7 C1=CC=C2C(=C1)C(=C(C=N2)[N+](=O)[O-])Cl 4-chloro-3-nitroquinoline\n",
      "905 480-68-2 480-68-2 C1(C(=O)NC(=O)NC1=O)[N+](=O)[O-] 5-nitro-1,3-diazinane-2,4,6-trione\n",
      "906 39063-00-8 654055-01-3 no SMILES 2-(2,4-dihydroxyphenyl)-3,5,7-trihydroxychromen-4-one;dihydrate\n",
      "907 131-73-7 131-73-7 C1=C(C=C(C(=C1[N+](=O)[O-])NC2=C(C=C(C=C2[N+](=O)[O-])[N+](=O)[O-])[N+](=O)[O-])[N+](=O)[O-])[N+](=O)[O-] 2,4,6-trinitro-N-(2,4,6-trinitrophenyl)aniline\n",
      "912 96433-16-8 96433-09-9 B1(OCCCO1)C2=CC=C(C=C2)B3OCCCO3 2-[4-(1,3,2-dioxaborinan-2-yl)phenyl]-1,3,2-dioxaborinane\n",
      "916 28006-58-8 10397-78-1 CNC(=O)C1=C(C(=C(C(=C1I)NC(=O)CCCCCCCCCCC(=O)NC2=C(C(=C(C(=C2I)C(=O)O)I)C(=O)NC)I)I)C(=O)O)I 3-[[12-[3-carboxy-2,4,6-triiodo-5-(methylcarbamoyl)anilino]-12-oxododecanoyl]amino]-2,4,6-triiodo-5-(methylcarbamoyl)benzoic acid\n",
      "917 100724-78-5 4-Methyl-4'-nitro[1,1'-iminobis(sulfonyl)bis(benzene)] CC1=CC=C(C=C1)[S](=O)(=O)N[S](=O)(=O)C2=CC=C(C=C2)[N+]([O-])=O 4-methyl-N-(4-nitrophenyl)sulfonylbenzenesulfonamide\n",
      "918 75-75-2 75-75-2 CS(=O)(=O)O methanesulfonic acid\n",
      "919 215395-06-5 215306-02-8 C1=CN=C(C(=C1C(=O)O)C(=O)O)Cl 2-chloropyridine-3,4-dicarboxylic acid\n",
      "922 95468-16-9 - C1=CC(=CC(=C1)S(=O)(=O)NS(=O)(=O)C2=CC=C(C=C2)Cl)[N+](=O)[O-] N-(4-chlorophenyl)sulfonyl-3-nitrobenzenesulfonamide\n",
      "925 1171188-83-2 654055-01-3 no SMILES 2-(2,4-dihydroxyphenyl)-3,5,7-trihydroxychromen-4-one;dihydrate\n",
      "927 98-11-3 98-11-3 C1=CC=C(C=C1)S(=O)(=O)O benzenesulfonic acid\n",
      "928 116082-80-5 - C1=CC(=CC(=C1)S(=O)(=O)NS(=O)(=O)C2=CC=CC(=C2)[N+](=O)[O-])[N+](=O)[O-] 3-nitro-N-(3-nitrophenyl)sulfonylbenzenesulfonamide\n",
      "930 1263293-54-4 126325-46-0 CC1=NC(=C(C=C1)Br)N 3-bromo-6-methylpyridin-2-amine\n",
      "931 1263293-53-3 654055-01-3 no SMILES 2-(2,4-dihydroxyphenyl)-3,5,7-trihydroxychromen-4-one;dihydrate\n",
      "936 7664-93-9 7664-93-9 OS(=O)(=O)O sulfuric acid\n",
      "941 1071853-99-0 - COC1=CC=C(C=C1)C2=CC3CCCCC3C4=C2OP(=O)(OC5=C(C=C6CCCCC6=C45)C7=CC=C(C=C7)OC)NS(=O)(=O)C(F)(F)F N-[10,16-bis(4-methoxyphenyl)-13-oxo-12,14-dioxa-13λ5-phosphapentacyclo[13.8.0.02,11.03,8.018,23]tricosa-1(15),2,8,10,16-pentaen-13-yl]-1,1,1-trifluoromethanesulfonamide\n",
      "943 1261302-62-8 - C1CCC2=C3C4=C5CCCCC5=CC(=C4OP(=O)(OC3=C(C=C2C1)C6=CC=CC=C6)NS(=O)(=O)C(F)(F)F)C7=CC=CC=C7 1,1,1-trifluoro-N-(13-oxo-10,16-diphenyl-12,14-dioxa-13λ5-phosphapentacyclo[13.8.0.02,11.03,8.018,23]tricosa-1(23),2,8,10,15,17-hexaen-13-yl)methanesulfonamide\n",
      "944 1171188-92-3 1171123-46-8 CC1=C(C2=C(N1)C=CC(=C2)Cl)C3=CCNCC3.Cl 5-chloro-2-methyl-3-(1,2,3,6-tetrahydropyridin-4-yl)-1H-indole;hydrochloride\n",
      "945 1261302-67-3 1261302-02-6 C1=CSC2=C1C(=NC=C2C#N)Cl 4-chlorothieno[3,2-c]pyridine-7-carbonitrile\n",
      "946 1171188-93-4 1171884-78-8 C1=CC=NC(=C1)OC2=CC=C(C=C2)CN.Cl (4-pyridin-2-yloxyphenyl)methanamine;hydrochloride\n",
      "947 98-47-5 98-47-5 C1=CC(=CC(=C1)S(=O)(=O)O)[N+](=O)[O-] 3-nitrobenzenesulfonic acid\n",
      "949 1010799-98-0 - C1=CC=C(C=C1)C2=CC3=CC=CC=C3C4=C2OP(=O)(OC5=C4C6=CC=CC=C6C=C5C7=CC=CC=C7)NS(=O)(=O)C(F)(F)F 1,1,1-trifluoro-N-(13-oxo-10,16-diphenyl-12,14-dioxa-13λ5-phosphapentacyclo[13.8.0.02,11.03,8.018,23]tricosa-1(15),2(11),3,5,7,9,16,18,20,22-decaen-13-yl)methanesulfonamide\n",
      "952 46764-49-2 654055-01-3 no SMILES 2-(2,4-dihydroxyphenyl)-3,5,7-trihydroxychromen-4-one;dihydrate\n",
      "953 1171188-96-7 - CC(C)(C)OC(=O)N1CCCC(C1)C2=CC=C(C=C2)N tert-butyl 3-(4-aminophenyl)piperidine-1-carboxylate\n",
      "954 500721-87-9 284493-59-0 CC(C)(C)OC(=O)NC(CC(=O)O)C1=CC(=CC=C1)F 3-(3-fluorophenyl)-3-[(2-methylpropan-2-yl)oxycarbonylamino]propanoic acid\n",
      "955 1207878-53-2 654055-01-3 no SMILES 2-(2,4-dihydroxyphenyl)-3,5,7-trihydroxychromen-4-one;dihydrate\n",
      "956 215395-07-6 215306-02-8 C1=CN=C(C(=C1C(=O)O)C(=O)O)Cl 2-chloropyridine-3,4-dicarboxylic acid\n",
      "957 500721-89-1 1502-46-1 C1(=O)NC2=NC(=O)NC3=NC(=O)N=C(N23)N1 2,4,6,8,10,12,13-heptazatricyclo[7.3.1.05,13]trideca-1,4,8-triene-3,7,11-trione\n",
      "960 174788-87-5 174775-48-5 CCOC(=O)C1=CC2=C(O1)C=CC(=C2)N ethyl 5-amino-1-benzofuran-2-carboxylate\n",
      "962 500721-93-7 500717-23-7 CC1(C2=CC=CC=C2C3=C1C=C(C=C3)NC4=CC5=C(C=C4)C6=CC=CC=C6C5(C)C)C N-(9,9-dimethylfluoren-2-yl)-9,9-dimethylfluoren-2-amine\n",
      "963 882492-01-5 654055-01-3 no SMILES 2-(2,4-dihydroxyphenyl)-3,5,7-trihydroxychromen-4-one;dihydrate\n",
      "964 500721-95-9 87299-55-6 CC1(CCC2C(CC(OC2C1)C3CCCCC3)C4CCCCC4)C 2,4-dicyclohexyl-7,7-dimethyl-2,3,4,4a,5,6,8,8a-octahydrochromene\n",
      "965 1535-93-9 153559-49-0 CC1=CC2=C(C=C1C(=C)C3=CC=C(C=C3)C(=O)O)C(CCC2(C)C)(C)C 4-[1-(3,5,5,8,8-pentamethyl-6,7-dihydronaphthalen-2-yl)ethenyl]benzoic acid\n",
      "966 454-50-2 454-50-2 C(#N)C(C#N)C#N methanetricarbonitrile\n",
      "969 174788-93-3 - CC1=CC=C(C=C1)[S](=O)(=O)N[S](=O)(=N[S](=O)(=O)C(F)(F)F)C2=CC=C(Cl)C=C2 -\n",
      "970 500721-97-1 654055-01-3 no SMILES 2-(2,4-dihydroxyphenyl)-3,5,7-trihydroxychromen-4-one;dihydrate\n",
      "971 71571-37-4 71574-33-9 CC1=C(SC(=N1)N)C.Cl 4,5-dimethyl-1,3-thiazol-2-amine;hydrochloride\n",
      "972 27062-39-1 - C(#N)C(=C(C#N)O)C#N 2-hydroxyethene-1,1,2-tricarbonitrile\n",
      "974 174788-95-5 - FC(F)(F)[S](=O)(=O)N=[S](=O)(N[S](=O)(=O)C1=CC=C(Cl)C=C1)C2=CC=C(Cl)C=C2 -\n",
      "975 89-02-1 89-02-1 C1=CC(=C(C=C1[N+](=O)[O-])[N+](=O)[O-])S(=O)(=O)O 2,4-dinitrobenzenesulfonic acid\n",
      "979 120-72-9 120-72-9 C1=CC=C2C(=C1)C=CN2 1H-indole\n",
      "980 108-95-2 108-95-2 C1=CC=C(C=C1)O phenol\n",
      "981 6146-52-7 6146-52-7 C1=CC2=C(C=CN2)C=C1[N+](=O)[O-] 5-nitro-1H-indole\n",
      "982 4769-96-4 4769-96-4 C1=CC(=CC2=C1C=CN2)[N+](=O)[O-] 6-nitro-1H-indole\n",
      "987 98-64-6 98-64-6 C1=CC(=CC=C1S(=O)(=O)N)Cl 4-chlorobenzenesulfonamide\n",
      "989 830-43-3 830-43-3 C1=CC(=CC=C1C(F)(F)F)S(=O)(=O)N 4-(trifluoromethyl)benzenesulfonamide\n",
      "993 489-98-5 489-98-5 C1=C(C=C(C(=C1[N+](=O)[O-])N)[N+](=O)[O-])[N+](=O)[O-] 2,4,6-trinitroaniline\n",
      "997 110-44-1 22500-92-1 CC=CC=CC(=O)O hexa-2,4-dienoic acid\n",
      "999 4770-03-0 4770-03-0 C1=CC=C2C(=C1)C(=CN2)[N+](=O)[O-] 3-nitro-1H-indole\n",
      "1000 778-36-9 778-36-9 C1(=C(C(=C(C(=C1F)F)S(=O)(=O)N)F)F)F 2,3,4,5,6-pentafluorobenzenesulfonamide\n",
      "1001 65-85-0 65-85-0 C1=CC=C(C=C1)C(=O)O benzoic acid\n",
      "1003 42238-34-6 - CCOC(=O)C1=C(SC2=C1CCCC2)NC(=O)OC(C)(C)C ethyl 2-[(2-methylpropan-2-yl)oxycarbonylamino]-4,5,6,7-tetrahydro-1-benzothiophene-3-carboxylate\n",
      "1008 87-86-5 654055-01-3 no SMILES 2-(2,4-dihydroxyphenyl)-3,5,7-trihydroxychromen-4-one;dihydrate\n",
      "1010 2340-87-6 - CCOC(=O)C(C#N)C1=C(C(=C(C(=C1F)F)F)F)F ethyl 2-cyano-2-(2,3,4,5,6-pentafluorophenyl)acetate\n",
      "1011 534-52-1 - error in recall -\n",
      "1012 573-56-8 573-56-8 C1=CC(=C(C(=C1)[N+](=O)[O-])O)[N+](=O)[O-] 2,6-dinitrophenol\n",
      "1013 51-28-5 51-28-5 C1=CC(=C(C=C1[N+](=O)[O-])[N+](=O)[O-])O 2,4-dinitrophenol\n",
      "1014 58432-55-6 58436-28-5 C1=CC(=CC=C1CCC2=CC(=CC(=C2)O)O)O 5-[2-(4-hydroxyphenyl)ethyl]benzene-1,3-diol\n",
      "1015 81-07-2 128-44-9 C1=CC=C2C(=C1)C(=O)NS2(=O)=O 1,1-dioxo-1,2-benzothiazol-3-one\n",
      "1016 946-31-6 946-31-6 C1=C(C=C(C(=C1[N+](=O)[O-])O)Cl)[N+](=O)[O-] 2-chloro-4,6-dinitrophenol\n",
      "1017 7077-65-8 7077-65-8 C1=CC(=CC=C1C(C#N)C#N)[N+](=O)[O-] 2-(4-nitrophenyl)propanedinitrile\n",
      "1019 131-73-7 131-73-7 C1=C(C=C(C(=C1[N+](=O)[O-])NC2=C(C=C(C=C2[N+](=O)[O-])[N+](=O)[O-])[N+](=O)[O-])[N+](=O)[O-])[N+](=O)[O-] 2,4,6-trinitro-N-(2,4,6-trinitrophenyl)aniline\n",
      "1023 454-50-2 454-50-2 C(#N)C(C#N)C#N methanetricarbonitrile\n",
      "1024 71571-37-4 71574-33-9 CC1=C(SC(=N1)N)C.Cl 4,5-dimethyl-1,3-thiazol-2-amine;hydrochloride\n",
      "1026 120-72-9 120-72-9 C1=CC=C2C(=C1)C=CN2 1H-indole\n",
      "1027 108-95-2 108-95-2 C1=CC=C(C=C1)O phenol\n",
      "1028 17823-38-0 17823-38-0 C(#N)C1=C(C(=C(C(=C1F)F)N)F)F 4-amino-2,3,5,6-tetrafluorobenzonitrile\n",
      "1029 1018330-43-2 654055-01-3 no SMILES 2-(2,4-dihydroxyphenyl)-3,5,7-trihydroxychromen-4-one;dihydrate\n",
      "1030 6146-52-7 6146-52-7 C1=CC2=C(C=CN2)C=C1[N+](=O)[O-] 5-nitro-1H-indole\n",
      "1031 73482-93-6 73489-84-6 CCOC(=O)CC(C)(CC(=O)OCC)O diethyl 3-hydroxy-3-methylpentanedioate\n",
      "1032 1/2/55 388569-88-8 C1CC2C3C(C1)SC4CCC5C(C4)OCCOCCOCCOCCOCCOC6CC(S2)CCC6SC7CCCC(C7OCCOCCOCCOCCOCCO3)S5 3,6,9,12,15,18,32,35,38,41,44,47-dodecaoxa-25,54,58,60-tetrathiaheptacyclo[28.27.1.12,55.121,49.019,24.026,31.048,53]hexacontane\n",
      "1033 58432-62-5 - CC1=CC=CC=C1C(C)C#N 2-(2-methylphenyl)propanenitrile\n",
      "1035 210486-32-1 318-85-4 C1=CC=C2C(=C1)C=CC=C2NC(=O)CF 2-fluoro-N-naphthalen-1-ylacetamide\n",
      "1038 653-22-5 653-22-5 CC(=O)NC1=C(C(=C(C(=C1F)F)F)F)F N-(2,3,4,5,6-pentafluorophenyl)acetamide\n",
      "1041 98-64-6 98-64-6 C1=CC(=CC=C1S(=O)(=O)N)Cl 4-chlorobenzenesulfonamide\n",
      "1050 194222-97-4 194222-97-4 C1=CC(=CC=C1CS(=O)(=O)C(F)(F)F)C(F)(F)F 1-(trifluoromethyl)-4-(trifluoromethylsulfonylmethyl)benzene\n",
      "1051 3752-73-6 37526-59-3 C1=CC=C(C(=C1)OC(F)(F)F)S(=O)(=O)N 2-(trifluoromethoxy)benzenesulfonamide\n",
      "1052 1535-92-8 1535-92-8 C1(=C(C(=C(C(=C1F)F)F)F)F)NC2=C(C(=C(C(=C2F)F)F)F)F 2,3,4,5,6-pentafluoro-N-(2,3,4,5,6-pentafluorophenyl)aniline\n",
      "1058 73622-52-3 73622-98-7 CC(C(=O)O)OC(=O)NC1=CC=CC=C1 2-(phenylcarbamoyloxy)propanoic acid\n",
      "1063 42238-34-6 - CCOC(=O)C1=C(SC2=C1CCCC2)NC(=O)OC(C)(C)C ethyl 2-[(2-methylpropan-2-yl)oxycarbonylamino]-4,5,6,7-tetrahydro-1-benzothiophene-3-carboxylate\n",
      "1066 42238-36-8 93995-89-2 CN(C)CCNCC(=O)N1C2=CC=CC=C2SC3=CC=CC=C31 2-[2-(dimethylamino)ethylamino]-1-phenothiazin-10-ylethanone\n",
      "1070 38727-34-3 38727-55-8 CCC1=C(C(=CC=C1)CC)N(CC(=O)OCC)C(=O)CCl ethyl 2-(N-(2-chloroacetyl)-2,6-diethylanilino)acetate\n",
      "1072 133213-11-3 - NC1=C(C=C(C=C1[S](F)(=O)=O)[S](F)(=O)=O)[S](F)(=O)=O -\n",
      "1074 42238-35-7 42237-85-4 C1=C(C=C(C=C1N)Br)C(=O)O 3-amino-5-bromobenzoic acid\n",
      "1075 55852-22-7 77694-41-8 CC1(CC(C(=O)O1)N2C3=CC=CC=C3C=C2CC(=O)N)C 2-[1-(5,5-dimethyl-2-oxooxolan-3-yl)indol-2-yl]acetamide\n",
      "1076 87-86-5 87-86-5 C1(=C(C(=C(C(=C1Cl)Cl)Cl)Cl)Cl)O 2,3,4,5,6-pentachlorophenol\n",
      "1077 2340-87-6 - CCOC(=O)C(C#N)C1=C(C(=C(C(=C1F)F)F)F)F ethyl 2-cyano-2-(2,3,4,5,6-pentafluorophenyl)acetate\n",
      "1080 35622-48-1 122975-87-5 CC1=CC=CC=C1N2C(=O)C(=CC(=O)C3=CC=C(C=C3)Cl)OC2=N 5-[2-(4-chlorophenyl)-2-oxoethylidene]-2-imino-3-(2-methylphenyl)-1,3-oxazolidin-4-one\n",
      "1081 534-52-1 534-52-1 CC1=CC(=CC(=C1O)[N+](=O)[O-])[N+](=O)[O-] 2-methyl-4,6-dinitrophenol\n",
      "1082 573-56-8 573-56-8 C1=CC(=C(C(=C1)[N+](=O)[O-])O)[N+](=O)[O-] 2,6-dinitrophenol\n",
      "1088 791616-63-2 791616-63-2 CC(C)C1=CC(=C(C(=C1)C(C)C)C2=CC3=CC=CC=C3C4=C2OP(=O)(OC5=C4C6=CC=CC=C6C=C5C7=C(C=C(C=C7C(C)C)C(C)C)C(C)C)O)C(C)C 13-hydroxy-10,16-bis[2,4,6-tri(propan-2-yl)phenyl]-12,14-dioxa-13λ5-phosphapentacyclo[13.8.0.02,11.03,8.018,23]tricosa-1(15),2(11),3,5,7,9,16,18,20,22-decaene 13-oxide\n",
      "1089 64934-72-1 64932-36-1 CC(C)C(C=O)Br 2-bromo-3-methylbutanal\n",
      "1090 695162-86-8 1244725-08-3 C1=CC=C(C=C1)C2=CC3=CC=CC=C3C4=C2OP(=O)(OC5=C4C6=CC=CC=C6C=C5C7=CC=CC=C7)O 13-hydroxy-10,16-diphenyl-12,14-dioxa-13λ5-phosphapentacyclo[13.8.0.02,11.03,8.018,23]tricosa-1(15),2(11),3,5,7,9,16,18,20,22-decaene 13-oxide\n",
      "1092 480-68-2 480-68-2 C1(C(=O)NC(=O)NC1=O)[N+](=O)[O-] 5-nitro-1,3-diazinane-2,4,6-trione\n",
      "1099 58432-44-3 654055-01-3 no SMILES 2-(2,4-dihydroxyphenyl)-3,5,7-trihydroxychromen-4-one;dihydrate\n",
      "1100 52345-34-3 137-88-2 CCCC1=NC=C(C(=N1)N)C[N+]2=CC=CC=C2C.Cl.[Cl-] 5-[(2-methylpyridin-1-ium-1-yl)methyl]-2-propylpyrimidin-4-amine;chloride;hydrochloride\n",
      "1102 42254-09-1 - CCOC1=CC=C(C=C1)N2C(=O)C3=C(NC2=S)NN=C3 5-(4-ethoxyphenyl)-6-sulfanylidene-1,7-dihydropyrazolo[3,4-d]pyrimidin-4-one\n",
      "1103 42238-36-8 93995-89-2 CN(C)CCNCC(=O)N1C2=CC=CC=C2SC3=CC=CC=C31 2-[2-(dimethylamino)ethylamino]-1-phenothiazin-10-ylethanone\n",
      "1105 62325-38-6 62325-30-8 C1=CC2=C(C=CC3=C2C=CC(=C3)Br)C=C1Br 2,7-dibromophenanthrene\n",
      "1107 42238-35-7 42237-85-4 C1=C(C=C(C=C1N)Br)C(=O)O 3-amino-5-bromobenzoic acid\n",
      "1108 2340-87-6 - CCOC(=O)C(C#N)C1=C(C(=C(C(=C1F)F)F)F)F ethyl 2-cyano-2-(2,3,4,5,6-pentafluorophenyl)acetate\n",
      "1109 62325-34-2 NCI60_006939 COC1=C(C=C(C=C1)C(=C(C=O)C2=CC(=C(C(=C2)OC)OC)OC)Cl)OC 3-chloro-3-(3,4-dimethoxyphenyl)-2-(3,4,5-trimethoxyphenyl)prop-2-enal\n",
      "1111 62325-51-3 62325-30-8 C1=CC2=C(C=CC3=C2C=CC(=C3)Br)C=C1Br 2,7-dibromophenanthrene\n",
      "1115 64934-72-1 64932-36-1 CC(C)C(C=O)Br 2-bromo-3-methylbutanal\n",
      "1117 55810-63-4 70737-24-5 CCN(CC)CCOCC[Si](C)(C1=CC=CC=C1)C2=CC=CC=C2 N,N-diethyl-2-[2-[methyl(diphenyl)silyl]ethoxy]ethanamine\n",
      "1123 100724-78-5 4-Methyl-4'-nitro[1,1'-iminobis(sulfonyl)bis(benzene)] CC1=CC=C(C=C1)[S](=O)(=O)N[S](=O)(=O)C2=CC=C(C=C2)[N+]([O-])=O 4-methyl-N-(4-nitrophenyl)sulfonylbenzenesulfonamide\n",
      "1124 95468-16-9 - C1=CC(=CC(=C1)S(=O)(=O)NS(=O)(=O)C2=CC=C(C=C2)Cl)[N+](=O)[O-] N-(4-chlorophenyl)sulfonyl-3-nitrobenzenesulfonamide\n",
      "1128 7664-93-9 7664-93-9 OS(=O)(=O)O sulfuric acid\n",
      "1129 64646-01-1 64640-13-7 C1=CC=C(C=C1)C2=CN=C(O2)CCl 2-(chloromethyl)-5-phenyl-1,3-oxazole\n",
      "1133 454-50-2 454-50-2 C(#N)C(C#N)C#N methanetricarbonitrile\n",
      "1134 174788-93-3 - CC1=CC=C(C=C1)[S](=O)(=O)N[S](=O)(=N[S](=O)(=O)C(F)(F)F)C2=CC=C(Cl)C=C2 -\n",
      "1135 71571-37-4 71574-33-9 CC1=C(SC(=N1)N)C.Cl 4,5-dimethyl-1,3-thiazol-2-amine;hydrochloride\n",
      "1136 27062-39-1 - C(#N)C(=C(C#N)O)C#N 2-hydroxyethene-1,1,2-tricarbonitrile\n",
      "1138 174788-95-5 - FC(F)(F)[S](=O)(=O)N=[S](=O)(N[S](=O)(=O)C1=CC=C(Cl)C=C1)C2=CC=C(Cl)C=C2 -\n",
      "1139 89-02-1 89-02-1 C1=CC(=C(C=C1[N+](=O)[O-])[N+](=O)[O-])S(=O)(=O)O 2,4-dinitrobenzenesulfonic acid\n",
      "1140 215395-09-8 40164-67-8 CCC1=C(C(=CC=C1)CC)N(CNC(=O)C)C(=O)CCl N-(acetamidomethyl)-2-chloro-N-(2,6-diethylphenyl)acetamide\n",
      "1143 120-72-9 120-72-9 C1=CC=C2C(=C1)C=CN2 1H-indole\n",
      "1144 108-95-2 108-95-2 C1=CC=C(C=C1)O phenol\n",
      "1148 98-64-6 98-64-6 C1=CC(=CC=C1S(=O)(=O)N)Cl 4-chlorobenzenesulfonamide\n",
      "1150 6325-93-5 6325-93-5 C1=CC(=CC=C1[N+](=O)[O-])S(=O)(=O)N 4-nitrobenzenesulfonamide\n",
      "1154 87-86-5 87-86-5 C1(=C(C(=C(C(=C1Cl)Cl)Cl)Cl)Cl)O 2,3,4,5,6-pentachlorophenol\n",
      "1155 573-56-8 573-56-8 C1=CC(=C(C(=C1)[N+](=O)[O-])O)[N+](=O)[O-] 2,6-dinitrophenol\n",
      "1160 131-73-7 131-73-7 C1=C(C=C(C(=C1[N+](=O)[O-])NC2=C(C=C(C=C2[N+](=O)[O-])[N+](=O)[O-])[N+](=O)[O-])[N+](=O)[O-])[N+](=O)[O-] 2,4,6-trinitro-N-(2,4,6-trinitrophenyl)aniline\n"
     ]
    }
   ],
   "source": [
    "#checking all smiles without cas\n",
    "for i in range(0,1163):\n",
    "    if smiles[i] == 'no matches':\n",
    "        pass\n",
    "    if smiles[i] == 'no SMILES':\n",
    "        iupaclist[i] = '-'\n",
    "        caslist[i] = '-'\n",
    "    elif caslist[i] == '-':\n",
    "        iupac, cas = SMILE_checker(smiles[i])\n",
    "        iupaclist[i] = iupac\n",
    "        caslist[i] = cas\n",
    "        print(i, molist[i], caslist[i], smiles[i], iupaclist[i])\n",
    "    else:\n",
    "        pass"
   ]
  },
  {
   "cell_type": "code",
   "execution_count": 375,
   "metadata": {
    "collapsed": true,
    "jupyter": {
     "outputs_hidden": true
    },
    "tags": []
   },
   "outputs": [
    {
     "name": "stdout",
     "output_type": "stream",
     "text": [
      "579 Acetic acid CC(=O)O\n",
      "584 2-nitroPhenol C1=CC=C(C(=C1)[N+](=O)[O-])O\n",
      "587 Retinoic acid CC1=C(C(CCC1)(C)C)C=CC(=CC=CC(=CC(=O)O)C)C\n",
      "592 Benzoic acid C1=CC=C(C=C1)C(=O)O\n",
      "602 2,4,6-tribromoPhenol C1=C(C=C(C(=C1Br)O)Br)Br\n",
      "631 2,4-dinitroPhenol C1=CC(=C(C=C1[N+](=O)[O-])[N+](=O)[O-])O\n",
      "642 Saccharin C1=CC=C2C(=C1)C(=O)NS2(=O)=O\n",
      "673 Picric acid C1=C(C=C(C(=C1[N+](=O)[O-])O)[N+](=O)[O-])[N+](=O)[O-]\n",
      "705 H2SO4 OS(=O)(=O)O\n",
      "758 101-20-2 C1=CC(=CC=C1NC(=O)NC2=CC(=C(C=C2)Cl)Cl)Cl\n",
      "791 80588-36-9 no matches\n",
      "815 88-75-5 C1=CC=C(C(=C1)[N+](=O)[O-])O\n",
      "915 741243-29-8 no matches\n",
      "948 1486486-92-3 no matches\n",
      "1001 65-85-0 C1=CC=C(C=C1)C(=O)O\n",
      "1008 87-86-5 no SMILES\n",
      "1011 534-52-1 error in recall\n",
      "1013 51-28-5 C1=CC(=C(C=C1[N+](=O)[O-])[N+](=O)[O-])O\n",
      "1015 81-07-2 C1=CC=C2C(=C1)C(=O)NS2(=O)=O\n",
      "1016 946-31-6 C1=C(C=C(C(=C1[N+](=O)[O-])O)Cl)[N+](=O)[O-]\n",
      "1045 80588-36-9 no matches\n",
      "1128 7664-93-9 OS(=O)(=O)O\n"
     ]
    }
   ],
   "source": [
    "for i in range(len(smiles)):\n",
    "    if smiles[i] == \"error in recall\":\n",
    "        smiles[i] = SMILE_scraper(molist[i])\n",
    "        print(i, molist[i], smiles[i])"
   ]
  },
  {
   "cell_type": "code",
   "execution_count": 378,
   "metadata": {},
   "outputs": [],
   "source": [
    "data['solute SMILES'] = smiles\n",
    "data['computed CAS'] = caslist\n",
    "data['computed IUPAC'] = iupaclist\n",
    "data.to_csv('data_csvs/pka_data_updated2.csv')"
   ]
  },
  {
   "cell_type": "code",
   "execution_count": 380,
   "metadata": {},
   "outputs": [
    {
     "data": {
      "text/plain": [
       "'Oc1ccccc1'"
      ]
     },
     "execution_count": 380,
     "metadata": {},
     "output_type": "execute_result"
    }
   ],
   "source": [
    "from rdkit import Chem\n",
    "\n",
    "Chem.MolToSmiles(Chem.MolFromSmiles(\"Oc1ccccc1\"),True)"
   ]
  },
  {
   "cell_type": "code",
   "execution_count": 382,
   "metadata": {},
   "outputs": [
    {
     "ename": "ModuleNotFoundError",
     "evalue": "No module named 'oechem'",
     "output_type": "error",
     "traceback": [
      "\u001b[0;31m---------------------------------------------------------------------------\u001b[0m",
      "\u001b[0;31mModuleNotFoundError\u001b[0m                       Traceback (most recent call last)",
      "\u001b[0;32m<ipython-input-382-983b8ea0af86>\u001b[0m in \u001b[0;36m<module>\u001b[0;34m\u001b[0m\n\u001b[0;32m----> 1\u001b[0;31m \u001b[0;32mfrom\u001b[0m \u001b[0moechem\u001b[0m \u001b[0;32mimport\u001b[0m \u001b[0;34m*\u001b[0m\u001b[0;34m\u001b[0m\u001b[0;34m\u001b[0m\u001b[0m\n\u001b[0m\u001b[1;32m      2\u001b[0m \u001b[0;34m\u001b[0m\u001b[0m\n\u001b[1;32m      3\u001b[0m \u001b[0;32mdef\u001b[0m \u001b[0mcanonicalize\u001b[0m\u001b[0;34m(\u001b[0m\u001b[0msmiles\u001b[0m\u001b[0;34m)\u001b[0m\u001b[0;34m:\u001b[0m\u001b[0;34m\u001b[0m\u001b[0;34m\u001b[0m\u001b[0m\n\u001b[1;32m      4\u001b[0m     \u001b[0mmol\u001b[0m \u001b[0;34m=\u001b[0m \u001b[0mOEGraphMol\u001b[0m\u001b[0;34m(\u001b[0m\u001b[0;34m)\u001b[0m\u001b[0;34m\u001b[0m\u001b[0;34m\u001b[0m\u001b[0m\n\u001b[1;32m      5\u001b[0m     \u001b[0mOEParseSmiles\u001b[0m\u001b[0;34m(\u001b[0m\u001b[0mmol\u001b[0m\u001b[0;34m,\u001b[0m \u001b[0msmiles\u001b[0m\u001b[0;34m)\u001b[0m\u001b[0;34m\u001b[0m\u001b[0;34m\u001b[0m\u001b[0m\n",
      "\u001b[0;31mModuleNotFoundError\u001b[0m: No module named 'oechem'"
     ]
    }
   ],
   "source": [
    "from oechem import *\n",
    "\n",
    "def canonicalize(smiles):\n",
    "    mol = OEGraphMol()\n",
    "    OEParseSmiles(mol, smiles)\n",
    "    return OECreateCanSmiString(mol)\n",
    "\n",
    "assert (canonicalize(\"CN2C(=O)N(C)C(=O)C1=C2N=CN1C\") ==\n",
    "        canonicalize(\"CN1C=NC2=C1C(=O)N(C)C(=O)N2C\"))"
   ]
  },
  {
   "cell_type": "code",
   "execution_count": 8,
   "metadata": {},
   "outputs": [],
   "source": [
    "##scraping + checking SMILES\n",
    "def SMILE_scrape_checker(mol):\n",
    "    try:\n",
    "        #search query\n",
    "        browser.get(\"https://pubchem.ncbi.nlm.nih.gov/#query=\"+mol)\n",
    "        time.sleep(5)\n",
    "        IUPAC = '-'\n",
    "        CAS = '-'\n",
    "        SMILES = '-'\n",
    "        \n",
    "        #press first entry\n",
    "        try:\n",
    "            try:\n",
    "                first_result_button = browser.find_element_by_xpath(\"/html/body/div[1]/div/div/main/div[2]/div[1]/div/div[2]/div/div[1]/div[2]/div[1]/a\")\n",
    "            except:\n",
    "                try:\n",
    "                    first_result_button = browser.find_element_by_xpath(\"/html/body/div[1]/div/div/main/div[2]/div[2]/div[3]/div/div/div/div[2]/ul/li/div/div/div/div[2]/div[1]/a\")\n",
    "                except:\n",
    "                    first_result_button = browser.find_element_by_xpath(\"/html/body/div[1]/div/div/main/div[2]/div[2]/div[2]/div/div/div/div[2]/ul/li[1]/div/div/div[1]/div[2]/div[1]/a\")\n",
    "            first_result_button.click()\n",
    "        except:\n",
    "            SMILES = 'no matches'\n",
    "        time.sleep(5)\n",
    "        \n",
    "        #find SMILES string\n",
    "        try:\n",
    "            SMILES_section = browser.find_element_by_id(\"Chemical-and-Physical-Properties\")\n",
    "            actions = ActionChains(browser)\n",
    "            actions.move_to_element(SMILES_section).perform()\n",
    "        except:\n",
    "            pass\n",
    "        time.sleep(10)\n",
    "        \n",
    "        SMILES = browser.find_element_by_xpath(\"/html/body/div[1]/div/main/div[2]/div/div/div[5]/section[2]/section[1]/section[4]/div[2]/div[1]/p\").text\n",
    "        IUPAC = browser.find_element_by_xpath(\"/html/body/div[1]/div/main/div[2]/div/div/div[5]/section[2]/section[1]/section[1]/div[2]/div[1]/p\").text\n",
    "#        SMILES = browser.find_element_by_xpath(\"/html/body/div[1]/div/main/div[2]/div/div/div[5]/section[2]/section[1]/section[4]/div[2]/div[1]/p\").text\n",
    "        CAS = browser.find_element_by_xpath(\"/html/body/div[1]/div/main/div[2]/div/div/div[5]/section[2]/section[3]/section[1]/div[2]/div[1]/p\").text\n",
    "        return SMILES, IUPAC, CAS\n",
    "    except:\n",
    "        return SMILES, IUPAC, CAS"
   ]
  },
  {
   "cell_type": "code",
   "execution_count": 384,
   "metadata": {},
   "outputs": [],
   "source": [
    "data = pd.read_csv('data_csvs/pka_data_updated2.csv')\n",
    "molist = data['solute'].tolist()\n",
    "smiles = data['solute SMILES'].tolist()\n",
    "caslist = data['computed CAS'].tolist()\n",
    "iupaclist = data['computed IUPAC'].tolist()"
   ]
  },
  {
   "cell_type": "code",
   "execution_count": 393,
   "metadata": {
    "tags": []
   },
   "outputs": [
    {
     "name": "stdout",
     "output_type": "stream",
     "text": [
      "1158 CN methanamine 74-89-5\n",
      "1159 CCN ethanamine 75-04-7\n",
      "1160 CCCN propan-1-amine 107-10-8\n",
      "1161 CC(C)N propan-2-amine 75-31-0\n",
      "1162 CCCCN butan-1-amine 109-73-9\n",
      "1165 C1=CC=C(C=C1)N aniline 62-53-3\n",
      "1166 N azane 7664-41-7\n",
      "1167 CNC N-methylmethanamine 124-40-3\n",
      "1174 CN(C)C N,N-dimethylmethanamine 75-50-3\n",
      "1175 CCN(CC)CC N,N-diethylethanamine 121-44-8\n",
      "1180 CN(C)C1=CC=CC=C1 N,N-dimethylaniline 121-69-7\n",
      "1181 CCN(C)C N,N-dimethylethanamine 598-56-1\n",
      "1184 C(CN)N ethane-1,2-diamine 107-15-3\n",
      "1186 C(CCN)CN butane-1,4-diamine 110-60-1\n",
      "1191 C1=CC2=C(C(=C1)N)C(=CC=C2)N naphthalene-1,8-diamine 479-27-6\n",
      "1194 C1CCNCC1 piperidine 110-89-4\n",
      "1195 CN1CCCCC1 1-methylpiperidine 626-67-5\n",
      "1196 C1CNCCN1 piperazine 110-85-0\n",
      "1198 C1CCNC1 pyrrolidine 123-75-1\n",
      "1200 C1CN2CCN1CC2 1,4-diazabicyclo[2.2.2]octane 280-57-9\n",
      "1201 C1=CC=NC=C1 pyridine 110-86-1\n",
      "1202 C1=CC=NC(=C1)C2=CC=CC=N2 2-pyridin-2-ylpyridine 366-18-7\n",
      "1203 C1=CC=C2C(=C1)C=CC=N2 quinoline 91-22-5\n",
      "1205 C1=CC=C2C=NC=CC2=C1 isoquinoline 119-65-3\n",
      "1207 C1=CC2=C(C3=C(C=CC=N3)C=C2)N=C1 1,10-phenanthroline 66-71-7\n",
      "1208 C1=CN=CN1 1H-imidazole 288-32-4\n",
      "1209 C1=CC=C2C(=C1)NC=N2 1H-benzimidazole 51-17-2\n",
      "1211 C1=CC2=NNN=C2C=C1 2H-benzotriazole 95-14-7\n",
      "1222 C1=CC=C(C=C1)NC(=NC2=CC=CC=C2)N 1,2-diphenylguanidine 102-06-7\n"
     ]
    }
   ],
   "source": [
    "#checking all new nan values\n",
    "browser = webdriver.Chrome()\n",
    "browser.get(\"https://pubchem.ncbi.nlm.nih.gov\")\n",
    "\n",
    "for i in range(1158,1229):\n",
    "    if smiles[i] == '-':\n",
    "        smiles[i], iupaclist[i], caslist[i] = SMILE_scrape_checker(molist[i])\n",
    "        print(i, smiles[i], iupaclist[i], caslist[i])"
   ]
  },
  {
   "cell_type": "code",
   "execution_count": 394,
   "metadata": {},
   "outputs": [],
   "source": [
    "data['solute SMILES'] = smiles\n",
    "data['computed CAS'] = caslist\n",
    "data['computed IUPAC'] = iupaclist\n",
    "data.to_csv('data_csvs/pka_data_updated2.csv')"
   ]
  },
  {
   "cell_type": "code",
   "execution_count": 2,
   "metadata": {},
   "outputs": [],
   "source": [
    "##scraping iupac and canonical smiles\n",
    "def SMILE_iupac_scraper(mol):\n",
    "    try:\n",
    "        #search query\n",
    "        browser.get(\"https://pubchem.ncbi.nlm.nih.gov/#query=\"+mol)\n",
    "        time.sleep(5)\n",
    "        IUPAC = '-'\n",
    "        SMILES = '-'\n",
    "        \n",
    "        #press first entry\n",
    "        try:\n",
    "            try:\n",
    "                first_result_button = browser.find_element_by_xpath(\"/html/body/div[1]/div/div/main/div[2]/div[1]/div/div[2]/div/div[1]/div[2]/div[1]/a\")\n",
    "            except:\n",
    "                try:\n",
    "                    first_result_button = browser.find_element_by_xpath(\"/html/body/div[1]/div/div/main/div[2]/div[2]/div[3]/div/div/div/div[2]/ul/li/div/div/div/div[2]/div[1]/a\")\n",
    "                except:\n",
    "                    first_result_button = browser.find_element_by_xpath(\"/html/body/div[1]/div/div/main/div[2]/div[2]/div[2]/div/div/div/div[2]/ul/li[1]/div/div/div[1]/div[2]/div[1]/a\")\n",
    "            first_result_button.click()\n",
    "        except:\n",
    "            SMILES = 'no matches'\n",
    "        time.sleep(5)\n",
    "        \n",
    "        #find SMILES string\n",
    "        try:\n",
    "            SMILES_section = browser.find_element_by_id(\"Chemical-and-Physical-Properties\")\n",
    "            actions = ActionChains(browser)\n",
    "            actions.move_to_element(SMILES_section).perform()\n",
    "        except:\n",
    "            pass\n",
    "        time.sleep(10)\n",
    "        \n",
    "        SMILES = browser.find_element_by_xpath(\"/html/body/div[1]/div/main/div[2]/div/div/div[5]/section[2]/section[1]/section[4]/div[2]/div[1]/p\").text\n",
    "        IUPAC = browser.find_element_by_xpath(\"/html/body/div[1]/div/main/div[2]/div/div/div[5]/section[2]/section[1]/section[1]/div[2]/div[1]/p\").text\n",
    "        return SMILES, IUPAC\n",
    "    except:\n",
    "        return SMILES, IUPAC"
   ]
  },
  {
   "cell_type": "code",
   "execution_count": 3,
   "metadata": {},
   "outputs": [],
   "source": [
    "data = pd.read_csv('data_csvs/leito_acids_analysis.csv')\n",
    "smiles = data['smiles'].tolist()\n",
    "new_smiles = data['new smiles'].tolist()\n",
    "iupaclist = data['iupac'].tolist()"
   ]
  },
  {
   "cell_type": "code",
   "execution_count": 4,
   "metadata": {
    "collapsed": true,
    "jupyter": {
     "outputs_hidden": true
    },
    "tags": []
   },
   "outputs": [
    {
     "name": "stdout",
     "output_type": "stream",
     "text": [
      "0 C1=CC=C(C=C1)O phenol\n",
      "1 CC1=C(C(=C(C(=C1C(F)(F)F)C(F)(F)F)C(F)(F)F)C(F)(F)F)C(F)(F)F 1-methyl-2,3,4,5,6-pentakis(trifluoromethyl)benzene\n",
      "2 C1=CC=C2C(=C1)C(C3=CC=CC=C32)C4=C(C(=C(C(=C4F)F)F)F)F 9-(2,3,4,5,6-pentafluorophenyl)-9H-fluorene\n",
      "3 CC1=C(C(=C(C(=C1F)F)C(C#N)C2=CC=CC=C2)F)F 2-phenyl-2-(2,3,5,6-tetrafluoro-4-methylphenyl)acetonitrile\n",
      "4 C1=CC(=CC(=C1)O)C(F)(F)F 3-(trifluoromethyl)phenol\n",
      "5 no matches -\n",
      "6 C1=CC=C(C=C1)C(C#N)C2=C(C(=C(C(=C2F)F)F)F)F 2-(2,3,4,5,6-pentafluorophenyl)-2-phenylacetonitrile\n",
      "7 C1=CC(=CC=C1C(F)(F)F)O 4-(trifluoromethyl)phenol\n",
      "8 no matches -\n",
      "9 CC1=C(C(=C(C(=C1F)F)NC2=C(C(=C(C(=C2F)F)F)F)F)F)F 2,3,5,6-tetrafluoro-4-methyl-N-(2,3,4,5,6-pentafluorophenyl)aniline\n",
      "10 C1=CC=C(C(=C1)C(F)(F)F)O 2-(trifluoromethyl)phenol\n",
      "11 C1=CC(=C(C(=C1C(F)(F)F)C(F)(F)F)C(F)(F)F)N(C(F)(F)F)C(F)(F)F N,N,2,3,4-pentakis(trifluoromethyl)aniline\n",
      "12 C1C2=C(C3=C1C(=C(C(=C3F)F)F)F)C(=C(C(=C2F)F)F)F 1,2,3,4,5,6,7,8-octafluoro-9H-fluorene\n",
      "13 C1=CC=C2C3=C4C(C2=C1)C5=CC=CC=C5C4=CC=C3 pentacyclo[10.6.1.02,7.08,19.013,18]nonadeca-2,4,6,8(19),9,11,13,15,17-nonaene\n",
      "14 C1=C(C=C(C=C1C(F)(F)F)O)C(F)(F)F 3,5-bis(trifluoromethyl)phenol\n",
      "15 COC(=O)C1C2=CC=CC=C2C3=CC=CC=C13 methyl 9H-fluorene-9-carboxylate\n",
      "16 CC(=O)O acetic acid\n",
      "17 CCOC(=O)C(C1=C(C(=C(C(=C1F)F)F)F)F)C(=O)OCC diethyl 2-(2,3,4,5,6-pentafluorophenyl)propanedioate\n",
      "18 C1=CC=C(C(=C1)[N+](=O)[O-])O 2-nitrophenol\n",
      "19 no matches -\n",
      "20 CC1=C(C(CCC1)(C)C)C=CC(=CC=CC(=CC(=O)O)C)C (2E,4E,6E,8E)-3,7-dimethyl-9-(2,6,6-trimethylcyclohexen-1-yl)nona-2,4,6,8-tetraenoic acid\n",
      "21 C1(=C(C(=C(C(=C1F)F)F)F)F)C(C(F)(F)F)(C(F)(F)F)O 1,1,1,3,3,3-hexafluoro-2-(2,3,4,5,6-pentafluorophenyl)propan-2-ol\n",
      "22 C1(=C(C(=C(C(=C1F)F)F)F)F)C2(C(C(C(C(C2(F)F)(F)F)(F)F)(F)F)(F)F)O 2,2,3,3,4,4,5,5,6,6-decafluoro-1-(2,3,4,5,6-pentafluorophenyl)cyclohexan-1-ol\n",
      "23 no matches -\n",
      "24 C1=CC=C(C=C1)C(=O)O benzoic acid\n",
      "25 C1=CC=C2C(=C1)C(C3=CC=CC=C32)C#N 9H-fluorene-9-carbonitrile\n",
      "26 C1=C(C(=C(C(=C1F)F)C(C#N)C2=C(C(=C(C(=C2F)F)F)F)F)F)F 2-(2,3,4,5,6-pentafluorophenyl)-2-(2,3,5,6-tetrafluorophenyl)acetonitrile\n",
      "27 C(#N)C(C1=C(C(=C(C(=C1F)F)F)F)F)C2=C(C(=C(C(=C2F)F)F)F)F 2,2-bis(2,3,4,5,6-pentafluorophenyl)acetonitrile\n",
      "28 C(C(F)(F)F)(C(F)(F)F)(C(F)(F)F)O 1,1,1,3,3,3-hexafluoro-2-(trifluoromethyl)propan-2-ol\n",
      "29 C(#N)C(C1=C(C(=C(C(=C1F)F)F)F)F)C2=C(C(=C(C(=C2F)F)Cl)F)F 2-(4-chloro-2,3,5,6-tetrafluorophenyl)-2-(2,3,4,5,6-pentafluorophenyl)acetonitrile\n",
      "30 C1=C(C=C(C(=C1Br)O)Br)Br 2,4,6-tribromophenol\n",
      "31 C(#N)C(C1=C(C(=C(C(=C1F)F)F)F)F)C2=C(C(=C(C(=C2Cl)F)Cl)F)Cl 2-(2,3,4,5,6-pentafluorophenyl)-2-(2,4,6-trichloro-3,5-difluorophenyl)acetonitrile\n",
      "32 C1=C(C(=C(C(=C1F)F)O)F)F 2,3,5,6-tetrafluorophenol\n",
      "33 C1(=C(C(=C(C(=C1F)F)F)F)F)O 2,3,4,5,6-pentafluorophenol\n",
      "34 C(#N)C(C1=C(C2=C(C(=C1F)F)C(=C(C(=C2F)F)F)F)F)C3=C(C(=C(C(=C3F)F)F)F)F 2-(1,3,4,5,6,7,8-heptafluoronaphthalen-2-yl)-2-(2,3,4,5,6-pentafluorophenyl)acetonitrile\n",
      "35 C12=C(C(=C(C(=C1O)F)F)F)C(=C(C(=C2F)F)F)F 2,3,4,5,6,7,8-heptafluoronaphthalen-1-ol\n",
      "36 no matches -\n",
      "37 no matches -\n",
      "38 C1(C2=C(C3=C1C(=C(C(=C3F)F)F)F)C(=C(C(=C2F)F)F)F)C4=C(C(=C(C(=C4F)F)F)F)F 1,2,3,4,5,6,7,8-octafluoro-9-(2,3,4,5,6-pentafluorophenyl)-9H-fluorene\n",
      "39 C12=C(C(=C(C(=C1F)O)F)F)C(=C(C(=C2F)F)F)F 1,3,4,5,6,7,8-heptafluoronaphthalen-2-ol\n",
      "40 C12(C(C3(C(C(C1(F)F)(C(C(C2(F)F)(C3(F)F)F)(F)F)F)(F)F)F)(F)F)O 2,2,3,4,4,5,6,6,7,8,8,9,9,10,10-pentadecafluoroadamantan-1-ol\n",
      "41 no matches -\n",
      "42 C1(=C(C(=C(C(=C1F)F)O)F)F)C2=C(C(=C(C(=C2F)F)F)F)F 2,3,5,6-tetrafluoro-4-(2,3,4,5,6-pentafluorophenyl)phenol\n",
      "43 CCOC(=O)C(C#N)C1=C(C(=CC(=C1F)F)F)F ethyl 2-cyano-2-(2,3,5,6-tetrafluorophenyl)acetate\n",
      "44 C1(=C(C(=C(C(=C1Cl)Cl)Cl)Cl)Cl)O 2,3,4,5,6-pentachlorophenol\n",
      "45 C1(=C(C(=C(C(=C1Br)Br)Br)Br)Br)O 2,3,4,5,6-pentabromophenol\n",
      "46 CCOC(=O)C(C#N)C1=C(C(=C(C(=C1F)F)F)F)F ethyl 2-cyano-2-(2,3,4,5,6-pentafluorophenyl)acetate\n",
      "47 CC1=CC=C(C=C1)C(C#N)C#N 2-(4-methylphenyl)propanedinitrile\n",
      "48 CCOC(=O)C(C#N)C1=C(C2=C(C(=C1F)F)C(=C(C(=C2F)F)F)F)F ethyl 2-cyano-2-(1,3,4,5,6,7,8-heptafluoronaphthalen-2-yl)acetate\n",
      "49 CCOC(=O)C(C#N)C1=C(C(=C(C(=C1F)F)Cl)F)F ethyl 2-(4-chloro-2,3,5,6-tetrafluorophenyl)-2-cyanoacetate\n",
      "50 C1=CC(=C(C=C1[N+](=O)[O-])[N+](=O)[O-])O 2,4-dinitrophenol\n",
      "51 C1(=C(C(=C(C(=C1F)F)O)F)F)C(F)(F)F 2,3,5,6-tetrafluoro-4-(trifluoromethyl)phenol\n",
      "52 C(#N)C(C1=C(C(=C(C(=C1F)F)F)F)F)C2=C(C(=NC(=C2F)F)F)F 2-(2,3,4,5,6-pentafluorophenyl)-2-(2,3,5,6-tetrafluoropyridin-4-yl)acetonitrile\n",
      "53 C(#N)C(C1=C(C(=C(C(=C1F)F)C(F)(F)F)F)F)C2=C(C(=C(C(=C2F)F)C(F)(F)F)F)F 2,2-bis[2,3,5,6-tetrafluoro-4-(trifluoromethyl)phenyl]acetonitrile\n",
      "54 CCOC(=O)C(C#N)C1=C(C(=C(C(=C1F)F)C(F)(F)F)F)F ethyl 2-cyano-2-[2,3,5,6-tetrafluoro-4-(trifluoromethyl)phenyl]acetate\n",
      "55 C(#N)C(C1=C(C2=C(C(=C1F)F)C(=C(C(=C2F)F)F)F)F)C3=C(C(=NC(=C3F)F)F)F 2-(1,3,4,5,6,7,8-heptafluoronaphthalen-2-yl)-2-(2,3,5,6-tetrafluoropyridin-4-yl)acetonitrile\n",
      "56 C1(=C(NC(=C(C1=O)F)F)F)F 2,3,5,6-tetrafluoro-1H-pyridin-4-one\n",
      "57 CCOC(=O)C(C#N)C1=C(C(=NC(=C1F)F)F)F ethyl 2-cyano-2-(2,3,5,6-tetrafluoropyridin-4-yl)acetate\n",
      "58 C1=CC(=CC(=C1)C(F)(F)F)C(C#N)C#N 2-[3-(trifluoromethyl)phenyl]propanedinitrile\n",
      "59 C1=CC=C2C(=C1)C(=O)NS2(=O)=O 1,1-dioxo-1,2-benzothiazol-3-one\n",
      "60 no matches -\n",
      "61 no matches -\n",
      "62 CC1=C(C(=C(C(=C1F)F)C(C#N)C#N)F)F 2-(2,3,5,6-tetrafluoro-4-methylphenyl)propanedinitrile\n",
      "63 CC(C)C1=CC(=C(C(=C1)C(C)C)C2=CC3=CC=CC=C3C4=C2OP(=O)(OC5=C4C6=CC=CC=C6C=C5C7=C(C=C(C=C7C(C)C)C(C)C)C(C)C)O)C(C)C 13-hydroxy-10,16-bis[2,4,6-tri(propan-2-yl)phenyl]-12,14-dioxa-13λ5-phosphapentacyclo[13.8.0.02,11.03,8.018,23]tricosa-1(15),2(11),3,5,7,9,16,18,20,22-decaene 13-oxide\n",
      "64 no matches -\n",
      "65 no matches -\n",
      "66 no matches -\n",
      "67 C(#N)C(C#N)C1=C(C(=C(C(=C1F)F)F)F)F 2-(2,3,4,5,6-pentafluorophenyl)propanedinitrile\n",
      "68 C1=C(C(=C(C(=C1F)F)C(C#N)C#N)F)F 2-(2,3,5,6-tetrafluorophenyl)propanedinitrile\n",
      "69 C1=CC=C(C=C1)C2=CC3=CC=CC=C3C4=C2OP(=O)(OC5=C4C6=CC=CC=C6C=C5C7=CC=CC=C7)O 13-hydroxy-10,16-diphenyl-12,14-dioxa-13λ5-phosphapentacyclo[13.8.0.02,11.03,8.018,23]tricosa-1(15),2(11),3,5,7,9,16,18,20,22-decaene 13-oxide\n",
      "70 no matches -\n",
      "71 CC1=CC=C(C=C1)S(=O)(=O)NS(=O)(=O)C2=CC=C(C=C2)C 4-methyl-N-(4-methylphenyl)sulfonylbenzenesulfonamide\n",
      "72 C1=CC(=CC=C1C(C#N)C#N)[N+](=O)[O-] 2-(4-nitrophenyl)propanedinitrile\n",
      "73 COC1=CC=C(C=C1)C(=O)NS(=O)(=O)C(F)(F)F 4-methoxy-N-(trifluoromethylsulfonyl)benzamide\n",
      "74 CC1=CC=C(C=C1)C(=O)NS(=O)(=O)C(F)(F)F 4-methyl-N-(trifluoromethylsulfonyl)benzamide\n",
      "75 C1=CC=C(C=C1)S(=O)(=O)NS(=O)(=O)C2=CC=CC=C2 N-(benzenesulfonyl)benzenesulfonamide\n",
      "76 CC1=CC=C(C=C1)S(=O)(=O)NS(=O)(=O)C2=CC=C(C=C2)Cl N-(4-chlorophenyl)sulfonyl-4-methylbenzenesulfonamide\n",
      "77 C1=CC=C(C=C1)C(=O)NS(=O)(=O)C(F)(F)F N-(trifluoromethylsulfonyl)benzamide\n",
      "78 C1=C(C=C(C(=C1[N+](=O)[O-])O)[N+](=O)[O-])[N+](=O)[O-] 2,4,6-trinitrophenol\n",
      "79 C1=CC(=CC=C1C(=O)NS(=O)(=O)C(F)(F)F)F 4-fluoro-N-(trifluoromethylsulfonyl)benzamide\n",
      "80 C1(=C(C(=C(C(=C1C(F)(F)F)C(F)(F)F)O)C(F)(F)F)C(F)(F)F)C(F)(F)F 2,3,4,5,6-pentakis(trifluoromethyl)phenol\n",
      "81 no matches -\n",
      "82 C1=CC(=CC=C1C(=O)NS(=O)(=O)C(F)(F)F)Cl 4-chloro-N-(trifluoromethylsulfonyl)benzamide\n",
      "83 [Cl-] chloride\n",
      "84 C1=CC(=CC=C1S(=O)(=O)NS(=O)(=O)C2=CC=C(C=C2)Cl)Cl 4-chloro-N-(4-chlorophenyl)sulfonylbenzenesulfonamide\n",
      "85 C(#N)C(C#N)C1=C(C(=C(C(=C1F)F)C(F)(F)F)F)F 2-[2,3,5,6-tetrafluoro-4-(trifluoromethyl)phenyl]propanedinitrile\n",
      "86 C1(=C(C(=C(C(=C1C(F)(F)F)C(F)(F)F)S)C(F)(F)F)C(F)(F)F)C(F)(F)F 2,3,4,5,6-pentakis(trifluoromethyl)benzenethiol\n",
      "87 CC1=CC=C(C=C1)S(=O)(=O)NS(=O)(=O)C2=CC=C(C=C2)[N+](=O)[O-] 4-methyl-N-(4-nitrophenyl)sulfonylbenzenesulfonamide\n",
      "88 CC1=CC=C(C=C1)S(=O)(=O)NS(=O)(=O)C2=CC(=C(C=C2)Cl)[N+](=O)[O-] 4-chloro-N-(4-methylphenyl)sulfonyl-3-nitrobenzenesulfonamide\n",
      "89 C1=CC(=CC=C1C(=O)NS(=O)(=O)C(F)(F)F)[N+](=O)[O-] 4-nitro-N-(trifluoromethylsulfonyl)benzamide\n",
      "90 C1=CC(=CC=C1[N+](=O)[O-])S(=O)(=O)NS(=O)(=O)C2=CC=C(C=C2)Cl N-(4-chlorophenyl)sulfonyl-4-nitrobenzenesulfonamide\n",
      "91 C(#N)C(C#N)C1=C(C(=C(C(=C1C(F)(F)F)C(F)(F)F)C(F)(F)F)C(F)(F)F)C(F)(F)F 2-[2,3,4,5,6-pentakis(trifluoromethyl)phenyl]propanedinitrile\n",
      "92 no matches -\n",
      "93 CC1=CC=C(C=C1)S(=O)(=O)O 4-methylbenzenesulfonic acid\n",
      "94 C1=CC(=CC=C1[N+](=O)[O-])S(=O)(=O)NS(=O)(=O)C2=CC=C(C=C2)[N+](=O)[O-] 4-nitro-N-(4-nitrophenyl)sulfonylbenzenesulfonamide\n",
      "95 no matches -\n",
      "96 C1=CC(=CC(=C1)S(=O)(=O)NS(=O)(=O)C2=CC=CC(=C2)[N+](=O)[O-])[N+](=O)[O-] 3-nitro-N-(3-nitrophenyl)sulfonylbenzenesulfonamide\n",
      "97 no matches -\n",
      "98 C1=CC=C2C(=C1)C=CC=C2S(=O)(=O)O naphthalene-1-sulfonic acid\n",
      "99 no matches -\n",
      "100 C1=CC=C(C=C1)C(S(=O)(=O)C(F)(F)F)S(=O)(=O)C(F)(F)F bis(trifluoromethylsulfonyl)methylbenzene\n",
      "101 no matches -\n",
      "102 no matches -\n",
      "103 C1=CC(=CC=C1S(=O)(=O)O)Cl 4-chlorobenzenesulfonic acid\n",
      "104 no matches -\n",
      "105 COC1=CC=C(C=C1)C2=CC3CCCCC3C4=C2OP(=O)(OC5=C(C=C6CCCCC6=C45)C7=CC=C(C=C7)OC)NS(=O)(=O)C(F)(F)F N-[10,16-bis(4-methoxyphenyl)-13-oxo-12,14-dioxa-13λ5-phosphapentacyclo[13.8.0.02,11.03,8.018,23]tricosa-1(15),2,8,10,16-pentaen-13-yl]-1,1,1-trifluoromethanesulfonamide\n",
      "106 no matches -\n",
      "107 no matches -\n",
      "108 no matches -\n",
      "109 no matches -\n",
      "110 C1=CC(=CC(=C1)S(=O)(=O)O)[N+](=O)[O-] 3-nitrobenzenesulfonic acid\n",
      "111 no matches -\n",
      "112 no matches -\n",
      "113 no matches -\n",
      "114 no matches -\n",
      "115 C1=CC(=CC=C1[N+](=O)[O-])S(=O)(=O)O 4-nitrobenzenesulfonic acid\n",
      "116 no matches -\n",
      "117 no matches -\n",
      "118 no matches -\n",
      "119 no matches -\n",
      "120 no matches -\n",
      "121 no matches -\n",
      "122 CC1=CC=C(C=C1)S(=O)(=O)NS(=O)(=O)C(F)(F)F 4-methyl-N-(trifluoromethylsulfonyl)benzenesulfonamide\n",
      "123 no matches -\n",
      "124 C1=CC=C(C=C1)S(=O)(=O)NS(=O)(=O)C(F)(F)F N-(trifluoromethylsulfonyl)benzenesulfonamide\n",
      "125 [Br-] bromide\n",
      "126 no matches -\n",
      "127 C1=C(C=C(C(=C1S(=O)(=O)F)O)S(=O)(=O)F)S(=O)(=O)F 2-hydroxybenzene-1,3,5-trisulfonyl fluoride\n",
      "128 no matches -\n",
      "129 C1=CC=C2C(=C1)C=C(C3=C2C4=C(C(=CC5=CC=CC=C54)C6=CC(=CC(=C6)C(F)(F)F)C(F)(F)F)OS(=O)(=O)NS(=O)(=O)O3)C7=CC(=CC(=C7)C(F)(F)F)C(F)(F)F 10,18-bis[3,5-bis(trifluoromethyl)phenyl]-12,16-dioxa-13λ6,15λ6-dithia-14-azapentacyclo[15.8.0.02,11.03,8.020,25]pentacosa-1(17),2(11),3,5,7,9,18,20,22,24-decaene 13,13,15,15-tetraoxide\n",
      "130 C1(=C(C(=C(C(=C1F)F)S(=O)(=O)NS(=O)(=O)C2=C(C(=C(C(=C2F)F)F)F)F)F)F)F 2,3,4,5,6-pentafluoro-N-(2,3,4,5,6-pentafluorophenyl)sulfonylbenzenesulfonamide\n",
      "131 C1=CC(=CC=C1S(=O)(=O)NS(=O)(=O)C(F)(F)F)Cl 4-chloro-N-(trifluoromethylsulfonyl)benzenesulfonamide\n",
      "132 no matches -\n",
      "133 C1=CC(=CC=C1C(=NS(=O)(=O)C(F)(F)F)NS(=O)(=O)C(F)(F)F)[N+](=O)[O-] 4-nitro-N,N'-bis(trifluoromethylsulfonyl)benzenecarboximidamide\n",
      "134 C1=C(C=C(C(=C1S(=O)(=O)C(F)(F)F)O)S(=O)(=O)C(F)(F)F)S(=O)(=O)C(F)(F)F 2,4,6-tris(trifluoromethylsulfonyl)phenol\n",
      "135 C(#N)C(=C(C#N)O)C#N 2-hydroxyethene-1,1,2-tricarbonitrile\n",
      "136 C1=CC(=CC=C1[N+](=O)[O-])S(=O)(=O)NS(=O)(=O)C(F)(F)F 4-nitro-N-(trifluoromethylsulfonyl)benzenesulfonamide\n",
      "137 no matches -\n",
      "138 C1=CC(=C(C=C1[N+](=O)[O-])[N+](=O)[O-])S(=O)(=O)O 2,4-dinitrobenzenesulfonic acid\n",
      "139 C1=C(C(=CC1C#N)C#N)C#N cyclopenta-2,5-diene-1,2,4-tricarbonitrile\n",
      "140 no matches -\n",
      "141 [I-] iodide\n",
      "142 C(#N)C(C#N)C1=C(C2=C(C(=C1F)F)C(=C(C(=C2F)F)F)F)F 2-(1,3,4,5,6,7,8-heptafluoronaphthalen-2-yl)propanedinitrile\n",
      "143 no matches -\n",
      "144 no matches -\n",
      "145 COC(=O)C1C2=CC=CC=C2C3=CC=CC=C13 methyl 9H-fluorene-9-carboxylate\n",
      "146 no matches -\n",
      "147 no matches -\n",
      "148 C1=CC=C2C(=C1)C(C3=CC=CC=C32)C#N 9H-fluorene-9-carbonitrile\n",
      "149 C1=C(C(=C(C(=C1F)F)C(C#N)C2=C(C(=C(C(=C2F)F)F)F)F)F)F 2-(2,3,4,5,6-pentafluorophenyl)-2-(2,3,5,6-tetrafluorophenyl)acetonitrile\n",
      "150 C(#N)C(C1=C(C2=C(C(=C1F)F)C(=C(C(=C2F)F)F)F)F)C3=C(C(=C(C(=C3F)F)F)F)F 2-(1,3,4,5,6,7,8-heptafluoronaphthalen-2-yl)-2-(2,3,4,5,6-pentafluorophenyl)acetonitrile\n",
      "151 C(#N)C(C1=C(C2=C(C(=C1F)F)C(=C(C(=C2F)F)F)F)F)C3=C(C4=C(C(=C3F)F)C(=C(C(=C4F)F)F)F)F 2,2-bis(1,3,4,5,6,7,8-heptafluoronaphthalen-2-yl)acetonitrile\n",
      "152 C1(C2=C(C3=C1C(=C(C(=C3F)F)F)F)C(=C(C(=C2F)F)F)F)C4=C(C(=C(C(=C4F)F)F)F)F 1,2,3,4,5,6,7,8-octafluoro-9-(2,3,4,5,6-pentafluorophenyl)-9H-fluorene\n",
      "153 no matches -\n",
      "154 CCOC(=O)C(C#N)C1=C(C(=C(C(=C1F)F)F)F)F ethyl 2-cyano-2-(2,3,4,5,6-pentafluorophenyl)acetate\n",
      "155 CCOC(=O)C(C#N)C1=C(C2=C(C(=C1F)F)C(=C(C(=C2F)F)F)F)F ethyl 2-cyano-2-(1,3,4,5,6,7,8-heptafluoronaphthalen-2-yl)acetate\n",
      "156 CCOC(=O)C(C#N)C1=C(C(=C(C(=C1F)F)Cl)F)F ethyl 2-(4-chloro-2,3,5,6-tetrafluorophenyl)-2-cyanoacetate\n",
      "157 C(#N)C(C1=C(C(=C(C(=C1F)F)F)F)F)C2=C(C(=NC(=C2F)F)F)F 2-(2,3,4,5,6-pentafluorophenyl)-2-(2,3,5,6-tetrafluoropyridin-4-yl)acetonitrile\n",
      "158 CCOC(=O)C(C#N)C1=C(C(=C(C(=C1F)F)C(F)(F)F)F)F ethyl 2-cyano-2-[2,3,5,6-tetrafluoro-4-(trifluoromethyl)phenyl]acetate\n",
      "159 CCOC(=O)C(C#N)C1=C(C(=NC(=C1F)F)F)F ethyl 2-cyano-2-(2,3,5,6-tetrafluoropyridin-4-yl)acetate\n",
      "160 C1=CC(=CC(=C1)C(F)(F)F)C(C#N)C#N 2-[3-(trifluoromethyl)phenyl]propanedinitrile\n",
      "161 no matches -\n",
      "162 C1=C(C(=C(C(=C1F)F)C(C#N)C#N)F)F 2-(2,3,5,6-tetrafluorophenyl)propanedinitrile\n",
      "163 C1=C(C=C(C(=C1[N+](=O)[O-])O)[N+](=O)[O-])[N+](=O)[O-] 2,4,6-trinitrophenol\n",
      "164 no matches -\n",
      "165 [Cl-] chloride\n",
      "166 C(#N)C(C#N)C1=C(C(=C(C(=C1F)F)C(F)(F)F)F)F 2-[2,3,5,6-tetrafluoro-4-(trifluoromethyl)phenyl]propanedinitrile\n",
      "167 CC1=CC=C(C=C1)S(=O)(=O)NS(=O)(=O)C2=CC=C(C=C2)[N+](=O)[O-] 4-methyl-N-(4-nitrophenyl)sulfonylbenzenesulfonamide\n",
      "168 C1=CC(=CC=C1[N+](=O)[O-])S(=O)(=O)NS(=O)(=O)C2=CC=C(C=C2)Cl N-(4-chlorophenyl)sulfonyl-4-nitrobenzenesulfonamide\n",
      "169 C(#N)C(C#N)C1=C(C(=C(C(=C1C(F)(F)F)C(F)(F)F)C(F)(F)F)C(F)(F)F)C(F)(F)F 2-[2,3,4,5,6-pentakis(trifluoromethyl)phenyl]propanedinitrile\n",
      "170 C1=CC(=CC=C1[N+](=O)[O-])S(=O)(=O)NS(=O)(=O)C2=CC=C(C=C2)[N+](=O)[O-] 4-nitro-N-(4-nitrophenyl)sulfonylbenzenesulfonamide\n",
      "171 no matches -\n",
      "172 no matches -\n",
      "173 no matches -\n",
      "174 [Br-] bromide\n",
      "175 C1=C(C=C(C(=C1S(=O)(=O)F)O)S(=O)(=O)F)S(=O)(=O)F 2-hydroxybenzene-1,3,5-trisulfonyl fluoride\n",
      "176 no matches -\n",
      "177 no matches -\n",
      "178 C1=CC(=CC=C1C(=NS(=O)(=O)C(F)(F)F)NS(=O)(=O)C(F)(F)F)[N+](=O)[O-] 4-nitro-N,N'-bis(trifluoromethylsulfonyl)benzenecarboximidamide\n",
      "179 C1=C(C=C(C(=C1S(=O)(=O)C(F)(F)F)O)S(=O)(=O)C(F)(F)F)S(=O)(=O)C(F)(F)F 2,4,6-tris(trifluoromethylsulfonyl)phenol\n",
      "180 C(#N)C(=C(C#N)O)C#N 2-hydroxyethene-1,1,2-tricarbonitrile\n",
      "181 C1=CC(=CC=C1[N+](=O)[O-])S(=O)(=O)NS(=O)(=O)C(F)(F)F 4-nitro-N-(trifluoromethylsulfonyl)benzenesulfonamide\n",
      "182 no matches -\n",
      "183 C1=CC(=C(C=C1[N+](=O)[O-])[N+](=O)[O-])S(=O)(=O)O 2,4-dinitrobenzenesulfonic acid\n",
      "184 C1=C(C(=CC1C#N)C#N)C#N cyclopenta-2,5-diene-1,2,4-tricarbonitrile\n",
      "185 no matches -\n",
      "186 [I-] iodide\n",
      "187 no matches -\n",
      "188 C(#N)C(C#N)C1=C(C2=C(C(=C1F)F)C(=C(C(=C2F)F)F)F)F 2-(1,3,4,5,6,7,8-heptafluoronaphthalen-2-yl)propanedinitrile\n",
      "189 CC1=C(C=C(C(=C1Br)O)C(C)C)C2(C3=CC=CC=C3S(=O)(=O)O2)C4=C(C(=C(C(=C4)C(C)C)O)Br)C 2-bromo-4-[3-(3-bromo-4-hydroxy-2-methyl-5-propan-2-ylphenyl)-1,1-dioxo-2,1λ6-benzoxathiol-3-yl]-3-methyl-6-propan-2-ylphenol\n",
      "190 CC1=C(C(=C(C=C1C2(C3=CC=CC=C3S(=O)(=O)O2)C4=CC(=C(C(=C4C)Br)O)Br)Br)O)Br 2,6-dibromo-4-[3-(3,5-dibromo-4-hydroxy-2-methylphenyl)-1,1-dioxo-2,1λ6-benzoxathiol-3-yl]-3-methylphenol\n",
      "191 C1=C(C(=C(C(=C1[N+](=O)[O-])O)[N+](=O)[O-])O)[N+](=O)[O-] 2,4,6-trinitrobenzene-1,3-diol\n",
      "192 [N+](=O)(O)[O-] nitric acid\n",
      "193 OS(=O)(=O)O sulfuric acid\n",
      "194 no matches -\n",
      "195 C(#N)C(C#N)C#N methanetricarbonitrile\n",
      "196 C(#N)C(C#N)C(=C(C#N)C#N)N 2-aminoprop-1-ene-1,1,3,3-tetracarbonitrile\n",
      "197 C(#N)C1=C(C(=C(C(=C1C#N)C#N)O)C#N)C#N 6-hydroxybenzene-1,2,3,4,5-pentacarbonitrile\n",
      "198 CC(=C(C#N)C#N)C(C#N)C#N 2-methylprop-1-ene-1,1,3,3-tetracarbonitrile\n",
      "199 no matches -\n",
      "200 no matches -\n",
      "201 C1(=C(C(=C(C(=C1F)F)F)F)F)C(S(=O)(=O)C(F)(F)F)S(=O)(=O)C(F)(F)F 1-[bis(trifluoromethylsulfonyl)methyl]-2,3,4,5,6-pentafluorobenzene\n",
      "202 no matches -\n",
      "203 C1=CC=C(C=C1)C(=C(C#N)C#N)C(C#N)C#N 2-phenylprop-1-ene-1,1,3,3-tetracarbonitrile\n",
      "204 [H+].[B-](F)(F)(F)F hydron;tetrafluoroborate\n",
      "205 OS(=O)(=O)F sulfurofluoridic acid\n",
      "206 no matches -\n",
      "207 C(=C(C#N)C#N)C(C#N)C#N prop-1-ene-1,1,3,3-tetracarbonitrile\n",
      "208 C1=CC=C(C=C1)S(=NS(=O)(=O)C(F)(F)F)(=O)NS(=NS(=O)(=O)C(F)(F)F)(=O)C2=CC=CC=C2 1,1,1-trifluoro-N-[oxo-phenyl-[[S-phenyl-N-(trifluoromethylsulfonyl)sulfonimidoyl]amino]-λ6-sulfanylidene]methanesulfonamide\n",
      "209 C(C(F)(F)P(=O)(C(C(F)(F)F)(F)F)NP(=O)(C(C(F)(F)F)(F)F)C(C(F)(F)F)(F)F)(F)(F)F 1-[[bis(1,1,2,2,2-pentafluoroethyl)phosphorylamino]-(1,1,2,2,2-pentafluoroethyl)phosphoryl]-1,1,2,2,2-pentafluoroethane\n",
      "210 C1=C(C=C(C(=C1[N+](=O)[O-])S(=O)(=O)O)[N+](=O)[O-])[N+](=O)[O-] 2,4,6-trinitrobenzenesulfonic acid\n",
      "211 no matches -\n",
      "212 C(F)(F)(F)S(=O)(=O)O trifluoromethanesulfonic acid\n",
      "213 C(#N)C(C#N)S(=O)(=O)C(F)(F)F 2-(trifluoromethylsulfonyl)propanedinitrile\n",
      "214 C(#N)C(C#N)C(=C(C#N)C#N)Br 2-bromoprop-1-ene-1,1,3,3-tetracarbonitrile\n",
      "215 C(#N)C(=C(C#N)NC(=C(C#N)C#N)C#N)C#N 2-(1,2,2-tricyanoethenylamino)ethene-1,1,2-tricarbonitrile\n",
      "216 no matches -\n",
      "217 C(F)(F)(F)S(=O)(=O)NS(=O)(=O)C(F)(F)F 1,1,1-trifluoro-N-(trifluoromethylsulfonyl)methanesulfonamide\n",
      "218 C(#N)C(C#N)C(=C(C#N)C#N)Cl 2-chloroprop-1-ene-1,1,3,3-tetracarbonitrile\n",
      "219 C(C(F)(F)F)(C(F)(F)S(=O)(=O)NS(=O)(=O)C(C(C(F)(F)F)(F)F)(F)F)(F)F 1,1,2,2,3,3,3-heptafluoro-N-(1,1,2,2,3,3,3-heptafluoropropylsulfonyl)propane-1-sulfonamide\n",
      "220 C(C(C(F)(F)S(=O)(=O)NS(=O)(=O)C(C(C(C(F)(F)F)(F)F)(F)F)(F)F)(F)F)(C(F)(F)F)(F)F 1,1,2,2,3,3,4,4,4-nonafluoro-N-(1,1,2,2,3,3,4,4,4-nonafluorobutylsulfonyl)butane-1-sulfonamide\n",
      "221 C(C#N)C(=C(C#N)C#N)C(C#N)C#N 2-(cyanomethyl)prop-1-ene-1,1,3,3-tetracarbonitrile\n",
      "222 C(C(F)(F)S(=O)(=O)NS(=O)(=O)C(C(F)(F)F)(F)F)(F)(F)F 1,1,2,2,2-pentafluoro-N-(1,1,2,2,2-pentafluoroethylsulfonyl)ethanesulfonamide\n",
      "223 no matches -\n",
      "224 OCl(=O)(=O)=O perchloric acid\n",
      "225 C1(C(S(=O)(=O)NS(=O)(=O)C1(F)F)(F)F)(F)F 4,4,5,5,6,6-hexafluoro-1,3,2-dithiazinane 1,1,3,3-tetraoxide\n",
      "226 no matches -\n",
      "227 C(S(=O)(=O)F)(S(=O)(=O)F)S(=O)(=O)F methanetrisulfonyl fluoride\n",
      "228 no matches -\n",
      "229 C1=C(C(=C(C1C#N)C#N)C#N)C#N cyclopenta-2,4-diene-1,2,3,4-tetracarbonitrile\n",
      "230 C(#N)C(C#N)C(=C(C#N)C#N)C#N prop-1-ene-1,1,2,3,3-pentacarbonitrile\n"
     ]
    }
   ],
   "source": [
    "#checking all new nan values\n",
    "browser = webdriver.Chrome()\n",
    "browser.get(\"https://pubchem.ncbi.nlm.nih.gov\")\n",
    "\n",
    "for i in range(len(smiles)):\n",
    "    new_smiles[i], iupaclist[i] = SMILE_iupac_scraper(smiles[i])\n",
    "    print(i, new_smiles[i], iupaclist[i])"
   ]
  },
  {
   "cell_type": "code",
   "execution_count": 5,
   "metadata": {},
   "outputs": [],
   "source": [
    "data['new smiles'] = new_smiles\n",
    "data['iupac'] = iupaclist\n",
    "data.to_csv('data_csvs/leito_acids_analysis.csv')"
   ]
  },
  {
   "cell_type": "code",
   "execution_count": 6,
   "metadata": {},
   "outputs": [],
   "source": [
    "data = pd.read_csv('data_csvs/base_analysis.csv')\n",
    "smiles = data['smiles'].tolist()\n",
    "nsmiles = data['new smiles'].tolist()\n",
    "niupac = data['new iupac'].tolist()\n",
    "ncas = data['new cas'].tolist()"
   ]
  },
  {
   "cell_type": "code",
   "execution_count": 9,
   "metadata": {},
   "outputs": [
    {
     "name": "stdout",
     "output_type": "stream",
     "text": [
      "0 C[NH3+] methylazanium 17000-00-9\n",
      "1 CC[NH3+] ethylazanium 16999-99-8\n",
      "2 CCC[NH3+] propylazanium Propan-1-aminium\n",
      "3 CC(C)[NH3+] propan-2-ylazanium Isopropylaminium\n",
      "4 CCCC[NH3+] butylazanium -\n",
      "5 CC(C)C[NH3+] 2-methylpropylazanium 58471-06-0\n",
      "6 C1=CC=C(C=C1)C[NH3+] benzylazanium Benzylaminium\n",
      "7 C1=CC=C(C=C1)[NH3+] phenylazanium 65756-50-5\n",
      "8 [NH4+] azanium 14798-03-9\n",
      "9 C[NH2+]C dimethylazanium 49784-85-2\n",
      "10 CC[NH2+]CC diethylazanium Diethylammonium\n",
      "11 CCC[NH2+]CCC dipropylazanium -\n",
      "12 CCCC[NH2+]CCCC dibutylazanium -\n",
      "13 C1=CC=C(C=C1)C[NH2+]CC2=CC=CC=C2 dibenzylazanium -\n",
      "14 C1=CC=C(C=C1)[NH2+]C2=CC=CC=C2 diphenylazanium 61236-17-7\n",
      "15 C[NH2+]C1=CC=CC=C1 methyl(phenyl)azanium -\n",
      "16 C[NH+](C)C trimethylazanium Trimethylammonium\n",
      "17 CC[NH+](CC)CC triethylazanium 17440-81-2\n",
      "18 CCC[NH+](CCC)CCC tripropylazanium -\n",
      "19 CCCC[NH+](CCCC)CCCC tributylazanium -\n",
      "20 C1=CC=C(C=C1)C[NH+](CC2=CC=CC=C2)CC3=CC=CC=C3 tribenzylazanium -\n",
      "21 C1=CC=C(C=C1)[NH+](C2=CC=CC=C2)C3=CC=CC=C3 triphenylazanium -\n",
      "22 C[NH+](C)C1=CC=CC=C1 dimethyl(phenyl)azanium -\n",
      "23 CC[NH+](C)C ethyl(dimethyl)azanium -\n",
      "24 CC[NH+](C)CC diethyl(methyl)azanium -\n",
      "25 CCC[NH+](CC)CC diethyl(propyl)azanium -\n",
      "26 C(CN)[NH3+] 2-aminoethylazanium -\n",
      "27 C(C[NH3+])CN 3-aminopropylazanium 3-aminopropylazanium\n",
      "28 C(CCN)C[NH3+] 4-aminobutylazanium NCCCC[NH3+]\n",
      "29 C(CC[NH3+])CCN 5-aminopentylazanium -\n",
      "30 C[NH+](C)CCN(C)C 2-(dimethylamino)ethyl-dimethylazanium -\n",
      "31 C[NH+](C)CCCN(C)C 3-(dimethylamino)propyl-dimethylazanium -\n",
      "32 no matches - -\n",
      "33 no matches - -\n",
      "34 C[NH+](C)C1=CC=CC2=C1C(=CC=C2)N(C)C [8-(dimethylamino)naphthalen-1-yl]-dimethylazanium -\n",
      "35 [NH3+]N aminoazanium 18500-32-8\n",
      "36 C1CC[NH2+]CC1 piperidin-1-ium 17523-59-0\n",
      "37 C[NH+]1CCCCC1 1-methylpiperidin-1-ium -\n",
      "38 C1CNCC[NH2+]1 piperazin-1-ium 8057-14-5\n",
      "39 C[NH+]1CCN(CC1)C 1,4-dimethylpiperazin-1-ium -\n",
      "40 C1CC[NH2+]C1 pyrrolidin-1-ium 84316-19-8\n",
      "41 C1C[NH+]2CCC1CC2 1-azoniabicyclo[2.2.2]octane -\n",
      "42 C1CN2CC[NH+]1CC2 4-aza-1-azoniabicyclo[2.2.2]octane 49623-77-0\n",
      "43 C1=CC=[NH+]C=C1 pyridin-1-ium 16969-45-2\n",
      "44 C1=CC=[NH+]C(=C1)C2=CC=CC=N2 2-pyridin-1-ium-2-ylpyridine 2-pyridin-1-ium-2-ylpyridine\n",
      "45 C1=CC=C2C(=C1)C=CC=[NH+]2 quinolin-1-ium -\n",
      "46 no matches - -\n",
      "47 no matches - -\n",
      "48 C1=CC=C2C(=C1)C=C3C=CC=CC3=[NH+]2 acridin-10-ium -\n",
      "49 C1=CC2=C(C3=C(C=CC=N3)C=C2)[NH+]=C1 1,10-phenanthrolin-10-ium -\n",
      "50 no matches - -\n",
      "51 C1=CC=C2C(=C1)NC=[NH+]2 1H-benzimidazol-3-ium -\n",
      "52 C1=[NH+]NN=C1 2H-triazol-1-ium -\n",
      "53 no matches - -\n",
      "54 C1=CN[NH+]=C1 1H-pyrazol-2-ium Pyrazolium\n",
      "55 no matches - -\n",
      "56 C1=CC=N[NH+]=C1 pyridazin-1-ium -\n",
      "57 C1=C[NH+]=CN=C1 pyrimidin-1-ium -\n",
      "58 C1=CN=CC=[NH+]1 pyrazin-1-ium -\n",
      "59 no matches - -\n",
      "60 no matches - -\n",
      "61 no matches - -\n",
      "62 no matches - -\n",
      "63 C[N+]1=C2NCCCN2CCC1 1-methyl-3,4,6,7,8,9-hexahydro-2H-pyrimido[1,2-a]pyrimidin-1-ium -\n",
      "64 C1=CC=C(C=C1)NC(=[NH+]C2=CC=CC=C2)N [amino(anilino)methylidene]-phenylazanium -\n",
      "65 no matches - -\n",
      "66 no matches - -\n",
      "67 no matches - -\n",
      "68 no matches - -\n",
      "69 no matches - -\n",
      "70 no matches - -\n"
     ]
    }
   ],
   "source": [
    "#checking all new nan values\n",
    "browser = webdriver.Chrome()\n",
    "browser.get(\"https://pubchem.ncbi.nlm.nih.gov\")\n",
    "\n",
    "for i in range(len(smiles)):\n",
    "    nsmiles[i], niupac[i], ncas[i] = SMILE_scrape_checker(smiles[i])\n",
    "    print(i, nsmiles[i], niupac[i], ncas[i])"
   ]
  },
  {
   "cell_type": "code",
   "execution_count": 10,
   "metadata": {},
   "outputs": [],
   "source": [
    "data['new smiles'] = nsmiles\n",
    "data['new cas'] = ncas\n",
    "data['new iupac'] = niupac\n",
    "data.to_csv('data_csvs/base_analysis.csv')"
   ]
  },
  {
   "cell_type": "code",
   "execution_count": 18,
   "metadata": {},
   "outputs": [],
   "source": [
    "### collating all the data to remove duplicates\n",
    "data = pd.read_csv('data_csvs/pka_data_updated_final.csv', engine = 'python')\n",
    "x_smiles = data['solute SMILES'].tolist()\n",
    "y_smiles = data['solvent SMILES'].tolist()\n",
    "iupac = data['computed IUPAC'].tolist()\n",
    "cas = data['computed CAS'].tolist()\n",
    "pka = data['pka'].tolist()\n",
    "ref = data['ref'].tolist()\n",
    "n = len(x_smiles)"
   ]
  },
  {
   "cell_type": "code",
   "execution_count": 30,
   "metadata": {},
   "outputs": [
    {
     "data": {
      "text/plain": [
       "1410"
      ]
     },
     "execution_count": 30,
     "metadata": {},
     "output_type": "execute_result"
    }
   ],
   "source": [
    "xy_smiles = [(x_smiles[i],y_smiles[i]) for i in range(n)]\n",
    "len(xy_smiles)"
   ]
  },
  {
   "cell_type": "code",
   "execution_count": 33,
   "metadata": {},
   "outputs": [
    {
     "data": {
      "text/plain": [
       "899"
      ]
     },
     "execution_count": 33,
     "metadata": {},
     "output_type": "execute_result"
    }
   ],
   "source": [
    "xy_singles = list(set(xy_smiles))\n",
    "len(xy_singles)"
   ]
  },
  {
   "cell_type": "code",
   "execution_count": 36,
   "metadata": {},
   "outputs": [],
   "source": [
    "solute = []\n",
    "solvent = []\n",
    "iupac2 = []\n",
    "cas2 = []\n",
    "pkalist = []\n",
    "pkaave = []\n",
    "reflist = []\n",
    "\n",
    "for xy in set(xy_smiles):\n",
    "    solute.append(xy[0])\n",
    "    solvent.append(xy[1])\n",
    "    \n",
    "    #find all instances of the solute/solvent pair\n",
    "    indices = [i for i, k in enumerate(xy_smiles) if k == xy]\n",
    "    \n",
    "    iupac2.append(iupac[indices[0]])\n",
    "    cas2.append(cas[indices[0]])\n",
    "    reflist.append([ref[i] for i in indices])\n",
    "    \n",
    "    pkas = [pka[i] for i in indices]\n",
    "    pkalist.append(pkas)\n",
    "    pkaave.append(sum(pkas)/len(pkas))"
   ]
  },
  {
   "cell_type": "code",
   "execution_count": 39,
   "metadata": {},
   "outputs": [
    {
     "data": {
      "text/html": [
       "<div>\n",
       "<style scoped>\n",
       "    .dataframe tbody tr th:only-of-type {\n",
       "        vertical-align: middle;\n",
       "    }\n",
       "\n",
       "    .dataframe tbody tr th {\n",
       "        vertical-align: top;\n",
       "    }\n",
       "\n",
       "    .dataframe thead th {\n",
       "        text-align: right;\n",
       "    }\n",
       "</style>\n",
       "<table border=\"1\" class=\"dataframe\">\n",
       "  <thead>\n",
       "    <tr style=\"text-align: right;\">\n",
       "      <th></th>\n",
       "      <th>Solute SMILES</th>\n",
       "      <th>Solvent SMILES</th>\n",
       "      <th>Solute CAS</th>\n",
       "      <th>Solute IUPAC</th>\n",
       "      <th>pKa (avg)</th>\n",
       "      <th>pKa (all)</th>\n",
       "      <th>Source (all)</th>\n",
       "    </tr>\n",
       "  </thead>\n",
       "  <tbody>\n",
       "    <tr>\n",
       "      <th>0</th>\n",
       "      <td>C1C2=C(C3=C1C(=C(C(=C3F)F)F)F)C(=C(C(=C2F)F)F)F</td>\n",
       "      <td>CS(=O)C</td>\n",
       "      <td>27053-34-5</td>\n",
       "      <td>1,2,3,4,5,6,7,8-octafluoro-9H-fluorene</td>\n",
       "      <td>10.800000</td>\n",
       "      <td>[10.8]</td>\n",
       "      <td>[Ejoc202001649-sup-00001-misc_information.pdf]</td>\n",
       "    </tr>\n",
       "    <tr>\n",
       "      <th>1</th>\n",
       "      <td>C1=CC=C2C(=C1)C(C3=CC=CC=C32)C#N</td>\n",
       "      <td>C(CCl)Cl</td>\n",
       "      <td>1529-40-4</td>\n",
       "      <td>9H-fluorene-9-carbonitrile</td>\n",
       "      <td>55.900000</td>\n",
       "      <td>[55.9, 55.9]</td>\n",
       "      <td>[Ejoc202001649-sup-00001-misc_information.pdf,...</td>\n",
       "    </tr>\n",
       "    <tr>\n",
       "      <th>2</th>\n",
       "      <td>CC[NH+](CC)CC</td>\n",
       "      <td>C1CCOC1</td>\n",
       "      <td>17440-81-2</td>\n",
       "      <td>triethylazanium</td>\n",
       "      <td>12.500000</td>\n",
       "      <td>[12.5, 12.5]</td>\n",
       "      <td>[pKa_values_of_acids_and_bases_in_MeCN_DCE_DMS...</td>\n",
       "    </tr>\n",
       "    <tr>\n",
       "      <th>3</th>\n",
       "      <td>CC1=CC=C(C=C1)C(C#N)C#N</td>\n",
       "      <td>CC#N</td>\n",
       "      <td>33534-88-2</td>\n",
       "      <td>2-(4-methylphenyl)propanedinitrile</td>\n",
       "      <td>17.583333</td>\n",
       "      <td>[17.59, 17.57, 17.59]</td>\n",
       "      <td>[MeCN_Acids_COSMO-RS_2008_Table.pdf, Ejoc20200...</td>\n",
       "    </tr>\n",
       "    <tr>\n",
       "      <th>4</th>\n",
       "      <td>C1=CC=C2C(=C1)C=CN2</td>\n",
       "      <td>CS(=O)C</td>\n",
       "      <td>120-72-9</td>\n",
       "      <td>1H-indole</td>\n",
       "      <td>20.950000</td>\n",
       "      <td>[20.95]</td>\n",
       "      <td>[Ejoc202001649-sup-00001-misc_information.pdf]</td>\n",
       "    </tr>\n",
       "  </tbody>\n",
       "</table>\n",
       "</div>"
      ],
      "text/plain": [
       "                                     Solute SMILES Solvent SMILES  Solute CAS  \\\n",
       "0  C1C2=C(C3=C1C(=C(C(=C3F)F)F)F)C(=C(C(=C2F)F)F)F        CS(=O)C  27053-34-5   \n",
       "1                 C1=CC=C2C(=C1)C(C3=CC=CC=C32)C#N       C(CCl)Cl   1529-40-4   \n",
       "2                                    CC[NH+](CC)CC        C1CCOC1  17440-81-2   \n",
       "3                          CC1=CC=C(C=C1)C(C#N)C#N           CC#N  33534-88-2   \n",
       "4                              C1=CC=C2C(=C1)C=CN2        CS(=O)C    120-72-9   \n",
       "\n",
       "                             Solute IUPAC  pKa (avg)              pKa (all)  \\\n",
       "0  1,2,3,4,5,6,7,8-octafluoro-9H-fluorene  10.800000                 [10.8]   \n",
       "1              9H-fluorene-9-carbonitrile  55.900000           [55.9, 55.9]   \n",
       "2                         triethylazanium  12.500000           [12.5, 12.5]   \n",
       "3      2-(4-methylphenyl)propanedinitrile  17.583333  [17.59, 17.57, 17.59]   \n",
       "4                               1H-indole  20.950000                [20.95]   \n",
       "\n",
       "                                        Source (all)  \n",
       "0     [Ejoc202001649-sup-00001-misc_information.pdf]  \n",
       "1  [Ejoc202001649-sup-00001-misc_information.pdf,...  \n",
       "2  [pKa_values_of_acids_and_bases_in_MeCN_DCE_DMS...  \n",
       "3  [MeCN_Acids_COSMO-RS_2008_Table.pdf, Ejoc20200...  \n",
       "4     [Ejoc202001649-sup-00001-misc_information.pdf]  "
      ]
     },
     "execution_count": 39,
     "metadata": {},
     "output_type": "execute_result"
    }
   ],
   "source": [
    "final = {'Solute SMILES':solute,\n",
    "         'Solvent SMILES':solvent,\n",
    "         'Solute CAS':cas2,\n",
    "         'Solute IUPAC':iupac2,\n",
    "         'pKa (avg)':pkaave,\n",
    "         'pKa (all)':pkalist,\n",
    "         'Source (all)':reflist}\n",
    "final_df = pd.DataFrame(final)\n",
    "final_df.head()"
   ]
  },
  {
   "cell_type": "code",
   "execution_count": 40,
   "metadata": {},
   "outputs": [],
   "source": [
    "final_df.to_csv('non_aqueous_pka_data.csv')"
   ]
  },
  {
   "cell_type": "code",
   "execution_count": 41,
   "metadata": {},
   "outputs": [
    {
     "name": "stdout",
     "output_type": "stream",
     "text": [
      "471\n"
     ]
    }
   ],
   "source": [
    "print(len(list(set(solute))))"
   ]
  },
  {
   "cell_type": "code",
   "execution_count": 42,
   "metadata": {},
   "outputs": [
    {
     "name": "stdout",
     "output_type": "stream",
     "text": [
      "8\n"
     ]
    }
   ],
   "source": [
    "print(len(list(set(solvent))))"
   ]
  },
  {
   "cell_type": "code",
   "execution_count": 2,
   "metadata": {},
   "outputs": [
    {
     "name": "stderr",
     "output_type": "stream",
     "text": [
      "RDKit WARNING: [12:33:40] Enabling RDKit 2019.09.3 jupyter extensions\n"
     ]
    }
   ],
   "source": [
    "import pandas as pd\n",
    "import rdkit.Chem as Chem"
   ]
  },
  {
   "cell_type": "code",
   "execution_count": 31,
   "metadata": {},
   "outputs": [],
   "source": [
    "### collating all the data to remove duplicates\n",
    "data = pd.read_csv('full_pka_data2.csv', engine = 'python')\n",
    "x_smiles = data['Solute SMILES'].tolist()\n",
    "y_smiles = data['Solvent SMILES'].tolist()\n",
    "iupac = data['Solute IUPAC'].tolist()\n",
    "cas = data['Solute CAS'].tolist()\n",
    "pka = data['pKa (all)'].tolist()\n",
    "ref = data['Source (all)'].tolist()\n",
    "n = len(x_smiles)"
   ]
  },
  {
   "cell_type": "code",
   "execution_count": 20,
   "metadata": {},
   "outputs": [
    {
     "data": {
      "text/plain": [
       "['43.6']"
      ]
     },
     "execution_count": 20,
     "metadata": {},
     "output_type": "execute_result"
    }
   ],
   "source": [
    "import re\n",
    "re.findall(\"[-+]?[.]?[\\d]+(?:,\\d\\d\\d)*[\\.]?\\d*(?:[eE][-+]?\\d+)?\", pka[0])"
   ]
  },
  {
   "cell_type": "code",
   "execution_count": 32,
   "metadata": {
    "collapsed": true,
    "jupyter": {
     "outputs_hidden": true
    },
    "tags": []
   },
   "outputs": [
    {
     "name": "stdout",
     "output_type": "stream",
     "text": [
      "C1CN=C2NCCC[NH+]2C1\n",
      "c1ccc([NH2+]c2ccccc2)cc1\n",
      "N#CC1=C(C#N)CC=C1\n",
      "C[NH+](C)c1c(Cl)cc([N+](=O)[O-])cc1Cl\n",
      "C[N+]1(CC[NH+](c2ccccc2)c2ccccc2)CCCCC1\n",
      "C[C@H](O)C(=O)O\n",
      "[NH3+]CCc1ccccc1\n",
      "CC(C)C(c1ccc([N+](=O)[O-])cc1)[N+](=O)[O-]\n",
      "Cc1ccccc1[NH+](C)C\n",
      "CCOP(=O)(OCC)OCC[NH+](C)C\n",
      "O=C(O)COc1nc(Cl)c(Cl)cc1Cl\n",
      "c1ccc(C[NH2+]C(CC2CCCCC2)CC2CCCCC2)cc1\n",
      "C1CN=C2CCC[NH+]2C1\n",
      "[NH3+]c1cccc2c1Cc1ccccc1-2\n",
      "[O-][Cl+3]([O-])([O-])O\n",
      "CC1(C)S[C@@H]2[C@H](NC(=O)[C@H](N)c3ccccc3)C(=O)N2[C@H]1C(=O)O\n",
      "O=C(c1ccccc1)N(O)c1ccccc1\n",
      "COc1cc2nc(-c3ccc(N4CC[NH+](C)CC4)cc3)nc(NCCN3CCOCC3)c2cc1OC\n",
      "C[NH+](C)c1ccc(C=O)cc1\n",
      "Cc1ccc(C[NH3+])cc1\n",
      "[NH3+]c1ccc(CC(=O)O)cc1\n",
      "Oc1c(Cl)cccc1Cl\n",
      "O=C(O)CCSCc1ccccc1\n",
      "c1ccc(CCC[NH2+]C(Cc2ccccc2)Cc2ccccc2)cc1\n",
      "Cc1cc[nH+]c(N)n1\n",
      "COc1cccc(C[NH3+])c1OC\n",
      "O=P1(O)Oc2c(-c3cc4ccccc4c4ccccc34)cc3c(c2-c2c4c(cc(-c5cc6ccccc6c6ccccc56)c2O1)CCCC4)CCCC3\n",
      "CC[NH2+]CC\n",
      "Cl\n",
      "NC1=[NH+][C@H](c2ccc(F)cc2)Nc2cccc(F)c21\n",
      "O=CNO\n",
      "Nc1cccc[nH+]1\n",
      "Cc1cc(C)cc(O)c1\n",
      "Cc1ccc(S(=O)(=O)[N-]C(=O)N2CCC([NH+]3CCC(Oc4ccc(Cl)c(C)c4Cl)CC3)CC2)cc1\n",
      "CC1(C)C[NH2+]1\n",
      "C[N@H+]1CC[C@]23c4c5ccc(O)c4O[C@H]2[C@@H](O)C=C[C@H]3[C@H]1C5\n",
      "CC1(C)S[C@H]2[C@H](NC(=O)Cc3ccccc3)C(=O)N2[C@@H]1C(=O)O\n",
      "CC(C)(C)[NH2+]C[C@H](O)c1ccc(F)c(F)c1\n",
      "CCc1ccc(CC(=O)O)cc1\n",
      "CCCN(CCC)[C@@H]1CCc2c(O)cccc2C1\n",
      "N#CC(C#N)C#N\n",
      "O=C(c1ccccc1)N1CC[NH2+]CC1\n",
      "O=C([N-]S(=O)(=O)c1ccccc1)N1CCC([NH+]2CCC(Oc3ccc(Cl)c(Cl)c3)CC2)CC1\n",
      "CC(=O)c1cccc(C(=O)O)c1\n",
      "C[NH+](C)CCC(=O)C(c1ccccc1)c1ccccc1\n",
      "CC[NH+](CC)CCNC(=O)c1ccc(N)cc1\n",
      "C[NH2+]C1CCCC1\n",
      "CCNP(=N[P+](N(C)C)(N(C)C)N(C)C)(N(C)C)N(C)C\n",
      "CCC(C)(C)S\n",
      "O=C(O)CCCc1ccc(N(CCCl)CCCl)cc1\n",
      "c1ccc([NH2+]c2ccccc2)cc1\n",
      "C1=CC=[N+]C=C1\n",
      "Cc1[nH+]cc([N+](=O)[O-])n1CCO\n",
      "O=S(=O)(O)c1cc(Cl)ccc1Cl\n",
      "CC(C)(C)c1cc([N+](=O)[O-])cc(C(C)(C)C)c1O\n",
      "[NH3+]c1cc(Br)ccc1[N+](=O)[O-]\n",
      "O=C(O)c1ccccc1[N+](=O)[O-]\n",
      "[NH3+]C1CCCCC1\n",
      "O=C(c1ccccc1)N1CC[NH+](Cc2ccccc2)CC1\n",
      "O=C(O)C(Cl)(Cl)Cl\n",
      "C=CC[NH+](C)C\n",
      "CC[NH2+]C[Si](C)(C)C\n",
      "CC(=O)c1ccc(Sc2ccc([NH3+])cc2)cc1\n",
      "CCOC(=O)CCCC[NH3+]\n",
      "[NH3+][C@@H](CS)C(=O)[O-]\n",
      "[NH3+]c1ccccc1[N+](=O)[O-]\n",
      "O=C(O)c1ccc[n+]([O-])c1\n",
      "O=S(=O)(Cc1ccc(C(F)(F)F)cc1)C(F)(F)F\n",
      "CC[NH+](CC)CCNC(=O)c1cc(Cl)c(N)cc1OC\n",
      "CC[NH+](CC)CCCCC(O)(c1ccccc1)c1ccccc1\n",
      "SCCCCS\n",
      "O=S1(=O)NS(=O)(=O)C(F)(F)C(F)(F)C1(F)F\n",
      "O=S(=O)(F)c1cc(S(=O)(=O)F)c(O)c(S(=O)(=O)F)c1\n",
      "Cc1cc(Br)cc(C)c1[NH+](C)C\n",
      "C[NH+]1CCCCC1\n",
      "C1CC[NH2+]C1\n",
      "c1ccc(C[NH2+]CC(c2ccccc2)c2ccccc2)cc1\n",
      "CCC(=O)C(CC[NH+]1CCCCC1)(c1ccccc1)c1ccccc1\n",
      "CN1CCN(c2cc3c(cc2F)c(=O)c(C(=O)O)cn3-c2ccc(F)cc2)CC1\n",
      "C=C(c1ccccc1)c1ccc([NH3+])cc1\n",
      "Cc1cc(C(=O)O)c2ccccc2c1\n",
      "O=C([O-])[C@H](c1ccccc1)N1CCC(C[NH+]2CCC(Oc3ccc(Cl)c(Cl)c3)CC2)CC1\n",
      "O=C(O)c1ccc2ccccc2c1\n",
      "O=C(O)/C=C/c1ccccc1Cl\n",
      "c1ccc(SCc2cccc[nH+]2)cc1\n",
      "Oc1c(F)c(F)cc(F)c1F\n",
      "O=C(O)CCC(=O)O\n",
      "CC[NH+](C)C\n",
      "O=C(O)c1ccccc1\n",
      "C[NH2+]CCCC12CCC(c3ccccc31)c1ccccc12\n",
      "O=C(O)C(F)(F)F\n",
      "C[NH2+]C[C@H](C)c1ccccc1\n",
      "c1ccc2c[nH+]ncc2c1\n",
      "CCCCCC[C@@H](C)[NH3+]\n",
      "C#CC[NH3+]\n",
      "[NH3+]Cc1ccco1\n",
      "COC(=O)C[NH3+]\n",
      "CC(C)(C(=O)O)c1ccc([C@@H](O)CCCN2CCC(C(O)(c3ccccc3)c3ccccc3)CC2)cc1\n",
      "CCN(CC)CC[NH+](CC)CC\n",
      "NS(=O)(=O)c1cccc(C[NH3+])c1\n",
      "C[NH2+]CC[C@@H](Oc1cc(OC)ccc1C#N)c1ccccc1\n",
      "O=C(O)C(Cl)Cl\n",
      "NS(=O)(=O)c1ccc(Cl)cc1\n",
      "C=CCOc1ccccc1OC[C@H](O)C[NH2+]C(C)C\n",
      "COc1ccccc1/C=C/C(=O)O\n",
      "CCOC(=O)C(C#N)c1c(F)c(F)cc(F)c1F\n",
      "Oc1c(C(F)(F)F)c(C(F)(F)F)c(C(F)(F)F)c(C(F)(F)F)c1C(F)(F)F\n",
      "Cc1cc(C)c(O)c(C)c1\n",
      "CN(C)c1cccc2cccc([NH+](C)C)c12\n",
      "CCOC(=O)C(C#N)c1c(F)c(F)c2c(F)c(F)c(F)c(F)c2c1F\n",
      "O=C([O-])CCC(=O)O\n",
      "CCCC[NH3+]\n",
      "CCC[NH+](CCC)CCc1ccc(O)c(NC(C)=O)c1\n",
      "C[C@H](Oc1ccc(Cl)cc1)C(=O)O\n",
      "C[NH+](c1ccccc1)c1ccccc1\n",
      "COc1ccccc1CCC(=O)O\n",
      "O=C(O)[C@H]1CCC[NH2+]1\n",
      "CCCCCCCCCCCC(=O)O\n",
      "Oc1ccccc1Cc1ccccc1O\n",
      "O=[N+]([O-])c1cc(Cl)c(O)c([N+](=O)[O-])c1\n",
      "CC[NH+](CC)CCOC(=O)c1ccc(Br)cc1\n",
      "CCOP(=O)(CCC[NH+](CC)CC)OCC\n",
      "CN(C)c1ccccc1S(=O)(=O)NC(=O)N1CCC([NH+]2CCC(Oc3ccc(Cl)c(Cl)c3)CC2)CC1\n",
      "CON(C)C(=O)c1c(Cn2c(C)[nH+]c(Cl)c2Cl)sc2c1c(=O)n(C)c(=O)n2CC(C)C\n",
      "O=C(O)c1c([N+](=O)[O-])cccc1[N+](=O)[O-]\n",
      "Cc1cc([N+](=O)[O-])cc([N+](=O)[O-])c1O\n",
      "Cc1ccccc1/N=N/c1ccc(O)c(C(=O)O)c1\n",
      "CSc1cc(Cl)c([NH3+])cc1Cl\n",
      "N#Cc1cc([NH3+])c2ccccc2c1\n",
      "[NH3+]CCC(F)(F)F\n",
      "c1cncc([C@H]2CCCC[NH2+]2)c1\n",
      "Cc1ccccc1C[C@@H](C(=O)O)N1CCC(C[NH+]2CCC(Oc3ccc(Cl)c(Cl)c3)CC2)CC1\n",
      "O=[N+]([O-])c1ccc(S(=O)(=O)NS(=O)(=O)c2ccc(Cl)cc2)cc1\n",
      "C=CC(C)(C)[NH2+]C(C)(C)C=C\n",
      "CCC[NH+](CCC)CCc1ccc(O)c2c1CC(=O)N2\n",
      "CCOc1ccc(OCC)c([NH3+])c1\n",
      "C[NH+](C)c1ccc([N+](C)(C)C)cc1\n",
      "O=C(O)c1cn(C2CC2)c2cc(N3CCNCC3)c(F)cc2c1=O\n",
      "CCc1cc(C)cc(O)c1\n",
      "O=[N+]([O-])c1ccccc1O\n",
      "O=C(O)c1cc[n+]([O-])cc1\n",
      "O=C(O)c1ccccc1C(=O)Nc1cccc2ccccc12\n",
      "C[Si](C)(C)C[NH2+]C[Si](C)(C)C\n",
      "[NH3+]c1cc([N+](=O)[O-])cc(C(F)(F)F)c1\n",
      "O=C(O)/C=C\\C(=O)O\n",
      "[NH3+][C@@H](CCC(=O)N[C@@H](CS)C(=O)NCC(=O)O)C(=O)[O-]\n",
      "CC([NH3+])(CO)CO\n",
      "c1ccc([NH2+]c2ccccc2)cc1\n",
      "Cc1cc(C)c([NH+](C)C)c(C)c1\n",
      "N#CC(c1ccccc1)c1c(F)c(F)c(F)c(F)c1F\n",
      "CCOc1ccccc1[NH3+]\n",
      "COc1ccc(CC(=O)O)cc1\n",
      "CN1CCN(c2c(F)cc3c(=O)c(C(=O)O)cn(CCF)c3c2F)CC1\n",
      "OCCOc1ccccc1\n",
      "CC(=O)C(=O)O\n",
      "CC1(C)S[C@@H]2[C@H](NC(=O)[C@H]([NH3+])c3ccccc3)C(=O)N2[C@H]1C(=O)O\n",
      "CCOC(=O)[C@@H]([NH3+])CC(C)C\n",
      "CC[NH+](C)CC\n",
      "Oc1cccc2scnc12\n",
      "C[N@H+]1CCCC(=O)[C@H](O)CCC1\n",
      "O=C(O)[C@H]1CCC[NH2+]C1\n",
      "O=C(O)COCC[NH+]1CCN([C@H](c2ccccc2)c2ccc(Cl)cc2)CC1\n",
      "COC(=O)c1ccc(C(F)(F)F)nc1S(=O)(=O)NC(=O)Nc1nc(OC)cc(OC)n1\n",
      "Cc1cc([N+](=O)[O-])cc([N+](=O)[O-])c1O\n",
      "Cc1cccc([C@H](C)[NH3+])c1\n",
      "O=C(O)c1ccccc1C(=O)Nc1ccccc1\n",
      "O=C(O)CCc1ccc([N+](=O)[O-])cc1\n",
      "OC(C(F)(F)C(F)(F)C(F)(F)F)C(F)(F)C(F)(F)C(F)(F)F\n",
      "N#CC(C#N)c1c(F)c(F)c(C(F)(F)F)c(F)c1F\n",
      "C[C@H]([NH3+])c1ccc(Br)cc1\n",
      "CCOCCO\n",
      "Oc1cccc(C(F)(F)F)c1\n",
      "O=C1c2ccc(O)cc2C(=O)c2ccc(O)cc21\n",
      "Cc1cnc2c(O)cccc2c1\n",
      "CS\n",
      "O=S(=O)(O)F\n",
      "c1ccc2sc(Cc3nc4ccccc4s3)nc2c1\n",
      "O=C(O)Cc1c[nH]c2ccccc12\n",
      "CC[C@H]([NH3+])C(=O)N[C@H](C#N)Cc1ccc(-c2ccccc2)cc1\n",
      "C[N+](C)(C)c1ccc(O)cc1\n",
      "CC(C)([NH3+])c1ccccc1\n",
      "CC(C)c1ccc([C@H](C)[NH3+])cc1\n",
      "OCCF\n",
      "Cc1ccc(CCC(=O)O)cc1\n",
      "CNc1cccc(C)[nH+]1\n",
      "Oc1c(Cl)c(Cl)c(Cl)c(Cl)c1Cl\n",
      "O=S(=O)(Cc1ccc(F)cc1)C(F)(F)F\n",
      "CCCCCCCCCCCC[NH3+]\n",
      "O=C(O)Cc1ccc(I)cc1\n",
      "C[C@@H]1CCCC[C@@H]1[NH3+]\n",
      "COc1ccc(C[NH2+]c2ccc([N+](=O)[O-])cc2[N+](=O)[O-])cc1\n",
      "C[NH+]1CCN(c2cc3c(cc2F)c(=O)c(C(=O)O)cn3-c2ccc(F)cc2)CC1\n",
      "Nc1cccc2cccc([NH3+])c12\n",
      "OCC[NH+](CCO)CCO\n",
      "C[Si](C)(C[NH3+])c1ccccc1\n",
      "COc1ccc2c3c1O[C@H]1C[C@@H](O)C=C[C@@]31CC[N@@H+](C)C2\n",
      "O=C(O)c1ccccc1C(=O)O\n",
      "Oc1c(F)c(F)c2c(F)c(F)c(F)c(F)c2c1F\n",
      "CCOCC[NH3+]\n",
      "Cc1cccc(C)c1OC[C@H](C)[NH3+]\n",
      "C[NH2+]C[C@H](O)c1ccccc1\n",
      "CC1CC[NH2+]CC1\n",
      "CCc1ccc([NH3+])cc1\n",
      "CCNP(=N[P+](N(C)C)(N(C)C)N(C)C)(N(C)C)N(C)C\n",
      "[NH3+][C@@H]1CCc2cc(O)c(O)cc2C1\n",
      "NCCCC[NH3+]\n",
      "CC(C)[NH2+]C[C@H](O)c1ccc(Br)c(Br)c1\n",
      "Cc1cc(C)[nH+]c(N)n1\n",
      "Cc1cc([NH3+])c2ccccc2c1\n",
      "O=C(NS(=O)(=O)C(F)(F)F)c1ccc(F)cc1\n",
      "Oc1ccccc1F\n",
      "C[NH+](C)c1ccccc1\n",
      "C[C@@H](O)C(F)(F)F\n",
      "Cc1cc(C)cc(C(=[NH2+])c2ccccc2)c1\n",
      "CNc1nccc[nH+]1\n",
      "CCC(C)([NH3+])CC\n",
      "O=C(c1ccccc1)c1ccc(O)cc1\n",
      "Cc1cc([N+](=O)[O-])ccc1[NH3+]\n",
      "N#CC(c1c(F)c(F)c(F)c(F)c1F)c1c(F)c(F)c(C(F)(F)F)c(F)c1F\n",
      "CCCCC[C@@H](C)[NH3+]\n",
      "c1cc[nH+]cc1\n",
      "O=C(O)CCCCCCc1ccccc1\n",
      "C[C@@H]1[NH2+][C@H]1C\n",
      "Oc1ccccc1-c1ccc(I)cc1\n",
      "Oc1cccc2cnccc12\n",
      "O=[N+]([O-])c1ccc([NH2+]Cc2cccc(Br)c2)c([N+](=O)[O-])c1\n",
      "NS(=O)(=O)c1ccc(Br)cc1\n",
      "CCC[NH2+]CCC\n",
      "C[NH2+]C[C@H](O)c1ccc(C2CCCCC2)cc1\n",
      "CC#CC(=O)O\n",
      "O=C(O)c1c([N+](=O)[O-])cccc1[N+](=O)[O-]\n",
      "CC[NH+](C)C\n",
      "CCS(=O)(=O)c1ccc(-c2cc(Cl)ccc2OCC(=O)O)c(Cl)c1\n",
      "C[N@@H+]1CCCCC(=O)[C@H](O)CCCC1\n",
      "C#CC(C)(C)[NH2+]C(C)(C)CC\n",
      "O=[N+]([O-])c1cccc(S(=O)(=O)NS(=O)(=O)c2ccc(Cl)cc2)c1\n",
      "Cc1ccc(S(=O)(=O)NS(=O)(=O)c2ccc([N+](=O)[O-])cc2)cc1\n",
      "COc1ccc2c3c1O[C@H]1[C@@H](O)C=C[C@H]4[C@@H](C2)[N@@H+](C)CC[C@]314\n",
      "Cn1c([S@@](=O)Cc2cccc[nH+]2)nc2ccccc21\n",
      "C1CC[NH2+]C1\n",
      "O=C(O)COc1ccc(C(F)(F)F)cc1C[NH+]1CCN(C(=O)c2ccccc2)CC1\n",
      "Oc1ccc(Cl)cc1\n",
      "COC(=O)c1ccc([NH3+])cc1\n",
      "C1=C(C2CCCCC2)[NH2+]CC1\n",
      "O=C(O)C(F)=C(F)F\n",
      "O=[N+]([O-])c1cccc([N+](=O)[O-])c1O\n",
      "CCOC(=O)c1ccccc1S(=O)(=O)NC(=O)Nc1nc(Cl)cc(OC)n1\n",
      "C1CCC[NH2+]CC1\n",
      "CCn1cc(C(=O)[O-])c(=O)c2cc(F)c(N3CC[NH2+][C@H](C)C3)c(F)c21\n",
      "COc1ccc(-c2ccccc2O)cc1\n",
      "C[C@H]([NH3+])CO\n",
      "O=C(O)c1ccccc1\n",
      "CCCCc1ccccc1[NH3+]\n",
      "OCc1ccccc1\n",
      "O=C(Nc1ccc([N+](=O)[O-])cc1O)Nc1ccccc1Br\n",
      "CCCCCC(=O)NO\n",
      "Cc1cnc2c(O)cccc2c1C\n",
      "COc1ccc(CC[NH+]2CCC(Nc3nc4ccccc4n3Cc3ccc(F)cc3)CC2)cc1\n",
      "Cc1cc(C)c(C[NH+](CCO)CCO)c(C)c1\n",
      "Oc1cc(C(F)(F)F)cc2cccnc12\n",
      "C[N@H+](CC[N+]1(C)CCCCC1)c1ccccc1\n",
      "C[C@H]([NH2+][C@H]1CCc2ccccc21)c1ccccc1\n",
      "Br\n",
      "O=C(CNC(=O)c1ccccc1)NO\n",
      "C[N@@H+]1CCC[C@H]1c1ccccc1\n",
      "[NH3+]C[C@H](O)c1cccc(O)c1\n",
      "O=C(NO)c1ccc([N+](=O)[O-])cc1\n",
      "CCN(CC)C(=O)[C@@H]1CCC[N@H+](Cc2ccc([N+](=O)[O-])cc2)C1\n",
      "C[NH2+]CCc1cccc[nH+]1\n",
      "Nc1nc(-c2ccccc2)cc(-c2ccccc2)[nH+]1\n",
      "C[NH+](C)c1ccc(Br)cc1\n",
      "C=CC[C@@H](C)C(=O)O\n",
      "CC(C)(C)N[P+](N1CCCC1)(N1CCCC1)N1CCCC1\n",
      "CC(=O)c1cccc(-c2ccccc2O)c1\n",
      "CCCC(=O)Nc1ccc(OC[C@H](O)C[NH2+]C(C)C)c(C(C)=O)c1\n",
      "C#CC(C)(C)[NH2+]C(C)(C)C=C\n",
      "CC(C)C[C@H]([NH3+])c1ccc(Cl)cc1\n",
      "O=S(=O)(NS(=O)(=O)C(F)(F)C(F)(F)C(F)(F)C(F)(F)F)C(F)(F)C(F)(F)C(F)(F)C(F)(F)F\n",
      "CCOC(=O)C(C#N)c1c(F)c(F)c(Cl)c(F)c1F\n",
      "[NH3+]C12CC3CC(CC(C3)C1)C2\n",
      "C[NH+]1CCN(c2cc3c(cc2F)c(=O)c(C(=O)O)cn3-c2ccc(F)cc2)CC1\n",
      "[NH3+]c1ccc2c(c1)CCC2\n",
      "COc1ccc(-c2cnc(O)nc2)cc1\n",
      "Cc1c(F)c(F)c(C(=O)O)c(F)c1F\n",
      "O=C(Nc1ccc(N2CCOCC2)c(F)c1)c1nnc(Nc2ccccc2F)o1\n",
      "[NH2+]=C1CCCC1\n",
      "C[C@H]1CC[N@H+](C)[C@@H](C)C1\n",
      "CCCCc1ccc([C@@H](O)C(=O)O)cc1\n",
      "C[C@@H](O)C[NH+](C[C@@H](C)O)C(C)(C)C\n",
      "Cc1cc(C(C)(C)C)c(O)c(C(C)(C)C)c1\n",
      "O=C(O)CCCC(=O)O\n",
      "Cc1cc([NH3+])ccc1[N+](=O)[O-]\n",
      "COc1cc[nH+]c(CSc2nc3ccccc3[nH]2)c1\n",
      "CC(C)(C#N)[NH+]1CCCCC1\n",
      "O=[N+]([O-])c1ccc2[nH]ccc2c1\n",
      "[NH3+]c1ccc2c(c1)CCCC2\n",
      "N#Cc1ccccc1[NH3+]\n",
      "NCCCCC[NH3+]\n",
      "C[NH2+]c1ccc([N+](=O)[O-])cc1\n",
      "C[C@@H]([NH3+])Cc1ccc2c(c1)OCO2\n",
      "Oc1c(F)c(F)c(C(F)(F)F)c(F)c1F\n",
      "N#CCCO\n",
      "c1cc[nH+]nc1\n",
      "N#CC(c1c(F)c(F)c(F)c(F)c1F)c1c(F)c(F)c(F)c(F)c1F\n",
      "CCC(CC)NC(=O)c1c(C)nn(C(C)C)c1NS(=O)(=O)c1ccc(C)cc1\n",
      "Cc1ccc(O)cc1\n",
      "CC(C)[NH2+]C[C@H](O)c1ccccc1I\n",
      "Nc1ncc(-c2ccc(Br)cc2)c[nH+]1\n",
      "CC(C)(C)[NH2+]c1ccccc1\n",
      "CC(=O)CCCC(=O)O\n",
      "Cc1ccc(O)c([N+](=O)[O-])c1\n",
      "CC[NH+](C)CC\n",
      "COC(=O)c1cc[nH+]c(N)c1\n",
      "c1ccc2[nH+]c[nH]c2c1\n",
      "CCCC[NH+](CCCC)CCCC\n",
      "C[Si](C)(C)C[NH2+]C1CCCCC1\n",
      "CN(C)CCCC[NH+](C)C\n",
      "C1CCC2=NCCC[NH+]2CC1\n",
      "CCC(C)(C)[NH2+]c1ccccc1\n",
      "C[NH3+]\n",
      "CC(=O)Nc1ccc(O)cc1\n",
      "[NH3+]c1ccc2c([N+](=O)[O-])cccc2c1\n",
      "c1ccc(C[NH2+]Cc2ccccc2)cc1\n",
      "O=C(O)n1cccc1\n",
      "N#CC(c1c(F)c(F)c(F)c(F)c1F)c1c(F)c(F)c(Cl)c(F)c1F\n",
      "CC(C)[NH2+]C[C@@H](C)O\n",
      "CC[NH3+]\n",
      "O=C(O)c1cc(/N=N/c2ccccc2)ccc1O\n",
      "Cc1cc([N+](=O)[O-])cc(C)c1[NH3+]\n",
      "Nc1c(C(F)(F)F)c(C(F)(F)F)c(C(F)(F)F)c(C(F)(F)F)c1C(F)(F)F\n",
      "COc1ccc2ccc([NH3+])cc2c1\n",
      "COc1ccc(C(=O)N(O)c2ccccc2C)cc1\n",
      "[NH3+]c1cccc(S(=O)(=O)C(F)(F)F)c1\n",
      "CC(C)C(C)(C)[NH2+]c1ccccc1\n",
      "c1cncc(CC[NH+]2CCCCC2)c1\n",
      "Nc1cccc2cccc([NH3+])c12\n",
      "CC[NH+](CC)CC\n",
      "CC(C)[NH2+]C[C@@H](O)COc1ccc(CC(N)=O)cc1\n",
      "C[C@@]12CC[C@H]3c4ccc(O)cc4CC[C@@H]3[C@@H]1CC[C@@H]2O\n",
      "N#CCC(=C(C#N)C#N)C(C#N)C#N\n",
      "CC(C)(C)C(=O)O\n",
      "CC(C)c1ccc(CC(=O)O)cc1\n",
      "C[NH+]1CCCCC1\n",
      "[NH3+]Cc1ccc(Br)cc1\n",
      "O=S(=O)(NS(=O)(=NS(=O)(=O)C(F)(F)F)c1ccc(Cl)cc1)c1ccc(Cl)cc1\n",
      "Clc1ccc(/C=[NH+]/c2ccccc2)cc1\n",
      "CC[C@H]1C[N@@H+]2CC[C@H]1C[C@H]2[C@H](O)c1cc[nH+]c2ccc(OC)cc12\n",
      "C[C@H]([NH3+])c1cccc([N+](=O)[O-])c1\n",
      "Nc1ccc2nccnc2[nH+]1\n",
      "C=CC(C)(C)[NH2+]C(C)(C)CC\n",
      "COC(=O)C1c2ccccc2-c2ccccc21\n",
      "CC#Cc1c(C)nc(O)nc1C\n",
      "C1CC[NH2+]CC1\n",
      "CCCC[NH3+]\n",
      "CC[NH+]1[C@@H](C)[C@H]1C\n",
      "NCCCC[NH3+]\n",
      "CSc1ccc([NH3+])cc1[N+](=O)[O-]\n",
      "COc1ccc(C[NH+](C)C)cc1\n",
      "N#Cc1c(O)c(C#N)c(C#N)c(C#N)c1C#N\n",
      "[NH3+]c1cc(Cl)c(Cl)cc1Cl\n",
      "O=Cc1ccc(O)cc1\n",
      "c1cc[nH+]cc1\n",
      "C[NH+](C)CCCN1c2ccccc2Sc2ccc(Cl)cc21\n",
      "Cc1nn(C2CCOCC2)c(NS(=O)(=O)c2ccc(C3CC3)cc2)c1C(=O)N[C@@H](C)C(C)(C)C\n",
      "CC(C)[NH+](c1ccccc1)C(C)C\n",
      "C[C@@H]1CCC[N@H+]1C\n",
      "O=C(O)c1c([N+](=O)[O-])cc([N+](=O)[O-])cc1[N+](=O)[O-]\n",
      "Cc1cc([NH3+])cc([N+](=O)[O-])c1\n",
      "Sc1ccc(Br)cc1\n",
      "O=C(O)CC(=O)O\n",
      "C[NH+](C)CCN(Cc1ccccc1)c1ccccn1\n",
      "O=[N+]([O-])c1ccc(Nc2ccc([N+](=O)[O-])cc2)cc1\n",
      "O=C(NC[C@@H](O)C[NH+]1CCC(Oc2ccc(Cl)c(Cl)c2)CC1)c1c[nH]c(=O)c2ccccc12\n",
      "[NH3+]c1ccc(-c2cc(=O)c3c(ccc4ccccc43)o2)cc1\n",
      "CCOC(=O)CC[NH3+]\n",
      "O=CO\n",
      "CC(C)(C)c1ccc(S(=O)(=O)CC(=O)O)cc1\n",
      "COc1cccc(S(N)(=O)=O)c1\n",
      "NS(=O)(=O)c1c(F)c(F)c(F)c(F)c1F\n",
      "O=C(O)c1ccc(O)cc1\n",
      "CCC[N@@H+]1CCCC[C@H]1C(=O)Nc1c(C)cccc1C\n",
      "N#Cc1ccc(C[C@@H](C(=O)O)[NH+]2CCC(CN3CCC(Oc4ccc(Cl)c(Cl)c4)CC3)CC2)cc1\n",
      "COc1ccc([C@@H](O)C[NH2+]C(C)C)cc1\n",
      "Cc1cc([N+](=O)[O-])c(O)c([N+](=O)[O-])c1\n",
      "[NH3+]c1ccc([N+](=O)[O-])cc1\n",
      "[NH3+]c1ccc(/C=C/c2ccccc2)cc1\n",
      "CCCC[N@H+](C)c1ccccc1\n",
      "O=C(Nc1ccc(Cl)c(S(=O)(=O)N2CC[NH2+]CC2)c1O)Nc1cccc(F)c1Cl\n",
      "CCC[N@@H+](CC[N+]1(C)CCCCC1)c1ccccc1\n",
      "CSc1cc(=[NH2+])nc(N)n1C\n",
      "C[C@H](Cc1ccccc1)[NH+](C)C\n",
      "CCOP(=O)(CC[NH+](CC)CC)OCC\n",
      "N#CC(c1c(F)c(F)c(C(F)(F)F)c(F)c1F)c1c(F)c(F)c(C(F)(F)F)c(F)c1F\n",
      "O=S(=O)(O)CCS\n",
      "CN(C)P(=N[P+](N=P(N(C)C)(N(C)C)N(C)C)(N=P(N(C)C)(N(C)C)N(C)C)NC(C)(C)C)(N(C)C)N(C)C\n",
      "O=C(NCC12CC3CC(CC(C3)C1)C2)c1cc(-n2ncc(=O)[nH]c2=O)ccc1Cl\n",
      "COc1c(N2CCN[C@H](C)C2)c(F)cc2c(=O)c(C(=O)O)cn(C3CC3)c12\n",
      "[NH3+]Cc1ccc([N+](=O)[O-])cc1\n",
      "C/C=C\\c1ccc(O)c(OC)c1\n",
      "[NH3+]c1ccc(F)cc1\n",
      "[NH3+]C1CCCC1\n",
      "COc1ccc2c(c1)c(CC(=O)O)c(C)n2C(=O)c1ccc(Cl)cc1\n",
      "CC(C)[NH2+]C[C@H](O)c1cc(O)cc(O)c1\n",
      "c1c[nH+][nH]n1\n",
      "CC[C@@H](C)[NH2+]C[C@H](O)c1ccc(OC)c(OC)c1\n",
      "CC[NH+](CC)c1ccc([N+](=O)[O-])cc1\n",
      "OCC(F)F\n",
      "Br\n",
      "CC(C)(C)c1cc[nH+]c(N)n1\n",
      "N[C@@H](CCS)C(=O)O\n",
      "C[NH2+]c1ccccc1\n",
      "COc1ccc(C(=C(C#N)C#N)C(C#N)C#N)cc1\n",
      "N#CC(C#N)S(=O)(=O)c1cccc([N+](=O)[O-])c1\n",
      "C[S@](=O)c1cccc(C(C)(C)C)c1O\n",
      "COC(=O)c1cc(O)cc2ccccc12\n",
      "Cc1ccc([NH3+])cc1Cl\n",
      "Cc1cccc([NH2+][C@H]2CCc3ccccc32)c1\n",
      "Fc1c(F)c(F)c2c(c1F)Cc1c(F)c(F)c(F)c(F)c1-2\n",
      "CN(C)c1cc(O)ncn1\n",
      "c1c[nH+]c2[nH]ccc2c1\n",
      "Oc1ccc2cnccc2c1\n",
      "C[NH+](C)CCC(c1ccccc1)c1ccccc1\n",
      "O=C(O)C(Br)Br\n",
      "CN1CC[NH+](CC(=O)N2c3ccccc3C(=O)Nc3cccnc32)CC1\n",
      "Cc1[nH]c(=[NH2+])sc1C\n",
      "O=C(O)c1cc([N+](=O)[O-])cc([N+](=O)[O-])c1\n",
      "Cc1c(C(F)(F)F)c(C(F)(F)F)c(C(F)(F)F)c(C(F)(F)F)c1C(F)(F)F\n",
      "CCC(C)(C)[NH3+]\n",
      "O=[N+]([O-])c1cccc2c1Nc1ccccc1O2\n",
      "Cc1ccccc1S(=O)(=O)NC(=O)N1CCC(N2CCC(Oc3ccc(Cl)c(Cl)c3)CC2)CC1\n",
      "Cc1ccc([NH+](C)C)cc1\n",
      "Nc1ccc2[nH+]ccnc2[nH+]1\n",
      "OC12C(F)(F)C3(F)C(F)(F)C(F)(C1(F)F)C(F)(F)C(F)(C2(F)F)C3(F)F\n",
      "CS(=O)(=O)O\n",
      "CC(C)(C)N[P+](N1CCCC1)(N1CCCC1)N1CCCC1\n",
      "[NH3+]CCSCCO\n",
      "C[NH2+]c1ccc(C)cc1\n",
      "O=[N+]([O-])c1cccc(S(=O)(=O)O)c1\n",
      "COc1nc(C)nc(NC(=O)NS(=O)(=O)c2ccccc2CCC(F)(F)F)n1\n",
      "Cc1ccc(S)cc1\n",
      "Cc1cc(C)c(O)c(C(C)(C)C)c1\n",
      "N#Cc1ccc(C[NH3+])cc1\n",
      "CCOc1ccc([NH3+])cc1\n",
      "Oc1ccc(C(F)(F)F)cc1\n",
      "CC[NH+](CC)c1ccccc1C\n",
      "CCn1cc(C(=O)O)c(=O)c2cc(F)c(N3CC[NH2+]CC3)nc21\n",
      "CCCCC[N@@H+](CC[N+]1(C)CCCCC1)c1ccccc1\n",
      "C=CCc1c(C)nc(N)[nH+]c1C\n",
      "O=C(O)c1ccccc1/N=N/c1ccc(O)c(O)c1\n",
      "CC(C)[C@H](N)C(=O)O\n",
      "CCOC(=O)c1cc([NH3+])ccc1[N+](=O)[O-]\n",
      "Cc1ccc(C(=O)NO)cc1\n",
      "C[NH2+]c1ccc(C(=O)OC)cc1\n",
      "Cc1nc(N)[nH+]cc1Br\n",
      "O=[N+]([O-])c1ccccc1O\n",
      "Oc1cccc(Cl)c1\n",
      "C[NH+](CCO)CCO\n",
      "N#Cc1cccc([NH3+])c1\n",
      "CCCC[NH2+]c1ccccc1\n",
      "CC(C)(C)c1cc(N=O)cc(C(C)(C)C)c1O\n",
      "N#Cc1ccc(C[C@@H](C(=O)O)N2CCC(C[NH+]3CCC(Oc4ccc(Cl)c(Cl)c4)CC3)CC2)cc1\n",
      "C[NH+]=C1CCCCC1\n",
      "Cc1cccc(C[NH2+]c2ccc([N+](=O)[O-])cc2[N+](=O)[O-])c1\n",
      "CCC[NH3+]\n",
      "O=[N+]([O-])c1ccc2c(c1)Oc1cc([N+](=O)[O-])cc([N+](=O)[O-])c1N2\n",
      "C[NH2+]C[C@H](O)c1ccc(OC)c(OC)c1\n",
      "CC(C)C[NH2+]c1ccccc1\n",
      "Nc1ccc2ccccc2[nH+]1\n",
      "Oc1cncnc1\n",
      "Cc1cccc(C(=O)O)c1C(=O)O\n",
      "O=[N+]([O-])c1cccc([N+](=O)[O-])c1O\n",
      "CNc1ncc(C(N)=O)c[nH+]1\n",
      "C[C@@H](O)C[N@H+](CCO)C(C)(C)C\n",
      "Oc1ccc(Cc2ccc(O)cc2)cc1\n",
      "O=S(=O)(N=C(NS(=O)(=O)C(F)(F)F)c1ccccc1)C(F)(F)F\n",
      "Clc1ccccc1C(c1ccccc1)(c1ccccc1)n1cc[nH+]c1\n",
      "CN(C)[P+](Nc1ccccc1)(N(C)C)N(C)C\n",
      "[NH3+]c1nc(=O)c2ncn(COCCO)c2[nH]1\n",
      "O=C(c1cccc(C(F)(F)F)c1)N(O)c1ccccc1\n",
      "C[NH+](C)c1ccc([N+](=O)[O-])cc1[N+](=O)[O-]\n",
      "CN(C)CCCC[NH+](C)C\n",
      "C1CCC2=NCCC[NH+]2CC1\n",
      "CC(C)(C)c1cc(C=O)cc(C(C)(C)C)c1O\n",
      "CC(C)[N@H+]1CCCC(=O)[C@H](O)CCC1\n",
      "CN(C)c1cccc2cccc([NH+](C)C)c12\n",
      "Cn1ccc(O)nc1=O\n",
      "c1ccc2c(c1)Sc1ccccc1N2CC[NH+]1CCCC1\n",
      "CC(C)(C)[NH2+]c1ccc(Br)cc1\n",
      "N#CC(C#N)=C(Cl)C(C#N)C#N\n",
      "COc1cccc(OC)[nH+]1\n",
      "CCOC(=O)[C@H](CCc1ccccc1)[NH2+][C@@H](C)C(=O)N1CCC[C@H]1C(=O)O\n",
      "C[C@H](CO)Nc1nc(SCc2cccc(F)c2F)nc2[nH]c(=O)cnc12\n",
      "[NH3+]c1ccccc1[N+](=O)[O-]\n",
      "O=C1c2cccc(O)c2C(=O)c2c(O)cccc21\n",
      "O=S(=O)(O)c1ccc(Cl)cc1\n",
      "O=C(O)Cc1ccccc1I\n",
      "Cc1ccc[nH+]c1N\n",
      "CC1(C)C[NH2+]CC(C)(C)C1\n",
      "Cc1c([N+](=O)[O-])cc(C(=O)O)cc1[N+](=O)[O-]\n",
      "CC(Br)(Br)C(=O)O\n",
      "CC(C)(S)CO\n",
      "O=C(O)/C=C/c1cccc(O)c1\n",
      "C1CN=C2CCC[NH+]2C1\n",
      "CSc1ccccc1[C@@H](O)C[NH2+]C(C)C\n",
      "[O-][Cl+3]([O-])([O-])O\n",
      "CC(C)c1ccc([NH3+])cc1\n",
      "O=C(O)c1ccc2cccccc1-2\n",
      "O=C([O-])[C@H](c1ccccc1)N1CCC([NH+]2CCC(Oc3ccc(Cl)c(Cl)c3)CC2)CC1\n",
      "CCCCCCC[NH3+]\n",
      "CCCc1c(C)nc(N)[nH+]c1C\n",
      "C[C@@H]([NH3+])[C@@H](O)c1ccc(O)cc1\n",
      "OC(C(F)(F)F)(C(F)(F)F)C(F)(F)F\n",
      "Cc1ccccc1C[NH3+]\n",
      "[NH3+]c1ccc(C(F)(F)F)cc1\n",
      "O=[N+]([O-])c1cc2c(c([N+](=O)[O-])c1)Nc1c(cc([N+](=O)[O-])cc1[N+](=O)[O-])O2\n",
      "CN1CCC[NH+]2CCCN=C12\n",
      "NCCC[NH3+]\n",
      "c1csc([C@@H]2CCC[NH2+]2)c1\n",
      "CCOC(=O)C(C#N)c1c(F)c(F)c2c(F)c(F)c(F)c(F)c2c1F\n",
      "c1ccc2[nH]ccc2c1\n",
      "O=C(O)[C@H](c1ccccc1)[NH+]1CCC(CN2CCC(Oc3ccc(Cl)c(Cl)c3)CC2)CC1\n",
      "Cc1cc(O)ccc1Cl\n",
      "N#CCC(=O)O\n",
      "COc1ccc(NS(=O)(=O)c2ccccc2)cc1\n",
      "CC(C)(C)CO\n",
      "[NH3+]c1ccc2nccnc2n1\n",
      "CO/N=C1\\CN(c2nc3c(cc2F)c(=O)c(C(=O)O)cn3C2CC2)C[C@@H]1CN\n",
      "N#Cc1ccc([NH3+])cc1\n",
      "C1CC[NH2+]CC1\n",
      "CC(C)[NH+](CCO)C(C)C\n",
      "O=S(=O)(NS(=O)(=O)C(F)(F)F)c1ccccc1\n",
      "CN(C)[C@@H]1CCc2c(ccc(O)c2O)C1\n",
      "Cc1cc(C(C)(C)C)cc(C)c1CC1=[NH+]CCN1\n",
      "[NH3+]CCC=C(Cl)Cl\n",
      "O=c1[nH]cc(S)c(=O)[nH]1\n",
      "O=C(O)Cc1cccc2ccccc12\n",
      "O=C(O)C(c1ccccc1)(c1ccccc1)c1ccccc1\n",
      "CCCC[NH+]1CC1\n",
      "[NH3+]CCC(Cl)(Cl)Cl\n",
      "[NH3+]c1cccc(Br)c1\n",
      "O=C(NCC12CC3CC(CC(C3)C1)C2)c1cc(CN2C[C@H]3C[NH2+]C[C@@H](C2)O3)ccc1Cl\n",
      "CC[C@@H](Oc1ccc(C(F)(F)F)cc1-c1ccc(S(=O)(=O)CC)cc1C)C(=O)O\n",
      "CNc1ncc(Br)c[nH+]1\n",
      "CC(C)OP(=O)(OCC[NH+](C)C)OC(C)C\n",
      "C1CC[C@@H]2CC[NH2+]C[C@H]2C1\n",
      "Oc1cccnc1\n",
      "[NH3+]c1cc(Br)cc(Br)c1\n",
      "[NH3+]CC1CCCCC1\n",
      "C1=CC=[N+]C=C1\n",
      "COc1cc2ncnc(Nc3ccc(F)c(Cl)c3)c2cc1NC(=O)/C=C/C[NH+]1CCCCC1\n",
      "Cc1cccc(N)[nH+]1\n",
      "CCCN(CCC)CCc1ccc(O)c(NC(C)=O)c1\n",
      "O=C(NCC12CC3CC(CC(C3)C1)C2)c1cc(CN2CC[NH2+]CC2)ccc1Cl\n",
      "[NH3+][C@@H]1C[C@H]1c1ccc(Br)cc1\n",
      "COc1ccc([C@@H]2CCC[N@H+]2C)cc1\n",
      "O=[N+]([O-])c1ccc(O)cc1C(F)(F)F\n",
      "O=c1[n-]c(=O)c(S)c[nH]1\n",
      "COc1c(N2CC[NH2+][C@H](C)C2)c(F)cc2c(=O)c(C(=O)O)cn(C3CC3)c12\n",
      "CN1CC[NH+](C)CC1\n",
      "N#Cc1cc([NH3+])cc([N+](=O)[O-])c1\n",
      "Cc1cc([N+](=O)[O-])ccc1C(=O)O\n",
      "CC(C)[NH2+]C[Si](C)(C)C\n",
      "Oc1ccc(Cl)c(Cl)c1\n",
      "Cc1ccc2ccccc2c1C(=O)O\n",
      "CC(C)[N@H+](CC[N+]1(C)CCCCC1)c1ccccc1\n",
      "[NH3+]CCCCCO\n",
      "C[NH+]1CCCCC1\n",
      "N#CC(C#N)c1c(F)c(F)c(C(F)(F)F)c(F)c1F\n",
      "Nc1cccc(N)[nH+]1\n",
      "CC(=O)O\n",
      "[NH3+][C@@H]1C=CCCC1\n",
      "CC(C)[NH2+]C[C@@H](O)COc1cccc2[nH]ccc12\n",
      "O=S(=O)(O)C(F)(F)F\n",
      "NC1=[NH+][C@H](c2ccco2)Nc2c(F)ccc(F)c21\n",
      "O=C(O)/C=C/c1ccccc1Br\n",
      "C1COCC[NH2+]1\n",
      "C[NH2+]Cc1ccccc1\n",
      "O=C(O)CCCO\n",
      "CC(C)(O)C(=O)O\n",
      "Cn1cc[nH+]c1C(=O)O\n",
      "O=C(O)c1cc(O)c(O)c(O)c1\n",
      "[NH3+]c1cccc2c1CCCC2\n",
      "[NH2+]=C(c1ccccc1)c1ccccc1O\n",
      "CC(C)C[C@H]([NH3+])c1ccccc1\n",
      "CC/C=C(/CC)C(=O)O\n",
      "CCOC(=O)c1ccc(O)cc1\n",
      "CC(C)(C[NH3+])C[NH3+]\n",
      "CCOC(=O)C(C(=O)OCC)c1c(F)c(F)c(F)c(F)c1F\n",
      "CC(C)[NH2+]C[C@H](O)c1ccc(F)c(F)c1\n",
      "NC1=[NH+][C@H](c2ccco2)Nc2ccccc21\n",
      "CC(=O)Nc1c(F)c(F)c(F)c(F)c1F\n",
      "CC[NH+]1CC1\n",
      "N#CC(C#N)=C(c1ccccc1)C(C#N)C#N\n",
      "C[NH+](C)[C@@H]1CCc2c(ccc(O)c2O)C1\n",
      "CC(=O)Nc1cccc[nH+]1\n",
      "Cc1nc(O)nc(C)c1C\n",
      "Cc1cc[nH+]c(N)c1N\n",
      "Oc1c(F)c(F)c(F)c2c(F)c(F)c(F)c(F)c12\n",
      "CN(C(=O)Cc1ccc(S(=O)(=O)N(C)C)cc1)C1CC[NH+](CCC(c2ccccc2)c2ccccc2)CC1\n",
      "[NH3+]Cc1cccc(Br)c1\n",
      "[NH3+]c1ccc2[nH+]ccnc2n1\n",
      "Cc1ccc(S(=O)(=O)NS(=O)(=O)c2ccc(Cl)c([N+](=O)[O-])c2)cc1\n",
      "COc1ccc([C@H](C[NH+](C)C)C2(O)CCCCC2)cc1\n",
      "O=C(O)CCCC(=O)O\n",
      "C[C@H](C(=O)O)c1cccc(C(=O)c2ccccc2)c1\n",
      "c1ccc(C[NH+](Cc2ccccc2)Cc2ccccc2)cc1\n",
      "[O-][n+]1ccc(O)cc1\n",
      "C[NH2+][C@H](C)CC1CCCCC1\n",
      "O=[N+]([O-])c1ccc2c(c1)Oc1cc([N+](=O)[O-])ccc1N2\n",
      "c1ccc2c(CC3=[NH+]CCN3)cccc2c1\n",
      "C[C@@H]1C[C@H](Oc2ccccc2)CC(C)(C)[NH2+]1\n",
      "[NH3+]CCCCc1ccccc1\n",
      "[NH2+]=C(c1ccccc1)c1ccc(O)cc1\n",
      "O=C(O)COc1ccc(Cl)cc1\n",
      "Nc1ccc2[nH+]ccnc2n1\n",
      "Cc1ccc(Cl)cc1[NH3+]\n",
      "COc1cccc(C[NH3+])c1\n",
      "CC(Cl)(Cl)C(=O)O\n",
      "c1ccc([NH2+]C2CCCCC2)cc1\n",
      "COc1cc(O)ncn1\n",
      "[NH3+]c1cc([N+](=O)[O-])ccc1F\n",
      "[NH3+]CCc1ccccn1\n",
      "Cc1cccc([C@@H](O)C[NH2+]C(C)C)c1\n",
      "Nc1c([N+](=O)[O-])cc([N+](=O)[O-])cc1[N+](=O)[O-]\n",
      "Cc1nc(C(=O)O)c(C)o1\n",
      "C=CCc1ccccc1OC[C@H](O)C[NH2+]C(C)C\n",
      "CCC[NH3+]\n",
      "I\n",
      "CC(C)[C@H]([NH3+])C(=O)O\n",
      "CCCC[NH+](C[C@@H](C)O)C[C@@H](C)O\n",
      "[NH3+][C@@H]1CCc2c(ccc(O)c2O)C1\n",
      "COCCO\n",
      "CN(C)[P+](Nc1ccccc1)(N(C)C)N(C)C\n",
      "[NH3+]c1ccc(Cl)cc1\n",
      "Cc1ccc(S(=O)(=O)NS(=O)(=O)c2ccc(C)cc2)cc1\n",
      "OCC(CO)(CO)CO\n",
      "N#CC(c1c(F)c(F)c(F)c(F)c1F)c1c(F)c(F)c(C(F)(F)F)c(F)c1F\n",
      "N#CC(c1c(F)c(F)nc(F)c1F)c1c(F)c(F)c(F)c(F)c1F\n",
      "COc1cc(OC)nc(Oc2cccc(Oc3nc(OC)cc(OC)n3)c2C(=O)O)n1\n",
      "c1ccc2c(c1)-c1cccc3c1C2c1ccccc1-3\n",
      "CO/N=C(\\C(=O)N[C@@H]1C(=O)N2C(C(=O)O)=C(COC(C)=O)CS[C@H]12)c1csc(N)n1\n",
      "Cc1cc([NH3+])cc(C)c1C\n",
      "Oc1c(Cl)ccc(Cl)c1Cl\n",
      "O=C([O-])[C@H](Cc1ccccc1)[NH+]1CCC(CN2CCC(Oc3ccc(Cl)c(Cl)c3)CC2)CC1\n",
      "CCn1cc(C(=O)O)c(=O)c2cc(F)c(N3CC[NH+](C)CC3)cc21\n",
      "COC(=O)c1ccc([NH+](C)C)cc1\n",
      "CCCCCC[N@@H+](CCO)C[C@@H](O)CC\n",
      "C1CN=C2NCCC[NH+]2C1\n",
      "COc1ccc(C2=CC3CCCCC3C3=C2OP(=O)(NS(=O)(=O)C(F)(F)F)Oc2c(-c4ccc(OC)cc4)cc4c(c23)CCCC4)cc1\n",
      "O=[N+]([O-])c1cc2ccccc2[nH]1\n",
      "O=C(O)COCCN1CCN([C@H](c2ccccc2)c2ccc(Cl)cc2)CC1\n",
      "CN(C)CC[NH+](C)C\n",
      "O=[N+]([O-])c1cc([N+](=O)[O-])c(Nc2c([N+](=O)[O-])cc([N+](=O)[O-])cc2[N+](=O)[O-])c([N+](=O)[O-])c1\n",
      "O=C1O[C@H]([C@@H](O)CO)C(O)=C1O\n",
      "C[C@H](Oc1ccc(Oc2ncc(C(F)(F)F)cc2Cl)cc1)C(=O)O\n",
      "Cc1ccc(S(=O)(=O)NS(=O)(=O)c2ccc([N+](=O)[O-])cc2)cc1\n",
      "[NH3+]CCCl\n",
      "CCCC[NH2+]C[C@H](O)c1ccc(O)cc1\n",
      "[NH3+]c1ccc(Br)cc1[N+](=O)[O-]\n",
      "Cc1c(F)c(F)c(C(C#N)c2ccccc2)c(F)c1F\n",
      "O=C(Nc1ccc(Cl)c(S(=O)(=O)N2CCNCC2)c1O)Nc1cccc(F)c1Cl\n",
      "O=C(O)CCC(=O)c1ccc2ccccc2c1\n",
      "C1CN=C2CCC[NH+]2C1\n",
      "CCc1cc(C(C)C)c(C)cc1O\n",
      "[O-][Cl+3]([O-])([O-])O\n",
      "CCC[P@@H](=O)O\n",
      "O=C(O)c1ccccc1Oc1ccccc1\n",
      "CCC(=O)N[C@@H](c1cccs1)c1cc(Cl)c2ccc[nH+]c2c1O\n",
      "C[C@](O)(C(=O)O)c1ccccc1\n",
      "Cc1cc(C)c(C(=O)O)c(C)c1\n",
      "O=C(O)CCCOc1ccc(Cl)cc1Cl\n",
      "C[C@H]1COc2c(N3CC[NH+](C)CC3)c(F)cc3c(=O)c(C(=O)O)cn1c23\n",
      "C[NH2+]Cc1ccc(OC)cc1\n",
      "Nc1c(S(=O)(=O)F)cc(S(=O)(=O)F)cc1S(=O)(=O)F\n",
      "CC(C)[NH2+]c1ccc([N+](=O)[O-])cc1\n",
      "CC(C)[C@H]([NH3+])C(=O)O\n",
      "Nc1ccccc1S\n",
      "CC(C)(C)c1ccccc1O\n",
      "CC1=[NH+]C[C@H](C)S1\n",
      "C=CCO\n",
      "CCOC(=O)C1(c2ccccc2)CC[NH+](C)CC1\n",
      "CC(C)C(C(C)C)[NH+](C)C\n",
      "O=C(O)CCS\n",
      "COc1ccccc1[NH3+]\n",
      "NCCCCC[NH3+]\n",
      "Cc1onc(-c2c(F)cccc2Cl)c1C(=O)N[C@@H]1C(=O)N2[C@@H](C(=O)O)C(C)(C)S[C@H]12\n",
      "CCOc1cccc(C[NH2+]C(Cc2ccccc2)Cc2ccccc2)c1\n",
      "[NH3+]c1cc2ccccc2cc1[N+](=O)[O-]\n",
      "O=C1c2ccccc2C(=O)c2c(O)ccc(O)c21\n",
      "CCCCCCCC[N@@H+](CC[N+]1(C)CCCCC1)c1ccccc1\n",
      "CCC[C@H](C)C(=O)O\n",
      "[NH3+]c1cccc(-c2cc(=O)c3c(ccc4ccccc43)o2)c1\n",
      "CN1CCC[NH+]2CCCN=C12\n",
      "O=C([O-])/C=C\\C(=O)O\n",
      "CCCC[C@H]([NH3+])c1ccccc1\n",
      "O=C(NC[C@@H](O)CN1CCC(Oc2ccc(Cl)c(Cl)c2)CC1)c1c[nH]c(=O)c2ccccc12\n",
      "Cc1ccccc1C[C@@H](C(=O)O)[NH+]1CCC(CN2CCC(Oc3ccc(Cl)c(Cl)c3)CC2)CC1\n",
      "C[C@H](CCC(C(=O)O)(c1ccccc1)c1ccccc1)[NH+](C)C\n",
      "COc1ccc(OC)c([NH3+])c1\n",
      "C[NH+]1CCN(c2cc3c(cc2F)c(=O)c(C(=O)[O-])cn3-c2ccc(F)cc2)CC1\n",
      "CCOC(=O)C(C#N)c1c(F)c(F)c(Cl)c(F)c1F\n",
      "COc1cccc(OC)c1C(=O)N[C@@H]1C(=O)N2[C@@H](C(=O)O)C(C)(C)S[C@H]12\n",
      "CC(C)[NH2+]C[C@H](O)c1ccc(-c2ccccc2)cc1\n",
      "C[NH2+]CC[C@H](Oc1ccc(C(F)(F)F)cc1)c1ccccc1\n",
      "CC(C)[NH2+]C[C@H](O)c1ccc(Cl)c(Cl)c1\n",
      "[NH3+]C1CC1\n",
      "[NH3+]c1ccc2ccccc2c1[N+](=O)[O-]\n",
      "C1=CC=[N+]C=C1\n",
      "OCC(Cl)Cl\n",
      "COC(=O)c1cc2nc([S@@](=O)Cc3ncccc3C)[nH]c2cc1C\n",
      "COc1ccc(C(=O)O)c2ccccc12\n",
      "Cc1cc([N+](=O)[O-])cc([N+](=O)[O-])c1O\n",
      "C1C[NH+]2CCC1CC2\n",
      "Cc1cc(C)nc(NC(=O)NS(=O)(=O)c2ccccc2C(=O)OC2COC2)n1\n",
      "C[NH+](C)c1ccccc1\n",
      "C[NH+](C)Cc1ccc2cccnc2c1O\n",
      "OCCC(F)F\n",
      "[NH3+]c1ccc(OC(F)(F)C(F)(F)F)cc1\n",
      "O=C(O)CC(Cl)(Cl)Cl\n",
      "C#CCc1c(C)nc(O)nc1C\n",
      "O=C(O)c1ccc([N+](=O)[O-])cc1\n",
      "O=S(=O)(O)O\n",
      "[NH3+]c1ccc(Cc2ccc([N+](=O)[O-])cc2)cc1\n",
      "CCCOC(=O)c1ccc([NH3+])cc1\n",
      "C[Si](C)(C)[NH2+][Si](C)(C)C\n",
      "CCCNC(=O)NS(=O)(=O)c1ccc(Cl)cc1\n",
      "CCC[NH+](CCC)CCC\n",
      "c1ccc(-c2cccc[nH+]2)nc1\n",
      "C[NH+]1CCCCC1\n",
      "COC(=O)c1ccccc1[NH3+]\n",
      "c1ccc2[nH+]cccc2c1\n",
      "O=[N+]([O-])c1cccc(S(=O)(=O)NS(=O)(=O)c2cccc([N+](=O)[O-])c2)c1\n",
      "COC(=O)c1c(Cl)nn(C)c1S(=O)(=O)NC(=O)Nc1nc(OC)cc(OC)n1\n",
      "Oc1ccc(/N=N/c2ccccc2)cc1\n",
      "CCO[Si](C)(C[NH3+])OCC\n",
      "C[C@H](CC(C#N)(c1ccccc1)c1ccccc1)[NH+]1CCOCC1\n",
      "COc1c(Cl)ccc(Cl)c1C(=O)O\n",
      "CO/N=C1\\CN(c2nc3c(cc2F)c(=O)c(C(=O)O)cn3C2CC2)C[C@@H]1C[NH3+]\n",
      "O=C(O)c1nc(Cl)ccc1Cl\n",
      "C[C@@H](C(=O)O)[N+](=O)[O-]\n",
      "O=C(O)Cc1ccc2ccccc2c1\n",
      "C1=C[NH2+]C=N1\n",
      "Oc1c(Cl)cc(Cl)cc1Cl\n",
      "COc1c(O)cccc1C[NH3+]\n",
      "Oc1ccccc1-c1ccccn1\n",
      "Oc1ccc(Br)cc1\n",
      "Oc1ccc(I)cc1\n",
      "[NH3+]c1ccc2c(c1)-c1ccccc1C2\n",
      "Oc1cccc(Cl)c1\n",
      "COC(=O)c1ccccc1S(=O)(=O)NC(=O)Nc1nc(C)cc(C)n1\n",
      "Cc1ccc(S(=O)(=O)NC(=O)N2CCC([NH+]3CCC(Oc4ccc(Cl)c(C)c4Cl)CC3)CC2)cc1\n",
      "COCCOc1ccccc1S(=O)(=O)NC(=O)Nc1nc(OC)nc(OC)n1\n",
      "[NH3+]c1c(Cl)cccc1Cl\n",
      "[NH3+]c1ccccc1\n",
      "CC(C)S(=O)(=O)c1ccc([NH3+])cc1\n",
      "O=[N+]([O-])c1ccc(C(=NS(=O)(=O)C(F)(F)F)NS(=O)(=O)C(F)(F)F)cc1\n",
      "O=C(O)c1cn(C2CC2)c2cc(N3CC[NH2+]CC3)c(F)cc2c1=O\n",
      "CCCCOc1cccc(C(=O)O)c1\n",
      "N#CC(c1c(F)c(F)c(F)c(F)c1F)c1c(F)c(F)c(Cl)c(F)c1F\n",
      "C[NH2+]c1ccc(Cl)cc1\n",
      "Nc1ncc(Br)c[nH+]1\n",
      "[NH3+]c1ccccc1Cl\n",
      "N#CC1=CC(C#N)C(C#N)=C1C#N\n",
      "CCCO[P@](C)(=O)SCC[NH+](C)C\n",
      "C[NH2+]C1CCCCC1\n",
      "C[Si](C)(C)CC[NH3+]\n",
      "CCCC[NH3+]\n",
      "c1ccc2n[nH+]ccc2c1\n",
      "COC(=O)[C@](C)(CC(=O)O)c1ccccc1\n",
      "C[NH+](C)C[C@H](O)c1ccc(O)cc1\n",
      "COc1cc([NH3+])cc2ccccc12\n",
      "O=C([N-]S(=O)(=O)c1ccc(Cl)cc1)N1CCC([NH+]2CCC(Oc3ccc(Cl)c(Cl)c3)CC2)CC1\n",
      "[NH3+]c1ccc(I)cc1\n",
      "C/C=C/C=C/C(=O)O\n",
      "CCOC(=O)C(C#N)c1c(F)c(F)c(F)c(F)c1F\n",
      "Oc1ccc2ccncc2c1\n",
      "Cc1c(F)c(F)c(C(C#N)c2c(F)c(F)c(C)c(F)c2F)c(F)c1F\n",
      "c1cc(CC[NH+]2CCCCC2)ccn1\n",
      "CC1(C)S[C@@H]2[C@H](NC(=O)[C@H]([NH3+])c3ccccc3)C(=O)N2[C@H]1C(=O)O\n",
      "[NH3+]c1cc([N+](=O)[O-])cc([N+](=O)[O-])c1\n",
      "CCC/C=C(/C)C(=O)O\n",
      "COc1ccc(OC)c([C@@H](O)CNC(=O)C[NH3+])c1\n",
      "CCC(=O)O[C@H](C)C[NH+](C)C\n",
      "COc1ccccc1-c1ccccc1O\n",
      "c1ccc(C[NH+](Cc2ccccc2)Cc2ccccc2)cc1\n",
      "O=C(O)c1ccc([N+](=O)[O-])c([N+](=O)[O-])c1\n",
      "COC(=O)c1sccc1S(=O)(=O)NC(=O)Nc1nc(C)nc(OC)n1\n",
      "[NH3+]c1cccc2c(Cl)cccc12\n",
      "O=P1(O)Oc2c(-c3cc4ccccc4c4ccccc34)cc3ccccc3c2-c2c(c(-c3cc4ccccc4c4ccccc34)cc3ccccc23)O1\n",
      "CCOC(=O)C(C#N)c1c(F)c(F)c(C(F)(F)F)c(F)c1F\n",
      "O=S(=O)(Cc1ccccc1)C(F)(F)F\n",
      "COc1ccc2c([NH3+])cccc2c1\n",
      "CC(C)[NH2+]C[C@H](O)c1cccc(-c2ccccc2)c1\n",
      "CC1CC[NH+]([C@@H](C)C=C(c2cccs2)c2cccs2)CC1\n",
      "OC[C@@H](O)[C@@H](O)[C@H](O)[C@@H](O)CS\n",
      "CCc1ccccc1O\n",
      "Cc1ccc2cccc(N)c2[nH+]1\n",
      "O=C([N-]S(=O)(=O)N1CCC([NH+]2CCC(Oc3ccc(Cl)c(Cl)c3)CC2)CC1)c1ccccc1\n",
      "C1NCC2C[NH2+]CC1C2\n",
      "C[NH+](C)c1ccccc1Br\n",
      "COCC(=O)O\n",
      "O=[N+]([O-])c1cccc([N+](=O)[O-])c1O\n",
      "Oc1ccc(Cl)c(Cl)c1\n",
      "COc1nc(C)nc(NC(=O)NS(=O)(=O)c2ccccc2OCCCl)n1\n",
      "N#CC(c1ccccc1)c1c(F)c(F)c(F)c(F)c1F\n",
      "CC(C)[C@H]1CCC[NH2+]C1\n",
      "O=[N+]([O-])c1cccc([N+](=O)[O-])c1O\n",
      "CC(=O)Oc1ccccc1C(=O)O\n",
      "C[N+](C)(C)c1cccc(CCC(=O)O)c1\n",
      "N#CC(O)=C(C#N)C#N\n",
      "NS(=O)(=O)c1cccc(C(F)(F)F)c1\n",
      "CC(C)(C)CC(C)(C)[NH3+]\n",
      "Oc1cc2ccccc2nn1\n",
      "[NH3+]Cc1c(F)c(F)c(F)c(F)c1F\n",
      "Oc1cccc(C(F)(F)F)c1\n",
      "CC[NH+](CC)CCC(c1ccccc1)c1ccccc1\n",
      "CN1CCN(c2ccc(-c3cc(NCC[NH+](C)C)c4ccccc4n3)cc2)CC1\n",
      "N#Cc1cccc(O)c1\n",
      "Oc1cccc(C(F)(F)F)c1\n",
      "O=C(O)[C@H]1CCC[NH2+]C1\n",
      "NC(=O)c1cnc(N)[nH+]c1\n",
      "CN(C)CC[NH+](C)C\n",
      "O=C(O)c1ccc(-c2ccc(Cl)c(C(=O)NCC34CC5CC(CC(C5)C3)C4)c2)cc1\n",
      "CCOC(=O)c1ccccc1[NH+](C)C\n",
      "CC[NH+](C)CC\n",
      "Cc1c([NH3+])ccc([N+](=O)[O-])c1C\n",
      "N#CC(C#N)c1c(F)c(F)cc(F)c1F\n",
      "O=C(NS(=O)(=O)C(F)(F)F)c1ccc([N+](=O)[O-])cc1\n",
      "COC(=O)c1ccccc1S(=O)(=O)NC(=O)N(C)c1nc(C)nc(OC)n1\n",
      "C[NH3+]\n",
      "[NH3+]c1ccc([N+](=O)[O-])c(Cl)c1\n",
      "O=S(=O)(C(c1ccccc1)S(=O)(=O)C(F)(F)F)C(F)(F)F\n",
      "O=[N+]([O-])c1cccc(S(=O)(=O)Nc2ccccc2)c1\n",
      "O=[N+]([O-])c1ccccc1O\n",
      "C[C@@H](CC(c1ccccc1)c1ccccc1)[NH+](C)C\n",
      "CCC[NH2+]Cc1ccccc1\n",
      "OC[C@H](O)CS\n",
      "[NH3+]C[C@@H]1Cc2c1ccc(O)c2O\n",
      "Br\n",
      "CC[NH2+]c1ccccc1\n",
      "O=S(=O)(NS(=O)(=O)c1ccc(Cl)cc1)c1ccc(Cl)cc1\n",
      "O=C(c1ccc(-c2nn[nH]n2)cc1)N1CCC([NH+]2CCC(Oc3ccc(Cl)c(Cl)c3)CC2)CC1\n",
      "COc1cccc(/C=C/C(=O)O)c1\n",
      "Cc1ccc(C(=[NH2+])c2ccccc2)c(C)c1\n",
      "O=C(O)Cc1ccc([N+](=O)[O-])cc1\n",
      "CC[C@@H](O)C(=O)O\n",
      "O=C(O)c1cccc(Br)c1\n",
      "CC[NH+](CC)c1ccc(C)cc1\n",
      "O=[N+]([O-])c1ccc(S(=O)(=O)NS(=O)(=O)c2ccc(Cl)c([N+](=O)[O-])c2)cc1\n",
      "CCOc1ccc(N/C(C)=[NH+]/c2ccc(OCC)cc2)cc1\n",
      "Oc1c(Br)cccc1Br\n",
      "O=C(O)c1ccc(O)cc1\n",
      "CCCCNc1ccc(C(=O)OCC[NH+](C)C)cc1\n",
      "CC[NH+]1CCC(C)CC1\n",
      "CC(C)(C)c1ccc([NH3+])cc1\n",
      "C=C[C@@H](Cl)C(=O)O\n",
      "CC(=O)c1cccc([NH3+])c1\n",
      "O=[N+]([O-])c1cc(Cl)cc([N+](=O)[O-])c1O\n",
      "c1ccc2[nH]ccc2c1\n",
      "Oc1c(F)c(F)c2c(F)c(F)c(F)c(F)c2c1F\n",
      "CC[C@@H]([NH3+])c1ccc(Br)cc1\n",
      "O=P1(NS(=O)(=O)C(F)(F)F)Oc2c(-c3cc(-c4ccccc4)cc(-c4ccccc4)c3)cc3cc2c2cc(cc(-c4cc(-c5ccccc5)cc(C5C=CC=CC5)c4)c2O1)c1cccc2c4cccc3c4c12\n",
      "[NH3+]c1cccc2cc([N+](=O)[O-])ccc12\n",
      "Cc1[nH]cc[nH+]1\n",
      "O=[N+]([O-])c1ccc2[nH]ccc2c1\n",
      "O=C([O-])[C@H](c1ccccc1)[NH+]1CCC(CN2CCC(Oc3ccc(Cl)c(Cl)c3)CC2)CC1\n",
      "Oc1ccc2ccccc2c1/N=N/c1ccccn1\n",
      "NCCCCC[NH3+]\n",
      "C[NH+](C)CCCN1c2ccccc2Sc2ccccc21\n",
      "CC(C)[NH+]1CCN(Cc2cnc(-c3cc(-c4cccc5[nH]ccc45)cc4[nH]ncc34)o2)CC1\n",
      "C[C@H]1CCC[NH2+]C1\n",
      "Cn1cc[nH+]c1C(=O)[O-]\n",
      "OCCCl\n",
      "CCN(CC)CCC[NH+](CC)CC\n",
      "N#CC(c1c(F)c(F)c(F)c(F)c1F)c1c(F)c(F)c(F)c(F)c1F\n",
      "N#Cc1ccc(C(F)(F)F)nc1O[C@H](CC[NH3+])c1ccno1\n",
      "CC(=O)[C@H](C[NH+]1CCOCC1)c1ccccc1\n",
      "Oc1cccc2nccnc12\n",
      "Oc1cccc2cncnc12\n",
      "CCCCc1cc(C)c(O)cc1C\n",
      "O=[N+]([O-])c1ccc([NH2+]Cc2ccccc2)c([N+](=O)[O-])c1\n",
      "C[C@H]1C[NH2+]1\n",
      "O=C(O)c1ccccc1O\n",
      "Cc1cccc(O)c1\n",
      "CCOCC[NH2+]CCOCC\n",
      "NCCCC[NH3+]\n",
      "O=C(O)[C@H](c1ccccc1)N1CCC(C[NH+]2CCC(Oc3ccc(Cl)c(Cl)c3)CC2)CC1\n",
      "NS(=O)(=O)c1ccc([N+](=O)[O-])cc1\n",
      "O=C(O)c1cccc([N+](=O)[O-])c1O\n",
      "CCOP(=O)(C[NH+](C)C)OCC\n",
      "c1ccc(-c2cccc[nH+]2)nc1\n",
      "CC(C)c1ccccc1[NH3+]\n",
      "Cc1ccnc2c(O)cccc12\n",
      "C[NH+](C)CCC(=O)Cc1ccccc1\n",
      "CC[NH+](CC)CCNC(=O)c1ccc(NC(C)=O)cc1\n",
      "CCC[N@H+](C)[C@@H]1CCc2ccccc2C1\n",
      "Cc1ccccc1[NH3+]\n",
      "CCCCCCCCC[NH3+]\n",
      "C[C@H]1C[C@H](O[N+](=O)[O-])[C@@H]2CCCC[C@H]2[NH2+]1\n",
      "C1C[NH2+]C1\n",
      "OCC[NH+](CCO)Cc1cccc(Br)c1\n",
      "CCOc1nc(F)cc2nc(S(=O)(=O)Nc3c(Cl)cccc3C(=O)OC)nn12\n",
      "CS(=O)(=O)NC(=O)CCCc1c(-c2ccc(F)cc2)[nH]c2ccc(C#N)cc12\n",
      "O=C(O)[C@H](O)c1cccc(Cl)c1\n",
      "Cc1cc(Cl)ccc1[NH3+]\n",
      "C[C@H]1CCC[C@@H](C)[NH+]1C\n",
      "O=C([O-])c1cn(C2CC2)c2cc(N3CC[NH2+]CC3)c(F)cc2c1=O\n",
      "C1CC[NH2+]C1\n",
      "O=C(NS(=O)(=O)N1CCC(N2CCC(Oc3ccc(Cl)c(Cl)c3)CC2)CC1)c1ccccc1\n",
      "Cc1cccc([NH+](C)C)c1\n",
      "COc1ccc([C@@H](O)C[NH2+]CC(C)C)cc1OC\n",
      "CC[N@H+]1CCC[C@@H](C)C1\n",
      "CC(C)C[NH+]1CCCC1\n",
      "C1CC[NH2+]CC1\n",
      "[NH3+][C@@H]1C[C@H]1c1ccc(F)cc1\n",
      "COc1ccccc1C(=[NH2+])c1ccccc1\n",
      "C[n+]1cccc2cc(O)ccc21\n",
      "O=S(=O)(N=C(NS(=O)(=O)C(F)(F)F)c1ccccc1)C(F)(F)F\n",
      "N#CC(c1ccc(C(F)(F)F)cc1)c1c(F)c(F)c(F)c(F)c1F\n",
      "C[C@@H]1CCCC[N@@H+]1CCCOC(=O)c1ccc(Cl)c(Cl)c1\n",
      "O=C(O)c1ccccc1\n",
      "CCCC[C@H]([NH3+])c1ccc(Cl)cc1\n",
      "O=C([O-])CCS\n",
      "Cc1ccc(C(C#N)C#N)cc1\n",
      "Clc1ccc[nH+]c1\n",
      "c1cnc2c(c1)ccc1ccc3ccc[nH+]c3c12\n",
      "O=[N+]([O-])c1cc(C2CCCCC2)c(O)c([N+](=O)[O-])c1\n",
      "N[C@@H]1CCc2cc(O)c(O)cc2C1\n",
      "c1c[nH+][nH]n1\n",
      "COc1ccc([NH3+])cc1[N+](=O)[O-]\n",
      "C=C1CC[N@@H+](C)C[C@H]1C\n",
      "CC[NH+](C)CC\n",
      "Nc1[nH+]cc(Cl)cc1Cl\n",
      "CCC[C@@H](C)[N@@H+](CC[N+]1(C)CCCCC1)c1ccccc1\n",
      "O=C(O)C(=O)O\n",
      "O=C(NCCS)NCCS\n",
      "CC(C)CC[NH2+]CCC(C)C\n",
      "CSc1ccccc1[NH3+]\n",
      "[NH3+]c1ccc(F)c([N+](=O)[O-])c1\n",
      "CSc1ccc([NH3+])cc1I\n",
      "O=[N+]([O-])c1cc([N+](=O)[O-])c(O)c([N+](=O)[O-])c1\n",
      "CCC[NH2+]CCC\n",
      "[NH3+][C@@H]1CCc2c(ccc(O)c2O)C1\n",
      "O=S(=O)(OCC(F)(F)CF)c1cc(S(=O)(=O)OCC(F)(F)CF)c(O)c(S(=O)(=O)OCC(F)(F)CF)c1\n",
      "C[NH2+]CC(=O)[O-]\n",
      "c1ccc2c(c1)CC[NH2+]C2\n",
      "Cc1nc2ccccc2nc1O\n",
      "CCC[C@@H]1CCCC[NH2+]1\n",
      "Cc1ccc(CC(=O)O)cc1\n",
      "C1C[NH+]2CCC1CC2\n",
      "O=S(=O)([O-])CCS\n",
      "Fc1c(F)c(F)c(Nc2c(F)c(F)c(F)c(F)c2F)c(F)c1F\n",
      "O=C(O)c1cccc2cccc(C(=O)O)c12\n",
      "Nc1[nH]c2ccccc2[nH+]1\n",
      "Cc1ccc(O)cc1C\n",
      "CCCOc1ccccc1C(=O)O\n",
      "CC[C@@H](C)C(=O)O\n",
      "c1cncc(C[NH+]2CCCC2)c1\n",
      "CN(C)[P+](NC(C)(C)C)(N(C)C)N(C)C\n",
      "CC1=CCCC[N@H+]1C\n",
      "Cc1cccc(CCC(=O)O)c1\n",
      "N#CCc1ccc([N+](=O)[O-])cc1\n",
      "O=C(O)CCc1cccc(Cl)c1\n",
      "C[NH+]1CC(C)(C)CC(C)(C)C1\n",
      "CC=CC=CC(=O)O\n",
      "COc1cc([NH3+])c2ccccc2c1\n",
      "COc1ccc([NH3+])cc1Br\n",
      "O=S(=O)(c1cc(S(=O)(=O)C(F)(F)F)c(O)c(S(=O)(=O)C(F)(F)F)c1)C(F)(F)F\n",
      "Oc1ccc(C(F)(F)F)cc1\n",
      "CCOCCS\n",
      "CC(=O)c1ccc(O)cc1\n",
      "Cc1cc(C[N@@H+](CC(=O)Nc2ccc(Cl)cc2Cl)C2CCCCC2)ccc1OCC(=O)[O-]\n",
      "O=C(O)C(F)(F)Cl\n",
      "Nc1ccc([NH3+])nc1\n",
      "COc1ccc(Cl)cc1[NH3+]\n",
      "O=[N+]([O-])c1ccccc1O\n",
      "c1ccc2[nH+]c3ccccc3cc2c1\n",
      "C[NH+]1CCCCC1\n",
      "[NH3+]c1ccc(Cc2ccccc2)cc1\n",
      "C[NH+]1CCN(CC(=O)N2c3ccccc3C(=O)Nc3cccnc32)CC1\n",
      "O=[N+]([O-])c1cccc(S)c1\n",
      "NC(N)=NCC[NH+]1CCCCCCC1\n",
      "CCCCC[C@H](O)C(C)(C)[NH3+]\n",
      "Cc1ccc([NH3+])cc1[N+](=O)[O-]\n",
      "O=C(NCC12CC3CC(CC(C3)C1)C2)c1cc(C[NH+]2CCNCC2)ccc1Cl\n",
      "CC(C)[NH2+]C[C@H](O)c1ccccc1[N+](=O)[O-]\n",
      "CC(C)(C)c1cc([N+](=O)[O-])cc(C(C)(C)C)c1O\n",
      "N[NH3+]\n",
      "CC[NH+](C)CC\n",
      "CC[NH+](CC)CCCCCC#N\n",
      "CCC(=O)O[C@]1(c2ccccc2)CC[N@H+](C)C[C@@H]1C\n",
      "C[C@@H](CO)[NH2+]CCc1ccc(O)c(O)c1\n",
      "c1ccc2[nH+]c[nH]c2c1\n",
      "CC(C)C[NH+](CC(C)C)CC(C)C\n",
      "O=[N+]([O-])c1ccc(Cl)cc1O\n",
      "O=C(O)[C@H](O)CCl\n",
      "COc1c(N2C[C@@H]3CCCN[C@@H]3C2)c(F)cc2c(=O)c(C(=O)O)cn(C3CC3)c12\n",
      "CCC(=O)C(C[C@H](C)[NH+](C)C)(c1ccccc1)c1ccccc1\n",
      "CC[C@@H](C)[NH3+]\n",
      "O=C1C=C[NH2+]C(=O)N1\n",
      "NS(=O)(=O)c1cccc(Cl)c1\n",
      "Nc1nc(-c2ccccn2)[nH+]c(N)c1Cc1ccc(Cl)cc1Cl\n",
      "[NH3+]c1ccc2c(c1)Cc1c-2ccc2ccccc12\n",
      "O=C(O)C=CC(=O)O\n",
      "O=C(O)c1cc(I)cc(I)c1O\n",
      "C[C@H]([NH3+])C(=O)O\n",
      "[NH3+]c1ccccc1\n",
      "c1ccc(/N=N/c2cccc[nH+]2)cc1\n",
      "O=C(O)C(F)(F)F\n",
      "Cc1ccc(S(=O)(=O)O)cc1\n",
      "C[C@H]1CC[N@H+](C)C(C)(C)C1\n",
      "O=C(Nc1ccc([NH+]2CCOCC2)c(F)c1)c1nnc(Nc2ccccc2F)o1\n",
      "CC(C)[C@H]([NH3+])c1ccccc1\n",
      "C1CCC2=NCCC[NH+]2CC1\n",
      "O=[N+]([O-])c1cc(Br)c(O)c(Br)c1\n",
      "Cc1cn(Cc2ccccc2)c(=O)[nH]c1=O\n",
      "CCOC(=O)c1ccc([NH3+])cc1\n",
      "CSc1cc(O)ncn1\n",
      "CCCC[N@H+](C)[C@@H]1CCc2ccccc2C1\n",
      "O=S(=O)(O)C(F)(F)F\n",
      "CCOc1cccc(C(=O)O)c1CO\n",
      "[NH3+]c1ccc(OC(F)(F)F)cc1\n",
      "CCOC(=O)C(C#N)c1c(F)c(F)nc(F)c1F\n",
      "O=C(O)CCl\n",
      "CC(C)Sc1ccc([NH3+])cc1\n",
      "CS(=O)(=O)CC(=O)O\n",
      "Cc1cc([N+](=O)[O-])c[nH+]c1N\n",
      "Cc1cccc[nH+]1\n",
      "Oc1ccccc1/N=N/c1ccccc1O\n",
      "N#CC1c2ccccc2-c2ccccc21\n",
      "NCCCC[NH3+]\n",
      "OC(C(F)(F)F)(C(F)(F)F)C(F)(F)F\n",
      "CC(C)[NH2+]C[C@H](O)c1ccc(C(F)(F)F)cc1\n",
      "COC(=O)c1cc2nc([S@@](=O)Cc3[nH+]cccc3C)[nH]c2cc1C\n",
      "C[NH2+]C\n",
      "C[NH+](C)Cc1ccccn1\n",
      "N#CC(c1c(F)c(F)c2c(F)c(F)c(F)c(F)c2c1F)c1c(F)c(F)c2c(F)c(F)c(F)c(F)c2c1F\n",
      "[NH3+]c1cc(Br)c2ccccc2c1\n",
      "NCC[NH3+]\n",
      "C1CC[NH2+]CC1\n",
      "C[C@H](CN1c2ccccc2Sc2ccccc21)[NH+](C)C\n",
      "[NH3+]CCBr\n",
      "C[NH+]1CCN(c2c(F)cc3c(=O)c(C(=O)O)cn(CCF)c3c2F)CC1\n",
      "[NH3+]c1ccc2ccc(Cl)cc2c1\n",
      "CC(C)[NH2+]C(C)C\n",
      "CCc1ccccc1[NH3+]\n",
      "C[NH+](C)[C@@H]1CCc2c(ccc(O)c2O)C1\n",
      "O=c1n(CCC[NH+]2CCN(c3cccc(Cl)c3)CC2)nc2ccccn12\n",
      "O=C(O)CCCCC(=O)O\n",
      "Cc1ccc([NH+](C)C)c(C)c1\n",
      "O=C(O)COc1ccc([N+](=O)[O-])cc1\n",
      "O=[N+]([O-])C1=CN=C[NH2+]1\n",
      "O=C(O)c1cc(/N=N/c2ccc(Cl)cc2)ccc1O\n",
      "O=C(O)c1ccccc1C(=O)c1ccccc1\n",
      "[NH3+]C[C@@H]1Cc2c1ccc(O)c2O\n",
      "c1ccc(C[NH+]2CCCC2)cc1\n",
      "N#CC(c1c(F)c(F)c(C(F)(F)F)c(F)c1F)c1c(F)c(F)c(C(F)(F)F)c(F)c1F\n",
      "O=C([O-])[C@H]1CCC[NH2+]C1\n",
      "C[NH2+]CC[C@@H](Oc1cc(C(F)(F)F)ccc1C#N)c1ccccc1\n",
      "CN(C)CCC[NH+](C)C\n",
      "CC(C)[NH2+]C[C@H](O)c1ccc(Cl)cc1\n",
      "CCCC[C@@H](CC)COP(=O)(O)OC[C@H](CC)CCCC\n",
      "O=C(O)CF\n",
      "Oc1ccc2nccnc2c1\n",
      "CCC(CC)n1nc(C)c(C(=O)N[C@@H](C)C(C)(C)C)c1NS(=O)(=O)c1ccc(C)cc1\n",
      "C=CCS\n",
      "COc1cccc(N)[nH+]1\n",
      "c1cc(C[NH+]2CCCC2)ccn1\n",
      "NS(=O)(=O)c1ccc(Cl)cc1\n",
      "CC(C)CC[C@H]([NH3+])c1ccccc1\n",
      "CC(C)(C)c1cc([NH3+])cc(C(C)(C)C)c1[N+](=O)[O-]\n",
      "CC(C)[C@@H]1CC[C@@H](C)C[C@@H]1[NH3+]\n",
      "CN1CC[NH+](C)CC1\n",
      "Oc1c(F)c(F)c(F)c(F)c1F\n",
      "Fc1c(F)c(F)c2c(c1F)Cc1c(F)c(F)c(F)c(F)c1-2\n",
      "CC(C)[NH2+]C[C@H](O)c1ccccc1\n",
      "O=[N+]([O-])c1ccc(S(=O)(=O)O)c([N+](=O)[O-])c1\n",
      "Nc1ccc([NH3+])cn1\n",
      "CCCC(=O)C(CC[NH+]1CCOCC1)(c1ccccc1)c1ccccc1\n",
      "[NH3+]c1ccc(C(F)(F)F)cc1\n",
      "COC(=O)c1cccc([NH+](C)C)c1\n",
      "CCOC(=O)c1cc[nH+]c(N)c1\n",
      "C[C@@H](C(=O)NS(C)(=O)=O)c1ccc(OS(=O)(=O)C(F)(F)F)cc1\n",
      "O=[N+]([O-])c1cc([N+](=O)[O-])c(O)c([N+](=O)[O-])c1\n",
      "[O-][Cl+3]([O-])([O-])O\n",
      "CCOC(=O)[C@H](CCc1ccccc1)N[C@@H](C)C(=O)N1CCC[C@H]1C(=O)O\n",
      "O=C(O)[C@H]1CCC[NH2+]1\n",
      "Cc1cc(C[N@H+]2Cc3ccccc3[C@@H]2C(=O)Nc2ccc(Cl)cc2Cl)ccc1OCC(=O)O\n",
      "CC(=O)N(C)c1cccc[nH+]1\n",
      "CN1C(C(=O)Nc2ccccn2)=C(O)c2ccccc2S1(=O)=O\n",
      "Cc1c(C(F)(F)F)c(C(F)(F)F)c(C(F)(F)F)c(C(F)(F)F)c1C(F)(F)F\n",
      "Cc1cc([NH3+])cc(C)c1[N+](=O)[O-]\n",
      "CN(C)c1ccc(S(=O)(=O)NC(=O)N2CCC([NH+]3CCC(Oc4ccc(Cl)c(Cl)c4)CC3)CC2)cc1\n",
      "[NH3+]c1ccc(F)cc1F\n",
      "Oc1c(Br)cc(Br)cc1Br\n",
      "Oc1c(/N=N/c2ccccn2)ccc2ccccc12\n",
      "C[NH2+][C@H](C)Cc1ccc(OC)c(OC)c1\n",
      "C[C@H]([NH3+])C(=O)[O-]\n",
      "CC(C)(C)N[P+](N1CCCC1)(N1CCCC1)N1CCCC1\n",
      "[NH3+][C@H]1CCN(c2c(F)cc3c(=O)c(C(=O)O)cn(C4CC4)c3c2Cl)C1\n",
      "Cc1ccc(C)c(O)c1\n",
      "c1ccc([C@@H]2CCC[NH2+]2)cc1\n",
      "C1C[NH2+]1\n",
      "CS(=O)(=O)c1ccc([NH3+])c(Cl)c1\n",
      "CC[NH+](CCCl)CCCl\n",
      "O=S(=O)(NS(=O)(=O)c1ccccc1)c1ccccc1\n",
      "C[NH+](C)c1ccccc1\n",
      "Oc1ccc(C(F)(F)F)cc1\n",
      "N#C[C@H]1C[NH+]2CCC1CC2\n",
      "OCC[NH2+]CCO\n",
      "N#CC(C#N)c1c(C(F)(F)F)cc(C(F)(F)F)c(C(F)(F)F)c1C(F)(F)F\n",
      "O=C(O)c1ccc([N+](=O)[O-])cc1\n",
      "CC[N@@H+]1C[C@@H](C)C[C@@H](O)[C@@H]1[C@H](C)c1ccc2c(c1C)C[C@@H]1[C@H]2CC=C2C[C@H](O)CC[C@@]21C\n",
      "Cc1nc2ccc(-c3ccc(Cl)cc3)cc2c(=O)n1C[C@H]1CCC[N@@H+](C(C)C)C1\n",
      "O=S(=O)(N=C(NS(=O)(=O)C(F)(F)F)c1ccc(Cl)cc1)C(F)(F)F\n",
      "CC(=O)c1ccc([NH3+])cc1\n",
      "C1CC[C@H]2[NH2+]CCC[C@H]2C1\n",
      "O=[N+]([O-])c1ccc([N+](=O)[O-])c(O)c1\n",
      "CCCSc1ccc2[nH+]c(NC(=O)OC)[nH]c2c1\n",
      "C[NH+](C)CCc1ccc(O)cc1\n",
      "CC(=O)C[C@H](c1ccccc1)c1c(O)c2ccccc2oc1=O\n",
      "CCc1cccc2c3c([nH]c12)[C@](CC)(CC(=O)O)OCC3\n",
      "CCC(C)(CC)[NH2+]c1ccccc1\n",
      "C1=C[NH2+]C=N1\n",
      "CCCC[C@@H]1CCC[N@H+]1C\n",
      "Nc1ccc([N+](=O)[O-])c[nH+]1\n",
      "N#CC(C#N)=C(C(C#N)C#N)C(F)(F)F\n",
      "CCOC(=O)N1CCC(c2cc(=O)n(-c3ccccc3)[nH]2)CC1\n",
      "Cc1ccccc1C(=[NH2+])c1ccccc1\n",
      "[NH3+]c1cc(I)cc([N+](=O)[O-])c1\n",
      "O=[N+]([O-])c1cc(Cl)c(O)c([N+](=O)[O-])c1\n",
      "CSc1c(I)cc([NH3+])cc1I\n",
      "NS(=O)(=O)c1cccc(C(F)(F)F)c1\n",
      "[NH3+]c1ccccc1\n",
      "C[NH2+]CC(=O)O\n",
      "CCC[NH3+]\n",
      "C[NH+](C)C1CCCCC1\n",
      "Oc1ncc2ccccc2n1\n",
      "CC[N@@H+](CCO)C[C@@H](C)O\n",
      "Cc1cc(O)cc(C)c1C#N\n",
      "O=C([O-])CS\n",
      "O=S(=O)(O)O\n",
      "CN(C)CCCC[NH+](C)C\n",
      "C1CCC2=NCCC[NH+]2CC1\n",
      "[NH3+]CCCc1ccccc1\n",
      "Cc1nnc(C(C)C)n1C1C[C@@H]2CC[C@H](C1)[NH+]2CC[C@H](NC(=O)C1CCC(F)(F)CC1)c1ccccc1\n",
      "COC(=O)CCC[NH3+]\n",
      "CC(=O)Oc1c[nH]c2ccccc12\n",
      "Cc1c(C#N)c(C#N)c(C#N)c(C#N)c1C#N\n",
      "C=CC[NH+]1CCOCC1\n",
      "Oc1ccc(Cl)c2cccnc12\n",
      "Cc1ccc([NH3+])cc1Br\n",
      "C[C@H](Cc1ccccc1)[NH2+]CCC#N\n",
      "CSc1ccc(O)cc1\n",
      "CC1(C)CC(O)CC(C)(C)[NH2+]1\n",
      "CC[NH+](CC)CCCl\n",
      "[NH3+]c1cccc2ccccc12\n",
      "O=S(=O)(O)c1cccc2ccccc12\n",
      "[NH3+][C@@H]1CCc2c(ccc(O)c2O)C1\n",
      "COc1c(N2CC[NH2+][C@H](C)C2)c(F)cc2c(=O)c(C(=O)[O-])cn(C3CC3)c12\n",
      "COCCC[NH+](C)C\n",
      "CCCCCCCC[NH+](C[C@@H](C)O)C[C@@H](C)O\n",
      "CC[P@@H](=O)O\n",
      "CCCCC[NH3+]\n",
      "O=[N+]([O-])c1cc(O)cc([N+](=O)[O-])c1\n",
      "O=[N+]([O-])c1ccc(C(=NS(=O)(=O)C(F)(F)F)NS(=O)(=O)C(F)(F)F)cc1\n",
      "CCCc1ccccc1[NH3+]\n",
      "CCC[NH+](CCC)[C@@H]1CCc2c(O)cccc2C1\n",
      "COc1ccc([C@@]2(c3cccc(-c4cncnc4)c3)N=C(C)C(N)=[NH+]2)cc1C\n",
      "COC(=O)[C@@H]1[C@@H](OC(=O)c2ccccc2)C[C@@H]2CC[C@H]1[N@H+]2C\n",
      "CC(C)(O)c1ccccc1CC[C@@H](SCC1(CC(=O)[O-])CC1)c1cccc(/C=C/c2ccc3ccc(Cl)cc3[nH+]2)c1\n",
      "C[C@@H]([NH3+])CC1CCCCC1\n",
      "CC(C)[NH+](CCCl)CCCl\n",
      "O=[N+]([O-])c1ccc(S(=O)(=O)Nc2ccccc2)cc1\n",
      "CC[NH+]1CCCCC1\n",
      "CC[NH2+]CC\n",
      "OC(C(F)(F)F)(C(F)(F)F)C(F)(F)F\n",
      "CC(C)Cc1ccc([C@@H](C)C(=O)NS(C)(=O)=O)cc1\n",
      "CCOc1ccc(-c2ccccc2O)cc1\n",
      "CC(C)CC[N@@H+](CC[N+]1(C)CCCCC1)c1ccccc1\n",
      "CC(C)(C)c1ccccc1[NH3+]\n",
      "CCOC(=O)[C@H](CCc1ccccc1)[NH2+][C@@H](C)C(=O)N1CCC[C@H]1C(=O)O\n",
      "O=[N+]([O-])c1cc(S(=O)(=O)NS(=O)(=O)c2c(F)c(F)c(F)c(F)c2F)ccc1Cl\n",
      "C[C@@H]1[C@@H](C)C(C)(C)[NH2+]C1(C)C\n",
      "CO/N=C1\\CN(c2nc3c(cc2F)c(=O)c(C(=O)[O-])cn3C2CC2)C[C@@H]1C[NH3+]\n",
      "CN(C)[P+](N)(N(C)C)N(C)C\n",
      "[NH3+]c1ccc(SC(F)(F)F)cc1\n",
      "CCOc1ccccc1OS(=O)(=O)NC(=O)Nc1nc(OC)cc(OC)n1\n",
      "CCc1ccc(O)c2sc(C)c(C)c12\n",
      "CCOC(=O)C(C#N)c1c(F)c(F)c(F)c(F)c1F\n",
      "[NH3+]c1cccc(Cl)c1\n",
      "CCC(CC)NC(=O)c1nnn(-c2ccccc2)c1NS(=O)(=O)c1ccc(C)cc1\n",
      "I\n",
      "Cc1c(F)c(F)c(C(C#N)c2c(F)c(F)c(C)c(F)c2F)c(F)c1F\n",
      "O=C(O)C(Br)CBr\n",
      "O=[N+]([O-])c1ccc(O)c([N+](=O)[O-])c1\n",
      "C1CC[NH2+]CC1\n",
      "Oc1ccc2c(c1)CCCC2\n",
      "Cc1ccc(S(=O)(=O)NS(=O)(=NS(=O)(=O)C(F)(F)F)c2ccc(Cl)cc2)cc1\n",
      "Nc1cc(Cl)cc[nH+]1\n",
      "Oc1ccc(/N=N/c2ccccn2)c2ccccc12\n",
      "CC(=O)CCC(=O)O\n",
      "[NH3+]c1ccccc1C=O\n",
      "CC[NH+](CC)CCC#N\n",
      "O=S(=O)(C(c1c(F)c(F)c(F)c(F)c1F)S(=O)(=O)C(F)(F)F)C(F)(F)F\n",
      "Oc1ccccc1S\n",
      "CN1CCC[NH+]2CCCN=C12\n",
      "OC(C(F)(F)F)C(F)(F)F\n",
      "Cc1cc(C[N@@H+]2Cc3ccccc3C[C@H]2C(=O)Nc2ccc(Cl)cc2Cl)ccc1OCC(=O)[O-]\n",
      "Cc1cccc(C[NH3+])c1\n",
      "C[NH2+]C\n",
      "C[NH+](C)CCc1ccccn1\n",
      "CN1C(C(=O)Nc2cccc[nH+]2)=C(O)c2ccccc2S1(=O)=O\n",
      "O=C(O)CBr\n",
      "CCOC(=O)N1CCC(Nc2cc(Cl)cc[nH+]2)CC1\n",
      "CC[NH+](CC)CCC[C@H](C)Nc1ccnc2cc(Cl)ccc12\n",
      "C[C@@H](C=C(c1cccs1)c1cccs1)[N@H+]1CCC[C@@H](C)C1\n",
      "OCC[NH2+]C(CO)(CO)CO\n",
      "CCCCNC(=O)NS(=O)(=O)c1ccc(C)cc1\n",
      "Sc1ccc(Cl)cc1\n",
      "OCC[NH+](CCO)CCc1ccccc1\n",
      "[NH3+]c1cccc(C(=O)OC(F)(F)C(F)(F)F)c1\n",
      "CNCC(=O)O\n",
      "COc1ccc(S(N)(=O)=O)cc1\n",
      "O=C(O)C(O)C(O)C(=O)O\n",
      "C[NH3+]\n",
      "Oc1c(Cl)cc(Cl)c(Cl)c1Cl\n",
      "Cn1c(=O)c2nc[nH]c2n(C)c1=O\n",
      "CC1CCC([NH3+])CC1\n",
      "c1c[nH][nH+]c1\n",
      "Cc1c[nH+]c(N)c([N+](=O)[O-])c1\n",
      "O=S(=O)(NS(=O)(=O)c1c(F)c(F)c(F)c(F)c1F)c1ccc(Cl)cc1\n",
      "CN(C)c1ccccc1S(=O)(=O)NC(=O)N1CCC(N2CCC(Oc3ccc(Cl)c(Cl)c3)CC2)CC1\n",
      "COc1ccc(C(=NS(=O)(=O)C(F)(F)F)NS(=O)(=O)C(F)(F)F)cc1\n",
      "[NH3+]c1ccc2ccc([N+](=O)[O-])cc2c1\n",
      "O=C1NS(=O)(=O)c2ccccc21\n",
      "O=C(O)CCCCc1ccccc1\n",
      "CC(C)C[NH+](C)C\n",
      "C[NH+](C)c1cccc([N+](=O)[O-])c1\n",
      "O=S(=O)(F)C(S(=O)(=O)F)S(=O)(=O)F\n",
      "N#CC(O)=C(C#N)C#N\n",
      "C[NH2+][C@H](C)[C@@H](O)c1ccccc1\n",
      "COc1cc([NH3+])cc(OC)c1\n",
      "C[C@@H](O)C[NH+](Cc1ccccc1)C[C@@H](C)O\n",
      "NC(Nc1ccccc1)=[NH+]c1ccccc1\n",
      "C[NH2+]CCCCO\n",
      "CCCOC(C(=O)OC1CC[NH+](C)CC1)(c1ccccc1)c1ccccc1\n",
      "C[NH2+][C@@H]1CCC[C@H]1O\n",
      "COc1cc2[nH+]c(N3CCN(C(=O)c4ccco4)CC3)nc(N)c2cc1OC\n",
      "CC[NH+](CC)c1ccc(Br)cc1\n",
      "[NH3+]CCc1c[nH]c2ccccc12\n",
      "O=C(O)c1ccccc1Cl\n",
      "[NH3+]c1ccc2[nH+]ccnc2n1\n",
      "CN/C(NC#N)=[NH+]/CCSCc1nc[nH]c1C\n",
      "Cc1cc(-c2ccc(Cl)c(C(=O)NCC3(O)CCCCCC3)c2)nn1C[C@H](O)C[NH3+]\n",
      "CC[C@@H]([NH3+])CO\n",
      "Cc1csc(C(=O)O)n1\n",
      "CC[N@@H+]1CCC[C@H]1C\n",
      "COC(=O)[C@@H]([C@H](C(=O)O)C(C)(C)C)C(C)(C)C\n",
      "C[NH+]1CCCC1\n",
      "CCCCCCCC[NH2+]CCCCCCCC\n",
      "CNc1nc(O)cc[nH+]1\n",
      "COC(=O)[C@H](CC(=O)O)c1ccc([N+](=O)[O-])cc1\n",
      "Cc1cc([N+](=O)[O-])cc2c1Nc1ccccc1O2\n",
      "C[C@@H]([NH3+])CCCc1ccc(O)cc1\n",
      "C[C@H]([NH3+])c1ccccc1Cl\n",
      "N#CC(C#N)c1c(F)c(F)cc(F)c1F\n",
      "Oc1cccc2cc3ccccc3nc12\n",
      "CC[NH+](CC)CCNC(=O)c1ccc(NS(C)(=O)=O)cc1\n",
      "COC(=O)[C@H](CC(=O)O)c1ccccc1\n",
      "c1ccc(C[C@@H]2CCC[NH2+]2)cc1\n",
      "[NH3+]c1cc([N+](=O)[O-])cc2ccccc12\n",
      "O=[N+]([O-])c1cc([N+](=O)[O-])c(O)c([N+](=O)[O-])c1\n",
      "CC(C)[NH2+]C[C@@H](O)COc1ccc(COCCOC(C)C)cc1\n",
      "N#CC(C#N)C#N\n",
      "CCC[NH+](CC)CC\n",
      "Cc1cncnc1O\n",
      "CC(C)c1ccccc1C(=O)O\n",
      "c1ccc(C[NH+]2CCCCC2)nc1\n",
      "Cc1cc(C)c(C)c(O)c1\n",
      "O=[N+]([O-])c1ccc(S(=O)(=O)NS(=O)(=O)c2ccc(Cl)c([N+](=O)[O-])c2)cc1\n",
      "Oc1ccccc1C(F)(F)F\n",
      "Oc1c(F)c(F)c(F)c2c(F)c(F)c(F)c(F)c12\n",
      "[NH3+]c1cccc(C(F)(F)F)c1\n",
      "C/C=C/C(=O)O\n",
      "C[NH2+]c1cccc(C)c1\n",
      "CC(=O)OO\n",
      "[NH3+]CCCO\n",
      "Oc1ccc(-c2ccccc2)cc1\n",
      "O=C(O)c1cccc([N+](=O)[O-])c1\n",
      "CC(C)c1cccc(O)c1\n",
      "O=C(O)c1c(O)cccc1O\n",
      "Cc1ccc(S(=O)(=O)NS(=O)(=O)c2ccc(Cl)cc2)cc1\n",
      "N[C@@H]1CCc2cc(O)c(O)cc2C1\n",
      "CC(C)(C)C[NH2+]c1ccccc1\n",
      "[NH3+]c1ccc(C2CC2)cc1\n",
      "C[n+]1cc(O)c2ccccc2c1\n",
      "Cc1ccc2cccc(O)c2n1\n",
      "O=S(=O)(OCC(F)(F)F)c1cc(S(=O)(=O)OCC(F)(F)F)c(O)c(S(=O)(=O)OCC(F)(F)F)c1\n",
      "[NH3+]C1CCC(C(=O)O)CC1\n",
      "O=C([O-])[C@H](c1ccccc1)[NH+]1CCC(N2CCC(Oc3ccc(Cl)c(Cl)c3)CC2)CC1\n",
      "O=[N+]([O-])c1cccc([NH2+][C@H]2CCc3ccccc32)c1\n",
      "[NH3+]c1ccc(S(=O)(=O)C(F)(F)F)cc1\n",
      "[NH3+]c1cccc(SC(F)(F)C(F)F)c1\n",
      "O=C(O)c1cc([N+](=O)[O-])ccc1O\n",
      "CCN(CC)CCNC(=O)c1ccc(NS(C)(=O)=O)cc1\n",
      "[NH3+]C[C@@H]1Cc2c1ccc(O)c2O\n",
      "CC[N@@H+]1CCC[C@H]1CNC(=O)c1cc(S(N)(=O)=O)ccc1OC\n",
      "C[N+](C)(C)CCc1ccc(O)cc1\n",
      "c1ccc(C[NH+](Cc2ccccc2)Cc2ccccc2)cc1\n",
      "CC(=O)c1ccccc1[NH3+]\n",
      "O=C(CCl)NO\n",
      "CCC[NH3+]\n",
      "C1=C[NH2+]C=N1\n",
      "CO/N=C1\\CN(c2nc3c(cc2F)c(=O)c(C(=O)O)cn3C2CC2)C[C@@H]1C[NH3+]\n",
      "C[NH+](C)c1cccc([N+](C)(C)C)c1\n",
      "C[NH+]1CCCC(=O)CCC1\n",
      "C[NH+](C)C\n",
      "O=C1c2ccccc2C(=O)c2c1ccc(O)c2O\n",
      "N#CC(c1c(F)c(F)nc(F)c1F)c1c(F)c(F)c(F)c(F)c1F\n",
      "c1ccc2c(c1)-c1cccc3c1C2c1ccccc1-3\n",
      "C[NH2+]CCc1ccccn1\n",
      "[NH3+]c1ccccc1\n",
      "O=C(NS(=O)(=O)C(F)(F)F)c1ccccc1\n",
      "N#CC(C#N)=CC(C#N)C#N\n",
      "Cc1c(C2(c3cc(Br)c(O)c(Br)c3C)OS(=O)(=O)c3ccccc32)cc(Br)c(O)c1Br\n",
      "O=P1(NS(=O)(=O)C(F)(F)C(F)(F)C(F)(F)C(F)(F)F)Oc2c(-c3ccccc3)cc3c(c2-c2c4c(cc(C5C=CC=CC5)c2O1)CCCC4)CCCC3\n",
      "CC1=CCCC[NH2+]1\n",
      "c1ccc2[nH+]ccnc2c1\n",
      "O=S(=O)(c1ccccc1)N1CC[NH+](Cc2ccccc2)CC1\n",
      "c1c[nH+][nH]n1\n",
      "O=[N+]([O-])c1ccc([NH+]2CCCCC2)c([N+](=O)[O-])c1\n",
      "C[NH+](C)c1ccc([N+](=O)[O-])cc1\n",
      "CCCc1ccc(O)c2ncccc12\n",
      "C[NH2+]Cc1cccc([N+](=O)[O-])c1\n",
      "[NH3+]CC(Cl)(Cl)Cl\n",
      "Cc1ccc(S(=O)(=O)NC(=O)NN2CCCCCC2)cc1\n",
      "O=S(=O)(NS(=O)(=O)C(F)(F)C(F)(F)F)C(F)(F)C(F)(F)F\n",
      "CCOC(=O)N1CCC2(CC1)Nc1cccc(Cl)c1C(N)=[NH+]2\n",
      "CN(C)c1cccc2cccc([NH+](C)C)c12\n",
      "O=C(c1cc([N+](=O)[O-])cc(C(F)(F)F)c1)N(O)c1ccccc1\n",
      "Oc1ccccc1\n",
      "CC(=C(C#N)C#N)C(C#N)C#N\n",
      "Cc1nn(-c2ccccc2)c(NC(=O)NS(=O)(=O)c2ccc(Cl)cc2)c1C#N\n",
      "C[NH+]1CCN(c2c(F)cc3c(=O)c(C(=O)[O-])cn(CCF)c3c2F)CC1\n",
      "[NH3+]CCCBr\n",
      "C[C@H](CCC(C(=O)[O-])(c1ccccc1)c1ccccc1)[NH+](C)C\n",
      "CN(C)CC[NH+](C)C\n",
      "c1ccc(C([NH2+]CC2CCCCC2)c2ccccc2)cc1\n",
      "Oc1c(Cl)cc(Br)cc1Cl\n",
      "CCCCC[C@@H]([NH3+])c1ccccc1\n",
      "O=C(O)[C@H](CO)c1ccccc1\n",
      "Cc1cc(C)cc([NH2+][C@H]2CCc3ccccc32)c1\n",
      "CO\n",
      "Nc1c(S(=O)(=O)F)cc(S(=O)(=O)F)cc1S(=O)(=O)F\n",
      "Cc1cc(O)cc(C)c1[N+](=O)[O-]\n",
      "O=C(O)c1ccc(Br)cc1\n",
      "O=C(O)[C@@H](Br)CBr\n",
      "O=[N+]([O-])c1ccc(NS(=O)(=O)c2ccc(Cl)c(C(F)(F)F)c2)c(Cl)c1\n",
      "Cc1cc(C)cc([NH3+])c1\n",
      "CN(C)[P+](NC(C)(C)C)(N(C)C)N(C)C\n",
      "C[NH+]1CCC1\n",
      "N#CC1=CC(C#N)C=C1C#N\n",
      "O=C(O)[C@H](O)C(Cl)(Cl)Cl\n",
      "C[NH2+]Cc1cccc(C)n1\n",
      "O=C(O)[C@H](c1ccccc1)N1CCC(CN2CCC(Oc3ccc(Cl)c(Cl)c3)CC2)CC1\n",
      "O=C(O)c1cc([N+](=O)[O-])cc([N+](=O)[O-])c1O\n",
      "O=[N+]([O-])c1ccc(O)c([N+](=O)[O-])c1\n",
      "C[C@H]1C[C@@H](C)C[NH+](C)C1\n",
      "CN1CCC[NH+]2CCCN=C12\n",
      "CN(C)C(=N)[NH+](C)C\n",
      "Oc1ccc2ccccc2n1\n",
      "C[C@@H]1CCC[N@H+](C)C1\n",
      "N#CC(C#N)S(=O)(=O)C(F)(F)F\n",
      "CC[NH2+]c1ccc([N+](=O)[O-])cc1\n",
      "CC(C)[NH2+]C[C@H](O)c1ccccc1C(F)(F)F\n",
      "COCC[NH2+]CCOC\n",
      "c1ccc2[nH]ccc2c1\n",
      "COC(=O)C[C@@H](C(=O)O)c1ccccc1\n",
      "COc1ccc([N+](=O)[O-])cc1[NH3+]\n",
      "[NH3+][C@H]1CCCC[C@@H]1Cl\n",
      "C[NH2+]c1ccc(Cl)cc1[N+](=O)[O-]\n",
      "CC[NH+](CC)c1ccc([N+](=O)[O-])cc1[N+](=O)[O-]\n",
      "O=S(=O)(Nc1ccccc1)c1ccc(Cl)cc1\n",
      "[NH3+]c1ccc(Br)c([N+](=O)[O-])c1\n",
      "Sc1ccccc1\n",
      "Cc1cc([N+](=O)[O-])cc([N+](=O)[O-])c1O\n",
      "COc1ccc(S(=O)(=O)Nc2ccccc2)cc1\n",
      "c1ccc(C(CC[NH+]2CCOCC2)c2ccccc2)cc1\n",
      "[NH3+]c1ccc([C@@]23CCC[C@@H]2C3)cc1\n",
      "CCOC(=O)c1cc([NH3+])cc([N+](=O)[O-])c1\n",
      "Oc1cnc2ccccc2n1\n",
      "C[C@@H]1CC[NH2+][C@H](C)C1\n",
      "CC(C)[NH2+]C[C@H](O)c1ccccc1Br\n",
      "CC(C)(C(=O)[O-])c1ccc([C@@H](O)CCC[NH+]2CCC(C(O)(c3ccccc3)c3ccccc3)CC2)cc1\n",
      "Oc1cc(Cl)c(Cl)c(Cl)c1Cl\n",
      "CCNc1nccc[nH+]1\n",
      "O=S(=O)(c1cc(S(=O)(=O)C(F)(F)F)c(O)c(S(=O)(=O)C(F)(F)F)c1)C(F)(F)F\n",
      "Oc1cccc(O)c1\n",
      "O=C(c1ccccc1)[C@@H](C[NH+]1CCOCC1)c1ccccc1\n",
      "CC1=NN(C(=O)CCS)[C@H](C(=O)O)S1\n",
      "c1cnc[nH+]c1\n",
      "CC[NH2+]C[C@H](O)c1cccc(O)c1\n",
      "O=C(O)COCC[NH+]1CCN([C@H](c2ccccc2)c2ccc(Cl)cc2)CC1\n",
      "C[NH+](C)CCCO\n",
      "CC(C)[NH2+]C[C@H](O)c1cccc(F)c1\n",
      "O=C(O)C(=O)O\n",
      "N#CC(C#N)=C(N)C(C#N)C#N\n",
      "Oc1nc(O)nc(O)n1\n",
      "CCC[NH2+][C@@H](C)C(=O)Nc1ccccc1C\n",
      "O=C1C(O)=C(Oc2ccccc2)C(=O)C([O-])=C1Oc1ccccc1\n",
      "C[C@H](CS)C(=O)N1CCC[C@H]1C(=O)O\n",
      "[NH3+]c1cccc(-c2cc(=O)c3ccccc3o2)c1\n",
      "CC(C)C[NH3+]\n",
      "Oc1ccc(C(F)(F)F)cc1\n",
      "CC1=[NH+]CC(C)(C)S1\n",
      "Cc1cc(C)c([NH3+])c(C)c1\n",
      "Cc1cccc(C)c1C(=[NH2+])c1ccccc1\n",
      "Cc1c([N+](=O)[O-])cc([N+](=O)[O-])cc1[N+](=O)[O-]\n",
      "C[NH2+]CC[C@H](O)c1ccccc1\n",
      "Nc1[nH]c2cccc3cccc([nH+]1)c32\n",
      "CC(C)N1CC[NH+](Cc2cnc(-c3cc(-c4cccc5[nH]ccc45)cc4[nH]ncc34)o2)CC1\n",
      "C[NH+](C)[C@@H]1CCc2ccccc2C1\n",
      "CCCCCCC[N@@H+](CC[N+]1(C)CCCCC1)c1ccccc1\n",
      "CS(=O)(=O)c1ccc([NH3+])cc1Cl\n",
      "CSc1c(Cl)cc([NH3+])cc1Cl\n",
      "CC(C)(C(=O)[O-])C(=O)O\n",
      "Cc1ccc(NS(=O)(=O)c2ccccc2)cc1\n",
      "CCC(=O)C(CC[NH+](C)C)(c1ccccc1)c1ccccc1\n",
      "c1ccc(CSc2nc3ccccc3[nH]2)[nH+]c1\n",
      "C=C[C@H]1C[N@@H+]2CC[C@H]1C[C@@H]2[C@@H](O)c1ccnc2ccc(OC)cc12\n",
      "[NH3+]c1cccc(I)c1\n",
      "c1ccc(CC[NH+]2CCCCC2)nc1\n",
      "[NH3+][C@@H]1CCc2cc(O)c(O)cc2C1\n",
      "O=C1c2cccc(O)c2C(=O)c2cccc(O)c21\n",
      "N#Cc1cccc(S(N)(=O)=O)c1\n",
      "CCOP(=O)(OCC)SCC[NH+](C)C\n",
      "O=C1C[C@H](S)C(=O)[N-]1\n",
      "CN(c1cccc[nH+]1)S(C)(=O)=O\n",
      "O=C1NC(=O)C([N+](=O)[O-])C(=O)N1\n",
      "O=S(=O)(Nc1ccc(Cl)cc1)c1ccccc1\n",
      "O=C(O)CCCCC(=O)O\n",
      "C[N@@H+]1CCC[C@H]1c1cccnc1\n",
      "O=[N+]([O-])c1ccc(S)cc1\n",
      "O=C(NC[C@@H](O)C[NH+]1CCC(Oc2ccc(Cl)c(Cl)c2)CC1)c1c[nH]c(=O)c2ccccc12\n",
      "CC(C)[NH2+]C[C@H](O)c1ccc(F)cc1\n",
      "COc1cccc(C[NH3+])c1O\n",
      "O=C(O)CCc1ccc(Cl)cc1\n",
      "C#CC[NH+](CC)CC\n",
      "CCCC[NH2+]CCCC\n",
      "CCCC(=O)OCC[NH+](C)C\n",
      "[NH3+]c1ccc(Cl)cc1[N+](=O)[O-]\n",
      "CCC[NH+](CC)CC\n",
      "CN(C)c1c(F)c(F)c(Nc2c(F)c(F)c(F)c(F)c2F)c(F)c1F\n",
      "NCC[NH3+]\n",
      "COC(=O)c1nc2c(N[C@H](C)CO)nc(SCc3cccc(F)c3F)nc2[nH]c1=O\n",
      "CC[NH+](CC)CCO\n",
      "c1cncc(CC[NH+]2CCCC2)c1\n",
      "CCCO[P@@](C)(=O)OCC[NH+](C)C\n",
      "CC1(C)S[C@@H]2[C@H](NC(=O)[C@H](NC(=O)N3CCNC3=O)c3ccccc3)C(=O)N2[C@H]1C(=O)O\n",
      "N#CC(C#N)c1cccc(C(F)(F)F)c1\n",
      "C[C@@H]([NH3+])Cc1ccc(O)cc1\n",
      "O=c1c(F)c(F)[nH]c(F)c1F\n",
      "CO[C@@]1(NC(=O)CSCC#N)C(=O)N2C(C(=O)O)=C(CSc3nnnn3C)CS[C@@H]21\n",
      "c1ccc(C[NH+](Cc2ccccc2)Cc2ccccc2)cc1\n",
      "O=C([O-])COCC[NH+]1CCN([C@H](c2ccccc2)c2ccc(Cl)cc2)CC1\n",
      "CCCC(=O)SCC[NH+](C)C\n",
      "CCOC(=O)C(C#N)c1c(F)c(F)c(C(F)(F)F)c(F)c1F\n",
      "C[C@@H]([NH3+])[C@@H](O)c1ccc(O)c(O)c1\n",
      "CCC[NH+](C)C\n",
      "C[Si](C)(C)CCC[NH3+]\n",
      "O=S(=O)(Cc1ccccc1)C(F)(F)F\n",
      "Oc1cccc2ncncc12\n",
      "Cc1cc(N)nc(Nc2ccc(Cl)cc2)[nH+]1\n",
      "C1C[NH+]2CCC1CC2\n",
      "[NH3+]c1ccc(F)cc1[N+](=O)[O-]\n",
      "[NH3+]C[C@H](O)c1ccc(Cl)c(Cl)c1\n",
      "O=C(NS(=O)(=O)N1CCC([NH+]2CCC(Oc3ccc(Cl)c(Cl)c3)CC2)CC1)c1ccccc1\n",
      "COc1ccc2c(c1)C(=O)N(CCc1ccc(S(=O)(=O)NC(=O)NC3CCCCC3)cc1)C(=O)C2(C)C\n",
      "Cc1ccc([NH+]2CCCC2)cc1\n",
      "CCCCOC(=O)c1ccc([NH3+])cc1\n",
      "Nc1[nH+]ccc2ccccc12\n",
      "c1ccc2[nH+]ccnc2c1\n",
      "Cc1cc(C[N@@H+](CC(=O)Nc2ccc(Cl)cc2Cl)C2CCCCC2)ccc1OCC(=O)O\n",
      "Oc1cccc2nnccc12\n",
      "[NH3+]c1ccc2cccc([N+](=O)[O-])c2c1\n",
      "N#CC(c1c(F)c(F)c2c(F)c(F)c(F)c(F)c2c1F)c1c(F)c(F)c2c(F)c(F)c(F)c(F)c2c1F\n",
      "O=[N+]([O-])c1cccc([N+](=O)[O-])c1O\n",
      "C[NH2+]c1ccccc1C(=O)OC\n",
      "[NH3+]c1cc(I)cc2ccccc12\n",
      "C[NH+](C)C\n",
      "Cc1ccc(C2=CCC[NH2+]2)cc1\n",
      "[NH2+]=C1CCCCC1\n",
      "O=C(O)CCCCCCCC(=O)O\n",
      "CC(C)C1CC[NH2+]CC1\n",
      "C[C@@H](Cc1ccc(C(C)(C)C)cc1)C[NH+]1CCCCC1\n",
      "CN1CC[NH+](C)CC1\n",
      "CCC(=O)O\n",
      "[NH3+]Cc1ccccc1Cl\n",
      "COc1ccc([NH3+])cc1\n",
      "CSc1cc(Cl)c([NH3+])c(Cl)c1\n",
      "Oc1cncc2ccccc12\n",
      "O=C(COc1ccc(Cl)cc1)NO\n",
      "CCCCC1=CCC[N@@H+]1C\n",
      "O=C(O)CO\n",
      "C[C@H]([NH3+])C(=O)O\n",
      "C[NH+](C)CC/C=C1\\c2ccccc2COc2ccccc21\n",
      "Fc1nc(F)c(F)c(Nc2ccccc2)c1F\n",
      "CN(C)CC[NH+](C)C\n",
      "O=[N+]([O-])c1cc(-c2ccccc2)ccc1O\n",
      "c1ccc2[nH+]c(-c3cscn3)[nH]c2c1\n",
      "CC(C)(C)c1cc([NH3+])cc(C(C)(C)C)c1\n",
      "C[C@H]([NH3+])c1ccc(Cl)cc1\n",
      "N[NH3+]\n",
      "[NH3+]CC(Cl)Cl\n",
      "[NH3+]CC(F)(F)F\n",
      "O=C(O)C[N+](=O)[O-]\n",
      "CCOC(=O)N1CC[NH+](C)CC1\n",
      "O=S(=O)(C(c1ccccc1)S(=O)(=O)C(F)(F)F)C(F)(F)F\n",
      "CCCC[NH+](CCCl)CCCl\n",
      "NS(=O)(=O)c1ccc(F)cc1\n",
      "O=[S@@](Cc1ccccn1)c1nc2ccccc2[nH]1\n",
      "O=[N+]([O-])c1cc([N+](=O)[O-])c(O)c([N+](=O)[O-])c1O\n",
      "CC1CC[NH+](C)CC1\n",
      "O=C(O)c1ccc([C@@]23CCCC[C@@H]2C3)cc1\n",
      "CC(C)(C)[N@H+]1CCCC(=O)[C@H](O)CCC1\n",
      "c1ccc(CCC[NH2+]C(CC2CCCCC2)CC2CCCCC2)cc1\n",
      "C[C@H]([NH3+])c1cccc(C(F)(F)F)c1\n",
      "[NH3+]c1ccccc1Cl\n",
      "COCCc1ccc(OC[C@H](O)C[NH2+]C(C)C)cc1\n",
      "Cc1cc(Br)cc(C)c1[NH3+]\n",
      "CC[NH+](CC)CCC(C)=O\n",
      "Oc1ccc2ccnnc2c1\n",
      "[NH3+]CCc1c[nH]cn1\n",
      "O=C([O-])[C@@H]1Cc2c([nH]c3ccccc23)[C@H](c2ccccc2)[NH2+]1\n",
      "[NH3+]Cc1ccccc1\n",
      "CC(=O)N[C@H](C(=O)[O-])C(C)(C)S\n",
      "Oc1ccnc2ccccc12\n",
      "C[C@@H]1COc2c(N3CC[NH+](C)CC3)c(F)cc3c(=O)c(C(=O)[O-])cn1c23\n",
      "CC(C)C[N@@H+](CC[N+]1(C)CCCCC1)c1ccccc1\n",
      "O=[N+]([O-])c1ccc(S(=O)(=O)O)c([N+](=O)[O-])c1\n",
      "CC(=O)NCCS\n",
      "O=C1C(O)=C(Oc2ccccc2)C(=O)C(O)=C1Oc1ccccc1\n",
      "CN(C)[P+](NC(C)(C)C)(N(C)C)N(C)C\n",
      "CC[C@@](CC(=O)OC)(Cc1ccc([N+](=O)[O-])cc1)C(=O)O\n",
      "c1ccc2[nH]ccc2c1\n",
      "O=[N+]([O-])c1ccc([NH2+]Cc2cccc(F)c2)c([N+](=O)[O-])c1\n",
      "O=C(O)c1ccc2c(c1)C(=O)c1ccccc1C2=O\n",
      "[NH4+]\n",
      "O=[N+]([O-])c1ccc2[nH]ccc2c1\n",
      "O=C(c1ccccc1C(F)(F)F)N(O)c1ccccc1\n",
      "COc1ccc([C@@H]2C[C@H]2[NH3+])cc1\n",
      "NCCCCC[NH3+]\n",
      "Cl\n",
      "CSc1ccc([NH3+])cc1\n",
      "CSc1ccc([NH3+])cc1Cl\n",
      "CCOc1cccc(O)c1\n",
      "O=C(O)/C=C/c1ccccc1[N+](=O)[O-]\n",
      "O=[N+]([O-])c1ccc(O)c([N+](=O)[O-])c1\n",
      "CCC[NH2+]C[C@H](O)c1ccc(O)c(O)c1\n",
      "CC1=C(CC(=O)O)c2cc(F)ccc2/C1=C\\c1ccc([S@](C)=O)cc1\n",
      "C/C=C(/C)C(=O)O\n",
      "CCOCC(=O)O\n",
      "[NH3+]c1cccc2cc(Cl)ccc12\n",
      "N#CC(c1c(F)c(F)c(F)c(F)c1F)c1c(F)c(F)c(F)c(F)c1F\n",
      "C1CCC([NH2+]C2CCCCC2)CC1\n",
      "CC(C)(C)S\n",
      "O=C(O)c1c(Cl)ccc2cc(Cl)cnc12\n",
      "O=C(NCC12CC3CC(CC(C3)C1)C2)c1cc(N2CC[NH2+]CC2)ncc1Cl\n",
      "[NH3+]c1ccc(C2CCCCC2)cc1\n",
      "C[NH2+]CCO\n",
      "C/[NH+]=C(\\NC#N)NCCSCc1nc[nH]c1C\n",
      "N#CC(C#N)c1c(C(F)(F)F)cc(C(F)(F)F)c(C(F)(F)F)c1C(F)(F)F\n",
      "CC[NH2+]CCC(=O)C(c1ccccc1)c1ccccc1\n",
      "CCc1cccc([NH3+])c1\n",
      "CCn1cc(C(=O)[O-])c(=O)c2cc(F)c(N3CC[NH2+]CC3)nc21\n",
      "C[C@H]1CN(c2c(F)c(N)c3c(=O)c(C(=O)[O-])cn(C4CC4)c3c2F)C[C@@H](C)[NH2+]1\n",
      "CN(C)c1ccc(S(=O)(=O)NC(=O)N2CCC(N3CCC(Oc4ccc(Cl)c(Cl)c4)CC3)CC2)cc1\n",
      "O=S(=O)(N=C(NS(=O)(=O)C(F)(F)F)c1ccc(Cl)cc1)C(F)(F)F\n",
      "O=C([O-])COc1ccc(Cl)cc1C[NH+]1CCC(S(=O)(=O)c2ccccc2)CC1\n",
      "C[N@@H+]1CCC[C@H]1c1ccc[nH+]c1\n",
      "[NH3+]CCO\n",
      "CCC[NH2+]c1ccccc1\n",
      "O=C(O)c1cccc(C(=O)O)c1\n",
      "CC(C)(O)c1ccccc1CC[C@@H](SCC1(CC(=O)O)CC1)c1cccc(/C=C/c2ccc3ccc(Cl)cc3[nH+]2)c1\n",
      "C[NH+]1[C@H]2CC[C@@H]1CC(OC(=O)[C@H](CO)c1ccccc1)C2\n",
      "Cc1cccc(O)c1C(=O)O\n",
      "Cc1c(F)c(F)c(C(C#N)c2c(F)c(F)c(F)c(F)c2F)c(F)c1F\n",
      "C[NH+](C)CCOC(c1ccccc1)c1ccccc1\n",
      "O=C(O)COc1ccccc1F\n",
      "C[C@H]1C[NH+]=C(N)c2sccc2O1\n",
      "C[N+](C)(C)c1ccc(CC(=O)O)cc1\n",
      "CCOC(=O)c1cc(C(C)(C)C)c(O)c(C(C)(C)C)c1\n",
      "COc1cccc([NH3+])c1\n",
      "CCc1ccc(O)cc1\n",
      "N#CC(C#N)=C(Br)C(C#N)C#N\n",
      "O=[N+]([O-])c1ccc(O)cc1\n",
      "c1cnc[nH+]c1\n",
      "COC(=O)c1ccc(I)cc1S(=O)(=O)NC(=O)Nc1nc(C)nc(OC)n1\n",
      "CC[N@@H+](CC[N+]1(C)CCCCC1)c1ccccc1\n",
      "NS(=O)(=O)c1cccc([N+](=O)[O-])c1\n",
      "Oc1ccccc1\n",
      "O=[N+]([O-])c1ccc(S(=O)(=O)NS(=O)(=O)C(F)(F)F)cc1\n",
      "CCS\n",
      "O=C(O)COc1cccc(F)c1\n",
      "CCCCP(=O)(CCCC)[C@@](C)(O)C(=O)O\n",
      "O=C(O)/C=C/c1ccccc1\n",
      "N#CC(C#N)=C(C#N)C(C#N)C#N\n",
      "C[NH2+]C[C@H](O)c1ccc(O)c(OC)c1\n",
      "N#Cc1c(F)c(F)c(N)c(F)c1F\n",
      "O=[N+]([O-])c1ccc([NH2+]Cc2ccc(F)cc2)c([N+](=O)[O-])c1\n",
      "c1ccc(CSc2nc3ccccc3o2)[nH+]c1\n",
      "N#CC(c1ccc(C(F)(F)F)cc1)c1c(F)c(F)c(F)c(F)c1F\n",
      "O=C(O)CCc1ccccc1\n",
      "C[C@H]1COc2c(N3CCN(C)CC3)c(F)cc3c(=O)c(C(=O)O)cn1c23\n",
      "C[N+](C)(C)CCCc1cccc(O)c1\n",
      "Nc1ccc2[nH+]ccnc2[nH+]1\n",
      "Nc1nccc[nH+]1\n",
      "CCC[NH+](CCC)CCc1ccc(O)c(NC(C)=O)c1\n",
      "CCOC(=O)[C@H](CCc1ccccc1)[NH2+][C@@H](C)C(=O)N1CCC[C@H]1C(=O)[O-]\n",
      "O=C(O)/C=C(/c1ccccc1)C(F)(F)F\n",
      "O=P(NP(=O)(C(F)(F)C(F)(F)F)C(F)(F)C(F)(F)F)(C(F)(F)C(F)(F)F)C(F)(F)C(F)(F)F\n",
      "[NH3+]CCCCCBr\n",
      "C[C@@H]([NH3+])[C@@H](O)c1ccccc1\n",
      "CCC(=O)SCC[NH+](C)C\n",
      "CN(C)[P+](N)(N(C)C)N(C)C\n",
      "CN(C)CCC[NH+](C)C\n",
      "CC(C)[NH2+]C[C@H](O)c1ccccc1Cl\n",
      "CCC([NH3+])(CC)CC\n",
      "O=S(=O)(Cc1ccc(C(F)(F)F)cc1)C(F)(F)F\n",
      "Oc1cccc(Cl)c1Cl\n",
      "Oc1cccc(Br)c1\n",
      "O=C(O)/C=C/c1cccc(Cl)c1\n",
      "CC(C)(C)c1cc(O)cc(C(C)(C)C)c1\n",
      "COc1ccccc1N1CCN(CCCCNC(=O)c2ccc(-c3cscn3)cc2)CC1\n",
      "N#CC1c2ccccc2-c2ccccc21\n",
      "CCCC[NH3+]\n",
      "O=C(O)C(F)F\n",
      "Fc1c(F)c(F)c(C2c3ccccc3-c3ccccc32)c(F)c1F\n",
      "C[N@H+](Cc1ccccc1)CC(c1ccccc1)c1ccccc1\n",
      "c1ccc(CSc2[nH]c3ccccc3[nH+]2)cc1\n",
      "Cc1cc(O)cc(O)c1C(=[NH2+])c1ccccc1\n",
      "COc1ccc(S(=O)(=O)[N-]C(=O)N2CCC([NH+]3CCC(Oc4ccc(Cl)c(Cl)c4)CC3)CC2)cc1\n",
      "O=[N+]([O-])c1cc([N+](=O)[O-])c(Nc2c([N+](=O)[O-])cc([N+](=O)[O-])cc2[N+](=O)[O-])c([N+](=O)[O-])c1\n",
      "O=C(O)Cn1c(=O)sc2cccc(Cl)c21\n",
      "CSc1ccc([NH3+])c([N+](=O)[O-])c1\n",
      "[NH3+]c1ccc2c3c(cccc13)CC2\n",
      "O=C(O)c1ncc(-c2ccccc2)o1\n",
      "C[N@H+]1CCO[C@@H](c2ccccc2)c2ccccc2C1\n",
      "CC(=O)CS\n",
      "O=C(O)c1cccc([N+](=O)[O-])c1[N+](=O)[O-]\n",
      "C[NH+](C)c1cccc(C#N)c1\n",
      "NCC[NH3+]\n",
      "CC(C)[NH2+]CCc1ccc(O)cc1\n",
      "CCOC(=O)c1ccccc1[NH3+]\n",
      "Fc1c(F)c(F)c(Nc2c(F)c(F)c(F)c(F)c2F)c(F)c1F\n",
      "O=C(O)c1c(Cl)cccc1CO\n",
      "OCC[NH+](CCO)Cc1cccc(F)c1\n",
      "[NH3+]c1ccc(-c2ccccc2)cc1\n",
      "C[NH+](C)c1cccc(Cl)c1\n",
      "O=C(O)COc1ccccc1\n",
      "CCc1[nH]cc[nH+]1\n",
      "[NH3+]c1ccccc1I\n",
      "CC(C)CCC[C@H](C)[NH3+]\n",
      "Oc1c(Br)cc(Br)cc1Br\n",
      "O=C(O)c1ncccn1\n",
      "C[NH+](C)CCC=C1c2ccccc2CCc2ccccc21\n",
      "COC(=O)c1ccc(CNS(C)(=O)=O)cc1S(=O)(=O)NC(=O)Nc1nc(OC)cc(OC)n1\n",
      "CCCC[C@H]([NH3+])c1ccc(F)cc1\n",
      "CCC(CC)NC(=O)c1c(C)nn(-c2ccccc2)c1NS(=O)(=O)c1ccc(C)cc1\n",
      "CCOC(=O)C(C#N)c1c(F)c(F)cc(F)c1F\n",
      "Oc1c(C(F)(F)F)c(C(F)(F)F)c(C(F)(F)F)c(C(F)(F)F)c1C(F)(F)F\n",
      "COc1ccc(CC(=O)O)cc1OC\n",
      "C1C[NH+]2CCN1CC2\n",
      "Cc1ccc(S(=O)(=O)NS(=O)(=NS(=O)(=O)C(F)(F)F)c2ccc(Cl)cc2)cc1\n",
      "Cc1cc(N)[nH+]c(CCNC(=O)c2ccc(C#N)cc2)c1\n",
      "CC[NH+](CC)CC#CCOC(=O)[C@](O)(c1ccccc1)C1CCCCC1\n",
      "Cc1ccccc1[C@@H](O)C[NH2+]C(C)C\n",
      "C#CCC[NH3+]\n",
      "[NH3+]c1c(Br)cccc1Br\n",
      "[NH3+]c1ccc([N+](=O)[O-])c(C(F)(F)F)c1\n",
      "CC(=O)CCC[NH+](C)C\n",
      "C1NCC2C[NH2+]CC1C2\n",
      "COC(=O)c1ccccc1CS(=O)(=O)NC(=O)Nc1nc(OC)cc(OC)n1\n",
      "Cc1ccc(S(=O)(=O)Nc2c(C(=O)N[C@@H](C)C(C)(C)C)c(C)nn2C(C)C)cc1\n",
      "COc1ccccc1[C@@H](O)C[NH2+]C(C)C\n",
      "O=C(O)CCI\n",
      "CC(C=CC1=C(C)CCCC1(C)C)=CC=CC(C)=CC(=O)O\n",
      "CCOc1nc(NC)nc(NC(=O)NS(=O)(=O)c2ccccc2C(=O)OC)n1\n",
      "Clc1cccc[nH+]1\n",
      "C(=C/c1nn[nH]n1)\\c1ccccc1\n",
      "c1ccc2[nH+]c(-c3cscn3)[nH]c2c1\n",
      "Cc1ccc([NH3+])cc1C\n",
      "Cc1cc(Cl)ccc1OCCCC(=O)O\n",
      "O=[N+]([O-])c1ccc(O)c(Cl)c1\n",
      "C[NH2+]c1c(C)cc(C)cc1C\n",
      "NS(=O)(=O)c1ccc(Cl)c(Cl)c1\n",
      "[NH3+][C@H](Cc1ccccc1)C(=O)[O-]\n",
      "O=C(O)c1cc(Cl)cc(Cl)c1\n",
      "CC(=O)c1ccc(S)cc1\n",
      "Oc1c(F)c(F)c(F)c(F)c1F\n",
      "Cc1cc(C)c(O)cc1C\n",
      "C[NH2+][C@H]1CCCC[C@@H]1Cl\n",
      "O=C(CCC[NH+]1CCC(O)(c2ccc(Cl)cc2)CC1)c1ccc(F)cc1\n",
      "CCCCCCCCCC[NH3+]\n",
      "NS(=O)(=O)c1cccc(C(F)(F)F)c1\n",
      "c1ccc2c[nH+]ccc2c1\n",
      "Nc1[nH+]cccc1[N+](=O)[O-]\n",
      "COC(=O)c1ccc([NH3+])cc1C\n",
      "Cc1ccc(S(=O)(=O)NS(=O)(=O)C(F)(F)F)cc1\n",
      "CCOC(=O)C1=C(COCC[NH3+])NC(C)=C(C(=O)OC)[C@@H]1c1ccccc1Cl\n",
      "Oc1c(Cl)c(Cl)c(Cl)c(Cl)c1Cl\n",
      "CCO[Si](C[NH3+])(OCC)OCC\n",
      "O=C(O)c1c(O)cccc1[N+](=O)[O-]\n",
      "CC(=O)O\n",
      "CC(C)[NH2+]c1ccccc1[N+](=O)[O-]\n",
      "C[C@@H](Cl)CC(=O)O\n",
      "CC(=O)c1ccc(C(=O)O)cc1\n",
      "Cc1nc2ccncc2nc1O\n",
      "N#CC(C#N)c1c(F)c(F)c2c(F)c(F)c(F)c(F)c2c1F\n",
      "[NH3+]c1cccc([N+](=O)[O-])c1\n",
      "CSc1cccc([NH3+])c1\n",
      "CC(=O)NC[C@H]1CN(c2ccc([NH+]3CCOCC3)c(F)c2)C(=O)O1\n",
      "N#CC(C#N)=C(c1cc(C(F)(F)F)cc(C(F)(F)F)c1)C(C#N)C#N\n",
      "O=C(O)c1c(O)ccc2ccccc12\n",
      "Oc1ccccc1-c1ccc(Br)cc1\n",
      "[NH3+]c1cccc2c1-c1ccccc1C2\n",
      "Clc1ccc2nsnc2c1NC1=[NH+]CCN1\n",
      "C1C[NH2+]CCN1\n",
      "CCOC(=O)C(C#N)c1c(F)c(F)nc(F)c1F\n",
      "O=C(O)Cc1ccccc1Cl\n",
      "O=C(O)c1cccc2c1C(=O)c1ccccc1C2=O\n",
      "O=C(O)CCO\n",
      "N#Cc1ccc2[nH]c(-c3ccc(F)cc3)c(CCCC(=O)NS(N)(=O)=O)c2c1\n",
      "Cc1cccc([NH3+])c1\n",
      "[NH3+][C@H](Cc1c[nH]c2ccccc12)C(=O)[O-]\n",
      "C[Si](C)(C)C[NH3+]\n",
      "N#CC(c1c(F)c(F)nc(F)c1F)c1c(F)c(F)nc(F)c1F\n",
      "N#CC(C#N)C#N\n",
      "Oc1cnc2ncccc2n1\n",
      "Cc1ccc(O)c(C(=O)O)c1\n",
      "N#Cc1ccc(OCC(=O)O)cc1\n",
      "O=[N+]([O-])c1ccc(O)cc1[N+](=O)[O-]\n",
      "Cc1ccc(C(=O)NS(=O)(=O)C(F)(F)F)cc1\n",
      "[NH3+]c1ccc(C(=O)OC(F)(F)C(F)(F)F)cc1\n",
      "CN(C(=O)c1ccccc1)c1cccc[nH+]1\n",
      "Oc1cccc(F)c1\n",
      "[NH3+]CCCCO\n",
      "N#Cc1cn(Cc2ccco2)c(=O)[nH]c1=O\n",
      "O=C1CC2(CCCC2)CC(=O)N1CCCC[NH+]1CCN(c2ncccn2)CC1\n",
      "Oc1ccc2ncncc2c1\n",
      "CC(C)(C)Sc1ccc([NH3+])cc1\n",
      "Cc1cccc(C)c1[NH+](C)C\n",
      "C[C@H]1C[NH+]=C(C(C)(C)C)S1\n",
      "Cc1cc(O)ncn1\n",
      "Oc1c(/N=N/c2nccs2)ccc2ccccc12\n",
      "O=[N+]([O-])c1ccc(S(=O)(=O)NS(=O)(=NS(=O)(=O)C(F)(F)F)c2ccc(Cl)cc2)cc1\n",
      "c1ccc2c(c1)CC[C@@H]2[NH2+][C@H]1CCc2ccccc21\n",
      "N#Cc1ccc(O)cc1\n",
      "C[NH2+]C\n",
      "Cc1ccccc1[NH2+][C@H]1CCc2ccccc21\n",
      "CC(C)c1ccc(O)cc1\n",
      "COc1cc(OC)nc(NC(=O)NS(=O)(=O)c2cc(NC=O)ccc2C(=O)N(C)C)n1\n",
      "O=[N+]([O-])C([N+](=O)[O-])[N+](=O)[O-]\n",
      "O[C@@H](C(F)(F)C(F)(F)F)C(F)(F)C(F)(F)C(F)(F)F\n",
      "C=CC[NH+](C)CC=C\n",
      "CC(C)Oc1ccc(C(=O)O)cc1\n",
      "N#CC(c1c(F)c(F)nc(F)c1F)c1c(F)c(F)c(F)c(F)c1F\n",
      "CCCCC[NH+]1CCOCC1\n",
      "COc1ccc([C@@H](O)C[NH2+]C(C)C)cc1OC\n",
      "O=[N+]([O-])c1c[nH]c2ccccc12\n",
      "COc1ccc([NH3+])cc1\n",
      "CC(=O)c1cc(C(C)(C)C)c(O)c(C(C)(C)C)c1\n",
      "COc1ccc(S(=O)(=O)NC(=O)N2CCC(N3CCC(Oc4ccc(Cl)c(Cl)c4)CC3)CC2)cc1\n",
      "N#CC(C#N)=CC(C#N)C#N\n",
      "Cc1c(C2(c3cc(Br)c(O)c(Br)c3C)OS(=O)(=O)c3ccccc32)cc(Br)c(O)c1Br\n",
      "C[C@H](N)C(=O)O\n",
      "CC[NH+](CC)[C@@H](C)C=C(c1cccs1)c1cccs1\n",
      "c1c[nH][nH+]c1\n",
      "Oc1ccccc1Br\n",
      "N#CC(c1c(F)c(F)c(F)c(F)c1F)c1c(F)c(F)c(C(F)(F)F)c(F)c1F\n",
      "O=C1NS(=O)(=O)c2ccccc21\n",
      "OCC[NH+](CCO)Cc1ccccc1\n",
      "COc1ccc([N+](=O)[O-])c([NH3+])c1\n",
      "CC(C)[NH2+]C[C@H](O)c1ccc([N-]S(C)(=O)=O)cc1\n",
      "N#CC(S(=O)(=O)C(F)(F)F)S(=O)(=O)C(F)(F)F\n",
      "Oc1nccc2cccnc12\n",
      "CC1([NH3+])CCCCC1\n",
      "COc1ccc(Cc2[nH+]ccc3cc(OC)c(OC)cc23)cc1OC\n",
      "NC(Nc1ccccc1)=[NH+]c1ccccc1\n",
      "C[C@@H]1C[C@H](Cl)[C@@H]2CCCC[C@@H]2[NH2+]1\n",
      "CN(C)[P+](N)(N(C)C)N(C)C\n",
      "CC[NH+](CC)[C@H](C)C(=O)c1ccccc1\n",
      "C[N+](C)(C)c1ccc([NH3+])cc1\n",
      "COC(=O)c1ccccc1[NH+](C)C\n",
      "CC(C)(C)c1ccc(SCC(=O)O)cc1\n",
      "Cc1ccc(O)c(C)c1C\n",
      "Cc1cc(O)cc(C)c1C\n",
      "Cc1c(C)c(O)c(C)c(C)c1O\n",
      "O=C(O)CI\n",
      "Oc1c(Br)cc(Br)cc1Br\n",
      "C[NH+]1CCC(c2ccccc2)(c2ccccc2)CC1\n",
      "CSc1ccc([NH3+])c(Cl)c1\n",
      "Cc1cccc(S)c1\n",
      "Cc1nc(N)[nH+]c(C)c1Br\n",
      "CC[C@@](CC(=O)O)(C(=O)OC)c1ccccc1\n",
      "O=C(O)c1ccc(O)c2ncccc12\n",
      "COc1cccc([C@@]2(O)CCCC[C@@H]2C[NH+](C)C)c1\n",
      "O=[N+]([O-])c1ccc(-c2ccccc2)cc1O\n",
      "CC1(C)S[C@@H]2[C@H](NC(=O)COc3ccccc3)C(=O)N2[C@H]1C(=O)O\n",
      "[NH3+]c1ccc2cc([N+](=O)[O-])ccc2c1\n",
      "O=C(O)[C@H]1CCCNC1\n",
      "N#CC1=CC(C#N)C=C1C#N\n",
      "O=[N+]([O-])c1cc([N+](=O)[O-])c(O)c([N+](=O)[O-])c1\n",
      "CC(C)C[N@@H+](C)c1ccccc1\n",
      "Cc1cccc([N+](=O)[O-])c1[NH3+]\n",
      "SC1CCCCC1\n",
      "N#CC(C#N)=C(C#N)CC(C#N)=C(C#N)C#N\n",
      "Cc1cc(Br)c([NH3+])c(Br)c1\n",
      "Cc1cc2ccccc2c(C(=O)O)c1C\n",
      "CCC[NH2+]C[C@@H](O)COc1ccccc1C(=O)CCc1ccccc1\n",
      "COC(=O)CS\n",
      "c1ccc(CC2=[NH+]CCN2)cc1\n",
      "Oc1ccccc1C(F)(F)F\n",
      "O=[N+]([O-])c1cc2c(c([N+](=O)[O-])c1)Nc1c(cccc1[N+](=O)[O-])O2\n",
      "CC[C@](CC(=O)OC)(C(=O)O)c1ccccc1\n",
      "CCCC[NH2+]CCCC\n",
      "CCC(=O)C(C[C@H](C)[NH+]1CCOCC1)(c1ccccc1)c1ccccc1\n",
      "O=[N+]([O-])c1ccc(F)cc1O\n",
      "O=[N+]([O-])c1ccc2cc[nH]c2c1\n",
      "O=C(O)[C@@H](Br)c1ccccc1\n",
      "O=C(O)c1oc(-c2ccccc2)nc1-c1ccccc1\n",
      "CC[N@H+](C)c1ccccc1\n",
      "[NH3+]c1cc2c3c(cccc3c1)CC2\n",
      "CC(C)C[NH3+]\n",
      "CC(C)c1ccccc1O\n",
      "Cc1ccc([NH3+])c([N+](=O)[O-])c1\n",
      "O=[N+]([O-])c1cc(F)cc([N+](=O)[O-])c1O\n",
      "O=C(O)c1ccccc1-c1ccccc1C(=O)O\n",
      "NS(=O)(=O)c1cccc(C(F)(F)F)c1\n",
      "CC1=CNC(=O)[NH2+]C1=O\n",
      "CCC1=CCC[NH2+]1\n",
      "CC1(C)CCCC(C)(C)[NH2+]1\n",
      "Nc1cc2ccccc2c[nH+]1\n",
      "CCOC(=O)[C@@H](N)CS\n",
      "CC[NH+](CC)CC(=O)Nc1c(C)cccc1C\n",
      "CC(C)[NH2+]C[C@H](O)c1cccc(I)c1\n",
      "CCOP(=O)(OCC)c1ccc(C(=O)O)cc1\n",
      "CC(C)(C)[NH2+]C[C@H](O)COc1nsnc1N1CCOCC1\n",
      "O=C(O)c1ccc([C@@]23CCC[C@@H]2C3)cc1\n",
      "N#CC(C#N)S(=O)(=O)c1ccc([N+](=O)[O-])cc1\n",
      "O=C(O)c1cc(Cl)ccc1O\n",
      "[NH3+][C@@H]1C[C@H]1c1ccc(Cl)cc1\n",
      "[NH3+]c1cc(I)c2ccccc2c1\n",
      "Cc1ccc(O)cc1\n",
      "CC[NH+](CC)CCC(C#N)(c1ccccc1)c1ccccc1\n",
      "Cc1c(C#N)c(C#N)c(C#N)c(C#N)c1C#N\n",
      "Cn1cc(Br)c(O)nc1=O\n",
      "CCC(=O)C(c1ccccc1)(c1ccccc1)[C@H](C)C[NH+]1CCOCC1\n",
      "Cc1ccccc1S\n",
      "COc1ccc(S)cc1\n",
      "CCCC[NH2+]CCCC\n",
      "Oc1ccc(O)cc1\n",
      "Cc1ccc(S(N)(=O)=O)cc1C\n",
      "CCCC[NH+](CCCC)CCCC\n",
      "CCCOc1cccc(C(=O)O)c1\n",
      "Cc1ccccc1[NH3+]\n",
      "NS(=O)(=O)c1ccc(F)cc1\n",
      "Oc1cccc2c1CCC2\n",
      "O=C([O-])[C@H](Cc1ccccc1)N1CCC(C[NH+]2CCC(Oc3ccc(Cl)c(Cl)c3)CC2)CC1\n",
      "Cc1c(C(=O)O)cc([N+](=O)[O-])cc1[N+](=O)[O-]\n",
      "CC(C)C([NH3+])C(C)C\n",
      "Cc1cnnc2c(O)cccc12\n",
      "O=C(NO)c1ccc(Cl)cc1\n",
      "CO/N=C(\\C(=O)N[C@@H]1C(=O)N2C(C(=O)O)=C(CSc3nc(=O)c(O)nn3C)CS[C@H]12)c1csc(N)n1\n",
      "Oc1ccccc1O\n",
      "CS(=O)(=O)CCS\n",
      "CC[NH+](CC)CCOC(=O)[C@@H](Cc1cccc2ccccc12)C[C@@H]1CCCO1\n",
      "Cc1ccccc1/C=C/C(=O)O\n",
      "CC[N@@H+](c1ccccc1)C(C)(C)C\n",
      "O=C(O)[C@@H](Cl)CCl\n",
      "O=C(O)c1cccc(S)c1\n",
      "Cc1ccc(S(=O)(=O)NS(=O)(=O)c2ccc(C)cc2)cc1\n",
      "CCC(c1ccc([N+](=O)[O-])cc1)[N+](=O)[O-]\n",
      "O=[N+]([O-])O\n",
      "CCCCOc1ccc(OCCCC)c([NH3+])c1\n",
      "CCCC[NH+](CCCC)CCCC\n",
      "N#CC(c1c(F)c(F)c(F)c(F)c1F)c1c(F)c(F)c2c(F)c(F)c(F)c(F)c2c1F\n",
      "C[N@@H+](CCO)CCCl\n",
      "CC(=O)OCCC[NH+](C)C\n",
      "O=P1(O)Oc2c(-c3ccccc3)cc3ccccc3c2-c2c(c(-c3ccccc3)cc3ccccc23)O1\n",
      "C=C1C[C@]23C[C@@]1(O)CC[C@H]2[C@@]12C=C[C@H](O)[C@@](C)(C(=O)O1)[C@H]2[C@@H]3C(=O)O\n",
      "C1C[NH+]2CCC1CC2\n",
      "C[C@@H]1CCCC[NH2+]1\n",
      "CCC[C@@H]1C[C@@H](C(=O)N[C@H]([C@@H](C)O)[C@H]2O[C@H](SC)[C@H](O)[C@@H](O)[C@H]2O)[N@H+](C)C1\n",
      "CCC[C@@H](C)[NH+](C)C\n",
      "C[C@@H](C=C(c1cccs1)c1cccs1)[NH+]1CCCCC1\n",
      "Nc1c([N+](=O)[O-])cc([N+](=O)[O-])cc1[N+](=O)[O-]\n",
      "O=C([O-])[C@H]1CCC[NH2+]1\n",
      "COc1ccc(C[C@@H](C)[NH3+])cc1OC\n",
      "O=C(O)Cc1ccccc1Br\n",
      "CC(C)(O)C[NH3+]\n",
      "CCCCOc1ccc([C@@H](O)C[NH2+]C)cc1OC\n",
      "O=C(O)Cc1ccccc1[N+](=O)[O-]\n",
      "CC(C)(C)c1ccc(CC(=O)O)cc1\n",
      "I\n",
      "N#CC(C#N)=C(C#N)NC(C#N)=C(C#N)C#N\n",
      "c1c[nH+]ccn1\n",
      "Cc1ccc([N+](=O)[O-])cc1O\n",
      "CCCc1ccccc1O\n",
      "C[NH+]1C(C)(C)CCCC1(C)C\n",
      "O=C(NC[C@@H](O)C[NH+]1CCC(Oc2ccc(Cl)c(Cl)c2)CC1)c1c[nH]c(=O)cc1C(F)(F)F\n",
      "CCCCCC(C)(C)[NH3+]\n",
      "CN(C)C(=N)[NH+](C)C\n",
      "C[NH2+]C\n",
      "N#CC(C#N)c1cccc(C(F)(F)F)c1\n",
      "Clc1ccc(C[NH2+]C(Cc2ccccc2)Cc2ccccc2)cc1\n",
      "[NH3+]c1cccc(-c2ccccc2)c1\n",
      "N#Cc1ccc(O)cc1\n",
      "C[S@](=O)O\n",
      "CCOC(=O)C(C#N)c1c(F)c(F)c(C(F)(F)F)c(F)c1F\n",
      "Oc1cnccn1\n",
      "CC(=O)c1cccc(O)c1\n",
      "Oc1c(C[NH+]2CCCCC2)ccc2cccnc12\n",
      "Oc1cncc2cccnc12\n",
      "C=CCc1ccc(O)c(OC)c1\n",
      "CC(=O)N[C@H](C(=O)O)C(C)(C)S\n",
      "C=C1CCC[N@H+](C)C1\n",
      "N[NH3+]\n",
      "Cc1cccc(C(=O)O)c1O\n",
      "CC(C)C(=O)O\n",
      "C[N+](C)(C)c1ccc(CCC(=O)O)cc1\n",
      "O=[N+]([O-])c1c[nH]c2ccccc12\n",
      "CC(C)[NH2+]C[C@H](O)c1ccc([N+](=O)[O-])cc1\n",
      "COc1ccc(C[NH3+])cc1\n",
      "O=[N+]([O-])c1ccc(NS(=O)(=O)c2ccccc2)cc1\n",
      "C[NH2+]CCc1ccc(O)c(O)c1\n",
      "Cc1ccc(C[NH2+]c2ccc([N+](=O)[O-])cc2[N+](=O)[O-])cc1\n",
      "Cc1cc(Cl)c(O)c(Cl)c1\n",
      "O=C(O)Cc1ccc(Cl)cc1\n",
      "COc1cccc(C(=O)O)c1CO\n",
      "c1c[nH][nH+]c1\n",
      "Oc1ccccc1\n",
      "c1ccc2[nH+][nH]nc2c1\n",
      "O=S(=O)(NS(=O)(=O)c1c(F)c(F)c(F)c(F)c1F)c1c(F)c(F)c(F)c(F)c1F\n",
      "CCOC(=O)N1CCC2(CC1)Nc1cccc(F)c1C(N)=[NH+]2\n",
      "O=S(=O)(N=P1(NP2(=NS(=O)(=O)C(F)(F)F)Oc3c(-c4ccccc4)cc4ccccc4c3-c3c(c(-c4ccccc4)cc4ccccc34)O2)OC2=C(c3ccccc3)CC3C=CC=CC3=C2c2c(c(-c3ccccc3)cc3ccccc23)O1)C(F)(F)F\n",
      "O=C1O[C@H]([C@@H](O)CO)C([O-])=C1O\n",
      "CC(C)(C)c1cccc(C(C)(C)C)c1O\n",
      "O=C1c2ccccc2C(=O)c2cc(S(=O)(=O)O)ccc21\n",
      "COc1cc(O)cc(OC)c1\n",
      "CC1=N[C@](c2cccc(-c3cncc(Cl)c3)c2)(C2CC2)[NH+]=C1N\n",
      "Cc1ncoc1C(=O)O\n",
      "CN(C)C(=O)C(CC[NH+]1CCC(O)(c2ccc(Cl)cc2)CC1)(c1ccccc1)c1ccccc1\n",
      "[NH3+]c1cccc(F)c1\n",
      "O=[N+]([O-])c1cc([N+](=O)[O-])c(O)c([N+](=O)[O-])c1\n",
      "O=C(NCC12CC3CC(CC(C3)C1)C2)c1cc(C[NH+]2C[C@@H]3CNC[C@H](C2)O3)ccc1Cl\n",
      "CC(C)[NH3+]\n",
      "[H]/N=C(/N)SCCc1cccc(CCSC(N)=[NH2+])c1\n",
      "O=C(O)c1cccc(I)c1CO\n",
      "COC(=O)c1cccc([NH3+])c1\n",
      "FC(F)(F)CS\n",
      "[NH3+]c1ccc(Cl)cc1Cl\n",
      "CC[C@@H](C)[NH+]1CCC(c2ccccc2)(c2ccccc2)CC1\n",
      "NS(=O)(=O)c1ccccc1\n",
      "O=C(O)c1c(Br)cc(Br)cc1Br\n",
      "C[NH+](C)C(C)(C)C\n",
      "O=[S@@](Cc1cccc[nH+]1)c1nc2ccccc2[nH]1\n",
      "C[NH+]1CCN(c2c(F)cc3c(=O)c(C(=O)O)cn(CCF)c3c2F)CC1\n",
      "O=C(O)c1nc(-c2ccccc2)oc1-c1ccccc1\n",
      "CC1=C(C(=O)[O-])N2C(=O)[C@@H](NC(=O)[C@H]([NH3+])c3ccc(O)cc3)[C@H]2SC1\n",
      "O=C(O)c1ccccc1\n",
      "CC[NH2+]c1ccc(C)cc1\n",
      "C[NH+]1CCN(CC(=O)N2c3ccccc3C(=O)[N-]c3cccnc32)CC1\n",
      "[NH3+]c1cc(I)cc(I)c1\n",
      "COc1ccc2cc([NH3+])ccc2c1\n",
      "C[NH+]1CC2CCC(CC2)C1\n",
      "Nc1ccc(CC(=O)O)cc1\n",
      "O=S(=O)(O)F\n",
      "CC(C)c1cc(O)c(=O)c(Br)cc1Br\n",
      "O=[N+]([O-])c1cc([N+](=O)[O-])c(O)c([N+](=O)[O-])c1\n",
      "[NH2+]=C(c1ccccc1)c1ccccc1Cl\n",
      "O=C(NCC12CC3CC(CC(C3)C1)C2)c1cc(OC2CC[NH2+]CC2)ncc1Cl\n",
      "Oc1ccccc1Br\n",
      "Cc1ccc(S(=O)(=O)NC(=O)NN2C[C@H]3CCC[C@H]3C2)cc1\n",
      "O=C(O)c1ccc(O)cc1O\n",
      "Cc1ccccc1CC(=O)O\n",
      "Cc1ccc(-c2cnc(O)nc2)cc1\n",
      "N#Cc1cc(Br)c(O)c(Br)c1\n",
      "Oc1ccccc1C(F)(F)F\n",
      "Cc1c([NH3+])cccc1Cl\n",
      "C[NH2+]Cc1ccccn1\n",
      "O=C(O)C(Br)(Br)Br\n",
      "COC(=O)C[C@](C)(Cc1ccccc1)C(=O)O\n",
      "c1ccc([NH+](c2ccccc2)c2ccccc2)cc1\n",
      "O=[S@](O)Cc1ccccc1\n",
      "Cc1c(F)c(F)c(Nc2c(F)c(F)c(F)c(F)c2F)c(F)c1F\n",
      "CC(C)C[NH+]1CCCCC1\n",
      "N#Cc1ccc(C(=O)N2CCC3(CC2)Nc2c(F)ccc(F)c2C(N)=[NH+]3)cn1\n",
      "OC1(c2c(F)c(F)c(F)c(F)c2F)C(F)(F)C(F)(F)C(F)(F)C(F)(F)C1(F)F\n",
      "C[NH+](C)c1ccccc1\n",
      "CCC[NH+](CC)CC\n",
      "CC(C)c1ccc(Br)c(=O)c(O)c1Br\n",
      "CC(C)C[NH+]1CCOCC1\n",
      "O=[N+]([O-])c1cccc(S(=O)(=O)NS(=O)(=O)c2c(F)c(F)c(F)c(F)c2F)c1\n",
      "O=C(NS(=O)(=O)c1ccccc1)N1CCC([NH+]2CCC(Oc3ccc(Cl)c(Cl)c3)CC2)CC1\n",
      "CCCCC(=O)O\n",
      "CCCSc1ccc2nc(NC(=O)OC)[nH]c2c1\n",
      "CC1=CNC(=O)[NH2+]C1=O\n",
      "C[C@H]1COc2c(N3CC[NH+](C)CC3)c(F)cc3c(=O)c(C(=O)O)cn1c23\n",
      "CC(C)CC[NH3+]\n",
      "CC(=O)CC[NH+](C)C\n",
      "Oc1cc(C(F)(F)F)cc(C(F)(F)F)c1\n",
      "N#CC(c1c(F)c(F)c(F)c(F)c1F)c1c(F)c(F)c(F)c(F)c1F\n",
      "c1ccc2[nH+]cccc2c1\n",
      "CCC[NH+](CCC)[C@@H]1CCc2c(O)cccc2C1\n",
      "C1=C[NH2+]C=N1\n",
      "Oc1cc(Cl)ccc1Cl\n",
      "CC(=O)SCC[NH+](C)C\n",
      "CC(C)C[NH3+]\n",
      "CN1CC[NH+](CC(=O)N2c3ccccc3C(=O)[N-]c3cccnc32)CC1\n",
      "CC[C@@H](C)Nc1nc(C)cc(C)[nH+]1\n",
      "[NH3+]c1ccccc1\n",
      "C[NH+](C)[C@@H]1CCc2c(ccc(O)c2O)C1\n",
      "C[NH+]1CCCCCC1\n",
      "CN(C)CCC[NH+](C)C\n",
      "COc1ccc(OC)c(C[C@@H]([NH3+])CO)c1\n",
      "Cc1c(F)c(F)c(C(C#N)c2c(F)c(F)c(F)c(F)c2F)c(F)c1F\n",
      "CCn1cc(C(=O)O)c(=O)c2cc(F)c(N3CC[NH+](C)CC3)cc21\n",
      "CCCCNc1nccc[nH+]1\n",
      "[NH3+]C1(C(=O)O)CCCCC1\n",
      "Oc1cnc2ccccc2c1\n",
      "C[NH+](C)C\n",
      "OC(c1c(F)c(F)c(F)c(F)c1F)(C(F)(F)F)C(F)(F)F\n",
      "C[C@@H](C=C(c1cccs1)c1cccs1)[NH+](C)C\n",
      "O=Cc1cccc(O)c1\n",
      "N#CC(CC[NH+]1CCOCC1)(c1ccccc1)c1ccccc1\n",
      "C/C=C/CO\n",
      "Cc1cc(Cl)ccc1OCC(=O)O\n",
      "C[C@H]([C@@H](O)c1ccccc1)[NH+](C)C\n",
      "CC[C@@H]([NH3+])c1ccc(Cl)cc1\n",
      "O=[N+]([O-])c1ccc(S(=O)(=O)NS(=O)(=O)C(F)(F)F)cc1\n",
      "CCCCCC[NH3+]\n",
      "CCCC[NH2+]CCCC\n",
      "O=[N+]([O-])c1ccc(O/N=C/c2cc(Br)c(O)c(Br)c2)c([N+](=O)[O-])c1\n",
      "O=C(O)COc1cc(Cl)c(Cl)cc1Cl\n",
      "O=[N+]([O-])Cc1ccc([N+](=O)[O-])cc1\n",
      "[NH3+]c1ccc(OC(F)(F)C(F)F)cc1\n",
      "Oc1ccc2c(c1)CCC2\n",
      "c1ccc(C(CC[NH+]2CCCCC2)c2ccccc2)cc1\n",
      "Oc1c(Cl)cc(Cl)cc1Cl\n",
      "CC[C@@H]1CCC[N@H+]1C\n",
      "O=C(c1ccc(C(F)(F)F)cc1)N(O)c1ccccc1\n",
      "[NH3+]C1(C(=O)[O-])CCCCC1\n",
      "N#CC(c1ccc(C(F)(F)F)cc1)c1c(F)c(F)c(F)c(F)c1F\n",
      "CC(C)c1cccc(=O)c(O)c1Br\n",
      "ClCC[NH+](CCCl)CCCl\n",
      "O=C(O)c1cccc(Cl)c1CO\n",
      "C[NH+](C)C\n",
      "O=C(O)c1cc([N+](=O)[O-])cc([N+](=O)[O-])c1\n",
      "C[C@@H]1COc2c(N3CC[NH+](C)CC3)c(F)cc3c(=O)c(C(=O)O)cn1c23\n",
      "Cc1ccc(-n2nc(C(C)(C)C)cc2NC(=O)Nc2ccc(OCC[NH+]3CCOCC3)c3ccccc23)cc1\n",
      "c1ccc2c(c1)ccc1ccc[nH+]c12\n",
      "O=[N+]([O-])c1cc(S(=O)(=O)NS(=O)(=O)c2ccc(Cl)cc2)ccc1Cl\n",
      "CNc1nc(Cl)cc[nH+]1\n",
      "CCOC(=O)c1cnn(C)c1S(=O)(=O)NC(=O)Nc1nc(OC)cc(OC)n1\n",
      "C1C[NH+]2CCN1CC2\n",
      "[NH3+]Cc1ccccc1\n",
      "C[NH+](C)CCc1ccncc1\n",
      "O=C(O)[C@H](O)[C@@H](O)[C@@H](O)[C@@H](O)CO\n",
      "Oc1ccccc1I\n",
      "CC[C@@H](C)CC(=O)O\n",
      "Oc1nncc2ccccc12\n",
      "CC[C@H](O)C[NH+](CC)C[C@@H](O)CC\n",
      "CCC[NH+](CCCl)CCCl\n",
      "O=C(O)c1c(Cl)ccc(Cl)c1Cl\n",
      "Cc1ccccc1C[C@@H](C(=O)[O-])N1CCC(C[NH+]2CCC(Oc3ccc(Cl)c(Cl)c3)CC2)CC1\n",
      "[NH4+]\n",
      "c1c[nH+]ccn1\n",
      "[NH3+][C@@H]1CCc2ccccc2C1\n",
      "CCCc1ccc([C@H](C)[NH3+])cc1\n",
      "C[C@H](CCC(=O)O)[C@H]1CC[C@H]2[C@H]3[C@H](C[C@H](O)[C@@]21C)[C@@]1(C)CC[C@@H](O)C[C@H]1C[C@H]3O\n",
      "O=[N+]([O-])c1ccc(O)c([N+](=O)[O-])c1\n",
      "COc1ccc([P@@H](=O)O)cc1\n",
      "CO/N=C(/C(=O)N[C@@H]1C(=O)N2C(C(=O)O)=C(COC(C)=O)CS[C@H]12)c1csc(N)n1\n",
      "CC(C)=C1CCC[NH2+]C1\n",
      "c1ccc2[nH+][nH]nc2c1\n",
      "N#CC(c1c(F)c(F)cc(F)c1F)c1c(F)c(F)c(F)c(F)c1F\n",
      "CCCC[NH+]1CCCCC1\n",
      "Oc1ccc(Cl)cc1\n",
      "Oc1c(Br)c(Br)c(Br)c(Br)c1Br\n",
      "NCCC[NH3+]\n",
      "Cc1ccc(C[NH+](C)C)cc1\n",
      "O=P1(O)Oc2c(-c3ccc(F)cc3)cc3ccccc3c2-c2c(c(C3C=CC(F)=CC3)cc3ccccc23)O1\n",
      "COc1nc(C)cc(O)n1\n",
      "C[NH+](C)Cl\n",
      "C[NH3+]\n",
      "[NH2+]=C(c1ccccc1)c1ccccc1\n",
      "CC[NH+](CC)CCCCC#N\n",
      "O=[N+]([O-])c1ccc(O)cc1Cl\n",
      "O=Cc1ccccc1O\n",
      "CC(C)(C)[NH+]1CCCC1\n",
      "C[NH2+]c1ccccc1C\n",
      "N#Cc1ccc(C[C@@H](C(=O)[O-])[NH+]2CCC(CN3CCC(Oc4ccc(Cl)c(Cl)c4)CC3)CC2)cc1\n",
      "COc1ccc(C(=[NH2+])c2ccccc2)c(OC)c1\n",
      "C1C[NH2+]CCN1\n",
      "COc1ccc(/C=C/C(=O)O)cc1\n",
      "CC[NH+](CC)CCCCC(c1ccccc1)c1ccccc1\n",
      "CCOC(=O)c1cc(O)cc2ccccc12\n",
      "C=C(C)CC(=O)O[C@@H](C)[NH+]1CCCCC1\n",
      "Cc1cc(O)cc(C)c1Cl\n",
      "[NH3+]Cc1ccc(F)cc1\n",
      "CCN(CC)C(=O)c1ccc[nH+]c1\n",
      "O=C1O[C@H]([C@@H](O)CO)C(O)=C1[O-]\n",
      "c1cnc[nH+]c1\n",
      "NS(=O)(=O)c1cccc([N+](=O)[O-])c1\n",
      "C[NH+](C)CCO[C@@H](c1ccccc1)c1ccc(Br)cc1\n",
      "O=C1c2ccccc2C(=O)N1O\n",
      "CC[NH+](CC)Cc1ccccc1\n",
      "[NH2+]=C(c1ccccc1)c1cccc(O)c1\n",
      "O=C(O)[C@H]1CCCC[C@@H]1O\n",
      "CC(=O)NS(=O)(=O)c1ccc(N)cc1\n",
      "CC[C@@H]([NH3+])C(=O)OC\n",
      "COC(=O)CC(C(=O)O)(c1ccccc1)c1ccccc1\n",
      "Cc1ccc(C)c([NH3+])c1\n",
      "COc1cc(OC)nc(Sc2cccc(Cl)c2C(=O)O)n1\n",
      "O=C1NC(=O)C([N+](=O)[O-])C(=O)N1\n",
      "N#CC(C#N)c1c(F)c(F)c2c(F)c(F)c(F)c(F)c2c1F\n",
      "COC(=O)C[C@](C)(Cc1ccc([N+](=O)[O-])cc1)C(=O)O\n",
      "[NH3+]Cc1ccccc1\n",
      "C[C@H]1CC[C@@H]2CCCC[C@H]2[NH2+]1\n",
      "CC(C)N1C(=O)c2ccccc2NS1(=O)=O\n",
      "C[NH+](C)CCN(Cc1ccsc1)c1ccccn1\n",
      "COc1cc(OC)nc(NC(=O)NS(=O)(=O)c2ncccc2C(=O)N(C)C)n1\n",
      "CCC[NH+](CC)CC\n",
      "Cc1ccc(C[NH+](CCO)CCO)cc1\n",
      "c1ccc([C@H]2CCCC[NH2+]2)nc1\n",
      "CCOC(=O)N1CCC2(CC1)Nc1ccsc1C(N)=[NH+]2\n",
      "[NH3+]c1ccc([N+](=O)[O-])c2ccccc12\n",
      "CC[C@H](O)C[N@H+](CC)CCO\n",
      "CN(C)c1c(F)c(F)c(Nc2c(F)c(F)c(F)c(F)c2F)c(F)c1F\n",
      "O=S(=O)(NS(=O)(=O)c1ccccc1)c1ccccc1\n",
      "CCn1cc(C(=O)O)c(=O)c2cc(F)c(N3CCNCC3)nc21\n",
      "Cc1cccc([NH3+])c1C\n",
      "CCOC(=O)C(C#N)c1c(F)c(F)nc(F)c1F\n",
      "O=C(O)CCl\n",
      "C[C@H](CO)Nc1nc(SCc2cccc(F)c2F)nc2nc(NS(C)(=O)=O)sc12\n",
      "CC(C)(C(=O)O)C(=O)O\n",
      "CC1=C(C)C(C)(C)[NH2+]C1(C)C\n",
      "Cc1nc(N)[nH+]c(C)c1C(N)=O\n",
      "OCC(Cl)(Cl)Cl\n",
      "C[C@H]1COc2c(N3CC[NH+](C)CC3)c(F)cc3c(=O)c(C(=O)[O-])cn1c23\n",
      "Cc1ccc(C(=O)O)cc1C\n",
      "COc1c(N2CC[NH2+][C@H](C)C2)c(F)cc2c(=O)c(C(=O)O)cn(C3CC3)c12\n",
      "c1ccc2c[nH+]ncc2c1\n",
      "CS(=O)(=O)c1cccc([NH3+])c1\n",
      "C[C@H](Oc1ccc(Cl)cc1Cl)C(=O)O\n",
      "CC(C)NC[C@H](O)c1cc(O)cc(O)c1\n",
      "C[NH2+]CC[C@@H](Oc1cc(Cl)ccc1C#N)c1ccccc1\n",
      "CCC[NH3+]\n",
      "NC1=[NH+][C@H](c2ccccc2)Nc2ccccc21\n",
      "CCCc1ccc(O)cc1\n",
      "[NH3+]c1cccc(SC(F)(F)F)c1\n",
      "Oc1ccc(Br)cc1Br\n",
      "C[NH2+]C[C@H](O)c1ccc(F)c(F)c1\n",
      "c1ccc([NH2+]C2CCCC2)cc1\n",
      "c1c[nH][nH+]c1\n",
      "Oc1cccc2ccccc12\n",
      "O=[N+]([O-])c1c(O)c([N+](=O)[O-])c2c([N+](=O)[O-])c1S2\n",
      "Oc1c(C(F)(F)F)c(C(F)(F)F)c(C(F)(F)F)c(C(F)(F)F)c1C(F)(F)F\n",
      "C[NH+](C)c1ccc2ccccc2c1\n",
      "C[NH+](C)C\n",
      "O=C(CC[NH+]1CCCCC1)C(c1ccccc1)c1ccccc1\n",
      "O=C(O)CCCCCCCC(=O)O\n",
      "C[C@H]1CCC[C@@H](C)[NH+]1CC(C)(C)O\n",
      "C[NH2+]CCCc1ccccc1\n",
      "[NH3+]Cc1ccc2c(c1)OCO2\n",
      "O=C(Nc1ccc(Cl)c(S(=O)(=O)N2CC[NH2+]CC2)c1[O-])Nc1cccc(F)c1Cl\n",
      "O=[N+]([O-])c1ccc(S(=O)(=O)NS(=O)(=NS(=O)(=O)C(F)(F)F)c2ccc(Cl)cc2)cc1\n",
      "O=C(O)Cc1cccc(F)c1\n",
      "c1cnc2c(c1)ccc1ccc3ccc[nH+]c3c12\n",
      "NC(Nc1ccccc1)=[NH+]c1ccccc1\n",
      "COc1nn(C(=O)NS(=O)(=O)c2ccccc2OC(F)(F)F)c(=O)n1C\n",
      "COc1cccc(C(=[NH2+])c2ccccc2)c1\n",
      "Cc1ccc(C[NH3+])cn1\n",
      "[NH3+]C[C@H](Oc1cc(Cl)ccc1Cl)c1ccccc1\n",
      "[O-]C(=S)CCCCC(O)=S\n",
      "c1c[nH+][nH]n1\n",
      "O=S1(=O)NS(=O)(=O)Oc2c(-c3cc(C(F)(F)F)cc(C(F)(F)F)c3)cc3ccccc3c2-c2c(c(-c3cc(C(F)(F)F)cc(C(F)(F)F)c3)cc3ccccc23)O1\n",
      "Fc1nc(F)c(F)c(Nc2ccccc2)c1F\n",
      "COC(=O)c1cc([NH3+])c2ccccc2c1\n",
      "CC[C@@](C)(S)[C@H](N)C(=O)O\n",
      "CCc1cc2c(O)ccc(CC)c2s1\n",
      "Cc1c(C2(c3cc(C(C)C)c(O)c(Br)c3C)OS(=O)(=O)c3ccccc32)cc(C(C)C)c(O)c1Br\n",
      "C=CC[NH2+]C\n",
      "[NH3+]c1ccc(Cl)cc1[N+](=O)[O-]\n",
      "CC(C)[NH2+]CCc1ccccc1\n",
      "CNc1nc(C)cc(C)[nH+]1\n",
      "c1ccc(C[NH2+]c2ccccc2)cc1\n",
      "Cc1c(Br)cc([NH3+])cc1Br\n",
      "Oc1ccc(O)nn1\n",
      "CC[C@H]1CSC(C(C)C)=[NH+]1\n",
      "[NH3+]c1ccc(S(=O)(=O)c2ccc(Cl)cc2)cc1\n",
      "O=[N+]([O-])c1cccc([N+](=O)[O-])c1Nc1ccc(Cl)cc1Cl\n",
      "COC(=O)C1=C(C)NC(C)=C(C(=O)OCC[N@@H+](C)Cc2ccccc2)[C@H]1c1cccc([N+](=O)[O-])c1\n",
      "CCC([NH3+])(CO)CO\n",
      "[NH3+]c1cc(Br)ccc1Br\n",
      "CCC[NH+](CCC)CCC\n",
      "CCOP(=O)(OCC)OCC[NH+](CC)CC\n",
      "Cc1ccc([C@@H]2C[C@H]2[NH3+])cc1\n",
      "N#CC(C#N)c1ccc([N+](=O)[O-])cc1\n",
      "c1ccc2c(c1)ccc1ccc[nH+]c12\n",
      "[NH3+]c1ccc(Br)c2ccccc12\n",
      "COc1c(N2C[C@@H]3CCC[NH2+][C@@H]3C2)c(F)cc2c(=O)c(C(=O)O)cn(C3CC3)c12\n",
      "CCCCCCc1ccccc1O\n",
      "[NH3+]C1Cc2ccccc2C1\n",
      "CCCC[NH2+]C\n",
      "[NH3+]C(CO)(CO)CO\n",
      "O=C(CC[NH+]1CCOCC1)C(c1ccccc1)c1ccccc1\n",
      "C[NH+](CCCl)CCCl\n",
      "[NH3+]Cc1ccccc1\n",
      "CC(C)S\n",
      "[NH3+]CCCCCCBr\n",
      "NS(=O)(=O)c1ccc(C[NH3+])cc1\n",
      "COc1nc(C)nc(NC(=O)NS(=O)(=O)c2ccccc2Cl)n1\n",
      "c1ccc([C@@H]2C[NH+]3CCC2CC3)cc1\n",
      "[NH3+]c1cccc2cccc([N+](=O)[O-])c12\n",
      "CC[NH3+]\n",
      "CN(C)[P+](NC(C)(C)C)(N(C)C)N(C)C\n",
      "CCC(=O)OO\n",
      "CC1=CCC[N@@H+]1C\n",
      "CCCCOC(=O)c1ccc(O)cc1\n",
      "[NH4+]\n",
      "C[NH+](C)[C@@H]1CCCC[C@H]1O\n",
      "CC=CC=CC(=O)O\n",
      "[NH3+][C@H]1CCN(c2c(F)cc3c(=O)c(C(=O)[O-])cn(C4CC4)c3c2Cl)C1\n",
      "C1C[NH+]2CCN1CC2\n",
      "CCCC(CCC)C(=O)O\n",
      "O=[N+]([O-])c1ccc(O)c([N+](=O)[O-])c1\n",
      "Cc1c(F)c(F)c(C(C#N)c2ccccc2)c(F)c1F\n",
      "C[NH2+]CCc1ccccc1\n",
      "C[NH2+]CCCCc1ccccc1\n",
      "c1ccc(C[NH2+]Cc2ccccc2)cc1\n",
      "O=[N+]([O-])c1ccccc1O\n",
      "c1ccc2[nH+]c3ccccc3cc2c1\n",
      "O=C(O)[C@H](c1ccccc1)[NH+]1CCC(N2CCC(Oc3ccc(Cl)c(Cl)c3)CC2)CC1\n",
      "COc1ccc([C@@H](O)C[NH2+]C(C)(C)C)cc1OC\n",
      "Cc1ccc(S(=O)(=O)N2CC[NH2+]CC2)cc1\n",
      "C1=C(Cc2ccccc2)[NH2+]CC1\n",
      "C[NH2+]C[C@H](O)c1ccc(O)cc1\n",
      "CCCN(CCC)CCc1ccc(O)c2c1CC(=O)N2\n",
      "NC(=O)NCC(=O)O\n",
      "CCCc1ccc(O)c(CCC)c1\n",
      "Oc1cc(Cl)c(Cl)c(Cl)c1\n",
      "Oc1c(Br)c(Br)c(Br)c(Br)c1Br\n",
      "Cc1ccc([NH3+])cc1\n",
      "O=P1(NS(=O)(=O)C(F)(F)F)Oc2c(-c3ccccc3)cc3c(c2-c2c4c(cc(C5C=CC=CC5)c2O1)CCCC4)CCCC3\n",
      "CN1CCN(C2=c3ccccc3=[NH+]c3ccc(Cl)cc3N2)CC1\n",
      "[NH3+]C(CCc1ccccc1)CCc1ccccc1\n",
      "CC(C)[P@@H](=O)O\n",
      "O=C(O)Cc1cccc([N+](=O)[O-])c1\n",
      "CC(C)(C)C[NH3+]\n",
      "CCO[P@@](C)(=O)OCC[NH+](C)C\n",
      "COc1ccc([C@H](C)[NH3+])cc1\n",
      "O=C(O)[C@@H](O)CO\n",
      "CCCCCCCC[NH3+]\n",
      "O=C1C=C[NH2+]C(=O)N1\n",
      "C[NH+](C)c1ccc(Cl)cc1\n",
      "[NH3+][C@@H](CCS)C(=O)[O-]\n",
      "C1CCC[NH2+]CCC1\n",
      "c1ccc2c(c1)ccc1[nH+]cccc12\n",
      "Cc1cc(C#N)cc(C)c1O\n",
      "Nc1nc2nccnc2c[nH+]1\n",
      "Oc1c(Cl)c(Cl)c(Cl)c(Cl)c1Cl\n",
      "CC[NH+](CC)CC[NH+](CC)CC\n",
      "Cc1c(C)c([N+](=O)[O-])c(C)c(C)c1[NH3+]\n",
      "c1ccc2[nH][nH+]cc2c1\n",
      "[NH3+]CCc1ccc(O)cc1\n",
      "O=C(O)c1cccc([N+](=O)[O-])c1Cl\n",
      "c1cnc[nH+]c1\n",
      "CCOC(=O)C(C#N)c1c(C(F)(F)F)c(C(F)(F)F)c(C(F)(F)F)c(C(F)(F)F)c1C(F)(F)F\n",
      "NS(=O)(=O)c1cccc([N+](=O)[O-])c1\n",
      "O=S(=O)(NS(=O)(=O)C(F)(F)F)c1ccc(Cl)cc1\n",
      "C[C@H]1CCCC(C)(C)[NH2+]1\n",
      "N#Cc1ccc(C(=O)N2CCC3(CC2)Nc2cccc(F)c2C(N)=[NH+]3)cc1\n",
      "N#Cc1ccc(Cl)cc1O[C@H](CC[NH3+])c1ccccc1\n",
      "OCCc1ccccc1\n",
      "N#Cc1c(F)c(F)c(N)c(F)c1F\n",
      "NS(=O)(=O)c1ccccc1\n",
      "COc1cccc(S)c1\n",
      "CCO[Si](C)(C)C[NH3+]\n",
      "C1C[NH2+]CCN1\n",
      "C[C@@]12CC3CC([NH3+])(C1)C[C@](C)(C3)C2\n",
      "O=S(=O)(N=C(NS(=O)(=O)C(F)(F)F)c1ccc(F)cc1)C(F)(F)F\n",
      "N#CC(C#N)S(=O)(=O)c1ccc([N+](=O)[O-])cc1\n",
      "COc1ccc(S(=O)(=O)NC(=O)N2CCC([NH+]3CCC(Oc4ccc(Cl)c(Cl)c4)CC3)CC2)cc1\n",
      "COc1cc(CC[NH3+])cc(OC)c1OC\n",
      "C[NH+](C)Cc1ccc(F)cc1\n",
      "C[NH+]1CCC(=C2c3ccccc3CC(=O)c3sccc32)CC1\n",
      "CS(=O)(=O)c1ccc([NH3+])cc1\n",
      "O=C(O)c1ncc(-c2ccc(Cl)cc2)o1\n",
      "CC(C)c1ccc(Br)c(=O)c(O)c1\n",
      "O=[N+]([O-])c1cc(O)cc([N+](=O)[O-])c1\n",
      "O=C(O)CO\n",
      "Cc1ccc(C)c(C(=[NH2+])c2ccccc2)c1\n",
      "CC(C)(C)CC(=O)O\n",
      "CC[C@@H](C)C[C@@H](C)[NH3+]\n",
      "COc1ccc(C(=O)NS(=O)(=O)C(F)(F)F)cc1\n",
      "O=P(O)(OCc1ccccc1)OCc1ccccc1\n",
      "O=[N+]([O-])c1ccc(O)cc1\n",
      "OCC#Cc1ccccc1\n",
      "N#CC1c2ccccc2-c2ccccc21\n",
      "Cc1ccc([C@@H]2CCC[NH2+]2)cc1\n",
      "COC(=O)[C@@](C)(CC(=O)O)Cc1ccc([N+](=O)[O-])cc1\n",
      "Cc1nc(C(=O)O)co1\n",
      "CS(=O)(=O)NC(=O)c1cc(Oc2ccc(C(F)(F)F)cc2Cl)ccc1[N+](=O)[O-]\n",
      "Fc1c(F)c(F)c(C2c3ccccc3-c3ccccc32)c(F)c1F\n",
      "Oc1ccccc1\n",
      "CC[NH+](CC)CCC(=O)Cc1ccccc1\n",
      "C[P@@H](=O)O\n",
      "CCCCCC[NH2+]CCCCCC\n",
      "CN(C)C(=N)[NH+](C)C\n",
      "CCn1cc(C(=O)[O-])c(=O)c2cc(F)c(N3CC[NH+](C)CC3)cc21\n",
      "CCC[NH+](CCC)c1ccccc1\n",
      "C[C@@]12CC[C@H]3c4ccc(O)cc4CC[C@@H]3[C@@H]1CCC2=O\n",
      "C[C@@H](O)C[N@H+](C)CCO\n",
      "CC(C)(C)[NH3+]\n",
      "Oc1ccc(Cl)cc1Cc1cc(Cl)ccc1O\n",
      "CCC[NH2+]CCC\n",
      "CC[C@H]1C[NH2+]1\n",
      "O=[N+]([O-])O\n",
      "N#CC(c1c(F)c(F)c(F)c(F)c1F)c1c(F)c(F)c2c(F)c(F)c(F)c(F)c2c1F\n",
      "NCC[NH3+]\n",
      "CCOc1ccc(O)cc1\n",
      "C[NH+]1CC=CC1\n",
      "CCCC(=O)O\n",
      "COC(=O)c1ccc[nH+]c1N\n",
      "O=C(NS(=O)(=O)N1CCC([NH+]2CCC(Oc3ccc(Cl)c(Cl)c3)CC2)CC1)c1ccccc1\n",
      "O=C1C[C@H](S)C(=O)N1\n",
      "COc1ccc(C[NH3+])cc1OC\n",
      "N#Cc1cccc(C(=O)O)c1\n",
      "O=C(O)COc1cccc([N+](=O)[O-])c1\n",
      "O=S(=O)(O)c1cccc2ccccc12\n",
      "CCCCC[NH2+]CCCCC\n",
      "Oc1cnnc2ccccc12\n",
      "C[n+]1cccc2cccc(O)c21\n",
      "Oc1ccc(Cl)cc1Cl\n",
      "Cc1ccc(OP(=O)(O)Oc2ccc(C)cc2)cc1\n",
      "CC[NH+](C)C\n",
      "CC(C)(C)c1ccc(O)cc1\n",
      "I\n",
      "O=[N+]([O-])C1=CN=C[NH2+]1\n",
      "C[NH+](C)c1ccc(C(F)(F)F)cc1\n",
      "CCCC[P@@H](=O)O\n",
      "c1ccc2c(c1)CCC[NH2+]2\n",
      "[NH2+]=C(c1ccccc1)c1cccc(Cl)c1\n",
      "O=Cc1ccncc1O\n",
      "C[C@@H](O)C[NH2+]CCO\n",
      "O=S(=O)(O)c1ccccc1\n",
      "CCOC(=O)C(C#N)c1c(F)c(F)c(F)c(F)c1F\n",
      "Cl\n",
      "CC(C)(C)NC(=O)[C@@H]1C[C@@H]2CCCC[C@@H]2C[N@H+]1C[C@@H](O)[C@H](Cc1ccccc1)NC(=O)[C@H](CC(N)=O)NC(=O)c1ccc2ccccc2n1\n",
      "O=S1(=O)NS(=O)(=O)c2c(-c3cc(C(F)(F)F)cc(C(F)(F)F)c3)cc3ccccc3c2C2=C3C=CC=CC3CC(c3cc(C(F)(F)F)cc(C(F)(F)F)c3)=C21\n",
      "O=P(O)(Oc1ccc2ccccc2c1)Oc1ccc2ccccc2c1\n",
      "CCCC[NH2+]C[C@H](O)c1ccc(OC)c(OC)c1\n",
      "CC(C)(C)c1ccc(O)cc1\n",
      "COc1ccc(C[NH2+]C(CC2CCCCC2)CC2CCCCC2)cc1\n",
      "CN1CC[NH+](C)CC1\n",
      "Oc1c(F)c(F)c(F)c(F)c1F\n",
      "C[C@H](O)CC(=O)O\n",
      "CCOP(=O)(C[NH+](CC)CC)OCC\n",
      "O=C(O)C(CO)(CO)CO\n",
      "Cc1cccc(O)c1C\n",
      "O=S(=O)(NS(=O)(=O)C(F)(F)F)C(F)(F)F\n",
      "CCOc1ccccc1O\n",
      "N#CC(C#N)c1ccc([N+](=O)[O-])cc1\n",
      "O=C(O)C1(C(=O)Nc2ccc(Cl)cc2Cl)CC1\n",
      "CC[N@@H+]1CCCC[C@H]1C\n",
      "CC(C)Oc1cccc(C(=O)O)c1\n",
      "C=CC[NH+]1CCCCC1\n",
      "O=C(O)c1ccc2ncccc2c1\n",
      "O=C(O)c1ccc[nH+]c1\n",
      "C[NH2+]CCc1ccc(O)cc1\n",
      "COc1c(N2C[C@@H]3CCC[NH2+][C@@H]3C2)c(F)cc2c(=O)c(C(=O)[O-])cn(C3CC3)c12\n",
      "CC(C)c1cccc(=O)c(O)c1\n",
      "CCC1(c2ccccc2)C(=O)NC(=O)NC1=O\n",
      "O=C(O)Cc1c(Cl)ccc(Cl)c1Cl\n",
      "CC(C)(C)S[NH2+]c1ccccc1\n",
      "CCC[NH+](CCC)CCC\n",
      "CCCCC[C@@H](C)[NH2+]C\n",
      "CC(C)(C)c1cc(C(C)(C)C)c(O)c(C(C)(C)C)c1\n",
      "Cc1ccccc1S(=O)(=O)NC(=O)N1CCC([NH+]2CCC(Oc3ccc(Cl)c(Cl)c3)CC2)CC1\n",
      "COc1cccc(C[NH+](C)C)c1\n",
      "CC[C@H](CC[NH2+]C)Oc1cc(Cl)ccc1C#N\n",
      "[NH3+]CCCCC(Cl)(Cl)Cl\n",
      "[NH3+]c1ccc(Cl)c([N+](=O)[O-])c1\n",
      "c1cnc2c(c1)ccc1ccc[nH+]c12\n",
      "O=C(O)c1c(Cl)cccc1Cl\n",
      "NS(=O)(=O)c1ccc(F)cc1\n",
      "[NH3+]C[C@H](O)c1ccccc1\n",
      "C[C@@H](CN1c2ccccc2CCc2ccccc21)C[NH+](C)C\n",
      "C[NH+](C)CCCN1c2ccccc2CCc2ccc(Cl)cc21\n",
      "N[C@@H](CCC(=O)N[C@@H](CS)C(=O)NCC(=O)O)C(=O)O\n",
      "Cc1ccccc1[NH2+]C1CCCCC1\n",
      "c1cc[nH+]nc1\n",
      "[NH3+]c1ccccc1Br\n",
      "CC(C)c1nc2ccc(-c3ccc(F)cc3)cc2c(=O)n1C[C@H]1CCC[N@@H+](C(C)C)C1\n",
      "COC(=O)c1ccccc1O\n",
      "OCC[NH+](CCO)Cc1ccc(F)cc1\n",
      "COCC[NH3+]\n",
      "O=C(O)[C@H](O)c1cccc(F)c1\n",
      "[NH3+]c1ccc([N+](=O)[O-])cc1Cl\n",
      "Cc1ccc([NH2+][C@H]2CCc3ccccc32)cc1\n",
      "[NH3+][C@@H]1Cc2ccccc2[C@H]1O\n",
      "O=[N+]([O-])c1cc([N+](=O)[O-])c(O)c([N+](=O)[O-])c1\n",
      "O=C1O[C@H]([C@@H](O)CO)C(O)=C1O\n",
      "N#CC(c1c(F)c(F)nc(F)c1F)c1c(F)c(F)nc(F)c1F\n",
      "C[NH2+]c1c(C)cccc1C\n",
      "c1ccc2nc[nH+]cc2c1\n",
      "CCCC[NH+](CCCC)CCCC\n",
      "CCC[C@H]([NH3+])c1ccccc1\n",
      "[NH3+]Cc1cccc([N+](=O)[O-])c1\n",
      "O=C(NCCc1ccccc1Cl)c1cc(-n2ncc(=O)[nH]c2=O)ccc1Cl\n",
      "[NH3+]c1cc([N+](=O)[O-])ccc1Br\n",
      "Cc1nn(-c2ccc(F)cc2)c(NS(=O)(=O)c2ccc(C(F)(F)F)cc2)c1C(=O)N[C@@H](C)C(C)(C)C\n",
      "Cc1ccnc(O)n1\n",
      "C[NH+](C)CCc1cccnc1\n",
      "C[N+](C)(C)CCc1ccccc1O\n",
      "[NH3+]c1c(F)c(F)c(F)c(F)c1F\n",
      "O=[N+]([O-])c1cc(Cl)c(O)c([N+](=O)[O-])c1\n",
      "Cn1c(=O)c2c(ncn2CC[NH+](C)C)n(C)c1=O\n",
      "C[NH+](C)CC[NH+](C)C\n",
      "O=C(CN1C2=[NH+]CCN2c2ccccc21)c1ccc(Cl)cc1\n",
      "CC[NH3+]\n",
      "C[NH+](C)CCN(Cc1ccccc1)c1cccc[nH+]1\n",
      "C[C@H]1CN(c2c(F)c(N)c3c(=O)c(C(=O)O)cn(C4CC4)c3c2F)C[C@@H](C)[NH2+]1\n",
      "O=[N+]([O-])C1=NC=C[NH2+]1\n",
      "O=C(O)c1ccc(Br)cc1\n",
      "c1ccc2c(c1)ccc1[nH+]cccc12\n",
      "C[C@@H](CCCC(=O)O)c1ccccc1\n",
      "Cc1ccc(S(=O)(=O)Nc2ccccc2)cc1\n",
      "[NH3+]c1ccc([N+](=O)[O-])cc1\n",
      "COC(=O)CCC(C(=O)O)(c1ccccc1)c1ccccc1\n",
      "[NH3+][C@@H]1CCCC[C@H]1O\n",
      "[NH3+]c1cc(Cl)c2ccccc2c1\n",
      "CCCCCCCCCCC[NH3+]\n",
      "CCC1=[NH+][C@@H](CC)CS1\n",
      "C[n+]1cc(O)cc2ccccc21\n",
      "c1ccc2[nH][nH+]cc2c1\n",
      "CC[NH+](CC)CC\n",
      "O=C(NS(=O)(=O)c1ccc(F)cc1)N1CCC(N2CCC(Oc3ccc(Cl)c(Cl)c3)CC2)CC1\n",
      "CCOC(=O)C(CC[NH+](C)C)(c1ccccc1)c1ccccc1\n",
      "[NH3+]CC(Cl)(Cl)C(Cl)(Cl)Cl\n",
      "CC(C)(C[NH3+])c1ccccc1\n",
      "[NH3+]c1ccc2c(c1)Cc1ccccc1-2\n",
      "Cc1cc(Br)ccc1[NH3+]\n",
      "C=CCc1c(C)nc(NC)[nH+]c1C\n",
      "Nc1ccc[nH+]c1N\n",
      "C=C[C@H]1C[N@H+]2CC[C@@H]1C[C@H]2[C@H](O)c1ccnc2ccc(OC)cc12\n",
      "C[NH2+]c1ccccc1SC\n",
      "C[N+](C)(C)CCCc1ccccc1O\n",
      "CCc1cc(C(N)=S)cc[nH+]1\n",
      "CCOc1cccc([NH3+])c1\n",
      "[NH3+]c1c(Cl)c(Cl)c(Cl)c(Cl)c1Cl\n",
      "Cc1cccc(C[NH+](CCO)CCO)c1\n",
      "C[NH+](C)c1ccccc1\n",
      "N#Cc1cc(F)c(Cl)cc1O[C@H](CC[NH3+])c1ccccc1\n",
      "Cc1cnc2c(C(=O)O)c(Cl)ccc2c1\n",
      "O=[N+]([O-])c1cccc2cc[nH]c12\n",
      "O=C(O)CSCCc1ccccc1\n",
      "Oc1cc2ccccc2cn1\n",
      "CCCC[NH+]1CCCC1\n",
      "O=[N+]([O-])c1ccc(S(=O)(=O)NS(=O)(=O)c2c(F)c(F)c(F)c(F)c2F)cc1\n",
      "[NH3+]c1ccc(Br)cc1\n",
      "Oc1cccc2ccncc12\n",
      "Cc1ccccc1[NH2+]C(C)(C)C\n",
      "C=CC[NH+](CC=C)CC=C\n",
      "CC[C@@H]([NH3+])c1ccccc1\n",
      "SCc1ccccc1\n",
      "Cc1ccc(O)c(C(C)(C)C)c1\n",
      "[NH3+]c1ccc(CC(=O)[O-])cc1\n",
      "[NH3+]Cc1ccccc1\n",
      "CC(C)(C)[P@@H](=O)O\n",
      "Cc1c(F)c(F)c([C@@H](C#N)c2c(F)c(F)c(F)c(F)c2F)c(F)c1F\n",
      "COC(=O)[C@@H]1C[NH+]2CCC1CC2\n",
      "CC(C)[NH3+]\n",
      "CN(C)[P+](N)(N(C)C)N(C)C\n",
      "Cc1ccc(S(=O)(=O)NC(=O)N2CCC([NH+]3CCC(Oc4ccc(Cl)c(C)c4Cl)CC3)CC2)cc1\n",
      "CC(=O)CCCC[NH+](C)C\n",
      "O=C(O)[C@H](O)c1ccccc1\n",
      "O=C(O)CCCc1ccccc1\n",
      "NS(=O)(=O)c1c(F)c(F)c(F)c(F)c1F\n",
      "[NH3+]c1ccc(CC(=O)O)cc1\n",
      "C[C@@H]([NH3+])Cc1ccc(Cl)cc1\n",
      "O=P1(NS(=O)(=O)C(F)(F)F)OC2=C(c3c4c(cc(-c5ccc(F)cc5)c3O1)CCCC4)C1CCCCC1C=C2c1ccc(F)cc1\n",
      "C[NH2+]CC(=O)O\n",
      "Cc1ccc(S(=O)(=O)Nc2c(C(=O)N[C@@H](C)C(C)(C)C)c(C(F)(F)F)nn2-c2ccccc2)cc1\n",
      "Cc1ccc([C@@H](O)C[NH2+]C(C)C)cc1\n",
      "CC1=CCCC[C@@H]1[NH3+]\n",
      "Oc1ccc2cncnc2c1\n",
      "CC[NH+](CC)CCOC(=O)c1ccc(N)cc1\n",
      "O=[N+]([O-])c1cc([N+](=O)[O-])c(Nc2c([N+](=O)[O-])cc([N+](=O)[O-])cc2[N+](=O)[O-])c([N+](=O)[O-])c1\n",
      "CCCC(=O)O\n",
      "CSc1cccc(O)c1\n",
      "CC[C@@H](C)[NH2+][C@H](C)CC\n",
      "Cc1cccc(/C=C/C(=O)O)c1\n",
      "CC[C@H](C)c1ccc(O)c([N+](=O)[O-])c1\n",
      "c1cncc(C[NH+]2CCCCC2)c1\n",
      "Cc1ccc(C(C#N)C#N)cc1\n",
      "CN(C)P(=N[P+](N=P(N(C)C)(N(C)C)N(C)C)(N=P(N(C)C)(N(C)C)N(C)C)NC(C)(C)C)(N(C)C)N(C)C\n",
      "CC(C)(C(=O)O)c1ccc([C@@H](O)CCC[NH+]2CCC(C(O)(c3ccccc3)c3ccccc3)CC2)cc1\n",
      "C1=C(c2ccccc2)C2CC[NH+]1CC2\n",
      "[NH3+]c1cc(Cl)cc(Cl)c1\n",
      "CCOC(=O)c1ccc([C@@H](O)C[NH2+]C(C)C)cc1\n",
      "O=C(NS(=O)(=O)c1ccc(F)cc1)N1CCC([NH+]2CCC(Oc3ccc(Cl)c(Cl)c3)CC2)CC1\n",
      "O=[N+]([O-])c1cc(Cl)c(O)c(Cl)c1\n",
      "O=C(O)[C@H](c1ccccc1)N1CCC(C[NH+]2CCC(Oc3ccc(Cl)c(Cl)c3)CC2)CC1\n",
      "[NH3+]c1ccccc1Sc1ccccc1\n",
      "O=C(O)CP(=O)(c1ccccc1)c1ccccc1\n",
      "CC(C)[NH2+]C[C@H](O)c1ccc(Br)cc1\n",
      "Oc1c(Cl)c(Cl)c(Cl)c(Cl)c1Cl\n",
      "CC(C)(C)c1cccc([NH3+])c1\n",
      "CC[NH2+]CC\n",
      "COC(=O)c1ccccc1S(=O)(=O)NC(=O)Nc1nc(C)nc(OC)n1\n",
      "C[NH2+]c1ccccc1\n",
      "C[NH2+]c1ccccc1\n",
      "O=C(O)c1ccc(C2CCCC2)cc1\n",
      "CC(C)[NH2+]C[C@H](O)c1cccc(C(F)(F)F)c1\n",
      "COc1ccc(C[C@@H](C)[NH3+])cc1\n",
      "O=[N+]([O-])c1cccc2[nH]ccc12\n",
      "N#CCC(=O)O\n",
      "N#Cc1ccc(N)[nH+]c1\n",
      "CC[C@H](C)C[NH2+]C1CCCCC1\n",
      "C[C@](C#N)(C(=O)O)c1ccccc1\n",
      "Oc1c(Cl)ccc2cccnc12\n",
      "[NH3+]c1ccccc1-c1ccccc1\n",
      "Oc1cc(C(F)(F)F)cc(C(F)(F)F)c1\n",
      "N#CC(c1c(F)c(F)cc(F)c1F)c1c(F)c(F)c(F)c(F)c1F\n",
      "CCC(CC)NC(=O)c1cn(-c2ccccc2)nc1NS(=O)(=O)c1ccc(C)cc1\n",
      "CCCC[N@@H+]1CCC[C@H]1C\n",
      "[NH3+][C@@H]1CCc2cc(O)c(O)cc2C1\n",
      "C[n+]1ccc2c(O)cccc2c1\n",
      "CNC(=O)CS\n",
      "Oc1cc(Cl)c(Cl)cc1Cl\n",
      "[NH3+]c1cccc(OC(F)(F)F)c1\n",
      "CCOC(=O)N1CCC([NH2+]c2cc(Cl)ccn2)CC1\n",
      "O=C(O)CCCC[C@@H]1CCSS1\n",
      "CC(C)(C)c1nc(N)[nH+]cc1Br\n",
      "CCC[N@H+](C)c1ccccc1\n",
      "O=[N+]([O-])c1cccc(O)c1\n",
      "[NH3+]CC(Cl)(Cl)CCl\n",
      "COc1c(Br)cc([NH3+])cc1Br\n",
      "O=C(/C=C/c1ccc(O)c(O)c1)O[C@@H]1C[C@](O)(C(=O)O)C[C@@H](O)[C@H]1O\n",
      "N#Cc1ccccc1O\n",
      "Oc1ccc2nnccc2c1\n",
      "CC(C)c1cc(C(C)C)c(-c2cc3ccccc3c3c2OP(=O)(O)Oc2c(-c4c(C(C)C)cc(C(C)C)cc4C(C)C)cc4ccccc4c2-3)c(C(C)C)c1\n",
      "c1cnc2c(c1)ccc1ccc[nH+]c12\n",
      "C1CSCC[NH2+]1\n",
      "NS(=O)(=O)c1ccc(F)cc1\n",
      "CCCCC[NH+](C[C@@H](C)O)C[C@@H](C)O\n",
      "O=[N+]([O-])c1cc(S(=O)(=O)NS(=O)(=O)c2ccc(Cl)c([N+](=O)[O-])c2)ccc1Cl\n",
      "CCn1cc(C(=O)O)c(=O)c2cc(F)c(N3CC[NH2+][C@H](C)C3)c(F)c21\n",
      "Oc1ncc2cccnc2n1\n",
      "Oc1ccnc2cccnc12\n",
      "O=C(NCC12CC3CC(CC(C3)C1)C2)c1cc(OC2CC[NH2+]CC2)ccc1Cl\n",
      "Cc1ccc(S(N)(=O)=O)cc1\n",
      "CCCc1cc(CCC)c(O)c(CCC)c1\n",
      "CC(C)(C)[NH2+]C[C@H](O)c1ccc(O)c(CO)c1\n",
      "O=COO\n",
      "Cc1ccccc1O\n",
      "O=[N+]([O-])c1ccc2c(c1)Oc1ccccc1N2\n",
      "CC(O)(C(F)(F)F)C(F)(F)F\n",
      "N#Cc1ccc(C(=O)O)cc1\n",
      "Cn1cc(C(=O)NC[C@@H](O)C[NH+]2CCC(Oc3ccc(Cl)c(Cl)c3)CC2)c(C(F)(F)F)cc1=O\n",
      "Nc1ccc(S(=O)(=O)Nc2ncccn2)cc1\n",
      "S=C(Nc1ccccc1)c1ccccc1\n",
      "CNc1nc(OC)cc[nH+]1\n",
      "C[C@H]1CC[C@@H](O)[C@@H]([NH3+])C1\n",
      "Nc1ccc(N)[nH+]c1\n",
      "[NH3+]c1cc(Br)cc2ccccc12\n",
      "CC[NH+](CC)c1ccccc1\n",
      "c1ccc2nc[nH+]cc2c1\n",
      "CC(C)C1=[NH+]C[C@H](C)S1\n",
      "CC#CCO\n",
      "CCC[NH+]1CCCCC1\n",
      "NS(=O)(=O)c1ccc(C(F)(F)F)cc1\n",
      "C1=C(c2ccccc2)[NH2+]CC1\n",
      "C[C@@H](C=C(c1cccs1)c1cccs1)[NH+]1CCCCCC1\n",
      "[NH3+]CCF\n",
      "OC(C(F)(F)F)(C(F)(F)F)C(F)(F)Cl\n",
      "O=[N+]([O-])C1=NC=C[NH2+]1\n",
      "CCOP(=O)(OCC)c1cccc(C(=O)O)c1\n",
      "Oc1ncnc2ccccc12\n",
      "CN(C)c1ccccc1S(=O)(=O)NC(=O)N1CCC([NH+]2CCC(Oc3ccc(Cl)c(Cl)c3)CC2)CC1\n",
      "CCC[N@H+](CC)c1ccccc1\n",
      "CC(=O)Oc1cccc(C(=O)O)c1\n",
      "CC[C@@H]1C[N@H+]1CC\n",
      "Oc1c(C(F)(F)F)ccc2cccnc12\n",
      "COC(=O)C1c2ccccc2-c2ccccc21\n",
      "COc1cc(C(C)(C)C)c(O)c(C(C)(C)C)c1\n",
      "Oc1ccc2ccccc2c1\n",
      "CCn1cc(C(=O)O)c(=O)c2cc(F)c(N3CC[NH2+]CC3)nc21\n",
      "CCOC(=O)C1=C(C)[NH2+]C(C)=C(C(C)=O)[C@H]1c1cccc2c(=O)cc(C)oc12\n",
      "O=C(O)COc1cccc(Br)c1\n",
      "CC(C)[NH2+]C[C@H](O)c1cccc(Br)c1\n",
      "O=C(O)/C=C/c1ccc[nH+]c1\n",
      "CC(C)(S)[C@@H]([NH3+])C(=O)[O-]\n",
      "COc1cc[nH+]c(N)c1\n",
      "c1c[nH+]ccn1\n",
      "CCCCS\n",
      "CC(C)Cc1ccc([C@H](C)C(=O)O)cc1\n",
      "CN(C)CC[NH+](C)C\n",
      "[NH3+]c1cccc(Cl)c1Cl\n",
      "Cc1cc(O)nc(C)n1\n",
      "O=CC(=O)O\n",
      "[NH3+]c1cccc2ccc(Cl)cc12\n",
      "CC(C)c1c(Br)cc(Br)c(=O)c(O)c1Br\n",
      "O=P1(NS(=O)(=O)C(F)(F)F)Oc2c(-c3ccccc3)cc3ccccc3c2-c2c(c(C3C=CC=CC3)cc3ccccc23)O1\n",
      "O=C(O)Cc1cccc(I)c1\n",
      "COc1cccc(C[NH2+]c2ccc([N+](=O)[O-])cc2[N+](=O)[O-])c1\n",
      "CCOc1ccc(NC(C)=O)cc1\n",
      "CCn1cc(C(=O)O)c(=O)c2cc(F)c(N3CCN(C)CC3)cc21\n",
      "Fc1c(F)c(F)c(C2c3c(F)c(F)c(F)c(F)c3-c3c(F)c(F)c(F)c(F)c32)c(F)c1F\n",
      "Oc1ccccc1\n",
      "CC[C@H]([NH3+])[C@@H](O)c1ccc(O)c(O)c1\n",
      "Cc1[nH][nH+]c(C)c1Cc1sc2c(c1C(=O)N1C[C@H](O)CO1)c(=O)n(C)c(=O)n2CC(C)C\n",
      "Oc1cccnn1\n",
      "O=C(O)C(c1ccccc1)c1ccccc1\n",
      "COC(=O)c1cccc(C)c1S(=O)(=O)NC(=O)Nc1nc(OCC(F)(F)F)nc(N(C)C)n1\n",
      "O=C(NO)c1cccc([N+](=O)[O-])c1\n",
      "CSc1cccc([C@@H](O)C[NH2+]C(C)C)c1\n",
      "[NH3+]CCCCCc1ccccc1\n",
      "NCCC[NH3+]\n",
      "O=Cc1ncccc1O\n",
      "CCOC(=O)c1ccc[nH+]c1N\n",
      "CC(=O)c1ccc(-c2ccccc2O)cc1\n",
      "CS(=O)(=O)c1ccccc1[NH3+]\n",
      "N#CC(=O)O\n",
      "CC[C@H](C)c1cc([N+](=O)[O-])cc([N+](=O)[O-])c1O\n",
      "CC(C)[NH3+]\n",
      "SCc1ccccn1\n",
      "CC[NH2+]c1cccc(C)c1\n",
      "c1ccc([NH2+]c2ccccc2)cc1\n",
      "Cc1cc(CN2Cc3ccccc3C[C@H]2C(=O)Nc2ccc(Cl)cc2Cl)ccc1OCC(=O)O\n",
      "COC(=O)c1cc(O)c2ccccc2c1\n",
      "[NH3+]c1ccc([C@@]23CCCC[C@@H]2C3)cc1\n",
      "Oc1ccncn1\n",
      "COC(=O)C[C@@](C)(C(=O)O)c1ccccc1\n",
      "Cc1c(C2(c3cc(C(C)C)c(O)c(Br)c3C)OS(=O)(=O)c3ccccc32)cc(C(C)C)c(O)c1Br\n",
      "Cc1ccccc1CCC(=O)O\n",
      "Cc1ccc(C(=O)N2C[C@H]3C[NH2+]C[C@@H](C2)O3)cc1NC(=O)CC12CC3CC(CC(C3)C1)C2\n",
      "C[NH2+]C\n",
      "c1cc(C[NH+]2CCCCC2)ccn1\n",
      "O=C(O)Cc1ccc(Br)cc1\n",
      "O=C(O)c1ccc([N+](=O)[O-])cc1[N+](=O)[O-]\n",
      "C1CC[NH2+]C1\n",
      "O=C(NO)c1ccccc1\n",
      "CCCC(=O)OO\n",
      "C[N@@H+](c1ccccc1)C1CCCCC1\n",
      "C=CC[NH3+]\n",
      "Cc1cc(C)nc(O)n1\n",
      "O=[N+]([O-])c1ccc(S(=O)(=O)NS(=O)(=O)c2ccc([N+](=O)[O-])cc2)cc1\n",
      "O=[N+]([O-])c1cc([N+](=O)[O-])c(Nc2c([N+](=O)[O-])cc([N+](=O)[O-])cc2[N+](=O)[O-])c([N+](=O)[O-])c1\n",
      "Cc1ccc(N)[nH+]c1\n",
      "C=CCC(=O)OCC[NH+]1CCCCC1\n",
      "c1cc(CC[NH+]2CCCC2)ccn1\n",
      "C[C@@H]([NH2+]C(C)(C)C)C(=O)c1cccc(Cl)c1\n",
      "[NH3+]c1cc(Cl)ccc1Cl\n",
      "CC[NH2+]c1cccc2ccccc12\n",
      "O=C(Cc1ccccc1)NO\n",
      "Cc1ccc(C(=NS(=O)(=O)C(F)(F)F)NS(=O)(=O)C(F)(F)F)cc1\n",
      "Cc1c(F)c(F)c(Nc2c(F)c(F)c(F)c(F)c2F)c(F)c1F\n",
      "CC(C)[NH2+]CC(=O)c1ccc(O)cc1\n",
      "CC[NH+](CC)CCC[NH+](CC)CC\n",
      "O[C@H](c1ccccc1)[C@@H]1CCCC[NH2+]1\n",
      "O=C(O)C(O)(c1ccccc1)c1ccccc1\n",
      "C[C@@H](CC(c1ccccc1)c1ccccc1)[NH+]1CCOCC1\n",
      "CC(=O)OCCCC[NH+](C)C\n",
      "NS(=O)(=O)c1cccc([NH3+])c1\n",
      "NS(=O)(=O)c1ccc(Cl)cc1\n",
      "[NH3+]c1cc([N+](=O)[O-])ccc1Cl\n",
      "CSc1ccc([NH3+])c(I)c1\n",
      "CCCCCCCCCC[NH+](C[C@@H](C)O)C[C@@H](C)O\n",
      "Cc1ccc(S(=O)(=O)Nc2c(C(=O)N[C@@H](C)C(C)(C)C)c(C)nn2C(C)(C)C)cc1\n",
      "CC[NH2+]C[C@H](O)c1ccc(OC)c(OC)c1\n",
      "O=C(O)[C@H](O)c1cccc(Br)c1\n",
      "COc1cc(C[NH3+])ccc1O\n",
      "FC(F)(F)c1c(S)c(C(F)(F)F)c(C(F)(F)F)c(C(F)(F)F)c1C(F)(F)F\n",
      "Oc1cc(C(F)(F)F)cc(C(F)(F)F)c1\n",
      "Cc1[nH+]c2c(OCc3ccccc3)cccn2c1CC#N\n",
      "CC(=O)O\n",
      "Oc1c(Cl)c(Cl)cc(Cl)c1Cl\n",
      "CC[NH2+]CC\n",
      "Cl\n",
      "O=S(=O)(O)C(F)(F)F\n",
      "COc1ccc([C@@H]2Sc3ccccc3N(CC[NH+](C)C)C(=O)[C@@H]2OC(C)=O)cc1\n",
      "C[NH+](C)CCO\n",
      "[NH3+]c1cc([N+](=O)[O-])c2ccccc2c1\n",
      "Oc1ccc2ccccc2c1/N=N/c1nccs1\n",
      "CC1(C)S[C@@H]2[C@H](NC(=O)[C@H]([NH3+])c3ccccc3)C(=O)N2[C@H]1C(=O)[O-]\n",
      "CCNP(=N[P+](N(C)C)(N(C)C)N(C)C)(N(C)C)N(C)C\n",
      "CC(C)C[NH3+]\n",
      "COc1cc([NH3+])cc([N+](=O)[O-])c1\n",
      "CC(C)[NH2+][C@H](C(C)C)[C@H](O)c1ccc(O)c(O)c1\n",
      "C[C@@H]1CCC[C@@H]([NH3+])C1\n",
      "Cc1c(O)cccc1O\n",
      "COc1ccc(C(=O)NO)cc1\n",
      "CC(=O)c1cc([NH3+])ccc1[N+](=O)[O-]\n",
      "c1ccc2nc(-c3ccc4ccccc4[nH+]3)ccc2c1\n",
      "Cc1ccccc1N(O)C(=O)Cc1ccccc1\n",
      "Cc1ccc(S(=O)(=O)NC(=O)N2CCC(N3CCC(Oc4ccc(Cl)c(C)c4Cl)CC3)CC2)cc1\n",
      "C[NH2+]CC(F)(F)F\n",
      "N#CC1=CCC(C#N)=C1C#N\n",
      "CC(C)C[NH2+]CC(C)C\n",
      "COc1ccc(CC[N@H+](C)CCC[C@](C#N)(c2ccc(OC)c(OC)c2)C(C)C)cc1OC\n",
      "C[NH2+]CCCN1c2ccccc2CCc2ccccc21\n",
      "CCCC[NH2+]CCCC\n",
      "O=C(O)c1ccc(O)c(O)c1\n",
      "OCCS\n",
      "[NH3+]c1cccc2cc3ccccc3cc12\n",
      "O=C(O)[C@H]1CCCN1\n",
      "CC[NH+](C)C\n",
      "CCCC[N@H+]1CCCC[C@@H]1C(=O)Nc1c(C)cccc1C\n",
      "Oc1cccc(I)c1\n",
      "C1CC2CCC1C[NH2+]C2\n",
      "[NH3+][C@@H]1C[C@H]1c1ccccc1\n",
      "NS(=O)(=O)c1ccc(C(F)(F)F)cc1\n",
      "O=C(O)C(O)C(=O)O\n",
      "C[NH+](C)C[C@H](O)c1ccc(O)c(O)c1\n",
      "N#Cc1c[nH]c2ccccc12\n",
      "Cc1cnc(C(=O)NCCc2ccc(S(=O)(=O)NC(=O)NC3CCCCC3)cc2)cn1\n",
      "CC(C)(C)c1cc(NC(=O)NCc2ccccc2Sc2ccc3nnc(-c4ccccc4SCCO)n3c2)n(-c2ccc(O)c(Cl)c2)n1\n",
      "C=C(CC)C(=O)c1ccc(OCC(=O)O)c(Cl)c1Cl\n",
      "N#CC1c2ccccc2-c2ccccc21\n",
      "CCC(=O)N[C@@H](c1cccs1)c1cc(Cl)c2cccnc2c1O\n",
      "C1C[NH+]2CCC1CC2\n",
      "CCOc1ccc(C[NH+](CCO)CCO)cc1\n",
      "C[NH+](C)CC(F)(F)F\n",
      "[NH3+]c1ccc(Br)cc1\n",
      "[NH3+]C1CCC(C(=O)[O-])CC1\n",
      "O=C(O)c1cc(Cl)cc(Cl)c1\n",
      "C1CN=C2NCCC[NH+]2C1\n",
      "O=C(O)c1ccc(Cl)cc1Cl\n",
      "CCn1cc(C(=O)O)c(=O)c2cc(F)c(N3CC[NH2+]CC3)cc21\n",
      "O=C(O)c1cc([N+](=O)[O-])ccc1Cl\n",
      "[NH3+]c1cccc(OC(F)(F)C(F)F)c1\n",
      "[NH3+]c1ccccc1C1CC1\n",
      "O=[N+]([O-])c1cccc(O)c1[N+](=O)[O-]\n",
      "CCCSc1ccc2[nH+]c([N-]C(=O)OC)[nH]c2c1\n",
      "c1c[nH+]ccn1\n",
      "[NH3+]c1ccc(C2CCCC2)cc1\n",
      "O=C(O)COc1ccc(Cl)cc1Cl\n",
      "CCc1cnc(NC)[nH+]c1\n",
      "N#CC(C#N)c1c(F)c(F)c(F)c(F)c1F\n",
      "CC[N@H+]1CCCC=C1C\n",
      "Cc1ccc([N+](=O)[O-])c(O)c1\n",
      "CC[N@H+]1CCC=C1C\n",
      "O=C(O)c1cccc(Oc2ccccc2)c1\n",
      "O=C(O)c1c(Br)cccc1[N+](=O)[O-]\n",
      "CC(CC([N+](=O)[O-])[N+](=O)[O-])([N+](=O)[O-])[N+](=O)[O-]\n",
      "N[NH3+]\n",
      "CCc1cccc(O)c1\n",
      "O=[N+]([O-])c1ccc(O)c([N+](=O)[O-])c1\n",
      "O=C(O)Cc1cccc(Cl)c1\n",
      "[NH3+]c1cc(Cl)cc2ccccc12\n",
      "[NH3+]CCc1ccc(O)c(O)c1\n",
      "c1cc[nH+]nc1\n",
      "Clc1cccc(Cl)c1NC1=[NH+]CCN1\n",
      "COc1cc(CC(=O)O)ccc1O\n",
      "C[NH+](C)Cc1cccc([N+](=O)[O-])c1\n",
      "N#Cc1ccccc1C(=O)O\n",
      "COC(=O)C(CCC(=O)O)(c1ccccc1)c1ccccc1\n",
      "c1ccc([NH2+]c2ccccc2)cc1\n",
      "O=C(O)COc1ccc(Cl)cc1C[NH+]1CCC(S(=O)(=O)c2ccccc2)CC1\n",
      "N#CCCS\n",
      "C[C@H](CC(C#N)(c1ccccc1)c1ccccc1)[NH+]1CCCCC1\n",
      "NS(=O)(=O)c1ccccc1\n",
      "O=C(O)Cc1ccc(F)cc1\n",
      "CCCC[NH+](CCCC)CCCC\n",
      "CC(C)[C@H]([NH3+])C(=O)[O-]\n",
      "CC(C)c1cccc(C(C)C)c1O\n",
      "COc1cc[nH+]c(NC2CCN(C(=O)c3ccc(C#N)cc3)CC2)c1\n",
      "C[C@@H](C=C(c1cccs1)c1cccs1)[N@H+]1CCCC[C@H]1C\n",
      "CC1(C)CCC[NH2+]C1\n",
      "Cc1ccccc1C[NH+](CCO)CCO\n",
      "O=C(O)CCCCl\n",
      "Nc1cnccc1O\n",
      "COc1ccc([C@@H](O)C[NH3+])cc1OC\n",
      "N#CC(C#N)c1c(F)c(F)c(C(F)(F)F)c(F)c1F\n",
      "CC[NH+](CC)CCNC(=O)c1ccc([N-]S(C)(=O)=O)cc1\n",
      "O=C(NS(=O)(=O)C(F)(F)F)c1ccc(Cl)cc1\n",
      "Cc1cc(O)no1\n",
      "C/C(=C\\C(=O)O)c1cc(C)cc(C)c1O\n",
      "CC[NH3+]\n",
      "C[NH+](C)CC[C@@H](c1ccc(Cl)cc1)c1ccccn1\n",
      "Cc1c([NH3+])ccc2c1-c1ccccc1C2\n",
      "CC[NH+](CC)Cc1ccc2cccnc2c1O\n",
      "COc1ccccc1C[NH3+]\n",
      "O=C(NCC12CC3CC(CC(C3)C1)C2)c1cc(OCCC[NH2+]CCCO)ccc1Cl\n",
      "Oc1cc(-c2ccccc2)ccc1Cl\n",
      "N#CC(C#N)c1c(C(F)(F)F)c(C(F)(F)F)c(C(F)(F)F)c(C(F)(F)F)c1C(F)(F)F\n",
      "O=C(O)CNC(=O)c1ccccc1\n",
      "C[NH2+]Cc1ccc([N+](=O)[O-])cc1\n",
      "Nc1cccc2cccc([NH3+])c12\n",
      "CC[NH+](CC)CC\n",
      "[NH3+]c1ccccc1OC(F)(F)F\n",
      "C[NH2+]c1ccc(C)cc1C\n",
      "Cc1ccccc1/C=C/c1ccc([NH+](C)C)cc1\n",
      "[NH3+]c1ccc(Cl)c(Cl)c1\n",
      "N#CC(c1c(F)c(F)nc(F)c1F)c1c(F)c(F)nc(F)c1F\n",
      "Oc1c(Cl)c(Cl)c(Cl)c(Cl)c1Cl\n",
      "CC1(C)S[C@@H]2[C@H](NC(=O)Cc3ccccc3)C(=O)N2[C@H]1C(=O)O\n",
      "O=C1c2ccccc2C(=O)c2c1cccc2S(=O)(=O)O\n",
      "Oc1cccc2ncccc12\n",
      "CN(C)CCNc1cc(-c2ccc(N3CC[NH+](C)CC3)cc2)nc2ccccc12\n",
      "O=C(O)C1(O)c2ccccc2-c2ccccc21\n",
      "CCSc1ccc([NH3+])cc1\n",
      "C[NH+](C)Cc1ccccc1\n",
      "O=C(O)CCc1ccccc1[N+](=O)[O-]\n",
      "C[N@@H+]1CCc2cccc3c2[C@H]1Cc1ccc(O)c(O)c1-3\n",
      "c1ccc2nc(-c3ccc4ccccc4[nH+]3)ccc2c1\n",
      "CN(C)[C@@H]1CCc2c(ccc(O)c2O)C1\n",
      "C[NH+](C)c1cccc(C(F)(F)F)c1\n",
      "C/C(=N\\O)C(C)(C)CCCCC[NH3+]\n",
      "Cc1ccc([NH3+])c(C)c1\n",
      "CCC(=O)C(C[C@H](C)[NH+]1CCCCC1)(c1ccccc1)c1ccccc1\n",
      "CC[NH+](CC)CC\n",
      "O=C(O)c1ccc(C(=O)O)cc1\n",
      "Cc1cc(C[N@H+]2Cc3ccccc3[C@@H]2C(=O)Nc2ccc(Cl)cc2Cl)ccc1OCC(=O)[O-]\n",
      "C[NH+](C)c1cccc2ccccc12\n",
      "COC(=O)[C@H]1C[C@H](C)[NH2+][C@@H]2CCCC[C@H]12\n",
      "CCNP(=N[P+](N(C)C)(N(C)C)N(C)C)(N(C)C)N(C)C\n",
      "c1ccc2n[nH+]ccc2c1\n",
      "CCCC[C@@H](CC)CO[NH+](C[C@@H](C)O)C[C@@H](C)O\n",
      "O=C([O-])C(=O)O\n",
      "[NH3+]c1c(Cl)cc(Cl)cc1Cl\n",
      "c1cc[nH+]cc1\n",
      "C1CCN2C[C@@H]3C[C@@H](C[N@H+]4CCCC[C@H]34)[C@@H]2C1\n",
      "CC(C)(C)c1ccc(O)c(C(C)(C)C)c1\n",
      "O=C(O)CS\n",
      "O=C(NS(=O)(=O)c1ccc(F)cc1)N1CCC([NH+]2CCC(Oc3ccc(Cl)c(Cl)c3)CC2)CC1\n",
      "C[NH+](C)Cc1ccc([N+](=O)[O-])cc1\n",
      "Oc1ccc(C2CCCCC2)cc1Cl\n",
      "O=C(O)Cc1ccc(O)c(O)c1\n",
      "Oc1c(Cl)cc(Cl)c(Cl)c1Cc1c(O)c(Cl)cc(Cl)c1Cl\n",
      "CCOC(=O)C(C#N)c1c(F)c(F)c(F)c(F)c1F\n",
      "Oc1cccc(-c2ccccc2)c1\n",
      "CSc1ncnc(O)c1C\n",
      "Oc1ccc(F)cc1\n",
      "N#Cc1c(O)nc(N)nc1-c1ccccc1\n",
      "CN(C)CCC[NH+](C)C\n",
      "Cc1cc(Cl)ccc1O[C@@H](C)C(=O)O\n",
      "ClCC[NH+](CCCl)c1cc(Cl)cc2c1OCOC2\n",
      "Oc1ccccn1\n",
      "O=C(O)c1c(Br)cccc1CO\n",
      "COC(=O)C1=CCC[N@H+](C)C1\n",
      "C[N@H+](c1ccccc1)C(C)(C)C\n",
      "CCC([NH3+])CC\n",
      "CN(C)S(=O)(=O)NC(=O)CCCc1c(-c2ccc(F)cc2)[nH]c2ccc(C#N)cc12\n",
      "C[NH2+][C@@H](C)[C@@H](O)c1ccccc1\n",
      "O=C(O)CC(=O)O\n",
      "Oc1ccc2cccnc2c1\n",
      "C[NH+](C)Cc1cccnc1\n",
      "CC(=O)c1ccccc1C(=O)O\n",
      "CCCCCC[NH2+]c1ccccc1\n",
      "CC(C)(C)c1ccc([C@@H](O)CCC[NH+]2CCC(C(O)(c3ccccc3)c3ccccc3)CC2)cc1\n",
      "CC(=C(C#N)C#N)C(C#N)C#N\n",
      "COc1cccc[nH+]1\n",
      "C=C1CC[NH+](C)CC1\n",
      "CCC[NH2+]CCC\n",
      "N#CC(C#N)=C(c1cccc(C(F)(F)F)c1)C(C#N)C#N\n",
      "CC(=O)c1ccc(-c2ccc([NH3+])cc2)cc1\n",
      "CC[NH+](C)C\n",
      "C1CCC([C@@H]2CCC[NH2+]2)CC1\n",
      "CCCNc1nccc[nH+]1\n",
      "O=C(O)c1ccc([N+](=O)[O-])cc1Cl\n",
      "Oc1cccc2cccnc12\n",
      "CN(C)P(=N[P+](N=P(N(C)C)(N(C)C)N(C)C)(N=P(N(C)C)(N(C)C)N(C)C)NC(C)(C)C)(N(C)C)N(C)C\n",
      "COC(=O)[C@](C)(CC(=O)O)c1ccc([N+](=O)[O-])cc1\n",
      "Cc1c(F)c(F)c([C@@H](C#N)c2c(F)c(F)c(F)c(F)c2F)c(F)c1F\n",
      "[NH3+]c1ccc(F)c([N+](=O)[O-])c1\n",
      "CCC[NH+](CCC)CCC\n",
      "[NH3+]c1cc(Cl)ccc1Cl\n",
      "O=[N+]([O-])c1ccc(-c2ccccc2O)cc1\n",
      "CC[NH+](CC)CCNC(=O)c1ccc(NS(C)(=O)=O)cc1\n",
      "O=C(O)CCC(=O)c1cccc2ccccc12\n",
      "CCC1=[NH+]C[C@H](C)S1\n",
      "CNc1nc(C)c(Br)c(C)[nH+]1\n",
      "CCCC[NH+](CCCC)c1ccccc1\n",
      "COC(=O)c1cc([NH3+])cc2ccccc12\n",
      "NS(=O)(=O)c1ccccc1C[NH3+]\n",
      "C[NH2+]c1ccccc1\n",
      "O=[N+]([O-])c1cc2c(c([N+](=O)[O-])c1)Nc1ccccc1O2\n",
      "Oc1cc(Cl)c(Cl)c(Cl)c1\n",
      "Nc1ncc(-c2ccc(F)cc2)c[nH+]1\n",
      "CC(C)(C)c1cccc(C(=O)O)c1\n",
      "C1C[NH+]2CCN1CC2\n",
      "CN(C)c1cccc2cccc([NH+](C)C)c12\n",
      "C[NH+](C)CCCN1c2ccccc2CCc2ccccc21\n",
      "CN/C(=C\\[N+](=O)[O-])NCCSCc1ccc(C[NH+](C)C)o1\n",
      "Cc1cc([NH3+])ccc1Br\n",
      "C[C@@H]([NH3+])CCCc1ccccc1\n",
      "Oc1ccc(Br)cc1\n",
      "O=C(O)C(O)(O)C(O)(O)C(=O)O\n",
      "CC(=O)O\n",
      "CCC[C@@H]1CCC[N@H+]1C\n",
      "O=C(O)CCc1ccccc1Cl\n",
      "Cc1c(F)c(F)c(C(C#N)C#N)c(F)c1F\n",
      "Oc1cccc(C(F)(F)F)c1\n",
      "O=C(Nc1ccc(Cl)cc1)Nc1ccc(Cl)c(Cl)c1\n",
      "Cc1cccc(C)c1O\n",
      "CC(=O)[C@H]([NH3+])C(=O)OCc1ccccc1\n",
      "O=C(O)c1ccc(C2CCCCC2)cc1\n",
      "C[C@@H](CCc1ccccc1)NC[C@H](O)c1ccc(O)c(C(N)=O)c1\n",
      "CC(=O)O[C@H](C)C[NH+](C)C\n",
      "C[C@H](CO)Nc1nc(SCc2cccc(F)c2F)nc2[nH]c(=O)ccc12\n",
      "O=C(O)c1ccccc1O\n",
      "O=C(O)[C@H](Cc1ccccc1)[NH+]1CCC(CN2CCC(Oc3ccc(Cl)c(Cl)c3)CC2)CC1\n",
      "O=C(NC[C@@H](O)C[NH+]1CCC(Oc2ccc(Cl)c(Cl)c2)CC1)c1c[nH]nc1C(F)(F)F\n",
      "Nc1[nH]ncc1-c1cc(Cl)ccc1Oc1cc(F)c(S(=O)(=O)Nc2cscn2)cc1Cl\n",
      "O=C(O)/C=C/c1ccc(Cl)cc1\n",
      "O=C(O)CCCl\n",
      "c1ccc2c[nH+]ccc2c1\n",
      "CCOC(=O)C(C#N)c1c(F)c(F)c(Cl)c(F)c1F\n",
      "[NH3+]c1ccccc1F\n",
      "Nc1ccc([NH3+])c[nH+]1\n",
      "CC1=[NH+]C(C)(C)CS1\n",
      "COc1cccc([C@@H](O)C[NH2+]C(C)C)c1\n",
      "CC[NH+](CC)CCOC(=O)c1ccc([NH3+])cc1\n",
      "O=C(O)c1cn(C2CC2)c2cc(N3CC[NH2+]CC3)c(F)cc2c1=O\n",
      "C[N@@H+](c1ccccc1)C1CCCC1\n",
      "O=[N+]([O-])c1ccc(O)cc1C(F)(F)F\n",
      "CC[NH+](CC)CC(c1ccccc1)c1ccccc1\n",
      "[NH3+]CCCCCCO\n",
      "C[C@@H]([NH3+])Cc1ccccc1\n",
      "CSCC[NH3+]\n",
      "[NH3+]c1ccc(-c2ccccc2)cc1[N+](=O)[O-]\n",
      "Cc1c(F)c(F)c(O)c(F)c1F\n",
      "[NH3+]c1ccc([N+](=O)[O-])cc1Cl\n",
      "Cc1cccc(Cl)c1[NH3+]\n",
      "CCn1nc(C(=O)O)c(=O)c2cc3c(cc21)OCO3\n",
      "[NH3+]CCCC(Cl)(Cl)Cl\n",
      "NS(=O)(=O)c1ccccc1\n",
      "COc1ccc(S(=O)(=O)NC(=O)N2CCC([NH+]3CCC(Oc4ccc(Cl)c(Cl)c4)CC3)CC2)cc1\n",
      "CC(C)OP(=O)(OC(C)C)SCC[NH+](C)C\n",
      "[NH3+]CCc1cscn1\n",
      "C1C[NH2+]CCN1\n",
      "CCCCCNc1nccc[nH+]1\n",
      "C=CC[NH2+]c1ccccc1\n",
      "O=S(=O)(F)c1cc(S(=O)(=O)F)c(O)c(S(=O)(=O)F)c1\n",
      "c1cc[nH+]nc1\n",
      "NC1=[NH+][C@H](c2cccs2)Nc2cccc(F)c21\n",
      "CCCc1[nH+]c(C(C)(C)O)c(C(=O)OCc2oc(=O)oc2C)n1Cc1ccc(-c2ccccc2-c2nnn[n-]2)cc1\n",
      "CC[NH+](CC)c1cccc(C)c1\n",
      "CCCSc1ccc2[nH+]c(NC(=O)OC)[nH]c2c1\n",
      "COc1ccc2cc([C@H](C)C(=O)O)ccc2c1\n",
      "C[NH+]1CCN(C(=O)c2ccccc2)CC1\n",
      "C=C[C@H]1C[N@@H+]2CC[C@H]1C[C@H]2[C@H](O)c1ccnc2ccc(OC)cc12\n",
      "CCCC[N@H+]1CCCC[C@H]1C\n",
      "[NH3+]c1ccc(C(=O)c2ccccc2)cc1\n",
      "OC(=S)CCCCC(O)=S\n",
      "O=S(=O)(Nc1ccccc1)c1ccccc1\n",
      "C[NH2+][C@H](C)Cc1ccccc1\n",
      "CC(C)[NH2+]C[C@H](O)c1cccc(Cl)c1\n",
      "CC(C)(C(=O)O)c1ccc([C@@H](O)CCC[NH+]2CCC(C(O)(c3ccccc3)c3ccccc3)CC2)cc1\n",
      "Oc1cccc2c1CCCC2\n",
      "C[NH2+]c1cccc2ccccc12\n",
      "O=[N+]([O-])c1cc(S(=O)(=O)NS(=O)(=O)c2ccc(Cl)c([N+](=O)[O-])c2)ccc1Cl\n",
      "[NH3+]c1ccc([N+](=O)[O-])c([N+](=O)[O-])c1\n",
      "N#CC(c1c(F)c(F)nc(F)c1F)c1c(F)c(F)c2c(F)c(F)c(F)c(F)c2c1F\n",
      "C[C@@H](Cc1ccc(C(C)(C)C)cc1)C[NH+]1C[C@H](C)O[C@H](C)C1\n",
      "O=[N+]([O-])c1ccc([NH2+][C@H]2CCc3ccccc32)cc1\n",
      "CC[C@H](C)C(=O)O[C@H]1C[C@H](O)C=C2C=C[C@H](C)[C@H](CC[C@@H](O)C[C@@H](O)CC(=O)O)[C@H]21\n",
      "Cc1cccc(S(N)(=O)=O)c1\n",
      "O=[N+]([O-])c1ccc(S(=O)(=O)O)cc1\n",
      "N#CC(c1c(F)c(F)c(F)c(F)c1F)c1c(F)c(F)c(Cl)c(F)c1F\n",
      "C[NH2+]C(C)(C)Cc1ccccc1\n",
      "CC[NH3+]\n",
      "Nc1c(C(F)(F)F)c(C(F)(F)F)c(C(F)(F)F)c(C(F)(F)F)c1C(F)(F)F\n",
      "O=C(O)c1c(O)cccc1O\n",
      "N#Cc1ccc(C[C@@H](C(=O)[O-])N2CCC(C[NH+]3CCC(Oc4ccc(Cl)c(Cl)c4)CC3)CC2)cc1\n",
      "CCOc1ccnc(O)n1\n",
      "CC[NH2+]Cc1ccccc1\n",
      "COc1cc(OC)nc(NC(=O)NS(=O)(=O)c2c(-c3nnn(C)n3)cnn2C)n1\n",
      "O=C(NC[C@@H](O)CN1CCC(Oc2ccc(Cl)c(Cl)c2)CC1)c1c[nH]nc1C(F)(F)F\n",
      "Cn1c(=O)c2c([nH+]cn2C)n(C)c1=O\n",
      "CCOC(=O)COc1ccc([NH3+])cc1\n",
      "CCc1ccc(O)c2c(CC)c(C)oc12\n",
      "N#Cc1ccc(C(=O)N2CCC3(CC2)Nc2c(F)ccc(F)c2C(N)=[NH+]3)cc1\n",
      "CC[NH+](CC)CC\n",
      "[NH3+][C@H]1CCc2ccccc21\n",
      "CC(C)[NH2+]C[C@@H](O)COc1cccc2ccccc12\n",
      "C1CC[NH2+]C1\n",
      "Oc1ccccc1Cl\n",
      "Cc1ccccc1C[C@@H](C(=O)[O-])[NH+]1CCC(CN2CCC(Oc3ccc(Cl)c(Cl)c3)CC2)CC1\n",
      "[NH3+]c1cccc(OC(F)(F)C(F)(F)F)c1\n",
      "Cc1ncnc2c(O)cccc12\n",
      "Clc1ccc(CO[C@H](Cn2cc[nH+]c2)c2ccc(Cl)cc2Cl)c(Cl)c1\n",
      "[NH3+][C@@H]1C[C@@H]2CC[C@H]1C2\n",
      "O=[N+]([O-])c1cc(Cl)cc([N+](=O)[O-])c1O\n",
      "C/C=C(\\Cl)C(=O)O\n",
      "O=C(O)c1ccccc1\n",
      "O=S(=O)(N=S(=O)(NS(=O)(=NS(=O)(=O)C(F)(F)F)c1ccccc1)c1ccccc1)C(F)(F)F\n",
      "O=C(O)Cc1ccccc1CO\n",
      "Cc1nc(C)c2cccc(O)c2n1\n",
      "CC(C)[NH+](C)C\n",
      "CCC(=O)C(CC[NH+]1CCOCC1)(c1ccccc1)c1ccccc1\n",
      "[NH3+]c1ccc2ccccc2c1\n",
      "NCCC[NH3+]\n",
      "C=CC(=O)O\n",
      "N[C@@H](CS)C(=O)O\n",
      "O=C(O)[C@H](Cc1ccccc1)N1CCC(C[NH+]2CCC(Oc3ccc(Cl)c(Cl)c3)CC2)CC1\n",
      "O=[N+]([O-])c1ccc(S(=O)(=O)NS(=O)(=O)c2ccc(Cl)cc2)cc1\n",
      "C[NH2+]C[C@H](O)c1cccc(O)c1\n",
      "CCCOc1ccc(C(=O)O)cc1\n",
      "COc1ccc([NH3+])c([N+](=O)[O-])c1\n",
      "CCC(CC)C(=O)O\n",
      "O=C(O)C(Cl)(Cl)Cl\n",
      "COc1ccc(C(=C(C#N)C#N)C(C#N)C#N)cc1OC\n",
      "C[N+](C)(C)c1cccc([NH3+])c1\n",
      "C[Si](C)(C)c1ccc([NH3+])cc1\n",
      "O=S(=O)(Cc1cc(C(F)(F)F)cc(C(F)(F)F)c1)C(F)(F)F\n",
      "C[C@H]([NH3+])c1ccc(F)cc1\n",
      "c1cc[nH+]cc1\n",
      "O=C1NS(=O)(=O)c2ccccc21\n",
      "CC(C)(S)[C@@H](N)C(=O)O\n",
      "Nc1cccc(Br)[nH+]1\n",
      "COc1ccc([NH+](C)C)cc1\n",
      "CC[C@@](CC(=O)O)(C(=O)OC)c1ccc([N+](=O)[O-])cc1\n",
      "COC(=O)C[C@@H](C(=O)O)c1ccc([N+](=O)[O-])cc1\n",
      "C[C@H](CO)Nc1nc(SCc2ccccc2)nc2[nH]c(=O)sc12\n",
      "Oc1cccc2ccnnc12\n",
      "C/C(=N\\O)C(C)(C)CCC[NH3+]\n",
      "c1ccc(CC[NH+]2CCCC2)nc1\n",
      "COc1ccc(Sc2ccc([NH3+])cc2)cc1\n",
      "C[N@H+]1CCCC(C)(C)C1\n",
      "NC(Nc1ccccc1)=[NH+]c1ccccc1\n",
      "O=[N+]([O-])c1cc([N+](=O)[O-])c(S(=O)(=O)O)c([N+](=O)[O-])c1\n",
      "Fc1c(F)c(F)c(C2c3c(F)c(F)c(F)c(F)c3-c3c(F)c(F)c(F)c(F)c32)c(F)c1F\n",
      "COc1ccc(Cl)cc1C(=O)NCCc1ccc(S(=O)(=O)NC(=O)NC2CCCCC2)cc1\n",
      "COc1ccc(CCC(=O)O)cc1\n",
      "[NH3+]c1ccc(C2CCC2)cc1\n",
      "COc1ncc(-c2ccc([NH+](C)C)cc2)cn1\n",
      "C[C@@H](C=C(c1ccccc1)c1ccccc1)[NH+](C)C\n",
      "COc1cc2ccccc2cc1C(=O)O\n",
      "O=C(Nc1ccc(Cl)c(S(=O)(=O)N2CC[NH2+]CC2)c1O)Nc1cccc(F)c1Cl\n",
      "Oc1ccc2ncccc2c1\n",
      "CC(=O)N[C@@H](CS)C(=O)[O-]\n",
      "C[C@H]([NH3+])c1ccc([N+](=O)[O-])cc1\n",
      "Cc1ccc(C(C)C)c(O)c1\n",
      "O=C([O-])CCCCC(=O)O\n",
      "Cc1nn(-c2ccc(F)cc2)c(NS(=O)(=O)c2ccc(C#N)cc2)c1C(=O)N[C@@H](C)C(C)(C)C\n",
      "O=C(O)[C@@H]1Cc2c([nH]c3ccccc23)[C@H](c2ccccc2)[NH2+]1\n",
      "Cc1cccc(C)c1[NH3+]\n",
      "C[C@H](CO)Nc1nc(SCc2cccc(F)c2F)nc2[nH]c(=O)c(C#N)cc12\n",
      "C[NH2+]c1ccccc1[N+](=O)[O-]\n",
      "CCC[NH+](CCC)CCC\n",
      "C[NH3+]\n",
      "C[N+](C)(C)c1cccc(CC(=O)O)c1\n",
      "CCOc1[nH+]cc(C)c2c1[C@H](c1ccc(C#N)cc1OC)C(C(N)=O)=C(C)N2\n",
      "CS(=O)(=O)c1cccc(C(=O)O)c1\n",
      "O=S(=O)(c1cc(S(=O)(=O)C(F)(F)F)c(O)c(S(=O)(=O)C(F)(F)F)c1)C(F)(F)F\n",
      "[NH3+]c1ccc(C=O)cc1\n",
      "COc1cccc(C(=O)NCC[NH+]2CCC(Oc3ccc(Cl)c(Cl)c3)CC2)c1\n",
      "C[C@H]1CCC[C@@H](O)[C@@H]1[NH3+]\n",
      "Cc1cc(C)c([N+](=O)[O-])c(C)c1O\n",
      "Sc1cccc(Cl)c1\n",
      "CC(C)[NH2+]C[C@H](O)c1ccc(O)cc1\n",
      "COC(=O)c1cc(O)c(O)c(O)c1C[NH+](C)C\n",
      "O=C([C@H]1CCCC[NH2+]1)N1CCN(c2nc(NCc3ccc(Cl)cc3Cl)c3cccnc3n2)CC1\n",
      "CCC[NH+](CCC)CCc1ccc(O)c2c1CC(=O)N2\n",
      "C[C@H](C(=O)O)c1ccc(-c2ccccc2)c(F)c1\n",
      "O=C(O)/C=C/c1ccccc1O\n",
      "CCOC(=O)CS\n",
      "O=C(O)CC(=O)C(Cl)Cl\n",
      "CN(C)P(=N[P+](N=P(N(C)C)(N(C)C)N(C)C)(N=P(N(C)C)(N(C)C)N(C)C)NC(C)(C)C)(N(C)C)N(C)C\n",
      "C[C@H]1CC[NH2+]C(C)(C)C1\n",
      "[NH3+]CCS\n",
      "CC1=C(C)C(C)(C)[NH+](C)C1(C)C\n",
      "Oc1ccnnc1\n",
      "CN(C)c1ccccc1S(=O)(=O)[N-]C(=O)N1CCC([NH+]2CCC(Oc3ccc(Cl)c(Cl)c3)CC2)CC1\n",
      "CCCCOc1ccc([NH3+])c([N+](=O)[O-])c1\n",
      "O=C(NS(=O)(=O)c1ccc(Cl)cc1)N1CCC([NH+]2CCC(Oc3ccc(Cl)c(Cl)c3)CC2)CC1\n",
      "CCCCOc1ccc([C@H](C)[NH3+])cc1\n",
      "Cc1ccc(S(N)(=O)=O)cc1\n",
      "O=[N+]([O-])c1ccc(S(=O)(=O)NS(=O)(=O)c2ccc([N+](=O)[O-])cc2)cc1\n",
      "OCCCS\n",
      "Br\n",
      "O=[N+]([O-])c1ccc2cc[nH]c2c1\n",
      "CC(=O)O\n",
      "O=C([N-]S(=O)(=O)c1ccc(F)cc1)N1CCC([NH+]2CCC(Oc3ccc(Cl)c(Cl)c3)CC2)CC1\n",
      "CCCC[NH+](C)C\n",
      "C[NH2+]c1ccccc1\n",
      "O=S(=O)(O)C(F)(F)F\n",
      "CC(=O)C(CC[NH+]1CCOCC1)(c1ccccc1)c1ccccc1\n",
      "c1ccc2[nH+]c[nH]c2c1\n",
      "CC1=NS(=O)(=O)c2cc(Cl)ccc2N1\n",
      "O=C(O)c1c(Cl)cccc1[N+](=O)[O-]\n",
      "CC(C)[NH2+]C[C@H](O)c1ccc(S(C)(=O)=O)cc1\n",
      "COc1cccc(CCC(=O)O)c1\n",
      "O=C(O)c1cc(=O)c2ccccc2[nH]1\n",
      "CCC(CC)NC(=O)c1cnn(-c2ccccc2)c1NS(=O)(=O)C1CCCC1\n",
      "C=CCc1c(C)nc(O)nc1C\n",
      "[NH3+][C@@H]1CCCc2ccccc21\n",
      "[NH3+]CCc1c[nH]c2ccc(O)cc12\n",
      "O=[N+]([O-])c1cccc(NS(=O)(=O)c2ccccc2)c1\n",
      "CC(C)[NH2+]C[C@H](O)c1cccc([N+](=O)[O-])c1\n",
      "CCCCCC[N@@H+](CC[N+]1(C)CCCCC1)c1ccccc1\n",
      "O=C(O)c1ccc([N+](=O)[O-])cc1[N+](=O)[O-]\n",
      "O=[N+]([O-])c1ccc(-c2cnc(O)nc2)cc1\n",
      "CCCc1c(C)nc(O)nc1C\n",
      "Oc1c(Cl)cc(Cl)c2cccnc12\n",
      "CN(C)c1ccc(C(=O)O)cc1\n",
      "CC(C)(O)C(F)(F)F\n",
      "O=C(O)c1cccc(Br)c1CO\n",
      "CC[C@H]1CSC(C)=[NH+]1\n",
      "Cc1nc(C)c(C(=O)O)o1\n",
      "CC(C)([NH3+])CO\n",
      "COC(=O)C1c2ccccc2-c2ccccc21\n",
      "C=C(C)C(=O)O\n",
      "O=C([O-])CCCC(=O)O\n",
      "O=C(NC[C@@H](O)C[NH+]1CCC(Oc2ccc(Cl)c(Cl)c2)CC1)c1c[nH]nc1C(F)(F)F\n",
      "C[C@@H]1CCCC[N@H+]1C\n",
      "O=C(O)CCC(=O)O\n",
      "[NH3+]CC=C(Cl)Cl\n",
      "C[NH+]1CCOCC1\n",
      "CC[C@H](S)C(=O)O\n",
      "[NH3+]CC(Cl)=C(Cl)Cl\n",
      "C[Si](C)(C)c1cccc([NH3+])c1\n",
      "CC[NH2+]c1ccccc1[N+](=O)[O-]\n",
      "CC(C)(C)c1cc(Br)cc(C(C)(C)C)c1O\n",
      "CC(C)[NH2+]C[C@@H](O)COc1ccc(CCOCC2CC2)cc1\n",
      "O=[N+]([O-])c1cccc(S(=O)(=O)NS(=O)(=O)c2ccc(Cl)c([N+](=O)[O-])c2)c1\n",
      "Oc1c(Br)c(Br)c(Br)c(Br)c1Br\n",
      "Cc1ccc([C@@H](O)C[NH2+]C(C)C)cc1C\n",
      "Cc1nc2n(c(=O)c1CC[NH+]1CCC(c3noc4cc(F)ccc34)CC1)CCCC2\n",
      "C[Si](C)(C)C[NH2+]c1ccccc1\n",
      "CCC(=O)OCC[NH+](C)C\n",
      "CC(C)c1cccc([NH3+])c1\n",
      "C[n+]1ccc2ccc(O)cc2c1\n",
      "CN(C)[P+](Nc1ccccc1)(N(C)C)N(C)C\n",
      "COC(=O)c1ccccc1S(=O)(=O)NC(=O)Nc1nc(OC(F)F)cc(OC(F)F)n1\n",
      "CCc1nc2c(C)cc(C)[nH+]c2[nH]1\n",
      "O=[N+]([O-])c1cccc(S(=O)(=O)NS(=O)(=O)c2ccc(Cl)cc2)c1\n",
      "[NH3+]c1ccc(SC(F)(F)C(F)F)cc1\n",
      "Cc1cc(C)c(/N=N/c2c(C)cc(O)cc2C)c(C)c1\n",
      "O=P1(NS(=O)(=O)C(F)(F)C(F)(F)C(F)(F)C(F)(F)C(F)(F)C(F)(F)C(F)(F)C(F)(F)F)Oc2c(-c3ccccc3)cc3c(c2-c2c4c(cc(C5C=CC=CC5)c2O1)CCCC4)CCCC3\n",
      "C1CN=C2NCCC[NH+]2C1\n",
      "CCc1cc(C(C)C)c(O)cc1C\n",
      "C[NH2+]C[C@H](O)c1ccc(Cl)c(Cl)c1\n",
      "Cn1c(=O)c2c([nH+]cn2C)n(C)c1=O\n",
      "[NH3+]c1ccc(F)c(Cl)c1\n",
      "Cc1ccc(C(=O)c2ccccc2C(=O)O)cc1\n",
      "Cc1ccccc1[NH2+]C1CCCC1\n",
      "COc1cc([C@@H](O)C[NH+](C)C)ccc1O\n",
      "CC1(C)CC(=O)CC(C)(C)[NH2+]1\n",
      "Oc1cccc(C(F)(F)F)c1\n",
      "C[C@H](Oc1cc(Cl)c(Cl)cc1Cl)C(=O)O\n",
      "Oc1ccc([C@@H](O)C[NH2+]c2ccccc2)cc1O\n",
      "COc1cncnc1O\n",
      "CCCC(=O)NO\n",
      "CC[NH2+]c1ccccc1C\n",
      "CN(C)C(=N)[NH+](C)C\n",
      "C1CN=C2CCC[NH+]2C1\n",
      "[O-][Cl+3]([O-])([O-])O\n",
      "O=C(O)C(Cl)Cl\n",
      "O=C(O)COc1ccc(F)cc1\n",
      "O=[N+]([O-])c1cccc(O)c1\n",
      "CC(C)(C)c1ccc([S@@](=O)CC(=O)O)cc1\n",
      "CCCc1cccc(CCC)c1O\n",
      "N#CC(c1c(F)c(F)c(C(F)(F)F)c(F)c1F)c1c(F)c(F)c(C(F)(F)F)c(F)c1F\n",
      "CC[NH+](CC)CCOC(=O)c1ccccc1\n",
      "C[C@H]([NH3+])c1ccccc1\n",
      "CC(C)C[C@H]([NH3+])c1ccc(F)cc1\n",
      "C[C@H]([NH3+])c1cccc(Br)c1\n",
      "COc1cc(C(=O)O)ccc1O\n",
      "O=C(O)c1cc([N+](=O)[O-])ccc1[N+](=O)[O-]\n",
      "O=C(O)C[C@H](O)c1ccccc1\n",
      "O=S(=O)(NS(=O)(=O)c1ccc(Cl)cc1)c1ccc(Cl)cc1\n",
      "COc1cc(OC)nc(NC(=O)NS(=O)(=O)c2ncccc2C(F)(F)F)n1\n",
      "Cc1cc([N+](=O)[O-])cc(C)c1O\n",
      "CC(N)=[NH2+]\n",
      "O=C(O)c1c(F)c(F)c(-c2c(F)c(F)c(F)c(F)c2F)c(F)c1F\n",
      "CC(=O)OCC[NH+](C)C\n",
      "C=CC[NH2+]CC=C\n",
      "CCCC[NH3+]\n",
      "CC(C)c1cc(O)c(=O)ccc1Br\n",
      "NS(=O)(=O)c1ccc(Cl)cc1\n",
      "O=C(O)[C@H](c1ccccc1)N1CCC([NH+]2CCC(Oc3ccc(Cl)c(Cl)c3)CC2)CC1\n",
      "CC[C@H](C)C[NH3+]\n",
      "CCOC(=O)C(C[C@H](C)[NH+](C)C)(c1ccccc1)c1ccccc1\n",
      "[NH3+]c1cccc2c([N+](=O)[O-])cccc12\n",
      "CCn1cc(C(=O)O)c(=O)c2cc(F)c(N3CCN[C@H](C)C3)c(F)c21\n",
      "O=[N+]([O-])c1cc(-c2ccccc2)c(O)c([N+](=O)[O-])c1\n",
      "C1CCC([NH2+]C2CCCC2)C1\n",
      "Cc1ccc(C(=O)O)c(O)c1\n",
      "O=C(O)/C=C/c1ccc[nH+]c1\n",
      "CCC(CC)C[N@@H+](CC[N+]1(C)CCCCC1)c1ccccc1\n",
      "COc1ccc(O)c([N+](=O)[O-])c1\n",
      "CC[NH2+]CC\n",
      "CC[C@@](C)(C[NH+](C)C)OC(=O)c1ccccc1\n",
      "Cl\n",
      "COC(=O)CCc1ccc(OC[C@H](O)C[NH2+]C(C)C)cc1\n",
      "Oc1cc(Cl)cc(Cl)c1\n",
      "OCC(F)(F)F\n",
      "Cc1ccc([N+](=O)[O-])cc1[NH3+]\n",
      "CC(C)C[NH3+]\n",
      "Cc1ccc(/C=C/C(=O)O)cc1\n",
      "CCCCCC(=O)O\n",
      "C1=CC=[N+]C=C1\n",
      "CC(C)(C)N[P+](N1CCCC1)(N1CCCC1)N1CCCC1\n",
      "CCOC(=O)N1CC[NH2+]CC1\n",
      "O=C(NCC12CC3CC(CC(C3)C1)C2)c1cc(CC2CC[NH2+]CC2)ccc1Cl\n",
      "CS(=O)(=O)c1ccc(C(=O)O)cc1\n",
      "Cc1ccc(O)c(C)c1\n",
      "Cc1cc2cccc(O)c2nc1C\n",
      "O=C(O)c1ccc(Cl)c(Cl)c1\n",
      "[NH3+]c1cc(Cl)ccc1[N+](=O)[O-]\n",
      "Oc1c(Cl)cc(Cl)cc1Cc1cc(Cl)cc(Cl)c1O\n",
      "CC[C@H](Cl)C(=O)O\n",
      "N#CCC[NH3+]\n",
      "CC(C)c1cc(C(C)C)c(-c2cc3ccccc3c3c2OP(=O)(O)Oc2c(-c4c(C(C)C)cc(C(C)C)cc4C(C)C)cc4ccccc4c2-3)c(C(C)C)c1\n",
      "[NH3+]CC(F)F\n",
      "O=C(O)/C=C/Cl\n",
      "NS(=O)(=O)c1ccc([N+](=O)[O-])cc1\n",
      "[NH3+]c1cccc2ccc([N+](=O)[O-])cc12\n",
      "CCCCCC[NH+](C[C@@H](C)O)C[C@@H](C)O\n",
      "CC[NH+](CC)CCOC(=O)c1ccc(Cl)cc1\n",
      "C[C@H]1CCC[C@@H](C)[NH2+]1\n",
      "CC[C@H]1C[N@@H+]2CC[C@H]1C[C@H]2[C@H](O)c1ccnc2ccc(OC)cc12\n",
      "CCO[P@](C)(=O)SCC[NH+](C)C\n",
      "O=C(Nc1ccccc1)c1ccccc1O\n",
      "Cc1ccc(S(N)(=O)=O)cc1\n",
      "c1ccc([NH+](c2ccccc2)c2ccccc2)cc1\n",
      "N#CC(c1c(F)c(F)c(F)c(F)c1F)c1c(Cl)c(F)c(Cl)c(F)c1Cl\n",
      "c1ccc([NH2+][C@H]2CCc3ccccc32)cc1\n",
      "[NH3+]C[C@H](O)c1ccc(O)cc1\n",
      "CC[C@@](C)(S)[C@H]([NH3+])C(=O)[O-]\n",
      "CC[NH+](CC)CCOC(=O)C1(c2ccccc2)CCCC1\n",
      "Cc1cc(Br)ccc1C(=O)O\n",
      "Oc1ccncc1\n",
      "CC[NH+]1CCCC1\n",
      "C[C@@H]1CCCC(C)(C)[N@H+]1C\n",
      "CC(C)(CN)C[NH3+]\n",
      "[NH3+]c1ccc(Br)cc1Br\n",
      "O=C(O)c1ccc(Oc2ccccc2)cc1\n",
      "CC(C)[NH2+]C[C@H](O)c1cccc(C#N)c1\n",
      "CC(=O)O\n",
      "Cc1ccccc1O\n",
      "O=S(=O)(NS(=O)(=NS(=O)(=O)C(F)(F)F)c1ccc(Cl)cc1)c1ccc(Cl)cc1\n",
      "O=S(=O)(O)C(F)(F)F\n",
      "O=C(O)c1ccccc1\n",
      "O=C([O-])c1cccc(S)c1\n",
      "N#CC(C#N)c1c(C(F)(F)F)c(C(F)(F)F)c(C(F)(F)F)c(C(F)(F)F)c1C(F)(F)F\n",
      "CC[C@@H]([NH3+])c1cccc(Br)c1\n",
      "N#CC(c1ccc([N+](=O)[O-])cc1)c1ccc([N+](=O)[O-])cc1\n",
      "[NH3+]c1ccc(Sc2ccccc2)cc1\n",
      "C=CC[NH+](C[C@@H](C)O)C[C@@H](C)O\n",
      "Oc1c(F)c(F)cc(F)c1F\n",
      "CN(C)CCCC[NH+](C)C\n",
      "Oc1cc(Cl)cc(Cl)c1\n",
      "CC(C)[NH3+]\n",
      "CCn1cc(C(=O)O)c(=O)c2cc(F)c(N3CCNCC3)cc21\n",
      "CCS(=O)(=O)c1cccnc1S(=O)(=O)NC(=O)Nc1nc(OC)cc(OC)n1\n",
      "C=C1CC[N@H+](C)[C@@H](C)C1\n",
      "O=C(O)[C@H](O)c1cccc(I)c1\n",
      "COC(=O)C1c2ccccc2-c2ccccc21\n",
      "Cc1ccc([N+](=O)[O-])c([NH3+])c1\n",
      "O=C(NCC12CC3CC(CC(C3)C1)C2)c1ccnc(N2CC[NH2+]CC2)c1Cl\n",
      "Oc1c(F)c(F)c(-c2c(F)c(F)c(F)c(F)c2F)c(F)c1F\n",
      "CC[N@H+]1CCCC(=O)[C@H](O)CCC1\n",
      "CC(=O)OCC[NH3+]\n",
      "CC(C)[NH2+]c1ccccc1\n",
      "COc1cc([NH3+])cc(Cl)c1\n",
      "Oc1c(F)c(F)c(F)c(F)c1F\n",
      "C[N+](C)(C)c1cccc(O)c1\n",
      "CC(=O)Nc1c(F)c(F)c(F)c(F)c1F\n",
      "C/C(=N\\NC(=O)Nc1cc(F)cc(F)c1)c1ncccc1C(=O)O\n",
      "CC(=O)N1CC[NH2+]CC1\n",
      "C/C=C(\\C)[NH+]1CCCCC1\n",
      "[NH3+]Cc1cccc(F)c1\n",
      "Oc1ccccc1-c1ccccc1\n",
      "C[N+](C)(C)CCc1cccc(O)c1\n",
      "CCC[C@H]([NH3+])c1ccc(C)cc1\n",
      "Oc1ccc(O)c2ccccc12\n",
      "CSc1ccc([C@@H](O)C[NH2+]C(C)C)cc1\n",
      "[NH3+]C[C@H]1C=CCS1\n",
      "CCCc1nc(C(C)(C)O)c(C(=O)OCc2oc(=O)oc2C)n1Cc1ccc(-c2ccccc2-c2nnn[nH]2)cc1\n",
      "C[NH+]1CC1\n",
      "[NH3+]C(Cc1ccccc1)Cc1ccccc1\n",
      "O=S(=O)(NS(=O)(=O)C(F)(F)C(F)(F)C(F)(F)F)C(F)(F)C(F)(F)C(F)(F)F\n",
      "CC[C@@H]1CCC[NH2+]1\n",
      "CC(C)[NH2+]C[C@H](O)c1ccccc1F\n",
      "C[NH2+]C[C@H](O)c1ccc(O)c(O)c1\n",
      "[NH3+]c1cccc2ccccc12\n",
      "COc1ccc2cccc([NH3+])c2c1\n",
      "O=C(O)Cc1ccccc1\n",
      "NCCS\n",
      "c1ccc2c(c1)CCC[C@H]2C1=[NH+]CCN1\n",
      "O=C(NC[C@@H](O)C[NH+]1CCC(Oc2ccc(Cl)c(Cl)c2)CC1)c1c[nH]c(=O)cc1C(F)(F)F\n",
      "COc1c(N2C[C@@H]3CCC[NH2+][C@@H]3C2)c(F)cc2c(=O)c(C(=O)O)cn(C3CC3)c12\n",
      "c1ccc(C[NH+]2CCCC2)nc1\n",
      "O=[N+]([O-])c1ccc(O)cc1[N+](=O)[O-]\n",
      "CN(C)[P+](Nc1ccccc1)(N(C)C)N(C)C\n",
      "Cc1[nH+]ccn1C[C@H]1CCc2c(c3ccccc3n2C)C1=O\n",
      "Oc1ccccc1-c1ccccc1O\n",
      "COc1ccc(-c2cc3ccccc3c3c2OP(=O)(NS(=O)(=O)C(F)(F)F)Oc2c(-c4ccc(OC)cc4)cc4ccccc4c2-3)cc1\n",
      "C[NH+]1CCN(C2=c3ccccc3=[NH+]c3ccc(Cl)cc3N2)CC1\n",
      "C[NH+]1[C@H]2CC[C@@H]1CC(O)C2\n",
      "O=C(O)c1ccc(Cl)c([N+](=O)[O-])c1\n",
      "Cc1cc(Cl)ccc1O\n",
      "O=C(O)Cc1ccc([N+](=O)[O-])cc1[N+](=O)[O-]\n"
     ]
    }
   ],
   "source": [
    "i=0\n",
    "for sol in x_smiles:\n",
    "    mol = Chem.MolFromSmiles(sol)\n",
    "    [a.SetAtomMapNum(0) for a in mol.GetAtoms()]\n",
    "    x_smiles[i] = Chem.MolToSmiles(mol)\n",
    "    print(Chem.MolToSmiles(mol))\n",
    "    i+=1"
   ]
  },
  {
   "cell_type": "code",
   "execution_count": 33,
   "metadata": {},
   "outputs": [
    {
     "data": {
      "text/plain": [
       "3312"
      ]
     },
     "execution_count": 33,
     "metadata": {},
     "output_type": "execute_result"
    }
   ],
   "source": [
    "xy_smiles = [(x_smiles[i],y_smiles[i]) for i in range(n)]\n",
    "len(xy_smiles)"
   ]
  },
  {
   "cell_type": "code",
   "execution_count": 34,
   "metadata": {},
   "outputs": [],
   "source": [
    "solute = []\n",
    "solvent = []\n",
    "iupac2 = []\n",
    "cas2 = []\n",
    "pkalist = []\n",
    "pkaave = []\n",
    "reflist = []\n",
    "\n",
    "for xy in set(xy_smiles):\n",
    "    solute.append(xy[0])\n",
    "    solvent.append(xy[1])\n",
    "    \n",
    "    #find all instances of the solute/solvent pair\n",
    "    indices = [i for i, k in enumerate(xy_smiles) if k == xy]\n",
    "    \n",
    "    iupac2.append(iupac[indices[0]])\n",
    "    cas2.append(cas[indices[0]])\n",
    "    reflist.append([ref[i] for i in indices])\n",
    "    \n",
    "    pkas = str([pka[i] for i in indices])\n",
    "    pkas = re.findall(\"[-+]?[.]?[\\d]+(?:,\\d\\d\\d)*[\\.]?\\d*(?:[eE][-+]?\\d+)?\", pkas)\n",
    "    pkas = [float(x) for x in pkas]\n",
    "    pkalist.append(pkas)\n",
    "    pkaave.append(sum(pkas)/len(pkas))"
   ]
  },
  {
   "cell_type": "code",
   "execution_count": 35,
   "metadata": {},
   "outputs": [
    {
     "data": {
      "text/html": [
       "<div>\n",
       "<style scoped>\n",
       "    .dataframe tbody tr th:only-of-type {\n",
       "        vertical-align: middle;\n",
       "    }\n",
       "\n",
       "    .dataframe tbody tr th {\n",
       "        vertical-align: top;\n",
       "    }\n",
       "\n",
       "    .dataframe thead th {\n",
       "        text-align: right;\n",
       "    }\n",
       "</style>\n",
       "<table border=\"1\" class=\"dataframe\">\n",
       "  <thead>\n",
       "    <tr style=\"text-align: right;\">\n",
       "      <th></th>\n",
       "      <th>Solute SMILES</th>\n",
       "      <th>Solvent SMILES</th>\n",
       "      <th>Solute CAS</th>\n",
       "      <th>Solute IUPAC</th>\n",
       "      <th>pKa (avg)</th>\n",
       "      <th>pKa (all)</th>\n",
       "      <th>Source (all)</th>\n",
       "    </tr>\n",
       "  </thead>\n",
       "  <tbody>\n",
       "    <tr>\n",
       "      <th>0</th>\n",
       "      <td>CCCC(=O)Nc1ccc(OC[C@H](O)C[NH2+]C(C)C)c(C(C)=O)c1</td>\n",
       "      <td>O</td>\n",
       "      <td>0</td>\n",
       "      <td>0</td>\n",
       "      <td>9.475</td>\n",
       "      <td>[9.5, 9.45]</td>\n",
       "      <td>[[\"['hunt_et_al']\", \"['hunt_et_al']\"]]</td>\n",
       "    </tr>\n",
       "    <tr>\n",
       "      <th>1</th>\n",
       "      <td>C[C@H](Cc1ccccc1)[NH+](C)C</td>\n",
       "      <td>O</td>\n",
       "      <td>0</td>\n",
       "      <td>0</td>\n",
       "      <td>9.400</td>\n",
       "      <td>[9.4]</td>\n",
       "      <td>[[\"['hunt_et_al']\"]]</td>\n",
       "    </tr>\n",
       "    <tr>\n",
       "      <th>2</th>\n",
       "      <td>CC(=O)c1cccc([NH3+])c1</td>\n",
       "      <td>O</td>\n",
       "      <td>0</td>\n",
       "      <td>0</td>\n",
       "      <td>3.560</td>\n",
       "      <td>[3.56]</td>\n",
       "      <td>[[\"['hunt_et_al']\"]]</td>\n",
       "    </tr>\n",
       "    <tr>\n",
       "      <th>3</th>\n",
       "      <td>CC[N@H+]1CCC=C1C</td>\n",
       "      <td>O</td>\n",
       "      <td>0</td>\n",
       "      <td>0</td>\n",
       "      <td>11.840</td>\n",
       "      <td>[11.84]</td>\n",
       "      <td>[[\"['hunt_et_al']\"]]</td>\n",
       "    </tr>\n",
       "    <tr>\n",
       "      <th>4</th>\n",
       "      <td>C1CN=C2NCCC[NH+]2C1</td>\n",
       "      <td>CS(=O)C</td>\n",
       "      <td>-</td>\n",
       "      <td>2,3,4,5,6,7,8,9-octahydropyrimido[1,2-a]pyrimi...</td>\n",
       "      <td>15.300</td>\n",
       "      <td>[15.3]</td>\n",
       "      <td>[[\"['Bases_pKa_values_MeCN_DMSO_THF_Water.pdf'...</td>\n",
       "    </tr>\n",
       "  </tbody>\n",
       "</table>\n",
       "</div>"
      ],
      "text/plain": [
       "                                       Solute SMILES Solvent SMILES  \\\n",
       "0  CCCC(=O)Nc1ccc(OC[C@H](O)C[NH2+]C(C)C)c(C(C)=O)c1              O   \n",
       "1                         C[C@H](Cc1ccccc1)[NH+](C)C              O   \n",
       "2                             CC(=O)c1cccc([NH3+])c1              O   \n",
       "3                                   CC[N@H+]1CCC=C1C              O   \n",
       "4                                C1CN=C2NCCC[NH+]2C1        CS(=O)C   \n",
       "\n",
       "  Solute CAS                                       Solute IUPAC  pKa (avg)  \\\n",
       "0          0                                                  0      9.475   \n",
       "1          0                                                  0      9.400   \n",
       "2          0                                                  0      3.560   \n",
       "3          0                                                  0     11.840   \n",
       "4          -  2,3,4,5,6,7,8,9-octahydropyrimido[1,2-a]pyrimi...     15.300   \n",
       "\n",
       "     pKa (all)                                       Source (all)  \n",
       "0  [9.5, 9.45]             [[\"['hunt_et_al']\", \"['hunt_et_al']\"]]  \n",
       "1        [9.4]                               [[\"['hunt_et_al']\"]]  \n",
       "2       [3.56]                               [[\"['hunt_et_al']\"]]  \n",
       "3      [11.84]                               [[\"['hunt_et_al']\"]]  \n",
       "4       [15.3]  [[\"['Bases_pKa_values_MeCN_DMSO_THF_Water.pdf'...  "
      ]
     },
     "execution_count": 35,
     "metadata": {},
     "output_type": "execute_result"
    }
   ],
   "source": [
    "final = {'Solute SMILES':solute,\n",
    "         'Solvent SMILES':solvent,\n",
    "         'Solute CAS':cas2,\n",
    "         'Solute IUPAC':iupac2,\n",
    "         'pKa (avg)':pkaave,\n",
    "         'pKa (all)':pkalist,\n",
    "         'Source (all)':reflist}\n",
    "final_df = pd.DataFrame(final)\n",
    "final_df.head()"
   ]
  },
  {
   "cell_type": "code",
   "execution_count": 36,
   "metadata": {},
   "outputs": [],
   "source": [
    "final_df.to_csv('full_pka_data2.csv')"
   ]
  },
  {
   "cell_type": "code",
   "execution_count": 37,
   "metadata": {},
   "outputs": [
    {
     "data": {
      "text/plain": [
       "3222"
      ]
     },
     "execution_count": 37,
     "metadata": {},
     "output_type": "execute_result"
    }
   ],
   "source": [
    "len(solute)"
   ]
  },
  {
   "cell_type": "code",
   "execution_count": null,
   "metadata": {},
   "outputs": [],
   "source": []
  }
 ],
 "metadata": {
  "kernelspec": {
   "display_name": "Python 3",
   "language": "python",
   "name": "python3"
  },
  "language_info": {
   "codemirror_mode": {
    "name": "ipython",
    "version": 3
   },
   "file_extension": ".py",
   "mimetype": "text/x-python",
   "name": "python",
   "nbconvert_exporter": "python",
   "pygments_lexer": "ipython3",
   "version": "3.8.5"
  }
 },
 "nbformat": 4,
 "nbformat_minor": 4
}
