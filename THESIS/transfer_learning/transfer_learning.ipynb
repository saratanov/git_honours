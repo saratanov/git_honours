{
 "cells": [
  {
   "cell_type": "code",
   "execution_count": 1,
   "metadata": {},
   "outputs": [
    {
     "name": "stderr",
     "output_type": "stream",
     "text": [
      "RDKit WARNING: [10:56:22] Enabling RDKit 2019.09.3 jupyter extensions\n"
     ]
    }
   ],
   "source": [
    "from collections import defaultdict as ddict, OrderedDict as odict\n",
    "from typing import Any, Dict, List\n",
    "\n",
    "import matplotlib.pyplot as plt\n",
    "import numpy as np\n",
    "import pandas as pd\n",
    "from xgboost import XGBRegressor\n",
    "from sklearn.neural_network import MLPRegressor\n",
    "from rdkit.ML.Descriptors.MoleculeDescriptors import MolecularDescriptorCalculator\n",
    "from rdkit.Chem import PandasTools, AllChem as Chem, Descriptors\n",
    "from rdkit.Chem.Descriptors import MolWt\n",
    "from sklearn.ensemble import RandomForestRegressor\n",
    "import sklearn\n",
    "from rdkit.Chem.rdmolops import GetFormalCharge\n",
    "import torch\n",
    "import deepchem as dc\n",
    "import copy\n",
    "from sklearn.model_selection import train_test_split\n",
    "import imp\n",
    "from os import listdir\n",
    "from os.path import isfile, join"
   ]
  },
  {
   "cell_type": "code",
   "execution_count": 2,
   "metadata": {},
   "outputs": [
    {
     "name": "stderr",
     "output_type": "stream",
     "text": [
      "/Users/u6676643/opt/anaconda3/lib/python3.8/site-packages/gensim/similarities/__init__.py:15: UserWarning: The gensim.similarities.levenshtein submodule is disabled, because the optional Levenshtein package <https://pypi.org/project/python-Levenshtein/> is unavailable. Install Levenhstein (e.g. `pip install python-Levenshtein`) to suppress this warning.\n",
      "  warnings.warn(msg)\n"
     ]
    }
   ],
   "source": [
    "import sys\n",
    "sys.path.append('../')\n",
    "from modules.RNN import double_RNN\n",
    "from modules.MPNN import double_MPNN\n",
    "from modules.fit import *\n",
    "from modules.transfer import transfer_weights"
   ]
  },
  {
   "cell_type": "markdown",
   "metadata": {},
   "source": [
    "---\n",
    "## Data preparation"
   ]
  },
  {
   "cell_type": "code",
   "execution_count": 3,
   "metadata": {},
   "outputs": [],
   "source": [
    "data = pd.read_csv('../data/full_pka_data.csv')\n",
    "solute = data['Solute SMILES'].tolist()\n",
    "solvent = data['Solvent SMILES'].tolist()\n",
    "pka = data['pKa (avg)'].tolist()\n",
    "data_size = len(solute)"
   ]
  },
  {
   "cell_type": "code",
   "execution_count": 4,
   "metadata": {},
   "outputs": [],
   "source": [
    "indices = list(range(data_size))\n",
    "CV_ids, holdout_ids, _, _ = train_test_split(indices, solvent, test_size=0.2, random_state=1, stratify=solvent)\n",
    "datasets = data_maker(solute, solvent, pka)"
   ]
  },
  {
   "cell_type": "markdown",
   "metadata": {},
   "source": [
    "---\n",
    "## Training + testing"
   ]
  },
  {
   "cell_type": "code",
   "execution_count": 5,
   "metadata": {},
   "outputs": [],
   "source": [
    "DMPNN = Model(name='DMPNN',\n",
    "              model=double_MPNN(MP_depth=3, MP_hidden=256, NN_depth=2, NN_hidden=512, activation='ReLU', \n",
    "                                atom_messages=False, dropout=0, interaction=None, readout='sum'),\n",
    "              lr=0.001,\n",
    "              batch_size=64,\n",
    "              model_type='torch',\n",
    "              data_type='graphs')\n",
    "DMPNN_att = Model(name='DMPNN with attention',\n",
    "              model=double_MPNN(MP_depth=4, MP_hidden=128, NN_depth=4, NN_hidden=64, activation='ELU', \n",
    "                                atom_messages=False, dropout=0, interaction='tanh', readout='mean'),\n",
    "              lr=0.001,\n",
    "              batch_size=64,\n",
    "              model_type='torch',\n",
    "              data_type='graphs')\n",
    "MPNN = Model(name='MPNN',\n",
    "             model=double_MPNN(MP_depth=3, MP_hidden=256, NN_depth=2, NN_hidden=512, activation='LeakyReLU', \n",
    "                                  atom_messages=True, dropout=0, interaction=None, readout='sum'),\n",
    "             lr=0.001,\n",
    "             batch_size=64,\n",
    "             model_type='torch',\n",
    "             data_type='graphs')\n",
    "MPNN_att = Model(name='MPNN with attention',\n",
    "             model=double_MPNN(MP_depth=2, MP_hidden=64, NN_depth=4, NN_hidden=512, activation='ReLU', \n",
    "                                  atom_messages=True, dropout=0, interaction='tanh', readout='max'),\n",
    "             lr=0.001,\n",
    "             batch_size=64,\n",
    "             model_type='torch',\n",
    "             data_type='graphs')\n",
    "RNN = Model(name='RNN',\n",
    "            model=double_RNN(NN_depth=3, NN_hidden=512, RNN_hidden=512, activation='ReLU', dropout=0.3,\n",
    "                             features=300, interaction=None, readout='max'),\n",
    "            lr=0.001,\n",
    "            batch_size=32,\n",
    "            model_type='torch',\n",
    "            data_type='sentences')\n",
    "RNN_att = Model(name='RNN with attention',\n",
    "                model=double_RNN(NN_depth=1, NN_hidden=1024, RNN_hidden=512, activation='PReLU', dropout=0.1,\n",
    "                                 features=300, interaction='exp', readout='max'),\n",
    "                lr=0.001,\n",
    "                batch_size=32,\n",
    "                model_type='torch',\n",
    "                data_type='sentences')\n",
    "#list of all models for testing\n",
    "models = [DMPNN, DMPNN_att, MPNN, MPNN_att, RNN, RNN_att]"
   ]
  },
  {
   "cell_type": "code",
   "execution_count": 6,
   "metadata": {},
   "outputs": [],
   "source": [
    "trained_models = [f for f in listdir('trained/') if isfile(join('trained/', f))]"
   ]
  },
  {
   "cell_type": "code",
   "execution_count": 14,
   "metadata": {},
   "outputs": [],
   "source": [
    "def task_func(file):\n",
    "    if 'Water' in file:\n",
    "        task = 'Water pKa'\n",
    "    if 'Gsolv' in file:\n",
    "        task = 'Gsolv'\n",
    "    else:\n",
    "        task = file[-11:-3]\n",
    "    return task\n",
    "\n",
    "model_weights = []\n",
    "for file in trained_models:\n",
    "    task = task_func(file)\n",
    "    if 'RNN_w' in file:\n",
    "        model_weights.append((RNN_att,file,task))\n",
    "    elif 'DMPNN_w' in file:\n",
    "        model_weights.append((DMPNN_att,file,task))        \n",
    "    elif 'MPNN_w' in file:\n",
    "        model_weights.append((MPNN_att,file,task))\n",
    "    elif 'RNN' in file:\n",
    "        model_weights.append((RNN,file,task))\n",
    "    elif 'DMPNN' in file:\n",
    "        model_weights.append((DMPNN,file,task))\n",
    "    elif 'MPNN' in file:\n",
    "        model_weights.append((MPNN,file,task))"
   ]
  },
  {
   "cell_type": "code",
   "execution_count": 12,
   "metadata": {},
   "outputs": [
    {
     "name": "stdout",
     "output_type": "stream",
     "text": [
      "testing MPNN_with_attention_Water_pka.pt ...\n",
      "testing RNN_Water_pka.pt ...\n",
      "testing DMPNN_Water_pka.pt ...\n",
      "testing MPNN_Water_pka.pt ...\n",
      "testing RNN_with_attention_Water_pka.pt ...\n",
      "testing DMPNN_with_attention_Water_pka.pt ...\n",
      "                  Model       MAE      RMSE\n",
      "0   MPNN with attention  1.047276  1.502790\n",
      "1                   RNN  1.375980  2.083664\n",
      "2                 DMPNN  1.077354  1.640946\n",
      "3                  MPNN  1.133315  1.685496\n",
      "4    RNN with attention  1.296481  2.258889\n",
      "5  DMPNN with attention  1.153409  1.706847\n"
     ]
    }
   ],
   "source": [
    "exp_name = \"Holdout test\"\n",
    "results = ddict(list)\n",
    "for m, file, task in model_weights:\n",
    "    if task == 'Water pKa':\n",
    "        pass\n",
    "    else:\n",
    "        print('testing '+file+' ...')\n",
    "        data = datasets[m.data_type]\n",
    "\n",
    "        transfer_weights(m, file)\n",
    "\n",
    "        res = fit(m, data, holdout_ids, exp_name)\n",
    "\n",
    "        results['Model'].append(m.name)\n",
    "        results['Pretraining task'].append(task)\n",
    "        results['MAE'].append(res[0])\n",
    "        results['RMSE'].append(res[1])\n",
    "\n",
    "holdout_test = pd.DataFrame(results)\n",
    "print(holdout_test)\n",
    "holdout_test.to_csv('results/holdout_test.csv')"
   ]
  },
  {
   "cell_type": "code",
   "execution_count": null,
   "metadata": {},
   "outputs": [],
   "source": []
  }
 ],
 "metadata": {
  "kernelspec": {
   "display_name": "Python 3 (ipykernel)",
   "language": "python",
   "name": "python3"
  },
  "language_info": {
   "codemirror_mode": {
    "name": "ipython",
    "version": 3
   },
   "file_extension": ".py",
   "mimetype": "text/x-python",
   "name": "python",
   "nbconvert_exporter": "python",
   "pygments_lexer": "ipython3",
   "version": "3.7.11"
  }
 },
 "nbformat": 4,
 "nbformat_minor": 4
}
