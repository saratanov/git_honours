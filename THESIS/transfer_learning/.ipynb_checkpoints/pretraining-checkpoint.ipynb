{
 "cells": [
  {
   "cell_type": "code",
   "execution_count": 2,
   "metadata": {},
   "outputs": [
    {
     "ename": "ModuleNotFoundError",
     "evalue": "No module named 'pretraining'",
     "output_type": "error",
     "traceback": [
      "\u001b[0;31m---------------------------------------------------------------------------\u001b[0m",
      "\u001b[0;31mModuleNotFoundError\u001b[0m                       Traceback (most recent call last)",
      "\u001b[0;32m<ipython-input-2-c484eec7440c>\u001b[0m in \u001b[0;36m<module>\u001b[0;34m\u001b[0m\n\u001b[1;32m     18\u001b[0m \u001b[0;32mfrom\u001b[0m \u001b[0msklearn\u001b[0m\u001b[0;34m.\u001b[0m\u001b[0mmodel_selection\u001b[0m \u001b[0;32mimport\u001b[0m \u001b[0mtrain_test_split\u001b[0m\u001b[0;34m\u001b[0m\u001b[0;34m\u001b[0m\u001b[0m\n\u001b[1;32m     19\u001b[0m \u001b[0;34m\u001b[0m\u001b[0m\n\u001b[0;32m---> 20\u001b[0;31m \u001b[0;32mimport\u001b[0m \u001b[0mpretraining\u001b[0m \u001b[0;32mas\u001b[0m \u001b[0mp\u001b[0m\u001b[0;34m\u001b[0m\u001b[0;34m\u001b[0m\u001b[0m\n\u001b[0m",
      "\u001b[0;31mModuleNotFoundError\u001b[0m: No module named 'pretraining'"
     ]
    }
   ],
   "source": [
    "from collections import defaultdict as ddict, OrderedDict as odict\n",
    "from typing import Any, Dict, List\n",
    "\n",
    "import matplotlib.pyplot as plt\n",
    "import numpy as np\n",
    "import pandas as pd\n",
    "from xgboost import XGBRegressor\n",
    "from sklearn.neural_network import MLPRegressor\n",
    "from rdkit.ML.Descriptors.MoleculeDescriptors import MolecularDescriptorCalculator\n",
    "from rdkit.Chem import PandasTools, AllChem as Chem, Descriptors\n",
    "from rdkit.Chem.Descriptors import MolWt\n",
    "from sklearn.ensemble import RandomForestRegressor\n",
    "import sklearn\n",
    "from rdkit.Chem.rdmolops import GetFormalCharge\n",
    "import torch\n",
    "import deepchem as dc\n",
    "import copy\n",
    "from sklearn.model_selection import train_test_split\n"
   ]
  },
  {
   "cell_type": "code",
   "execution_count": null,
   "metadata": {},
   "outputs": [],
   "source": [
    "import sys\n",
    "sys.path.append('../')\n",
    "from modules.RNN import double_RNN\n",
    "from modules.MPNN import double_MPNN\n",
    "import modules.pretraining as p"
   ]
  },
  {
   "cell_type": "markdown",
   "metadata": {},
   "source": [
    "---\n",
    "## Data preparation"
   ]
  },
  {
   "cell_type": "code",
   "execution_count": 25,
   "metadata": {},
   "outputs": [],
   "source": [
    "#single input water pkas\n",
    "data = pd.read_csv('pretrain_data/water_pka.csv')\n",
    "solute = data['Solute SMILES'].tolist()\n",
    "pka = data['pKa (avg)'].tolist()\n",
    "water_pka_datasets = p.data_maker(solute, pka, ids=list(range(200)))"
   ]
  },
  {
   "cell_type": "code",
   "execution_count": 43,
   "metadata": {},
   "outputs": [],
   "source": [
    "#double input solvation energy\n",
    "data = pd.read_csv('pretrain_data/comp_solv.csv')\n",
    "solute = data['mol solvent'].tolist()\n",
    "solvent = data['mol solute'].tolist()\n",
    "Gsolv = data['target Gsolv kcal'].tolist()\n",
    "Gsolv_datasets = p.data_maker(solute, Gsolv, solvent=solvent, ids=list(range(200)))"
   ]
  },
  {
   "cell_type": "code",
   "execution_count": 56,
   "metadata": {},
   "outputs": [],
   "source": [
    "#single input QM9\n",
    "data = pd.read_csv('pretrain_data/qm9.csv')\n",
    "smiles = data['smiles'].tolist()\n",
    "qm9_data = ddict()\n",
    "properties = ['mu','alpha','homo','lumo','gap','r2','zpve','u0','u298','h298','g298','cv']\n",
    "for prop in properties:\n",
    "    prop_list = data[prop].tolist()\n",
    "    datasets = p.data_maker(smiles, prop_list, ids=list(range(200)))\n",
    "    qm9_data[prop] = datasets"
   ]
  },
  {
   "cell_type": "markdown",
   "metadata": {},
   "source": [
    "---\n",
    "## Training + testing"
   ]
  },
  {
   "cell_type": "markdown",
   "metadata": {},
   "source": [
    "### Single input"
   ]
  },
  {
   "cell_type": "code",
   "execution_count": 60,
   "metadata": {},
   "outputs": [],
   "source": [
    "DMPNN = p.Model(name='DMPNN',\n",
    "                model=c.MPNN(atom_messages=False),\n",
    "                model_type='torch',\n",
    "                data_type='SMILES',\n",
    "                inputs=1)\n",
    "MPNN = p.Model(name='MPNN',\n",
    "               model=c.MPNN(atom_messages=True),\n",
    "               model_type='torch',\n",
    "               data_type='SMILES',\n",
    "               inputs=1)\n",
    "RNN = p.Model(name='RNN',\n",
    "              model=d.snet(),\n",
    "              model_type='torch',\n",
    "              data_type='sentences',\n",
    "              inputs=1)\n",
    "\n",
    "#list of all models for testing\n",
    "s_models = [DMPNN, MPNN, RNN]"
   ]
  },
  {
   "cell_type": "code",
   "execution_count": 40,
   "metadata": {},
   "outputs": [
    {
     "name": "stdout",
     "output_type": "stream",
     "text": [
      "testing RNN ...\n",
      "testing DMPNN ...\n",
      "testing MPNN ...\n",
      "testing RNN ...\n"
     ]
    }
   ],
   "source": [
    "exp_name = \"Water pka\"\n",
    "datasets = water_pka_datasets\n",
    "for m in s_models:\n",
    "    print('testing '+m.name+' ...')\n",
    "    p.fit_no_test(m, exp_name, datasets)"
   ]
  },
  {
   "cell_type": "code",
   "execution_count": 61,
   "metadata": {},
   "outputs": [
    {
     "name": "stdout",
     "output_type": "stream",
     "text": [
      "TESTING mu\n",
      "testing DMPNN ...\n",
      "testing MPNN ...\n",
      "testing RNN ...\n",
      "TESTING alpha\n",
      "testing DMPNN ...\n",
      "testing MPNN ...\n",
      "testing RNN ...\n",
      "TESTING homo\n",
      "testing DMPNN ...\n",
      "testing MPNN ...\n",
      "testing RNN ...\n",
      "TESTING lumo\n",
      "testing DMPNN ...\n",
      "testing MPNN ...\n",
      "testing RNN ...\n",
      "TESTING gap\n",
      "testing DMPNN ...\n",
      "testing MPNN ...\n",
      "testing RNN ...\n",
      "TESTING r2\n",
      "testing DMPNN ...\n",
      "testing MPNN ...\n",
      "testing RNN ...\n",
      "TESTING zpve\n",
      "testing DMPNN ...\n",
      "testing MPNN ...\n",
      "testing RNN ...\n",
      "TESTING u0\n",
      "testing DMPNN ...\n",
      "testing MPNN ...\n",
      "testing RNN ...\n",
      "TESTING u298\n",
      "testing DMPNN ...\n",
      "testing MPNN ...\n",
      "testing RNN ...\n",
      "TESTING h298\n",
      "testing DMPNN ...\n",
      "testing MPNN ...\n",
      "testing RNN ...\n",
      "TESTING g298\n",
      "testing DMPNN ...\n",
      "testing MPNN ...\n",
      "testing RNN ...\n",
      "TESTING cv\n",
      "testing DMPNN ...\n",
      "testing MPNN ...\n",
      "testing RNN ...\n"
     ]
    }
   ],
   "source": [
    "#QM9\n",
    "for prop in properties:\n",
    "    exp_name = 'QM9_'+prop\n",
    "    datasets = qm9_data[prop]\n",
    "    print('TESTING '+prop)\n",
    "    for m in s_models:\n",
    "        print('testing '+m.name+' ...')\n",
    "        p.fit_no_test(m, exp_name, datasets)"
   ]
  },
  {
   "cell_type": "markdown",
   "metadata": {},
   "source": [
    "### Dual input"
   ]
  },
  {
   "cell_type": "code",
   "execution_count": 47,
   "metadata": {},
   "outputs": [],
   "source": [
    "DMPNN = p.Model(name='D-MPNN',\n",
    "                model=c.double_MPNN(atom_messages=False),\n",
    "                model_type='torch',\n",
    "                data_type='SMILES',\n",
    "                inputs=2)\n",
    "DMPNN_att = p.Model(name='D-MPNN with attention',\n",
    "                    model=c.double_MPNN(atom_messages=False, interaction='exp'),\n",
    "                    model_type='torch',\n",
    "                    data_type='SMILES',\n",
    "                    inputs=2)\n",
    "MPNN = p.Model(name='MPNN',\n",
    "                model=c.double_MPNN(atom_messages=True),\n",
    "                model_type='torch',\n",
    "                data_type='SMILES',\n",
    "                inputs=2)\n",
    "MPNN_att = p.Model(name='MPNN with attention',\n",
    "                    model=c.double_MPNN(atom_messages=True, interaction='exp'),\n",
    "                    model_type='torch',\n",
    "                    data_type='SMILES',\n",
    "                    inputs=2)\n",
    "RNN = p.Model(name='RNN',\n",
    "              model=d.dnet(interaction=None),\n",
    "              model_type='torch',\n",
    "              data_type='sentences',\n",
    "              inputs=2)\n",
    "RNN_att = p.Model(name='RNN with attention',\n",
    "                  model=d.dnet(interaction='exp'),\n",
    "                  model_type='torch',\n",
    "                  data_type='sentences',\n",
    "                  inputs=2)\n",
    "\n",
    "#list of all models for testing\n",
    "d_models = [DMPNN, DMPNN_att, MPNN, MPNN_att, RNN, RNN_att]"
   ]
  },
  {
   "cell_type": "code",
   "execution_count": 48,
   "metadata": {},
   "outputs": [
    {
     "name": "stdout",
     "output_type": "stream",
     "text": [
      "testing D-MPNN ...\n",
      "testing D-MPNN with attention ...\n",
      "testing MPNN ...\n",
      "testing MPNN with attention ...\n",
      "testing RNN ...\n",
      "testing RNN with attention ...\n"
     ]
    }
   ],
   "source": [
    "exp_name = \"Gsolv\"\n",
    "datasets = Gsolv_datasets\n",
    "for m in d_models:\n",
    "    print('testing '+m.name+' ...')\n",
    "    p.fit_no_test(m, exp_name, datasets)"
   ]
  }
 ],
 "metadata": {
  "kernelspec": {
   "display_name": "Python 3",
   "language": "python",
   "name": "python3"
  },
  "language_info": {
   "codemirror_mode": {
    "name": "ipython",
    "version": 3
   },
   "file_extension": ".py",
   "mimetype": "text/x-python",
   "name": "python",
   "nbconvert_exporter": "python",
   "pygments_lexer": "ipython3",
   "version": "3.8.5"
  }
 },
 "nbformat": 4,
 "nbformat_minor": 4
}
