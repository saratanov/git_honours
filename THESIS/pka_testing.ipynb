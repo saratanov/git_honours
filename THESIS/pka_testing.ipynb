{
 "cells": [
  {
   "cell_type": "code",
   "execution_count": 1,
   "metadata": {},
   "outputs": [
    {
     "name": "stderr",
     "output_type": "stream",
     "text": [
      "RDKit WARNING: [11:47:40] Enabling RDKit 2019.09.3 jupyter extensions\n"
     ]
    }
   ],
   "source": [
    "%matplotlib inline\n",
    "\n",
    "from collections import defaultdict as ddict, OrderedDict as odict\n",
    "from typing import Any, Dict, List\n",
    "\n",
    "import matplotlib.pyplot as plt\n",
    "import numpy as np\n",
    "import pandas as pd\n",
    "from xgboost import XGBRegressor\n",
    "from sklearn.neural_network import MLPRegressor\n",
    "from rdkit.ML.Descriptors.MoleculeDescriptors import MolecularDescriptorCalculator\n",
    "from rdkit.Chem import PandasTools, AllChem as Chem, Descriptors\n",
    "from rdkit.Chem.Descriptors import MolWt\n",
    "from sklearn.ensemble import RandomForestRegressor\n",
    "import sklearn\n",
    "from rdkit.Chem.rdmolops import GetFormalCharge\n",
    "import torch\n",
    "import deepchem as dc\n",
    "import copy\n",
    "from sklearn.model_selection import train_test_split\n",
    "from hyperopt import hp\n",
    "import imp\n",
    "\n",
    "pd.set_option('display.float_format', lambda x: '%.3f' % x)  # Display floats without scientific notation"
   ]
  },
  {
   "cell_type": "code",
   "execution_count": 2,
   "metadata": {},
   "outputs": [
    {
     "name": "stderr",
     "output_type": "stream",
     "text": [
      "/Users/u6676643/opt/anaconda3/lib/python3.8/site-packages/gensim/similarities/__init__.py:15: UserWarning: The gensim.similarities.levenshtein submodule is disabled, because the optional Levenshtein package <https://pypi.org/project/python-Levenshtein/> is unavailable. Install Levenhstein (e.g. `pip install python-Levenshtein`) to suppress this warning.\n",
      "  warnings.warn(msg)\n"
     ]
    }
   ],
   "source": [
    "from modules.data import data_maker\n",
    "from modules.RNN import double_RNN\n",
    "from modules.fit import Model, fit, predict, mae, rmse, save_model\n",
    "from modules.myhyperopt import hyperopt_func\n",
    "from modules.MPNN import double_MPNN"
   ]
  },
  {
   "cell_type": "markdown",
   "metadata": {},
   "source": [
    "---\n",
    "## Loading Dataset"
   ]
  },
  {
   "cell_type": "code",
   "execution_count": 3,
   "metadata": {},
   "outputs": [],
   "source": [
    "data = pd.read_csv('data/full_pka_data.csv')\n",
    "solute = data['Solute SMILES'].tolist()\n",
    "solvent = data['Solvent SMILES'].tolist()\n",
    "pka = data['pKa (avg)'].tolist()\n",
    "data_size = len(solute)"
   ]
  },
  {
   "cell_type": "code",
   "execution_count": 4,
   "metadata": {},
   "outputs": [],
   "source": [
    "indices = list(range(data_size))\n",
    "CV_ids, holdout_ids, _, _ = train_test_split(indices, solvent, test_size=0.2, random_state=1, stratify=solvent)\n",
    "CV_datasets = data_maker(solute, solvent, pka, CV_ids)\n",
    "datasets = data_maker(solute, solvent, pka)"
   ]
  },
  {
   "cell_type": "markdown",
   "metadata": {},
   "source": [
    "---\n",
    "## Training + testing"
   ]
  },
  {
   "cell_type": "code",
   "execution_count": 14,
   "metadata": {},
   "outputs": [],
   "source": [
    "DMPNN = Model(name='D-MPNN',\n",
    "              model=double_MPNN(MP_depth=3, MP_hidden=256, NN_depth=2, NN_hidden=512, activation='ReLU', \n",
    "                                atom_messages=False, dropout=0, interaction=None, readout='sum'),\n",
    "              lr=0.001,\n",
    "              batch_size=64,\n",
    "              model_type='torch',\n",
    "              data_type='graphs')\n",
    "DMPNN_att = Model(name='D-MPNN with attention',\n",
    "              model=double_MPNN(MP_depth=4, MP_hidden=128, NN_depth=4, NN_hidden=64, activation='ELU', \n",
    "                                atom_messages=False, dropout=0, interaction='tanh', readout='mean'),\n",
    "              lr=0.001,\n",
    "              batch_size=64,\n",
    "              model_type='torch',\n",
    "              data_type='graphs')\n",
    "MPNN = Model(name='MPNN',\n",
    "             model=double_MPNN(MP_depth=3, MP_hidden=256, NN_depth=2, NN_hidden=512, activation='LeakyReLU', \n",
    "                                  atom_messages=True, dropout=0, interaction=None, readout='sum'),\n",
    "             lr=0.001,\n",
    "             batch_size=64,\n",
    "             model_type='torch',\n",
    "             data_type='graphs')\n",
    "MPNN_att = Model(name='MPNN with attention',\n",
    "             model=double_MPNN(MP_depth=2, MP_hidden=64, NN_depth=4, NN_hidden=512, activation='ReLU', \n",
    "                                  atom_messages=True, dropout=0, interaction='tanh', readout='max'),\n",
    "             lr=0.001,\n",
    "             batch_size=64,\n",
    "             model_type='torch',\n",
    "             data_type='graphs')\n",
    "RNN = Model(name='RNN',\n",
    "            model=double_RNN(NN_depth=3, NN_hidden=512, RNN_hidden=512, activation='ReLU', dropout=0.3,\n",
    "                             features=300, interaction=None, readout='max'),\n",
    "            lr=0.001,\n",
    "            batch_size=32,\n",
    "            model_type='torch',\n",
    "            data_type='sentences')\n",
    "RNN_att = Model(name='RNN with attention',\n",
    "                model=double_RNN(NN_depth=1, NN_hidden=1024, RNN_hidden=512, activation='PReLU', dropout=0.1,\n",
    "                                 features=300, interaction='exp', readout='max'),\n",
    "                lr=0.001,\n",
    "                batch_size=32,\n",
    "                model_type='torch',\n",
    "                data_type='sentences')\n",
    "RF_desc = Model(name='Random forest with descriptors',\n",
    "                model=RandomForestRegressor(bootstrap=True, max_depth=512, max_features='auto', min_samples_leaf=2, min_samples_split=2, n_estimators=2048, n_jobs=-1),\n",
    "                model_type='sklearn',\n",
    "                data_type='descriptors')\n",
    "RF_ECFP = Model(name='Random forest with ECFP',\n",
    "                model=RandomForestRegressor(bootstrap=True, max_depth=512, max_features='auto', min_samples_leaf=2, min_samples_split=2, n_estimators=2048, n_jobs=-1),\n",
    "                model_type='sklearn',\n",
    "                data_type='ECFP')\n",
    "MLP_desc = Model(name='MLP with descriptors',\n",
    "                 model=MLPRegressor(activation='logistic', batch_size=32, early_stopping=True, hidden_layer_sizes=(512, 256, 128), solver='adam'),\n",
    "                 model_type='sklearn',\n",
    "                 data_type='descriptors')\n",
    "MLP_ECFP = Model(name='MLP with ECFP',\n",
    "                 model=MLPRegressor(activation='relu', batch_size=16, early_stopping=True, hidden_layer_sizes=(256, 128, 64), solver='adam'),\n",
    "                 model_type='sklearn',\n",
    "                 data_type='ECFP')\n",
    "XGB_desc = Model(name='XGBoost with descriptors',\n",
    "                 model=XGBRegressor(colsample_bytree=0.7, eta=0.1, gamma=0, max_depth=8, min_child_weight=2, n_estimators=2048, n_jobs=-1, subsample=0.9),\n",
    "                 model_type='sklearn',\n",
    "                 data_type='descriptors')\n",
    "XGB_ECFP = Model(name='XGBoost with ECFP',\n",
    "                 model=XGBRegressor(colsample_bytree=0.6, eta=0.1, gamma=0, max_depth=8, min_child_weight=2, n_estimators=2048, n_jobs=-1, subsample=0.8),\n",
    "                 model_type='sklearn',\n",
    "                 data_type='ECFP')\n",
    "#list of all models for testing\n",
    "#models = [DMPNN, DMPNN_att, MPNN, MPNN_att, RNN, RNN_att, RF_desc, RF_ECFP, MLP_desc, MLP_ECFP, XGB_desc, XGB_ECFP]\n",
    "models = [DMPNN, DMPNN_att, MPNN, MPNN_att, RNN, RNN_att]\n",
    "#models = [RF_desc, RF_ECFP, MLP_desc, MLP_ECFP, XGB_desc, XGB_ECFP]"
   ]
  },
  {
   "cell_type": "code",
   "execution_count": 15,
   "metadata": {},
   "outputs": [
    {
     "name": "stdout",
     "output_type": "stream",
     "text": [
      "testing D-MPNN ...\n",
      "testing D-MPNN with attention ...\n",
      "testing MPNN ...\n",
      "testing MPNN with attention ...\n",
      "testing RNN ...\n",
      "testing RNN with attention ...\n",
      "                   Model   MAE  RMSE\n",
      "0                 D-MPNN 1.010 1.581\n",
      "1  D-MPNN with attention 1.102 1.657\n",
      "2                   MPNN 1.090 1.729\n",
      "3    MPNN with attention 1.093 1.495\n",
      "4                    RNN 1.298 1.996\n",
      "5     RNN with attention 1.181 1.719\n"
     ]
    }
   ],
   "source": [
    "#TODO: holdout data test\n",
    "exp_name = \"Holdout test\"\n",
    "results = ddict(list)\n",
    "for m in models:\n",
    "    print('testing '+m.name+' ...')\n",
    "    data = datasets[m.data_type]\n",
    "    \n",
    "    res = fit(m, data, holdout_ids, exp_name)\n",
    "    \n",
    "    results['Model'].append(m.name)\n",
    "    results['MAE'].append(res[0])\n",
    "    results['RMSE'].append(res[1])\n",
    "    \n",
    "    save_model(m, exp_name)\n",
    "\n",
    "holdout_test = pd.DataFrame(results)\n",
    "print(holdout_test)\n",
    "holdout_test.to_csv('results/holdout_test.csv')"
   ]
  },
  {
   "cell_type": "code",
   "execution_count": 16,
   "metadata": {},
   "outputs": [
    {
     "name": "stdout",
     "output_type": "stream",
     "text": [
      "D-MPNN\n"
     ]
    },
    {
     "data": {
      "image/png": "[encoded data removed]",
      "text/plain": [
       "<Figure size 432x288 with 1 Axes>"
      ]
     },
     "metadata": {
      "needs_background": "light"
     },
     "output_type": "display_data"
    },
    {
     "name": "stdout",
     "output_type": "stream",
     "text": [
      "D-MPNN with attention\n"
     ]
    },
    {
     "data": {
      "image/png": "[encoded data removed]",
      "text/plain": [
       "<Figure size 432x288 with 1 Axes>"
      ]
     },
     "metadata": {
      "needs_background": "light"
     },
     "output_type": "display_data"
    },
    {
     "name": "stdout",
     "output_type": "stream",
     "text": [
      "MPNN\n"
     ]
    },
    {
     "data": {
      "image/png": "[encoded data removed]",
      "text/plain": [
       "<Figure size 432x288 with 1 Axes>"
      ]
     },
     "metadata": {
      "needs_background": "light"
     },
     "output_type": "display_data"
    },
    {
     "name": "stdout",
     "output_type": "stream",
     "text": [
      "MPNN with attention\n"
     ]
    },
    {
     "data": {
      "image/png": "[encoded data removed]",
      "text/plain": [
       "<Figure size 432x288 with 1 Axes>"
      ]
     },
     "metadata": {
      "needs_background": "light"
     },
     "output_type": "display_data"
    },
    {
     "name": "stdout",
     "output_type": "stream",
     "text": [
      "RNN\n"
     ]
    },
    {
     "data": {
      "image/png": "[encoded data removed]",
      "text/plain": [
       "<Figure size 432x288 with 1 Axes>"
      ]
     },
     "metadata": {
      "needs_background": "light"
     },
     "output_type": "display_data"
    },
    {
     "name": "stdout",
     "output_type": "stream",
     "text": [
      "RNN with attention\n"
     ]
    },
    {
     "data": {
      "image/png": "[encoded data removed]",
      "text/plain": [
       "<Figure size 432x288 with 1 Axes>"
      ]
     },
     "metadata": {
      "needs_background": "light"
     },
     "output_type": "display_data"
    }
   ],
   "source": [
    "solv_set = list(set(solvent))\n",
    "solv_ids = ddict()\n",
    "for solv in solv_set:\n",
    "    solv_ids[solv] = [i for i,x in enumerate(solvent) if x == solv and i in holdout_ids]\n",
    "for m in models:\n",
    "    print(m.name)\n",
    "    for solv in solv_set:\n",
    "        data = datasets[m.data_type]\n",
    "        targets, outputs = predict(m, \"Holdout test\", data, solv_ids[solv])\n",
    "        plt.plot(targets, outputs, 'o', markersize=3,label=solv)\n",
    "        \n",
    "    plt.xlabel('Targets')\n",
    "    plt.ylabel('Predictions')\n",
    "    lims = [-17,60]\n",
    "    plt.plot(lims, lims, 'k-', alpha=0.75, zorder=0)\n",
    "    axes=plt.gca()\n",
    "    axes.set_aspect('equal')\n",
    "    axes.set_xlim(lims)\n",
    "    axes.set_ylim(lims)\n",
    "    axes.legend()\n",
    "    plt.show()"
   ]
  },
  {
   "cell_type": "code",
   "execution_count": 17,
   "metadata": {},
   "outputs": [
    {
     "name": "stdout",
     "output_type": "stream",
     "text": [
      "testing prop 0.1 ...\n",
      "testing prop 0.2 ...\n",
      "testing prop 0.5 ...\n",
      "testing prop 0.75 ...\n",
      "                    Model  Train size   MAE  RMSE\n",
      "0                  D-MPNN         257 2.164 3.346\n",
      "1   D-MPNN with attention         257 2.920 4.230\n",
      "2                    MPNN         257 2.913 3.870\n",
      "3     MPNN with attention         257 2.442 4.131\n",
      "4                     RNN         257 2.378 3.789\n",
      "5      RNN with attention         257 2.059 3.105\n",
      "6                  D-MPNN         515 1.523 2.388\n",
      "7   D-MPNN with attention         515 1.949 3.008\n",
      "8                    MPNN         515 1.700 2.553\n",
      "9     MPNN with attention         515 1.634 2.629\n",
      "10                    RNN         515 2.047 3.125\n",
      "11     RNN with attention         515 1.677 2.522\n",
      "12                 D-MPNN        1288 1.482 2.487\n",
      "13  D-MPNN with attention        1288 1.536 2.647\n",
      "14                   MPNN        1288 1.460 2.297\n",
      "15    MPNN with attention        1288 1.603 2.466\n",
      "16                    RNN        1288 1.575 2.440\n",
      "17     RNN with attention        1288 1.380 2.186\n",
      "18                 D-MPNN        1932 1.081 1.670\n",
      "19  D-MPNN with attention        1932 1.313 1.881\n",
      "20                   MPNN        1932 1.153 1.758\n",
      "21    MPNN with attention        1932 1.226 1.738\n",
      "22                    RNN        1932 1.237 1.929\n",
      "23     RNN with attention        1932 1.387 1.918\n"
     ]
    }
   ],
   "source": [
    "#TODO: dataset size vs accuracy\n",
    "results = ddict(list)\n",
    "proportions = [0.1,0.2,0.5,0.75]\n",
    "\n",
    "for prop in proportions:\n",
    "    solvents = [solvent[i] for i in CV_ids]\n",
    "    train_ids,_,_,_ = train_test_split(CV_ids, solvents, test_size=1-prop, random_state=1, stratify=solvents)\n",
    "    train_size = len(train_ids)\n",
    "    exp_name = \"Training data size \"+str(prop)\n",
    "    print('testing prop '+str(prop)+' ...')\n",
    "    for m in models:\n",
    "        data = datasets[m.data_type]\n",
    "\n",
    "        res = fit(m, data, holdout_ids, exp_name, train_ids=train_ids)\n",
    "\n",
    "        results['Model'].append(m.name)\n",
    "        results['Train size'].append(train_size)\n",
    "        results['MAE'].append(res[0])\n",
    "        results['RMSE'].append(res[1])\n",
    "\n",
    "train_size = len(CV_ids)\n",
    "for m in models:\n",
    "    data = datasets[m.data_type]\n",
    "\n",
    "    res = fit(m, data, holdout_ids, exp_name, train_ids=CV_ids)\n",
    "\n",
    "    results['Model'].append(m.name)\n",
    "    results['Train size'].append(train_size)\n",
    "    results['MAE'].append(res[0])\n",
    "    results['RMSE'].append(res[1])\n",
    "\n",
    "train_prop_test = pd.DataFrame(results)\n",
    "print(train_prop_test)\n",
    "train_prop_test.to_csv('results/train_prop_test.csv')"
   ]
  },
  {
   "cell_type": "code",
   "execution_count": 18,
   "metadata": {},
   "outputs": [
    {
     "name": "stdout",
     "output_type": "stream",
     "text": [
      "testing O ...\n",
      "testing CC#N ...\n",
      "testing CN(C)C=O ...\n",
      "testing C1CCOC1 ...\n",
      "testing C(CCl)Cl ...\n",
      "testing CS(=O)C ...\n",
      "                    Model LOSO solvent  Test size    MAE   RMSE\n",
      "0                  D-MPNN            O       2519  5.860  6.733\n",
      "1   D-MPNN with attention            O       2519 15.483 16.529\n",
      "2                    MPNN            O       2519  6.261  7.026\n",
      "3     MPNN with attention            O       2519 14.815 15.748\n",
      "4                     RNN            O       2519 11.215 12.263\n",
      "5      RNN with attention            O       2519 12.801 13.437\n",
      "6                  D-MPNN         CC#N        400  4.037  4.870\n",
      "7   D-MPNN with attention         CC#N        400  4.774  5.878\n",
      "8                    MPNN         CC#N        400  3.075  3.792\n",
      "9     MPNN with attention         CC#N        400  4.238  5.127\n",
      "10                    RNN         CC#N        400  5.602  6.522\n",
      "11     RNN with attention         CC#N        400  7.880  8.795\n",
      "12                 D-MPNN     CN(C)C=O         20  1.582  1.812\n",
      "13  D-MPNN with attention     CN(C)C=O         20  0.789  1.371\n",
      "14                   MPNN     CN(C)C=O         20  0.967  1.158\n",
      "15    MPNN with attention     CN(C)C=O         20  3.301  4.149\n",
      "16                    RNN     CN(C)C=O         20  6.582  7.159\n",
      "17     RNN with attention     CN(C)C=O         20  9.835 10.148\n",
      "18                 D-MPNN      C1CCOC1         65 38.591 38.673\n",
      "19  D-MPNN with attention      C1CCOC1         65 43.323 43.486\n",
      "20                   MPNN      C1CCOC1         65 39.011 39.099\n",
      "21    MPNN with attention      C1CCOC1         65 18.161 18.909\n",
      "22                    RNN      C1CCOC1         65  2.679  3.937\n",
      "23     RNN with attention      C1CCOC1         65  2.024  4.121\n",
      "24                 D-MPNN     C(CCl)Cl         88 33.513 33.949\n",
      "25  D-MPNN with attention     C(CCl)Cl         88 34.106 34.567\n",
      "26                   MPNN     C(CCl)Cl         88 35.426 35.756\n",
      "27    MPNN with attention     C(CCl)Cl         88 35.630 36.125\n",
      "28                    RNN     C(CCl)Cl         88 38.117 38.512\n",
      "29     RNN with attention     C(CCl)Cl         88 39.743 40.059\n",
      "30                 D-MPNN      CS(=O)C        130  8.635  9.017\n",
      "31  D-MPNN with attention      CS(=O)C        130 11.484 11.842\n",
      "32                   MPNN      CS(=O)C        130 12.088 12.448\n",
      "33    MPNN with attention      CS(=O)C        130 11.734 12.292\n",
      "34                    RNN      CS(=O)C        130  7.572  8.139\n",
      "35     RNN with attention      CS(=O)C        130  4.572  5.020\n"
     ]
    }
   ],
   "source": [
    "#LOSO\n",
    "results = ddict(list)\n",
    "solvent_set = list(set(solvent))\n",
    "\n",
    "for solv in solvent_set:\n",
    "    test_ids = [i for i, x in enumerate(solvent) if x == solv]\n",
    "    size = len(test_ids)\n",
    "    exp_name = \"LOSO \"+solv\n",
    "    print('testing '+solv+' ...')\n",
    "    for m in models:\n",
    "        try:\n",
    "            data = datasets[m.data_type]\n",
    "\n",
    "            res = fit(m, data, test_ids, exp_name)\n",
    "\n",
    "            results['Model'].append(m.name)\n",
    "            results['LOSO solvent'].append(solv)\n",
    "            results['Test size'].append(size)\n",
    "            results['MAE'].append(res[0])\n",
    "            results['RMSE'].append(res[1])\n",
    "        except:\n",
    "            print('error with model '+m.name)\n",
    "\n",
    "LOSO_test = pd.DataFrame(results)\n",
    "print(LOSO_test)\n",
    "LOSO_test.to_csv('results/LOSO_test.csv')"
   ]
  },
  {
   "cell_type": "code",
   "execution_count": 19,
   "metadata": {},
   "outputs": [
    {
     "name": "stdout",
     "output_type": "stream",
     "text": [
      "testing N ...\n",
      "testing O ...\n",
      "testing F ...\n",
      "testing P ...\n",
      "testing S ...\n",
      "testing Cl ...\n",
      "testing Br ...\n",
      "                    Model LOEO element  Test size   MAE  RMSE\n",
      "0                  D-MPNN            N       2311 3.438 4.853\n",
      "1   D-MPNN with attention            N       2311 2.876 4.462\n",
      "2                    MPNN            N       2311 4.371 5.539\n",
      "3     MPNN with attention            N       2311 3.318 4.859\n",
      "4                     RNN            N       2311 2.979 4.523\n",
      "5      RNN with attention            N       2311 2.945 4.466\n",
      "6                  D-MPNN            O       2067 3.100 4.299\n",
      "7   D-MPNN with attention            O       2067 3.277 4.577\n",
      "8                    MPNN            O       2067 3.656 4.982\n",
      "9     MPNN with attention            O       2067 3.161 4.483\n",
      "10                    RNN            O       2067 3.638 5.311\n",
      "11     RNN with attention            O       2067 3.847 5.246\n",
      "12                 D-MPNN            F        423 2.434 3.815\n",
      "13  D-MPNN with attention            F        423 4.116 5.766\n",
      "14                   MPNN            F        423 2.420 3.673\n",
      "15    MPNN with attention            F        423 2.257 3.472\n",
      "16                    RNN            F        423 2.888 4.415\n",
      "17     RNN with attention            F        423 3.130 4.427\n",
      "18                 D-MPNN            P         68 4.892 6.833\n",
      "19  D-MPNN with attention            P         68 5.322 7.621\n",
      "20                   MPNN            P         68 3.872 4.692\n",
      "21    MPNN with attention            P         68 4.430 7.759\n",
      "22                    RNN            P         68 6.157 9.451\n",
      "23     RNN with attention            P         68 6.376 9.732\n",
      "24                 D-MPNN            S        492 2.805 3.821\n",
      "25  D-MPNN with attention            S        492 3.381 4.865\n",
      "26                   MPNN            S        492 2.736 3.804\n",
      "27    MPNN with attention            S        492 3.401 4.666\n",
      "28                    RNN            S        492 3.741 5.475\n",
      "29     RNN with attention            S        492 4.002 5.801\n",
      "30                 D-MPNN           Cl        413 1.266 2.285\n",
      "31  D-MPNN with attention           Cl        413 1.245 2.328\n",
      "32                   MPNN           Cl        413 1.344 2.851\n",
      "33    MPNN with attention           Cl        413 1.429 2.807\n",
      "34                    RNN           Cl        413 1.535 2.465\n",
      "35     RNN with attention           Cl        413 1.365 2.306\n",
      "36                 D-MPNN           Br        112 1.018 1.881\n",
      "37  D-MPNN with attention           Br        112 1.309 2.166\n",
      "38                   MPNN           Br        112 1.063 1.774\n",
      "39    MPNN with attention           Br        112 1.208 2.422\n",
      "40                    RNN           Br        112 1.335 2.238\n",
      "41     RNN with attention           Br        112 2.234 3.620\n"
     ]
    }
   ],
   "source": [
    "#LOEO\n",
    "results = ddict(list)\n",
    "element_set = ['N','O','F','P','S','Cl','Br']\n",
    "\n",
    "for ele in element_set:\n",
    "    test_ids = [i for i, x in enumerate(solute) if ele in x]\n",
    "    size = len(test_ids)\n",
    "    exp_name = \"LOEO \"+ele\n",
    "    print('testing '+ele+' ...')\n",
    "    for m in models:\n",
    "        data = datasets[m.data_type]\n",
    "\n",
    "        res = fit(m, data, test_ids, exp_name)\n",
    "\n",
    "        results['Model'].append(m.name)\n",
    "        results['LOEO element'].append(ele)\n",
    "        results['Test size'].append(size)\n",
    "        results['MAE'].append(res[0])\n",
    "        results['RMSE'].append(res[1])\n",
    "\n",
    "LOEO_test = pd.DataFrame(results)\n",
    "print(LOEO_test)\n",
    "LOEO_test.to_csv('results/LOEO_test.csv')"
   ]
  },
  {
   "cell_type": "code",
   "execution_count": null,
   "metadata": {},
   "outputs": [
    {
     "name": "stdout",
     "output_type": "stream",
     "text": [
      "testing >150g/mol ...\n",
      "testing >200g/mol ...\n",
      "testing >250g/mol ...\n",
      "testing >300g/mol ...\n"
     ]
    }
   ],
   "source": [
    "#LOMO\n",
    "results = ddict(list)\n",
    "solute_masses = [MolWt(Chem.MolFromSmiles(mol)) for mol in solute]\n",
    "mass_cutoffs = [150,200,250,300,350]\n",
    "\n",
    "for mass in mass_cutoffs:\n",
    "    test_ids = [i for i, x in enumerate(solute_masses) if x > mass]\n",
    "    size = len(test_ids)\n",
    "    exp_name = \"LOMO >\"+str(mass)+'g/mol'\n",
    "    print('testing >'+str(mass)+'g/mol ...')\n",
    "    for m in models:\n",
    "        try:\n",
    "            data = datasets[m.data_type]\n",
    "\n",
    "            res = fit(m, data, test_ids, exp_name)\n",
    "\n",
    "            results['Model'].append(m.name)\n",
    "            results['LOMO mass cutoff'].append(mass)\n",
    "            results['Test size'].append(size)\n",
    "            results['MAE'].append(res[0])\n",
    "            results['RMSE'].append(res[1])\n",
    "        except:\n",
    "            print('error with model '+m.name)\n",
    "\n",
    "LOMO_high_test = pd.DataFrame(results)\n",
    "print(LOMO_high_test)\n",
    "LOMO_high_test.to_csv('results/LOMO_high_test.csv')"
   ]
  },
  {
   "cell_type": "code",
   "execution_count": null,
   "metadata": {},
   "outputs": [],
   "source": [
    "#LOMO\n",
    "results = ddict(list)\n",
    "solute_masses = [MolWt(Chem.MolFromSmiles(mol)) for mol in solute]\n",
    "mass_cutoffs = [50,100,150,200,250,300,350]\n",
    "\n",
    "for mass in mass_cutoffs:\n",
    "    test_ids = [i for i, x in enumerate(solute_masses) if x < mass]\n",
    "    size = len(test_ids)\n",
    "    exp_name = \"LOMO <\"+str(mass)+'g/mol'\n",
    "    print('testing <'+str(mass)+'g/mol ...')\n",
    "    for m in models:\n",
    "        try:\n",
    "            data = datasets[m.data_type]\n",
    "\n",
    "            res = fit(m, data, test_ids, exp_name)\n",
    "\n",
    "            results['Model'].append(m.name)\n",
    "            results['LOMO mass cutoff'].append(mass)\n",
    "            results['Test size'].append(size)\n",
    "            results['MAE'].append(res[0])\n",
    "            results['RMSE'].append(res[1])\n",
    "        except:\n",
    "            print('error with model '+m.name)\n",
    "\n",
    "LOMO_low_test = pd.DataFrame(results)\n",
    "print(LOMO_low_test)\n",
    "LOMO_low_test.to_csv('results/LOMO_low_test.csv')"
   ]
  },
  {
   "cell_type": "code",
   "execution_count": null,
   "metadata": {},
   "outputs": [],
   "source": [
    "#LOCO\n",
    "results = ddict(list)\n",
    "solute_charges = [GetFormalCharge(Chem.MolFromSmiles(mol)) for mol in solute]\n",
    "charge_list = [0,1]\n",
    "\n",
    "for charge in charge_list:\n",
    "    test_ids = [i for i, x in enumerate(solute_charges) if x == charge]\n",
    "    size = len(test_ids)\n",
    "    exp_name = \"LOCO \"+str(charge)\n",
    "    print('testing >'+str(charge)+' ...')\n",
    "    for m in models:\n",
    "        try:\n",
    "            data = datasets[m.data_type]\n",
    "\n",
    "            res = fit(m, data, test_ids, exp_name)\n",
    "\n",
    "            results['Model'].append(m.name)\n",
    "            results['LOCO charge'].append(charge)\n",
    "            results['Test size'].append(size)\n",
    "            results['MAE'].append(res[0])\n",
    "            results['RMSE'].append(res[1])\n",
    "        except:\n",
    "            print('error with model '+m.name)\n",
    "\n",
    "LOCO_test = pd.DataFrame(results)\n",
    "print(LOCO_test)\n",
    "LOCO_test.to_csv('results/LOCO_test.csv')"
   ]
  },
  {
   "cell_type": "code",
   "execution_count": null,
   "metadata": {},
   "outputs": [],
   "source": [
    "#LOFO\n",
    "results = ddict(list)\n",
    "pattern_list = [('proton donor','[!H0;F,Cl,Br,I,N+,$([OH]-*=[!#6]),+]'),\n",
    "             ('H-bond donor','[N,n,O;!H0]'),\n",
    "             ('protonated amine','[NH+,NH2+,NH3+,nH+,nH2+]'),\n",
    "             ('carboxylic acid','[CX3](=O)[OX2H1]'),\n",
    "             ('amide','[NX3][CX3](=[OX1])[#6]'),\n",
    "             ('ketone','[#6][CX3](=O)[#6]'),\n",
    "             ('ether','[OD2]([#6])[#6]'),\n",
    "             ('amine','[NX3;H2,H1;!$(NC=O)]'),\n",
    "             ('nitrile','[NX1]#[CX2]'),\n",
    "             ('nitro','[$([NX3](=O)=O),$([NX3+](=O)[O-])][!#8]'),\n",
    "             ('hydroxyl alcohol','[#6][OX2H]'),\n",
    "             ('phenol','[OX2H][cX3]:[c]'),\n",
    "             ('thiol','[#16X2H]'),\n",
    "             ('phosphoric acid','[$(P(=[OX1])([$([OX2H]),$([OX1-]),$([OX2]P)])([$([OX2H]),$([OX1-]),$([OX2]P)])[$([OX2H]),$([OX1-]),$([OX2]P)]),$([P+]([OX1-])([$([OX2H]),$([OX1-]),$([OX2]P)])([$([OX2H]),$([OX1-]),$([OX2]P)])[$([OX2H]),$([OX1-]),$([OX2]P)])]')]\n",
    "solute_mols = [Chem.MolFromSmiles(sol) for sol in solute]\n",
    "\n",
    "for name, smart in pattern_list:\n",
    "    patt = Chem.MolFromSmarts(smart)\n",
    "    test_ids = [i for i, x in enumerate(solute_mols) if x.HasSubstructMatch(patt)==True]\n",
    "    size = len(test_ids)\n",
    "    exp_name = \"LOFO \"+name\n",
    "    print('testing '+name+' ...')\n",
    "    for m in models:\n",
    "        try:\n",
    "            data = datasets[m.data_type]\n",
    "\n",
    "            res = fit(m, data, test_ids, exp_name)\n",
    "\n",
    "            results['Model'].append(m.name)\n",
    "            results['LOFO group'].append(name)\n",
    "            results['Test size'].append(size)\n",
    "            results['MAE'].append(res[0])\n",
    "            results['RMSE'].append(res[1])\n",
    "        except:\n",
    "            print('error with model '+m.name)\n",
    "\n",
    "LOFO_test = pd.DataFrame(results)\n",
    "print(LOFO_test)\n",
    "LOFO_test.to_csv('results/LOFO_test.csv')"
   ]
  },
  {
   "cell_type": "code",
   "execution_count": null,
   "metadata": {},
   "outputs": [],
   "source": []
  }
 ],
 "metadata": {
  "kernelspec": {
   "display_name": "Python 3",
   "language": "python",
   "name": "python3"
  },
  "language_info": {
   "codemirror_mode": {
    "name": "ipython",
    "version": 3
   },
   "file_extension": ".py",
   "mimetype": "text/x-python",
   "name": "python",
   "nbconvert_exporter": "python",
   "pygments_lexer": "ipython3",
   "version": "3.8.5"
  }
 },
 "nbformat": 4,
 "nbformat_minor": 4
}
