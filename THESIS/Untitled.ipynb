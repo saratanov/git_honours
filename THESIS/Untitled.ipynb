{
 "cells": [
  {
   "cell_type": "code",
   "execution_count": 1,
   "metadata": {},
   "outputs": [
    {
     "name": "stderr",
     "output_type": "stream",
     "text": [
      "RDKit WARNING: [20:47:38] Enabling RDKit 2019.09.3 jupyter extensions\n"
     ]
    }
   ],
   "source": [
    "%matplotlib inline\n",
    "\n",
    "from collections import defaultdict as ddict, OrderedDict as odict\n",
    "from typing import Any, Dict, List\n",
    "\n",
    "import matplotlib.pyplot as plt\n",
    "import numpy as np\n",
    "import pandas as pd\n",
    "from xgboost import XGBRegressor\n",
    "from sklearn.neural_network import MLPRegressor\n",
    "from rdkit.ML.Descriptors.MoleculeDescriptors import MolecularDescriptorCalculator\n",
    "from rdkit.Chem import PandasTools, AllChem as Chem, Descriptors\n",
    "from rdkit.Chem.Descriptors import MolWt\n",
    "from sklearn.ensemble import RandomForestRegressor\n",
    "import sklearn\n",
    "from rdkit.Chem.rdmolops import GetFormalCharge\n",
    "import torch\n",
    "import deepchem as dc\n",
    "import copy\n",
    "from sklearn.model_selection import train_test_split\n",
    "from hyperopt import hp\n",
    "import imp\n",
    "\n",
    "pd.set_option('display.float_format', lambda x: '%.3f' % x)  # Display floats without scientific notation"
   ]
  },
  {
   "cell_type": "code",
   "execution_count": 2,
   "metadata": {},
   "outputs": [
    {
     "name": "stderr",
     "output_type": "stream",
     "text": [
      "/Users/u6676643/opt/anaconda3/lib/python3.8/site-packages/gensim/similarities/__init__.py:15: UserWarning: The gensim.similarities.levenshtein submodule is disabled, because the optional Levenshtein package <https://pypi.org/project/python-Levenshtein/> is unavailable. Install Levenhstein (e.g. `pip install python-Levenshtein`) to suppress this warning.\n",
      "  warnings.warn(msg)\n"
     ]
    }
   ],
   "source": [
    "from modules.data import data_maker, Dataset\n",
    "from modules.RNN import double_RNN\n",
    "from modules.fit import Model, fit\n",
    "from modules.myhyperopt import hyperopt_func\n",
    "from modules.MPNN import double_MPNN\n",
    "from modules.MP_utils import mol2graph"
   ]
  },
  {
   "cell_type": "code",
   "execution_count": 29,
   "metadata": {},
   "outputs": [],
   "source": [
    "import modules"
   ]
  },
  {
   "cell_type": "code",
   "execution_count": 3,
   "metadata": {},
   "outputs": [],
   "source": [
    "data = pd.read_csv('data/full_pka_data.csv')\n",
    "solute = data['Solute SMILES'].tolist()\n",
    "solvent = data['Solvent SMILES'].tolist()\n",
    "pka = data['pKa (avg)'].tolist()\n",
    "data_size = len(solute)"
   ]
  },
  {
   "cell_type": "code",
   "execution_count": 4,
   "metadata": {},
   "outputs": [],
   "source": [
    "indices = list(range(data_size))\n",
    "CV_ids, holdout_ids, _, _ = train_test_split(indices, solvent, test_size=0.2, random_state=1, stratify=solvent)\n",
    "CV_datasets = data_maker(solute, solvent, pka, CV_ids)\n",
    "datasets = data_maker(solute, solvent, pka)"
   ]
  },
  {
   "cell_type": "code",
   "execution_count": 5,
   "metadata": {},
   "outputs": [],
   "source": [
    "MPNN = Model(name='MPNN',\n",
    "                model=double_MPNN(atom_messages=True),\n",
    "                model_type='torch',\n",
    "                data_type='SMILES')"
   ]
  },
  {
   "cell_type": "code",
   "execution_count": 6,
   "metadata": {},
   "outputs": [],
   "source": [
    "def collate_double(batch):\n",
    "    '''\n",
    "    Collates double input batches for a torch loader.\n",
    "        \n",
    "    Parameters\n",
    "    ----------\n",
    "    batch: List = [(X,y)]\n",
    "        List of (solute,solvent) pairs with their target value.\n",
    "    \n",
    "    Returns\n",
    "    -------\n",
    "    [sol_batch, solv_batch, targets]: List\n",
    "        Type of output depends on if the original dataset contains SMILES or sentences.\n",
    "        Each component is a list / torch.Tensor.\n",
    "    '''\n",
    "    if type(batch[0][0][0]) == str:\n",
    "        sol_batch = mol2graph([t[0][0] for t in batch])\n",
    "        solv_batch = mol2graph([t[0][1] for t in batch])\n",
    "    else:\n",
    "        sol_batch = [torch.Tensor(t[0][0]) for t in batch]\n",
    "        sol_batch = nn.utils.rnn.pad_sequence(sol_batch)\n",
    "        solv_batch = [torch.Tensor(t[0][1]) for t in batch]\n",
    "        solv_batch = nn.utils.rnn.pad_sequence(solv_batch)\n",
    "    targets = torch.Tensor([t[1].item() for t in batch])\n",
    "    \n",
    "    return [sol_batch, solv_batch, targets]\n",
    "\n",
    "def double_loader(data, indices, batch_size=64):\n",
    "    '''\n",
    "    torch loader for double inputs.\n",
    "        \n",
    "    Parameters\n",
    "    ----------\n",
    "    indices : list, np.array\n",
    "        Indices for selected samples.\n",
    "    data : List = [(sol,solv),pka]\n",
    "        Training data of (solute,solvent) pairs and target values.\n",
    "    batch_size : int\n",
    "        Size of selected batches\n",
    "    \n",
    "    Returns\n",
    "    -------\n",
    "    loader : torch.utils.data.DataLoader\n",
    "        Batched dataloader for torch regressors\n",
    "    '''\n",
    "    dataset = Dataset(indices, data[0], data[1])\n",
    "    loader = torch.utils.data.DataLoader(dataset, batch_size=batch_size, shuffle=False, collate_fn=collate_double)\n",
    "    return loader"
   ]
  },
  {
   "cell_type": "code",
   "execution_count": 7,
   "metadata": {},
   "outputs": [],
   "source": [
    "data = datasets['SMILES']\n",
    "ids = list(range(len(data[0])))\n",
    "loader = double_loader(data, ids)"
   ]
  },
  {
   "cell_type": "code",
   "execution_count": 8,
   "metadata": {},
   "outputs": [],
   "source": [
    "for (sol,solv,pka) in loader:\n",
    "    MPNN.model(sol,solv)"
   ]
  },
  {
   "cell_type": "code",
   "execution_count": null,
   "metadata": {},
   "outputs": [],
   "source": []
  }
 ],
 "metadata": {
  "kernelspec": {
   "display_name": "Python 3",
   "language": "python",
   "name": "python3"
  },
  "language_info": {
   "codemirror_mode": {
    "name": "ipython",
    "version": 3
   },
   "file_extension": ".py",
   "mimetype": "text/x-python",
   "name": "python",
   "nbconvert_exporter": "python",
   "pygments_lexer": "ipython3",
   "version": "3.8.5"
  }
 },
 "nbformat": 4,
 "nbformat_minor": 4
}
