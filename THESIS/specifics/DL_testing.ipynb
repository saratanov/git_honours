{
 "cells": [
  {
   "cell_type": "code",
   "execution_count": 2,
   "metadata": {},
   "outputs": [
    {
     "name": "stderr",
     "output_type": "stream",
     "text": [
      "RDKit WARNING: [17:22:03] Enabling RDKit 2019.09.3 jupyter extensions\n",
      "/Users/u6676643/opt/anaconda3/lib/python3.8/site-packages/gensim/similarities/__init__.py:15: UserWarning: The gensim.similarities.levenshtein submodule is disabled, because the optional Levenshtein package <https://pypi.org/project/python-Levenshtein/> is unavailable. Install Levenhstein (e.g. `pip install python-Levenshtein`) to suppress this warning.\n",
      "  warnings.warn(msg)\n"
     ]
    }
   ],
   "source": [
    "%matplotlib inline\n",
    "\n",
    "from collections import defaultdict as ddict, OrderedDict as odict\n",
    "from typing import Any, Dict, List\n",
    "\n",
    "import matplotlib.pyplot as plt\n",
    "import numpy as np\n",
    "import pandas as pd\n",
    "from xgboost import XGBRegressor\n",
    "from sklearn.neural_network import MLPRegressor\n",
    "from rdkit.ML.Descriptors.MoleculeDescriptors import MolecularDescriptorCalculator\n",
    "from rdkit.Chem import PandasTools, AllChem as Chem, Descriptors\n",
    "from rdkit.Chem.Descriptors import MolWt\n",
    "from sklearn.ensemble import RandomForestRegressor\n",
    "import sklearn\n",
    "from rdkit.Chem.rdmolops import GetFormalCharge\n",
    "import torch\n",
    "import deepchem as dc\n",
    "import copy\n",
    "from sklearn.model_selection import train_test_split\n",
    "\n",
    "import basicest as b\n",
    "import chemprop_ish as c\n",
    "import delfos as d\n",
    "import imp\n",
    "\n",
    "pd.set_option('display.float_format', lambda x: '%.3f' % x)  # Display floats without scientific notation"
   ]
  },
  {
   "cell_type": "code",
   "execution_count": 3,
   "metadata": {},
   "outputs": [],
   "source": [
    "data = pd.read_csv('non_aqueous_pka_data.csv')\n",
    "solute = data['Solute SMILES'].tolist()\n",
    "solvent = data['Solvent SMILES'].tolist()\n",
    "pka = data['pKa (avg)'].tolist()\n",
    "data_size = len(solute)"
   ]
  },
  {
   "cell_type": "code",
   "execution_count": 4,
   "metadata": {},
   "outputs": [],
   "source": [
    "indices = list(range(data_size))\n",
    "CV_ids, holdout_ids, _, _ = train_test_split(indices, solvent, test_size=0.2, random_state=1, stratify=solvent)\n",
    "CV_datasets = b.data_maker(solute, solvent, pka, CV_ids)\n",
    "datasets = b.data_maker(solute, solvent, pka)"
   ]
  },
  {
   "cell_type": "code",
   "execution_count": 78,
   "metadata": {},
   "outputs": [
    {
     "data": {
      "text/plain": [
       "<module 'basicest' from '/Users/u6676643/codes/testing/basicest.py'>"
      ]
     },
     "execution_count": 78,
     "metadata": {},
     "output_type": "execute_result"
    }
   ],
   "source": [
    "imp.reload(b)"
   ]
  },
  {
   "cell_type": "code",
   "execution_count": 81,
   "metadata": {},
   "outputs": [],
   "source": [
    "DMPNN = b.Model(name='D-MPNN',\n",
    "                model=c.double_MPNN(atom_messages=False),\n",
    "                model_type='torch',\n",
    "                data_type='SMILES')\n",
    "DMPNN_att = b.Model(name='D-MPNN with attention',\n",
    "                    model=c.double_MPNN(atom_messages=False, interaction=True),\n",
    "                    model_type='torch',\n",
    "                    data_type='SMILES')\n",
    "MPNN = b.Model(name='MPNN',\n",
    "                model=c.double_MPNN(atom_messages=True),\n",
    "                model_type='torch',\n",
    "                data_type='SMILES')\n",
    "MPNN_att = b.Model(name='MPNN with attention',\n",
    "                    model=c.double_MPNN(atom_messages=True, interaction=True),\n",
    "                    model_type='torch',\n",
    "                    data_type='SMILES')\n",
    "RNN = b.Model(name='RNN+NN',\n",
    "              model=d.dnet(interaction=False),\n",
    "              model_type='torch',\n",
    "              data_type='sentences')\n",
    "RNN_att = b.Model(name='RNN+NN with attention',\n",
    "                  model=d.dnet(),\n",
    "                  model_type='torch',\n",
    "                  data_type='sentences')\n",
    "\n",
    "#list of all models for testing\n",
    "models = [DMPNN, DMPNN_att, MPNN, MPNN_att, RNN, RNN_att]"
   ]
  },
  {
   "cell_type": "code",
   "execution_count": 74,
   "metadata": {},
   "outputs": [],
   "source": [
    "def training_loss(model,lr,batch_size,epochs):    \n",
    "    train_ids = [x for x in range(893) if x not in holdout_ids]\n",
    "    test_ids = holdout_ids\n",
    "    \n",
    "    data = datasets[model.data_type]\n",
    "    scaler = b.pka_scaler(data[1][train_ids])\n",
    "    loader = b.double_loader(data, indices=train_ids, batch_size=batch_size)\n",
    "    \n",
    "    regressor = copy.deepcopy(model.model)\n",
    "    loss_function = torch.nn.MSELoss()\n",
    "    #optimiser = model.optimiser\n",
    "    optimiser = torch.optim.Adam(regressor.parameters(), lr=lr)\n",
    "\n",
    "    test_loss_list = []\n",
    "    train_loss_list = []\n",
    "    for epoch in range(epochs):\n",
    "        for (sol,solv,targets) in loader:\n",
    "            targets = targets.view(-1,1)\n",
    "            targets = scaler.transform(targets)\n",
    "            optimiser.zero_grad()\n",
    "            outputs = regressor(sol,solv)\n",
    "            loss = loss_function(outputs, targets)\n",
    "            print(loss.item())\n",
    "            loss.backward()\n",
    "            optimiser.step()\n",
    "        train_loss = b.test(model, regressor, train_ids, data, scaler)\n",
    "        train_loss_list.append(train_loss[0])\n",
    "        test_loss = b.test(model, regressor, test_ids, data, scaler)\n",
    "        test_loss_list.append(test_loss[0])\n",
    "    plt.plot(train_loss_list)\n",
    "    plt.plot(test_loss_list)\n",
    "    print(model.name)\n",
    "    print(\"lr:\",lr)\n",
    "    print(\"batch size:\", batch_size)\n",
    "    print(\"epochs:\", epochs)\n",
    "    print(\"Test loss:\", test_loss[0])\n",
    "    print(\"Train loss:\", train_loss[0])"
   ]
  },
  {
   "cell_type": "code",
   "execution_count": 76,
   "metadata": {},
   "outputs": [],
   "source": [
    "def training_loss_early(model,lr,batch_size):\n",
    "    data = datasets[model.data_type]\n",
    "    train_ids = [x for x in range(893) if x not in holdout_ids]\n",
    "    test_ids = holdout_ids\n",
    "    solvent = [datasets['SMILES'][0][x][1] for x in train_ids]\n",
    "    train_ids, val_ids, _, _ = train_test_split(train_ids, solvent, test_size=0.2, random_state=1, stratify=solvent)\n",
    "    scaler = b.pka_scaler(data[1][train_ids])\n",
    "    train_loader = b.double_loader(data, train_ids, batch_size=model.batch_size)\n",
    "    val_loader = b.double_loader(data, val_ids, batch_size=len(val_ids))\n",
    "    test_loader = b.double_loader(data, test_ids, batch_size=len(test_ids))\n",
    "    \n",
    "    regressor = copy.deepcopy(model.model)      \n",
    "    optimiser = torch.optim.Adam(regressor.parameters(), lr=lr)\n",
    "    loss_function = torch.nn.MSELoss()\n",
    "    early_stopping = b.EarlyStopping(patience=10)\n",
    "    \n",
    "    train_losses = []\n",
    "    val_losses = []\n",
    "    test_losses = []\n",
    "    train_MAE_list = []\n",
    "    test_MAE_list = []\n",
    "    \n",
    "    for epoch in range(10):\n",
    "        #train\n",
    "        e_train_losses = []\n",
    "        for (sol,solv,targets) in train_loader:\n",
    "            targets = targets.view(-1,1)\n",
    "            targets = scaler.transform(targets)\n",
    "            optimiser.zero_grad()\n",
    "            outputs = regressor(sol,solv)\n",
    "            loss = loss_function(outputs, targets)\n",
    "            loss.backward()\n",
    "            optimiser.step()\n",
    "            e_train_losses.append(loss.item())\n",
    "        train_losses.append(np.mean(e_train_losses))\n",
    "        #evaluate\n",
    "        for (sol,solv,targets) in val_loader:\n",
    "            targets = targets.view(-1,1)\n",
    "            targets = scaler.transform(targets)\n",
    "            outputs = regressor(sol,solv)\n",
    "            loss = loss_function(outputs, targets)\n",
    "            val_loss = loss.item()\n",
    "            val_losses.append(loss)\n",
    "        #test\n",
    "        for (sol,solv,targets) in test_loader:\n",
    "            targets = targets.view(-1,1)\n",
    "            targets = scaler.transform(targets)\n",
    "            outputs = regressor(sol,solv)\n",
    "            loss = loss_function(outputs, targets)\n",
    "            test_loss = loss.item()\n",
    "            test_losses.append(test_loss)\n",
    "        train_MAE = b.test(model, regressor, train_ids, data, scaler)\n",
    "        train_MAE_list.append(train_MAE[0])\n",
    "        test_MAE = b.test(model, regressor, test_ids, data, scaler)\n",
    "        test_MAE_list.append(test_MAE[0])\n",
    "        #early stopping\n",
    "        early_stopping.store(val_loss, regressor)\n",
    "        if early_stopping.stop:\n",
    "            print(\"stop\")\n",
    "            #break\n",
    "    regressor.load_state_dict(torch.load('checkpoint.pt'))\n",
    "    \n",
    "    #final testing\n",
    "    for (sol,solv,targets) in test_loader:\n",
    "        outputs = regressor(sol,solv)\n",
    "        outputs = scaler.inverse_transform(outputs)\n",
    "        targets= targets.detach().numpy()\n",
    "        outputs = outputs.detach().numpy()\n",
    "        \n",
    "    results = b.mae(targets, outputs)\n",
    "    plt.plot(train_losses)\n",
    "    plt.plot(val_losses)\n",
    "    plt.plot(test_losses)\n",
    "    plt.show()\n",
    "    plt.plot(train_MAE_list)\n",
    "    plt.plot(test_MAE_list)\n",
    "    plt.show()\n",
    "    print(model.name)\n",
    "    print(\"lr:\",lr)\n",
    "    print(\"batch size:\", batch_size)\n",
    "    print(\"epochs:\", epoch)\n",
    "    print(\"Final test MAE:\"+str(results))"
   ]
  },
  {
   "cell_type": "code",
   "execution_count": 75,
   "metadata": {
    "collapsed": true,
    "jupyter": {
     "outputs_hidden": true
    },
    "tags": []
   },
   "outputs": [
    {
     "name": "stdout",
     "output_type": "stream",
     "text": [
      "1.2214558124542236\n",
      "1.74800443649292\n",
      "0.8524612784385681\n",
      "0.3633928596973419\n",
      "0.8699923157691956\n",
      "1.076320767402649\n",
      "0.5213273763656616\n",
      "1.1848541498184204\n",
      "0.44677579402923584\n",
      "0.5172734260559082\n",
      "0.504776656627655\n",
      "0.7814615964889526\n",
      "0.5201511383056641\n",
      "0.2739614248275757\n",
      "0.47424668073654175\n",
      "0.475894570350647\n",
      "2.084979295730591\n",
      "0.47402212023735046\n",
      "1.5577547550201416\n",
      "0.8343185782432556\n",
      "1.849916696548462\n",
      "1.8207859992980957\n",
      "2.1064090728759766\n",
      "1.1235265731811523\n",
      "1.0926179885864258\n",
      "0.6639650464057922\n",
      "0.2891247868537903\n",
      "0.6162397861480713\n",
      "0.8297015428543091\n",
      "0.384285569190979\n",
      "1.176617980003357\n",
      "0.4842829704284668\n",
      "0.4583740830421448\n",
      "0.3760779798030853\n",
      "0.6188770532608032\n",
      "0.4610280990600586\n",
      "0.24789275228977203\n",
      "0.27289310097694397\n",
      "0.48918840289115906\n",
      "1.1828210353851318\n",
      "0.393138587474823\n",
      "1.0649744272232056\n",
      "0.7390491962432861\n",
      "1.6651068925857544\n",
      "1.1338579654693604\n",
      "1.3824875354766846\n",
      "0.7346917986869812\n",
      "0.7905589938163757\n",
      "0.4051773250102997\n",
      "0.10338737070560455\n",
      "0.3926806151866913\n",
      "0.5193887948989868\n",
      "0.2200656682252884\n",
      "0.7197433114051819\n",
      "0.4403572082519531\n",
      "0.42842748761177063\n",
      "0.26017001271247864\n",
      "0.4539305567741394\n",
      "0.3833523392677307\n",
      "0.21485714614391327\n",
      "0.36915209889411926\n",
      "0.40424272418022156\n",
      "0.38211503624916077\n",
      "0.3927154839038849\n",
      "0.3518439531326294\n",
      "0.5145329833030701\n",
      "1.6847097873687744\n",
      "0.7403073906898499\n",
      "0.8799666166305542\n",
      "0.38877376914024353\n",
      "0.4977625012397766\n",
      "0.5861490964889526\n",
      "0.29869726300239563\n",
      "0.46028804779052734\n",
      "0.6441952586174011\n",
      "0.2319314181804657\n",
      "0.6694857478141785\n",
      "0.48224958777427673\n",
      "0.2953459620475769\n",
      "0.25771263241767883\n",
      "0.44464635848999023\n",
      "0.33083662390708923\n",
      "0.1967809647321701\n",
      "0.3421735167503357\n",
      "0.3905145525932312\n",
      "0.4742904007434845\n",
      "0.3481980562210083\n",
      "0.3511294722557068\n",
      "0.42889928817749023\n",
      "1.3808482885360718\n",
      "0.7521421909332275\n",
      "1.0100038051605225\n",
      "0.5705114006996155\n",
      "0.527244508266449\n",
      "0.36864691972732544\n",
      "0.1260843276977539\n",
      "0.27788910269737244\n",
      "0.5517038106918335\n",
      "0.29917460680007935\n",
      "0.4374906122684479\n",
      "0.43080252408981323\n",
      "0.30592256784439087\n",
      "0.2675464451313019\n",
      "0.5067906379699707\n",
      "0.3452370762825012\n",
      "0.1785910278558731\n",
      "0.5867535471916199\n",
      "0.5354712009429932\n",
      "0.9735697507858276\n",
      "0.279478520154953\n",
      "0.6194630265235901\n",
      "0.4676218032836914\n",
      "0.7951396107673645\n",
      "0.598655104637146\n",
      "0.8869808912277222\n",
      "0.49236592650413513\n",
      "0.4493299424648285\n",
      "0.44090738892555237\n",
      "0.11542411148548126\n",
      "0.25490522384643555\n",
      "0.5885533690452576\n",
      "0.29658225178718567\n",
      "0.37177804112434387\n",
      "0.39023375511169434\n",
      "0.3423835039138794\n",
      "0.23391199111938477\n",
      "0.4391569495201111\n",
      "0.3332369923591614\n",
      "0.12676002085208893\n",
      "0.43884187936782837\n",
      "0.5519391894340515\n",
      "0.8067379593849182\n",
      "0.2804417908191681\n",
      "0.5021108388900757\n",
      "0.42421796917915344\n",
      "0.7708612680435181\n",
      "0.5287813544273376\n",
      "0.7955600023269653\n",
      "0.43794673681259155\n",
      "0.36949774622917175\n",
      "0.3319043815135956\n",
      "0.09763558954000473\n",
      "0.20181439816951752\n",
      "0.5023519396781921\n",
      "0.2450769692659378\n",
      "0.43285518884658813\n",
      "0.46673280000686646\n",
      "0.30089622735977173\n",
      "0.2708582282066345\n",
      "0.42281612753868103\n",
      "0.30480024218559265\n",
      "0.1273130178451538\n",
      "0.4270312786102295\n",
      "0.4820674657821655\n",
      "0.7204834818840027\n",
      "0.2570827305316925\n",
      "0.5212241411209106\n",
      "0.3615470230579376\n",
      "0.8194013833999634\n",
      "0.48121556639671326\n",
      "0.6876720190048218\n",
      "0.3948453664779663\n",
      "0.43599027395248413\n",
      "0.301967978477478\n",
      "0.11850634962320328\n",
      "0.232700914144516\n",
      "0.5844362378120422\n",
      "0.25462037324905396\n",
      "0.43268123269081116\n",
      "0.4615754783153534\n",
      "0.3144415318965912\n",
      "0.2668442726135254\n",
      "0.4297991991043091\n",
      "0.3123425543308258\n",
      "0.11567292362451553\n",
      "0.4325788915157318\n",
      "0.4461516737937927\n",
      "0.8083456754684448\n",
      "0.2635499835014343\n",
      "0.511114776134491\n",
      "0.3817606270313263\n",
      "0.7149208188056946\n",
      "0.4907141327857971\n",
      "0.6248151063919067\n",
      "0.35837751626968384\n",
      "0.3572002351284027\n",
      "0.2662736773490906\n",
      "0.19033394753932953\n",
      "0.17894379794597626\n",
      "0.6009543538093567\n",
      "0.26961374282836914\n",
      "0.4188934862613678\n",
      "0.4797860383987427\n",
      "0.3395262360572815\n",
      "0.30394893884658813\n",
      "0.3076618015766144\n",
      "0.30772024393081665\n",
      "0.0773652195930481\n",
      "0.34896719455718994\n",
      "0.40795770287513733\n",
      "0.5949519276618958\n",
      "0.22894656658172607\n",
      "0.28263625502586365\n",
      "0.35773903131484985\n",
      "0.5935628414154053\n",
      "0.3737030327320099\n",
      "0.33254188299179077\n",
      "0.34423115849494934\n",
      "0.39278993010520935\n",
      "0.18869154155254364\n",
      "0.17162272334098816\n",
      "0.21300861239433289\n",
      "0.6047948598861694\n",
      "0.22032782435417175\n",
      "0.5382540225982666\n",
      "0.6430310606956482\n",
      "0.3215149939060211\n",
      "0.294416606426239\n",
      "0.3237626254558563\n",
      "0.27309414744377136\n",
      "0.09639272838830948\n",
      "0.26543959975242615\n",
      "0.34603238105773926\n",
      "0.36122801899909973\n",
      "0.23946808278560638\n",
      "0.26660993695259094\n",
      "0.308234840631485\n",
      "0.5672227740287781\n",
      "0.37043896317481995\n",
      "0.3187861442565918\n",
      "MPNN\n",
      "lr: 0.001\n",
      "batch size: 32\n",
      "epochs: 10\n",
      "Test loss: 5.196139\n",
      "Train loss: 5.141184\n"
     ]
    },
    {
     "data": {
      "image/png": "[encoded data removed]",
      "text/plain": [
       "<Figure size 432x288 with 1 Axes>"
      ]
     },
     "metadata": {
      "needs_background": "light"
     },
     "output_type": "display_data"
    }
   ],
   "source": [
    "training_loss(MPNN,1e-3,32,10)"
   ]
  },
  {
   "cell_type": "code",
   "execution_count": 77,
   "metadata": {
    "collapsed": true,
    "jupyter": {
     "outputs_hidden": true
    },
    "tags": []
   },
   "outputs": [
    {
     "data": {
      "image/png": "[encoded data removed]",
      "text/plain": [
       "<Figure size 432x288 with 1 Axes>"
      ]
     },
     "metadata": {
      "needs_background": "light"
     },
     "output_type": "display_data"
    },
    {
     "data": {
      "image/png": "[encoded data removed]",
      "text/plain": [
       "<Figure size 432x288 with 1 Axes>"
      ]
     },
     "metadata": {
      "needs_background": "light"
     },
     "output_type": "display_data"
    },
    {
     "name": "stdout",
     "output_type": "stream",
     "text": [
      "MPNN\n",
      "lr: 0.001\n",
      "batch size: 32\n",
      "epochs: 9\n",
      "Final test MAE:4.729227\n"
     ]
    }
   ],
   "source": [
    "training_loss_early(MPNN,1e-3,32)"
   ]
  },
  {
   "cell_type": "code",
   "execution_count": 82,
   "metadata": {
    "tags": []
   },
   "outputs": [
    {
     "name": "stdout",
     "output_type": "stream",
     "text": [
      "testing D-MPNN ...\n",
      "2.6454844\n",
      "testing D-MPNN with attention ...\n",
      "9.889985\n",
      "testing MPNN ...\n",
      "3.0239518\n",
      "testing MPNN with attention ...\n",
      "3.4183898\n",
      "testing RNN+NN ...\n",
      "1.8424523\n",
      "testing RNN+NN with attention ...\n",
      "2.0211954\n",
      "                   Model   MAE   RMSE\n",
      "0                 D-MPNN 2.645  3.509\n",
      "1  D-MPNN with attention 9.890 13.430\n",
      "2                   MPNN 3.024  4.045\n",
      "3    MPNN with attention 3.418  4.482\n",
      "4                 RNN+NN 1.842  2.724\n",
      "5  RNN+NN with attention 2.021  2.853\n"
     ]
    }
   ],
   "source": [
    "exp_name = \"Holdout test\"\n",
    "results = ddict(list)\n",
    "for m in models:\n",
    "    print('testing '+m.name+' ...')\n",
    "    data = datasets[m.data_type]\n",
    "    \n",
    "    res = b.fit(m, data, holdout_ids, exp_name, datasets)\n",
    "    \n",
    "    print(res[0])\n",
    "    results['Model'].append(m.name)\n",
    "    results['MAE'].append(res[0])\n",
    "    results['RMSE'].append(res[1])\n",
    "\n",
    "holdout_test = pd.DataFrame(results)\n",
    "print(holdout_test)"
   ]
  },
  {
   "cell_type": "code",
   "execution_count": 83,
   "metadata": {},
   "outputs": [
    {
     "name": "stdout",
     "output_type": "stream",
     "text": [
      "     targets  D-MPNN  D-MPNN with attention   MPNN  MPNN with attention  \\\n",
      "0      8.800   8.364                 14.046  9.986               10.983   \n",
      "1     43.600  39.611                 21.353 44.775               33.406   \n",
      "2     13.500  14.214                 11.936 12.097                9.906   \n",
      "3      7.960   9.030                 13.014  8.383               10.062   \n",
      "4     10.100   9.324                 12.572  9.143                4.939   \n",
      "..       ...     ...                    ...    ...                  ...   \n",
      "888   32.200  27.122                 28.349 22.070               27.214   \n",
      "889    3.380   5.100                  9.943  4.759                4.363   \n",
      "890   34.700  40.035                 25.290 28.957               31.525   \n",
      "891   42.800  36.460                 19.248 35.942               32.097   \n",
      "892    7.467   4.532                  8.546  6.366                6.627   \n",
      "\n",
      "     RNN+NN  RNN+NN with attention  \n",
      "0     8.151                  8.220  \n",
      "1    41.929                 40.708  \n",
      "2    11.439                 11.405  \n",
      "3     7.264                  7.924  \n",
      "4     8.985                  8.741  \n",
      "..      ...                    ...  \n",
      "888  33.360                 25.052  \n",
      "889   3.470                  2.224  \n",
      "890  35.781                 32.215  \n",
      "891  41.485                 37.775  \n",
      "892   7.890                  6.563  \n",
      "\n",
      "[893 rows x 7 columns]\n"
     ]
    }
   ],
   "source": [
    "results = ddict(list)\n",
    "results['targets'] = datasets['ECFP'][1]\n",
    "for m in models:\n",
    "    data = datasets[m.data_type]\n",
    "    _, outputs = b.predict(m, m.experiments[0], data)\n",
    "    results[m.name] = outputs.reshape(893,)\n",
    "    \n",
    "output_results = pd.DataFrame(results)\n",
    "print(output_results)\n",
    "output_results.to_csv('DL_outputs.csv')"
   ]
  },
  {
   "cell_type": "code",
   "execution_count": 24,
   "metadata": {},
   "outputs": [
    {
     "data": {
      "text/plain": [
       "0.001"
      ]
     },
     "execution_count": 24,
     "metadata": {},
     "output_type": "execute_result"
    }
   ],
   "source": [
    "MPNN.lr"
   ]
  },
  {
   "cell_type": "code",
   "execution_count": 169,
   "metadata": {},
   "outputs": [
    {
     "data": {
      "text/plain": [
       "<module 'delfos' from '/Users/u6676643/codes/testing/delfos.py'>"
      ]
     },
     "execution_count": 169,
     "metadata": {},
     "output_type": "execute_result"
    }
   ],
   "source": [
    "imp.reload(d)"
   ]
  },
  {
   "cell_type": "code",
   "execution_count": 162,
   "metadata": {},
   "outputs": [],
   "source": [
    "x1 = b.Model(name='sum',\n",
    "              model=d.dnet(interaction=False,readout='sum'),\n",
    "              model_type='torch',\n",
    "              data_type='sentences')\n",
    "x2 = b.Model(name='mean',\n",
    "              model=d.dnet(interaction=False,readout='mean'),\n",
    "              model_type='torch',\n",
    "              data_type='sentences')\n",
    "x3 = b.Model(name='max',\n",
    "              model=d.dnet(interaction=False,readout='max'),\n",
    "              model_type='torch',\n",
    "              data_type='sentences')\n",
    "x4 = b.Model(name='sum with attention',\n",
    "                  model=d.dnet(readout='sum'),\n",
    "                  model_type='torch',\n",
    "                  data_type='sentences')\n",
    "x5 = b.Model(name='mean with attention',\n",
    "                  model=d.dnet(readout='mean'),\n",
    "                  model_type='torch',\n",
    "                  data_type='sentences')\n",
    "x6 = b.Model(name='max with attention',\n",
    "                  model=d.dnet(readout='max'),\n",
    "                  model_type='torch',\n",
    "                  data_type='sentences')\n",
    "models = [x1,x2,x3,x4,x5,x6]"
   ]
  },
  {
   "cell_type": "code",
   "execution_count": 163,
   "metadata": {},
   "outputs": [
    {
     "name": "stdout",
     "output_type": "stream",
     "text": [
      "testing sum ...\n",
      "2.679142\n",
      "testing mean ...\n",
      "2.8302875\n",
      "testing max ...\n",
      "2.379019\n",
      "testing sum with attention ...\n",
      "3.5918658\n",
      "testing mean with attention ...\n",
      "2.624299\n",
      "testing max with attention ...\n",
      "1.9237218\n",
      "                 Model   MAE  RMSE\n",
      "0                  sum 2.679 3.509\n",
      "1                 mean 2.830 3.592\n",
      "2                  max 2.379 3.332\n",
      "3   sum with attention 3.592 4.624\n",
      "4  mean with attention 2.624 3.587\n",
      "5   max with attention 1.924 2.830\n"
     ]
    }
   ],
   "source": [
    "exp_name = \"Holdout test\"\n",
    "results = ddict(list)\n",
    "for m in models:\n",
    "    print('testing '+m.name+' ...')\n",
    "    data = datasets[m.data_type]\n",
    "    \n",
    "    res = b.fit(m, data, holdout_ids, exp_name, datasets)\n",
    "    \n",
    "    print(res[0])\n",
    "    results['Model'].append(m.name)\n",
    "    results['MAE'].append(res[0])\n",
    "    results['RMSE'].append(res[1])\n",
    "\n",
    "holdout_test = pd.DataFrame(results)\n",
    "print(holdout_test)"
   ]
  },
  {
   "cell_type": "code",
   "execution_count": 176,
   "metadata": {},
   "outputs": [
    {
     "name": "stdout",
     "output_type": "stream",
     "text": [
      "testing exp + mean ...\n"
     ]
    },
    {
     "ename": "KeyboardInterrupt",
     "evalue": "",
     "output_type": "error",
     "traceback": [
      "\u001b[0;31m---------------------------------------------------------------------------\u001b[0m",
      "\u001b[0;31mKeyboardInterrupt\u001b[0m                         Traceback (most recent call last)",
      "\u001b[0;32m<ipython-input-176-f856b9745aa3>\u001b[0m in \u001b[0;36m<module>\u001b[0;34m\u001b[0m\n\u001b[1;32m     23\u001b[0m     \u001b[0mdata\u001b[0m \u001b[0;34m=\u001b[0m \u001b[0mdatasets\u001b[0m\u001b[0;34m[\u001b[0m\u001b[0mm\u001b[0m\u001b[0;34m.\u001b[0m\u001b[0mdata_type\u001b[0m\u001b[0;34m]\u001b[0m\u001b[0;34m\u001b[0m\u001b[0;34m\u001b[0m\u001b[0m\n\u001b[1;32m     24\u001b[0m \u001b[0;34m\u001b[0m\u001b[0m\n\u001b[0;32m---> 25\u001b[0;31m     \u001b[0mres\u001b[0m \u001b[0;34m=\u001b[0m \u001b[0mb\u001b[0m\u001b[0;34m.\u001b[0m\u001b[0mfit\u001b[0m\u001b[0;34m(\u001b[0m\u001b[0mm\u001b[0m\u001b[0;34m,\u001b[0m \u001b[0mdata\u001b[0m\u001b[0;34m,\u001b[0m \u001b[0mholdout_ids\u001b[0m\u001b[0;34m,\u001b[0m \u001b[0mexp_name\u001b[0m\u001b[0;34m,\u001b[0m \u001b[0mdatasets\u001b[0m\u001b[0;34m)\u001b[0m\u001b[0;34m\u001b[0m\u001b[0;34m\u001b[0m\u001b[0m\n\u001b[0m\u001b[1;32m     26\u001b[0m \u001b[0;34m\u001b[0m\u001b[0m\n\u001b[1;32m     27\u001b[0m     \u001b[0mprint\u001b[0m\u001b[0;34m(\u001b[0m\u001b[0mres\u001b[0m\u001b[0;34m[\u001b[0m\u001b[0;36m0\u001b[0m\u001b[0;34m]\u001b[0m\u001b[0;34m)\u001b[0m\u001b[0;34m\u001b[0m\u001b[0;34m\u001b[0m\u001b[0m\n",
      "\u001b[0;32m~/codes/testing/basicest.py\u001b[0m in \u001b[0;36mfit\u001b[0;34m(model, data, test_ids, exp_name, datasets)\u001b[0m\n\u001b[1;32m    372\u001b[0m \u001b[0;34m\u001b[0m\u001b[0m\n\u001b[1;32m    373\u001b[0m     \u001b[0mtrain_ids\u001b[0m \u001b[0;34m=\u001b[0m \u001b[0;34m[\u001b[0m\u001b[0mi\u001b[0m \u001b[0;32mfor\u001b[0m \u001b[0mi\u001b[0m \u001b[0;32min\u001b[0m \u001b[0mrange\u001b[0m\u001b[0;34m(\u001b[0m\u001b[0msize\u001b[0m\u001b[0;34m)\u001b[0m \u001b[0;32mif\u001b[0m \u001b[0mi\u001b[0m \u001b[0;32mnot\u001b[0m \u001b[0;32min\u001b[0m \u001b[0mtest_ids\u001b[0m\u001b[0;34m]\u001b[0m\u001b[0;34m\u001b[0m\u001b[0;34m\u001b[0m\u001b[0m\n\u001b[0;32m--> 374\u001b[0;31m     \u001b[0mscaler\u001b[0m \u001b[0;34m=\u001b[0m \u001b[0mpka_scaler\u001b[0m\u001b[0;34m(\u001b[0m\u001b[0mdata\u001b[0m\u001b[0;34m[\u001b[0m\u001b[0;36m1\u001b[0m\u001b[0;34m]\u001b[0m\u001b[0;34m[\u001b[0m\u001b[0mtrain_ids\u001b[0m\u001b[0;34m]\u001b[0m\u001b[0;34m)\u001b[0m\u001b[0;34m\u001b[0m\u001b[0;34m\u001b[0m\u001b[0m\n\u001b[0m\u001b[1;32m    375\u001b[0m     \u001b[0mtrained_model\u001b[0m \u001b[0;34m=\u001b[0m \u001b[0mtrain\u001b[0m\u001b[0;34m(\u001b[0m\u001b[0mmodel\u001b[0m\u001b[0;34m,\u001b[0m \u001b[0mtrain_ids\u001b[0m\u001b[0;34m,\u001b[0m \u001b[0mdata\u001b[0m\u001b[0;34m,\u001b[0m \u001b[0mscaler\u001b[0m\u001b[0;34m,\u001b[0m \u001b[0mdatasets\u001b[0m\u001b[0;34m)\u001b[0m\u001b[0;34m\u001b[0m\u001b[0;34m\u001b[0m\u001b[0m\n\u001b[1;32m    376\u001b[0m     \u001b[0mresults\u001b[0m \u001b[0;34m=\u001b[0m \u001b[0mtest\u001b[0m\u001b[0;34m(\u001b[0m\u001b[0mmodel\u001b[0m\u001b[0;34m,\u001b[0m \u001b[0mtrained_model\u001b[0m\u001b[0;34m,\u001b[0m \u001b[0mtest_ids\u001b[0m\u001b[0;34m,\u001b[0m \u001b[0mdata\u001b[0m\u001b[0;34m,\u001b[0m \u001b[0mscaler\u001b[0m\u001b[0;34m)\u001b[0m\u001b[0;34m\u001b[0m\u001b[0;34m\u001b[0m\u001b[0m\n",
      "\u001b[0;32m~/codes/testing/basicest.py\u001b[0m in \u001b[0;36mtrain\u001b[0;34m(model, ids, data, scaler, datasets)\u001b[0m\n\u001b[1;32m    225\u001b[0m                 \u001b[0mtargets\u001b[0m \u001b[0;34m=\u001b[0m \u001b[0mtargets\u001b[0m\u001b[0;34m.\u001b[0m\u001b[0mview\u001b[0m\u001b[0;34m(\u001b[0m\u001b[0;34m-\u001b[0m\u001b[0;36m1\u001b[0m\u001b[0;34m,\u001b[0m\u001b[0;36m1\u001b[0m\u001b[0;34m)\u001b[0m\u001b[0;34m\u001b[0m\u001b[0;34m\u001b[0m\u001b[0m\n\u001b[1;32m    226\u001b[0m                 \u001b[0mtargets\u001b[0m \u001b[0;34m=\u001b[0m \u001b[0mscaler\u001b[0m\u001b[0;34m.\u001b[0m\u001b[0mtransform\u001b[0m\u001b[0;34m(\u001b[0m\u001b[0mtargets\u001b[0m\u001b[0;34m)\u001b[0m\u001b[0;34m\u001b[0m\u001b[0;34m\u001b[0m\u001b[0m\n\u001b[0;32m--> 227\u001b[0;31m                 \u001b[0moutputs\u001b[0m \u001b[0;34m=\u001b[0m \u001b[0mregressor\u001b[0m\u001b[0;34m(\u001b[0m\u001b[0msol\u001b[0m\u001b[0;34m,\u001b[0m\u001b[0msolv\u001b[0m\u001b[0;34m)\u001b[0m\u001b[0;34m\u001b[0m\u001b[0;34m\u001b[0m\u001b[0m\n\u001b[0m\u001b[1;32m    228\u001b[0m                 \u001b[0mloss\u001b[0m \u001b[0;34m=\u001b[0m \u001b[0mloss_function\u001b[0m\u001b[0;34m(\u001b[0m\u001b[0moutputs\u001b[0m\u001b[0;34m,\u001b[0m \u001b[0mtargets\u001b[0m\u001b[0;34m)\u001b[0m\u001b[0;34m\u001b[0m\u001b[0;34m\u001b[0m\u001b[0m\n\u001b[1;32m    229\u001b[0m                 \u001b[0mval_loss\u001b[0m \u001b[0;34m=\u001b[0m \u001b[0mloss\u001b[0m\u001b[0;34m.\u001b[0m\u001b[0mitem\u001b[0m\u001b[0;34m(\u001b[0m\u001b[0;34m)\u001b[0m\u001b[0;34m\u001b[0m\u001b[0;34m\u001b[0m\u001b[0m\n",
      "\u001b[0;32m~/opt/anaconda3/lib/python3.8/site-packages/torch/nn/modules/module.py\u001b[0m in \u001b[0;36m_call_impl\u001b[0;34m(self, *input, **kwargs)\u001b[0m\n\u001b[1;32m   1049\u001b[0m         if not (self._backward_hooks or self._forward_hooks or self._forward_pre_hooks or _global_backward_hooks\n\u001b[1;32m   1050\u001b[0m                 or _global_forward_hooks or _global_forward_pre_hooks):\n\u001b[0;32m-> 1051\u001b[0;31m             \u001b[0;32mreturn\u001b[0m \u001b[0mforward_call\u001b[0m\u001b[0;34m(\u001b[0m\u001b[0;34m*\u001b[0m\u001b[0minput\u001b[0m\u001b[0;34m,\u001b[0m \u001b[0;34m**\u001b[0m\u001b[0mkwargs\u001b[0m\u001b[0;34m)\u001b[0m\u001b[0;34m\u001b[0m\u001b[0;34m\u001b[0m\u001b[0m\n\u001b[0m\u001b[1;32m   1052\u001b[0m         \u001b[0;31m# Do not call functions when jit is used\u001b[0m\u001b[0;34m\u001b[0m\u001b[0;34m\u001b[0m\u001b[0;34m\u001b[0m\u001b[0m\n\u001b[1;32m   1053\u001b[0m         \u001b[0mfull_backward_hooks\u001b[0m\u001b[0;34m,\u001b[0m \u001b[0mnon_full_backward_hooks\u001b[0m \u001b[0;34m=\u001b[0m \u001b[0;34m[\u001b[0m\u001b[0;34m]\u001b[0m\u001b[0;34m,\u001b[0m \u001b[0;34m[\u001b[0m\u001b[0;34m]\u001b[0m\u001b[0;34m\u001b[0m\u001b[0;34m\u001b[0m\u001b[0m\n",
      "\u001b[0;32m~/codes/testing/delfos.py\u001b[0m in \u001b[0;36mforward\u001b[0;34m(self, Y, X)\u001b[0m\n\u001b[1;32m    169\u001b[0m         \u001b[0;31m#biLSTM to get hidden states\u001b[0m\u001b[0;34m\u001b[0m\u001b[0;34m\u001b[0m\u001b[0;34m\u001b[0m\u001b[0m\n\u001b[1;32m    170\u001b[0m         \u001b[0mH\u001b[0m\u001b[0;34m,\u001b[0m \u001b[0mhcX\u001b[0m \u001b[0;34m=\u001b[0m \u001b[0mself\u001b[0m\u001b[0;34m.\u001b[0m\u001b[0mbiLSTM_X\u001b[0m\u001b[0;34m(\u001b[0m\u001b[0mX\u001b[0m\u001b[0;34m,\u001b[0m \u001b[0;32mNone\u001b[0m\u001b[0;34m)\u001b[0m \u001b[0;31m#NxBx2D tensor - solvent hidden state\u001b[0m\u001b[0;34m\u001b[0m\u001b[0;34m\u001b[0m\u001b[0m\n\u001b[0;32m--> 171\u001b[0;31m         \u001b[0mG\u001b[0m\u001b[0;34m,\u001b[0m \u001b[0mhcY\u001b[0m \u001b[0;34m=\u001b[0m \u001b[0mself\u001b[0m\u001b[0;34m.\u001b[0m\u001b[0mbiLSTM_Y\u001b[0m\u001b[0;34m(\u001b[0m\u001b[0mY\u001b[0m\u001b[0;34m,\u001b[0m \u001b[0;32mNone\u001b[0m\u001b[0;34m)\u001b[0m \u001b[0;31m#MxBx2D tensor - solute hidden state\u001b[0m\u001b[0;34m\u001b[0m\u001b[0;34m\u001b[0m\u001b[0m\n\u001b[0m\u001b[1;32m    172\u001b[0m \u001b[0;34m\u001b[0m\u001b[0m\n\u001b[1;32m    173\u001b[0m         \u001b[0;32mif\u001b[0m \u001b[0mself\u001b[0m\u001b[0;34m.\u001b[0m\u001b[0minteraction\u001b[0m \u001b[0;32min\u001b[0m \u001b[0;34m[\u001b[0m\u001b[0;34m'exp'\u001b[0m\u001b[0;34m,\u001b[0m\u001b[0;34m'tanh'\u001b[0m\u001b[0;34m]\u001b[0m\u001b[0;34m:\u001b[0m\u001b[0;34m\u001b[0m\u001b[0;34m\u001b[0m\u001b[0m\n",
      "\u001b[0;32m~/opt/anaconda3/lib/python3.8/site-packages/torch/nn/modules/module.py\u001b[0m in \u001b[0;36m_call_impl\u001b[0;34m(self, *input, **kwargs)\u001b[0m\n\u001b[1;32m   1049\u001b[0m         if not (self._backward_hooks or self._forward_hooks or self._forward_pre_hooks or _global_backward_hooks\n\u001b[1;32m   1050\u001b[0m                 or _global_forward_hooks or _global_forward_pre_hooks):\n\u001b[0;32m-> 1051\u001b[0;31m             \u001b[0;32mreturn\u001b[0m \u001b[0mforward_call\u001b[0m\u001b[0;34m(\u001b[0m\u001b[0;34m*\u001b[0m\u001b[0minput\u001b[0m\u001b[0;34m,\u001b[0m \u001b[0;34m**\u001b[0m\u001b[0mkwargs\u001b[0m\u001b[0;34m)\u001b[0m\u001b[0;34m\u001b[0m\u001b[0;34m\u001b[0m\u001b[0m\n\u001b[0m\u001b[1;32m   1052\u001b[0m         \u001b[0;31m# Do not call functions when jit is used\u001b[0m\u001b[0;34m\u001b[0m\u001b[0;34m\u001b[0m\u001b[0;34m\u001b[0m\u001b[0m\n\u001b[1;32m   1053\u001b[0m         \u001b[0mfull_backward_hooks\u001b[0m\u001b[0;34m,\u001b[0m \u001b[0mnon_full_backward_hooks\u001b[0m \u001b[0;34m=\u001b[0m \u001b[0;34m[\u001b[0m\u001b[0;34m]\u001b[0m\u001b[0;34m,\u001b[0m \u001b[0;34m[\u001b[0m\u001b[0;34m]\u001b[0m\u001b[0;34m\u001b[0m\u001b[0;34m\u001b[0m\u001b[0m\n",
      "\u001b[0;32m~/opt/anaconda3/lib/python3.8/site-packages/torch/nn/modules/rnn.py\u001b[0m in \u001b[0;36mforward\u001b[0;34m(self, input, hx)\u001b[0m\n\u001b[1;32m    677\u001b[0m         \u001b[0mself\u001b[0m\u001b[0;34m.\u001b[0m\u001b[0mcheck_forward_args\u001b[0m\u001b[0;34m(\u001b[0m\u001b[0minput\u001b[0m\u001b[0;34m,\u001b[0m \u001b[0mhx\u001b[0m\u001b[0;34m,\u001b[0m \u001b[0mbatch_sizes\u001b[0m\u001b[0;34m)\u001b[0m\u001b[0;34m\u001b[0m\u001b[0;34m\u001b[0m\u001b[0m\n\u001b[1;32m    678\u001b[0m         \u001b[0;32mif\u001b[0m \u001b[0mbatch_sizes\u001b[0m \u001b[0;32mis\u001b[0m \u001b[0;32mNone\u001b[0m\u001b[0;34m:\u001b[0m\u001b[0;34m\u001b[0m\u001b[0;34m\u001b[0m\u001b[0m\n\u001b[0;32m--> 679\u001b[0;31m             result = _VF.lstm(input, hx, self._flat_weights, self.bias, self.num_layers,\n\u001b[0m\u001b[1;32m    680\u001b[0m                               self.dropout, self.training, self.bidirectional, self.batch_first)\n\u001b[1;32m    681\u001b[0m         \u001b[0;32melse\u001b[0m\u001b[0;34m:\u001b[0m\u001b[0;34m\u001b[0m\u001b[0;34m\u001b[0m\u001b[0m\n",
      "\u001b[0;31mKeyboardInterrupt\u001b[0m: "
     ]
    }
   ],
   "source": [
    "x1 = b.Model(name='exp + mean',\n",
    "              model=d.dnet(interaction='exp',readout='mean',dropout=0),\n",
    "              model_type='torch',\n",
    "              data_type='sentences')\n",
    "x2 = b.Model(name='tanh + mean',\n",
    "              model=d.dnet(interaction='tanh',readout='mean'),\n",
    "              model_type='torch',\n",
    "              data_type='sentences')\n",
    "x3 = b.Model(name='exp + max',\n",
    "              model=d.dnet(interaction='exp',readout='max'),\n",
    "              model_type='torch',\n",
    "              data_type='sentences')\n",
    "x4 = b.Model(name='tanh + max',\n",
    "              model=d.dnet(interaction='tanh',readout='max'),\n",
    "              model_type='torch',\n",
    "              data_type='sentences')\n",
    "models = [x1,x2,x3,x4]\n",
    "\n",
    "exp_name = \"Holdout test\"\n",
    "results = ddict(list)\n",
    "for m in models:\n",
    "    print('testing '+m.name+' ...')\n",
    "    data = datasets[m.data_type]\n",
    "    \n",
    "    res = b.fit(m, data, holdout_ids, exp_name, datasets)\n",
    "    \n",
    "    print(res[0])\n",
    "    results['Model'].append(m.name)\n",
    "    results['MAE'].append(res[0])\n",
    "    results['RMSE'].append(res[1])\n",
    "\n",
    "holdout_test = pd.DataFrame(results)\n",
    "print(holdout_test)"
   ]
  },
  {
   "cell_type": "code",
   "execution_count": 175,
   "metadata": {},
   "outputs": [
    {
     "name": "stdout",
     "output_type": "stream",
     "text": [
      "testing exp + mean ...\n",
      "2.7062013\n",
      "testing exp + max ...\n",
      "2.3312593\n",
      "testing tanh + mean ...\n",
      "2.874346\n",
      "testing tanh + max ...\n",
      "2.79277\n",
      "testing max ...\n",
      "2.6897938\n",
      "         Model   MAE  RMSE\n",
      "0   exp + mean 2.706 3.781\n",
      "1    exp + max 2.331 3.122\n",
      "2  tanh + mean 2.874 3.824\n",
      "3   tanh + max 2.793 3.656\n",
      "4          max 2.690 3.582\n"
     ]
    }
   ],
   "source": [
    "c1 = b.Model(name='exp + mean',\n",
    "                model=c.double_MPNN(atom_messages=False, interaction='exp', readout='mean'),\n",
    "                model_type='torch',\n",
    "                data_type='SMILES')\n",
    "c2 = b.Model(name='exp + max',\n",
    "                    model=c.double_MPNN(atom_messages=False, interaction='exp', readout='max'),\n",
    "                    model_type='torch',\n",
    "                    data_type='SMILES')\n",
    "c3 = b.Model(name='tanh + mean',\n",
    "                model=c.double_MPNN(atom_messages=False, interaction='tanh', readout='mean'),\n",
    "                model_type='torch',\n",
    "                data_type='SMILES')\n",
    "c4 = b.Model(name='tanh + max',\n",
    "                    model=c.double_MPNN(atom_messages=False, interaction='tanh', readout='max'),\n",
    "                    model_type='torch',\n",
    "                    data_type='SMILES')\n",
    "c5 = b.Model(name='max',\n",
    "                    model=c.double_MPNN(atom_messages=False, interaction=None, readout='max'),\n",
    "                    model_type='torch',\n",
    "                    data_type='SMILES')\n",
    "models = [c1,c2,c3,c4,c5]\n",
    "\n",
    "exp_name = \"Holdout test\"\n",
    "results = ddict(list)\n",
    "for m in models:\n",
    "    print('testing '+m.name+' ...')\n",
    "    data = datasets[m.data_type]\n",
    "    \n",
    "    res = b.fit(m, data, holdout_ids, exp_name, datasets)\n",
    "    \n",
    "    print(res[0])\n",
    "    results['Model'].append(m.name)\n",
    "    results['MAE'].append(res[0])\n",
    "    results['RMSE'].append(res[1])\n",
    "\n",
    "holdout_test = pd.DataFrame(results)\n",
    "print(holdout_test)"
   ]
  },
  {
   "cell_type": "code",
   "execution_count": 174,
   "metadata": {},
   "outputs": [
    {
     "data": {
      "text/plain": [
       "<module 'chemprop_ish' from '/Users/u6676643/codes/testing/chemprop_ish.py'>"
      ]
     },
     "execution_count": 174,
     "metadata": {},
     "output_type": "execute_result"
    }
   ],
   "source": [
    "imp.reload(c)"
   ]
  },
  {
   "cell_type": "code",
   "execution_count": null,
   "metadata": {},
   "outputs": [],
   "source": []
  }
 ],
 "metadata": {
  "kernelspec": {
   "display_name": "Python 3",
   "language": "python",
   "name": "python3"
  },
  "language_info": {
   "codemirror_mode": {
    "name": "ipython",
    "version": 3
   },
   "file_extension": ".py",
   "mimetype": "text/x-python",
   "name": "python",
   "nbconvert_exporter": "python",
   "pygments_lexer": "ipython3",
   "version": "3.8.5"
  }
 },
 "nbformat": 4,
 "nbformat_minor": 4
}
