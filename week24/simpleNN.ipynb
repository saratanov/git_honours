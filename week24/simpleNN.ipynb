{
 "cells": [
  {
   "cell_type": "code",
   "execution_count": 79,
   "metadata": {},
   "outputs": [],
   "source": [
    "import torch\n",
    "from torch import nn\n",
    "import pandas as pd\n",
    "from rdkit.Chem import PandasTools\n",
    "from rdkit import Chem\n",
    "import deepchem as dc\n",
    "from numpy import genfromtxt\n",
    "import numpy as np\n",
    "import cProfile\n",
    "import matplotlib.pyplot as plt\n",
    "from sklearn.model_selection import KFold\n",
    "from sklearn.metrics import mean_absolute_error, r2_score, mean_squared_error"
   ]
  },
  {
   "cell_type": "code",
   "execution_count": 12,
   "metadata": {},
   "outputs": [
    {
     "name": "stdout",
     "output_type": "stream",
     "text": [
      "0          CC1=C(C=C(C=C1)C(=O)O)C\n",
      "1          CC1=C(C=C(C=C1)C(=O)O)C\n",
      "2               C(CCC(=O)O)CC(=O)O\n",
      "3               C(CCC(=O)O)CC(=O)O\n",
      "4              C1=CC=C(C=C1)C(=O)O\n",
      "                  ...             \n",
      "70                     CS(=O)(=O)N\n",
      "71         C1=CC=C(C=C1)S(=O)(=O)N\n",
      "72         C1=CC=C(C=C1)S(=O)(=O)N\n",
      "73    C1=CC=C2C(=C1)C(=O)NS2(=O)=O\n",
      "74    C1=CC=C2C(=C1)C(=O)NS2(=O)=O\n",
      "Name: solute, Length: 75, dtype: object\n"
     ]
    }
   ],
   "source": [
    "data = pd.read_csv('data/ETMdata.csv')\n",
    "print(data['solute'])"
   ]
  },
  {
   "cell_type": "code",
   "execution_count": 23,
   "metadata": {},
   "outputs": [],
   "source": [
    "featurizer = dc.feat.CircularFingerprint(size=512, radius=3)\n",
    "X = featurizer.featurize(data['solute'])\n",
    "Y = featurizer.featurize(data['solvent'])\n",
    "Z = data['pka']"
   ]
  },
  {
   "cell_type": "code",
   "execution_count": 74,
   "metadata": {},
   "outputs": [
    {
     "name": "stdout",
     "output_type": "stream",
     "text": [
      "torch.Size([75, 1024])\n"
     ]
    }
   ],
   "source": [
    "XY = torch.Tensor(np.concatenate((X,Y),axis=1))\n",
    "Z = torch.Tensor(Z)\n",
    "#solute/solvent ECFP pairs\n",
    "print(XY.shape)"
   ]
  },
  {
   "cell_type": "code",
   "execution_count": 70,
   "metadata": {},
   "outputs": [],
   "source": [
    "# model definition\n",
    "epochs = 10\n",
    "\n",
    "class ECFPnet(nn.Module):\n",
    "    def __init__(self,n_features,n_hidden):\n",
    "        super(ECFPnet, self).__init__()\n",
    "        \n",
    "        self.FF = nn.Linear(n_features, n_hidden)\n",
    "        self.out = nn.Linear(n_hidden, 1)\n",
    "    \n",
    "    def forward(self,XY):\n",
    "        z = self.FF(XY)\n",
    "        z = nn.functional.relu(z)\n",
    "        output = self.out(z)\n",
    "        return output\n",
    "\n",
    "ECFPmodel = ECFPnet(1024,100)\n",
    "criterion = nn.MSELoss()\n",
    "optimizer = torch.optim.SGD(ECFPmodel.parameters(), lr=0.0002, momentum=0.9, nesterov=True)"
   ]
  },
  {
   "cell_type": "code",
   "execution_count": 72,
   "metadata": {},
   "outputs": [
    {
     "name": "stdout",
     "output_type": "stream",
     "text": [
      "step :  0 loss :  3.9434690475463867\n",
      "step :  1 loss :  3.782118558883667\n",
      "step :  2 loss :  3.7193188667297363\n",
      "step :  3 loss :  3.4582791328430176\n",
      "step :  4 loss :  3.4081058502197266\n",
      "step :  5 loss :  3.540025234222412\n",
      "step :  6 loss :  3.6023199558258057\n",
      "step :  7 loss :  3.425017833709717\n",
      "step :  8 loss :  3.2269160747528076\n",
      "step :  9 loss :  3.2472076416015625\n",
      "step :  10 loss :  3.109071969985962\n",
      "step :  11 loss :  3.121325969696045\n",
      "step :  12 loss :  2.9824013710021973\n",
      "step :  13 loss :  2.8050475120544434\n",
      "step :  14 loss :  2.6685967445373535\n",
      "step :  15 loss :  2.631087303161621\n",
      "step :  16 loss :  2.5127148628234863\n",
      "step :  17 loss :  2.491887331008911\n",
      "step :  18 loss :  2.1153323650360107\n",
      "step :  19 loss :  1.996466875076294\n"
     ]
    },
    {
     "data": {
      "text/plain": [
       "[<matplotlib.lines.Line2D at 0x15f3148b0>]"
      ]
     },
     "execution_count": 72,
     "metadata": {},
     "output_type": "execute_result"
    },
    {
     "data": {
      "image/png": "[encoded data removed]",
      "text/plain": [
       "<Figure size 432x288 with 1 Axes>"
      ]
     },
     "metadata": {
      "needs_background": "light"
     },
     "output_type": "display_data"
    }
   ],
   "source": [
    "epochs = 20\n",
    "losslist = []\n",
    "for t in range(epochs):\n",
    "    for b in range(XY.shape[0]):\n",
    "        target = Z[b] \n",
    "        output = ECFPmodel(XY[b]) \n",
    "        loss = criterion(output, target)  \n",
    "        losslist.append(loss.item())\n",
    "        \n",
    "        loss.backward()\n",
    "        optimizer.step()\n",
    "        optimizer.zero_grad()\n",
    "    print('step : ' , t , 'loss : ' , loss.item())\n",
    "    \n",
    "plt.plot(losslist)"
   ]
  },
  {
   "cell_type": "code",
   "execution_count": 96,
   "metadata": {},
   "outputs": [
    {
     "name": "stderr",
     "output_type": "stream",
     "text": [
      "/Users/u6676643/opt/anaconda3/lib/python3.8/site-packages/torch/nn/modules/loss.py:446: UserWarning: Using a target size (torch.Size([5])) that is different to the input size (torch.Size([5, 1])). This will likely lead to incorrect results due to broadcasting. Please ensure they have the same size.\n",
      "  return F.mse_loss(input, target, reduction=self.reduction)\n",
      "/Users/u6676643/opt/anaconda3/lib/python3.8/site-packages/torch/nn/modules/loss.py:446: UserWarning: Using a target size (torch.Size([5])) that is different to the input size (torch.Size([5, 1])). This will likely lead to incorrect results due to broadcasting. Please ensure they have the same size.\n",
      "  return F.mse_loss(input, target, reduction=self.reduction)\n",
      "/Users/u6676643/opt/anaconda3/lib/python3.8/site-packages/torch/nn/modules/loss.py:446: UserWarning: Using a target size (torch.Size([5])) that is different to the input size (torch.Size([5, 1])). This will likely lead to incorrect results due to broadcasting. Please ensure they have the same size.\n",
      "  return F.mse_loss(input, target, reduction=self.reduction)\n",
      "/Users/u6676643/opt/anaconda3/lib/python3.8/site-packages/torch/nn/modules/loss.py:446: UserWarning: Using a target size (torch.Size([5])) that is different to the input size (torch.Size([5, 1])). This will likely lead to incorrect results due to broadcasting. Please ensure they have the same size.\n",
      "  return F.mse_loss(input, target, reduction=self.reduction)\n",
      "/Users/u6676643/opt/anaconda3/lib/python3.8/site-packages/torch/nn/modules/loss.py:446: UserWarning: Using a target size (torch.Size([5])) that is different to the input size (torch.Size([5, 1])). This will likely lead to incorrect results due to broadcasting. Please ensure they have the same size.\n",
      "  return F.mse_loss(input, target, reduction=self.reduction)\n"
     ]
    },
    {
     "name": "stdout",
     "output_type": "stream",
     "text": [
      "K-FOLD CROSS VALIDATION RESULTS FOR 5 FOLDS\n",
      "--------------------------------\n",
      "all MAE: [3.4068625, 3.768413, 2.8325968, 5.22598, 3.092593]\n",
      "Average MAE: 3.66528902053833\n"
     ]
    }
   ],
   "source": [
    "#crossval\n",
    "num_epochs = 200\n",
    "k_folds = 5\n",
    "kfold = KFold(n_splits=k_folds, shuffle=True)\n",
    "\n",
    "dataset = torch.utils.data.TensorDataset(XY, Z)\n",
    "results = []\n",
    "\n",
    "for fold, (train_ids, test_ids) in enumerate(kfold.split(dataset)):   \n",
    "    train_subsampler = torch.utils.data.SubsetRandomSampler(train_ids)\n",
    "    test_subsampler = torch.utils.data.SubsetRandomSampler(test_ids)\n",
    "    trainloader = torch.utils.data.DataLoader(dataset, batch_size=5, sampler=train_subsampler)\n",
    "    \n",
    "    network = ECFPnet(1024,512)\n",
    "    optimizer = torch.optim.Adam(network.parameters(), lr=1e-4)\n",
    "    \n",
    "    for epoch in range(0, num_epochs):\n",
    "        for i, data in enumerate(trainloader, 0):\n",
    "            inputs, targets = data\n",
    "            optimizer.zero_grad()\n",
    "            outputs = network(inputs)\n",
    "            loss = criterion(outputs, targets)\n",
    "            loss.backward()\n",
    "            optimizer.step()\n",
    "            current_loss += loss.item()\n",
    "\n",
    "    with torch.no_grad():\n",
    "        outputs = network(XY[test_ids])\n",
    "        targets = Z[test_ids]\n",
    "        results.append(mean_absolute_error(targets, outputs))\n",
    "\n",
    "print(f'K-FOLD CROSS VALIDATION RESULTS FOR {k_folds} FOLDS')\n",
    "print('--------------------------------')\n",
    "print(f'all MAE:', results)\n",
    "print(f'Average MAE: {sum(results)/len(results)}')"
   ]
  },
  {
   "cell_type": "code",
   "execution_count": null,
   "metadata": {},
   "outputs": [],
   "source": []
  }
 ],
 "metadata": {
  "kernelspec": {
   "display_name": "Python 3",
   "language": "python",
   "name": "python3"
  },
  "language_info": {
   "codemirror_mode": {
    "name": "ipython",
    "version": 3
   },
   "file_extension": ".py",
   "mimetype": "text/x-python",
   "name": "python",
   "nbconvert_exporter": "python",
   "pygments_lexer": "ipython3",
   "version": "3.8.5"
  }
 },
 "nbformat": 4,
 "nbformat_minor": 4
}
