{
 "cells": [
  {
   "cell_type": "markdown",
   "metadata": {},
   "source": [
    "#### Testing for non-generic torch models:\n",
    "1. Delfos (with and without attention)\n",
    "2. MPNN (with and without attention)"
   ]
  },
  {
   "cell_type": "code",
   "execution_count": 248,
   "metadata": {},
   "outputs": [],
   "source": [
    "%matplotlib inline\n",
    "\n",
    "from collections import defaultdict as ddict, OrderedDict as odict\n",
    "from typing import Any, Dict, List\n",
    "\n",
    "import matplotlib.pyplot as plt\n",
    "import numpy as np\n",
    "import pandas as pd\n",
    "from bayes_opt import BayesianOptimization\n",
    "from rdkit.ML.Descriptors.MoleculeDescriptors import MolecularDescriptorCalculator\n",
    "from rdkit.Chem import PandasTools, AllChem as Chem, Descriptors\n",
    "from rdkit.Chem.Descriptors import MolWt\n",
    "from sklearn.ensemble import RandomForestRegressor\n",
    "import sklearn\n",
    "from rdkit.Chem.rdmolops import GetFormalCharge\n",
    "import torch\n",
    "import deepchem as dc\n",
    "\n",
    "import basicest as b\n",
    "import chemprop_ish as c\n",
    "import delfos as d\n",
    "import imp\n",
    "\n",
    "pd.set_option('display.float_format', lambda x: '%.3f' % x)  # Display floats without scientific notation"
   ]
  },
  {
   "cell_type": "markdown",
   "metadata": {},
   "source": [
    "---\n",
    "## Loading Dataset"
   ]
  },
  {
   "cell_type": "code",
   "execution_count": 54,
   "metadata": {},
   "outputs": [
    {
     "data": {
      "text/plain": [
       "<module 'delfos' from '/Users/u6676643/codes/testing/delfos.py'>"
      ]
     },
     "execution_count": 54,
     "metadata": {},
     "output_type": "execute_result"
    }
   ],
   "source": [
    "imp.reload(d)"
   ]
  },
  {
   "cell_type": "code",
   "execution_count": 204,
   "metadata": {},
   "outputs": [],
   "source": [
    "data = pd.read_csv('non_aqueous_pka_data.csv')\n",
    "solute = data['Solute SMILES'].tolist()\n",
    "solvent = data['Solvent SMILES'].tolist()\n",
    "pka = data['pKa (avg)'].tolist()\n",
    "size = len(solute)"
   ]
  },
  {
   "cell_type": "code",
   "execution_count": 319,
   "metadata": {},
   "outputs": [],
   "source": [
    "#preprocessing\n",
    "scaler = b.pka_scaler(pka)"
   ]
  },
  {
   "cell_type": "code",
   "execution_count": 205,
   "metadata": {},
   "outputs": [],
   "source": [
    "#ECFP\n",
    "featurizer = dc.feat.CircularFingerprint(size=512, radius=3)\n",
    "sol = featurizer.featurize(solute)\n",
    "solv = featurizer.featurize(solvent)\n",
    "ECFP_data = [np.concatenate((sol,solv),axis=1),np.array(pka)]"
   ]
  },
  {
   "cell_type": "code",
   "execution_count": 290,
   "metadata": {},
   "outputs": [],
   "source": [
    "#Descriptors\n",
    "featurizer = dc.feat.RDKitDescriptors()\n",
    "sol = featurizer.featurize(solute)\n",
    "solv = featurizer.featurize(solvent)\n",
    "desc_data = [np.concatenate((sol,solv),axis=1),np.array(pka)]"
   ]
  },
  {
   "cell_type": "code",
   "execution_count": 207,
   "metadata": {},
   "outputs": [],
   "source": [
    "#SMILES\n",
    "SMILES_pairs = [(solute[i],solvent[i]) for i in range(size)]\n",
    "SMILES_data = [SMILES_pairs, torch.Tensor(pka)]"
   ]
  },
  {
   "cell_type": "code",
   "execution_count": 208,
   "metadata": {},
   "outputs": [],
   "source": [
    "#Sentences\n",
    "sentence_pairs = d.delfos_data(solute,solvent)\n",
    "sentence_data = [sentence_pairs, torch.Tensor(pka)]"
   ]
  },
  {
   "cell_type": "code",
   "execution_count": 291,
   "metadata": {},
   "outputs": [],
   "source": [
    "#collate datasets through a dictionary retrieval system\n",
    "datasets = dict(ECFP=ECFP_data,\n",
    "                descriptors=desc_data,\n",
    "                SMILES=SMILES_data,\n",
    "                sentences=sentence_data)"
   ]
  },
  {
   "cell_type": "code",
   "execution_count": 322,
   "metadata": {},
   "outputs": [
    {
     "data": {
      "text/plain": [
       "(array([ 8.757932, 12.026693], dtype=float32),\n",
       " [[8.916032, 12.772387],\n",
       "  [8.86487, 11.43323],\n",
       "  [7.3435698, 9.186112],\n",
       "  [7.291783, 10.901827],\n",
       "  [11.373402, 15.839908]])"
      ]
     },
     "execution_count": 322,
     "metadata": {},
     "output_type": "execute_result"
    }
   ],
   "source": [
    "b.CV_fit(DMPNN, datasets['SMILES'])"
   ]
  },
  {
   "cell_type": "code",
   "execution_count": 321,
   "metadata": {},
   "outputs": [
    {
     "data": {
      "text/plain": [
       "(array([3.08091445, 4.84686281]),\n",
       " [[2.7228431128747257, 4.681402741515197],\n",
       "  [3.547177836547824, 5.8009438611128346],\n",
       "  [3.4963111924151824, 4.781696317197858],\n",
       "  [2.4938124841647884, 3.9624368344756493],\n",
       "  [3.144427611045456, 5.007834291194637]])"
      ]
     },
     "execution_count": 321,
     "metadata": {},
     "output_type": "execute_result"
    }
   ],
   "source": [
    "b.CV_fit(RF_desc, datasets['descriptors'])"
   ]
  },
  {
   "cell_type": "markdown",
   "metadata": {},
   "source": [
    "---\n",
    "## Hyperoptimisation"
   ]
  },
  {
   "cell_type": "code",
   "execution_count": null,
   "metadata": {},
   "outputs": [],
   "source": [
    "def fitness(model, *args):\n",
    "    params = dict(args)\n",
    "    results = b.train_cv_model(model, x_data, y_data, params=params, random_state=seed)\n",
    "    score = np.mean(results.cv_scores['mae'])\n",
    "    return -score\n",
    "\n",
    "pbounds = {'MP_hidden': (100,500), 'MP_depth': (2,4), 'NN_hidden': (100,500), 'NN_depth': (1,3)}\n",
    "\n",
    "def optimizer(pbounds):\n",
    "    return BayesianOptimization(f=fitness(model=model), pbounds=pbounds, verbose=2, random_state=1)"
   ]
  },
  {
   "cell_type": "code",
   "execution_count": null,
   "metadata": {},
   "outputs": [],
   "source": [
    "from timeit import default_timer as timer\n",
    "\n",
    "class fitness:\n",
    "    def __init__(self, model_dict, default_params, integer_params)\n",
    "    self.m = model_dict\n",
    "    self.default_params = default_params\n",
    "    self.integer_params = integer_params\n",
    "    \n",
    "    def objective(params):\n",
    "        #round off some parameters to integers\n",
    "        for parameter_name in self.integer_params:\n",
    "            params[parameter_name] = int(params[parameter_name])\n",
    "            \n",
    "        default_params.update(params)\n",
    "        self.m['model'] = self.m['model'](*params)\n",
    "        model = b.Model(*self.m)\n",
    "        data = datasets[model.data_type]\n",
    "\n",
    "        start = timer()\n",
    "        res, full_res = b.CV_fit(model, data)\n",
    "        run_time = timer()-start\n",
    "\n",
    "        loss = -res[0]"
   ]
  },
  {
   "cell_type": "code",
   "execution_count": null,
   "metadata": {},
   "outputs": [],
   "source": [
    "pbounds = {'MP_hidden': (100,500), 'MP_depth': (2,4), 'NN_hidden': (100,500), 'NN_depth': (1,3)}"
   ]
  },
  {
   "cell_type": "code",
   "execution_count": 1,
   "metadata": {},
   "outputs": [],
   "source": [
    "#TODO: pytorch hyperopt - perhaps skorch?\n",
    "#TODO: sklearn hyperopt\n",
    "#"
   ]
  },
  {
   "cell_type": "markdown",
   "metadata": {},
   "source": [
    "---\n",
    "## Training + testing"
   ]
  },
  {
   "cell_type": "code",
   "execution_count": 320,
   "metadata": {},
   "outputs": [],
   "source": [
    "DMPNN = b.Model(name='D-MPNN',\n",
    "                model=c.double_MPNN(atom_messages=False),\n",
    "                model_type='torch',\n",
    "                data_type='SMILES',\n",
    "                scaler=scaler)\n",
    "DMPNN_att = b.Model(name='D-MPNN with attention',\n",
    "                    model=c.double_MPNN(atom_messages=False, interaction=True),\n",
    "                    model_type='torch',\n",
    "                    data_type='SMILES',\n",
    "                    scaler=scaler)\n",
    "RNN = b.Model(name='RNN+NN',\n",
    "              model=d.dnet(interaction=False),\n",
    "              model_type='torch',\n",
    "              data_type='sentences',\n",
    "              scaler=scaler)\n",
    "RNN_att = b.Model(name='RNN+NN with attention',\n",
    "                  model=d.dnet(),\n",
    "                  model_type='torch',\n",
    "                  data_type='sentences',\n",
    "                  scaler=scaler)\n",
    "RF_desc = b.Model(name='Random forest with descriptors',\n",
    "                  model=RandomForestRegressor(n_estimators=1000, n_jobs=12),\n",
    "                  model_type='sklearn',\n",
    "                  data_type='descriptors',\n",
    "                  scaler=scaler)\n",
    "RF_ECFP = b.Model(name='Random forest with ECFP',\n",
    "                  model=RandomForestRegressor(n_estimators=1000, n_jobs=12),\n",
    "                  model_type='sklearn',\n",
    "                  data_type='ECFP',\n",
    "                  scaler=scaler)\n",
    "\n",
    "#list of all models for testing\n",
    "models = [DMPNN, DMPNN_att, RNN, RNN_att, RF_desc, RF_ECFP]"
   ]
  },
  {
   "cell_type": "code",
   "execution_count": 326,
   "metadata": {},
   "outputs": [
    {
     "data": {
      "text/plain": [
       "<module 'basicest' from '/Users/u6676643/codes/testing/basicest.py'>"
      ]
     },
     "execution_count": 326,
     "metadata": {},
     "output_type": "execute_result"
    }
   ],
   "source": [
    "imp.reload(b)"
   ]
  },
  {
   "cell_type": "code",
   "execution_count": 306,
   "metadata": {},
   "outputs": [
    {
     "data": {
      "text/plain": [
       "8.8"
      ]
     },
     "execution_count": 306,
     "metadata": {},
     "output_type": "execute_result"
    }
   ],
   "source": [
    "data = datasets['descriptors']\n",
    "data[1][0]"
   ]
  },
  {
   "cell_type": "code",
   "execution_count": 324,
   "metadata": {},
   "outputs": [
    {
     "name": "stdout",
     "output_type": "stream",
     "text": [
      "testing D-MPNN ...\n",
      "testing D-MPNN with attention ...\n",
      "testing RNN+NN ...\n",
      "testing RNN+NN with attention ...\n",
      "testing Random forest with descriptors ...\n",
      "testing Random forest with ECFP ...\n",
      "                            Model   MAE   RMSE\n",
      "0                          D-MPNN 8.753 12.098\n",
      "1           D-MPNN with attention 9.509 11.946\n",
      "2                          RNN+NN 8.996 11.753\n",
      "3           RNN+NN with attention 8.962 11.789\n",
      "4  Random forest with descriptors 3.071  4.828\n",
      "5         Random forest with ECFP 4.027  5.865\n"
     ]
    }
   ],
   "source": [
    "#TODO: full CV training + testing\n",
    "results = ddict(list)\n",
    "for m in models:\n",
    "    print('testing '+m.name+' ...')\n",
    "    data = datasets[m.data_type]\n",
    "    \n",
    "    res, full_res = b.CV_fit(m, data)\n",
    "    \n",
    "    results['Model'].append(m.name)\n",
    "    results['MAE'].append(res[0])\n",
    "    results['RMSE'].append(res[1])\n",
    "\n",
    "full_CV_test = pd.DataFrame(results)\n",
    "print(full_CV_test)"
   ]
  },
  {
   "cell_type": "code",
   "execution_count": null,
   "metadata": {},
   "outputs": [],
   "source": [
    "#TODO: dataset size vs accuracy"
   ]
  },
  {
   "cell_type": "code",
   "execution_count": null,
   "metadata": {},
   "outputs": [],
   "source": [
    "#TODO: pka split vs accuracy"
   ]
  },
  {
   "cell_type": "code",
   "execution_count": 327,
   "metadata": {},
   "outputs": [
    {
     "name": "stdout",
     "output_type": "stream",
     "text": [
      "testing C1CCOC1 ...\n",
      "testing O ...\n",
      "testing CCCCCCC ...\n",
      "testing COCCOC.COCCOC ...\n",
      "testing CN(C)C=O ...\n",
      "testing CS(=O)C ...\n",
      "testing C(CCl)Cl ...\n",
      "testing CC#N ...\n",
      "                             Model   LOSO solvent  Test size    MAE   RMSE\n",
      "0                           D-MPNN        C1CCOC1         65  3.971  5.773\n",
      "1            D-MPNN with attention        C1CCOC1         65  5.325  6.927\n",
      "2                           RNN+NN        C1CCOC1         65  5.106  6.674\n",
      "3            RNN+NN with attention        C1CCOC1         65  4.749  6.416\n",
      "4   Random forest with descriptors        C1CCOC1         65  3.063  4.744\n",
      "5          Random forest with ECFP        C1CCOC1         65  4.260  5.926\n",
      "6                           D-MPNN              O        134  6.708  8.585\n",
      "7            D-MPNN with attention              O        134  9.097 10.695\n",
      "8                           RNN+NN              O        134  9.115 10.690\n",
      "9            RNN+NN with attention              O        134  8.781 10.387\n",
      "10  Random forest with descriptors              O        134 16.583 16.876\n",
      "11         Random forest with ECFP              O        134  4.531  5.721\n",
      "12                          D-MPNN        CCCCCCC          4 13.260 13.370\n",
      "13           D-MPNN with attention        CCCCCCC          4 18.557 18.656\n",
      "14                          RNN+NN        CCCCCCC          4 15.668 15.712\n",
      "15           RNN+NN with attention        CCCCCCC          4 15.283 15.329\n",
      "16  Random forest with descriptors        CCCCCCC          4 29.665 29.668\n",
      "17         Random forest with ECFP        CCCCCCC          4  8.916  8.986\n",
      "18                          D-MPNN  COCCOC.COCCOC          4  6.638  7.266\n",
      "19           D-MPNN with attention  COCCOC.COCCOC          4 11.725 12.611\n",
      "20                          RNN+NN  COCCOC.COCCOC          4  8.686  9.201\n",
      "21           RNN+NN with attention  COCCOC.COCCOC          4  8.335  8.863\n",
      "22  Random forest with descriptors  COCCOC.COCCOC          4  8.184  8.196\n",
      "23         Random forest with ECFP  COCCOC.COCCOC          4  1.243  1.331\n",
      "24                          D-MPNN       CN(C)C=O         20  5.967  6.924\n",
      "25           D-MPNN with attention       CN(C)C=O         20  6.758  8.538\n",
      "26                          RNN+NN       CN(C)C=O         20  6.329  8.196\n",
      "27           RNN+NN with attention       CN(C)C=O         20  6.228  7.914\n",
      "28  Random forest with descriptors       CN(C)C=O         20  4.038  4.600\n",
      "29         Random forest with ECFP       CN(C)C=O         20  3.302  3.610\n",
      "30                          D-MPNN        CS(=O)C        133  5.615  7.600\n",
      "31           D-MPNN with attention        CS(=O)C        133  9.530 11.352\n",
      "32                          RNN+NN        CS(=O)C        133  7.361  9.287\n",
      "33           RNN+NN with attention        CS(=O)C        133  7.159  9.099\n",
      "34  Random forest with descriptors        CS(=O)C        133  7.855  8.585\n",
      "35         Random forest with ECFP        CS(=O)C        133  2.585  3.437\n",
      "36                          D-MPNN       C(CCl)Cl         98 28.071 29.294\n",
      "37           D-MPNN with attention       C(CCl)Cl         98 22.765 23.999\n",
      "38                          RNN+NN       C(CCl)Cl         98 25.607 26.890\n",
      "39           RNN+NN with attention       C(CCl)Cl         98 26.119 27.379\n",
      "40  Random forest with descriptors       C(CCl)Cl         98 32.797 33.381\n",
      "41         Random forest with ECFP       C(CCl)Cl         98 35.591 36.757\n",
      "42                          D-MPNN           CC#N        435  6.820  8.057\n",
      "43           D-MPNN with attention           CC#N        435  7.116  8.973\n",
      "44                          RNN+NN           CC#N        435  6.334  7.360\n",
      "45           RNN+NN with attention           CC#N        435  6.378  7.377\n",
      "46  Random forest with descriptors           CC#N        435  8.248  9.470\n",
      "47         Random forest with ECFP           CC#N        435  9.669 10.958\n"
     ]
    }
   ],
   "source": [
    "#LOSO\n",
    "results = ddict(list)\n",
    "solvent_set = list(set(solvent))\n",
    "\n",
    "for solv in solvent_set:\n",
    "    test_ids = [i for i, x in enumerate(solvent) if x == solv]\n",
    "    size = len(test_ids)\n",
    "    print('testing '+solv+' ...')\n",
    "    for m in models:\n",
    "        data = datasets[m.data_type]\n",
    "\n",
    "        trained_m, res = b.fit(m, data, test_ids)\n",
    "        \n",
    "        m.experiments.append(('LOSO '+solv,res,size,trained_m))\n",
    "        results['Model'].append(m.name)\n",
    "        results['LOSO solvent'].append(solv)\n",
    "        results['Test size'].append(size)\n",
    "        results['MAE'].append(res[0])\n",
    "        results['RMSE'].append(res[1])\n",
    "\n",
    "LOSO_test = pd.DataFrame(results)\n",
    "print(LOSO_test)"
   ]
  },
  {
   "cell_type": "code",
   "execution_count": 328,
   "metadata": {},
   "outputs": [
    {
     "name": "stdout",
     "output_type": "stream",
     "text": [
      "testing F ...\n",
      "testing N ...\n",
      "testing S ...\n",
      "testing O ...\n",
      "                             Model LOEO element  Test size    MAE   RMSE\n",
      "0                           D-MPNN            F        282 11.457 15.841\n",
      "1            D-MPNN with attention            F        282 12.615 15.401\n",
      "2                           RNN+NN            F        282 11.272 15.039\n",
      "3            RNN+NN with attention            F        282 11.321 15.159\n",
      "4   Random forest with descriptors            F        282  6.214  8.324\n",
      "5          Random forest with ECFP            F        282  5.806  7.714\n",
      "6                           D-MPNN            N        700  8.598 12.201\n",
      "7            D-MPNN with attention            N        700  9.806 12.289\n",
      "8                           RNN+NN            N        700  8.985 11.927\n",
      "9            RNN+NN with attention            N        700  8.930 11.962\n",
      "10  Random forest with descriptors            N        700  6.129  7.759\n",
      "11         Random forest with ECFP            N        700  7.335  9.167\n",
      "12                          D-MPNN            S        184 10.048 12.981\n",
      "13           D-MPNN with attention            S        184 11.558 13.261\n",
      "14                          RNN+NN            S        184 10.690 12.658\n",
      "15           RNN+NN with attention            S        184 10.627 12.724\n",
      "16  Random forest with descriptors            S        184  8.206  9.364\n",
      "17         Random forest with ECFP            S        184  7.934  9.219\n",
      "18                          D-MPNN            O        442  9.427 12.352\n",
      "19           D-MPNN with attention            O        442  9.634 12.260\n",
      "20                          RNN+NN            O        442  9.302 11.890\n",
      "21           RNN+NN with attention            O        442  9.326 11.965\n",
      "22  Random forest with descriptors            O        442  6.397  7.875\n",
      "23         Random forest with ECFP            O        442  6.308  7.643\n"
     ]
    }
   ],
   "source": [
    "#LOEO\n",
    "results = ddict(list)\n",
    "element_set = ['F','N','S','O']\n",
    "\n",
    "for ele in element_set:\n",
    "    test_ids = [i for i, x in enumerate(solute) if ele in x]\n",
    "    size = len(test_ids)\n",
    "    print('testing '+ele+' ...')\n",
    "    for m in models:\n",
    "        data = datasets[m.data_type]\n",
    "\n",
    "        trained_m, res = b.fit(m, data, test_ids)\n",
    "        \n",
    "        m.experiments.append(('LOEO '+ele,res,size,trained_m))\n",
    "        results['Model'].append(m.name)\n",
    "        results['LOEO element'].append(ele)\n",
    "        results['Test size'].append(size)\n",
    "        results['MAE'].append(res[0])\n",
    "        results['RMSE'].append(res[1])\n",
    "\n",
    "LOEO_test = pd.DataFrame(results)\n",
    "print(LOEO_test)"
   ]
  },
  {
   "cell_type": "code",
   "execution_count": 329,
   "metadata": {},
   "outputs": [
    {
     "name": "stdout",
     "output_type": "stream",
     "text": [
      "testing >100g/mol ...\n",
      "testing >150g/mol ...\n",
      "testing >200g/mol ...\n",
      "                             Model  LOMO mass cutoff  Test size    MAE   RMSE\n",
      "0                           D-MPNN               100        750  9.260 12.888\n",
      "1            D-MPNN with attention               100        750  9.871 12.603\n",
      "2                           RNN+NN               100        750  9.310 12.341\n",
      "3            RNN+NN with attention               100        750  9.307 12.405\n",
      "4   Random forest with descriptors               100        750  6.423  8.692\n",
      "5          Random forest with ECFP               100        750  5.760  7.383\n",
      "6                           D-MPNN               150        578 10.044 13.915\n",
      "7            D-MPNN with attention               150        578 10.601 13.597\n",
      "8                           RNN+NN               150        578  9.819 13.063\n",
      "9            RNN+NN with attention               150        578  9.858 13.167\n",
      "10  Random forest with descriptors               150        578  7.465 10.138\n",
      "11         Random forest with ECFP               150        578  6.570  8.506\n",
      "12                          D-MPNN               200        409 10.896 15.000\n",
      "13           D-MPNN with attention               200        409 11.114 14.501\n",
      "14                          RNN+NN               200        409 10.778 14.261\n",
      "15           RNN+NN with attention               200        409 10.821 14.388\n",
      "16  Random forest with descriptors               200        409  6.150  8.096\n",
      "17         Random forest with ECFP               200        409  5.644  7.619\n"
     ]
    }
   ],
   "source": [
    "#LOMO\n",
    "results = ddict(list)\n",
    "solute_masses = [MolWt(Chem.MolFromSmiles(mol)) for mol in solute]\n",
    "mass_cutoffs = [100,150,200]\n",
    "\n",
    "for mass in mass_cutoffs:\n",
    "    test_ids = [i for i, x in enumerate(solute_masses) if x > mass]\n",
    "    size = len(test_ids)\n",
    "    print('testing >'+str(mass)+'g/mol ...')\n",
    "    for m in models:\n",
    "        data = datasets[m.data_type]\n",
    "\n",
    "        trained_m, res = b.fit(m, data, test_ids)\n",
    "        \n",
    "        m.experiments.append(('LOMO '+str(mass),res,size,trained_m))\n",
    "        results['Model'].append(m.name)\n",
    "        results['LOMO mass cutoff'].append(mass)\n",
    "        results['Test size'].append(size)\n",
    "        results['MAE'].append(res[0])\n",
    "        results['RMSE'].append(res[1])\n",
    "\n",
    "LOMO_test = pd.DataFrame(results)\n",
    "print(LOMO_test)"
   ]
  },
  {
   "cell_type": "code",
   "execution_count": 330,
   "metadata": {},
   "outputs": [
    {
     "name": "stdout",
     "output_type": "stream",
     "text": [
      "testing >0 ...\n",
      "testing >1 ...\n",
      "                             Model  LOCO charge  Test size    MAE   RMSE\n",
      "0                           D-MPNN            0        580 10.696 14.438\n",
      "1            D-MPNN with attention            0        580 10.687 13.587\n",
      "2                           RNN+NN            0        580 10.337 13.625\n",
      "3            RNN+NN with attention            0        580 10.400 13.739\n",
      "4   Random forest with descriptors            0        580 12.824 17.494\n",
      "5          Random forest with ECFP            0        580 12.121 16.635\n",
      "6                           D-MPNN            1        313  4.911  6.415\n",
      "7            D-MPNN with attention            1        313  6.469  7.782\n",
      "8                           RNN+NN            1        313  6.510  7.882\n",
      "9            RNN+NN with attention            1        313  6.290  7.677\n",
      "10  Random forest with descriptors            1        313  8.094  9.813\n",
      "11         Random forest with ECFP            1        313  9.982 11.263\n"
     ]
    }
   ],
   "source": [
    "#LOCO\n",
    "results = ddict(list)\n",
    "solute_charges = [GetFormalCharge(Chem.MolFromSmiles(mol)) for mol in solute]\n",
    "charge_list = [0,1]\n",
    "\n",
    "for charge in charge_list:\n",
    "    test_ids = [i for i, x in enumerate(solute_charges) if x == charge]\n",
    "    size = len(test_ids)\n",
    "    print('testing >'+str(charge)+' ...')\n",
    "    for m in models:\n",
    "        data = datasets[m.data_type]\n",
    "\n",
    "        trained_m, res = b.fit(m, data, test_ids)\n",
    "        \n",
    "        m.experiments.append(('LOCO '+str(charge),res,size,trained_m))\n",
    "        results['Model'].append(m.name)\n",
    "        results['LOCO charge'].append(charge)\n",
    "        results['Test size'].append(size)\n",
    "        results['MAE'].append(res[0])\n",
    "        results['RMSE'].append(res[1])\n",
    "\n",
    "LOCO_test = pd.DataFrame(results)\n",
    "print(LOCO_test)"
   ]
  },
  {
   "cell_type": "code",
   "execution_count": null,
   "metadata": {},
   "outputs": [],
   "source": []
  }
 ],
 "metadata": {
  "kernelspec": {
   "display_name": "Python 3",
   "language": "python",
   "name": "python3"
  },
  "language_info": {
   "codemirror_mode": {
    "name": "ipython",
    "version": 3
   },
   "file_extension": ".py",
   "mimetype": "text/x-python",
   "name": "python",
   "nbconvert_exporter": "python",
   "pygments_lexer": "ipython3",
   "version": "3.8.5"
  }
 },
 "nbformat": 4,
 "nbformat_minor": 4
}
