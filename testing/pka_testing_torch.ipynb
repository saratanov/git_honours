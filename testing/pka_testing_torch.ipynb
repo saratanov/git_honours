{
 "cells": [
  {
   "cell_type": "markdown",
   "metadata": {},
   "source": [
    "#### Testing for non-generic torch models:\n",
    "1. Delfos (with and without attention)\n",
    "2. MPNN (with and without attention)"
   ]
  },
  {
   "cell_type": "code",
   "execution_count": 492,
   "metadata": {},
   "outputs": [],
   "source": [
    "%matplotlib inline\n",
    "\n",
    "from collections import defaultdict as ddict, OrderedDict as odict\n",
    "from typing import Any, Dict, List\n",
    "\n",
    "import matplotlib.pyplot as plt\n",
    "import numpy as np\n",
    "import pandas as pd\n",
    "from xgboost import XGBRegressor\n",
    "from sklearn.neural_network import MLPRegressor\n",
    "from rdkit.ML.Descriptors.MoleculeDescriptors import MolecularDescriptorCalculator\n",
    "from rdkit.Chem import PandasTools, AllChem as Chem, Descriptors\n",
    "from rdkit.Chem.Descriptors import MolWt\n",
    "from sklearn.ensemble import RandomForestRegressor\n",
    "import sklearn\n",
    "from rdkit.Chem.rdmolops import GetFormalCharge\n",
    "import torch\n",
    "import deepchem as dc\n",
    "import copy\n",
    "from sklearn.model_selection import train_test_split\n",
    "\n",
    "import basicest as b\n",
    "import chemprop_ish as c\n",
    "import delfos as d\n",
    "import imp\n",
    "\n",
    "pd.set_option('display.float_format', lambda x: '%.3f' % x)  # Display floats without scientific notation"
   ]
  },
  {
   "cell_type": "markdown",
   "metadata": {},
   "source": [
    "---\n",
    "## Loading Dataset"
   ]
  },
  {
   "cell_type": "code",
   "execution_count": 494,
   "metadata": {},
   "outputs": [],
   "source": [
    "data = pd.read_csv('non_aqueous_pka_data.csv')\n",
    "solute = data['Solute SMILES'].tolist()\n",
    "solvent = data['Solvent SMILES'].tolist()\n",
    "pka = data['pKa (avg)'].tolist()\n",
    "data_size = len(solute)"
   ]
  },
  {
   "cell_type": "code",
   "execution_count": 516,
   "metadata": {},
   "outputs": [],
   "source": [
    "indices = list(range(data_size))\n",
    "CV_ids, holdout_ids, _, _ = train_test_split(indices, solvent, test_size=0.2, random_state=1, stratify=solvent)\n",
    "CV_datasets = b.data_maker(solute, solvent, pka, CV_ids)\n",
    "datasets = b.data_maker(solute, solvent, pka)"
   ]
  },
  {
   "cell_type": "code",
   "execution_count": 290,
   "metadata": {},
   "outputs": [],
   "source": [
    "#Descriptors\n",
    "featurizer = dc.feat.RDKitDescriptors()\n",
    "sol = featurizer.featurize(solute)\n",
    "solv = featurizer.featurize(solvent)\n",
    "desc_data = [np.concatenate((sol,solv),axis=1),np.array(pka)]\n",
    "#TODO: dimensionality reduction PCA\n",
    "#TODO: normalise this"
   ]
  },
  {
   "cell_type": "code",
   "execution_count": 322,
   "metadata": {},
   "outputs": [
    {
     "data": {
      "text/plain": [
       "(array([ 8.757932, 12.026693], dtype=float32),\n",
       " [[8.916032, 12.772387],\n",
       "  [8.86487, 11.43323],\n",
       "  [7.3435698, 9.186112],\n",
       "  [7.291783, 10.901827],\n",
       "  [11.373402, 15.839908]])"
      ]
     },
     "execution_count": 322,
     "metadata": {},
     "output_type": "execute_result"
    }
   ],
   "source": [
    "b.CV_fit(DMPNN, datasets['SMILES'])"
   ]
  },
  {
   "cell_type": "code",
   "execution_count": 321,
   "metadata": {},
   "outputs": [
    {
     "data": {
      "text/plain": [
       "(array([3.08091445, 4.84686281]),\n",
       " [[2.7228431128747257, 4.681402741515197],\n",
       "  [3.547177836547824, 5.8009438611128346],\n",
       "  [3.4963111924151824, 4.781696317197858],\n",
       "  [2.4938124841647884, 3.9624368344756493],\n",
       "  [3.144427611045456, 5.007834291194637]])"
      ]
     },
     "execution_count": 321,
     "metadata": {},
     "output_type": "execute_result"
    }
   ],
   "source": [
    "b.CV_fit(RF_desc, datasets['descriptors'])"
   ]
  },
  {
   "cell_type": "markdown",
   "metadata": {},
   "source": [
    "---\n",
    "## Hyperoptimisation"
   ]
  },
  {
   "cell_type": "code",
   "execution_count": 392,
   "metadata": {},
   "outputs": [
    {
     "name": "stdout",
     "output_type": "stream",
     "text": [
      "100%|██████████| 10/10 [5:12:51<00:00, 1877.15s/trial, best loss: 8.938070297241211] \n",
      "time (min):  312.8603391452828\n"
     ]
    },
    {
     "data": {
      "text/plain": [
       "{'loss': 8.938070297241211,\n",
       " 'params': {'D': 64,\n",
       "  'FF': 512,\n",
       "  'batch_size': 16,\n",
       "  'interaction': False,\n",
       "  'lr': 0.0001,\n",
       "  'n_features': 300,\n",
       "  'num_epochs': 200},\n",
       " 'run_time': 1835.9443738230038,\n",
       " 'status': 'ok'}"
      ]
     },
     "execution_count": 392,
     "metadata": {},
     "output_type": "execute_result"
    }
   ],
   "source": [
    "#RNN\n",
    "model_dict = {'name':'RNN', 'model':d.dnet, 'model_type':'torch', 'data_type':'sentences'}\n",
    "param_space = {'n_features':300,\n",
    "               'interaction':False,\n",
    "               'D':hp.choice('D', [64,128,256]),\n",
    "               'FF':hp.choice('FF', [64,128,256,512,1024,2048]),\n",
    "               'lr':hp.choice('lr', [1e-2,1e-3,1e-4]),\n",
    "               'batch_size':hp.choice('batch_size', [32,64]),\n",
    "               'num_epochs':hp.choice('num_epochs', [10,30,50])}\n",
    "model_param_names = ['n_features','interaction','D','FF']\n",
    "training_param_names = ['lr','batch_size','num_epochs']\n",
    "\n",
    "s = timer()\n",
    "RNN_hyp_res = hyperopt_func(model_dict, model_param_names, training_param_names, param_space, CV_datasets)\n",
    "print('time (min): ',(timer()-s)/60)\n",
    "RNN_hyp_res[0]"
   ]
  },
  {
   "cell_type": "code",
   "execution_count": 478,
   "metadata": {},
   "outputs": [
    {
     "name": "stdout",
     "output_type": "stream",
     "text": [
      "100%|██████████| 10/10 [2:10:17<00:00, 781.75s/trial, best loss: 8.827685356140137]  \n",
      "time (min):  130.2912746588486\n"
     ]
    },
    {
     "data": {
      "text/plain": [
       "{'loss': 8.827685356140137,\n",
       " 'params': {'D': 128,\n",
       "  'FF': 64,\n",
       "  'batch_size': 32,\n",
       "  'interaction': True,\n",
       "  'lr': 0.01,\n",
       "  'n_features': 300,\n",
       "  'num_epochs': 30},\n",
       " 'run_time': 734.7408981509507,\n",
       " 'status': 'ok'}"
      ]
     },
     "execution_count": 478,
     "metadata": {},
     "output_type": "execute_result"
    }
   ],
   "source": [
    "model_dict = {'name':'RNN with attention', 'model':d.dnet, 'model_type':'torch', 'data_type':'sentences'}\n",
    "param_space = {'n_features':300,\n",
    "               'interaction':True,\n",
    "               'D':hp.choice('D', [64,128,256]),\n",
    "               'FF':hp.choice('FF', [64,128,256,512,1024,2048]),\n",
    "               'lr':hp.choice('lr', [1e-2,1e-3,1e-4]),\n",
    "               'batch_size':hp.choice('batch_size', [32,64])}\n",
    "model_param_names = ['n_features','interaction','D','FF']\n",
    "training_param_names = ['lr','batch_size','num_epochs']\n",
    "\n",
    "s = timer()\n",
    "RNNatt_hyp_res = hyperopt_func(model_dict, model_param_names, training_param_names, param_space, CV_datasets)\n",
    "print('time (min): ',(timer()-s)/60)\n",
    "RNNatt_hyp_res[0]"
   ]
  },
  {
   "cell_type": "code",
   "execution_count": 391,
   "metadata": {},
   "outputs": [
    {
     "name": "stdout",
     "output_type": "stream",
     "text": [
      "100%|██████████| 10/10 [3:30:23<00:00, 1262.35s/trial, best loss: 8.843690872192383] \n"
     ]
    },
    {
     "data": {
      "text/plain": [
       "{'loss': 8.843690872192383,\n",
       " 'params': {'MP_depth': 4,\n",
       "  'MP_hidden': 32,\n",
       "  'NN_depth': 1,\n",
       "  'NN_hidden': 64,\n",
       "  'activation': 'tanh',\n",
       "  'atom_messages': False,\n",
       "  'batch_size': 16,\n",
       "  'dropout': 0.2,\n",
       "  'interaction': False,\n",
       "  'lr': 1e-05,\n",
       "  'num_epochs': 500,\n",
       "  'readout': 'mean'},\n",
       " 'run_time': 2584.1285275950795,\n",
       " 'status': 'ok'}"
      ]
     },
     "execution_count": 391,
     "metadata": {},
     "output_type": "execute_result"
    }
   ],
   "source": [
    "#DMPNN\n",
    "model_dict = {'name':'DMPNN', 'model':c.double_MPNN, 'model_type':'torch', 'data_type':'SMILES'}\n",
    "param_space = {'atom_messages':False,\n",
    "               'MP_hidden':hp.choice('MP_hidden', [32,64,128,256,512]),\n",
    "               'MP_depth':hp.choice('MP_depth', [2,3,4]),\n",
    "               'readout':hp.choice('readout', ['mean','sum']),\n",
    "               'dropout':hp.choice('dropout', [0.1,0.2,0.3]),\n",
    "               'interaction':False,\n",
    "               'NN_depth':hp.choice('NN_depth', [1,2,3]),\n",
    "               'NN_hidden':hp.choice('NN_hidden', [16,32,64,128,256]),\n",
    "               'activation':hp.choice('activation', ['ReLU','LeakyReLU','PReLU','tanh','SELU','ELU']),\n",
    "               'lr':hp.choice('lr', [1e-2,1e-3,1e-4]),\n",
    "               'batch_size':hp.choice('batch_size', [32,64])}\n",
    "model_param_names = ['atom_messages','MP_hidden','MP_depth','readout','dropout','interaction','NN_depth','NN_hidden','activation']\n",
    "training_param_names = ['lr','batch_size','num_epochs']\n",
    "\n",
    "s = timer()\n",
    "DMPNN_hyp_res = hyperopt_func(model_dict, model_param_names, training_param_names, param_space, CV_datasets)\n",
    "print('time (min): ',(timer()-s)/60)\n",
    "DMPNN_hyp_res[0]"
   ]
  },
  {
   "cell_type": "code",
   "execution_count": 374,
   "metadata": {},
   "outputs": [
    {
     "name": "stdout",
     "output_type": "stream",
     "text": [
      "100%|██████████| 30/30 [36:28<00:00, 72.95s/trial, best loss: 8.72883129119873]  \n",
      "2188.553501219023\n"
     ]
    },
    {
     "data": {
      "text/plain": [
       "{'loss': 8.994673728942871,\n",
       " 'params': {'MP_depth': 4,\n",
       "  'MP_hidden': 64,\n",
       "  'NN_depth': 2,\n",
       "  'NN_hidden': 128,\n",
       "  'activation': 'SELU',\n",
       "  'atom_messages': False,\n",
       "  'dropout': 0.3,\n",
       "  'interaction': False,\n",
       "  'readout': 'mean'},\n",
       " 'run_time': 52.873399653006345,\n",
       " 'status': 'ok'}"
      ]
     },
     "execution_count": 374,
     "metadata": {},
     "output_type": "execute_result"
    }
   ],
   "source": [
    "#DMPNN with attention\n",
    "model_dict = {'name':'DMPNN with attention', 'model':c.double_MPNN, 'model_type':'torch', 'data_type':'SMILES'}\n",
    "param_space = {'atom_messages':False,\n",
    "               'MP_hidden':hp.choice('MP_hidden', [32,64,128,256,512]),\n",
    "               'MP_depth':hp.choice('MP_depth', [2,3,4]),\n",
    "               'readout':hp.choice('readout', ['mean','sum']),\n",
    "               'dropout':hp.choice('dropout', [0.1,0.2,0.3]),\n",
    "               'interaction':True,\n",
    "               'NN_depth':hp.choice('NN_depth', [1,2,3]),\n",
    "               'NN_hidden':hp.choice('NN_hidden', [16,32,64,128,256]),\n",
    "               'activation':hp.choice('activation', ['ReLU','LeakyReLU','PReLU','tanh','SELU','ELU']),\n",
    "               'lr':hp.choice('lr', [1e-2,1e-3,1e-4]),\n",
    "               'batch_size':hp.choice('batch_size', [32,64])}\n",
    "model_param_names = ['atom_messages','MP_hidden','MP_depth','readout','dropout','interaction','NN_depth','NN_hidden','activation']\n",
    "training_param_names = ['lr','batch_size','num_epochs']\n",
    "\n",
    "s = timer()\n",
    "DMPNNatt_hyp_res = hyperopt_func(model_dict, model_param_names, training_param_names, param_space, CV_datasets)\n",
    "print('time (min): ',(timer()-s)/60)\n",
    "DMPNNatt_hyp_res[0]"
   ]
  },
  {
   "cell_type": "code",
   "execution_count": 376,
   "metadata": {},
   "outputs": [
    {
     "name": "stdout",
     "output_type": "stream",
     "text": [
      "100%|██████████| 30/30 [32:32<00:00, 65.07s/trial, best loss: 8.736967086791992]\n",
      "1952.2466806230368\n"
     ]
    },
    {
     "ename": "NameError",
     "evalue": "name 'MPNN_hyp_res' is not defined",
     "output_type": "error",
     "traceback": [
      "\u001b[0;31m---------------------------------------------------------------------------\u001b[0m",
      "\u001b[0;31mNameError\u001b[0m                                 Traceback (most recent call last)",
      "\u001b[0;32m<ipython-input-376-fd4b44185d8e>\u001b[0m in \u001b[0;36m<module>\u001b[0;34m\u001b[0m\n\u001b[1;32m     15\u001b[0m \u001b[0mDMPNNatt_hyp_res\u001b[0m \u001b[0;34m=\u001b[0m \u001b[0mhyperopt_func\u001b[0m\u001b[0;34m(\u001b[0m\u001b[0mmodel_dict\u001b[0m\u001b[0;34m,\u001b[0m \u001b[0minteger_params\u001b[0m\u001b[0;34m,\u001b[0m \u001b[0mparam_space\u001b[0m\u001b[0;34m,\u001b[0m \u001b[0mmax_evals\u001b[0m\u001b[0;34m=\u001b[0m\u001b[0;36m30\u001b[0m\u001b[0;34m)\u001b[0m\u001b[0;34m\u001b[0m\u001b[0;34m\u001b[0m\u001b[0m\n\u001b[1;32m     16\u001b[0m \u001b[0mprint\u001b[0m\u001b[0;34m(\u001b[0m\u001b[0mtimer\u001b[0m\u001b[0;34m(\u001b[0m\u001b[0;34m)\u001b[0m\u001b[0;34m-\u001b[0m\u001b[0ms\u001b[0m\u001b[0;34m)\u001b[0m\u001b[0;34m\u001b[0m\u001b[0;34m\u001b[0m\u001b[0m\n\u001b[0;32m---> 17\u001b[0;31m \u001b[0mMPNN_hyp_res\u001b[0m\u001b[0;34m[\u001b[0m\u001b[0;36m0\u001b[0m\u001b[0;34m]\u001b[0m\u001b[0;34m\u001b[0m\u001b[0;34m\u001b[0m\u001b[0m\n\u001b[0m",
      "\u001b[0;31mNameError\u001b[0m: name 'MPNN_hyp_res' is not defined"
     ]
    }
   ],
   "source": [
    "#MPNN\n",
    "model_dict = {'name':'MPNN', 'model':c.double_MPNN, 'model_type':'torch', 'data_type':'SMILES', 'scaler':scaler}\n",
    "param_space = {'atom_messages':True,\n",
    "               'MP_hidden':hp.choice('MP_hidden', [32,64,128,256,512]),\n",
    "               'MP_depth':hp.choice('MP_depth', [2,3,4]),\n",
    "               'readout':hp.choice('readout', ['mean','sum']),\n",
    "               'dropout':hp.choice('dropout', [0.1,0.2,0.3]),\n",
    "               'interaction':False,\n",
    "               'NN_depth':hp.choice('NN_depth', [1,2,3]),\n",
    "               'NN_hidden':hp.choice('NN_hidden', [16,32,64,128,256]),\n",
    "               'activation':hp.choice('activation', ['ReLU','LeakyReLU','PReLU','tanh','SELU','ELU']),\n",
    "               'lr':hp.choice('lr', [1e-2,1e-3,1e-4]),\n",
    "               'batch_size':hp.choice('batch_size', [32,64])}\n",
    "model_param_names = ['atom_messages','MP_hidden','MP_depth','readout','dropout','interaction','NN_depth','NN_hidden','activation']\n",
    "training_param_names = ['lr','batch_size','num_epochs']\n",
    "\n",
    "s = timer()\n",
    "DMPNNatt_hyp_res = hyperopt_func(model_dict, model_param_names, training_param_names, param_space)\n",
    "print('time (min): ',(timer()-s)/60)\n",
    "MPNN_hyp_res[0]"
   ]
  },
  {
   "cell_type": "code",
   "execution_count": null,
   "metadata": {},
   "outputs": [],
   "source": [
    "#MPNN with attention\n",
    "model_dict = {'name':'MPNN with attention', 'model':c.double_MPNN, 'model_type':'torch', 'data_type':'SMILES'}\n",
    "param_space = {'atom_messages':True,\n",
    "               'MP_hidden':hp.choice('MP_hidden', [32,64,128,256,512]),\n",
    "               'MP_depth':hp.choice('MP_depth', [2,3,4]),\n",
    "               'readout':hp.choice('readout', ['mean','sum']),\n",
    "               'dropout':hp.choice('dropout', [0.1,0.2,0.3]),\n",
    "               'interaction':True,\n",
    "               'NN_depth':hp.choice('NN_depth', [1,2,3]),\n",
    "               'NN_hidden':hp.choice('NN_hidden', [16,32,64,128,256]),\n",
    "               'activation':hp.choice('activation', ['ReLU','LeakyReLU','PReLU','tanh','SELU','ELU']),\n",
    "               'lr':hp.choice('lr', [1e-2,1e-3,1e-4]),\n",
    "               'batch_size':hp.choice('batch_size', [32,64])}\n",
    "model_param_names = ['atom_messages','MP_hidden','MP_depth','readout','dropout','interaction','NN_depth','NN_hidden','activation']\n",
    "training_param_names = ['lr','batch_size','num_epochs']\n",
    "\n",
    "s = timer()\n",
    "MPNNatt_hyp_res = hyperopt_func(model_dict, integer_params, param_space, CV_datasets, max_evals=30)\n",
    "print('time (min): ',(timer()-s)/60)\n",
    "MPNNatt_hyp_res[0]"
   ]
  },
  {
   "cell_type": "code",
   "execution_count": 472,
   "metadata": {},
   "outputs": [],
   "source": [
    "def training_loss(model,lr,batch_size,epochs):    \n",
    "    train_ids = [x for x in range(600)]\n",
    "    test_ids = [x for x in range(600,size)]\n",
    "\n",
    "    regressor = copy.deepcopy(model.model)\n",
    "    data = datasets[model.data_type]\n",
    "    loader = b.double_loader(data, indices=train_ids, batch_size=batch_size)\n",
    "    optimiser = torch.optim.Adam(regressor.parameters(), lr=lr)\n",
    "    loss_function = torch.nn.MSELoss()\n",
    "\n",
    "    test_loss_list = []\n",
    "    train_loss_list = []\n",
    "    for epoch in range(epochs):\n",
    "        for (sol,solv,targets) in loader:\n",
    "            targets = targets.view(-1,1)\n",
    "            targets = scaler.transform(targets)\n",
    "            optimiser.zero_grad()\n",
    "            outputs = regressor(sol,solv)\n",
    "            loss = loss_function(outputs, targets)\n",
    "            loss.backward()\n",
    "            optimiser.step()\n",
    "        train_loss = b.test(model, regressor, train_ids, data)\n",
    "        train_loss_list.append(train_loss[0])\n",
    "        test_loss = b.test(model, regressor, test_ids, data)\n",
    "        test_loss_list.append(test_loss[0])\n",
    "    plt.plot(train_loss_list)\n",
    "    plt.plot(test_loss_list)\n",
    "    print(model.name)\n",
    "    print(\"lr:\",lr)\n",
    "    print(\"batch size:\", batch_size)\n",
    "    print(\"epochs:\", epochs)\n",
    "    print(\"Test loss:\", test_loss[0])\n",
    "    print(\"Train loss:\", train_loss[0])"
   ]
  },
  {
   "cell_type": "code",
   "execution_count": 454,
   "metadata": {},
   "outputs": [
    {
     "name": "stdout",
     "output_type": "stream",
     "text": [
      "MPNN\n",
      "lr: 0.001\n",
      "batch size: 32\n",
      "epochs: 50\n",
      "Test loss: 4.190503\n",
      "Train loss: 2.9650712\n"
     ]
    },
    {
     "data": {
      "image/png": "[encoded data removed]",
      "text/plain": [
       "<Figure size 432x288 with 1 Axes>"
      ]
     },
     "metadata": {
      "needs_background": "light"
     },
     "output_type": "display_data"
    }
   ],
   "source": [
    "training_loss(MPNN,1e-3,32,50)"
   ]
  },
  {
   "cell_type": "code",
   "execution_count": 460,
   "metadata": {},
   "outputs": [
    {
     "name": "stdout",
     "output_type": "stream",
     "text": [
      "D-MPNN\n",
      "lr: 0.01\n",
      "batch size: 32\n",
      "epochs: 50\n",
      "Test loss: 5.4228716\n",
      "Train loss: 3.802495\n"
     ]
    },
    {
     "data": {
      "image/png": "[encoded data removed]",
      "text/plain": [
       "<Figure size 432x288 with 1 Axes>"
      ]
     },
     "metadata": {
      "needs_background": "light"
     },
     "output_type": "display_data"
    }
   ],
   "source": [
    "training_loss(DMPNN,1e-2,32,50)"
   ]
  },
  {
   "cell_type": "code",
   "execution_count": 456,
   "metadata": {},
   "outputs": [
    {
     "name": "stdout",
     "output_type": "stream",
     "text": [
      "MPNN with attention\n",
      "lr: 0.001\n",
      "batch size: 32\n",
      "epochs: 50\n",
      "Test loss: 4.644035\n",
      "Train loss: 3.2364044\n"
     ]
    },
    {
     "data": {
      "image/png": "[encoded data removed]",
      "text/plain": [
       "<Figure size 432x288 with 1 Axes>"
      ]
     },
     "metadata": {
      "needs_background": "light"
     },
     "output_type": "display_data"
    }
   ],
   "source": [
    "training_loss(MPNN_att,1e-3,32,50)"
   ]
  },
  {
   "cell_type": "code",
   "execution_count": 457,
   "metadata": {},
   "outputs": [
    {
     "name": "stdout",
     "output_type": "stream",
     "text": [
      "D-MPNN with attention\n",
      "lr: 0.001\n",
      "batch size: 32\n",
      "epochs: 50\n",
      "Test loss: 4.6767564\n",
      "Train loss: 2.872537\n"
     ]
    },
    {
     "data": {
      "image/png": "[encoded data removed]",
      "text/plain": [
       "<Figure size 432x288 with 1 Axes>"
      ]
     },
     "metadata": {
      "needs_background": "light"
     },
     "output_type": "display_data"
    }
   ],
   "source": [
    "training_loss(DMPNN_att,1e-3,32,50)"
   ]
  },
  {
   "cell_type": "code",
   "execution_count": 476,
   "metadata": {},
   "outputs": [
    {
     "name": "stdout",
     "output_type": "stream",
     "text": [
      "RNN+NN\n",
      "lr: 0.0001\n",
      "batch size: 64\n",
      "epochs: 50\n",
      "Test loss: 3.9082751\n",
      "Train loss: 1.3369806\n"
     ]
    },
    {
     "data": {
      "image/png": "[encoded data removed]",
      "text/plain": [
       "<Figure size 432x288 with 1 Axes>"
      ]
     },
     "metadata": {
      "needs_background": "light"
     },
     "output_type": "display_data"
    }
   ],
   "source": [
    "training_loss(RNN,1e-4,64,50)"
   ]
  },
  {
   "cell_type": "code",
   "execution_count": 477,
   "metadata": {},
   "outputs": [
    {
     "name": "stdout",
     "output_type": "stream",
     "text": [
      "RNN+NN with attention\n",
      "lr: 0.0001\n",
      "batch size: 64\n",
      "epochs: 50\n",
      "Test loss: 4.0558734\n",
      "Train loss: 1.5999523\n"
     ]
    },
    {
     "data": {
      "image/png": "[encoded data removed]",
      "text/plain": [
       "<Figure size 432x288 with 1 Axes>"
      ]
     },
     "metadata": {
      "needs_background": "light"
     },
     "output_type": "display_data"
    }
   ],
   "source": [
    "training_loss(RNN_att,1e-4,64,50)"
   ]
  },
  {
   "cell_type": "markdown",
   "metadata": {},
   "source": [
    "---\n",
    "## Training + testing"
   ]
  },
  {
   "cell_type": "code",
   "execution_count": 578,
   "metadata": {},
   "outputs": [],
   "source": [
    "DMPNN = b.Model(name='D-MPNN',\n",
    "                model=c.double_MPNN(atom_messages=False),\n",
    "                model_type='torch',\n",
    "                data_type='SMILES')\n",
    "DMPNN_att = b.Model(name='D-MPNN with attention',\n",
    "                    model=c.double_MPNN(atom_messages=False, interaction=True),\n",
    "                    model_type='torch',\n",
    "                    data_type='SMILES')\n",
    "MPNN = b.Model(name='MPNN',\n",
    "                model=c.double_MPNN(atom_messages=True),\n",
    "                model_type='torch',\n",
    "                data_type='SMILES')\n",
    "MPNN_att = b.Model(name='MPNN with attention',\n",
    "                    model=c.double_MPNN(atom_messages=True, interaction=True),\n",
    "                    model_type='torch',\n",
    "                    data_type='SMILES')\n",
    "RNN = b.Model(name='RNN+NN',\n",
    "              model=d.dnet(interaction=False),\n",
    "              model_type='torch',\n",
    "              data_type='sentences')\n",
    "RNN_att = b.Model(name='RNN+NN with attention',\n",
    "                  model=d.dnet(),\n",
    "                  model_type='torch',\n",
    "                  data_type='sentences')\n",
    "RF_desc = b.Model(name='Random forest with descriptors',\n",
    "                  model=RandomForestRegressor(n_estimators=1000, n_jobs=12),\n",
    "                  model_type='sklearn',\n",
    "                  data_type='descriptors')\n",
    "RF_ECFP = b.Model(name='Random forest with ECFP',\n",
    "                  model=RandomForestRegressor(n_estimators=1000, n_jobs=12),\n",
    "                  model_type='sklearn',\n",
    "                  data_type='ECFP')\n",
    "MLP_desc = b.Model(name='MLP with descriptors',\n",
    "                  model=MLPRegressor(hidden_layer_sizes=(200, 100)),\n",
    "                  model_type='sklearn',\n",
    "                  data_type='descriptors')\n",
    "MLP_ECFP = b.Model(name='MLP with ECFP',\n",
    "                  model=MLPRegressor(hidden_layer_sizes=(256, 128)),\n",
    "                  model_type='sklearn',\n",
    "                  data_type='ECFP')\n",
    "RGB_desc = b.Model(name='RGBoost with descriptors',\n",
    "                  model=XGBRegressor(n_jobs=12),\n",
    "                  model_type='sklearn',\n",
    "                  data_type='descriptors')\n",
    "RGB_ECFP = b.Model(name='RGBoost with ECFP',\n",
    "                  model=XGBRegressor(n_jobs=12),\n",
    "                  model_type='sklearn',\n",
    "                  data_type='ECFP')\n",
    "\n",
    "#list of all models for testing\n",
    "models = [DMPNN, DMPNN_att, MPNN, MPNN_att, RNN, RNN_att, RF_desc, RF_ECFP, MLP_desc, MLP_ECFP, RGB_desc, RGB_ECFP]"
   ]
  },
  {
   "cell_type": "code",
   "execution_count": 577,
   "metadata": {},
   "outputs": [
    {
     "data": {
      "text/plain": [
       "<module 'basicest' from '/Users/u6676643/codes/testing/basicest.py'>"
      ]
     },
     "execution_count": 577,
     "metadata": {},
     "output_type": "execute_result"
    }
   ],
   "source": [
    "imp.reload(b)"
   ]
  },
  {
   "cell_type": "code",
   "execution_count": 405,
   "metadata": {},
   "outputs": [
    {
     "name": "stdout",
     "output_type": "stream",
     "text": [
      "testing D-MPNN ...\n",
      "testing D-MPNN with attention ...\n",
      "testing MPNN ...\n",
      "testing MPNN with attention ...\n",
      "testing RNN+NN ...\n",
      "testing RNN+NN with attention ...\n",
      "testing Random forest with descriptors ...\n",
      "testing Random forest with ECFP ...\n",
      "testing MLP with descriptors ...\n"
     ]
    },
    {
     "name": "stderr",
     "output_type": "stream",
     "text": [
      "/Users/u6676643/opt/anaconda3/lib/python3.8/site-packages/sklearn/neural_network/_multilayer_perceptron.py:582: ConvergenceWarning: Stochastic Optimizer: Maximum iterations (200) reached and the optimization hasn't converged yet.\n",
      "  warnings.warn(\n",
      "/Users/u6676643/opt/anaconda3/lib/python3.8/site-packages/sklearn/neural_network/_multilayer_perceptron.py:582: ConvergenceWarning: Stochastic Optimizer: Maximum iterations (200) reached and the optimization hasn't converged yet.\n",
      "  warnings.warn(\n"
     ]
    },
    {
     "name": "stdout",
     "output_type": "stream",
     "text": [
      "testing MLP with ECFP ...\n",
      "testing RGBoost with descriptors ...\n",
      "testing RGBoost with ECFP ...\n",
      "                             Model    MAE   RMSE\n",
      "0                           D-MPNN  9.060 11.765\n",
      "1            D-MPNN with attention  9.345 12.045\n",
      "2                             MPNN  9.145 11.799\n",
      "3              MPNN with attention 13.104 18.482\n",
      "4                           RNN+NN  9.038 11.766\n",
      "5            RNN+NN with attention  9.025 11.758\n",
      "6   Random forest with descriptors  3.062  4.810\n",
      "7          Random forest with ECFP  4.021  5.861\n",
      "8             MLP with descriptors  7.678 12.406\n",
      "9                    MLP with ECFP  3.906  5.657\n",
      "10        RGBoost with descriptors  2.848  4.659\n",
      "11               RGBoost with ECFP  3.970  6.005\n"
     ]
    }
   ],
   "source": [
    "#TODO: full CV training + testing\n",
    "results = ddict(list)\n",
    "for m in models:\n",
    "    print('testing '+m.name+' ...')\n",
    "    data = datasets[m.data_type]\n",
    "    \n",
    "    res, full_res = b.CV_fit(m, data)\n",
    "    \n",
    "    results['Model'].append(m.name)\n",
    "    results['MAE'].append(res[0])\n",
    "    results['RMSE'].append(res[1])\n",
    "\n",
    "full_CV_test = pd.DataFrame(results)\n",
    "print(full_CV_test)"
   ]
  },
  {
   "cell_type": "code",
   "execution_count": null,
   "metadata": {},
   "outputs": [],
   "source": [
    "#TODO: holdout data test\n",
    "exp_name = \"Holdout test\"\n",
    "results = ddict(list)\n",
    "for m in models:\n",
    "    print('testing '+m.name+' ...')\n",
    "    data = datasets[m.data_type]\n",
    "    \n",
    "    res = b.fit(m, data, holdout_ids, exp_name)\n",
    "    \n",
    "    results['Model'].append(m.name)\n",
    "    results['MAE'].append(res[0])\n",
    "    results['RMSE'].append(res[1])\n",
    "\n",
    "holdout_test = pd.DataFrame(results)\n",
    "print(holdout_test)"
   ]
  },
  {
   "cell_type": "code",
   "execution_count": null,
   "metadata": {},
   "outputs": [],
   "source": [
    "#TODO: dataset size vs accuracy"
   ]
  },
  {
   "cell_type": "code",
   "execution_count": null,
   "metadata": {},
   "outputs": [],
   "source": [
    "#TODO: pka split vs accuracy"
   ]
  },
  {
   "cell_type": "code",
   "execution_count": 519,
   "metadata": {},
   "outputs": [
    {
     "name": "stdout",
     "output_type": "stream",
     "text": [
      "testing C1CCOC1 ...\n",
      "testing O ...\n"
     ]
    },
    {
     "name": "stderr",
     "output_type": "stream",
     "text": [
      "/Users/u6676643/opt/anaconda3/lib/python3.8/site-packages/sklearn/neural_network/_multilayer_perceptron.py:582: ConvergenceWarning: Stochastic Optimizer: Maximum iterations (200) reached and the optimization hasn't converged yet.\n",
      "  warnings.warn(\n"
     ]
    },
    {
     "name": "stdout",
     "output_type": "stream",
     "text": [
      "testing CCCCCCC ...\n",
      "testing COCCOC.COCCOC ...\n"
     ]
    },
    {
     "name": "stderr",
     "output_type": "stream",
     "text": [
      "/Users/u6676643/opt/anaconda3/lib/python3.8/site-packages/sklearn/neural_network/_multilayer_perceptron.py:582: ConvergenceWarning: Stochastic Optimizer: Maximum iterations (200) reached and the optimization hasn't converged yet.\n",
      "  warnings.warn(\n"
     ]
    },
    {
     "name": "stdout",
     "output_type": "stream",
     "text": [
      "testing CN(C)C=O ...\n"
     ]
    },
    {
     "name": "stderr",
     "output_type": "stream",
     "text": [
      "/Users/u6676643/opt/anaconda3/lib/python3.8/site-packages/sklearn/neural_network/_multilayer_perceptron.py:582: ConvergenceWarning: Stochastic Optimizer: Maximum iterations (200) reached and the optimization hasn't converged yet.\n",
      "  warnings.warn(\n"
     ]
    },
    {
     "name": "stdout",
     "output_type": "stream",
     "text": [
      "testing CS(=O)C ...\n",
      "testing C(CCl)Cl ...\n",
      "testing CC#N ...\n"
     ]
    },
    {
     "name": "stderr",
     "output_type": "stream",
     "text": [
      "/Users/u6676643/opt/anaconda3/lib/python3.8/site-packages/sklearn/neural_network/_multilayer_perceptron.py:582: ConvergenceWarning: Stochastic Optimizer: Maximum iterations (200) reached and the optimization hasn't converged yet.\n",
      "  warnings.warn(\n"
     ]
    },
    {
     "name": "stdout",
     "output_type": "stream",
     "text": [
      "                       Model LOSO solvent  Test size    MAE   RMSE\n",
      "0                     D-MPNN      C1CCOC1         65  6.233  7.802\n",
      "1      D-MPNN with attention      C1CCOC1         65  4.778  6.622\n",
      "2                       MPNN      C1CCOC1         65  5.437  6.810\n",
      "3        MPNN with attention      C1CCOC1         65  6.133  8.490\n",
      "4                     RNN+NN      C1CCOC1         65  5.070  6.641\n",
      "..                       ...          ...        ...    ...    ...\n",
      "91   Random forest with ECFP         CC#N        435  9.704 11.002\n",
      "92      MLP with descriptors         CC#N        435 13.677 27.243\n",
      "93             MLP with ECFP         CC#N        435 10.962 12.174\n",
      "94  RGBoost with descriptors         CC#N        435  7.213  8.420\n",
      "95         RGBoost with ECFP         CC#N        435 10.116 11.289\n",
      "\n",
      "[96 rows x 5 columns]\n"
     ]
    }
   ],
   "source": [
    "#LOSO\n",
    "results = ddict(list)\n",
    "solvent_set = list(set(solvent))\n",
    "\n",
    "for solv in solvent_set:\n",
    "    test_ids = [i for i, x in enumerate(solvent) if x == solv]\n",
    "    size = len(test_ids)\n",
    "    exp_name = \"LOSO \"+solv\n",
    "    print('testing '+solv+' ...')\n",
    "    for m in models:\n",
    "        data = datasets[m.data_type]\n",
    "\n",
    "        res = b.fit(m, data, test_ids, exp_name)\n",
    "\n",
    "        results['Model'].append(m.name)\n",
    "        results['LOSO solvent'].append(solv)\n",
    "        results['Test size'].append(size)\n",
    "        results['MAE'].append(res[0])\n",
    "        results['RMSE'].append(res[1])\n",
    "\n",
    "LOSO_test = pd.DataFrame(results)\n",
    "print(LOSO_test)"
   ]
  },
  {
   "cell_type": "code",
   "execution_count": 518,
   "metadata": {},
   "outputs": [
    {
     "name": "stdout",
     "output_type": "stream",
     "text": [
      "testing F ...\n",
      "testing N ...\n"
     ]
    },
    {
     "name": "stderr",
     "output_type": "stream",
     "text": [
      "/Users/u6676643/opt/anaconda3/lib/python3.8/site-packages/sklearn/neural_network/_multilayer_perceptron.py:582: ConvergenceWarning: Stochastic Optimizer: Maximum iterations (200) reached and the optimization hasn't converged yet.\n",
      "  warnings.warn(\n"
     ]
    },
    {
     "name": "stdout",
     "output_type": "stream",
     "text": [
      "testing S ...\n",
      "testing O ...\n",
      "testing Cl ...\n",
      "testing Br ...\n",
      "                       Model LOEO element  Test size    MAE   RMSE\n",
      "0                     D-MPNN            F        282 11.330 14.998\n",
      "1      D-MPNN with attention            F        282 11.475 16.343\n",
      "2                       MPNN            F        282 11.362 15.319\n",
      "3        MPNN with attention            F        282 13.186 16.541\n",
      "4                     RNN+NN            F        282 11.311 15.400\n",
      "..                       ...          ...        ...    ...    ...\n",
      "67   Random forest with ECFP           Br         21  4.665  6.634\n",
      "68      MLP with descriptors           Br         21 12.604 17.247\n",
      "69             MLP with ECFP           Br         21  4.214  5.441\n",
      "70  RGBoost with descriptors           Br         21  2.015  2.525\n",
      "71         RGBoost with ECFP           Br         21  3.636  5.344\n",
      "\n",
      "[72 rows x 5 columns]\n"
     ]
    }
   ],
   "source": [
    "#LOEO\n",
    "results = ddict(list)\n",
    "element_set = ['F','N','S','O','Cl','Br','P']\n",
    "\n",
    "for ele in element_set:\n",
    "    test_ids = [i for i, x in enumerate(solute) if ele in x]\n",
    "    size = len(test_ids)\n",
    "    exp_name = \"LOEO \"+ele\n",
    "    print('testing '+ele+' ...')\n",
    "    for m in models:\n",
    "        data = datasets[m.data_type]\n",
    "\n",
    "        res = b.fit(m, data, test_ids, exp_name)\n",
    "\n",
    "        results['Model'].append(m.name)\n",
    "        results['LOEO element'].append(ele)\n",
    "        results['Test size'].append(size)\n",
    "        results['MAE'].append(res[0])\n",
    "        results['RMSE'].append(res[1])\n",
    "\n",
    "LOEO_test = pd.DataFrame(results)\n",
    "print(LOEO_test)"
   ]
  },
  {
   "cell_type": "code",
   "execution_count": 490,
   "metadata": {},
   "outputs": [
    {
     "name": "stdout",
     "output_type": "stream",
     "text": [
      "testing >100g/mol ...\n",
      "testing >150g/mol ...\n"
     ]
    },
    {
     "name": "stderr",
     "output_type": "stream",
     "text": [
      "/Users/u6676643/opt/anaconda3/lib/python3.8/site-packages/sklearn/neural_network/_multilayer_perceptron.py:582: ConvergenceWarning: Stochastic Optimizer: Maximum iterations (200) reached and the optimization hasn't converged yet.\n",
      "  warnings.warn(\n"
     ]
    },
    {
     "name": "stdout",
     "output_type": "stream",
     "text": [
      "testing >200g/mol ...\n",
      "testing >250g/mol ...\n"
     ]
    },
    {
     "name": "stderr",
     "output_type": "stream",
     "text": [
      "/Users/u6676643/opt/anaconda3/lib/python3.8/site-packages/sklearn/neural_network/_multilayer_perceptron.py:582: ConvergenceWarning: Stochastic Optimizer: Maximum iterations (200) reached and the optimization hasn't converged yet.\n",
      "  warnings.warn(\n"
     ]
    },
    {
     "name": "stdout",
     "output_type": "stream",
     "text": [
      "testing >300g/mol ...\n",
      "                             Model  LOMO mass cutoff  Test size    MAE   RMSE\n",
      "0                           D-MPNN               100        750  9.202 12.691\n",
      "1            D-MPNN with attention               100        750 10.324 14.736\n",
      "2                             MPNN               100        750  9.452 13.351\n",
      "3              MPNN with attention               100        750  9.895 12.813\n",
      "4                           RNN+NN               100        750  9.403 13.272\n",
      "5            RNN+NN with attention               100        750  9.368 13.231\n",
      "6   Random forest with descriptors               100        750  6.500  8.686\n",
      "7          Random forest with ECFP               100        750  5.759  7.375\n",
      "8             MLP with descriptors               100        750 21.849 29.034\n",
      "9                    MLP with ECFP               100        750  5.978  7.684\n",
      "10        RGBoost with descriptors               100        750  6.962  9.505\n",
      "11               RGBoost with ECFP               100        750  6.221  8.528\n",
      "12                          D-MPNN               150        578  9.917 13.545\n",
      "13           D-MPNN with attention               150        578 10.872 15.278\n",
      "14                            MPNN               150        578 10.119 14.028\n",
      "15             MPNN with attention               150        578 10.706 13.737\n",
      "16                          RNN+NN               150        578 10.168 14.137\n",
      "17           RNN+NN with attention               150        578 10.131 14.090\n",
      "18  Random forest with descriptors               150        578  7.398  9.998\n",
      "19         Random forest with ECFP               150        578  6.601  8.535\n",
      "20            MLP with descriptors               150        578 31.513 63.867\n",
      "21                   MLP with ECFP               150        578  7.051  8.932\n",
      "22        RGBoost with descriptors               150        578  7.970 10.902\n",
      "23               RGBoost with ECFP               150        578  7.859 10.318\n",
      "24                          D-MPNN               200        409 10.796 14.500\n",
      "25           D-MPNN with attention               200        409 11.862 16.849\n",
      "26                            MPNN               200        409 10.881 14.952\n",
      "27             MPNN with attention               200        409 11.675 14.858\n",
      "28                          RNN+NN               200        409 10.910 15.035\n",
      "29           RNN+NN with attention               200        409 10.862 14.974\n",
      "30  Random forest with descriptors               200        409  6.067  8.012\n",
      "31         Random forest with ECFP               200        409  5.625  7.622\n",
      "32            MLP with descriptors               200        409 25.000 32.830\n",
      "33                   MLP with ECFP               200        409  6.165  7.901\n",
      "34        RGBoost with descriptors               200        409  6.741  9.198\n",
      "35               RGBoost with ECFP               200        409  6.019  8.954\n",
      "36                          D-MPNN               250        301 11.691 15.217\n",
      "37           D-MPNN with attention               250        301 11.731 16.587\n",
      "38                            MPNN               250        301 11.674 15.675\n",
      "39             MPNN with attention               250        301 13.241 16.542\n",
      "40                          RNN+NN               250        301 11.662 15.658\n",
      "41           RNN+NN with attention               250        301 11.598 15.584\n",
      "42  Random forest with descriptors               250        301  7.066  9.176\n",
      "43         Random forest with ECFP               250        301  6.040  8.028\n",
      "44            MLP with descriptors               250        301 11.525 16.713\n",
      "45                   MLP with ECFP               250        301  6.504  8.560\n",
      "46        RGBoost with descriptors               250        301  6.759  9.993\n",
      "47               RGBoost with ECFP               250        301  6.677  9.529\n",
      "48                          D-MPNN               300        222 12.503 16.040\n",
      "49           D-MPNN with attention               300        222 12.321 16.787\n",
      "50                            MPNN               300        222 12.511 16.555\n",
      "51             MPNN with attention               300        222 14.017 17.465\n",
      "52                          RNN+NN               300        222 12.531 16.485\n",
      "53           RNN+NN with attention               300        222 12.464 16.404\n",
      "54  Random forest with descriptors               300        222  5.957  7.884\n",
      "55         Random forest with ECFP               300        222  4.845  6.381\n",
      "56            MLP with descriptors               300        222 18.725 28.262\n",
      "57                   MLP with ECFP               300        222  6.767  8.737\n",
      "58        RGBoost with descriptors               300        222  6.251  9.709\n",
      "59               RGBoost with ECFP               300        222  5.550  7.634\n"
     ]
    }
   ],
   "source": [
    "#LOMO\n",
    "results = ddict(list)\n",
    "solute_masses = [MolWt(Chem.MolFromSmiles(mol)) for mol in solute]\n",
    "mass_cutoffs = [100,150,200,250,300]\n",
    "\n",
    "for mass in mass_cutoffs:\n",
    "    test_ids = [i for i, x in enumerate(solute_masses) if x > mass]\n",
    "    size = len(test_ids)\n",
    "    exp_name = \"LOMO >\"+str(mass)+'g/mol'\n",
    "    print('testing >'+str(mass)+'g/mol ...')\n",
    "    for m in models:\n",
    "        data = datasets[m.data_type]\n",
    "\n",
    "        res = b.fit(m, data, test_ids, exp_name)\n",
    "\n",
    "        results['Model'].append(m.name)\n",
    "        results['LOMO mass cutoff'].append(mass)\n",
    "        results['Test size'].append(size)\n",
    "        results['MAE'].append(res[0])\n",
    "        results['RMSE'].append(res[1])\n",
    "\n",
    "LOMO_test = pd.DataFrame(results)\n",
    "print(LOMO_test)"
   ]
  },
  {
   "cell_type": "code",
   "execution_count": 489,
   "metadata": {},
   "outputs": [
    {
     "name": "stdout",
     "output_type": "stream",
     "text": [
      "testing >0 ...\n"
     ]
    },
    {
     "name": "stderr",
     "output_type": "stream",
     "text": [
      "/Users/u6676643/opt/anaconda3/lib/python3.8/site-packages/sklearn/neural_network/_multilayer_perceptron.py:582: ConvergenceWarning: Stochastic Optimizer: Maximum iterations (200) reached and the optimization hasn't converged yet.\n",
      "  warnings.warn(\n"
     ]
    },
    {
     "name": "stdout",
     "output_type": "stream",
     "text": [
      "testing >1 ...\n"
     ]
    },
    {
     "name": "stderr",
     "output_type": "stream",
     "text": [
      "/Users/u6676643/opt/anaconda3/lib/python3.8/site-packages/sklearn/neural_network/_multilayer_perceptron.py:582: ConvergenceWarning: Stochastic Optimizer: Maximum iterations (200) reached and the optimization hasn't converged yet.\n",
      "  warnings.warn(\n"
     ]
    },
    {
     "name": "stdout",
     "output_type": "stream",
     "text": [
      "                             Model  LOCO charge  Test size    MAE   RMSE\n",
      "0                           D-MPNN            0        580 10.705 14.525\n",
      "1            D-MPNN with attention            0        580 11.875 16.238\n",
      "2                             MPNN            0        580 10.966 14.932\n",
      "3              MPNN with attention            0        580 11.154 14.462\n",
      "4                           RNN+NN            0        580 11.043 15.091\n",
      "5            RNN+NN with attention            0        580 11.019 15.055\n",
      "6   Random forest with descriptors            0        580 12.764 17.393\n",
      "7          Random forest with ECFP            0        580 12.113 16.629\n",
      "8             MLP with descriptors            0        580 20.304 26.066\n",
      "9                    MLP with ECFP            0        580 11.574 16.476\n",
      "10        RGBoost with descriptors            0        580 13.268 17.729\n",
      "11               RGBoost with ECFP            0        580 12.453 17.110\n",
      "12                          D-MPNN            1        313  9.267 10.799\n",
      "13           D-MPNN with attention            1        313  7.158  8.603\n",
      "14                            MPNN            1        313  7.606  9.050\n",
      "15             MPNN with attention            1        313 11.008 13.270\n",
      "16                          RNN+NN            1        313  7.817  9.259\n",
      "17           RNN+NN with attention            1        313  7.803  9.234\n",
      "18  Random forest with descriptors            1        313  8.061  9.779\n",
      "19         Random forest with ECFP            1        313 10.109 11.386\n",
      "20            MLP with descriptors            1        313 23.273 28.944\n",
      "21                   MLP with ECFP            1        313  8.452  9.830\n",
      "22        RGBoost with descriptors            1        313  8.471 10.744\n",
      "23               RGBoost with ECFP            1        313  9.065 10.522\n"
     ]
    }
   ],
   "source": [
    "#LOCO\n",
    "results = ddict(list)\n",
    "solute_charges = [GetFormalCharge(Chem.MolFromSmiles(mol)) for mol in solute]\n",
    "charge_list = [0,1]\n",
    "\n",
    "for charge in charge_list:\n",
    "    test_ids = [i for i, x in enumerate(solute_charges) if x == charge]\n",
    "    size = len(test_ids)\n",
    "    exp_name = \"LOCO \"+str(charge)\n",
    "    print('testing >'+str(charge)+' ...')\n",
    "    for m in models:\n",
    "        data = datasets[m.data_type]\n",
    "\n",
    "        res = b.fit(m, data, test_ids, exp_name)\n",
    "\n",
    "        results['Model'].append(m.name)\n",
    "        results['LOCO charge'].append(charge)\n",
    "        results['Test size'].append(size)\n",
    "        results['MAE'].append(res[0])\n",
    "        results['RMSE'].append(res[1])\n",
    "\n",
    "LOCO_test = pd.DataFrame(results)\n",
    "print(LOCO_test)"
   ]
  },
  {
   "cell_type": "code",
   "execution_count": 547,
   "metadata": {},
   "outputs": [
    {
     "name": "stdout",
     "output_type": "stream",
     "text": [
      "tensor(0.9517, grad_fn=<MseLossBackward>)\n",
      "tensor(0.9359, grad_fn=<MseLossBackward>)\n",
      "tensor(0.9191, grad_fn=<MseLossBackward>)\n",
      "tensor(0.9450, grad_fn=<MseLossBackward>)\n",
      "tensor(0.9377, grad_fn=<MseLossBackward>)\n",
      "tensor(0.9367, grad_fn=<MseLossBackward>)\n",
      "tensor(0.9363, grad_fn=<MseLossBackward>)\n",
      "tensor(0.9201, grad_fn=<MseLossBackward>)\n",
      "tensor(0.9213, grad_fn=<MseLossBackward>)\n",
      "tensor(0.9266, grad_fn=<MseLossBackward>)\n",
      "tensor(0.9427, grad_fn=<MseLossBackward>)\n",
      "tensor(0.9347, grad_fn=<MseLossBackward>)\n",
      "tensor(0.9403, grad_fn=<MseLossBackward>)\n",
      "tensor(0.9269, grad_fn=<MseLossBackward>)\n",
      "Early stopping\n",
      "13\n"
     ]
    }
   ],
   "source": [
    "data = datasets[\"SMILES\"]\n",
    "MPNN.num_epochs=50\n",
    "res = b.fit(MPNN, data, holdout_ids, \"test\")"
   ]
  },
  {
   "cell_type": "code",
   "execution_count": 593,
   "metadata": {},
   "outputs": [
    {
     "name": "stdout",
     "output_type": "stream",
     "text": [
      "testing D-MPNN ...\n",
      "Early stopping\n",
      "testing D-MPNN with attention ...\n",
      "Early stopping\n",
      "testing MPNN ...\n",
      "Early stopping\n",
      "testing MPNN with attention ...\n",
      "Early stopping\n",
      "testing RNN+NN ...\n",
      "Early stopping\n",
      "testing RNN+NN with attention ...\n",
      "Early stopping\n",
      "testing Random forest with descriptors ...\n",
      "testing Random forest with ECFP ...\n",
      "testing MLP with descriptors ...\n"
     ]
    },
    {
     "name": "stderr",
     "output_type": "stream",
     "text": [
      "/Users/u6676643/opt/anaconda3/lib/python3.8/site-packages/sklearn/neural_network/_multilayer_perceptron.py:582: ConvergenceWarning: Stochastic Optimizer: Maximum iterations (200) reached and the optimization hasn't converged yet.\n",
      "  warnings.warn(\n"
     ]
    },
    {
     "name": "stdout",
     "output_type": "stream",
     "text": [
      "testing MLP with ECFP ...\n",
      "testing RGBoost with descriptors ...\n",
      "testing RGBoost with ECFP ...\n",
      "                             Model    MAE   RMSE\n",
      "0                           D-MPNN  8.522 11.854\n",
      "1            D-MPNN with attention 11.852 16.725\n",
      "2                             MPNN  8.454 11.492\n",
      "3              MPNN with attention 12.617 15.898\n",
      "4                           RNN+NN  8.569 11.527\n",
      "5            RNN+NN with attention  8.615 11.529\n",
      "6   Random forest with descriptors  2.344  3.603\n",
      "7          Random forest with ECFP  2.760  4.122\n",
      "8             MLP with descriptors  5.981  9.205\n",
      "9                    MLP with ECFP  2.634  3.827\n",
      "10        RGBoost with descriptors  2.004  3.045\n",
      "11               RGBoost with ECFP  2.448  3.938\n"
     ]
    }
   ],
   "source": [
    "exp_name = \"Holdout test\"\n",
    "results = ddict(list)\n",
    "for m in models:\n",
    "    print('testing '+m.name+' ...')\n",
    "    data = datasets[m.data_type]\n",
    "    \n",
    "    res = b.fit(m, data, holdout_ids, exp_name, datasets)\n",
    "    \n",
    "    results['Model'].append(m.name)\n",
    "    results['MAE'].append(res[0])\n",
    "    results['RMSE'].append(res[1])\n",
    "\n",
    "holdout_test = pd.DataFrame(results)\n",
    "print(holdout_test)"
   ]
  },
  {
   "cell_type": "code",
   "execution_count": 585,
   "metadata": {},
   "outputs": [
    {
     "data": {
      "text/plain": [
       "(893,)"
      ]
     },
     "execution_count": 585,
     "metadata": {},
     "output_type": "execute_result"
    }
   ],
   "source": [
    "outputs.reshape(893,).shape"
   ]
  },
  {
   "cell_type": "code",
   "execution_count": 595,
   "metadata": {
    "tags": []
   },
   "outputs": [
    {
     "name": "stdout",
     "output_type": "stream",
     "text": [
      "     targets  D-MPNN  D-MPNN with attention   MPNN  MPNN with attention  \\\n",
      "0      8.800  14.015                 15.317 16.841               18.355   \n",
      "1     43.600  13.418                 14.831 18.160               13.370   \n",
      "2     13.500  14.470                 12.823 15.667               13.871   \n",
      "3      7.960  15.489                 14.702 15.080               16.036   \n",
      "4     10.100  14.685                 14.831 15.553               17.027   \n",
      "..       ...     ...                    ...    ...                  ...   \n",
      "888   32.200  13.166                 12.533 15.632               18.889   \n",
      "889    3.380  13.762                 14.463 16.320               16.359   \n",
      "890   34.700  13.077                 15.255 14.112               17.713   \n",
      "891   42.800  14.248                 13.928 15.808               16.691   \n",
      "892    7.467  13.285                 12.907 15.202               21.176   \n",
      "\n",
      "     RNN+NN  RNN+NN with attention  Random forest with descriptors  \\\n",
      "0    15.940                 16.077                          10.303   \n",
      "1    15.823                 16.146                          42.553   \n",
      "2    15.758                 16.015                          12.557   \n",
      "3    15.866                 15.948                           8.030   \n",
      "4    15.879                 15.853                           9.321   \n",
      "..      ...                    ...                             ...   \n",
      "888  16.019                 16.091                          33.834   \n",
      "889  16.208                 15.980                           5.079   \n",
      "890  15.996                 16.068                          36.272   \n",
      "891  15.927                 15.967                          39.835   \n",
      "892  16.133                 15.916                           6.983   \n",
      "\n",
      "     Random forest with ECFP  MLP with descriptors  MLP with ECFP  \\\n",
      "0                     11.771                10.701          8.805   \n",
      "1                     40.526                43.066         43.635   \n",
      "2                     13.281                13.433         13.548   \n",
      "3                      8.471                 7.180          7.822   \n",
      "4                      9.864                10.054         10.206   \n",
      "..                       ...                   ...            ...   \n",
      "888                   33.951                31.001         32.157   \n",
      "889                    4.443                 2.963          3.528   \n",
      "890                   34.414                34.296         34.781   \n",
      "891                   39.656                42.534         42.596   \n",
      "892                    7.493                 6.840          7.834   \n",
      "\n",
      "     RGBoost with descriptors  RGBoost with ECFP  \n",
      "0                       8.861             10.181  \n",
      "1                      43.573             42.862  \n",
      "2                      13.482             13.637  \n",
      "3                       8.064              8.844  \n",
      "4                      10.085              9.577  \n",
      "..                        ...                ...  \n",
      "888                    32.199             32.276  \n",
      "889                     3.406              4.442  \n",
      "890                    34.689             34.856  \n",
      "891                    42.789             41.833  \n",
      "892                     7.373              7.190  \n",
      "\n",
      "[893 rows x 13 columns]\n"
     ]
    }
   ],
   "source": [
    "results = ddict(list)\n",
    "results['targets'] = datasets['ECFP'][1]\n",
    "for m in models:\n",
    "    data = datasets[m.data_type]\n",
    "    _, outputs = b.predict(m, m.experiments[0], data)\n",
    "    results[m.name] = outputs.reshape(893,)\n",
    "    \n",
    "output_results = pd.DataFrame(results)\n",
    "print(output_results)"
   ]
  },
  {
   "cell_type": "code",
   "execution_count": 592,
   "metadata": {},
   "outputs": [
    {
     "data": {
      "text/plain": [
       "<module 'basicest' from '/Users/u6676643/codes/testing/basicest.py'>"
      ]
     },
     "execution_count": 592,
     "metadata": {},
     "output_type": "execute_result"
    }
   ],
   "source": [
    "imp.reload(b)"
   ]
  },
  {
   "cell_type": "code",
   "execution_count": 597,
   "metadata": {},
   "outputs": [],
   "source": [
    "output_results.to_csv('output_results.csv')"
   ]
  },
  {
   "cell_type": "code",
   "execution_count": null,
   "metadata": {},
   "outputs": [],
   "source": []
  }
 ],
 "metadata": {
  "kernelspec": {
   "display_name": "Python 3",
   "language": "python",
   "name": "python3"
  },
  "language_info": {
   "codemirror_mode": {
    "name": "ipython",
    "version": 3
   },
   "file_extension": ".py",
   "mimetype": "text/x-python",
   "name": "python",
   "nbconvert_exporter": "python",
   "pygments_lexer": "ipython3",
   "version": "3.8.5"
  }
 },
 "nbformat": 4,
 "nbformat_minor": 4
}
