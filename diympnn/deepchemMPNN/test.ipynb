{
 "cells": [
  {
   "cell_type": "code",
   "execution_count": 1,
   "metadata": {},
   "outputs": [
    {
     "name": "stderr",
     "output_type": "stream",
     "text": [
      "RDKit WARNING: [10:03:29] Enabling RDKit 2019.09.3 jupyter extensions\n"
     ]
    }
   ],
   "source": [
    "import chemprop_ish as C\n",
    "import torch\n",
    "import pandas as pd\n",
    "import torch.nn as nn"
   ]
  },
  {
   "cell_type": "code",
   "execution_count": 9,
   "metadata": {},
   "outputs": [
    {
     "name": "stdout",
     "output_type": "stream",
     "text": [
      "tensor([[0.0839],\n",
      "        [0.0198],\n",
      "        [0.0560]], grad_fn=<AddmmBackward>)\n",
      "Epoch: 0\n",
      "Loss: tensor(49.6656, grad_fn=<MseLossBackward>)\n",
      "Epoch: 1\n",
      "Loss: tensor(50.8828, grad_fn=<MseLossBackward>)\n",
      "Epoch: 2\n",
      "Loss: tensor(56.8960, grad_fn=<MseLossBackward>)\n",
      "Epoch: 3\n",
      "Loss: tensor(64.9495, grad_fn=<MseLossBackward>)\n",
      "Epoch: 4\n",
      "Loss: tensor(70.9275, grad_fn=<MseLossBackward>)\n"
     ]
    }
   ],
   "source": [
    "#TESTING SINGLE MPNN\n",
    "\n",
    "args = C.TrainArgs()\n",
    "args.atom_messages = False\n",
    "model = C.MPNN(args)\n",
    "out = model(['CC(=O)C','C','O'])\n",
    "print(out)\n",
    "\n",
    "data = pd.read_csv('bordwell_pka.csv')\n",
    "data.columns = ['SMILES','pka']\n",
    "SMILES = data['SMILES'].tolist()\n",
    "pka = data['pka'].tolist()\n",
    "pka = [torch.Tensor([x]) for x in pka]\n",
    "\n",
    "optimizer = torch.optim.Adam(model.parameters(), lr=1e-4)\n",
    "loss_function = nn.MSELoss()\n",
    "for epoch in range(0, 5):\n",
    "    for x in range(len(SMILES)):\n",
    "        mol = [SMILES[x]]\n",
    "        target = pka[x]\n",
    "        optimizer.zero_grad()\n",
    "        output = model(mol)[0]\n",
    "        loss = loss_function(output, target)\n",
    "        loss.backward()\n",
    "        optimizer.step()\n",
    "    print('Epoch:', epoch)\n",
    "    print('Loss:', loss)"
   ]
  },
  {
   "cell_type": "code",
   "execution_count": 10,
   "metadata": {},
   "outputs": [
    {
     "name": "stdout",
     "output_type": "stream",
     "text": [
      "Epoch: 0\n",
      "Loss: 147.4577178955078\n",
      "Epoch: 1\n",
      "Loss: 1.0285344123840332\n",
      "Epoch: 2\n",
      "Loss: 0.03546340391039848\n",
      "Epoch: 3\n",
      "Loss: 0.005249371286481619\n",
      "Epoch: 4\n",
      "Loss: 0.06924451887607574\n",
      "Epoch: 5\n",
      "Loss: 1.0274475812911987\n",
      "Epoch: 6\n",
      "Loss: 0.24772685766220093\n",
      "Epoch: 7\n",
      "Loss: 0.3669643700122833\n",
      "Epoch: 8\n",
      "Loss: 1.0308297872543335\n",
      "Epoch: 9\n",
      "Loss: 0.31833070516586304\n",
      "Epoch: 10\n",
      "Loss: 1.7746273279190063\n",
      "Epoch: 11\n",
      "Loss: 1.2564406394958496\n",
      "Epoch: 12\n",
      "Loss: 10.210241317749023\n",
      "Epoch: 13\n",
      "Loss: 5.803338050842285\n",
      "Epoch: 14\n",
      "Loss: 2.0440008640289307\n",
      "Epoch: 15\n",
      "Loss: 9.229966163635254\n",
      "Epoch: 16\n",
      "Loss: 5.338027477264404\n",
      "Epoch: 17\n",
      "Loss: 13.310317039489746\n",
      "Epoch: 18\n",
      "Loss: 8.062491416931152\n",
      "Epoch: 19\n",
      "Loss: 15.149951934814453\n"
     ]
    }
   ],
   "source": [
    "#TESTING DOUBLE MPNN\n",
    "\n",
    "args = C.TrainArgs()\n",
    "data = pd.read_csv('ETMdata.csv')\n",
    "solute = data['solute'].tolist()\n",
    "solvent = data['solvent'].tolist()\n",
    "pka = data['pka'].tolist()\n",
    "X_Y = [(x,y) for x,y in zip(solute,solvent)]\n",
    "pka = [torch.Tensor([x]) for x in pka]\n",
    "dmodel = C.double_MPNN(args)\n",
    "\n",
    "optimizer = torch.optim.Adam(dmodel.parameters(), lr=1e-4)\n",
    "loss_function = nn.MSELoss()\n",
    "for epoch in range(0, 20):\n",
    "    for x in range(len(X_Y)):\n",
    "        mols = [X_Y[x]]\n",
    "        target = pka[x]\n",
    "        optimizer.zero_grad()\n",
    "        output = dmodel(mols)[0]\n",
    "        loss = loss_function(output, target)\n",
    "        loss.backward()\n",
    "        optimizer.step()\n",
    "    print('Epoch:', epoch)\n",
    "    print('Loss:', loss.item())"
   ]
  },
  {
   "cell_type": "code",
   "execution_count": 36,
   "metadata": {},
   "outputs": [],
   "source": [
    "#TESTING DOUBLE MPNN WITH INTERACTION (CIGIN)\n",
    "\n",
    "args = C.TrainArgs()\n",
    "args.interaction = True\n",
    "\n",
    "data = pd.read_csv('ETMdata.csv')\n",
    "solute = data['solute'].tolist()\n",
    "solvent = data['solvent'].tolist()\n",
    "pka = data['pka'].tolist()\n",
    "X_Y = [(x,y) for x,y in zip(solute,solvent)]\n",
    "pka = [torch.Tensor([x]) for x in pka]\n",
    "dmodel = C.double_MPNN(args)"
   ]
  },
  {
   "cell_type": "code",
   "execution_count": 30,
   "metadata": {},
   "outputs": [
    {
     "name": "stdout",
     "output_type": "stream",
     "text": [
      "tensor([[0.],\n",
      "        [0.],\n",
      "        [0.],\n",
      "        [0.],\n",
      "        [0.]], grad_fn=<ReluBackward0>)\n"
     ]
    }
   ],
   "source": [
    "print(dmodel(X_Y[0:5]))"
   ]
  },
  {
   "cell_type": "code",
   "execution_count": 15,
   "metadata": {},
   "outputs": [
    {
     "name": "stdout",
     "output_type": "stream",
     "text": [
      "Epoch: 0\n",
      "Loss: 0.7457123398780823\n",
      "Epoch: 1\n",
      "Loss: 19.77728843688965\n",
      "Epoch: 2\n",
      "Loss: 17.387468338012695\n",
      "Epoch: 3\n",
      "Loss: 21.935728073120117\n",
      "Epoch: 4\n",
      "Loss: 19.714401245117188\n",
      "Epoch: 5\n",
      "Loss: 13.222643852233887\n",
      "Epoch: 6\n",
      "Loss: 14.366247177124023\n",
      "Epoch: 7\n",
      "Loss: 8.343389511108398\n",
      "Epoch: 8\n",
      "Loss: 14.248923301696777\n",
      "Epoch: 9\n",
      "Loss: 9.019465446472168\n",
      "Epoch: 10\n",
      "Loss: 16.309341430664062\n",
      "Epoch: 11\n",
      "Loss: 19.873170852661133\n",
      "Epoch: 12\n",
      "Loss: 18.615921020507812\n",
      "Epoch: 13\n",
      "Loss: 8.89854907989502\n",
      "Epoch: 14\n",
      "Loss: 23.737348556518555\n",
      "Epoch: 15\n",
      "Loss: 22.30984115600586\n",
      "Epoch: 16\n",
      "Loss: 18.19049644470215\n",
      "Epoch: 17\n",
      "Loss: 21.16509246826172\n",
      "Epoch: 18\n",
      "Loss: 6.100868225097656\n",
      "Epoch: 19\n",
      "Loss: 14.546182632446289\n"
     ]
    }
   ],
   "source": [
    "optimizer = torch.optim.Adam(dmodel.parameters(), lr=1e-4)\n",
    "loss_function = torch.nn.MSELoss()\n",
    "for epoch in range(0, 20):\n",
    "    for x in range(len(X_Y)):\n",
    "        mols = [X_Y[x]]\n",
    "        target = pka[x]\n",
    "        optimizer.zero_grad()\n",
    "        output = dmodel(mols)[0]\n",
    "        loss = loss_function(output, target)\n",
    "        loss.backward()\n",
    "        optimizer.step()\n",
    "    print('Epoch:', epoch)\n",
    "    print('Loss:', loss.item())"
   ]
  },
  {
   "cell_type": "code",
   "execution_count": 48,
   "metadata": {},
   "outputs": [
    {
     "name": "stdout",
     "output_type": "stream",
     "text": [
      "[('C1=CC(=CC(=C1)Cl)N', 'CS(=O)C'), ('C1=CC=C(C=C1)S(=O)(=O)N', 'CS(=O)C'), ('CCNCC', 'O')]\n",
      "(tensor([2.9800]), tensor([16.1000]), tensor([10.9800]))\n"
     ]
    }
   ],
   "source": [
    "from more_itertools import chunked\n",
    "from random import shuffle\n",
    "\n",
    "data = list(zip(X_Y,pka))\n",
    "shuffle(data)\n",
    "data = list(chunked(data,3))\n",
    "xy, z = zip(*data[0])\n",
    "print(list(xy))\n",
    "print(z)"
   ]
  },
  {
   "cell_type": "code",
   "execution_count": 114,
   "metadata": {},
   "outputs": [
    {
     "name": "stdout",
     "output_type": "stream",
     "text": [
      "O\n",
      "CO\n",
      "O\n",
      "O\n",
      "CS(=O)C\n",
      "CS(=O)C\n",
      "CO\n",
      "CO\n",
      "CC#N\n",
      "CC#N\n",
      "O\n",
      "CC#N\n",
      "CC#N\n",
      "O\n",
      "O\n",
      "Epoch: 0\n",
      "Loss: 20.281612396240234\n"
     ]
    }
   ],
   "source": [
    "#list batch\n",
    "\n",
    "optimizer = torch.optim.Adam(dmodel.parameters(), lr=1e-4)\n",
    "loss_function = torch.nn.MSELoss()\n",
    "data = list(zip(X_Y,pka))\n",
    "for epoch in range(0, 1):\n",
    "    shuffle(data)\n",
    "    batched_data = list(chunked(data,5))\n",
    "    for x in range(len(batched_data)):\n",
    "        xy, z = zip(*batched_data[x])\n",
    "        mols = xy\n",
    "        targets = torch.Tensor(z)\n",
    "        optimizer.zero_grad()\n",
    "        output = dmodel(mols)[0]\n",
    "        loss = loss_function(output, targets)\n",
    "        loss.backward()\n",
    "        optimizer.step()\n",
    "    print('Epoch:', epoch)\n",
    "    print('Loss:', loss.item())"
   ]
  },
  {
   "cell_type": "code",
   "execution_count": 75,
   "metadata": {},
   "outputs": [],
   "source": [
    "import numpy as np\n",
    "from numpy.random import shuffle"
   ]
  },
  {
   "cell_type": "code",
   "execution_count": 117,
   "metadata": {},
   "outputs": [
    {
     "data": {
      "text/plain": [
       "array([4.44, 11.4, 4.41, 20.3, 4.22], dtype=object)"
      ]
     },
     "execution_count": 117,
     "metadata": {},
     "output_type": "execute_result"
    }
   ],
   "source": [
    "data = pd.read_csv('ETMdata.csv')\n",
    "data = data.to_numpy()\n",
    "batched_data = np.array_split(data,15)\n",
    "batched_data[0][:,2]"
   ]
  },
  {
   "cell_type": "code",
   "execution_count": 102,
   "metadata": {},
   "outputs": [],
   "source": [
    "#numpy batch\n",
    "\n",
    "optimizer = torch.optim.Adam(dmodel.parameters(), lr=1e-4)\n",
    "loss_function = torch.nn.MSELoss()\n",
    "\n",
    "shuffle(data)\n",
    "train,test = data[:60,:], data[60:,:]\n",
    "test_xy, test_z = test[:,[0,1]], test[:,2]\n",
    "\n",
    "def train_f():\n",
    "    for epoch in range(0, 100):\n",
    "        shuffle(train)\n",
    "        batches = np.array_split(train,15)\n",
    "        for x in range(15-1):\n",
    "            mols = batches[x][:,[0,1]]\n",
    "            targets = torch.Tensor(batches[x][:,2].astype('float64'))\n",
    "            optimizer.zero_grad()\n",
    "            output = dmodel(mols)[0]\n",
    "            loss = loss_function(output, targets)\n",
    "            loss.backward()\n",
    "            optimizer.step()\n",
    "        if epoch % 10 == 0:\n",
    "            print('Epoch:', epoch)\n",
    "            test_output = dmodel(test_xy)\n",
    "            loss = loss_function(test_output, torch.Tensor(test_z.astype('float64')))\n",
    "            print('Loss:', loss.item())"
   ]
  },
  {
   "cell_type": "code",
   "execution_count": 106,
   "metadata": {},
   "outputs": [],
   "source": [
    "def train_f():\n",
    "    shuffle(train)\n",
    "    batches = np.array_split(train,15)\n",
    "    for x in range(15-1):\n",
    "        mols = batches[x][:,[0,1]]\n",
    "        targets = torch.Tensor(batches[x][:,2].astype('float64'))\n",
    "        optimizer.zero_grad()\n",
    "        output = dmodel(mols)[0]\n",
    "        loss = loss_function(output, targets)\n",
    "        loss.backward()\n",
    "        optimizer.step()\n",
    "    print('Epoch:', epoch)\n",
    "    test_output = dmodel(test_xy)\n",
    "    loss = loss_function(test_output, torch.Tensor(test_z.astype('float64')))\n",
    "    print('Loss:', loss.item())"
   ]
  },
  {
   "cell_type": "code",
   "execution_count": 2,
   "metadata": {},
   "outputs": [],
   "source": [
    "class Dataset(torch.utils.data.Dataset):\n",
    "    def __init__(self, list_IDs, datapoints, labels):\n",
    "        self.labels = labels\n",
    "        self.datapoints = datapoints\n",
    "        self.list_IDs = list_IDs\n",
    "        \n",
    "    def __len__(self):\n",
    "        return len(self.list_IDs)\n",
    "    \n",
    "    def __getitem__(self, index):\n",
    "        ID = self.list_IDs[index]\n",
    "        \n",
    "        X = self.datapoints[ID]\n",
    "        y = self.labels[ID]\n",
    "        \n",
    "        return X, y"
   ]
  },
  {
   "cell_type": "code",
   "execution_count": 3,
   "metadata": {},
   "outputs": [],
   "source": [
    "data = pd.read_csv('ETMdata.csv')\n",
    "solute = data['solute'].tolist()\n",
    "solvent = data['solvent'].tolist()\n",
    "pka = data['pka'].tolist()\n",
    "X_Y = [[x,y] for x,y in zip(solute,solvent)]\n",
    "pka = [torch.Tensor([x]) for x in pka]"
   ]
  },
  {
   "cell_type": "code",
   "execution_count": 18,
   "metadata": {},
   "outputs": [
    {
     "ename": "IndexError",
     "evalue": "list index out of range",
     "output_type": "error",
     "traceback": [
      "\u001b[0;31m---------------------------------------------------------------------------\u001b[0m",
      "\u001b[0;31mIndexError\u001b[0m                                Traceback (most recent call last)",
      "\u001b[0;32m<ipython-input-18-4914427af03f>\u001b[0m in \u001b[0;36m<module>\u001b[0;34m\u001b[0m\n\u001b[1;32m      1\u001b[0m \u001b[0mdataset\u001b[0m \u001b[0;34m=\u001b[0m \u001b[0mDataset\u001b[0m\u001b[0;34m(\u001b[0m\u001b[0;34m[\u001b[0m\u001b[0;36m0\u001b[0m\u001b[0;34m,\u001b[0m\u001b[0;36m1\u001b[0m\u001b[0;34m,\u001b[0m\u001b[0;36m2\u001b[0m\u001b[0;34m]\u001b[0m\u001b[0;34m,\u001b[0m \u001b[0mX_Y\u001b[0m\u001b[0;34m,\u001b[0m \u001b[0mpka\u001b[0m\u001b[0;34m)\u001b[0m\u001b[0;34m\u001b[0m\u001b[0;34m\u001b[0m\u001b[0m\n\u001b[0;32m----> 2\u001b[0;31m \u001b[0mprint\u001b[0m\u001b[0;34m(\u001b[0m\u001b[0mdataset\u001b[0m\u001b[0;34m[\u001b[0m\u001b[0;36m3\u001b[0m\u001b[0;34m]\u001b[0m\u001b[0;34m)\u001b[0m\u001b[0;34m\u001b[0m\u001b[0;34m\u001b[0m\u001b[0m\n\u001b[0m",
      "\u001b[0;32m<ipython-input-2-4384c9707a1e>\u001b[0m in \u001b[0;36m__getitem__\u001b[0;34m(self, index)\u001b[0m\n\u001b[1;32m      9\u001b[0m \u001b[0;34m\u001b[0m\u001b[0m\n\u001b[1;32m     10\u001b[0m     \u001b[0;32mdef\u001b[0m \u001b[0m__getitem__\u001b[0m\u001b[0;34m(\u001b[0m\u001b[0mself\u001b[0m\u001b[0;34m,\u001b[0m \u001b[0mindex\u001b[0m\u001b[0;34m)\u001b[0m\u001b[0;34m:\u001b[0m\u001b[0;34m\u001b[0m\u001b[0;34m\u001b[0m\u001b[0m\n\u001b[0;32m---> 11\u001b[0;31m         \u001b[0mID\u001b[0m \u001b[0;34m=\u001b[0m \u001b[0mself\u001b[0m\u001b[0;34m.\u001b[0m\u001b[0mlist_IDs\u001b[0m\u001b[0;34m[\u001b[0m\u001b[0mindex\u001b[0m\u001b[0;34m]\u001b[0m\u001b[0;34m\u001b[0m\u001b[0;34m\u001b[0m\u001b[0m\n\u001b[0m\u001b[1;32m     12\u001b[0m \u001b[0;34m\u001b[0m\u001b[0m\n\u001b[1;32m     13\u001b[0m         \u001b[0mX\u001b[0m \u001b[0;34m=\u001b[0m \u001b[0mself\u001b[0m\u001b[0;34m.\u001b[0m\u001b[0mdatapoints\u001b[0m\u001b[0;34m[\u001b[0m\u001b[0mID\u001b[0m\u001b[0;34m]\u001b[0m\u001b[0;34m\u001b[0m\u001b[0;34m\u001b[0m\u001b[0m\n",
      "\u001b[0;31mIndexError\u001b[0m: list index out of range"
     ]
    }
   ],
   "source": [
    "dataset = Dataset([0,1,2], X_Y, pka)\n",
    "print(dataset[3])"
   ]
  },
  {
   "cell_type": "code",
   "execution_count": 5,
   "metadata": {},
   "outputs": [],
   "source": [
    "training_generator = torch.utils.data.DataLoader(dataset, batch_size=5, shuffle=True)"
   ]
  },
  {
   "cell_type": "code",
   "execution_count": 14,
   "metadata": {},
   "outputs": [
    {
     "name": "stdout",
     "output_type": "stream",
     "text": [
      "Epoch: 0\n",
      "torch.Size([75, 1])\n",
      "Loss: 132.60633850097656\n"
     ]
    },
    {
     "name": "stderr",
     "output_type": "stream",
     "text": [
      "/Users/u6676643/opt/anaconda3/lib/python3.8/site-packages/torch/nn/modules/loss.py:446: UserWarning: Using a target size (torch.Size([75])) that is different to the input size (torch.Size([75, 1])). This will likely lead to incorrect results due to broadcasting. Please ensure they have the same size.\n",
      "  return F.mse_loss(input, target, reduction=self.reduction)\n"
     ]
    },
    {
     "name": "stdout",
     "output_type": "stream",
     "text": [
      "Epoch: 100\n",
      "torch.Size([75, 1])\n",
      "Loss: 49.01560592651367\n",
      "Epoch: 200\n",
      "torch.Size([75, 1])\n",
      "Loss: 53.052371978759766\n",
      "Epoch: 300\n",
      "torch.Size([75, 1])\n",
      "Loss: 54.99067306518555\n",
      "Epoch: 400\n",
      "torch.Size([75, 1])\n",
      "Loss: 57.39252853393555\n",
      "Epoch: 500\n",
      "torch.Size([75, 1])\n",
      "Loss: 52.931949615478516\n",
      "Epoch: 600\n",
      "torch.Size([75, 1])\n",
      "Loss: 55.98434829711914\n",
      "Epoch: 700\n",
      "torch.Size([75, 1])\n",
      "Loss: 57.607444763183594\n",
      "Epoch: 800\n",
      "torch.Size([75, 1])\n",
      "Loss: 58.209354400634766\n",
      "Epoch: 900\n",
      "torch.Size([75, 1])\n",
      "Loss: 56.79232406616211\n"
     ]
    }
   ],
   "source": [
    "args = C.TrainArgs()\n",
    "args.interaction = True\n",
    "dmodel = C.double_MPNN(args)\n",
    "\n",
    "optimizer = torch.optim.Adam(dmodel.parameters(), lr=1e-4)\n",
    "loss_function = torch.nn.MSELoss()\n",
    "num_epochs = 1000\n",
    "\n",
    "for epoch in range(num_epochs):\n",
    "    for local_batch, local_labels in training_generator:\n",
    "        mols = local_batch\n",
    "        targets = local_labels\n",
    "        optimizer.zero_grad()\n",
    "        output = dmodel(mols)\n",
    "        loss = loss_function(output, targets)\n",
    "        loss.backward()\n",
    "        optimizer.step()\n",
    "    if epoch % 100 == 0:\n",
    "        print('Epoch:', epoch)\n",
    "        testing = [[X_Y[x][0] for x in range(len(X_Y))],[X_Y[x][1] for x in range(len(X_Y))]]\n",
    "        outputs = dmodel(testing)\n",
    "        loss = loss_function(outputs, torch.Tensor(pka))\n",
    "        print('Loss:', loss.item())"
   ]
  },
  {
   "cell_type": "code",
   "execution_count": 31,
   "metadata": {},
   "outputs": [],
   "source": [
    "args1 = C.TrainArgs()\n",
    "args2 = C.TrainArgs()\n",
    "args1.__dict__.update({\"depth\":10, \"dropout\":0.5})"
   ]
  },
  {
   "cell_type": "code",
   "execution_count": 27,
   "metadata": {},
   "outputs": [
    {
     "name": "stdout",
     "output_type": "stream",
     "text": [
      "{'depth': 10, 'dropout': 0.5}\n",
      "128\n",
      "3\n"
     ]
    }
   ],
   "source": [
    "print(args1.__dict__)\n",
    "print(args1.hidden_size)\n",
    "print(args2.depth)"
   ]
  },
  {
   "cell_type": "code",
   "execution_count": null,
   "metadata": {},
   "outputs": [],
   "source": []
  }
 ],
 "metadata": {
  "kernelspec": {
   "display_name": "Python 3",
   "language": "python",
   "name": "python3"
  },
  "language_info": {
   "codemirror_mode": {
    "name": "ipython",
    "version": 3
   },
   "file_extension": ".py",
   "mimetype": "text/x-python",
   "name": "python",
   "nbconvert_exporter": "python",
   "pygments_lexer": "ipython3",
   "version": "3.8.5"
  }
 },
 "nbformat": 4,
 "nbformat_minor": 4
}
