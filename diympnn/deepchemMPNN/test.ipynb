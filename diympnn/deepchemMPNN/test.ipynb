{
 "cells": [
  {
   "cell_type": "code",
   "execution_count": 8,
   "metadata": {},
   "outputs": [],
   "source": [
    "import chemprop_ish as C\n",
    "import torch\n",
    "import pandas as pd\n",
    "import torch.nn as nn"
   ]
  },
  {
   "cell_type": "code",
   "execution_count": 9,
   "metadata": {},
   "outputs": [
    {
     "name": "stdout",
     "output_type": "stream",
     "text": [
      "tensor([[0.0839],\n",
      "        [0.0198],\n",
      "        [0.0560]], grad_fn=<AddmmBackward>)\n",
      "Epoch: 0\n",
      "Loss: tensor(49.6656, grad_fn=<MseLossBackward>)\n",
      "Epoch: 1\n",
      "Loss: tensor(50.8828, grad_fn=<MseLossBackward>)\n",
      "Epoch: 2\n",
      "Loss: tensor(56.8960, grad_fn=<MseLossBackward>)\n",
      "Epoch: 3\n",
      "Loss: tensor(64.9495, grad_fn=<MseLossBackward>)\n",
      "Epoch: 4\n",
      "Loss: tensor(70.9275, grad_fn=<MseLossBackward>)\n"
     ]
    }
   ],
   "source": [
    "#TESTING SINGLE MPNN\n",
    "\n",
    "args = C.TrainArgs()\n",
    "args.atom_messages = False\n",
    "model = C.MPNN(args)\n",
    "out = model(['CC(=O)C','C','O'])\n",
    "print(out)\n",
    "\n",
    "data = pd.read_csv('bordwell_pka.csv')\n",
    "data.columns = ['SMILES','pka']\n",
    "SMILES = data['SMILES'].tolist()\n",
    "pka = data['pka'].tolist()\n",
    "pka = [torch.Tensor([x]) for x in pka]\n",
    "\n",
    "optimizer = torch.optim.Adam(model.parameters(), lr=1e-4)\n",
    "loss_function = nn.MSELoss()\n",
    "for epoch in range(0, 5):\n",
    "    for x in range(len(SMILES)):\n",
    "        mol = [SMILES[x]]\n",
    "        target = pka[x]\n",
    "        optimizer.zero_grad()\n",
    "        output = model(mol)[0]\n",
    "        loss = loss_function(output, target)\n",
    "        loss.backward()\n",
    "        optimizer.step()\n",
    "    print('Epoch:', epoch)\n",
    "    print('Loss:', loss)"
   ]
  },
  {
   "cell_type": "code",
   "execution_count": 10,
   "metadata": {},
   "outputs": [
    {
     "name": "stdout",
     "output_type": "stream",
     "text": [
      "Epoch: 0\n",
      "Loss: 147.4577178955078\n",
      "Epoch: 1\n",
      "Loss: 1.0285344123840332\n",
      "Epoch: 2\n",
      "Loss: 0.03546340391039848\n",
      "Epoch: 3\n",
      "Loss: 0.005249371286481619\n",
      "Epoch: 4\n",
      "Loss: 0.06924451887607574\n",
      "Epoch: 5\n",
      "Loss: 1.0274475812911987\n",
      "Epoch: 6\n",
      "Loss: 0.24772685766220093\n",
      "Epoch: 7\n",
      "Loss: 0.3669643700122833\n",
      "Epoch: 8\n",
      "Loss: 1.0308297872543335\n",
      "Epoch: 9\n",
      "Loss: 0.31833070516586304\n",
      "Epoch: 10\n",
      "Loss: 1.7746273279190063\n",
      "Epoch: 11\n",
      "Loss: 1.2564406394958496\n",
      "Epoch: 12\n",
      "Loss: 10.210241317749023\n",
      "Epoch: 13\n",
      "Loss: 5.803338050842285\n",
      "Epoch: 14\n",
      "Loss: 2.0440008640289307\n",
      "Epoch: 15\n",
      "Loss: 9.229966163635254\n",
      "Epoch: 16\n",
      "Loss: 5.338027477264404\n",
      "Epoch: 17\n",
      "Loss: 13.310317039489746\n",
      "Epoch: 18\n",
      "Loss: 8.062491416931152\n",
      "Epoch: 19\n",
      "Loss: 15.149951934814453\n"
     ]
    }
   ],
   "source": [
    "#TESTING DOUBLE MPNN\n",
    "\n",
    "args = C.TrainArgs()\n",
    "data = pd.read_csv('ETMdata.csv')\n",
    "solute = data['solute'].tolist()\n",
    "solvent = data['solvent'].tolist()\n",
    "pka = data['pka'].tolist()\n",
    "X_Y = [(x,y) for x,y in zip(solute,solvent)]\n",
    "pka = [torch.Tensor([x]) for x in pka]\n",
    "dmodel = C.double_MPNN(args)\n",
    "\n",
    "optimizer = torch.optim.Adam(dmodel.parameters(), lr=1e-4)\n",
    "loss_function = nn.MSELoss()\n",
    "for epoch in range(0, 20):\n",
    "    for x in range(len(X_Y)):\n",
    "        mols = [X_Y[x]]\n",
    "        target = pka[x]\n",
    "        optimizer.zero_grad()\n",
    "        output = dmodel(mols)[0]\n",
    "        loss = loss_function(output, target)\n",
    "        loss.backward()\n",
    "        optimizer.step()\n",
    "    print('Epoch:', epoch)\n",
    "    print('Loss:', loss.item())"
   ]
  },
  {
   "cell_type": "code",
   "execution_count": 29,
   "metadata": {},
   "outputs": [],
   "source": [
    "#TESTING DOUBLE MPNN WITH INTERACTION (CIGIN)\n",
    "\n",
    "args = C.TrainArgs()\n",
    "args.interaction = True\n",
    "\n",
    "data = pd.read_csv('ETMdata.csv')\n",
    "solute = data['solute'].tolist()\n",
    "solvent = data['solvent'].tolist()\n",
    "pka = data['pka'].tolist()\n",
    "X_Y = [(x,y) for x,y in zip(solute,solvent)]\n",
    "pka = [torch.Tensor([x]) for x in pka]\n",
    "dmodel = C.double_MPNN(args)"
   ]
  },
  {
   "cell_type": "code",
   "execution_count": 30,
   "metadata": {},
   "outputs": [
    {
     "name": "stdout",
     "output_type": "stream",
     "text": [
      "tensor([[0.],\n",
      "        [0.],\n",
      "        [0.],\n",
      "        [0.],\n",
      "        [0.]], grad_fn=<ReluBackward0>)\n"
     ]
    }
   ],
   "source": [
    "print(dmodel(X_Y[0:5]))"
   ]
  },
  {
   "cell_type": "code",
   "execution_count": 15,
   "metadata": {},
   "outputs": [
    {
     "name": "stdout",
     "output_type": "stream",
     "text": [
      "Epoch: 0\n",
      "Loss: 0.7457123398780823\n",
      "Epoch: 1\n",
      "Loss: 19.77728843688965\n",
      "Epoch: 2\n",
      "Loss: 17.387468338012695\n",
      "Epoch: 3\n",
      "Loss: 21.935728073120117\n",
      "Epoch: 4\n",
      "Loss: 19.714401245117188\n",
      "Epoch: 5\n",
      "Loss: 13.222643852233887\n",
      "Epoch: 6\n",
      "Loss: 14.366247177124023\n",
      "Epoch: 7\n",
      "Loss: 8.343389511108398\n",
      "Epoch: 8\n",
      "Loss: 14.248923301696777\n",
      "Epoch: 9\n",
      "Loss: 9.019465446472168\n",
      "Epoch: 10\n",
      "Loss: 16.309341430664062\n",
      "Epoch: 11\n",
      "Loss: 19.873170852661133\n",
      "Epoch: 12\n",
      "Loss: 18.615921020507812\n",
      "Epoch: 13\n",
      "Loss: 8.89854907989502\n",
      "Epoch: 14\n",
      "Loss: 23.737348556518555\n",
      "Epoch: 15\n",
      "Loss: 22.30984115600586\n",
      "Epoch: 16\n",
      "Loss: 18.19049644470215\n",
      "Epoch: 17\n",
      "Loss: 21.16509246826172\n",
      "Epoch: 18\n",
      "Loss: 6.100868225097656\n",
      "Epoch: 19\n",
      "Loss: 14.546182632446289\n"
     ]
    }
   ],
   "source": [
    "optimizer = torch.optim.Adam(dmodel.parameters(), lr=1e-4)\n",
    "loss_function = torch.nn.MSELoss()\n",
    "for epoch in range(0, 20):\n",
    "    for x in range(len(X_Y)):\n",
    "        mols = [X_Y[x]]\n",
    "        target = pka[x]\n",
    "        optimizer.zero_grad()\n",
    "        output = dmodel(mols)[0]\n",
    "        loss = loss_function(output, target)\n",
    "        loss.backward()\n",
    "        optimizer.step()\n",
    "    print('Epoch:', epoch)\n",
    "    print('Loss:', loss.item())"
   ]
  },
  {
   "cell_type": "code",
   "execution_count": null,
   "metadata": {},
   "outputs": [],
   "source": []
  }
 ],
 "metadata": {
  "kernelspec": {
   "display_name": "Python 3",
   "language": "python",
   "name": "python3"
  },
  "language_info": {
   "codemirror_mode": {
    "name": "ipython",
    "version": 3
   },
   "file_extension": ".py",
   "mimetype": "text/x-python",
   "name": "python",
   "nbconvert_exporter": "python",
   "pygments_lexer": "ipython3",
   "version": "3.8.5"
  }
 },
 "nbformat": 4,
 "nbformat_minor": 4
}
