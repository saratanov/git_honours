{
 "cells": [
  {
   "cell_type": "markdown",
   "metadata": {},
   "source": [
    "## Import and Configure Everything We Need"
   ]
  },
  {
   "cell_type": "code",
   "execution_count": 4,
   "metadata": {},
   "outputs": [],
   "source": [
    "%matplotlib inline\n",
    "\n",
    "from collections import defaultdict as ddict, OrderedDict as odict\n",
    "from typing import Any, Dict, List\n",
    "\n",
    "import matplotlib.pyplot as plt\n",
    "import numpy as np\n",
    "import pandas as pd\n",
    "import seaborn as sns\n",
    "import xgboost as xgb\n",
    "from rdkit.Chem import PandasTools, AllChem as Chem, Descriptors\n",
    "from rdkit.ML.Descriptors.MoleculeDescriptors import MolecularDescriptorCalculator\n",
    "from sklearn.ensemble import RandomForestRegressor\n",
    "from sklearn.metrics import mean_absolute_error, r2_score, mean_squared_error\n",
    "from sklearn.model_selection import KFold\n",
    "from sklearn.neural_network import MLPRegressor\n",
    "from sklearn.preprocessing import StandardScaler\n",
    "from sklearn.svm import SVR\n",
    "import deepchem as dc\n",
    "import torch\n",
    "\n",
    "from rdkit import RDLogger\n",
    "\n",
    "RDLogger.DisableLog('rdApp.*') \n",
    "\n",
    "import basic as b\n",
    "import chemprop_ish as c\n",
    "\n",
    "pd.set_option('display.float_format', lambda x: '%.3f' % x)  # Display floats without scientific notation\n",
    "\n",
    "# In many cases NaN\n",
    "not_used_desc = ['MaxPartialCharge', 'MinPartialCharge', 'MaxAbsPartialCharge', 'MinAbsPartialCharge']\n",
    "\n",
    "# Create a descriptor calculator for all RDKit descriptors except the ones above\n",
    "desc_calc = MolecularDescriptorCalculator([x for x in [x[0] for x in Descriptors.descList] if x not in not_used_desc])"
   ]
  },
  {
   "cell_type": "markdown",
   "metadata": {
    "tags": []
   },
   "source": [
    "---\n",
    "## Loading Precombined Dataset"
   ]
  },
  {
   "cell_type": "code",
   "execution_count": 5,
   "metadata": {
    "tags": []
   },
   "outputs": [],
   "source": [
    "data = pd.read_csv('combisolv_exp2.csv')\n",
    "solute = data['smiles_solute'].tolist()\n",
    "solvent = data['smiles_solvent'].tolist()\n",
    "pka = data['dGsolv_avg [kcal/mol]'].tolist()\n",
    "sol_solv = [[x,y] for x,y in zip(solute,solvent)]\n",
    "#preprocess pka too"
   ]
  },
  {
   "cell_type": "code",
   "execution_count": 6,
   "metadata": {},
   "outputs": [],
   "source": [
    "H_list = []\n",
    "for x in range(len(sol_solv)):\n",
    "    if sol_solv[x][0] in [\"[H][H]\",\"[2H][2H]\",\"[HH]\"]:\n",
    "        H_list.append(x)\n",
    "for x in sorted(H_list, reverse = True):\n",
    "    del sol_solv[x]\n",
    "    del pka[x]"
   ]
  },
  {
   "cell_type": "code",
   "execution_count": 182,
   "metadata": {},
   "outputs": [
    {
     "data": {
      "text/plain": [
       "<module 'basic' from '/Users/u6676643/codes/diympnn/deepchemMPNN/basic.py'>"
      ]
     },
     "execution_count": 182,
     "metadata": {},
     "output_type": "execute_result"
    }
   ],
   "source": [
    "imp.reload(b)"
   ]
  },
  {
   "cell_type": "markdown",
   "metadata": {},
   "source": [
    "---\n",
    "## Training torch models\n",
    "#### Using the following training sets with 5-fold cross-validation (shuffled)\n",
    "1. Solute / solvent pairs"
   ]
  },
  {
   "cell_type": "markdown",
   "metadata": {},
   "source": [
    "---\n",
    "### Torch models"
   ]
  },
  {
   "cell_type": "code",
   "execution_count": 73,
   "metadata": {},
   "outputs": [],
   "source": [
    "seed = 24\n",
    "verbose = False\n",
    "\n",
    "y_data = torch.Tensor(pka[:1000])\n",
    "x_data = sol_solv[:1000]\n",
    "models = ddict(odict)"
   ]
  },
  {
   "cell_type": "code",
   "execution_count": 142,
   "metadata": {},
   "outputs": [],
   "source": [
    "def generate_score_board(name):\n",
    "    print(f'{name} CV Scores:')\n",
    "    for k, v in models[name].cv_scores.items():\n",
    "         print(f'\\t\\t- {k}: {np.mean(v):.3f} ± {np.std(v):.3f}')\n",
    "            \n",
    "def show_LOSO_scores(name):\n",
    "    print(f'{name} LOSO scores:')\n",
    "    for k, v in models[name].LOSO_scores.items():\n",
    "        v = v[0]\n",
    "        print(f'\\t\\t- solvent {k}: MAE: {v[0]}, RMSE: {v[1]}, test size: {v[2]}')\n",
    "        \n",
    "def show_LOEO_scores(name):\n",
    "    print(f'{name} LOEO scores:')\n",
    "    for k, v in models[name].LOEO_scores.items():\n",
    "        v = v[0]\n",
    "        print(f'\\t\\t- element {k}: MAE: {v[0]}, RMSE: {v[1]}, test size: {v[2]}')\n",
    "\n",
    "def show_LOMO_scores(name):\n",
    "    print(f'{name} LOMO scores:')\n",
    "    for k, v in models[name].LOMO_scores.items():\n",
    "        v = v[0]\n",
    "        print(f'\\t\\t- cutoff mass {k} g/mol: MAE: {v[0]}, RMSE: {v[1]}, test size: {v[2]}')"
   ]
  },
  {
   "cell_type": "code",
   "execution_count": 143,
   "metadata": {},
   "outputs": [
    {
     "name": "stdout",
     "output_type": "stream",
     "text": [
      "MPNN, no interaction LOMO scores:\n",
      "\t\t- cutoff mass 50 g/mol: MAE: 4.931223392486572, RMSE: 5.829681873321533, test size: 877\n",
      "\t\t- cutoff mass 100 g/mol: MAE: 5.771317005157471, RMSE: 6.942997455596924, test size: 417\n",
      "\t\t- cutoff mass 150 g/mol: MAE: 8.06114673614502, RMSE: 9.308589935302734, test size: 134\n"
     ]
    }
   ],
   "source": [
    "show_LOMO_scores(name)"
   ]
  },
  {
   "cell_type": "code",
   "execution_count": 112,
   "metadata": {},
   "outputs": [
    {
     "name": "stdout",
     "output_type": "stream",
     "text": [
      "F [[3.1151075, 4.830626, 32]]\n",
      "N [[6.2164173, 7.5845814, 213]]\n"
     ]
    }
   ],
   "source": [
    "for k,v in models[name].LOEO_scores.items():\n",
    "    print(k,v)"
   ]
  },
  {
   "cell_type": "code",
   "execution_count": 141,
   "metadata": {},
   "outputs": [],
   "source": [
    "args = dict(NN_depth=2)\n",
    "est_cls = c.double_MPNN\n",
    "name = 'MPNN, no interaction'\n",
    "\n",
    "cvr = b.CV_torch(est=est_cls, n_folds=2, params=args)\n",
    "cvr.special_fit(x_data, y_data, 'LOMO')\n",
    "models[name] = cvr"
   ]
  },
  {
   "cell_type": "code",
   "execution_count": 79,
   "metadata": {
    "tags": []
   },
   "outputs": [
    {
     "name": "stderr",
     "output_type": "stream",
     "text": [
      "Cross val: 100%|██████████| 10/10 [00:21<00:00,  2.10s/it]"
     ]
    },
    {
     "name": "stdout",
     "output_type": "stream",
     "text": [
      "MPNN, no interaction CV Scores:\n",
      "\t\t- mean_absolute_error: 4.160 ± 0.352\n",
      "\t\t- rmse: 5.104 ± 0.458\n",
      "\t\t- r2_score: -1.554 ± 0.331\n"
     ]
    },
    {
     "name": "stderr",
     "output_type": "stream",
     "text": [
      "\n"
     ]
    }
   ],
   "source": [
    "args = dict(NN_depth=2)\n",
    "est_cls = c.double_MPNN\n",
    "name = 'MPNN, no interaction'\n",
    "\n",
    "models[name] = b.train_cv_model(est_cls, x_data, y_data, params=args, random_state=seed)\n",
    "generate_score_board(name)"
   ]
  },
  {
   "cell_type": "code",
   "execution_count": 68,
   "metadata": {},
   "outputs": [
    {
     "name": "stderr",
     "output_type": "stream",
     "text": [
      "Cross val:  40%|████      | 2/5 [04:01<06:02, 120.92s/it]\n",
      "Training:   0%|          | 0/2 [03:20<?, ?it/s]\n",
      "Cross val: 100%|██████████| 5/5 [00:01<00:00,  4.43it/s]"
     ]
    },
    {
     "name": "stdout",
     "output_type": "stream",
     "text": [
      "MPNN, interaction CV Scores:\n",
      "\t\t- mean_absolute_error: 4.377 ± 0.211\n",
      "\t\t- rmse: 4.463 ± 0.193\n",
      "\t\t- r2_score: -30.156 ± 11.070\n"
     ]
    },
    {
     "name": "stderr",
     "output_type": "stream",
     "text": [
      "\n"
     ]
    }
   ],
   "source": [
    "args = dict(interaction=True)\n",
    "est_cls = c.double_MPNN\n",
    "name = 'MPNN, interaction'\n",
    "\n",
    "models[name] = b.train_cv_model(est_cls, x_data, y_data, params=args, random_state=seed)\n",
    "generate_score_board(name)"
   ]
  },
  {
   "cell_type": "code",
   "execution_count": 69,
   "metadata": {},
   "outputs": [
    {
     "name": "stderr",
     "output_type": "stream",
     "text": [
      "Cross val: 100%|██████████| 5/5 [00:01<00:00,  4.48it/s]"
     ]
    },
    {
     "name": "stdout",
     "output_type": "stream",
     "text": [
      "D-MPNN, interaction CV Scores:\n",
      "\t\t- mean_absolute_error: 4.418 ± 0.278\n",
      "\t\t- rmse: 4.503 ± 0.259\n",
      "\t\t- r2_score: -30.916 ± 12.264\n"
     ]
    },
    {
     "name": "stderr",
     "output_type": "stream",
     "text": [
      "\n"
     ]
    }
   ],
   "source": [
    "args = dict(interaction=True, atom_messages=False)\n",
    "est_cls = c.double_MPNN\n",
    "name = 'D-MPNN, interaction'\n",
    "\n",
    "models[name] = b.train_cv_model(est_cls, x_data, y_data, params=args, random_state=seed)\n",
    "generate_score_board(name)"
   ]
  },
  {
   "cell_type": "code",
   "execution_count": 146,
   "metadata": {},
   "outputs": [
    {
     "name": "stderr",
     "output_type": "stream",
     "text": [
      "Cross val: 100%|██████████| 10/10 [00:24<00:00,  2.47s/it]"
     ]
    },
    {
     "name": "stdout",
     "output_type": "stream",
     "text": [
      "D-MPNN, no interaction CV Scores:\n",
      "\t\t- mae: 4.080 ± 0.347\n",
      "\t\t- rmse: 5.036 ± 0.449\n",
      "\t\t- r2_score: -1.478 ± 0.264\n"
     ]
    },
    {
     "name": "stderr",
     "output_type": "stream",
     "text": [
      "\n"
     ]
    }
   ],
   "source": [
    "args = dict(atom_messages=False)\n",
    "est_cls = c.double_MPNN\n",
    "name = 'D-MPNN, no interaction'\n",
    "\n",
    "models[name] = b.train_cv_model(est_cls, x_data, y_data, params=args, random_state=seed)\n",
    "generate_score_board(name)"
   ]
  },
  {
   "cell_type": "code",
   "execution_count": 151,
   "metadata": {},
   "outputs": [
    {
     "data": {
      "text/plain": [
       "[4.8267155,\n",
       " 3.7570684,\n",
       " 4.069464,\n",
       " 4.1323566,\n",
       " 4.1240726,\n",
       " 3.7875195,\n",
       " 4.3714256,\n",
       " 3.500676,\n",
       " 3.99001,\n",
       " 4.238746]"
      ]
     },
     "execution_count": 151,
     "metadata": {},
     "output_type": "execute_result"
    }
   ],
   "source": [
    "models[name].cv_scores['mae']"
   ]
  },
  {
   "cell_type": "code",
   "execution_count": 189,
   "metadata": {},
   "outputs": [],
   "source": [
    "#hyperparameter optimisation testing\n",
    "from bayes_opt import BayesianOptimization\n",
    "\n",
    "def fitness(MP_hidden, MP_depth, NN_hidden, NN_depth):\n",
    "    args = dict(MP_hidden=int(MP_hidden), \n",
    "                MP_depth=int(MP_depth), \n",
    "                NN_hidden=int(NN_hidden), \n",
    "                NN_depth=int(NN_depth))\n",
    "    results = b.train_cv_model(c.double_MPNN, x_data, y_data, params=args, random_state=seed)\n",
    "    score = np.mean(results.cv_scores['mae'])\n",
    "    return -score\n",
    "\n",
    "# Bounded region of parameter space\n",
    "pbounds = {'MP_hidden': (100,500), 'MP_depth': (2,4), 'NN_hidden': (100,500), 'NN_depth': (1,3)}\n",
    "\n",
    "optimizer = BayesianOptimization(\n",
    "    f=fitness,\n",
    "    pbounds=pbounds,\n",
    "    verbose=2,\n",
    "    random_state=1,\n",
    ")"
   ]
  },
  {
   "cell_type": "code",
   "execution_count": 190,
   "metadata": {},
   "outputs": [
    {
     "name": "stdout",
     "output_type": "stream",
     "text": [
      "|   iter    |  target   | MP_depth  | MP_hidden | NN_depth  | NN_hidden |\n",
      "-------------------------------------------------------------------------\n",
      "| \u001b[0m 1       \u001b[0m | \u001b[0m-3.133   \u001b[0m | \u001b[0m 2.834   \u001b[0m | \u001b[0m 388.1   \u001b[0m | \u001b[0m 1.0     \u001b[0m | \u001b[0m 220.9   \u001b[0m |\n",
      "| \u001b[0m 2       \u001b[0m | \u001b[0m-4.405   \u001b[0m | \u001b[0m 2.294   \u001b[0m | \u001b[0m 136.9   \u001b[0m | \u001b[0m 1.373   \u001b[0m | \u001b[0m 238.2   \u001b[0m |\n",
      "| \u001b[0m 3       \u001b[0m | \u001b[0m-3.356   \u001b[0m | \u001b[0m 2.888   \u001b[0m | \u001b[0m 387.4   \u001b[0m | \u001b[0m 1.394   \u001b[0m | \u001b[0m 217.5   \u001b[0m |\n",
      "| \u001b[0m 4       \u001b[0m | \u001b[0m-3.179   \u001b[0m | \u001b[0m 2.894   \u001b[0m | \u001b[0m 391.8   \u001b[0m | \u001b[0m 1.94    \u001b[0m | \u001b[0m 234.9   \u001b[0m |\n",
      "| \u001b[0m 5       \u001b[0m | \u001b[0m-3.327   \u001b[0m | \u001b[0m 2.0     \u001b[0m | \u001b[0m 374.0   \u001b[0m | \u001b[0m 1.0     \u001b[0m | \u001b[0m 231.9   \u001b[0m |\n",
      "=========================================================================\n"
     ]
    }
   ],
   "source": [
    "optimizer.maximize(\n",
    "    init_points=2,\n",
    "    n_iter=3,\n",
    ")"
   ]
  },
  {
   "cell_type": "code",
   "execution_count": null,
   "metadata": {},
   "outputs": [],
   "source": []
  },
  {
   "cell_type": "code",
   "execution_count": null,
   "metadata": {},
   "outputs": [],
   "source": []
  }
 ],
 "metadata": {
  "kernelspec": {
   "display_name": "Python 3",
   "language": "python",
   "name": "python3"
  },
  "language_info": {
   "codemirror_mode": {
    "name": "ipython",
    "version": 3
   },
   "file_extension": ".py",
   "mimetype": "text/x-python",
   "name": "python",
   "nbconvert_exporter": "python",
   "pygments_lexer": "ipython3",
   "version": "3.8.5"
  },
  "pycharm": {
   "stem_cell": {
    "cell_type": "raw",
    "metadata": {
     "collapsed": false
    },
    "source": []
   }
  }
 },
 "nbformat": 4,
 "nbformat_minor": 4
}
