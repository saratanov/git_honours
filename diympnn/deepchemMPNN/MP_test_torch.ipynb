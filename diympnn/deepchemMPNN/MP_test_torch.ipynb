{
 "cells": [
  {
   "cell_type": "markdown",
   "metadata": {},
   "source": [
    "## Import and Configure Everything We Need"
   ]
  },
  {
   "cell_type": "code",
   "execution_count": 1,
   "metadata": {},
   "outputs": [
    {
     "name": "stderr",
     "output_type": "stream",
     "text": [
      "RDKit WARNING: [14:46:49] Enabling RDKit 2019.09.3 jupyter extensions\n"
     ]
    }
   ],
   "source": [
    "%matplotlib inline\n",
    "\n",
    "from collections import defaultdict as ddict, OrderedDict as odict\n",
    "from typing import Any, Dict, List\n",
    "\n",
    "import matplotlib.pyplot as plt\n",
    "import numpy as np\n",
    "import pandas as pd\n",
    "import seaborn as sns\n",
    "import xgboost as xgb\n",
    "from rdkit.Chem import PandasTools, AllChem as Chem, Descriptors\n",
    "from rdkit.ML.Descriptors.MoleculeDescriptors import MolecularDescriptorCalculator\n",
    "from sklearn.ensemble import RandomForestRegressor\n",
    "from sklearn.metrics import mean_absolute_error, r2_score, mean_squared_error\n",
    "from sklearn.model_selection import KFold\n",
    "from sklearn.neural_network import MLPRegressor\n",
    "from sklearn.preprocessing import StandardScaler\n",
    "from sklearn.svm import SVR\n",
    "import deepchem as dc\n",
    "import torch\n",
    "\n",
    "from rdkit import RDLogger\n",
    "\n",
    "RDLogger.DisableLog('rdApp.*') \n",
    "\n",
    "import basic as b\n",
    "import chemprop_ish as c\n",
    "\n",
    "pd.set_option('display.float_format', lambda x: '%.3f' % x)  # Display floats without scientific notation\n",
    "\n",
    "# In many cases NaN\n",
    "not_used_desc = ['MaxPartialCharge', 'MinPartialCharge', 'MaxAbsPartialCharge', 'MinAbsPartialCharge']\n",
    "\n",
    "# Create a descriptor calculator for all RDKit descriptors except the ones above\n",
    "desc_calc = MolecularDescriptorCalculator([x for x in [x[0] for x in Descriptors.descList] if x not in not_used_desc])"
   ]
  },
  {
   "cell_type": "markdown",
   "metadata": {
    "tags": []
   },
   "source": [
    "---\n",
    "## Loading Precombined Dataset"
   ]
  },
  {
   "cell_type": "code",
   "execution_count": 2,
   "metadata": {
    "tags": []
   },
   "outputs": [],
   "source": [
    "data = pd.read_csv('combisolv_exp2.csv')\n",
    "solute = data['smiles_solute'].tolist()\n",
    "solvent = data['smiles_solvent'].tolist()\n",
    "pka = data['dGsolv_avg [kcal/mol]'].tolist()\n",
    "sol_solv = [[x,y] for x,y in zip(solute,solvent)]\n",
    "#preprocess pka too"
   ]
  },
  {
   "cell_type": "code",
   "execution_count": 3,
   "metadata": {},
   "outputs": [],
   "source": [
    "H_list = []\n",
    "for x in range(len(sol_solv)):\n",
    "    if sol_solv[x][0] in [\"[H][H]\",\"[2H][2H]\",\"[HH]\"]:\n",
    "        H_list.append(x)\n",
    "for x in sorted(H_list, reverse = True):\n",
    "    del sol_solv[x]\n",
    "    del pka[x]"
   ]
  },
  {
   "cell_type": "code",
   "execution_count": 38,
   "metadata": {},
   "outputs": [
    {
     "data": {
      "text/plain": [
       "<module 'basic' from '/Users/u6676643/codes/diympnn/deepchemMPNN/basic.py'>"
      ]
     },
     "execution_count": 38,
     "metadata": {},
     "output_type": "execute_result"
    }
   ],
   "source": [
    "imp.reload(b)"
   ]
  },
  {
   "cell_type": "code",
   "execution_count": 31,
   "metadata": {},
   "outputs": [],
   "source": [
    "model = c.double_MPNN(args)"
   ]
  },
  {
   "cell_type": "code",
   "execution_count": 32,
   "metadata": {},
   "outputs": [
    {
     "data": {
      "text/plain": [
       "tensor([[0.0147],\n",
       "        [0.0161],\n",
       "        [0.0159],\n",
       "        [0.0269],\n",
       "        [0.0282],\n",
       "        [0.0153],\n",
       "        [0.0087],\n",
       "        [0.0073],\n",
       "        [0.0197],\n",
       "        [0.0215],\n",
       "        [0.0276],\n",
       "        [0.0308],\n",
       "        [0.0122],\n",
       "        [0.0153],\n",
       "        [0.0335],\n",
       "        [0.0090],\n",
       "        [0.0233],\n",
       "        [0.0183],\n",
       "        [0.0240],\n",
       "        [0.0147]], grad_fn=<AddmmBackward>)"
      ]
     },
     "execution_count": 32,
     "metadata": {},
     "output_type": "execute_result"
    }
   ],
   "source": [
    "model(x_data[0:20])"
   ]
  },
  {
   "cell_type": "markdown",
   "metadata": {},
   "source": [
    "---\n",
    "## Training torch models\n",
    "#### Using the following training sets with 5-fold cross-validation (shuffled)\n",
    "1. Solute / solvent pairs"
   ]
  },
  {
   "cell_type": "markdown",
   "metadata": {},
   "source": [
    "---\n",
    "### Torch models"
   ]
  },
  {
   "cell_type": "code",
   "execution_count": 4,
   "metadata": {},
   "outputs": [],
   "source": [
    "seed = 24\n",
    "verbose = False\n",
    "\n",
    "y_data = torch.Tensor(pka)\n",
    "x_data = sol_solv\n",
    "models = ddict(odict)"
   ]
  },
  {
   "cell_type": "code",
   "execution_count": 5,
   "metadata": {},
   "outputs": [],
   "source": [
    "def generate_score_board(name):\n",
    "    print(f'{name} CV Scores:')\n",
    "    for k, v in models[name].cv_scores.items():\n",
    "         print(f'\\t\\t- {k}: {np.mean(v):.3f} ± {np.std(v):.3f}')"
   ]
  },
  {
   "cell_type": "code",
   "execution_count": 46,
   "metadata": {},
   "outputs": [
    {
     "name": "stdout",
     "output_type": "stream",
     "text": [
      "tensor([[-1.6097]], grad_fn=<AddmmBackward>)\n"
     ]
    }
   ],
   "source": [
    "test = [[x_data[0][0]],[x_data[0][1]]]\n",
    "print(models[name].models[0](test))"
   ]
  },
  {
   "cell_type": "code",
   "execution_count": 52,
   "metadata": {
    "tags": []
   },
   "outputs": [
    {
     "name": "stdout",
     "output_type": "stream",
     "text": [
      "Fold done\n",
      "Fold done\n",
      "Fold done\n",
      "Fold done\n",
      "Fold done\n",
      "MPNN, no interaction CV Scores:\n",
      "\t\t- mean_absolute_error: 1.274 ± 0.052\n",
      "\t\t- rmse: 2.028 ± 0.099\n",
      "\t\t- r2_score: 0.799 ± 0.016\n"
     ]
    }
   ],
   "source": [
    "args = c.TrainArgs()\n",
    "est_cls = c.double_MPNN\n",
    "name = 'MPNN, no interaction'\n",
    "\n",
    "models[name] = b.train_cv_model(est_cls, x_data, y_data, params=args, random_state=seed)\n",
    "generate_score_board(name)"
   ]
  },
  {
   "cell_type": "code",
   "execution_count": 51,
   "metadata": {
    "tags": []
   },
   "outputs": [
    {
     "data": {
      "text/plain": [
       "<module 'basic' from '/Users/u6676643/codes/diympnn/deepchemMPNN/basic.py'>"
      ]
     },
     "execution_count": 51,
     "metadata": {},
     "output_type": "execute_result"
    }
   ],
   "source": [
    "import imp\n",
    "imp.reload(b)"
   ]
  },
  {
   "cell_type": "code",
   "execution_count": 53,
   "metadata": {},
   "outputs": [
    {
     "name": "stdout",
     "output_type": "stream",
     "text": [
      "Fold done\n",
      "Fold done\n",
      "Fold done\n",
      "Fold done\n",
      "Fold done\n",
      "MPNN, interaction CV Scores:\n",
      "\t\t- mean_absolute_error: 0.722 ± 0.058\n",
      "\t\t- rmse: 1.093 ± 0.062\n",
      "\t\t- r2_score: 0.941 ± 0.008\n"
     ]
    }
   ],
   "source": [
    "args = c.TrainArgs()\n",
    "args.__dict__.update({\"interaction\":True})\n",
    "est_cls = c.double_MPNN\n",
    "name = 'MPNN, interaction'\n",
    "\n",
    "models[name] = b.train_cv_model(est_cls, x_data, y_data, params=args, random_state=seed)\n",
    "generate_score_board(name)"
   ]
  },
  {
   "cell_type": "code",
   "execution_count": 54,
   "metadata": {},
   "outputs": [
    {
     "name": "stdout",
     "output_type": "stream",
     "text": [
      "Fold done\n",
      "Fold done\n",
      "Fold done\n",
      "Fold done\n",
      "Fold done\n",
      "D-MPNN, interaction CV Scores:\n",
      "\t\t- mean_absolute_error: 0.720 ± 0.040\n",
      "\t\t- rmse: 1.100 ± 0.055\n",
      "\t\t- r2_score: 0.941 ± 0.006\n"
     ]
    }
   ],
   "source": [
    "args = c.TrainArgs()\n",
    "args.__dict__.update({\"depth\":3, \"dropout\":0.2, \"interaction\":True, \"atom_messages\":False})\n",
    "est_cls = c.double_MPNN\n",
    "name = 'D-MPNN, interaction'\n",
    "\n",
    "models[name] = b.train_cv_model(est_cls, x_data, y_data, params=args, random_state=seed)\n",
    "generate_score_board(name)"
   ]
  },
  {
   "cell_type": "code",
   "execution_count": 55,
   "metadata": {},
   "outputs": [
    {
     "name": "stdout",
     "output_type": "stream",
     "text": [
      "Fold done\n",
      "Fold done\n",
      "Fold done\n",
      "Fold done\n",
      "Fold done\n",
      "D-MPNN, no interaction CV Scores:\n",
      "\t\t- mean_absolute_error: 1.245 ± 0.012\n",
      "\t\t- rmse: 2.009 ± 0.052\n",
      "\t\t- r2_score: 0.803 ± 0.009\n"
     ]
    }
   ],
   "source": [
    "args = c.TrainArgs()\n",
    "args.__dict__.update({\"depth\":3, \"dropout\":0.2, \"interaction\":False, \"atom_messages\":False})\n",
    "est_cls = c.double_MPNN\n",
    "name = 'D-MPNN, no interaction'\n",
    "\n",
    "models[name] = b.train_cv_model(est_cls, x_data, y_data, params=args, random_state=seed)\n",
    "generate_score_board(name)"
   ]
  },
  {
   "cell_type": "markdown",
   "metadata": {},
   "source": []
  }
 ],
 "metadata": {
  "kernelspec": {
   "display_name": "Python 3",
   "language": "python",
   "name": "python3"
  },
  "language_info": {
   "codemirror_mode": {
    "name": "ipython",
    "version": 3
   },
   "file_extension": ".py",
   "mimetype": "text/x-python",
   "name": "python",
   "nbconvert_exporter": "python",
   "pygments_lexer": "ipython3",
   "version": "3.8.5"
  },
  "pycharm": {
   "stem_cell": {
    "cell_type": "raw",
    "metadata": {
     "collapsed": false
    },
    "source": []
   }
  }
 },
 "nbformat": 4,
 "nbformat_minor": 4
}
