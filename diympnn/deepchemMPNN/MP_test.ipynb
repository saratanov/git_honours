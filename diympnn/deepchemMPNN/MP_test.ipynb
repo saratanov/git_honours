{
 "cells": [
  {
   "cell_type": "markdown",
   "metadata": {},
   "source": [
    "## Import and Configure Everything We Need"
   ]
  },
  {
   "cell_type": "code",
   "execution_count": 1,
   "metadata": {},
   "outputs": [
    {
     "name": "stderr",
     "output_type": "stream",
     "text": [
      "RDKit WARNING: [19:18:12] Enabling RDKit 2019.09.3 jupyter extensions\n"
     ]
    },
    {
     "ename": "SyntaxError",
     "evalue": "invalid syntax (basic.py, line 138)",
     "output_type": "error",
     "traceback": [
      "Traceback \u001b[0;36m(most recent call last)\u001b[0m:\n",
      "  File \u001b[1;32m\"/Users/u6676643/opt/anaconda3/lib/python3.8/site-packages/IPython/core/interactiveshell.py\"\u001b[0m, line \u001b[1;32m3418\u001b[0m, in \u001b[1;35mrun_code\u001b[0m\n    exec(code_obj, self.user_global_ns, self.user_ns)\n",
      "\u001b[0;36m  File \u001b[0;32m\"<ipython-input-1-193c98f28c40>\"\u001b[0;36m, line \u001b[0;32m26\u001b[0;36m, in \u001b[0;35m<module>\u001b[0;36m\u001b[0m\n\u001b[0;31m    import basic as b\u001b[0m\n",
      "\u001b[0;36m  File \u001b[0;32m\"/Users/u6676643/codes/diympnn/deepchemMPNN/basic.py\"\u001b[0;36m, line \u001b[0;32m138\u001b[0m\n\u001b[0;31m    self.models.append(est_trained)s\u001b[0m\n\u001b[0m                                   ^\u001b[0m\n\u001b[0;31mSyntaxError\u001b[0m\u001b[0;31m:\u001b[0m invalid syntax\n"
     ]
    }
   ],
   "source": [
    "%matplotlib inline\n",
    "\n",
    "from collections import defaultdict as ddict, OrderedDict as odict\n",
    "from typing import Any, Dict, List\n",
    "\n",
    "import matplotlib.pyplot as plt\n",
    "import numpy as np\n",
    "import pandas as pd\n",
    "import seaborn as sns\n",
    "import xgboost as xgb\n",
    "from rdkit.Chem import PandasTools, AllChem as Chem, Descriptors\n",
    "from rdkit.ML.Descriptors.MoleculeDescriptors import MolecularDescriptorCalculator\n",
    "from sklearn.ensemble import RandomForestRegressor\n",
    "from sklearn.metrics import mean_absolute_error, r2_score, mean_squared_error\n",
    "from sklearn.model_selection import KFold\n",
    "from sklearn.neural_network import MLPRegressor\n",
    "from sklearn.preprocessing import StandardScaler\n",
    "from sklearn.svm import SVR\n",
    "import deepchem as dc\n",
    "import torch\n",
    "\n",
    "from rdkit import RDLogger\n",
    "\n",
    "RDLogger.DisableLog('rdApp.*') \n",
    "\n",
    "import basic as b\n",
    "import chemprop_ish as c\n",
    "\n",
    "pd.set_option('display.float_format', lambda x: '%.3f' % x)  # Display floats without scientific notation\n",
    "\n",
    "# In many cases NaN\n",
    "not_used_desc = ['MaxPartialCharge', 'MinPartialCharge', 'MaxAbsPartialCharge', 'MinAbsPartialCharge']\n",
    "\n",
    "# Create a descriptor calculator for all RDKit descriptors except the ones above\n",
    "desc_calc = MolecularDescriptorCalculator([x for x in [x[0] for x in Descriptors.descList] if x not in not_used_desc])"
   ]
  },
  {
   "cell_type": "markdown",
   "metadata": {
    "tags": []
   },
   "source": [
    "---\n",
    "## Loading Precombined Dataset"
   ]
  },
  {
   "cell_type": "code",
   "execution_count": null,
   "metadata": {
    "tags": []
   },
   "outputs": [],
   "source": [
    "data = pd.read_csv('combisolv_exp2.csv')\n",
    "solute = data['smiles_solute'].tolist()\n",
    "solvent = data['smiles_solvent'].tolist()\n",
    "pka = data['dGsolv_avg [kcal/mol]'].tolist()\n",
    "sol_solv = [[x,y] for x,y in zip(solute,solvent)]\n",
    "#preprocess pka too"
   ]
  },
  {
   "cell_type": "code",
   "execution_count": null,
   "metadata": {},
   "outputs": [],
   "source": [
    "H_list = []\n",
    "for x in range(len(sol_solv)):\n",
    "    if sol_solv[x][0] in [\"[H][H]\",\"[2H][2H]\",\"[HH]\"]:\n",
    "        H_list.append(x)\n",
    "for x in sorted(H_list, reverse = True):\n",
    "    del sol_solv[x]\n",
    "    del pka[x]"
   ]
  },
  {
   "cell_type": "code",
   "execution_count": 70,
   "metadata": {},
   "outputs": [],
   "source": [
    "sol_solv_mol = [[Chem.MolFromSmiles(x) for x in y] for y in sol_solv]"
   ]
  },
  {
   "cell_type": "code",
   "execution_count": 71,
   "metadata": {},
   "outputs": [
    {
     "data": {
      "text/plain": [
       "8700"
      ]
     },
     "execution_count": 71,
     "metadata": {},
     "output_type": "execute_result"
    }
   ],
   "source": [
    "len(sol_solv_mol)"
   ]
  },
  {
   "cell_type": "code",
   "execution_count": 72,
   "metadata": {},
   "outputs": [],
   "source": [
    "#check for mols with 0 heavy atoms\n",
    "for x in sol_solv_mol:\n",
    "    for y in x:\n",
    "        if y.GetNumHeavyAtoms() == 0:\n",
    "            print(Chem.MolToSmiles(y))"
   ]
  },
  {
   "cell_type": "code",
   "execution_count": null,
   "metadata": {},
   "outputs": [],
   "source": []
  },
  {
   "cell_type": "markdown",
   "metadata": {},
   "source": [
    "## Calculating Descriptors and Fingerprints\n",
    "- 196/200 RDKit descriptors\n",
    "- Morgan FP with radius=3 and useFeatures=True (FMorgan3)"
   ]
  },
  {
   "cell_type": "code",
   "execution_count": 87,
   "metadata": {
    "tags": []
   },
   "outputs": [],
   "source": [
    "descs, fmorgan3, descs_fmorgan3 = b.calc_xy_data(sol_solv_mol)"
   ]
  },
  {
   "cell_type": "code",
   "execution_count": 88,
   "metadata": {},
   "outputs": [],
   "source": [
    "scaler = StandardScaler()\n",
    "descs = scaler.fit_transform(descs)\n",
    "fmorgan3 = scaler.fit_transform(fmorgan3)\n",
    "descs_fmorgan3 = scaler.fit_transform(descs_fmorgan3)\n",
    "#pka = scaler.fit_transform(pka)"
   ]
  },
  {
   "cell_type": "code",
   "execution_count": 97,
   "metadata": {},
   "outputs": [
    {
     "name": "stdout",
     "output_type": "stream",
     "text": [
      "392\n"
     ]
    }
   ],
   "source": [
    "print(len(descs[0]))"
   ]
  },
  {
   "cell_type": "markdown",
   "metadata": {},
   "source": [
    "---\n",
    "## Training Random Forest, Support Vector Machine (two configurations) and Multilayer Perceptron (three configurations)\n",
    "#### Using the following training sets with 5-fold cross-validation (shuffled)\n",
    "1. RDKit descriptor set\n",
    "2. FMorgan3\n",
    "3. RDKit descriptor set + FMorgan3"
   ]
  },
  {
   "cell_type": "markdown",
   "metadata": {},
   "source": [
    "### Prepare for Training"
   ]
  },
  {
   "cell_type": "code",
   "execution_count": 89,
   "metadata": {},
   "outputs": [],
   "source": [
    "seed = 24\n",
    "\n",
    "est_jobs = 12\n",
    "verbose = False\n",
    "\n",
    "y_data = np.array(pka)\n",
    "desc_sets = [[descs, 'Desc'],[fmorgan3, 'FMorgan3'],[descs_fmorgan3, 'Desc_FMorgan3']]\n",
    "\n",
    "models = ddict(odict)  # estimator => training set => [model, scaler]\n",
    "\n",
    "def train_all_sets(est_cls, params, name, torch_model):\n",
    "    for x_data, set_name in desc_sets:\n",
    "        models[name][set_name] = b.train_cv_model(est_cls, x_data, y_data, params, seed, torch_model=torch_model)"
   ]
  },
  {
   "cell_type": "code",
   "execution_count": 90,
   "metadata": {},
   "outputs": [],
   "source": [
    "def generate_score_board(name):\n",
    "    print(f'{name} CV Scores:')\n",
    "    for ts, m in models[name].items():\n",
    "        print(f'\\t{ts}')\n",
    "        for k, v in m.cv_scores.items():\n",
    "            print(f'\\t\\t- {k}: {np.mean(v):.3f} ± {np.std(v):.3f}')"
   ]
  },
  {
   "cell_type": "markdown",
   "metadata": {},
   "source": [
    "---\n",
    "### RandomForest (n_estimators=1000)"
   ]
  },
  {
   "cell_type": "code",
   "execution_count": 91,
   "metadata": {},
   "outputs": [
    {
     "name": "stdout",
     "output_type": "stream",
     "text": [
      "RandomForest (n_estimators=1000) CV Scores:\n",
      "\tDesc\n",
      "\t\t- mean_absolute_error: 0.313 ± 0.008\n",
      "\t\t- rmse: 0.671 ± 0.034\n",
      "\t\t- r2_score: 0.978 ± 0.002\n",
      "\tFMorgan3\n",
      "\t\t- mean_absolute_error: 0.717 ± 0.022\n",
      "\t\t- rmse: 1.380 ± 0.049\n",
      "\t\t- r2_score: 0.907 ± 0.006\n",
      "\tDesc_FMorgan3\n",
      "\t\t- mean_absolute_error: 0.313 ± 0.008\n",
      "\t\t- rmse: 0.672 ± 0.036\n",
      "\t\t- r2_score: 0.978 ± 0.002\n"
     ]
    }
   ],
   "source": [
    "est_cls = RandomForestRegressor\n",
    "rf_params = dict(n_estimators=1000, n_jobs=est_jobs, verbose=verbose, random_state=seed)\n",
    "name = 'RandomForest (n_estimators=1000)'\n",
    "\n",
    "train_all_sets(est_cls, rf_params, name, False)\n",
    "generate_score_board(name)"
   ]
  },
  {
   "cell_type": "markdown",
   "metadata": {},
   "source": [
    "---\n",
    "### SupportVectorMachine (gamma='scale')"
   ]
  },
  {
   "cell_type": "code",
   "execution_count": 92,
   "metadata": {},
   "outputs": [
    {
     "name": "stdout",
     "output_type": "stream",
     "text": [
      "SupportVectorMachine (gamma=\"scale\") CV Scores:\n",
      "\tDesc\n",
      "\t\t- mean_absolute_error: 0.540 ± 0.015\n",
      "\t\t- rmse: 1.482 ± 0.095\n",
      "\t\t- r2_score: 0.892 ± 0.013\n",
      "\tFMorgan3\n",
      "\t\t- mean_absolute_error: 1.330 ± 0.027\n",
      "\t\t- rmse: 2.510 ± 0.049\n",
      "\t\t- r2_score: 0.692 ± 0.007\n",
      "\tDesc_FMorgan3\n",
      "\t\t- mean_absolute_error: 1.017 ± 0.020\n",
      "\t\t- rmse: 2.212 ± 0.074\n",
      "\t\t- r2_score: 0.761 ± 0.012\n"
     ]
    }
   ],
   "source": [
    "est_cls = SVR\n",
    "svr_params = dict(cache_size=4096, verbose=verbose)\n",
    "name = 'SupportVectorMachine (gamma=\"scale\")'\n",
    "\n",
    "train_all_sets(est_cls, svr_params, name, False)\n",
    "generate_score_board(name)"
   ]
  },
  {
   "cell_type": "markdown",
   "metadata": {},
   "source": [
    "---\n",
    "### Multi Layer Perceptron (early_stopping=False, hidden_layer_sizes=(500, 500))"
   ]
  },
  {
   "cell_type": "code",
   "execution_count": 93,
   "metadata": {},
   "outputs": [
    {
     "name": "stdout",
     "output_type": "stream",
     "text": [
      "Multi Layer Perceptron (early_stopping=False, hidden_layer_sizes=(500, 500)) CV Scores:\n",
      "\tDesc\n",
      "\t\t- mean_absolute_error: 0.290 ± 0.026\n",
      "\t\t- rmse: 0.529 ± 0.035\n",
      "\t\t- r2_score: 0.986 ± 0.002\n",
      "\tFMorgan3\n",
      "\t\t- mean_absolute_error: 0.858 ± 0.039\n",
      "\t\t- rmse: 1.693 ± 0.101\n",
      "\t\t- r2_score: 0.860 ± 0.015\n",
      "\tDesc_FMorgan3\n",
      "\t\t- mean_absolute_error: 0.434 ± 0.024\n",
      "\t\t- rmse: 1.004 ± 0.112\n",
      "\t\t- r2_score: 0.950 ± 0.011\n"
     ]
    }
   ],
   "source": [
    "est_cls = MLPRegressor\n",
    "mlp_params = dict(hidden_layer_sizes=(500, 500), verbose=verbose, random_state=seed)\n",
    "name = 'Multi Layer Perceptron (early_stopping=False, hidden_layer_sizes=(500, 500))'\n",
    "\n",
    "train_all_sets(est_cls, mlp_params, name, False)\n",
    "generate_score_board(name)"
   ]
  },
  {
   "cell_type": "markdown",
   "metadata": {},
   "source": [
    "---\n",
    "### XGradientBoost"
   ]
  },
  {
   "cell_type": "code",
   "execution_count": 94,
   "metadata": {},
   "outputs": [
    {
     "name": "stdout",
     "output_type": "stream",
     "text": [
      "XGradientBoost CV Scores:\n",
      "\tDesc\n",
      "\t\t- mean_absolute_error: 0.299 ± 0.007\n",
      "\t\t- rmse: 0.606 ± 0.040\n",
      "\t\t- r2_score: 0.982 ± 0.002\n",
      "\tFMorgan3\n",
      "\t\t- mean_absolute_error: 0.870 ± 0.027\n",
      "\t\t- rmse: 1.429 ± 0.043\n",
      "\t\t- r2_score: 0.900 ± 0.006\n",
      "\tDesc_FMorgan3\n",
      "\t\t- mean_absolute_error: 0.334 ± 0.006\n",
      "\t\t- rmse: 0.641 ± 0.040\n",
      "\t\t- r2_score: 0.980 ± 0.002\n"
     ]
    }
   ],
   "source": [
    "est_cls = xgb.XGBRegressor\n",
    "xgb_params = dict(verbosity=2 if verbose else 0, random_state=seed, n_jobs=est_jobs)\n",
    "name = 'XGradientBoost'\n",
    "\n",
    "train_all_sets(est_cls, xgb_params, name, False)\n",
    "generate_score_board(name)"
   ]
  },
  {
   "cell_type": "markdown",
   "metadata": {},
   "source": [
    "---\n",
    "## Training torch models\n",
    "#### Using the following training sets with 5-fold cross-validation (shuffled)\n",
    "1. Sol / solvent pairs"
   ]
  },
  {
   "cell_type": "markdown",
   "metadata": {},
   "source": [
    "---\n",
    "### Torch models"
   ]
  },
  {
   "cell_type": "code",
   "execution_count": 7,
   "metadata": {},
   "outputs": [],
   "source": [
    "seed = 24\n",
    "verbose = False\n",
    "\n",
    "y_data = torch.Tensor(pka)\n",
    "x_data = sol_solv"
   ]
  },
  {
   "cell_type": "code",
   "execution_count": 8,
   "metadata": {},
   "outputs": [
    {
     "ename": "TypeError",
     "evalue": "train_cv_model() missing 1 required positional argument: 'random_state'",
     "output_type": "error",
     "traceback": [
      "\u001b[0;31m---------------------------------------------------------------------------\u001b[0m",
      "\u001b[0;31mTypeError\u001b[0m                                 Traceback (most recent call last)",
      "\u001b[0;32m<ipython-input-8-60909d8245e6>\u001b[0m in \u001b[0;36m<module>\u001b[0;34m\u001b[0m\n\u001b[1;32m      4\u001b[0m \u001b[0mname\u001b[0m \u001b[0;34m=\u001b[0m \u001b[0;34m'MPNN'\u001b[0m\u001b[0;34m\u001b[0m\u001b[0;34m\u001b[0m\u001b[0m\n\u001b[1;32m      5\u001b[0m \u001b[0;34m\u001b[0m\u001b[0m\n\u001b[0;32m----> 6\u001b[0;31m \u001b[0mb\u001b[0m\u001b[0;34m.\u001b[0m\u001b[0mtrain_cv_model\u001b[0m\u001b[0;34m(\u001b[0m\u001b[0mest_cls\u001b[0m\u001b[0;34m,\u001b[0m \u001b[0mx_data\u001b[0m\u001b[0;34m,\u001b[0m \u001b[0my_data\u001b[0m\u001b[0;34m,\u001b[0m \u001b[0mseed\u001b[0m\u001b[0;34m)\u001b[0m\u001b[0;34m\u001b[0m\u001b[0;34m\u001b[0m\u001b[0m\n\u001b[0m\u001b[1;32m      7\u001b[0m \u001b[0mgenerate_score_board\u001b[0m\u001b[0;34m(\u001b[0m\u001b[0mname\u001b[0m\u001b[0;34m)\u001b[0m\u001b[0;34m\u001b[0m\u001b[0;34m\u001b[0m\u001b[0m\n",
      "\u001b[0;31mTypeError\u001b[0m: train_cv_model() missing 1 required positional argument: 'random_state'"
     ]
    }
   ],
   "source": [
    "args = c.TrainArgs()\n",
    "args.__dict__.update({\"depth\":3, \"dropout\":0.2})\n",
    "est_cls = c.double_MPNN(args)\n",
    "name = 'MPNN'\n",
    "\n",
    "b.train_cv_model(est_cls, x_data, y_data, random_state=seed)\n",
    "generate_score_board(name)"
   ]
  },
  {
   "cell_type": "code",
   "execution_count": null,
   "metadata": {},
   "outputs": [],
   "source": []
  }
 ],
 "metadata": {
  "kernelspec": {
   "display_name": "Python 3",
   "language": "python",
   "name": "python3"
  },
  "language_info": {
   "codemirror_mode": {
    "name": "ipython",
    "version": 3
   },
   "file_extension": ".py",
   "mimetype": "text/x-python",
   "name": "python",
   "nbconvert_exporter": "python",
   "pygments_lexer": "ipython3",
   "version": "3.8.5"
  },
  "pycharm": {
   "stem_cell": {
    "cell_type": "raw",
    "metadata": {
     "collapsed": false
    },
    "source": []
   }
  }
 },
 "nbformat": 4,
 "nbformat_minor": 4
}
