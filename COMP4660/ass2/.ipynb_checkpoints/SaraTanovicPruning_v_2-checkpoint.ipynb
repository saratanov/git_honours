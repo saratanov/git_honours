{
 "cells": [
  {
   "cell_type": "code",
   "execution_count": 4,
   "metadata": {},
   "outputs": [],
   "source": [
    "import torch\n",
    "import pandas as pd\n",
    "import numpy as np\n",
    "import torch.nn as nn\n",
    "import torch.utils.data\n",
    "import math\n",
    "import matplotlib.pyplot as plt\n",
    "from sklearn.model_selection import train_test_split, StratifiedKFold"
   ]
  },
  {
   "cell_type": "code",
   "execution_count": 23,
   "metadata": {},
   "outputs": [],
   "source": [
    "# load all data\n",
    "data = pd.read_csv('SFEW.csv',  header=None, skiprows=1)\n",
    "\n",
    "# drop first column\n",
    "data.drop(data.columns[0], axis=1, inplace=True)\n",
    "\n",
    "#remove Nan PHOG descriptor pattern\n",
    "data.drop([205], axis=0, inplace=True)\n",
    "\n",
    "# try shuffle data\n",
    "data = data.sample(frac=1).reset_index(drop=True)\n",
    "\n",
    "#normalisation of features\n",
    "for column in data:\n",
    "    if column == 1:\n",
    "        pass\n",
    "    else:\n",
    "        data[column] = data.loc[:, [column]].apply(lambda x: (x - x.mean()) / x.std())\n",
    "        \n",
    "# stratified split into training set (50%) and testing set (50%)\n",
    "X = data.iloc[:,1:11].values\n",
    "Y = data.iloc[:,0].values-1\n",
    "x1, x2, y1, y2 = train_test_split(X, Y, train_size=0.5, random_state=42, stratify=Y)\n",
    "\n",
    "skf = StratifiedKFold(n_splits=10, random_state=1, shuffle=True)\n",
    "split_data = skf.split(X,Y)"
   ]
  },
  {
   "cell_type": "code",
   "execution_count": 65,
   "metadata": {},
   "outputs": [],
   "source": [
    "def data_prep(x1,x2,y1,y2):\n",
    "    train_x, train_y = torch.Tensor(x1), torch.Tensor(y1).long()\n",
    "    test_x, test_y = torch.Tensor(x2), torch.Tensor(y2).long()\n",
    "    train_dataset = torch.utils.data.TensorDataset(train_x, train_y)\n",
    "    train_loader = torch.utils.data.DataLoader(train_dataset, batch_size=32, shuffle=True)\n",
    "    return list([train_x, train_y, test_x, test_y, train_loader])\n",
    "\n",
    "# prepare the 2-fold cross-validation datasets as lists of tensors and a training loader\n",
    "data1 = data_prep(x1,x2,y1,y2)\n",
    "data2 = data_prep(x2,x1,y2,y1)"
   ]
  },
  {
   "cell_type": "code",
   "execution_count": 119,
   "metadata": {},
   "outputs": [],
   "source": [
    "# define the three-layer neural network\n",
    "class Net(nn.Module):\n",
    "    def __init__(self, input_size, hidden_size, num_classes):\n",
    "        super(Net, self).__init__()\n",
    "        self.fc1 = nn.Linear(input_size, hidden_size)\n",
    "        self.sigmoid = nn.Sigmoid()\n",
    "        self.fc2 = nn.Linear(hidden_size, num_classes)\n",
    "\n",
    "    def forward(self, x):\n",
    "        first = self.fc1(x)\n",
    "        act = self.sigmoid(first)\n",
    "        out = self.fc2(act)\n",
    "        return act, out  #outputs both the hidden layer activation matrix and the output classification\n",
    "    \n",
    "# define the loss function\n",
    "criterion = nn.CrossEntropyLoss()"
   ]
  },
  {
   "cell_type": "code",
   "execution_count": 67,
   "metadata": {},
   "outputs": [],
   "source": [
    "# define a function to plot confusion matrix\n",
    "def plot_confusion(input_sample, num_classes, des_output, actual_output):\n",
    "    confusion = torch.zeros(num_classes, num_classes)\n",
    "    for i in range(input_sample):\n",
    "        actual_class = actual_output[i]\n",
    "        predicted_class = des_output[i]\n",
    "\n",
    "        confusion[actual_class][predicted_class] += 1\n",
    "\n",
    "    return confusion"
   ]
  },
  {
   "cell_type": "code",
   "execution_count": null,
   "metadata": {},
   "outputs": [],
   "source": [
    "#sample testing code\n",
    "net_accuracy = []\n",
    "for train_index, test_index in skf.split(X,Y):\n",
    "    # Split train-test\n",
    "    X_train, X_test = torch.Tensor(X.iloc[train_index]), torch.Tensor(X.iloc[test_index])\n",
    "    Y_train, Y_test = torch.Tensor(Y.iloc[train_index]).long(), torch.Tensor(Y.iloc[test_index]).long()\n",
    "    train_dataset = torch.utils.data.TensorDataset(X_train, Y_train)\n",
    "    train_loader = torch.utils.data.DataLoader(train_dataset, batch_size=32, shuffle=True)\n",
    "    # Train the model\n",
    "    net = Net(10, num_hidden, 7)\n",
    "    optimizer = torch.optim.Adam(net.parameters(), lr=lr)\n",
    "        for epoch in range(num_epoch):\n",
    "            train_step(net, optimizer, train_loader)\n",
    "        fold_acc = accuracy(net, X_test, Y_test)\n",
    "    # Append to accuracy_model the accuracy of the model\n",
    "    net_accuracy.append(fold_acc)\n",
    "print(np.mean(net_accuracy))\n",
    "\n",
    "\n",
    "def normal_NN(num_epoch, num_hidden, lr):\n",
    "    test_acc = 0\n",
    "    for data in [data1,data2]: #cross-validation\n",
    "        net = Net(10, num_hidden, 7)\n",
    "        optimizer = torch.optim.Adam(net.parameters(), lr=lr)\n",
    "        for epoch in range(num_epoch):\n",
    "            train_step(net, optimizer, data[4])\n",
    "        _, test_out = net(data[2])\n",
    "        test_acc += accuracy2(test_out, data[3])\n",
    "    return test_acc * 0.5"
   ]
  },
  {
   "cell_type": "code",
   "execution_count": 26,
   "metadata": {},
   "outputs": [],
   "source": [
    "#sample testing code\n",
    "folded_data = []\n",
    "for train_index, test_index in split_data:\n",
    "    # Split train-test\n",
    "    X_train, X_test = torch.Tensor(X[train_index]), torch.Tensor(X[test_index])\n",
    "    Y_train, Y_test = torch.Tensor(Y[train_index]).long(), torch.Tensor(Y[test_index]).long()\n",
    "    train_dataset = torch.utils.data.TensorDataset(X_train, Y_train)\n",
    "    train_loader = torch.utils.data.DataLoader(train_dataset, batch_size=32, shuffle=True)\n",
    "    folded_data.append([X_train,Y_train,X_test,Y_test,train_loader])"
   ]
  },
  {
   "cell_type": "code",
   "execution_count": 36,
   "metadata": {},
   "outputs": [
    {
     "name": "stdout",
     "output_type": "stream",
     "text": [
      "hi\n",
      "torch.Size([606, 10])\n",
      "hi\n",
      "torch.Size([606, 10])\n",
      "hi\n",
      "torch.Size([606, 10])\n",
      "hi\n",
      "torch.Size([607, 10])\n",
      "hi\n",
      "torch.Size([607, 10])\n",
      "hi\n",
      "torch.Size([607, 10])\n",
      "hi\n",
      "torch.Size([607, 10])\n",
      "hi\n",
      "torch.Size([607, 10])\n",
      "hi\n",
      "torch.Size([607, 10])\n"
     ]
    }
   ],
   "source": [
    "for data in folded_data:\n",
    "    print('hi')\n",
    "    print(data[0].size())"
   ]
  },
  {
   "cell_type": "code",
   "execution_count": 68,
   "metadata": {},
   "outputs": [],
   "source": [
    "# training step for batch training\n",
    "def train_step(model, optimizer, loader):\n",
    "    for step, (batch_x, batch_y) in enumerate(loader):\n",
    "        X = batch_x\n",
    "        Y = batch_y.long()\n",
    "        _, outputs = model(X)\n",
    "        loss = criterion(outputs, Y)\n",
    "        loss.backward()\n",
    "        optimizer.step()\n",
    "        optimizer.zero_grad(set_to_none=True)\n",
    "        return loss.item()\n",
    "\n",
    "# distinctiveness pruning step\n",
    "def prune(model, x, theta):\n",
    "    n_neu = model.fc1.weight.data.size(0) #initial number of neurons\n",
    "    activation, _ = model(x)\n",
    "    cos = nn.CosineSimilarity(dim=0, eps=1e-6) # calculates cosine similarity between column vectors\n",
    "    activation += torch.full(activation.size(), -0.5) #normalise activation vectors\n",
    "    keep = list(range(n_neu)) #generate list of column indices to keep track of neurons\n",
    "    for j in range(n_neu):\n",
    "        for k in range(j+1,n_neu):\n",
    "            angle = cos(activation[:,j],activation[:,k])\n",
    "            n_neu = model.fc1.weight.data.size(0)\n",
    "            if angle.item() >= math.cos(math.radians(theta)) and k in keep:  # similar neurons\n",
    "                model.fc1.weight.data[j] += model.fc1.weight.data[k]\n",
    "                model.fc1.bias.data[j] += model.fc1.bias.data[k]\n",
    "                model.fc2.weight.data[:,j] += model.fc2.weight.data[:,k] # adds together all weights and biases from k to j\n",
    "                keep.remove(k) #removes neuron k from list\n",
    "            if angle.item() <= math.cos(math.radians(180-theta)) and k in keep and j in keep: # complementary neurons\n",
    "                keep.remove(k) #removes neuron k and j from list\n",
    "                keep.remove(j)\n",
    "    model.fc1.weight.data = model.fc1.weight.data[keep]\n",
    "    model.fc2.weight.data = model.fc2.weight.data[:,keep] # removes all relevant weights and biases from the model\n",
    "    model.fc1.bias.data = model.fc1.bias.data[keep]\n",
    "    return model"
   ]
  },
  {
   "cell_type": "code",
   "execution_count": 69,
   "metadata": {},
   "outputs": [],
   "source": [
    "#classification accuracy\n",
    "def accuracy(model, X, Y):\n",
    "    _, outputs = net(X)\n",
    "    _, predicted = torch.max(outputs, 1)\n",
    "    total = predicted.size(0)\n",
    "    correct = sum(predicted.data.numpy() == Y.data.numpy())\n",
    "    return 100*correct/total"
   ]
  },
  {
   "cell_type": "code",
   "execution_count": 70,
   "metadata": {},
   "outputs": [],
   "source": [
    "#classwise precision, recall, specificity matrix\n",
    "def plot_prs(inputs, num_classes, targets, outputs):\n",
    "    confusion = plot_confusion(inputs, num_classes, targets, outputs)\n",
    "    prs = torch.zeros(3, num_classes)\n",
    "    \n",
    "    def div(n, d):\n",
    "        if d == 0:\n",
    "            return 0\n",
    "        else:\n",
    "            return n / d\n",
    "    \n",
    "    for i in range(num_classes):\n",
    "        tp = confusion[i,i].item() # true postive\n",
    "        fp = (sum(confusion[:,i])-confusion[i,i]).item() #false positive\n",
    "        fn = (sum(confusion[i,:])-confusion[i,i]).item() #false negative\n",
    "        tn = targets.size(0)-tp-fp-fn #true negative\n",
    "        \n",
    "        prs[:,i] = torch.Tensor([div(tp,tp+fp),div(tp,tp+fn),div(tn,tn+fp)])\n",
    "    return prs"
   ]
  },
  {
   "cell_type": "code",
   "execution_count": 72,
   "metadata": {},
   "outputs": [],
   "source": [
    "#part 1: neural network hyperparamaterisation\n",
    "\n",
    "#second accuracy function based on outputs instead of the model itself\n",
    "def accuracy2(outputs, target):\n",
    "    _, predicted = torch.max(outputs, 1)\n",
    "    total = predicted.size(0)\n",
    "    correct = sum(predicted.data.numpy() == target.data.numpy())\n",
    "    return 100*correct/total\n",
    "\n",
    "# plots the accuracy v epoch graph of a regular neural network\n",
    "def normal_NN_graph(num_epoch, num_hidden, lr, x):\n",
    "    if x == 1:\n",
    "        data = data1\n",
    "    if x == 2:\n",
    "        data = data2 #choose which cross-validation set to use\n",
    "        \n",
    "    net = Net(10, num_hidden, 7)\n",
    "    optimizer = torch.optim.Adam(net.parameters(), lr=lr)\n",
    "\n",
    "    train_acc = []\n",
    "    test_acc = []\n",
    "\n",
    "    for epoch in range(num_epoch):\n",
    "        train_step(net, optimizer, data[4])\n",
    "        _, train_out = net(data[0])\n",
    "        _, test_out = net(data[2])\n",
    "        train_acc.append(accuracy2(train_out, data[1]))\n",
    "        test_acc.append(accuracy2(test_out, data[3])) #calculate accuracy at each epoch\n",
    "    \n",
    "    print('neurons:', num_hidden,', lr: ', lr)\n",
    "    print('Training Accuracy: %.2f %%' % accuracy2(train_out, data[1]))\n",
    "    print('Testing Accuracy: %.2f %%' % accuracy2(test_out, data[3]))\n",
    "\n",
    "    # plot accuracy v epoch\n",
    "    plt.figure()\n",
    "    plt.title('Classification accuracy during training')\n",
    "    plt.plot(train_acc, label=\"training\")\n",
    "    plt.plot(test_acc, label=\"testing\")\n",
    "    plt.xlabel('Training epoch')\n",
    "    plt.ylabel('Overall Accuracy (%)')\n",
    "    plt.legend()\n",
    "    plt.show()\n",
    "    \n",
    "    # plot PRS tensor\n",
    "    _, predicted = torch.max(test_out, 1)\n",
    "    print(plot_prs(data[2].shape[0], 7, predicted.long().data, data[3].data))\n",
    "    \n",
    "# calculate average testing accuracy for a normal neural network\n",
    "def normal_NN(num_epoch, num_hidden, lr):\n",
    "    test_acc = 0\n",
    "    for data in [data1,data2]: #cross-validation\n",
    "        net = Net(10, num_hidden, 7)\n",
    "        optimizer = torch.optim.Adam(net.parameters(), lr=lr)\n",
    "        for epoch in range(num_epoch):\n",
    "            train_step(net, optimizer, data[4])\n",
    "        _, test_out = net(data[2])\n",
    "        test_acc += accuracy2(test_out, data[3])\n",
    "    return test_acc * 0.5"
   ]
  },
  {
   "cell_type": "code",
   "execution_count": 73,
   "metadata": {},
   "outputs": [],
   "source": [
    "# calculate testing accuracies for a variety of networks\n",
    "lr_list = [0.01,0.001,0.0001]\n",
    "hidden_list = [10,20,50,100,200,500,1000]\n",
    "\n",
    "opt_tensor = torch.Tensor([[normal_NN(300, h, lr) for h in hidden_list] for lr in lr_list])\n",
    "print(opt_tensor)"
   ]
  },
  {
   "cell_type": "code",
   "execution_count": 50,
   "metadata": {},
   "outputs": [
    {
     "data": {
      "text/plain": [
       "tensor([[0.1667, 0.3553, 0.2196, 0.2618, 0.2509, 0.1630, 0.2712],\n",
       "        [0.1500, 0.0661, 0.3720, 0.3900, 0.1700, 0.1500, 0.2200],\n",
       "        [0.8693, 0.9732, 0.7772, 0.8031, 0.9094, 0.8659, 0.8902]])"
      ]
     },
     "execution_count": 50,
     "metadata": {},
     "output_type": "execute_result"
    }
   ],
   "source": [
    "# calculate average PRS tensor\n",
    "def prs_plot_2(num_epoch, num_hidden, lr):\n",
    "    prs_list = []\n",
    "    for data in [data1,data2]:\n",
    "        net = Net(10, num_hidden, 7)\n",
    "        optimizer = torch.optim.Adam(net.parameters(), lr=lr)\n",
    "        for epoch in range(num_epoch):\n",
    "            train_step(net, optimizer, data[4])\n",
    "        _, test_out = net(data[2])\n",
    "        _, predicted = torch.max(test_out, 1)\n",
    "        prs_list.append(plot_prs(data[2].shape[0], 7, predicted.long().data, data[3].data))\n",
    "    return torch.mean(torch.stack(prs_list), dim=0)\n",
    "\n",
    "prs_plot_2(300,20,0.01)"
   ]
  },
  {
   "cell_type": "code",
   "execution_count": 38,
   "metadata": {},
   "outputs": [
    {
     "name": "stdout",
     "output_type": "stream",
     "text": [
      "neurons: 100 , lr:  0.01\n",
      "Training Accuracy: 100.00 %\n",
      "Testing Accuracy: 25.52 %\n"
     ]
    },
    {
     "data": {
      "image/png": "[encoded data removed]",
      "text/plain": [
       "<Figure size 432x288 with 1 Axes>"
      ]
     },
     "metadata": {
      "needs_background": "light"
     },
     "output_type": "display_data"
    },
    {
     "name": "stdout",
     "output_type": "stream",
     "text": [
      "tensor([[0.2973, 0.1765, 0.3559, 0.3261, 0.2222, 0.2083, 0.1912],\n",
      "        [0.2200, 0.1579, 0.4286, 0.3000, 0.2000, 0.2000, 0.2600],\n",
      "        [0.9094, 0.9064, 0.8681, 0.8920, 0.8780, 0.8676, 0.8084]])\n",
      "None\n"
     ]
    }
   ],
   "source": [
    "normal_NN(2000,100,0.01,1)"
   ]
  },
  {
   "cell_type": "code",
   "execution_count": 105,
   "metadata": {},
   "outputs": [],
   "source": [
    "#part 2: pruned networks\n",
    "\n",
    "# collect data about accuracy and number of neurons before and after pruning\n",
    "def neuron_pruning(data):\n",
    "    before_acc = []\n",
    "    after_acc = []\n",
    "    before_neuron = []\n",
    "    after_neuron = []\n",
    "    \n",
    "    for neuron in [20, 50, 100, 200, 500, 1000]:\n",
    "        net = Net(10,neuron,7)\n",
    "        optimizer = torch.optim.Adam(net.parameters(), 0.01)\n",
    "\n",
    "        for epoch in range(300):\n",
    "            train_step(net, optimizer, data[4])\n",
    "            \n",
    "        _, test_out = net(data[2])\n",
    "        before_neuron.append(neuron)\n",
    "        before_acc.append(accuracy2(test_out, data[3]))\n",
    "\n",
    "        prune(net, data[0], 15)\n",
    "        _, test_out = net(data[2])\n",
    "        after_neuron.append(net.fc1.weight.data.size(0))\n",
    "        after_acc.append(accuracy2(test_out, data[3]))\n",
    "    \n",
    "    return torch.Tensor([before_acc, after_acc, before_neuron, after_neuron])"
   ]
  },
  {
   "cell_type": "code",
   "execution_count": 106,
   "metadata": {},
   "outputs": [],
   "source": [
    "#supplementary functions\n",
    "def addlist(list1,list2):\n",
    "    list3 = [[(a + b) for a, b in zip(x,y)] for x,y in zip(list1, list2)]\n",
    "    return list3\n",
    "\n",
    "def scalelist(list1,k):\n",
    "    list2 = [[a / k for a in x] for x in list1]\n",
    "    return list2"
   ]
  },
  {
   "cell_type": "code",
   "execution_count": 116,
   "metadata": {},
   "outputs": [
    {
     "name": "stdout",
     "output_type": "stream",
     "text": [
      "no\n",
      "yes\n",
      "no\n",
      "yes\n",
      "no\n",
      "yes\n",
      "no\n",
      "yes\n",
      "no\n",
      "yes\n"
     ]
    }
   ],
   "source": [
    "# generate data for part 2\n",
    "part2_data = []\n",
    "for x in range(5):\n",
    "    part2_data.append(neuron_pruning(data1))\n",
    "    part2_data.append(neuron_pruning(data2))\n",
    "part2_data = torch.mean(torch.stack(part2_data), dim=0)"
   ]
  },
  {
   "cell_type": "code",
   "execution_count": 118,
   "metadata": {},
   "outputs": [
    {
     "data": {
      "image/png": "[encoded data removed]",
      "text/plain": [
       "<Figure size 432x288 with 1 Axes>"
      ]
     },
     "metadata": {
      "needs_background": "light"
     },
     "output_type": "display_data"
    },
    {
     "data": {
      "image/png": "[encoded data removed]",
      "text/plain": [
       "<Figure size 432x288 with 1 Axes>"
      ]
     },
     "metadata": {
      "needs_background": "light"
     },
     "output_type": "display_data"
    }
   ],
   "source": [
    "plt.figure\n",
    "#plt.title('Number of hidden neurons pruned')\n",
    "plt.plot(part2_data[2], part2_data[3], 'bo')\n",
    "plt.plot(part2_data[2], part2_data[3])\n",
    "plt.xlabel('Initial number of neurons')\n",
    "plt.ylabel('Final number of neurons')\n",
    "plt.show()\n",
    "\n",
    "plt.figure\n",
    "#plt.title('Network accuracy before and after distinctiveness pruning')\n",
    "plt.plot(part2_data[2], part2_data[0], 'bo', label = 'before')\n",
    "plt.plot(part2_data[2], part2_data[0])\n",
    "plt.plot(part2_data[2], part2_data[1])\n",
    "plt.plot(part2_data[2], part2_data[1], 'ro', label = 'after')\n",
    "plt.legend()\n",
    "plt.xlabel('Initial number of neurons')\n",
    "plt.ylabel('Overall Accuracy (%)')\n",
    "plt.show()"
   ]
  },
  {
   "cell_type": "code",
   "execution_count": 81,
   "metadata": {},
   "outputs": [],
   "source": [
    "#part 3: distinctiveness threshold\n",
    "\n",
    "# collect data of final number of neurons and testing accuracy based on theta (distinctiveness threshold)\n",
    "def theta_pruning(data):\n",
    "    test_acc = []\n",
    "    theta_list = []\n",
    "    final_neurons = []\n",
    "\n",
    "    net = Net(10,100,7)\n",
    "    optimizer = torch.optim.Adam(net.parameters(), 0.01)\n",
    "    \n",
    "    for epoch in range(300):\n",
    "        train_step(net, optimizer, data[4])\n",
    "    \n",
    "    for theta in range(0,95,5):\n",
    "        model = net\n",
    "        prune(model, data[0], theta)\n",
    "        _, test_out = model(data[2])\n",
    "        theta_list.append(theta)\n",
    "        final_neurons.append(100-model.fc1.weight.data.size(0))\n",
    "        test_acc.append(accuracy2(test_out, data[3]))\n",
    "    \n",
    "    return torch.Tensor([theta_list, final_neurons, test_acc])"
   ]
  },
  {
   "cell_type": "code",
   "execution_count": 82,
   "metadata": {},
   "outputs": [
    {
     "name": "stdout",
     "output_type": "stream",
     "text": [
      "yes\n",
      "yes\n",
      "yes\n",
      "yes\n",
      "yes\n",
      "yes\n",
      "yes\n",
      "yes\n",
      "yes\n",
      "yes\n",
      "yes\n",
      "yes\n",
      "yes\n",
      "yes\n",
      "yes\n",
      "yes\n",
      "yes\n",
      "yes\n",
      "yes\n",
      "yes\n"
     ]
    }
   ],
   "source": [
    "# generate data and average out\n",
    "data_list = [[0]*19,[0]*19,[0]*19]\n",
    "for x in range(20):\n",
    "    data_list = addlist(data_list,theta_pruning(data1))\n",
    "    data_list = addlist(data_list,theta_pruning(data2))\n",
    "data_list = scalelist(data_list,40)"
   ]
  },
  {
   "cell_type": "code",
   "execution_count": 88,
   "metadata": {},
   "outputs": [
    {
     "data": {
      "image/png": "[encoded data removed]",
      "text/plain": [
       "<Figure size 432x288 with 1 Axes>"
      ]
     },
     "metadata": {
      "needs_background": "light"
     },
     "output_type": "display_data"
    },
    {
     "data": {
      "image/png": "[encoded data removed]",
      "text/plain": [
       "<Figure size 432x288 with 1 Axes>"
      ]
     },
     "metadata": {
      "needs_background": "light"
     },
     "output_type": "display_data"
    }
   ],
   "source": [
    "part3_data = data_list\n",
    "plt.figure\n",
    "plt.plot(part3_data[0], part3_data[1], 'bo')\n",
    "plt.xlabel('Threshold angle (degrees)')\n",
    "plt.ylabel('Proportion of neurons pruned (%)')\n",
    "plt.show()\n",
    "\n",
    "plt.figure\n",
    "plt.plot(part3_data[0], part3_data[2], 'bo')\n",
    "plt.xlabel('Threshold angle (degrees)')\n",
    "plt.ylabel('Overall Accuracy (%)')\n",
    "plt.show()"
   ]
  },
  {
   "cell_type": "code",
   "execution_count": 95,
   "metadata": {},
   "outputs": [
    {
     "data": {
      "image/png": "[encoded data removed]",
      "text/plain": [
       "<Figure size 432x288 with 2 Axes>"
      ]
     },
     "metadata": {
      "needs_background": "light"
     },
     "output_type": "display_data"
    }
   ],
   "source": [
    "\n",
    "part3_data = data_list\n",
    "fig, ax1 = plt.subplots()\n",
    "\n",
    "color = 'tab:red'\n",
    "ax1.set_xlabel('Threshold angle (degrees)')\n",
    "ax1.set_ylabel('Overall Accuracy (%)', color=color)\n",
    "ax1.plot(part3_data[0], part3_data[2], 'ro')\n",
    "ax1.tick_params(axis='y', labelcolor=color)\n",
    "\n",
    "ax2 = ax1.twinx()  # instantiate a second axes that shares the same x-axis\n",
    "\n",
    "color = 'tab:blue'\n",
    "ax2.set_ylabel('Proportion of neurons pruned (%)', color=color)  # we already handled the x-label with ax1\n",
    "ax2.plot(part3_data[0], part3_data[1], 'bo')\n",
    "ax2.tick_params(axis='y', labelcolor=color)\n",
    "\n",
    "fig.tight_layout()  # otherwise the right y-label is slightly clipped\n",
    "plt.show()"
   ]
  },
  {
   "cell_type": "code",
   "execution_count": null,
   "metadata": {},
   "outputs": [],
   "source": []
  }
 ],
 "metadata": {
  "kernelspec": {
   "display_name": "Python 3",
   "language": "python",
   "name": "python3"
  },
  "language_info": {
   "codemirror_mode": {
    "name": "ipython",
    "version": 3
   },
   "file_extension": ".py",
   "mimetype": "text/x-python",
   "name": "python",
   "nbconvert_exporter": "python",
   "pygments_lexer": "ipython3",
   "version": "3.8.5"
  }
 },
 "nbformat": 4,
 "nbformat_minor": 4
}
