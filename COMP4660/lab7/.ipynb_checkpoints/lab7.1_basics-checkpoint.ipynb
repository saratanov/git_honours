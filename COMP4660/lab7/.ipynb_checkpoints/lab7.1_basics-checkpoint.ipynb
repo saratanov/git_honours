{
 "cells": [
  {
   "cell_type": "markdown",
   "metadata": {},
   "source": [
    "# COMP4660/8420 Lab 8.1 Introduction to Genetic Algorithms\n",
    "\n",
    "## Theory Basics\n",
    "\n",
    "Q1. Why are genetic algorithms considered to be bio-inspired?"
   ]
  },
  {
   "cell_type": "raw",
   "metadata": {},
   "source": [
    "Answer:\n",
    "    "
   ]
  },
  {
   "cell_type": "markdown",
   "metadata": {},
   "source": [
    "Q2. What are genetic algorithms (GA) user for? Give an example of what you might use a GA for?"
   ]
  },
  {
   "cell_type": "raw",
   "metadata": {},
   "source": [
    "Answer:\n",
    "    "
   ]
  },
  {
   "cell_type": "markdown",
   "metadata": {},
   "source": [
    "Q3. Describe the main steps in a GA. Show the steps in a flowchart."
   ]
  },
  {
   "cell_type": "raw",
   "metadata": {},
   "source": [
    "Answer:\n",
    "    "
   ]
  },
  {
   "cell_type": "markdown",
   "metadata": {},
   "source": [
    "Q4. What are the purposes of the following in a GA?\n",
    "* Evaluation or fitness function\n",
    "* Mutation operation\n",
    "* Selection operation\n",
    "* Crossover operation"
   ]
  },
  {
   "cell_type": "raw",
   "metadata": {},
   "source": [
    "Answer:\n",
    "    "
   ]
  },
  {
   "cell_type": "markdown",
   "metadata": {},
   "source": [
    "Q5. Suppose you have to find the maximum turning point of a function y = f(x). You are given that the x-value of the point lies in the interval [x1, x2] and the y-value of the point lies in the interval [y1, y2]. Design a GA that can solve it. In your design, include the type of chromosome and selection method etc. that would be appropriate and suggest values for settings where required."
   ]
  },
  {
   "cell_type": "raw",
   "metadata": {},
   "source": [
    "Answer:\n",
    "    "
   ]
  },
  {
   "cell_type": "code",
   "execution_count": null,
   "metadata": {
    "collapsed": true
   },
   "outputs": [],
   "source": []
  }
 ],
 "metadata": {
  "kernelspec": {
   "display_name": "Python 3",
   "language": "python",
   "name": "python3"
  },
  "language_info": {
   "codemirror_mode": {
    "name": "ipython",
    "version": 3
   },
   "file_extension": ".py",
   "mimetype": "text/x-python",
   "name": "python",
   "nbconvert_exporter": "python",
   "pygments_lexer": "ipython3",
   "version": "3.6.4"
  }
 },
 "nbformat": 4,
 "nbformat_minor": 2
}
