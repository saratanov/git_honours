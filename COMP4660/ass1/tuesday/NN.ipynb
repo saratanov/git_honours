{
 "cells": [
  {
   "cell_type": "code",
   "execution_count": 1,
   "metadata": {},
   "outputs": [],
   "source": [
    "import torch\n",
    "import pandas as pd\n",
    "import numpy as np\n",
    "import torch.nn as nn\n",
    "import torch.utils.data\n",
    "from sklearn.model_selection import KFold"
   ]
  },
  {
   "cell_type": "code",
   "execution_count": 4,
   "metadata": {},
   "outputs": [],
   "source": [
    "# load all data\n",
    "data = pd.read_csv('SFEW.csv',  header=None, skiprows=1)\n",
    "\n",
    "# drop first column\n",
    "data.drop(data.columns[0], axis=1, inplace=True)\n",
    "\n",
    "# try shuffle data\n",
    "data = data.sample(frac=1).reset_index(drop=True)\n",
    "\n",
    "#preprocessing????\n",
    "for column in data:\n",
    "    if column == 1:\n",
    "        pass\n",
    "    else:\n",
    "        data[column] = data.loc[:, [column]].apply(lambda x: (x - x.mean()) / x.std())\n",
    "\n",
    "#reorder\n",
    "data = data[[2,3,4,5,6,7,8,9,10,11,1]]\n",
    "        \n",
    "# randomly split data into training set (80%) and testing set (20%)\n",
    "msk = np.random.rand(len(data)) < 0.8\n",
    "train_data = data[msk]\n",
    "test_data = data[~msk]"
   ]
  },
  {
   "cell_type": "code",
   "execution_count": 5,
   "metadata": {},
   "outputs": [],
   "source": [
    "train_LPQ_x = torch.Tensor(train_data.iloc[:, 0:5].values)\n",
    "train_PHOG_x = torch.Tensor(train_data.iloc[:, 5:10].values)\n",
    "train_y = torch.Tensor(train_data.iloc[:, 10].values-1).long()\n",
    "\n",
    "train_LPQ_dataset = torch.utils.data.TensorDataset(train_LPQ_x, train_y)\n",
    "train_PHOG_dataset = torch.utils.data.TensorDataset(train_PHOG_x, train_y)\n",
    "\n",
    "train_LPQ_loader = torch.utils.data.DataLoader(train_LPQ_dataset, batch_size=32, shuffle=True)\n",
    "train_PHOG_loader = torch.utils.data.DataLoader(train_PHOG_dataset, batch_size=32, shuffle=True)\n",
    "\n",
    "test_LPQ_x = torch.Tensor(test_data.iloc[:, 0:5].values)\n",
    "test_PHOG_x = torch.Tensor(test_data.iloc[:, 5:10].values)\n",
    "test_y = torch.Tensor(test_data.iloc[:, 10].values-1).long()"
   ]
  },
  {
   "cell_type": "code",
   "execution_count": 6,
   "metadata": {},
   "outputs": [],
   "source": [
    "class Net(nn.Module):\n",
    "    def __init__(self, input_size, hidden_size, num_classes):\n",
    "        super(Net, self).__init__()\n",
    "        self.fc1 = nn.Linear(5, hidden_size)\n",
    "        self.sigmoid = nn.Sigmoid()\n",
    "        self.out = nn.Linear(hidden_size, num_classes)\n",
    "\n",
    "    def forward(self, x):\n",
    "        out = self.fc1(x)\n",
    "        out = self.sigmoid(out)\n",
    "        out = self.out(out)\n",
    "        return out\n",
    "\n",
    "net = Net(5, 100, 7)"
   ]
  },
  {
   "cell_type": "code",
   "execution_count": 7,
   "metadata": {},
   "outputs": [],
   "source": [
    "# Loss and Optimizer\n",
    "criterion = nn.CrossEntropyLoss()\n",
    "optimizer = torch.optim.Adam(net.parameters(), lr=0.1)"
   ]
  },
  {
   "cell_type": "code",
   "execution_count": 8,
   "metadata": {},
   "outputs": [],
   "source": [
    "# define a function to plot confusion matrix\n",
    "def plot_confusion(input_sample, num_classes, des_output, actual_output):\n",
    "    confusion = torch.zeros(num_classes, num_classes)\n",
    "    for i in range(input_sample):\n",
    "        actual_class = actual_output[i]\n",
    "        predicted_class = des_output[i]\n",
    "\n",
    "        confusion[actual_class][predicted_class] += 1\n",
    "\n",
    "    return confusion"
   ]
  },
  {
   "cell_type": "code",
   "execution_count": 9,
   "metadata": {},
   "outputs": [
    {
     "name": "stdout",
     "output_type": "stream",
     "text": [
      "Epoch [1/301], Loss: 58.8058, Accuracy: 16.10 %\n",
      "Epoch [51/301], Loss: 27.0693, Accuracy: 37.50 %\n",
      "Epoch [101/301], Loss: 22.5985, Accuracy: 47.73 %\n",
      "Epoch [151/301], Loss: 19.5903, Accuracy: 56.06 %\n",
      "Epoch [201/301], Loss: 17.4748, Accuracy: 60.61 %\n",
      "Epoch [251/301], Loss: 15.8502, Accuracy: 63.07 %\n",
      "Epoch [301/301], Loss: 12.9173, Accuracy: 70.64 %\n"
     ]
    },
    {
     "data": {
      "image/png": "[encoded data removed]",
      "text/plain": [
       "<Figure size 432x288 with 1 Axes>"
      ]
     },
     "metadata": {
      "needs_background": "light"
     },
     "output_type": "display_data"
    },
    {
     "name": "stdout",
     "output_type": "stream",
     "text": [
      "Confusion matrix for training:\n",
      "tensor([[60.,  2.,  6.,  2.,  1.,  5.,  2.],\n",
      "        [ 2., 43.,  3.,  4.,  3.,  2.,  3.],\n",
      "        [ 2.,  0., 64.,  0.,  2.,  3.,  8.],\n",
      "        [ 2.,  1.,  4., 59.,  5.,  2.,  2.],\n",
      "        [ 4.,  1.,  6.,  3., 53.,  8.,  4.],\n",
      "        [ 6.,  0.,  7.,  3.,  0., 57.,  5.],\n",
      "        [ 4.,  2.,  8.,  2.,  3.,  7., 53.]])\n",
      "Testing Accuracy: 21.77 %\n",
      "Confusion matrix for testing:\n",
      "tensor([[ 4.,  0.,  4.,  4.,  2.,  3.,  5.],\n",
      "        [ 3.,  2.,  6.,  1.,  1.,  2.,  0.],\n",
      "        [ 2.,  2., 12.,  1.,  1.,  2.,  1.],\n",
      "        [ 6.,  5.,  1.,  4.,  1.,  6.,  2.],\n",
      "        [ 3.,  0.,  4.,  1.,  4.,  2.,  7.],\n",
      "        [ 5.,  2.,  4.,  6.,  1.,  2.,  2.],\n",
      "        [ 2.,  2.,  3.,  2.,  5.,  3.,  4.]])\n"
     ]
    }
   ],
   "source": [
    "all_losses = []\n",
    "num_epochs = 301\n",
    "\n",
    "# train the model by batch\n",
    "for epoch in range(num_epochs):\n",
    "    total = 0\n",
    "    correct = 0\n",
    "    total_loss = 0\n",
    "    for step, (batch_x, batch_y) in enumerate(train_LPQ_loader):\n",
    "        X = batch_x\n",
    "        Y = batch_y.long()\n",
    "\n",
    "        # Forward + Backward + Optimize\n",
    "        optimizer.zero_grad()  # zero the gradient buffer\n",
    "        outputs = net(X)\n",
    "        loss = criterion(outputs, Y)\n",
    "        all_losses.append(loss.item())\n",
    "        loss.backward()\n",
    "        optimizer.step()\n",
    "\n",
    "        if (epoch % 50 == 0):\n",
    "            _, predicted = torch.max(outputs, 1)\n",
    "            # calculate and print accuracy\n",
    "            total = total + predicted.size(0)\n",
    "            correct = correct + sum(predicted.data.numpy() == Y.data.numpy())\n",
    "            total_loss = total_loss + loss\n",
    "    if (epoch % 50 == 0):\n",
    "        print('Epoch [%d/%d], Loss: %.4f, Accuracy: %.2f %%'\n",
    "              % (epoch + 1, num_epochs,\n",
    "                 total_loss, 100 * correct/total))\n",
    "\n",
    "import matplotlib.pyplot as plt\n",
    "#\n",
    "plt.figure()\n",
    "plt.plot(all_losses)\n",
    "plt.show()\n",
    "\n",
    "outputs = net(train_LPQ_x)\n",
    "_, predicted = torch.max(outputs, 1)\n",
    "\n",
    "print('Confusion matrix for training:')\n",
    "print(plot_confusion(train_LPQ_x.shape[0], 7, predicted.long().data, train_y.data))\n",
    "\n",
    "#LPQ testing\n",
    "outputs = net(test_LPQ_x)\n",
    "_, predicted = torch.max(outputs, 1)\n",
    "\n",
    "total = predicted.size(0)\n",
    "correct = predicted.data.numpy() == test_y.data.numpy()\n",
    "\n",
    "print('Testing Accuracy: %.2f %%' % (100 * sum(correct)/total))\n",
    "\n",
    "print('Confusion matrix for testing:')\n",
    "print(plot_confusion(test_LPQ_x.shape[0], 7, predicted.long().data, test_y.data))"
   ]
  },
  {
   "cell_type": "code",
   "execution_count": null,
   "metadata": {},
   "outputs": [],
   "source": [
    "all_losses = []\n",
    "num_epochs = 301\n",
    "\n",
    "# train the model by batch\n",
    "for epoch in range(num_epochs):\n",
    "    for step, (batch_x, batch_y) in enumerate(train_LPQ_loader):\n",
    "        X = batch_x\n",
    "        Y = batch_y.long()\n",
    "\n",
    "        # Forward + Backward + Optimize\n",
    "        optimizer.zero_grad()  # zero the gradient buffer\n",
    "        outputs = net(X)\n",
    "        loss = criterion(outputs, Y)\n",
    "        all_losses.append(loss.item())\n",
    "        loss.backward()\n",
    "        optimizer.step()\n",
    "\n",
    "        if (epoch % 50 == 0):\n",
    "            _, predicted = torch.max(outputs, 1)\n",
    "            # calculate and print accuracy\n",
    "            total = total + predicted.size(0)\n",
    "            correct = correct + sum(predicted.data.numpy() == Y.data.numpy())\n",
    "            total_loss = total_loss + loss\n",
    "    if (epoch % 50 == 0):\n",
    "        print('Epoch [%d/%d], Loss: %.4f, Accuracy: %.2f %%'\n",
    "              % (epoch + 1, num_epochs,\n",
    "                 total_loss, 100 * correct/total))\n",
    "\n",
    "import matplotlib.pyplot as plt\n",
    "#\n",
    "plt.figure()\n",
    "plt.plot(all_losses)\n",
    "plt.show()\n",
    "\n",
    "outputs = net(train_LPQ_x)\n",
    "_, predicted = torch.max(outputs, 1)\n",
    "\n",
    "print('Confusion matrix for training:')\n",
    "print(plot_confusion(train_LPQ_x.shape[0], 7, predicted.long().data, train_y.data))\n",
    "\n",
    "#LPQ testing\n",
    "outputs = net(test_LPQ_x)\n",
    "_, predicted = torch.max(outputs, 1)\n",
    "\n",
    "total = predicted.size(0)\n",
    "correct = predicted.data.numpy() == test_y.data.numpy()\n",
    "\n",
    "print('Testing Accuracy: %.2f %%' % (100 * sum(correct)/total))\n",
    "\n",
    "print('Confusion matrix for testing:')\n",
    "print(plot_confusion(test_LPQ_x.shape[0], 7, predicted.long().data, test_y.data))"
   ]
  },
  {
   "cell_type": "code",
   "execution_count": 211,
   "metadata": {},
   "outputs": [
    {
     "name": "stdout",
     "output_type": "stream",
     "text": [
      "Epoch [1/301], Loss: nan, Accuracy: 16.07 %\n",
      "Epoch [51/301], Loss: nan, Accuracy: 13.80 %\n",
      "Epoch [101/301], Loss: nan, Accuracy: 13.80 %\n",
      "Epoch [151/301], Loss: nan, Accuracy: 13.80 %\n",
      "Epoch [201/301], Loss: nan, Accuracy: 13.80 %\n",
      "Epoch [251/301], Loss: nan, Accuracy: 13.80 %\n",
      "Epoch [301/301], Loss: nan, Accuracy: 13.80 %\n"
     ]
    },
    {
     "data": {
      "image/png": "[encoded data removed]",
      "text/plain": [
       "<Figure size 432x288 with 1 Axes>"
      ]
     },
     "metadata": {
      "needs_background": "light"
     },
     "output_type": "display_data"
    },
    {
     "name": "stdout",
     "output_type": "stream",
     "text": [
      "Confusion matrix for training:\n",
      "tensor([[73.,  0.,  0.,  0.,  0.,  0.,  0.],\n",
      "        [52.,  0.,  0.,  0.,  0.,  0.,  0.],\n",
      "        [79.,  0.,  0.,  0.,  0.,  0.,  0.],\n",
      "        [80.,  0.,  0.,  0.,  0.,  0.,  0.],\n",
      "        [84.,  0.,  0.,  0.,  0.,  0.,  0.],\n",
      "        [76.,  0.,  0.,  0.,  0.,  0.,  0.],\n",
      "        [85.,  0.,  0.,  0.,  0.,  0.,  0.]])\n",
      "Testing Accuracy: 18.49 %\n",
      "Confusion matrix for testing:\n",
      "tensor([[27.,  0.,  0.,  0.,  0.,  0.,  0.],\n",
      "        [23.,  0.,  0.,  0.,  0.,  0.,  0.],\n",
      "        [21.,  0.,  0.,  0.,  0.,  0.,  0.],\n",
      "        [20.,  0.,  0.,  0.,  0.,  0.,  0.],\n",
      "        [16.,  0.,  0.,  0.,  0.,  0.,  0.],\n",
      "        [24.,  0.,  0.,  0.,  0.,  0.,  0.],\n",
      "        [15.,  0.,  0.,  0.,  0.,  0.,  0.]])\n"
     ]
    }
   ],
   "source": [
    "all_losses = []\n",
    "\n",
    "# train the model by batch\n",
    "for epoch in range(num_epochs):\n",
    "    total = 0\n",
    "    correct = 0\n",
    "    total_loss = 0\n",
    "    for step, (batch_x, batch_y) in enumerate(train_PHOG_loader):\n",
    "        X = batch_x\n",
    "        Y = batch_y.long()\n",
    "\n",
    "        # Forward + Backward + Optimize\n",
    "        optimizer.zero_grad()  # zero the gradient buffer\n",
    "        outputs = net(X)\n",
    "        loss = criterion(outputs, Y)\n",
    "        all_losses.append(loss.item())\n",
    "        loss.backward()\n",
    "        optimizer.step()\n",
    "\n",
    "        if (epoch % 50 == 0):\n",
    "            _, predicted = torch.max(outputs, 1)\n",
    "            # calculate and print accuracy\n",
    "            total = total + predicted.size(0)\n",
    "            correct = correct + sum(predicted.data.numpy() == Y.data.numpy())\n",
    "            total_loss = total_loss + loss\n",
    "    if (epoch % 50 == 0):\n",
    "        print('Epoch [%d/%d], Loss: %.4f, Accuracy: %.2f %%'\n",
    "              % (epoch + 1, num_epochs,\n",
    "                 total_loss, 100 * correct/total))\n",
    "\n",
    "import matplotlib.pyplot as plt\n",
    "#\n",
    "plt.figure()\n",
    "plt.plot(all_losses)\n",
    "plt.show()\n",
    "\n",
    "outputs = net(train_PHOG_x)\n",
    "_, predicted = torch.max(outputs, 1)\n",
    "\n",
    "print('Confusion matrix for training:')\n",
    "print(plot_confusion(train_PHOG_x.shape[0], 7, predicted.long().data, train_y.data))\n",
    "\n",
    "#PHOG testing\n",
    "outputs = net(test_PHOG_x)\n",
    "_, predicted = torch.max(outputs, 1)\n",
    "\n",
    "total = predicted.size(0)\n",
    "correct = predicted.data.numpy() == test_y.data.numpy()\n",
    "\n",
    "print('Testing Accuracy: %.2f %%' % (100 * sum(correct)/total))\n",
    "\n",
    "print('Confusion matrix for testing:')\n",
    "print(plot_confusion(test_PHOG_x.shape[0], 7, predicted.long().data, test_y.data))"
   ]
  },
  {
   "cell_type": "code",
   "execution_count": 179,
   "metadata": {},
   "outputs": [],
   "source": [
    "train_combo_x = torch.Tensor(train_data.iloc[:, 0:10].values)\n",
    "train_y = torch.Tensor(train_data.iloc[:, 10].values-1).long()\n",
    "\n",
    "train_combo_dataset = torch.utils.data.TensorDataset(train_combo_x, train_y)\n",
    "\n",
    "train_combo_loader = torch.utils.data.DataLoader(train_combo_dataset, batch_size=32, shuffle=True)\n",
    "\n",
    "test_combo_x = torch.Tensor(test_data.iloc[:, 0:10].values)\n",
    "test_y = torch.Tensor(test_data.iloc[:, 10].values-1).long()"
   ]
  },
  {
   "cell_type": "code",
   "execution_count": 183,
   "metadata": {},
   "outputs": [],
   "source": [
    "class Net_combo(nn.Module):\n",
    "    def __init__(self, input_size, hidden_size, num_classes):\n",
    "        super(Net_combo, self).__init__()\n",
    "        self.fc1 = nn.Linear(5, hidden_size)\n",
    "        self.sigmoid = nn.Sigmoid()\n",
    "        self.fc2 = nn.Linear(hidden_size, num_classes)\n",
    "\n",
    "    def forward(self, x):\n",
    "        out = self.fc1(x)\n",
    "        out = self.sigmoid(out)\n",
    "        out = self.fc2(out)\n",
    "        return out\n",
    "\n",
    "net_combo = Net_combo(10, 50, 7)"
   ]
  },
  {
   "cell_type": "code",
   "execution_count": 186,
   "metadata": {},
   "outputs": [],
   "source": [
    "# Loss and Optimizer\n",
    "criterion = nn.CrossEntropyLoss()\n",
    "optimizer = torch.optim.Adam(net_combo.parameters(), lr=0.1)"
   ]
  },
  {
   "cell_type": "code",
   "execution_count": 27,
   "metadata": {},
   "outputs": [
    {
     "name": "stdout",
     "output_type": "stream",
     "text": [
      "Epoch [1/301], Loss: 13.0165, Accuracy: 71.97 %\n",
      "Epoch [51/301], Loss: 14.8817, Accuracy: 67.05 %\n",
      "Epoch [101/301], Loss: 12.3386, Accuracy: 72.35 %\n",
      "Epoch [151/301], Loss: 11.1430, Accuracy: 73.67 %\n",
      "Epoch [201/301], Loss: 10.6938, Accuracy: 76.89 %\n",
      "Epoch [251/301], Loss: 14.8343, Accuracy: 68.18 %\n",
      "Epoch [301/301], Loss: 10.2412, Accuracy: 76.14 %\n"
     ]
    },
    {
     "data": {
      "image/png": "[encoded data removed]",
      "text/plain": [
       "<Figure size 432x288 with 1 Axes>"
      ]
     },
     "metadata": {
      "needs_background": "light"
     },
     "output_type": "display_data"
    },
    {
     "name": "stdout",
     "output_type": "stream",
     "text": [
      "Confusion matrix for training:\n",
      "tensor([[56.,  4.,  7.,  2.,  2.,  5.,  2.],\n",
      "        [ 3., 49.,  3.,  2.,  2.,  0.,  1.],\n",
      "        [ 2.,  0., 70.,  0.,  2.,  2.,  3.],\n",
      "        [ 2.,  1.,  4., 62.,  2.,  3.,  1.],\n",
      "        [ 0.,  4., 10.,  3., 57.,  3.,  2.],\n",
      "        [ 2.,  2.,  6.,  4.,  2., 57.,  5.],\n",
      "        [ 2.,  1., 11.,  3.,  3.,  3., 56.]])\n",
      "Testing Accuracy: 26.53 %\n",
      "Confusion matrix for testing:\n",
      "tensor([[ 4.,  2.,  3.,  5.,  3.,  2.,  3.],\n",
      "        [ 1.,  4.,  6.,  1.,  1.,  1.,  1.],\n",
      "        [ 1.,  1., 15.,  1.,  1.,  1.,  1.],\n",
      "        [ 3.,  3.,  2.,  7.,  2.,  4.,  4.],\n",
      "        [ 5.,  1.,  5.,  2.,  3.,  2.,  3.],\n",
      "        [ 3.,  3.,  4.,  4.,  4.,  2.,  2.],\n",
      "        [ 0.,  4.,  4.,  3.,  5.,  1.,  4.]])\n"
     ]
    }
   ],
   "source": [
    "all_losses = []\n",
    "num_epochs = 301\n",
    "\n",
    "# train the model by batch\n",
    "for epoch in range(num_epochs):\n",
    "    total = 0\n",
    "    correct = 0\n",
    "    total_loss = 0\n",
    "    for step, (batch_x, batch_y) in enumerate(train_LPQ_loader):\n",
    "        X = batch_x\n",
    "        Y = batch_y.long()\n",
    "\n",
    "        # Forward + Backward + Optimize\n",
    "        optimizer.zero_grad()  # zero the gradient buffer\n",
    "        outputs = net(X)\n",
    "        loss = criterion(outputs, Y)\n",
    "        all_losses.append(loss.item())\n",
    "        loss.backward()\n",
    "        optimizer.step()\n",
    "\n",
    "        if (epoch % 50 == 0):\n",
    "            _, predicted = torch.max(outputs, 1)\n",
    "            # calculate and print accuracy\n",
    "            total = total + predicted.size(0)\n",
    "            correct = correct + sum(predicted.data.numpy() == Y.data.numpy())\n",
    "            total_loss = total_loss + loss\n",
    "    if (epoch % 50 == 0):\n",
    "        print('Epoch [%d/%d], Loss: %.4f, Accuracy: %.2f %%'\n",
    "              % (epoch + 1, num_epochs,\n",
    "                 total_loss, 100 * correct/total))\n",
    "\n",
    "import matplotlib.pyplot as plt\n",
    "#\n",
    "plt.figure()\n",
    "plt.plot(all_losses)\n",
    "plt.show()\n",
    "\n",
    "outputs = net(train_LPQ_x)\n",
    "_, predicted = torch.max(outputs, 1)\n",
    "\n",
    "print('Confusion matrix for training:')\n",
    "print(plot_confusion(train_LPQ_x.shape[0], 7, predicted.long().data, train_y.data))\n",
    "\n",
    "#LPQ testing\n",
    "outputs = net(test_LPQ_x)\n",
    "_, predicted = torch.max(outputs, 1)\n",
    "\n",
    "total = predicted.size(0)\n",
    "correct = predicted.data.numpy() == test_y.data.numpy()\n",
    "\n",
    "print('Testing Accuracy: %.2f %%' % (100 * sum(correct)/total))\n",
    "\n",
    "print('Confusion matrix for testing:')\n",
    "print(plot_confusion(test_LPQ_x.shape[0], 7, predicted.long().data, test_y.data))"
   ]
  },
  {
   "cell_type": "code",
   "execution_count": 30,
   "metadata": {},
   "outputs": [],
   "source": [
    "def plot_prs(inputs, num_classes, targets, outputs):\n",
    "    confusion = plot_confusion(inputs, num_classes, targets, outputs)\n",
    "    prs = torch.zeros(3, num_classes)\n",
    "    for i in range(num_classes):\n",
    "        tp = confusion[i,i].item()\n",
    "        fp = (sum(confusion[:,i])-confusion[i,i]).item()\n",
    "        fn = (sum(confusion[i,:])-confusion[i,i]).item()\n",
    "        tn = targets.size(0)-tp-fp-fn\n",
    "        prs[:,i] = torch.Tensor([tp/(tp+fp),tp/(tp+fn),tn/(tn+fp)])\n",
    "    return prs\n",
    "\n",
    "print(plot_prs(test_LPQ_x.shape[0], 7, predicted.long().data, test_y.data))"
   ]
  },
  {
   "cell_type": "code",
   "execution_count": 31,
   "metadata": {},
   "outputs": [
    {
     "name": "stdout",
     "output_type": "stream",
     "text": [
      "tensor([[0.2353, 0.2222, 0.3846, 0.3043, 0.1579, 0.1538, 0.2222],\n",
      "        [0.1818, 0.2667, 0.7143, 0.2800, 0.1429, 0.0909, 0.1905],\n",
      "        [0.8960, 0.8939, 0.8095, 0.8689, 0.8730, 0.9120, 0.8889]])\n"
     ]
    }
   ],
   "source": []
  },
  {
   "cell_type": "code",
   "execution_count": null,
   "metadata": {},
   "outputs": [],
   "source": []
  }
 ],
 "metadata": {
  "kernelspec": {
   "display_name": "Python 3",
   "language": "python",
   "name": "python3"
  },
  "language_info": {
   "codemirror_mode": {
    "name": "ipython",
    "version": 3
   },
   "file_extension": ".py",
   "mimetype": "text/x-python",
   "name": "python",
   "nbconvert_exporter": "python",
   "pygments_lexer": "ipython3",
   "version": "3.8.5"
  }
 },
 "nbformat": 4,
 "nbformat_minor": 4
}
