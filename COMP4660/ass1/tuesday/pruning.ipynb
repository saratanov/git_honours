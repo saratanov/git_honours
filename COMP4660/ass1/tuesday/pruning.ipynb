{
 "cells": [
  {
   "cell_type": "code",
   "execution_count": 2,
   "metadata": {},
   "outputs": [],
   "source": [
    "import torch\n",
    "import pandas as pd\n",
    "import numpy as np\n",
    "import torch.nn as nn\n",
    "import torch.utils.data\n",
    "import math"
   ]
  },
  {
   "cell_type": "code",
   "execution_count": 5,
   "metadata": {},
   "outputs": [],
   "source": [
    "# load all data\n",
    "data = pd.read_csv('SFEW.csv',  header=None, skiprows=1)\n",
    "\n",
    "# drop first column\n",
    "data.drop(data.columns[0], axis=1, inplace=True)\n",
    "data.drop([205], axis=0, inplace=True) #remove Nan PHOG descriptor pattern\n",
    "\n",
    "# try shuffle data\n",
    "data = data.sample(frac=1).reset_index(drop=True)\n",
    "\n",
    "#preprocessing????\n",
    "for column in data:\n",
    "    if column == 1:\n",
    "        pass\n",
    "    else:\n",
    "        data[column] = data.loc[:, [column]].apply(lambda x: (x - x.mean()) / x.std())\n",
    "\n",
    "#reorder\n",
    "data = data[[2,3,4,5,6,7,8,9,10,11,1]]\n",
    "        \n",
    "# randomly split data into training set (50%) and testing set (50%)\n",
    "msk = np.random.rand(len(data)) < 0.5\n",
    "set1 = data[msk]\n",
    "set2 = data[~msk]"
   ]
  },
  {
   "cell_type": "code",
   "execution_count": 8,
   "metadata": {},
   "outputs": [],
   "source": [
    "def data_tensor(dataset):\n",
    "    x = torch.Tensor(dataset.iloc[:, 0:10].values)\n",
    "    y = torch.Tensor(dataset.iloc[:, 10].values-1).long()\n",
    "    return x, y\n",
    "\n",
    "def data_prep(train, test):\n",
    "    train_x, train_y = data_tensor(train)\n",
    "    test_x, test_y = data_tensor(test)\n",
    "    train_dataset = torch.utils.data.TensorDataset(train_x, train_y)\n",
    "    train_loader = torch.utils.data.DataLoader(train_dataset, batch_size=32, shuffle=True)\n",
    "    return list([train_x, train_y, test_x, test_y, train_loader])\n",
    "\n",
    "data1 = data_prep(set1, set2)\n",
    "data2 = data_prep(set2, set1)"
   ]
  },
  {
   "cell_type": "code",
   "execution_count": 215,
   "metadata": {},
   "outputs": [],
   "source": [
    "train_LPQ_x = torch.Tensor(train_data.iloc[:, 0:5].values)\n",
    "train_PHOG_x = torch.Tensor(train_data.iloc[:, 5:10].values)\n",
    "train_y = torch.Tensor(train_data.iloc[:, 10].values-1).long()\n",
    "\n",
    "train_LPQ_dataset = torch.utils.data.TensorDataset(train_LPQ_x, train_y)\n",
    "train_PHOG_dataset = torch.utils.data.TensorDataset(train_PHOG_x, train_y)\n",
    "\n",
    "train_LPQ_loader = torch.utils.data.DataLoader(train_LPQ_dataset, batch_size=1, shuffle=True)\n",
    "train_PHOG_loader = torch.utils.data.DataLoader(train_PHOG_dataset, batch_size=32, shuffle=True)\n",
    "\n",
    "test_LPQ_x = torch.Tensor(test_data.iloc[:, 0:5].values)\n",
    "test_PHOG_x = torch.Tensor(test_data.iloc[:, 5:10].values)\n",
    "test_y = torch.Tensor(test_data.iloc[:, 10].values-1).long()"
   ]
  },
  {
   "cell_type": "code",
   "execution_count": 233,
   "metadata": {},
   "outputs": [],
   "source": [
    "class Net(nn.Module):\n",
    "    def __init__(self, input_size, hidden_size, num_classes):\n",
    "        super(Net, self).__init__()\n",
    "        self.fc1 = nn.Linear(input_size, hidden_size)\n",
    "        self.sigmoid = nn.Sigmoid()\n",
    "        self.fc2 = nn.Linear(hidden_size, num_classes)\n",
    "\n",
    "    def forward(self, x):\n",
    "        first = self.fc1(x)\n",
    "        act = self.sigmoid(first)\n",
    "        out = self.fc2(act)\n",
    "        return act, out\n",
    "\n",
    "net = Net(5, 200, 7)"
   ]
  },
  {
   "cell_type": "code",
   "execution_count": 234,
   "metadata": {},
   "outputs": [],
   "source": [
    "# Loss and Optimizer\n",
    "criterion = nn.CrossEntropyLoss()\n",
    "optimizer = torch.optim.Adam(net.parameters(), lr=0.0001)"
   ]
  },
  {
   "cell_type": "code",
   "execution_count": 235,
   "metadata": {},
   "outputs": [],
   "source": [
    "# define a function to plot confusion matrix\n",
    "def plot_confusion(input_sample, num_classes, des_output, actual_output):\n",
    "    confusion = torch.zeros(num_classes, num_classes)\n",
    "    for i in range(input_sample):\n",
    "        actual_class = actual_output[i]\n",
    "        predicted_class = des_output[i]\n",
    "\n",
    "        confusion[actual_class][predicted_class] += 1\n",
    "\n",
    "    return confusion"
   ]
  },
  {
   "cell_type": "code",
   "execution_count": 236,
   "metadata": {},
   "outputs": [
    {
     "name": "stdout",
     "output_type": "stream",
     "text": [
      "torch.Size([200, 5])\n"
     ]
    }
   ],
   "source": [
    "param = list(net.parameters())\n",
    "print(param[0].size())"
   ]
  },
  {
   "cell_type": "code",
   "execution_count": 237,
   "metadata": {},
   "outputs": [],
   "source": [
    "def train_step(model, optimizer, loader):\n",
    "    for step, (batch_x, batch_y) in enumerate(loader):\n",
    "        X = batch_x\n",
    "        Y = batch_y.long()\n",
    "        _, outputs = model(X)\n",
    "        loss = criterion(outputs, Y)\n",
    "        loss.backward()\n",
    "        optimizer.step()\n",
    "        optimizer.zero_grad(set_to_none=True)\n",
    "        return loss.item()\n",
    "        \n",
    "def prune_step(model, x):\n",
    "    n_neu = model.fc1.weight.data.size(0)\n",
    "    activation, _ = model(x)\n",
    "    cos = nn.CosineSimilarity(dim=0, eps=1e-6)\n",
    "    activation += torch.full(activation.size(), -0.5)\n",
    "    for j in range(n_neu):\n",
    "        for k in range(j+1,n_neu):\n",
    "            angle = cos(activation[:,j],activation[:,k])\n",
    "            n_neu = net.fc1.weight.data.size(0)\n",
    "            if angle.item() >= 0.965926:\n",
    "                model.fc1.weight.data[j] += model.fc1.weight.data[k]\n",
    "                model.fc1.bias.data[j] += model.fc1.bias.data[k]\n",
    "                \n",
    "                keep = list(range(n_neu))\n",
    "                print(k)\n",
    "                keep.pop(k)\n",
    "\n",
    "                model.fc1.weight.data = model.fc1.weight.data[keep]\n",
    "                model.fc2.weight.data = model.fc2.weight.data[:, keep]\n",
    "                model.fc1.bias.data = model.fc1.bias.data[keep]\n",
    "\n",
    "            if angle.item() <= -0.965926:\n",
    "                keep = list(range(n_neu))\n",
    "                keep.pop(k)\n",
    "                keep.pop(j)\n",
    "\n",
    "                model.fc1.weight.data = model.fc1.weight.data[keep]\n",
    "                model.fc2.weight.data = model.fc2.weight.data[:, keep]\n",
    "                model.fc1.bias.data = model.fc1.bias.data[keep]\n",
    "            \n",
    "            if net.fc1.weight.data.size(0) < n_neu:\n",
    "                break\n",
    "                \n",
    "        if net.fc1.weight.data.size(0) < n_neu:\n",
    "                break\n",
    "    return model\n",
    "\n",
    "def prune_step2(model, x):\n",
    "    n_neu = model.fc1.weight.data.size(0)\n",
    "    activation, _ = model(x)\n",
    "    cos = nn.CosineSimilarity(dim=0, eps=1e-6)\n",
    "    activation += torch.full(activation.size(), -0.5)\n",
    "    keep = list(range(n_neu))\n",
    "    for j in range(n_neu):\n",
    "        for k in range(j+1,n_neu):\n",
    "            angle = cos(activation[:,j],activation[:,k])\n",
    "            n_neu = net.fc1.weight.data.size(0)\n",
    "            if angle.item() >= 0.965926 and k in keep:\n",
    "                model.fc1.weight.data[j] += model.fc1.weight.data[k]\n",
    "                model.fc1.bias.data[j] += model.fc1.bias.data[k]\n",
    "                keep.remove(k)\n",
    "            if angle.item() <= -0.965926 and k in keep and j in keep:\n",
    "                keep.remove(k)\n",
    "                keep.remove(j)\n",
    "    model.fc1.weight.data = model.fc1.weight.data[keep]\n",
    "    model.fc2.weight.data = model.fc2.weight.data[:, keep]\n",
    "    model.fc1.bias.data = model.fc1.bias.data[keep]\n",
    "    return model"
   ]
  },
  {
   "cell_type": "code",
   "execution_count": 238,
   "metadata": {},
   "outputs": [],
   "source": [
    "def accuracy(model, X, Y):\n",
    "    _, outputs = net(X)\n",
    "    _, predicted = torch.max(outputs, 1)\n",
    "    total = predicted.size(0)\n",
    "    correct = sum(predicted.data.numpy() == Y.data.numpy())\n",
    "    return 100*correct/total"
   ]
  },
  {
   "cell_type": "code",
   "execution_count": 239,
   "metadata": {},
   "outputs": [],
   "source": [
    "net = Net(5,100,7)\n",
    "optimizer = torch.optim.Adam(net.parameters(), 0.0001)"
   ]
  },
  {
   "cell_type": "code",
   "execution_count": 240,
   "metadata": {},
   "outputs": [
    {
     "name": "stdout",
     "output_type": "stream",
     "text": [
      "Training Accuracy: 10.41 %\n",
      "Testing Accuracy: 18.25 %\n",
      "neurons:  93\n",
      "Training Accuracy: 13.01 %\n",
      "Testing Accuracy: 14.60 %\n",
      "neurons:  93\n",
      "Training Accuracy: 15.80 %\n",
      "Testing Accuracy: 14.60 %\n",
      "neurons:  93\n",
      "Training Accuracy: 15.06 %\n",
      "Testing Accuracy: 10.95 %\n",
      "neurons:  93\n",
      "Training Accuracy: 15.43 %\n",
      "Testing Accuracy: 11.68 %\n",
      "neurons:  93\n",
      "Training Accuracy: 16.54 %\n",
      "Testing Accuracy: 13.87 %\n",
      "neurons:  93\n",
      "Training Accuracy: 17.10 %\n",
      "Testing Accuracy: 13.87 %\n",
      "neurons:  93\n",
      "Training Accuracy: 18.03 %\n",
      "Testing Accuracy: 12.41 %\n",
      "neurons:  91\n",
      "Training Accuracy: 16.73 %\n",
      "Testing Accuracy: 13.14 %\n",
      "neurons:  91\n",
      "Training Accuracy: 17.66 %\n",
      "Testing Accuracy: 12.41 %\n",
      "neurons:  91\n"
     ]
    }
   ],
   "source": [
    "num_epochs = 1000\n",
    "\n",
    "for epoch in range(num_epochs):\n",
    "    train_step(net, optimizer, train_LPQ_loader)\n",
    "    if epoch % 100 == 0:\n",
    "        print('Training Accuracy: %.2f %%' % accuracy(net, train_LPQ_x, train_y))\n",
    "        print('Testing Accuracy: %.2f %%' % accuracy(net, test_LPQ_x, test_y))\n",
    "        \n",
    "        #pruning\n",
    "        net = prune_step2(net, train_LPQ_x)\n",
    "        print('neurons: ',net.fc1.weight.data.size(0))\n",
    "        optimizer = torch.optim.Adam(net.parameters(), 0.0001)"
   ]
  },
  {
   "cell_type": "code",
   "execution_count": 241,
   "metadata": {},
   "outputs": [
    {
     "name": "stdout",
     "output_type": "stream",
     "text": [
      "Training Accuracy: 13.94 %\n",
      "Testing Accuracy: 13.14 %\n",
      "neurons:  94\n"
     ]
    }
   ],
   "source": [
    "net = Net(5,100,7)\n",
    "optimizer = torch.optim.Adam(net.parameters(), 0.0001)\n",
    "\n",
    "num_epochs = 500\n",
    "\n",
    "for epoch in range(num_epochs):\n",
    "    train_step(net, optimizer, train_LPQ_loader)\n",
    "    if epoch % 500 == 0:\n",
    "        print('Training Accuracy: %.2f %%' % accuracy(net, train_LPQ_x, train_y))\n",
    "        print('Testing Accuracy: %.2f %%' % accuracy(net, test_LPQ_x, test_y))\n",
    "        \n",
    "#pruning\n",
    "net = prune_step2(net, train_LPQ_x)\n",
    "print('neurons: ',net.fc1.weight.data.size(0))\n",
    "optimizer = torch.optim.Adam(net.parameters(), 0.0001)"
   ]
  },
  {
   "cell_type": "code",
   "execution_count": 242,
   "metadata": {},
   "outputs": [
    {
     "name": "stdout",
     "output_type": "stream",
     "text": [
      "Training Accuracy: 17.66 %\n",
      "Testing Accuracy: 14.60 %\n",
      "neurons:  94\n",
      "Training Accuracy: 15.99 %\n",
      "Testing Accuracy: 8.76 %\n",
      "neurons:  94\n",
      "Training Accuracy: 15.80 %\n",
      "Testing Accuracy: 9.49 %\n",
      "neurons:  94\n",
      "Training Accuracy: 16.36 %\n",
      "Testing Accuracy: 10.22 %\n",
      "neurons:  94\n",
      "Training Accuracy: 15.99 %\n",
      "Testing Accuracy: 9.49 %\n",
      "neurons:  94\n",
      "Training Accuracy: 16.36 %\n",
      "Testing Accuracy: 10.22 %\n",
      "neurons:  94\n",
      "Training Accuracy: 16.54 %\n",
      "Testing Accuracy: 9.49 %\n",
      "neurons:  94\n",
      "Training Accuracy: 18.40 %\n",
      "Testing Accuracy: 14.60 %\n",
      "neurons:  94\n",
      "Training Accuracy: 17.10 %\n",
      "Testing Accuracy: 17.52 %\n",
      "neurons:  94\n",
      "Training Accuracy: 17.29 %\n",
      "Testing Accuracy: 11.68 %\n",
      "neurons:  94\n"
     ]
    }
   ],
   "source": [
    "num_epochs = 1000\n",
    "\n",
    "for epoch in range(num_epochs):\n",
    "    train_step(net, optimizer, train_LPQ_loader)\n",
    "    if epoch % 100 == 0:\n",
    "        print('Training Accuracy: %.2f %%' % accuracy(net, train_LPQ_x, train_y))\n",
    "        print('Testing Accuracy: %.2f %%' % accuracy(net, test_LPQ_x, test_y))\n",
    "        \n",
    "        #pruning\n",
    "        prune_step2(net, train_LPQ_x)\n",
    "        print('neurons: ',net.fc1.weight.data.size(0))\n",
    "        optimizer = torch.optim.Adam(net.parameters(), 0.0001)"
   ]
  },
  {
   "cell_type": "code",
   "execution_count": 243,
   "metadata": {},
   "outputs": [
    {
     "name": "stdout",
     "output_type": "stream",
     "text": [
      "neurons:  20\n",
      "Training Accuracy: 14.87 %\n",
      "Testing Accuracy: 15.33 %\n",
      "neurons:  19\n",
      "Training Accuracy: 13.75 %\n",
      "Testing Accuracy: 12.41 %\n",
      "neurons:  18\n",
      "Training Accuracy: 15.43 %\n",
      "Testing Accuracy: 19.71 %\n",
      "neurons:  17\n",
      "Training Accuracy: 13.94 %\n",
      "Testing Accuracy: 6.57 %\n",
      "neurons:  16\n",
      "Training Accuracy: 13.20 %\n",
      "Testing Accuracy: 18.25 %\n",
      "neurons:  15\n",
      "Training Accuracy: 13.94 %\n",
      "Testing Accuracy: 17.52 %\n",
      "neurons:  14\n",
      "Training Accuracy: 14.13 %\n",
      "Testing Accuracy: 13.87 %\n",
      "neurons:  13\n",
      "Training Accuracy: 13.75 %\n",
      "Testing Accuracy: 15.33 %\n",
      "neurons:  12\n",
      "Training Accuracy: 16.54 %\n",
      "Testing Accuracy: 16.06 %\n",
      "neurons:  11\n",
      "Training Accuracy: 15.43 %\n",
      "Testing Accuracy: 13.87 %\n",
      "neurons:  10\n",
      "Training Accuracy: 15.80 %\n",
      "Testing Accuracy: 13.87 %\n",
      "neurons:  9\n",
      "Training Accuracy: 15.24 %\n",
      "Testing Accuracy: 15.33 %\n",
      "neurons:  8\n",
      "Training Accuracy: 17.66 %\n",
      "Testing Accuracy: 16.06 %\n",
      "neurons:  7\n",
      "Training Accuracy: 16.17 %\n",
      "Testing Accuracy: 17.52 %\n",
      "neurons:  6\n",
      "Training Accuracy: 13.75 %\n",
      "Testing Accuracy: 13.87 %\n",
      "neurons:  5\n",
      "Training Accuracy: 15.24 %\n",
      "Testing Accuracy: 14.60 %\n",
      "neurons:  4\n",
      "Training Accuracy: 17.29 %\n",
      "Testing Accuracy: 13.87 %\n",
      "neurons:  3\n",
      "Training Accuracy: 17.29 %\n",
      "Testing Accuracy: 15.33 %\n",
      "neurons:  2\n",
      "Training Accuracy: 18.96 %\n",
      "Testing Accuracy: 14.60 %\n",
      "neurons:  1\n",
      "Training Accuracy: 16.17 %\n",
      "Testing Accuracy: 9.49 %\n",
      "neurons:  0\n",
      "Training Accuracy: 16.17 %\n",
      "Testing Accuracy: 9.49 %\n"
     ]
    },
    {
     "ename": "ValueError",
     "evalue": "array must be at least 2-d",
     "output_type": "error",
     "traceback": [
      "\u001b[1;31m---------------------------------------------------------------------------\u001b[0m",
      "\u001b[1;31mValueError\u001b[0m                                Traceback (most recent call last)",
      "\u001b[1;32m<ipython-input-243-cc0ae5a7fc5e>\u001b[0m in \u001b[0;36m<module>\u001b[1;34m\u001b[0m\n\u001b[0;32m     32\u001b[0m \u001b[1;33m\u001b[0m\u001b[0m\n\u001b[0;32m     33\u001b[0m         \u001b[1;31m#pruning\u001b[0m\u001b[1;33m\u001b[0m\u001b[1;33m\u001b[0m\u001b[1;33m\u001b[0m\u001b[0m\n\u001b[1;32m---> 34\u001b[1;33m         \u001b[0mnet\u001b[0m \u001b[1;33m=\u001b[0m \u001b[0mmin_prune\u001b[0m\u001b[1;33m(\u001b[0m\u001b[0mnet\u001b[0m\u001b[1;33m,\u001b[0m \u001b[0mtrain_LPQ_x\u001b[0m\u001b[1;33m,\u001b[0m \u001b[0mtrain_y\u001b[0m\u001b[1;33m)\u001b[0m\u001b[1;33m\u001b[0m\u001b[1;33m\u001b[0m\u001b[0m\n\u001b[0m\u001b[0;32m     35\u001b[0m         \u001b[0moptimizer\u001b[0m \u001b[1;33m=\u001b[0m \u001b[0mtorch\u001b[0m\u001b[1;33m.\u001b[0m\u001b[0moptim\u001b[0m\u001b[1;33m.\u001b[0m\u001b[0mAdam\u001b[0m\u001b[1;33m(\u001b[0m\u001b[0mnet\u001b[0m\u001b[1;33m.\u001b[0m\u001b[0mparameters\u001b[0m\u001b[1;33m(\u001b[0m\u001b[1;33m)\u001b[0m\u001b[1;33m,\u001b[0m \u001b[1;36m0.0001\u001b[0m\u001b[1;33m)\u001b[0m\u001b[1;33m\u001b[0m\u001b[1;33m\u001b[0m\u001b[0m\n",
      "\u001b[1;32m<ipython-input-243-cc0ae5a7fc5e>\u001b[0m in \u001b[0;36mmin_prune\u001b[1;34m(model, x, y)\u001b[0m\n\u001b[0;32m      5\u001b[0m     \u001b[0mcos\u001b[0m \u001b[1;33m=\u001b[0m \u001b[0mnn\u001b[0m\u001b[1;33m.\u001b[0m\u001b[0mCosineSimilarity\u001b[0m\u001b[1;33m(\u001b[0m\u001b[0mdim\u001b[0m\u001b[1;33m=\u001b[0m\u001b[1;36m0\u001b[0m\u001b[1;33m,\u001b[0m \u001b[0meps\u001b[0m\u001b[1;33m=\u001b[0m\u001b[1;36m1e-6\u001b[0m\u001b[1;33m)\u001b[0m\u001b[1;33m\u001b[0m\u001b[1;33m\u001b[0m\u001b[0m\n\u001b[0;32m      6\u001b[0m     \u001b[0mangles\u001b[0m \u001b[1;33m=\u001b[0m \u001b[0mnp\u001b[0m\u001b[1;33m.\u001b[0m\u001b[0marray\u001b[0m\u001b[1;33m(\u001b[0m\u001b[1;33m[\u001b[0m\u001b[1;33m[\u001b[0m\u001b[0mcos\u001b[0m\u001b[1;33m(\u001b[0m\u001b[0mactivation\u001b[0m\u001b[1;33m[\u001b[0m\u001b[1;33m:\u001b[0m\u001b[1;33m,\u001b[0m\u001b[0mj\u001b[0m\u001b[1;33m]\u001b[0m\u001b[1;33m,\u001b[0m\u001b[0mactivation\u001b[0m\u001b[1;33m[\u001b[0m\u001b[1;33m:\u001b[0m\u001b[1;33m,\u001b[0m\u001b[0mk\u001b[0m\u001b[1;33m]\u001b[0m\u001b[1;33m)\u001b[0m\u001b[1;33m.\u001b[0m\u001b[0mitem\u001b[0m\u001b[1;33m(\u001b[0m\u001b[1;33m)\u001b[0m \u001b[1;32mfor\u001b[0m \u001b[0mk\u001b[0m \u001b[1;32min\u001b[0m \u001b[0mrange\u001b[0m\u001b[1;33m(\u001b[0m\u001b[0mn_neu\u001b[0m\u001b[1;33m)\u001b[0m\u001b[1;33m]\u001b[0m \u001b[1;32mfor\u001b[0m \u001b[0mj\u001b[0m \u001b[1;32min\u001b[0m \u001b[0mrange\u001b[0m \u001b[1;33m(\u001b[0m\u001b[0mn_neu\u001b[0m\u001b[1;33m)\u001b[0m\u001b[1;33m]\u001b[0m\u001b[1;33m)\u001b[0m\u001b[1;33m\u001b[0m\u001b[1;33m\u001b[0m\u001b[0m\n\u001b[1;32m----> 7\u001b[1;33m     \u001b[0mnp\u001b[0m\u001b[1;33m.\u001b[0m\u001b[0mfill_diagonal\u001b[0m\u001b[1;33m(\u001b[0m\u001b[0mangles\u001b[0m\u001b[1;33m,\u001b[0m\u001b[1;36m0\u001b[0m\u001b[1;33m)\u001b[0m\u001b[1;33m\u001b[0m\u001b[1;33m\u001b[0m\u001b[0m\n\u001b[0m\u001b[0;32m      8\u001b[0m     \u001b[1;33m(\u001b[0m\u001b[0mj\u001b[0m\u001b[1;33m,\u001b[0m\u001b[0mk\u001b[0m\u001b[1;33m)\u001b[0m \u001b[1;33m=\u001b[0m \u001b[0mnp\u001b[0m\u001b[1;33m.\u001b[0m\u001b[0munravel_index\u001b[0m\u001b[1;33m(\u001b[0m\u001b[0mangles\u001b[0m\u001b[1;33m.\u001b[0m\u001b[0margmax\u001b[0m\u001b[1;33m(\u001b[0m\u001b[1;33m)\u001b[0m\u001b[1;33m,\u001b[0m \u001b[0mangles\u001b[0m\u001b[1;33m.\u001b[0m\u001b[0mshape\u001b[0m\u001b[1;33m)\u001b[0m\u001b[1;33m\u001b[0m\u001b[1;33m\u001b[0m\u001b[0m\n\u001b[0;32m      9\u001b[0m \u001b[1;33m\u001b[0m\u001b[0m\n",
      "\u001b[1;32m<__array_function__ internals>\u001b[0m in \u001b[0;36mfill_diagonal\u001b[1;34m(*args, **kwargs)\u001b[0m\n",
      "\u001b[1;32m~\\anaconda5\\lib\\site-packages\\numpy\\lib\\index_tricks.py\u001b[0m in \u001b[0;36mfill_diagonal\u001b[1;34m(a, val, wrap)\u001b[0m\n\u001b[0;32m    857\u001b[0m     \"\"\"\n\u001b[0;32m    858\u001b[0m     \u001b[1;32mif\u001b[0m \u001b[0ma\u001b[0m\u001b[1;33m.\u001b[0m\u001b[0mndim\u001b[0m \u001b[1;33m<\u001b[0m \u001b[1;36m2\u001b[0m\u001b[1;33m:\u001b[0m\u001b[1;33m\u001b[0m\u001b[1;33m\u001b[0m\u001b[0m\n\u001b[1;32m--> 859\u001b[1;33m         \u001b[1;32mraise\u001b[0m \u001b[0mValueError\u001b[0m\u001b[1;33m(\u001b[0m\u001b[1;34m\"array must be at least 2-d\"\u001b[0m\u001b[1;33m)\u001b[0m\u001b[1;33m\u001b[0m\u001b[1;33m\u001b[0m\u001b[0m\n\u001b[0m\u001b[0;32m    860\u001b[0m     \u001b[0mend\u001b[0m \u001b[1;33m=\u001b[0m \u001b[1;32mNone\u001b[0m\u001b[1;33m\u001b[0m\u001b[1;33m\u001b[0m\u001b[0m\n\u001b[0;32m    861\u001b[0m     \u001b[1;32mif\u001b[0m \u001b[0ma\u001b[0m\u001b[1;33m.\u001b[0m\u001b[0mndim\u001b[0m \u001b[1;33m==\u001b[0m \u001b[1;36m2\u001b[0m\u001b[1;33m:\u001b[0m\u001b[1;33m\u001b[0m\u001b[1;33m\u001b[0m\u001b[0m\n",
      "\u001b[1;31mValueError\u001b[0m: array must be at least 2-d"
     ]
    }
   ],
   "source": [
    "def min_prune(model, x, y):\n",
    "    n_neu = model.fc1.weight.data.size(0)\n",
    "    activation, _ = model(x)\n",
    "    activation += torch.full(activation.size(), -0.5)\n",
    "    cos = nn.CosineSimilarity(dim=0, eps=1e-6)\n",
    "    angles = np.array([[cos(activation[:,j],activation[:,k]).item() for k in range(n_neu)] for j in range (n_neu)])\n",
    "    np.fill_diagonal(angles,0)\n",
    "    (j,k) = np.unravel_index(angles.argmax(), angles.shape)\n",
    "    \n",
    "    model.fc1.weight.data[j] += model.fc1.weight.data[k]\n",
    "    model.fc1.bias.data[j] += model.fc1.bias.data[k]\n",
    "                \n",
    "    keep = list(range(n_neu))\n",
    "    keep.pop(k)\n",
    "    \n",
    "    model.fc1.weight.data = model.fc1.weight.data[keep]\n",
    "    model.fc2.weight.data = model.fc2.weight.data[:, keep]\n",
    "    model.fc1.bias.data = model.fc1.bias.data[keep]\n",
    "\n",
    "    return model\n",
    "\n",
    "num_epochs = 3800\n",
    "net = Net(5, 20, 7)\n",
    "optimizer = torch.optim.Adam(net.parameters(), lr=0.0001)\n",
    "\n",
    "for epoch in range(num_epochs):\n",
    "    train_step(net, optimizer, train_LPQ_loader)\n",
    "    if epoch % 100 == 0:\n",
    "        print('neurons: ',net.fc1.weight.data.size(0))\n",
    "        print('Training Accuracy: %.2f %%' % accuracy(net, train_LPQ_x, train_y))\n",
    "        print('Testing Accuracy: %.2f %%' % accuracy(net, test_LPQ_x, test_y))\n",
    "        \n",
    "        #pruning\n",
    "        net = min_prune(net, train_LPQ_x, train_y)\n",
    "        optimizer = torch.optim.Adam(net.parameters(), 0.0001)"
   ]
  },
  {
   "cell_type": "code",
   "execution_count": 247,
   "metadata": {},
   "outputs": [
    {
     "ename": "RuntimeError",
     "evalue": "mat1 and mat2 shapes cannot be multiplied (538x10 and 5x0)",
     "output_type": "error",
     "traceback": [
      "\u001b[1;31m---------------------------------------------------------------------------\u001b[0m",
      "\u001b[1;31mRuntimeError\u001b[0m                              Traceback (most recent call last)",
      "\u001b[1;32m<ipython-input-247-dadf0519a524>\u001b[0m in \u001b[0;36m<module>\u001b[1;34m\u001b[0m\n\u001b[0;32m      6\u001b[0m     \u001b[0mtrain_step\u001b[0m\u001b[1;33m(\u001b[0m\u001b[0mnet2\u001b[0m\u001b[1;33m,\u001b[0m \u001b[0moptimizer2\u001b[0m\u001b[1;33m,\u001b[0m \u001b[0mtrain_loader\u001b[0m\u001b[1;33m)\u001b[0m\u001b[1;33m\u001b[0m\u001b[1;33m\u001b[0m\u001b[0m\n\u001b[0;32m      7\u001b[0m     \u001b[1;32mif\u001b[0m \u001b[0mepoch\u001b[0m \u001b[1;33m%\u001b[0m \u001b[1;36m200\u001b[0m \u001b[1;33m==\u001b[0m \u001b[1;36m0\u001b[0m\u001b[1;33m:\u001b[0m\u001b[1;33m\u001b[0m\u001b[1;33m\u001b[0m\u001b[0m\n\u001b[1;32m----> 8\u001b[1;33m         \u001b[0mprint\u001b[0m\u001b[1;33m(\u001b[0m\u001b[1;34m'Training Accuracy: %.2f %%'\u001b[0m \u001b[1;33m%\u001b[0m \u001b[0maccuracy\u001b[0m\u001b[1;33m(\u001b[0m\u001b[0mnet2\u001b[0m\u001b[1;33m,\u001b[0m \u001b[0mtrain_x\u001b[0m\u001b[1;33m,\u001b[0m \u001b[0mtrain_y\u001b[0m\u001b[1;33m)\u001b[0m\u001b[1;33m)\u001b[0m\u001b[1;33m\u001b[0m\u001b[1;33m\u001b[0m\u001b[0m\n\u001b[0m\u001b[0;32m      9\u001b[0m         \u001b[0mprint\u001b[0m\u001b[1;33m(\u001b[0m\u001b[1;34m'Testing Accuracy: %.2f %%'\u001b[0m \u001b[1;33m%\u001b[0m \u001b[0maccuracy\u001b[0m\u001b[1;33m(\u001b[0m\u001b[0mnet2\u001b[0m\u001b[1;33m,\u001b[0m \u001b[0mtest_x\u001b[0m\u001b[1;33m,\u001b[0m \u001b[0mtest_y\u001b[0m\u001b[1;33m)\u001b[0m\u001b[1;33m)\u001b[0m\u001b[1;33m\u001b[0m\u001b[1;33m\u001b[0m\u001b[0m\n",
      "\u001b[1;32m<ipython-input-238-e1c2385b4ff5>\u001b[0m in \u001b[0;36maccuracy\u001b[1;34m(model, X, Y)\u001b[0m\n\u001b[0;32m      1\u001b[0m \u001b[1;32mdef\u001b[0m \u001b[0maccuracy\u001b[0m\u001b[1;33m(\u001b[0m\u001b[0mmodel\u001b[0m\u001b[1;33m,\u001b[0m \u001b[0mX\u001b[0m\u001b[1;33m,\u001b[0m \u001b[0mY\u001b[0m\u001b[1;33m)\u001b[0m\u001b[1;33m:\u001b[0m\u001b[1;33m\u001b[0m\u001b[1;33m\u001b[0m\u001b[0m\n\u001b[1;32m----> 2\u001b[1;33m     \u001b[0m_\u001b[0m\u001b[1;33m,\u001b[0m \u001b[0moutputs\u001b[0m \u001b[1;33m=\u001b[0m \u001b[0mnet\u001b[0m\u001b[1;33m(\u001b[0m\u001b[0mX\u001b[0m\u001b[1;33m)\u001b[0m\u001b[1;33m\u001b[0m\u001b[1;33m\u001b[0m\u001b[0m\n\u001b[0m\u001b[0;32m      3\u001b[0m     \u001b[0m_\u001b[0m\u001b[1;33m,\u001b[0m \u001b[0mpredicted\u001b[0m \u001b[1;33m=\u001b[0m \u001b[0mtorch\u001b[0m\u001b[1;33m.\u001b[0m\u001b[0mmax\u001b[0m\u001b[1;33m(\u001b[0m\u001b[0moutputs\u001b[0m\u001b[1;33m,\u001b[0m \u001b[1;36m1\u001b[0m\u001b[1;33m)\u001b[0m\u001b[1;33m\u001b[0m\u001b[1;33m\u001b[0m\u001b[0m\n\u001b[0;32m      4\u001b[0m     \u001b[0mtotal\u001b[0m \u001b[1;33m=\u001b[0m \u001b[0mpredicted\u001b[0m\u001b[1;33m.\u001b[0m\u001b[0msize\u001b[0m\u001b[1;33m(\u001b[0m\u001b[1;36m0\u001b[0m\u001b[1;33m)\u001b[0m\u001b[1;33m\u001b[0m\u001b[1;33m\u001b[0m\u001b[0m\n\u001b[0;32m      5\u001b[0m     \u001b[0mcorrect\u001b[0m \u001b[1;33m=\u001b[0m \u001b[0msum\u001b[0m\u001b[1;33m(\u001b[0m\u001b[0mpredicted\u001b[0m\u001b[1;33m.\u001b[0m\u001b[0mdata\u001b[0m\u001b[1;33m.\u001b[0m\u001b[0mnumpy\u001b[0m\u001b[1;33m(\u001b[0m\u001b[1;33m)\u001b[0m \u001b[1;33m==\u001b[0m \u001b[0mY\u001b[0m\u001b[1;33m.\u001b[0m\u001b[0mdata\u001b[0m\u001b[1;33m.\u001b[0m\u001b[0mnumpy\u001b[0m\u001b[1;33m(\u001b[0m\u001b[1;33m)\u001b[0m\u001b[1;33m)\u001b[0m\u001b[1;33m\u001b[0m\u001b[1;33m\u001b[0m\u001b[0m\n",
      "\u001b[1;32m~\\anaconda5\\lib\\site-packages\\torch\\nn\\modules\\module.py\u001b[0m in \u001b[0;36m_call_impl\u001b[1;34m(self, *input, **kwargs)\u001b[0m\n\u001b[0;32m    887\u001b[0m             \u001b[0mresult\u001b[0m \u001b[1;33m=\u001b[0m \u001b[0mself\u001b[0m\u001b[1;33m.\u001b[0m\u001b[0m_slow_forward\u001b[0m\u001b[1;33m(\u001b[0m\u001b[1;33m*\u001b[0m\u001b[0minput\u001b[0m\u001b[1;33m,\u001b[0m \u001b[1;33m**\u001b[0m\u001b[0mkwargs\u001b[0m\u001b[1;33m)\u001b[0m\u001b[1;33m\u001b[0m\u001b[1;33m\u001b[0m\u001b[0m\n\u001b[0;32m    888\u001b[0m         \u001b[1;32melse\u001b[0m\u001b[1;33m:\u001b[0m\u001b[1;33m\u001b[0m\u001b[1;33m\u001b[0m\u001b[0m\n\u001b[1;32m--> 889\u001b[1;33m             \u001b[0mresult\u001b[0m \u001b[1;33m=\u001b[0m \u001b[0mself\u001b[0m\u001b[1;33m.\u001b[0m\u001b[0mforward\u001b[0m\u001b[1;33m(\u001b[0m\u001b[1;33m*\u001b[0m\u001b[0minput\u001b[0m\u001b[1;33m,\u001b[0m \u001b[1;33m**\u001b[0m\u001b[0mkwargs\u001b[0m\u001b[1;33m)\u001b[0m\u001b[1;33m\u001b[0m\u001b[1;33m\u001b[0m\u001b[0m\n\u001b[0m\u001b[0;32m    890\u001b[0m         for hook in itertools.chain(\n\u001b[0;32m    891\u001b[0m                 \u001b[0m_global_forward_hooks\u001b[0m\u001b[1;33m.\u001b[0m\u001b[0mvalues\u001b[0m\u001b[1;33m(\u001b[0m\u001b[1;33m)\u001b[0m\u001b[1;33m,\u001b[0m\u001b[1;33m\u001b[0m\u001b[1;33m\u001b[0m\u001b[0m\n",
      "\u001b[1;32m<ipython-input-233-54dc00e91b25>\u001b[0m in \u001b[0;36mforward\u001b[1;34m(self, x)\u001b[0m\n\u001b[0;32m      7\u001b[0m \u001b[1;33m\u001b[0m\u001b[0m\n\u001b[0;32m      8\u001b[0m     \u001b[1;32mdef\u001b[0m \u001b[0mforward\u001b[0m\u001b[1;33m(\u001b[0m\u001b[0mself\u001b[0m\u001b[1;33m,\u001b[0m \u001b[0mx\u001b[0m\u001b[1;33m)\u001b[0m\u001b[1;33m:\u001b[0m\u001b[1;33m\u001b[0m\u001b[1;33m\u001b[0m\u001b[0m\n\u001b[1;32m----> 9\u001b[1;33m         \u001b[0mfirst\u001b[0m \u001b[1;33m=\u001b[0m \u001b[0mself\u001b[0m\u001b[1;33m.\u001b[0m\u001b[0mfc1\u001b[0m\u001b[1;33m(\u001b[0m\u001b[0mx\u001b[0m\u001b[1;33m)\u001b[0m\u001b[1;33m\u001b[0m\u001b[1;33m\u001b[0m\u001b[0m\n\u001b[0m\u001b[0;32m     10\u001b[0m         \u001b[0mact\u001b[0m \u001b[1;33m=\u001b[0m \u001b[0mself\u001b[0m\u001b[1;33m.\u001b[0m\u001b[0msigmoid\u001b[0m\u001b[1;33m(\u001b[0m\u001b[0mfirst\u001b[0m\u001b[1;33m)\u001b[0m\u001b[1;33m\u001b[0m\u001b[1;33m\u001b[0m\u001b[0m\n\u001b[0;32m     11\u001b[0m         \u001b[0mout\u001b[0m \u001b[1;33m=\u001b[0m \u001b[0mself\u001b[0m\u001b[1;33m.\u001b[0m\u001b[0mfc2\u001b[0m\u001b[1;33m(\u001b[0m\u001b[0mact\u001b[0m\u001b[1;33m)\u001b[0m\u001b[1;33m\u001b[0m\u001b[1;33m\u001b[0m\u001b[0m\n",
      "\u001b[1;32m~\\anaconda5\\lib\\site-packages\\torch\\nn\\modules\\module.py\u001b[0m in \u001b[0;36m_call_impl\u001b[1;34m(self, *input, **kwargs)\u001b[0m\n\u001b[0;32m    887\u001b[0m             \u001b[0mresult\u001b[0m \u001b[1;33m=\u001b[0m \u001b[0mself\u001b[0m\u001b[1;33m.\u001b[0m\u001b[0m_slow_forward\u001b[0m\u001b[1;33m(\u001b[0m\u001b[1;33m*\u001b[0m\u001b[0minput\u001b[0m\u001b[1;33m,\u001b[0m \u001b[1;33m**\u001b[0m\u001b[0mkwargs\u001b[0m\u001b[1;33m)\u001b[0m\u001b[1;33m\u001b[0m\u001b[1;33m\u001b[0m\u001b[0m\n\u001b[0;32m    888\u001b[0m         \u001b[1;32melse\u001b[0m\u001b[1;33m:\u001b[0m\u001b[1;33m\u001b[0m\u001b[1;33m\u001b[0m\u001b[0m\n\u001b[1;32m--> 889\u001b[1;33m             \u001b[0mresult\u001b[0m \u001b[1;33m=\u001b[0m \u001b[0mself\u001b[0m\u001b[1;33m.\u001b[0m\u001b[0mforward\u001b[0m\u001b[1;33m(\u001b[0m\u001b[1;33m*\u001b[0m\u001b[0minput\u001b[0m\u001b[1;33m,\u001b[0m \u001b[1;33m**\u001b[0m\u001b[0mkwargs\u001b[0m\u001b[1;33m)\u001b[0m\u001b[1;33m\u001b[0m\u001b[1;33m\u001b[0m\u001b[0m\n\u001b[0m\u001b[0;32m    890\u001b[0m         for hook in itertools.chain(\n\u001b[0;32m    891\u001b[0m                 \u001b[0m_global_forward_hooks\u001b[0m\u001b[1;33m.\u001b[0m\u001b[0mvalues\u001b[0m\u001b[1;33m(\u001b[0m\u001b[1;33m)\u001b[0m\u001b[1;33m,\u001b[0m\u001b[1;33m\u001b[0m\u001b[1;33m\u001b[0m\u001b[0m\n",
      "\u001b[1;32m~\\anaconda5\\lib\\site-packages\\torch\\nn\\modules\\linear.py\u001b[0m in \u001b[0;36mforward\u001b[1;34m(self, input)\u001b[0m\n\u001b[0;32m     92\u001b[0m \u001b[1;33m\u001b[0m\u001b[0m\n\u001b[0;32m     93\u001b[0m     \u001b[1;32mdef\u001b[0m \u001b[0mforward\u001b[0m\u001b[1;33m(\u001b[0m\u001b[0mself\u001b[0m\u001b[1;33m,\u001b[0m \u001b[0minput\u001b[0m\u001b[1;33m:\u001b[0m \u001b[0mTensor\u001b[0m\u001b[1;33m)\u001b[0m \u001b[1;33m->\u001b[0m \u001b[0mTensor\u001b[0m\u001b[1;33m:\u001b[0m\u001b[1;33m\u001b[0m\u001b[1;33m\u001b[0m\u001b[0m\n\u001b[1;32m---> 94\u001b[1;33m         \u001b[1;32mreturn\u001b[0m \u001b[0mF\u001b[0m\u001b[1;33m.\u001b[0m\u001b[0mlinear\u001b[0m\u001b[1;33m(\u001b[0m\u001b[0minput\u001b[0m\u001b[1;33m,\u001b[0m \u001b[0mself\u001b[0m\u001b[1;33m.\u001b[0m\u001b[0mweight\u001b[0m\u001b[1;33m,\u001b[0m \u001b[0mself\u001b[0m\u001b[1;33m.\u001b[0m\u001b[0mbias\u001b[0m\u001b[1;33m)\u001b[0m\u001b[1;33m\u001b[0m\u001b[1;33m\u001b[0m\u001b[0m\n\u001b[0m\u001b[0;32m     95\u001b[0m \u001b[1;33m\u001b[0m\u001b[0m\n\u001b[0;32m     96\u001b[0m     \u001b[1;32mdef\u001b[0m \u001b[0mextra_repr\u001b[0m\u001b[1;33m(\u001b[0m\u001b[0mself\u001b[0m\u001b[1;33m)\u001b[0m \u001b[1;33m->\u001b[0m \u001b[0mstr\u001b[0m\u001b[1;33m:\u001b[0m\u001b[1;33m\u001b[0m\u001b[1;33m\u001b[0m\u001b[0m\n",
      "\u001b[1;32m~\\anaconda5\\lib\\site-packages\\torch\\nn\\functional.py\u001b[0m in \u001b[0;36mlinear\u001b[1;34m(input, weight, bias)\u001b[0m\n\u001b[0;32m   1751\u001b[0m     \u001b[1;32mif\u001b[0m \u001b[0mhas_torch_function_variadic\u001b[0m\u001b[1;33m(\u001b[0m\u001b[0minput\u001b[0m\u001b[1;33m,\u001b[0m \u001b[0mweight\u001b[0m\u001b[1;33m)\u001b[0m\u001b[1;33m:\u001b[0m\u001b[1;33m\u001b[0m\u001b[1;33m\u001b[0m\u001b[0m\n\u001b[0;32m   1752\u001b[0m         \u001b[1;32mreturn\u001b[0m \u001b[0mhandle_torch_function\u001b[0m\u001b[1;33m(\u001b[0m\u001b[0mlinear\u001b[0m\u001b[1;33m,\u001b[0m \u001b[1;33m(\u001b[0m\u001b[0minput\u001b[0m\u001b[1;33m,\u001b[0m \u001b[0mweight\u001b[0m\u001b[1;33m)\u001b[0m\u001b[1;33m,\u001b[0m \u001b[0minput\u001b[0m\u001b[1;33m,\u001b[0m \u001b[0mweight\u001b[0m\u001b[1;33m,\u001b[0m \u001b[0mbias\u001b[0m\u001b[1;33m=\u001b[0m\u001b[0mbias\u001b[0m\u001b[1;33m)\u001b[0m\u001b[1;33m\u001b[0m\u001b[1;33m\u001b[0m\u001b[0m\n\u001b[1;32m-> 1753\u001b[1;33m     \u001b[1;32mreturn\u001b[0m \u001b[0mtorch\u001b[0m\u001b[1;33m.\u001b[0m\u001b[0m_C\u001b[0m\u001b[1;33m.\u001b[0m\u001b[0m_nn\u001b[0m\u001b[1;33m.\u001b[0m\u001b[0mlinear\u001b[0m\u001b[1;33m(\u001b[0m\u001b[0minput\u001b[0m\u001b[1;33m,\u001b[0m \u001b[0mweight\u001b[0m\u001b[1;33m,\u001b[0m \u001b[0mbias\u001b[0m\u001b[1;33m)\u001b[0m\u001b[1;33m\u001b[0m\u001b[1;33m\u001b[0m\u001b[0m\n\u001b[0m\u001b[0;32m   1754\u001b[0m \u001b[1;33m\u001b[0m\u001b[0m\n\u001b[0;32m   1755\u001b[0m \u001b[1;33m\u001b[0m\u001b[0m\n",
      "\u001b[1;31mRuntimeError\u001b[0m: mat1 and mat2 shapes cannot be multiplied (538x10 and 5x0)"
     ]
    }
   ],
   "source": [
    "num_epochs = 3800\n",
    "net2 = Net(10, 20, 7)\n",
    "optimizer2 = torch.optim.Adam(net2.parameters(), lr=0.0001)\n",
    "\n",
    "for epoch in range(num_epochs):\n",
    "    train_step(net2, optimizer2, train_loader)\n",
    "    if epoch % 200 == 0:\n",
    "        print('Training Accuracy: %.2f %%' % accuracy(net2, train_x, train_y))\n",
    "        print('Testing Accuracy: %.2f %%' % accuracy(net2, test_x, test_y))"
   ]
  },
  {
   "cell_type": "code",
   "execution_count": 243,
   "metadata": {},
   "outputs": [
    {
     "name": "stdout",
     "output_type": "stream",
     "text": [
      "Training Accuracy: 22.06 %\n",
      "Testing Accuracy: 4.49 %\n",
      "neurons: 70\n"
     ]
    },
    {
     "ename": "RuntimeError",
     "evalue": "Function TBackward returned an invalid gradient at index 0 - got [7, 69] but expected shape compatible with [7, 70]",
     "output_type": "error",
     "traceback": [
      "\u001b[0;31m---------------------------------------------------------------------------\u001b[0m",
      "\u001b[0;31mRuntimeError\u001b[0m                              Traceback (most recent call last)",
      "\u001b[0;32m<ipython-input-243-1bfed247ad1f>\u001b[0m in \u001b[0;36m<module>\u001b[0;34m\u001b[0m\n\u001b[1;32m     10\u001b[0m             \u001b[0m_\u001b[0m\u001b[0;34m,\u001b[0m \u001b[0moutputs\u001b[0m \u001b[0;34m=\u001b[0m \u001b[0mnet\u001b[0m\u001b[0;34m(\u001b[0m\u001b[0mX\u001b[0m\u001b[0;34m)\u001b[0m\u001b[0;34m\u001b[0m\u001b[0;34m\u001b[0m\u001b[0m\n\u001b[1;32m     11\u001b[0m             \u001b[0mloss\u001b[0m \u001b[0;34m=\u001b[0m \u001b[0mcriterion\u001b[0m\u001b[0;34m(\u001b[0m\u001b[0moutputs\u001b[0m\u001b[0;34m,\u001b[0m \u001b[0mY\u001b[0m\u001b[0;34m)\u001b[0m\u001b[0;34m\u001b[0m\u001b[0;34m\u001b[0m\u001b[0m\n\u001b[0;32m---> 12\u001b[0;31m             \u001b[0mloss\u001b[0m\u001b[0;34m.\u001b[0m\u001b[0mbackward\u001b[0m\u001b[0;34m(\u001b[0m\u001b[0;34m)\u001b[0m\u001b[0;34m\u001b[0m\u001b[0;34m\u001b[0m\u001b[0m\n\u001b[0m\u001b[1;32m     13\u001b[0m             \u001b[0moptimizer\u001b[0m\u001b[0;34m.\u001b[0m\u001b[0mstep\u001b[0m\u001b[0;34m(\u001b[0m\u001b[0;34m)\u001b[0m\u001b[0;34m\u001b[0m\u001b[0;34m\u001b[0m\u001b[0m\n\u001b[1;32m     14\u001b[0m \u001b[0;34m\u001b[0m\u001b[0m\n",
      "\u001b[0;32m~/opt/anaconda3/lib/python3.8/site-packages/torch/tensor.py\u001b[0m in \u001b[0;36mbackward\u001b[0;34m(self, gradient, retain_graph, create_graph)\u001b[0m\n\u001b[1;32m    219\u001b[0m                 \u001b[0mretain_graph\u001b[0m\u001b[0;34m=\u001b[0m\u001b[0mretain_graph\u001b[0m\u001b[0;34m,\u001b[0m\u001b[0;34m\u001b[0m\u001b[0;34m\u001b[0m\u001b[0m\n\u001b[1;32m    220\u001b[0m                 create_graph=create_graph)\n\u001b[0;32m--> 221\u001b[0;31m         \u001b[0mtorch\u001b[0m\u001b[0;34m.\u001b[0m\u001b[0mautograd\u001b[0m\u001b[0;34m.\u001b[0m\u001b[0mbackward\u001b[0m\u001b[0;34m(\u001b[0m\u001b[0mself\u001b[0m\u001b[0;34m,\u001b[0m \u001b[0mgradient\u001b[0m\u001b[0;34m,\u001b[0m \u001b[0mretain_graph\u001b[0m\u001b[0;34m,\u001b[0m \u001b[0mcreate_graph\u001b[0m\u001b[0;34m)\u001b[0m\u001b[0;34m\u001b[0m\u001b[0;34m\u001b[0m\u001b[0m\n\u001b[0m\u001b[1;32m    222\u001b[0m \u001b[0;34m\u001b[0m\u001b[0m\n\u001b[1;32m    223\u001b[0m     \u001b[0;32mdef\u001b[0m \u001b[0mregister_hook\u001b[0m\u001b[0;34m(\u001b[0m\u001b[0mself\u001b[0m\u001b[0;34m,\u001b[0m \u001b[0mhook\u001b[0m\u001b[0;34m)\u001b[0m\u001b[0;34m:\u001b[0m\u001b[0;34m\u001b[0m\u001b[0;34m\u001b[0m\u001b[0m\n",
      "\u001b[0;32m~/opt/anaconda3/lib/python3.8/site-packages/torch/autograd/__init__.py\u001b[0m in \u001b[0;36mbackward\u001b[0;34m(tensors, grad_tensors, retain_graph, create_graph, grad_variables)\u001b[0m\n\u001b[1;32m    128\u001b[0m         \u001b[0mretain_graph\u001b[0m \u001b[0;34m=\u001b[0m \u001b[0mcreate_graph\u001b[0m\u001b[0;34m\u001b[0m\u001b[0;34m\u001b[0m\u001b[0m\n\u001b[1;32m    129\u001b[0m \u001b[0;34m\u001b[0m\u001b[0m\n\u001b[0;32m--> 130\u001b[0;31m     Variable._execution_engine.run_backward(\n\u001b[0m\u001b[1;32m    131\u001b[0m         \u001b[0mtensors\u001b[0m\u001b[0;34m,\u001b[0m \u001b[0mgrad_tensors_\u001b[0m\u001b[0;34m,\u001b[0m \u001b[0mretain_graph\u001b[0m\u001b[0;34m,\u001b[0m \u001b[0mcreate_graph\u001b[0m\u001b[0;34m,\u001b[0m\u001b[0;34m\u001b[0m\u001b[0;34m\u001b[0m\u001b[0m\n\u001b[1;32m    132\u001b[0m         allow_unreachable=True)  # allow_unreachable flag\n",
      "\u001b[0;31mRuntimeError\u001b[0m: Function TBackward returned an invalid gradient at index 0 - got [7, 69] but expected shape compatible with [7, 70]"
     ]
    }
   ],
   "source": [
    "for x in range(10):\n",
    "    for epoch in range(num_epochs):\n",
    "        for step, (batch_x, batch_y) in enumerate(train_LPQ_loader):\n",
    "            X = batch_x\n",
    "            Y = batch_y.long()\n",
    "            \n",
    "            # Forward + Backward + Optimize\n",
    "            optimizer = torch.optim.Adam(net.parameters(), lr=0.001)\n",
    "            optimizer.zero_grad(set_to_none=True)  # zero the gradient buffer\n",
    "            _, outputs = net(X)\n",
    "            loss = criterion(outputs, Y)\n",
    "            loss.backward()\n",
    "            optimizer.step()\n",
    "\n",
    "    #training accuracy\n",
    "    _, outputs = net(train_LPQ_x)\n",
    "    _, predicted = torch.max(outputs, 1)\n",
    "    total = predicted.size(0)\n",
    "    correct = sum(predicted.data.numpy() == train_y.data.numpy())\n",
    "    print('Training Accuracy: %.2f %%' % (100 * correct/total))\n",
    "\n",
    "    #testing accuracy\n",
    "    _, outputs = net(test_LPQ_x)\n",
    "    _, predicted = torch.max(outputs, 1)\n",
    "    correct = sum(predicted.data.numpy() == test_y.data.numpy())\n",
    "    print('Testing Accuracy: %.2f %%' % (100 * correct/total))\n",
    "    \n",
    "    n_neu = net.fc1.weight.data.size(0)\n",
    "    print('neurons:',n_neu)\n",
    "    act, _ = net(train_LPQ_x)\n",
    "    cos = nn.CosineSimilarity(dim=0, eps=1e-6)\n",
    "    for j in range(n_neu):\n",
    "        for k in range(j+1,n_neu):\n",
    "            angle = cos(act[:,j],act[:,k])\n",
    "            n_neu = net.fc1.weight.data.size(0)\n",
    "            if angle.item() >= 0.965926:\n",
    "                net.fc1.weight.data[j] += net.fc1.weight.data[k]\n",
    "                net.fc1.bias.data[j] += net.fc1.bias.data[k]\n",
    "                \n",
    "                keep = list(range(n_neu))\n",
    "                keep.pop(k)\n",
    "\n",
    "                net.fc1.weight.data = net.fc1.weight.data[keep]\n",
    "                net.fc2.weight.data = net.fc2.weight.data[:, keep]\n",
    "                net.fc1.bias.data = net.fc1.bias.data[keep]\n",
    "\n",
    "            if angle.item() <= -0.965926:\n",
    "                keep = list(range(n_neu))\n",
    "                keep.pop(k)\n",
    "                keep.pop(j)\n",
    "\n",
    "                net.fc1.weight.data = net.fc1.weight.data[keep]\n",
    "                net.fc2.weight.data = net.fc2.weight.data[:, keep]\n",
    "                net.fc1.bias.data = net.fc1.bias.data[keep]\n",
    "            \n",
    "            if net.fc1.weight.data.size(0) < n_neu:\n",
    "                break\n",
    "                \n",
    "        if net.fc1.weight.data.size(0) < n_neu:\n",
    "                break\n",
    "    optimizer = torch.optim.Adam(net.parameters(), lr=0.001)\n"
   ]
  },
  {
   "cell_type": "code",
   "execution_count": 94,
   "metadata": {},
   "outputs": [
    {
     "name": "stdout",
     "output_type": "stream",
     "text": [
      "Training Accuracy: 62.06 %\n",
      "Testing Accuracy: 4.49 %\n"
     ]
    }
   ],
   "source": [
    "num_epochs = 200\n",
    "\n",
    "# train the model by batch\n",
    "for epoch in range(num_epochs):\n",
    "    total = 0\n",
    "    correct = 0\n",
    "    total_loss = 0\n",
    "    for step, (batch_x, batch_y) in enumerate(train_LPQ_loader):\n",
    "        X = batch_x\n",
    "        Y = batch_y.long()\n",
    "\n",
    "        # Forward + Backward + Optimize\n",
    "        optimizer.zero_grad()  # zero the gradient buffer\n",
    "        _, outputs = net(X)\n",
    "        loss = criterion(outputs, Y)\n",
    "        loss.backward()\n",
    "        optimizer.step()\n",
    "\n",
    "#training accuracy\n",
    "_, outputs = net(train_LPQ_x)\n",
    "_, predicted = torch.max(outputs, 1)\n",
    "total = predicted.size(0)\n",
    "correct = sum(predicted.data.numpy() == train_y.data.numpy())\n",
    "print('Training Accuracy: %.2f %%' % (100 * correct/total))\n",
    "\n",
    "#testing accuracy\n",
    "_, outputs = net(test_LPQ_x)\n",
    "_, predicted = torch.max(outputs, 1)\n",
    "correct = sum(predicted.data.numpy() == test_y.data.numpy())\n",
    "print('Testing Accuracy: %.2f %%' % (100 * correct/total))"
   ]
  },
  {
   "cell_type": "code",
   "execution_count": 211,
   "metadata": {},
   "outputs": [
    {
     "name": "stdout",
     "output_type": "stream",
     "text": [
      "Epoch [1/301], Loss: nan, Accuracy: 16.07 %\n",
      "Epoch [51/301], Loss: nan, Accuracy: 13.80 %\n",
      "Epoch [101/301], Loss: nan, Accuracy: 13.80 %\n",
      "Epoch [151/301], Loss: nan, Accuracy: 13.80 %\n",
      "Epoch [201/301], Loss: nan, Accuracy: 13.80 %\n",
      "Epoch [251/301], Loss: nan, Accuracy: 13.80 %\n",
      "Epoch [301/301], Loss: nan, Accuracy: 13.80 %\n"
     ]
    },
    {
     "data": {
      "image/png": "[encoded data removed]",
      "text/plain": [
       "<Figure size 432x288 with 1 Axes>"
      ]
     },
     "metadata": {
      "needs_background": "light"
     },
     "output_type": "display_data"
    },
    {
     "name": "stdout",
     "output_type": "stream",
     "text": [
      "Confusion matrix for training:\n",
      "tensor([[73.,  0.,  0.,  0.,  0.,  0.,  0.],\n",
      "        [52.,  0.,  0.,  0.,  0.,  0.,  0.],\n",
      "        [79.,  0.,  0.,  0.,  0.,  0.,  0.],\n",
      "        [80.,  0.,  0.,  0.,  0.,  0.,  0.],\n",
      "        [84.,  0.,  0.,  0.,  0.,  0.,  0.],\n",
      "        [76.,  0.,  0.,  0.,  0.,  0.,  0.],\n",
      "        [85.,  0.,  0.,  0.,  0.,  0.,  0.]])\n",
      "Testing Accuracy: 18.49 %\n",
      "Confusion matrix for testing:\n",
      "tensor([[27.,  0.,  0.,  0.,  0.,  0.,  0.],\n",
      "        [23.,  0.,  0.,  0.,  0.,  0.,  0.],\n",
      "        [21.,  0.,  0.,  0.,  0.,  0.,  0.],\n",
      "        [20.,  0.,  0.,  0.,  0.,  0.,  0.],\n",
      "        [16.,  0.,  0.,  0.,  0.,  0.,  0.],\n",
      "        [24.,  0.,  0.,  0.,  0.,  0.,  0.],\n",
      "        [15.,  0.,  0.,  0.,  0.,  0.,  0.]])\n"
     ]
    }
   ],
   "source": [
    "all_losses = []\n",
    "\n",
    "# train the model by batch\n",
    "for epoch in range(num_epochs):\n",
    "    total = 0\n",
    "    correct = 0\n",
    "    total_loss = 0\n",
    "    for step, (batch_x, batch_y) in enumerate(train_PHOG_loader):\n",
    "        X = batch_x\n",
    "        Y = batch_y.long()\n",
    "\n",
    "        # Forward + Backward + Optimize\n",
    "        optimizer.zero_grad()  # zero the gradient buffer\n",
    "        outputs = net(X)\n",
    "        loss = criterion(outputs, Y)\n",
    "        all_losses.append(loss.item())\n",
    "        loss.backward()\n",
    "        optimizer.step()\n",
    "\n",
    "        if (epoch % 50 == 0):\n",
    "            _, predicted = torch.max(outputs, 1)\n",
    "            # calculate and print accuracy\n",
    "            total = total + predicted.size(0)\n",
    "            correct = correct + sum(predicted.data.numpy() == Y.data.numpy())\n",
    "            total_loss = total_loss + loss\n",
    "    if (epoch % 50 == 0):\n",
    "        print('Epoch [%d/%d], Loss: %.4f, Accuracy: %.2f %%'\n",
    "              % (epoch + 1, num_epochs,\n",
    "                 total_loss, 100 * correct/total))\n",
    "\n",
    "import matplotlib.pyplot as plt\n",
    "#\n",
    "plt.figure()\n",
    "plt.plot(all_losses)\n",
    "plt.show()\n",
    "\n",
    "outputs = net(train_PHOG_x)\n",
    "_, predicted = torch.max(outputs, 1)\n",
    "\n",
    "print('Confusion matrix for training:')\n",
    "print(plot_confusion(train_PHOG_x.shape[0], 7, predicted.long().data, train_y.data))\n",
    "\n",
    "#PHOG testing\n",
    "outputs = net(test_PHOG_x)\n",
    "_, predicted = torch.max(outputs, 1)\n",
    "\n",
    "total = predicted.size(0)\n",
    "correct = predicted.data.numpy() == test_y.data.numpy()\n",
    "\n",
    "print('Testing Accuracy: %.2f %%' % (100 * sum(correct)/total))\n",
    "\n",
    "print('Confusion matrix for testing:')\n",
    "print(plot_confusion(test_PHOG_x.shape[0], 7, predicted.long().data, test_y.data))"
   ]
  },
  {
   "cell_type": "code",
   "execution_count": 179,
   "metadata": {},
   "outputs": [],
   "source": [
    "train_combo_x = torch.Tensor(train_data.iloc[:, 0:10].values)\n",
    "train_y = torch.Tensor(train_data.iloc[:, 10].values-1).long()\n",
    "\n",
    "train_combo_dataset = torch.utils.data.TensorDataset(train_combo_x, train_y)\n",
    "\n",
    "train_combo_loader = torch.utils.data.DataLoader(train_combo_dataset, batch_size=32, shuffle=True)\n",
    "\n",
    "test_combo_x = torch.Tensor(test_data.iloc[:, 0:10].values)\n",
    "test_y = torch.Tensor(test_data.iloc[:, 10].values-1).long()"
   ]
  },
  {
   "cell_type": "code",
   "execution_count": 183,
   "metadata": {},
   "outputs": [],
   "source": [
    "class Net_combo(nn.Module):\n",
    "    def __init__(self, input_size, hidden_size, num_classes):\n",
    "        super(Net_combo, self).__init__()\n",
    "        self.fc1 = nn.Linear(5, hidden_size)\n",
    "        self.sigmoid = nn.Sigmoid()\n",
    "        self.fc2 = nn.Linear(hidden_size, num_classes)\n",
    "\n",
    "    def forward(self, x):\n",
    "        out = self.fc1(x)\n",
    "        out = self.sigmoid(out)\n",
    "        out = self.fc2(out)\n",
    "        return out\n",
    "\n",
    "net_combo = Net_combo(10, 50, 7)"
   ]
  },
  {
   "cell_type": "code",
   "execution_count": 186,
   "metadata": {},
   "outputs": [],
   "source": [
    "# Loss and Optimizer\n",
    "criterion = nn.CrossEntropyLoss()\n",
    "optimizer = torch.optim.Adam(net_combo.parameters(), lr=0.1)"
   ]
  },
  {
   "cell_type": "code",
   "execution_count": 187,
   "metadata": {},
   "outputs": [
    {
     "name": "stdout",
     "output_type": "stream",
     "text": [
      "Epoch [1/301], Loss: 15.4208, Accuracy: 61.57 %\n",
      "Epoch [51/301], Loss: 15.4298, Accuracy: 61.57 %\n",
      "Epoch [101/301], Loss: 15.4077, Accuracy: 61.57 %\n",
      "Epoch [151/301], Loss: 15.4284, Accuracy: 61.57 %\n",
      "Epoch [201/301], Loss: 15.4101, Accuracy: 61.57 %\n",
      "Epoch [251/301], Loss: 15.4384, Accuracy: 61.57 %\n",
      "Epoch [301/301], Loss: 15.4249, Accuracy: 61.57 %\n"
     ]
    },
    {
     "data": {
      "image/png": "[encoded data removed]",
      "text/plain": [
       "<Figure size 432x288 with 1 Axes>"
      ]
     },
     "metadata": {
      "needs_background": "light"
     },
     "output_type": "display_data"
    },
    {
     "name": "stdout",
     "output_type": "stream",
     "text": [
      "Confusion matrix for training:\n",
      "tensor([[52.,  3.,  6., 14.,  2.,  2.,  3.],\n",
      "        [ 2., 35.,  1.,  8.,  1.,  4.,  5.],\n",
      "        [ 4.,  0., 52.,  8.,  3.,  2.,  1.],\n",
      "        [ 2.,  2.,  1., 59.,  0.,  5.,  2.],\n",
      "        [ 4.,  8.,  6., 12., 30.,  6.,  7.],\n",
      "        [ 3.,  5.,  5., 16.,  4., 49.,  1.],\n",
      "        [ 4., 13.,  4.,  8.,  6.,  3., 37.]])\n",
      "Testing Accuracy: 20.00 %\n",
      "Confusion matrix for testing:\n",
      "tensor([[ 4.,  2.,  3.,  2.,  2.,  3.,  2.],\n",
      "        [ 4.,  3.,  3.,  3.,  2.,  3.,  1.],\n",
      "        [ 5.,  5.,  8.,  4.,  3.,  2.,  3.],\n",
      "        [ 4.,  3.,  2., 10.,  3.,  3.,  4.],\n",
      "        [ 6.,  5.,  2.,  4.,  3.,  2.,  5.],\n",
      "        [ 2.,  5.,  2.,  4.,  1.,  2.,  1.],\n",
      "        [ 4.,  5.,  3.,  5.,  1.,  4.,  3.]])\n"
     ]
    }
   ],
   "source": [
    "all_losses = []\n",
    "num_epochs = 301\n",
    "\n",
    "# train the model by batch\n",
    "for epoch in range(num_epochs):\n",
    "    total = 0\n",
    "    correct = 0\n",
    "    total_loss = 0\n",
    "    for step, (batch_x, batch_y) in enumerate(train_LPQ_loader):\n",
    "        X = batch_x\n",
    "        Y = batch_y.long()\n",
    "\n",
    "        # Forward + Backward + Optimize\n",
    "        optimizer.zero_grad()  # zero the gradient buffer\n",
    "        outputs = net(X)\n",
    "        loss = criterion(outputs, Y)\n",
    "        all_losses.append(loss.item())\n",
    "        loss.backward()\n",
    "        optimizer.step()\n",
    "\n",
    "        if (epoch % 50 == 0):\n",
    "            _, predicted = torch.max(outputs, 1)\n",
    "            # calculate and print accuracy\n",
    "            total = total + predicted.size(0)\n",
    "            correct = correct + sum(predicted.data.numpy() == Y.data.numpy())\n",
    "            total_loss = total_loss + loss\n",
    "    if (epoch % 50 == 0):\n",
    "        print('Epoch [%d/%d], Loss: %.4f, Accuracy: %.2f %%'\n",
    "              % (epoch + 1, num_epochs,\n",
    "                 total_loss, 100 * correct/total))\n",
    "\n",
    "import matplotlib.pyplot as plt\n",
    "#\n",
    "plt.figure()\n",
    "plt.plot(all_losses)\n",
    "plt.show()\n",
    "\n",
    "outputs = net(train_LPQ_x)\n",
    "_, predicted = torch.max(outputs, 1)\n",
    "\n",
    "print('Confusion matrix for training:')\n",
    "print(plot_confusion(train_LPQ_x.shape[0], 7, predicted.long().data, train_y.data))\n",
    "\n",
    "#LPQ testing\n",
    "outputs = net(test_LPQ_x)\n",
    "_, predicted = torch.max(outputs, 1)\n",
    "\n",
    "total = predicted.size(0)\n",
    "correct = predicted.data.numpy() == test_y.data.numpy()\n",
    "\n",
    "print('Testing Accuracy: %.2f %%' % (100 * sum(correct)/total))\n",
    "\n",
    "print('Confusion matrix for testing:')\n",
    "print(plot_confusion(test_LPQ_x.shape[0], 7, predicted.long().data, test_y.data))"
   ]
  },
  {
   "cell_type": "code",
   "execution_count": 15,
   "metadata": {},
   "outputs": [
    {
     "name": "stdout",
     "output_type": "stream",
     "text": [
      "tensor([[1., 1.],\n",
      "        [0., 1.]]) tensor([[1., 1.],\n",
      "        [0., 1.]]) tensor([1., 1.])\n"
     ]
    }
   ],
   "source": [
    "input1 = torch.Tensor([[1, 1], [0, 1]])\n",
    "input2 = torch.randn(2,3)\n",
    "cos = nn.CosineSimilarity(dim=1, eps=1e-6)\n",
    "output = cos(input1,input1)\n",
    "print(input1, input1, output)"
   ]
  },
  {
   "cell_type": "code",
   "execution_count": null,
   "metadata": {},
   "outputs": [],
   "source": []
  }
 ],
 "metadata": {
  "kernelspec": {
   "display_name": "Python 3",
   "language": "python",
   "name": "python3"
  },
  "language_info": {
   "codemirror_mode": {
    "name": "ipython",
    "version": 3
   },
   "file_extension": ".py",
   "mimetype": "text/x-python",
   "name": "python",
   "nbconvert_exporter": "python",
   "pygments_lexer": "ipython3",
   "version": "3.8.5"
  }
 },
 "nbformat": 4,
 "nbformat_minor": 4
}
