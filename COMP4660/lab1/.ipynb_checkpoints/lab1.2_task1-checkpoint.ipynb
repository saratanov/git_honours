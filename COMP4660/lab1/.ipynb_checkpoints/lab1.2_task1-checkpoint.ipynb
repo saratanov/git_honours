{
 "cells": [
  {
   "cell_type": "markdown",
   "metadata": {},
   "source": [
    "# COMP4660/8420 Lab 1.2 - Building a Neural Network in PyTorch using built-in packages\n",
    "\n",
    "During the semester, we will use PyTorch (http://pytorch.org/) as a tool to implement the algorithms we will learn. It is an open source machine learning library for Python.\n",
    "\n",
    "This notebook will guide you through a quick and easy way to build a neural network using the built in packages provided by PyTorch.\n",
    "______"
   ]
  },
  {
   "cell_type": "markdown",
   "metadata": {},
   "source": [
    "## Step 0: Download and import all required libraries\n",
    "\n",
    "To run this notebook, you need to have the following packages installed:\n",
    "-  torch: a python deep learning package\n",
    "-  pandas: a python data analysis package; if you are familiar with numpy, you can use numpy instead\n",
    "-  matplotlib: a python package for data visualization\n",
    "\n",
    "To install pytorch, please follow the __[instructions on their website](http://pytorch.org/)__. Please ensure you install version 0.4 or above.\n",
    "\n",
    "To install pandas, in your terminal, type `pip3 install pandas` for python 3.\n",
    "\n",
    "To install matplotlib, in your terminal, type `pip install matplotlib` for python 3."
   ]
  },
  {
   "cell_type": "code",
   "execution_count": 1,
   "metadata": {},
   "outputs": [],
   "source": [
    "# import libraries\n",
    "import pandas as pd\n",
    "import torch\n",
    "import torch.nn.functional as F\n",
    "import matplotlib.pyplot as plt\n",
    "import os\n",
    "os.environ['KMP_DUPLICATE_LIB_OK']='True'\n"
   ]
  },
  {
   "cell_type": "markdown",
   "metadata": {},
   "source": [
    "## Step 1: Load and setup training dataset\n",
    "\n",
    "The dataset is separated into two files from original dataset:\n",
    "-  iris_train.csv = dataset for training purpose, 80% from the original data\n",
    "-  iris_test.csv  = dataset for testing purpose, 20% from the original data"
   ]
  },
  {
   "cell_type": "code",
   "execution_count": 2,
   "metadata": {},
   "outputs": [],
   "source": [
    "# load training data\n",
    "data_train = pd.read_csv('iris_train.csv')\n",
    "\n",
    "# convert string target values to numeric values\n",
    "#       class 0: Iris-setosa\n",
    "#       class 1: Iris-versicolor\n",
    "#       class 2: Iris-virginica\n",
    "data_train.at[data_train['species'] == 'Iris-setosa', ['species']] = 0\n",
    "data_train.at[data_train['species'] == 'Iris-versicolor', ['species']] = 1\n",
    "data_train.at[data_train['species'] == 'Iris-virginica', ['species']] = 2\n",
    "\n",
    "# Also convert all string numeric values to int ['2' -> 2]\n",
    "data_train = data_train.apply(pd.to_numeric)"
   ]
  },
  {
   "cell_type": "markdown",
   "metadata": {},
   "source": [
    "Before we start training constructing our neural network, let's look at the dataset and understand it. Complete details can be found __[here](https://archive.ics.uci.edu/ml/datasets/iris)__. We strongly encourage you to open the link. You will find most of your datasets on the linked UCI website for future labs and assignments."
   ]
  },
  {
   "cell_type": "code",
   "execution_count": 3,
   "metadata": {
    "scrolled": true
   },
   "outputs": [
    {
     "name": "stdout",
     "output_type": "stream",
     "text": [
      "     sepal_length  sepal_width  petal_length  petal_width  species\n",
      "0             5.1          3.4           1.5          0.2        0\n",
      "1             6.3          2.5           5.0          1.9        2\n",
      "2             5.9          3.0           4.2          1.5        1\n",
      "3             5.7          2.6           3.5          1.0        1\n",
      "4             7.7          2.8           6.7          2.0        2\n",
      "..            ...          ...           ...          ...      ...\n",
      "115           5.6          2.5           3.9          1.1        1\n",
      "116           6.4          2.9           4.3          1.3        1\n",
      "117           7.9          3.8           6.4          2.0        2\n",
      "118           5.4          3.0           4.5          1.5        1\n",
      "119           5.5          3.5           1.3          0.2        0\n",
      "\n",
      "[120 rows x 5 columns]\n"
     ]
    }
   ],
   "source": [
    "# print data\n",
    "print(data_train)"
   ]
  },
  {
   "cell_type": "markdown",
   "metadata": {},
   "source": [
    "_**Q1. How many features (inputs) are there?**_\n",
    "\n",
    "_**Q2. How many classes (outputs) are there?**_\n",
    "\n",
    "_**Q3. How many data instances are there?**_"
   ]
  },
  {
   "cell_type": "raw",
   "metadata": {},
   "source": [
    "Answers:\n",
    "1) 4 features (sepal_length, sepal_width, petal_length, petal_width)\n",
    "2) 3 classes (0,1,2)\n",
    "3) 120 data points"
   ]
  },
  {
   "cell_type": "code",
   "execution_count": 4,
   "metadata": {},
   "outputs": [
    {
     "data": {
      "image/png": "[encoded data removed]",
      "text/plain": [
       "<Figure size 432x288 with 1 Axes>"
      ]
     },
     "metadata": {
      "needs_background": "light"
     },
     "output_type": "display_data"
    }
   ],
   "source": [
    "# visualize distribution of data\n",
    "\n",
    "# extract frequency of each species class\n",
    "class_freq = data_train['species'].value_counts()\n",
    "class_freq = list(class_freq.sort_index())\n",
    "\n",
    "# x-axis labels and length\n",
    "x_axis = list(range(0,3))\n",
    "\n",
    "graph = plt.bar(x_axis, class_freq)\n",
    "plt.xticks(x_axis)\n",
    "plt.ylabel('Frequency')\n",
    "plt.xlabel('Species')\n",
    "plt.title('Training Data')\n",
    "\n",
    "plt.show()"
   ]
  },
  {
   "cell_type": "markdown",
   "metadata": {},
   "source": [
    "Looking at the distribution is useful to figure out if the classes are imbalanced or not. In this case, they are fairly well balanced."
   ]
  },
  {
   "cell_type": "code",
   "execution_count": 5,
   "metadata": {},
   "outputs": [],
   "source": [
    "# convert pandas dataframe to array\n",
    "# the first 4 columns are features\n",
    "# the last column is target\n",
    "data_train_array = data_train.values\n",
    "\n",
    "# split x (features) and y (targets)\n",
    "x_array = data_train_array[:, :4]\n",
    "y_array = data_train_array[:, 4]\n",
    "\n",
    "# create Tensors to hold inputs and outputs. Tensors are data structures\n",
    "# similar to numpy matrices. They can be operated on efficiently by a GPU\n",
    "# \n",
    "# Note: In torch versions before 0.4, Tensors had to be wrapped in a Variable\n",
    "# to be used by the NN.\n",
    "X = torch.tensor(x_array, dtype=torch.float)\n",
    "Y = torch.tensor(y_array, dtype=torch.long)"
   ]
  },
  {
   "cell_type": "markdown",
   "metadata": {},
   "source": [
    "## Step 2: Define and train a neural network\n",
    "\n",
    "Here we build a neural network with one hidden layer.\n",
    "-  input layer: 4 neurons, representing the features of Iris\n",
    "-  hidden layer: 10 neurons, using Sigmoid as activation function\n",
    "-  output layer: 3 neurons, representing the classes of Iris\n",
    "    \n",
    "The network will be trained with Stochastic Gradient Descent (SGD) as an \n",
    "optimiser, that will hold the current state and will update the parameters\n",
    "based on the computed gradients.\n",
    "\n",
    "Its performance will be evaluated using cross-entropy.\n",
    "\n",
    "In PyTorch, the nn package defines a set of Modules, which are roughly equivalent to neural network layers. A Module receives input Variables and computes output Variables, but may also hold internal state such as Variables containing learnable parameters. The nn package also defines a set of useful loss functions that are commonly used when training neural networks.\n",
    "\n",
    "We use the nn package to define our model as a sequence of layers.\n",
    "nn.Sequential is a Module which contains other Modules, and applies them \n",
    "in sequence to produce its output. Each Linear Module computes output from \n",
    "input using a linear function, and holds internal Variables for its weight \n",
    "and bias.\n"
   ]
  },
  {
   "cell_type": "code",
   "execution_count": 6,
   "metadata": {},
   "outputs": [],
   "source": [
    "# define the number of neurons for input layer, hidden layer and output layer\n",
    "# define learning rate and number of epoch on training\n",
    "input_neurons = 4\n",
    "hidden_neurons = 5\n",
    "output_neurons = 3\n",
    "learning_rate = 0.01\n",
    "num_epoch = 301"
   ]
  },
  {
   "cell_type": "code",
   "execution_count": 7,
   "metadata": {},
   "outputs": [],
   "source": [
    "# define the structure of our neural network\n",
    "# each linear layer contains internal variables for weight and bias\n",
    "net = torch.nn.Sequential(\n",
    "    torch.nn.Linear(input_neurons, hidden_neurons),\n",
    "    torch.nn.Sigmoid(),\n",
    "    torch.nn.Linear(hidden_neurons, output_neurons),\n",
    ")\n",
    "\n",
    "# define loss functions\n",
    "loss_func = torch.nn.CrossEntropyLoss()\n",
    "\n",
    "# define optimiser\n",
    "optimiser = torch.optim.SGD(net.parameters(), lr=learning_rate)"
   ]
  },
  {
   "cell_type": "code",
   "execution_count": 8,
   "metadata": {},
   "outputs": [
    {
     "name": "stdout",
     "output_type": "stream",
     "text": [
      "Epoch [1/301] Loss: 1.1414  Accuracy: 36.67 %\n",
      "Epoch [51/301] Loss: 1.1204  Accuracy: 36.67 %\n",
      "Epoch [101/301] Loss: 1.1069  Accuracy: 36.67 %\n",
      "Epoch [151/301] Loss: 1.0961  Accuracy: 36.67 %\n",
      "Epoch [201/301] Loss: 1.0864  Accuracy: 36.67 %\n",
      "Epoch [251/301] Loss: 1.0770  Accuracy: 36.67 %\n",
      "Epoch [301/301] Loss: 1.0674  Accuracy: 36.67 %\n"
     ]
    }
   ],
   "source": [
    "# store all losses for visualisation\n",
    "all_losses = []\n",
    "\n",
    "# train a neural network\n",
    "for epoch in range(num_epoch):\n",
    "    # Perform forward pass: compute predicted y by passing x to the model.\n",
    "    # Here we pass a Tensor of input data to the Module and it produces\n",
    "    # a Tensor of output data.\n",
    "    # In this case, Y_pred contains three columns, where the index of the\n",
    "    # max column indicates the class of the instance\n",
    "    Y_pred = net(X)\n",
    "\n",
    "    # Compute loss\n",
    "    # Here we pass Tensors containing the predicted and true values of Y,\n",
    "    # and the loss function returns a Tensor containing the loss.\n",
    "    loss = loss_func(Y_pred, Y)\n",
    "    all_losses.append(loss.item())\n",
    "\n",
    "    # print progress\n",
    "    if epoch % 50 == 0:\n",
    "        # convert three-column predicted Y values to one column for comparison\n",
    "        _, predicted = torch.max(F.softmax(Y_pred,1), 1)\n",
    "\n",
    "        # calculate and print accuracy\n",
    "        total = predicted.size(0)\n",
    "        correct = predicted.data.numpy() == Y.data.numpy()\n",
    "\n",
    "        print('Epoch [%d/%d] Loss: %.4f  Accuracy: %.2f %%'\n",
    "              % (epoch + 1, num_epoch, loss.item(), 100 * sum(correct)/total))\n",
    "\n",
    "    # Clear the gradients before running the backward pass.\n",
    "    net.zero_grad()\n",
    "\n",
    "    # Perform backward pass: compute gradients of the loss with respect to\n",
    "    # all the learnable parameters of the model.\n",
    "    loss.backward()\n",
    "\n",
    "    # Calling the step function on an Optimiser makes an update to its\n",
    "    # parameters\n",
    "    optimiser.step()"
   ]
  },
  {
   "cell_type": "markdown",
   "metadata": {},
   "source": [
    "Plot historical loss from `all_losses` during network learning."
   ]
  },
  {
   "cell_type": "code",
   "execution_count": 9,
   "metadata": {},
   "outputs": [
    {
     "data": {
      "image/png": "[encoded data removed]",
      "text/plain": [
       "<Figure size 432x288 with 1 Axes>"
      ]
     },
     "metadata": {
      "needs_background": "light"
     },
     "output_type": "display_data"
    }
   ],
   "source": [
    "plt.figure()\n",
    "plt.plot(all_losses)\n",
    "plt.show()"
   ]
  },
  {
   "cell_type": "markdown",
   "metadata": {},
   "source": [
    "#### Evaluating the Results\n",
    "\n",
    "To see how well the network performs on different categories, we will\n",
    "create a confusion matrix, indicating for every iris flower (rows)\n",
    "which class the network guesses (columns). \n"
   ]
  },
  {
   "cell_type": "code",
   "execution_count": 10,
   "metadata": {},
   "outputs": [
    {
     "name": "stdout",
     "output_type": "stream",
     "text": [
      "\n",
      "Confusion matrix for training:\n",
      "[[ 0.  3. 34.]\n",
      " [ 0. 44.  0.]\n",
      " [ 0. 39.  0.]]\n"
     ]
    }
   ],
   "source": [
    "confusion = torch.zeros(output_neurons, output_neurons)\n",
    "\n",
    "Y_pred = net(X)\n",
    "_, predicted = torch.max(F.softmax(Y_pred,1), 1)\n",
    "\n",
    "for i in range(x_array.shape[0]):\n",
    "    actual_class = Y.data[i]\n",
    "    predicted_class = predicted.data[i]\n",
    "\n",
    "    confusion[actual_class][predicted_class] += 1\n",
    "\n",
    "print('')\n",
    "print('Confusion matrix for training:')\n",
    "print(confusion.numpy())"
   ]
  },
  {
   "cell_type": "markdown",
   "metadata": {},
   "source": [
    "_**Q4: What is the training accuracy?**_\n",
    "\n",
    "_**Q5: What does the confusion matrix tell you?**_"
   ]
  },
  {
   "cell_type": "raw",
   "metadata": {},
   "source": [
    "Answers:\n",
    "4) 39 out of 120 cases are wrong, so the accuracy is 67.5%.\n",
    "5) the model is not able to correctly identify class 2 (row 3), and instead misclassifies all of them as class 1 (col 2)."
   ]
  },
  {
   "cell_type": "markdown",
   "metadata": {},
   "source": [
    "## Step 3: Load and setup testing dataset\n",
    "\n",
    "The dataset is separated into two files from original dataset:\n",
    "-  iris_train.csv = dataset for training purpose, 80% from the original data\n",
    "-  iris_test.csv  = dataset for testing purpose, 20% from the original data"
   ]
  },
  {
   "cell_type": "code",
   "execution_count": 11,
   "metadata": {},
   "outputs": [],
   "source": [
    "# load testing data\n",
    "data_test = pd.read_csv('iris_test.csv')\n",
    "\n",
    "# convert string target values to numeric values\n",
    "#       class 0: Iris-setosa\n",
    "#       class 1: Iris-versicolor\n",
    "#       class 2: Iris-virginica\n",
    "data_test.at[data_test['species'] == 'Iris-setosa', ['species']] = 0\n",
    "data_test.at[data_test['species'] == 'Iris-versicolor', ['species']] = 1\n",
    "data_test.at[data_test['species'] == 'Iris-virginica', ['species']] = 2\n",
    "\n",
    "# Also convert all string numeric values to int ['2' -> 2]\n",
    "data_test = data_test.apply(pd.to_numeric)"
   ]
  },
  {
   "cell_type": "code",
   "execution_count": 12,
   "metadata": {},
   "outputs": [],
   "source": [
    "# convert pandas dataframe to array\n",
    "# the first 4 columns are features\n",
    "# the last column is target\n",
    "data_test_array = data_test.values\n",
    "\n",
    "# split x (features) and y (targets)\n",
    "x_test_array = data_test_array[:, :4]\n",
    "y_test_array = data_test_array[:, 4]\n",
    "\n",
    "# create Tensors to hold inputs and outputs\n",
    "X_test = torch.tensor(x_test_array, dtype=torch.float)\n",
    "Y_test = torch.tensor(y_test_array, dtype=torch.long)"
   ]
  },
  {
   "cell_type": "markdown",
   "metadata": {},
   "source": [
    "## Step 4: Test the neural network\n",
    "\n",
    "Pass testing data to the built neural network and get its performance"
   ]
  },
  {
   "cell_type": "code",
   "execution_count": 13,
   "metadata": {},
   "outputs": [
    {
     "name": "stdout",
     "output_type": "stream",
     "text": [
      "Testing Accuracy: 20.00 %\n"
     ]
    }
   ],
   "source": [
    "# test the neural network using testing data\n",
    "# It is actually performing a forward pass computation of predicted y\n",
    "# by passing x to the model.\n",
    "# Here, Y_pred_test contains three columns, where the index of the\n",
    "# max column indicates the class of the instance\n",
    "Y_pred_test = net(X_test)\n",
    "\n",
    "# get prediction\n",
    "# convert three-column predicted Y values to one column for comparison\n",
    "_, predicted_test = torch.max(F.softmax(Y_pred_test,1), 1)\n",
    "\n",
    "# calculate accuracy\n",
    "total_test = predicted_test.size(0)\n",
    "correct_test = sum(predicted_test.data.numpy() == Y_test.data.numpy())\n",
    "\n",
    "print('Testing Accuracy: %.2f %%' % (100 * correct_test / total_test))"
   ]
  },
  {
   "cell_type": "markdown",
   "metadata": {},
   "source": [
    "#### Evaluating the Results\n",
    "\n",
    "To see how well the network performs on different categories, we will\n",
    "create a confusion matrix, indicating for every iris flower (rows)\n",
    "which class the network guesses (columns). "
   ]
  },
  {
   "cell_type": "code",
   "execution_count": 14,
   "metadata": {},
   "outputs": [
    {
     "name": "stdout",
     "output_type": "stream",
     "text": [
      "\n",
      "Confusion matrix for testing:\n",
      "[[ 0.  1. 12.]\n",
      " [ 0.  6.  0.]\n",
      " [ 0. 11.  0.]]\n"
     ]
    }
   ],
   "source": [
    "confusion_test = torch.zeros(output_neurons, output_neurons)\n",
    "\n",
    "for i in range(x_test_array.shape[0]):\n",
    "    actual_class = Y_test.data[i]\n",
    "    predicted_class = predicted_test.data[i]\n",
    "\n",
    "    confusion_test[actual_class][predicted_class] += 1\n",
    "\n",
    "print('')\n",
    "print('Confusion matrix for testing:')\n",
    "print(confusion_test.numpy())"
   ]
  },
  {
   "cell_type": "markdown",
   "metadata": {},
   "source": [
    "_**Q6. What is the testing accuracy?**_\n",
    "\n",
    "_**Q7. How does it compare to the training accuracy?**_"
   ]
  },
  {
   "cell_type": "raw",
   "metadata": {},
   "source": [
    "Answers:\n",
    "6) 11 objects out of 30 have been misclassified, so the accuracy is 63.33%.\n",
    "7) a little bit lower, but it shows the same pattern from the confusion matrix.  "
   ]
  },
  {
   "cell_type": "markdown",
   "metadata": {},
   "source": [
    "Now adjust the number of hidden neurons to a value of your choice, and record the error and accuracy of the change. Adjust the number of neurons again, making sure that you have tried values both above and below the initial value of 10. (You will need to run all the blocks after the one you make changes in)."
   ]
  },
  {
   "cell_type": "raw",
   "metadata": {},
   "source": [
    "Notes:\n",
    "10 hidden neurons - 63.33% testing accuracy\n",
    "11 hidden neurons - 26.67% testing accuracy\n",
    "20 hidden neurons - 50.00% testing accuracy\n",
    "5 hidden neurons - 20.00% testing accuracy"
   ]
  },
  {
   "cell_type": "code",
   "execution_count": null,
   "metadata": {},
   "outputs": [],
   "source": []
  }
 ],
 "metadata": {
  "kernelspec": {
   "display_name": "Python 3",
   "language": "python",
   "name": "python3"
  },
  "language_info": {
   "codemirror_mode": {
    "name": "ipython",
    "version": 3
   },
   "file_extension": ".py",
   "mimetype": "text/x-python",
   "name": "python",
   "nbconvert_exporter": "python",
   "pygments_lexer": "ipython3",
   "version": "3.8.8"
  }
 },
 "nbformat": 4,
 "nbformat_minor": 4
}
