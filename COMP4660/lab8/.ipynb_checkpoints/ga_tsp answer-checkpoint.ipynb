{
 "cells": [
  {
   "cell_type": "markdown",
   "metadata": {
    "deletable": true,
    "editable": true
   },
   "source": [
    "# Using genetic algorithms to solve the traveling salesperson problem"
   ]
  },
  {
   "cell_type": "markdown",
   "metadata": {
    "deletable": true,
    "editable": true
   },
   "source": [
    "### Derived from the material by Luis Martí, [IC](http://www.ic.uff.br)/[UFF](http://www.uff.br)\n",
    "\n",
    "https://github.com/lmarti/evolutionary-computation-course/"
   ]
  },
  {
   "cell_type": "markdown",
   "metadata": {
    "deletable": true,
    "editable": true
   },
   "source": [
    "# [*Traveling Salesman Problem*](http://en.wikipedia.org/wiki/Traveling_salesman_problem) (TSP): \n",
    "\n",
    "> *Given a set of cities, and the distances between each pair of cities, find a **tour** of the cities with the minimum total distance.  A **tour** means you start at one city, visit every other city exactly once, and then return to the starting city.*"
   ]
  },
  {
   "cell_type": "markdown",
   "metadata": {
    "deletable": true,
    "editable": true
   },
   "source": [
    "### The *vocabulary* of the problem:\n",
    "\n",
    "- **City**: For the purpose of this exercise, a city is \"atomic\" in the sense that we don't have to know anything about the components or attributes of a city, just how far it is from other cities.\n",
    "- **Cities**: We will need to represent a set of cities; Python's `set` datatype might be appropriate for that.\n",
    "- **Distance**: We will need the distance between two cities.  If `A` and `B` are cities. This could be done with a function, `distance(A, B)`, or with a dict, `distance[A][B]` or `distance[A, B]`, or with an array if `A` and `B` are integer indexes.  The resulting distance will be a real number (which Python calls a `float`).\n",
    "- **Tour**: A tour is an ordered list of cities; Python's `list` or `tuple` datatypes would work.\n",
    "- **Total distance**: The sum of the distances of adjacent cities in the tour.  We will probably have a function, `total_distance(tour)`."
   ]
  },
  {
   "cell_type": "markdown",
   "metadata": {
    "deletable": true,
    "editable": true
   },
   "source": [
    "We need to perform some initialization."
   ]
  },
  {
   "cell_type": "code",
   "execution_count": 1,
   "metadata": {
    "collapsed": true,
    "deletable": true,
    "editable": true
   },
   "outputs": [],
   "source": [
    "from deap import algorithms, base, creator, tools\n",
    "import random, operator\n",
    "import numpy as np\n",
    "\n",
    "import matplotlib.pyplot as plt\n",
    "import matplotlib.colors as colors\n",
    "import matplotlib.cm as cmx"
   ]
  },
  {
   "cell_type": "markdown",
   "metadata": {
    "deletable": true,
    "editable": true
   },
   "source": [
    "### Representing Cities and Distance\n",
    "\n",
    "\n",
    "Now for the notion of *distance*.  We define `total_distance(tour)` as the sum of the distances between consecutive cities in the tour; that part is shown below and is easy (with one Python-specific trick: when `i` is 0, then `distance(tour[0], tour[-1])` gives us the wrap-around distance between the first and last cities, because `tour[-1]` is the last element of `tour`). "
   ]
  },
  {
   "cell_type": "code",
   "execution_count": 2,
   "metadata": {
    "collapsed": true,
    "deletable": true,
    "editable": true
   },
   "outputs": [],
   "source": [
    "def distance(A, B):\n",
    "    \"The Euclidean distance between two cities.\"\n",
    "    return np.linalg.norm(A - B)\n",
    "\n",
    "def total_distance(tour):\n",
    "    \"The total distance between each pair of consecutive cities in the tour.\"\n",
    "    return sum(distance(tour[i], tour[i-1])\n",
    "               for i in range(len(tour)))"
   ]
  },
  {
   "cell_type": "markdown",
   "metadata": {
    "deletable": true,
    "editable": true
   },
   "source": [
    "### Distance between cities \n",
    "\n",
    "* **complex:** Python already has the two-dimensional point as a built-in numeric data type, but in a non-obvious way: as *complex numbers*, which inhabit the two-dimensional (real &times; complex) plane. We can make this use more explicit by defining \"`City = complex`\", meaning that we can construct the representation of a city using the same constructor that makes complex numbers. \n",
    "\n",
    "From possible alternatives Peter chose to go with complex numbers. "
   ]
  },
  {
   "cell_type": "code",
   "execution_count": 3,
   "metadata": {
    "collapsed": true,
    "deletable": true,
    "editable": true
   },
   "outputs": [],
   "source": [
    "City = complex # Constructor for new cities, e.g. City(300, 400)\n",
    "\n",
    "def generate_cities(n):\n",
    "    \"Make a set of n cities, each with random coordinates.\"\n",
    "    return set(City(random.randrange(10, 890),\n",
    "                    random.randrange(10, 590))\n",
    "               for c in range(n))"
   ]
  },
  {
   "cell_type": "code",
   "execution_count": 4,
   "metadata": {
    "collapsed": true,
    "deletable": true,
    "editable": true
   },
   "outputs": [],
   "source": [
    "num_cities = 24\n",
    "cities = generate_cities(num_cities)"
   ]
  },
  {
   "cell_type": "markdown",
   "metadata": {
    "deletable": true,
    "editable": true
   },
   "source": [
    "This is a typical *NP-Complete* problem. The time for $n$ cities should be roughly proportional to $n!$. This means that the time grows rapidly with the number of cities; we'd need longer than the **[age of the Universe](http://en.wikipedia.org/wiki/Age_of_the_universe)** to run `exact_non_redundant_TSP()` on just 24 cities:\n",
    "\n",
    "<table>\n",
    "<tr><th>n cities<th>time\n",
    "<tr><td>10<td>3 secs\n",
    "<tr><td>12<td>3 secs &times; 12 &times 11 = 6.6 mins\n",
    "<tr><td>14<td>6.6 mins &times; 13 &times; 14 = 20 hours\n",
    "<tr><td>24<td>3 secs &times; 24! / 10! = <a href=\"https://www.google.com/search?q=3+seconds+*+24!+%2F+10!+in+years\">16 billion years</a>\n",
    "</table>\n",
    "\n",
    "> There must be a better way... or at least we need to look for it until quantum computing comes around."
   ]
  },
  {
   "cell_type": "markdown",
   "metadata": {
    "deletable": true,
    "editable": true
   },
   "source": [
    "# Nature-inspired metaheuristics\n",
    "\n",
    "- We have seen in class some examples of nature-inspired metaheuristics.\n",
    "- They are an option in which we dedicate a little more computational effort in order to produce better solutions than `greedy_TSP()`.\n",
    "\n",
    "> We will be using the [DEAP](https://github.com/DEAP/deap) library to code this tackle this problem using a genetic algorithm.\n",
    "\n",
    "[<img src='https://raw.githubusercontent.com/DEAP/deap/master/doc/_static/deap_long.png' width='29%' align='center'/>](https://github.com/DEAP/deap)"
   ]
  },
  {
   "cell_type": "code",
   "execution_count": 5,
   "metadata": {
    "collapsed": true,
    "deletable": true,
    "editable": true
   },
   "outputs": [],
   "source": [
    "from deap import algorithms, base, creator, tools"
   ]
  },
  {
   "cell_type": "markdown",
   "metadata": {
    "deletable": true,
    "editable": true
   },
   "source": [
    "### Elements to take into account solving problems with genetic algorithms\n",
    "\n",
    "* **Individual representation** (binary, floating-point, etc.);\n",
    "* **evaluation** and **fitness assignment**;\n",
    "* **selection**, that establishes a partial order of individuals in the population using their fitness function value as reference and determines the degree at which individuals in the population will take part in the generation of new (offspring) individuals.\n",
    "* **variation**, that applies a range of evolution-inspired operators, like crossover, mutation, etc., to synthesize offspring individuals from the current (parent) population. This process is supposed to prime the fittest individuals so they play a bigger role in the generation of the offspring.\n",
    "* **stopping criterion**, that determines when the algorithm shoulod be stopped, either because the optimum was reach or because the optimization process is not progressing."
   ]
  },
  {
   "cell_type": "markdown",
   "metadata": {
    "deletable": true,
    "editable": true
   },
   "source": [
    "The `toolbox` stored the setup of the algorithm. It describes the different elements to take into account."
   ]
  },
  {
   "cell_type": "code",
   "execution_count": 6,
   "metadata": {
    "collapsed": true,
    "deletable": true,
    "editable": true
   },
   "outputs": [],
   "source": [
    "toolbox = base.Toolbox()"
   ]
  },
  {
   "cell_type": "markdown",
   "metadata": {
    "deletable": true,
    "editable": true
   },
   "source": [
    "### Individual representation and evaluation\n",
    "* Individuals represent possible solutions to the problem.\n",
    "* In the TSP case, it looks like the tour itself can be a suitable representation.\n",
    "* For simplicity, an individual can be a list with the indexes corresponding to each city.\n",
    "* This will simplify the crossover and mutation operators.\n",
    "* We can rely on the `total_distance()` function for evaluation and set the fitness assignment as to minimize it."
   ]
  },
  {
   "cell_type": "code",
   "execution_count": 7,
   "metadata": {
    "collapsed": true,
    "deletable": true,
    "editable": true
   },
   "outputs": [],
   "source": [
    "creator.create(\"FitnessMin\", base.Fitness, weights=(-1.0,)) # -1 means that we wish to minimize the fitness\n",
    "creator.create(\"Individual\", list, fitness=creator.FitnessMin)"
   ]
  },
  {
   "cell_type": "markdown",
   "metadata": {
    "deletable": true,
    "editable": true
   },
   "source": [
    "Let's now define that our individuals are composed by indexes that referr to elements of `cities` and, correspondingly, the population is composed by individuals."
   ]
  },
  {
   "cell_type": "code",
   "execution_count": 8,
   "metadata": {
    "collapsed": true,
    "deletable": true,
    "editable": true
   },
   "outputs": [],
   "source": [
    "toolbox.register(\"indices\", np.random.permutation, len(cities))\n",
    "toolbox.register(\"individual\", tools.initIterate, creator.Individual,\n",
    "                 toolbox.indices)\n",
    "toolbox.register(\"population\", tools.initRepeat, list,\n",
    "                 toolbox.individual)\n"
   ]
  },
  {
   "cell_type": "markdown",
   "metadata": {
    "deletable": true,
    "editable": true
   },
   "source": [
    "Defining the crossover and mutation operators can be a challenging task.\n",
    "\n",
    "There are  various <a href='http://en.wikipedia.org/wiki/Crossover_(genetic_algorithm)#Crossover_for_Ordered_Chromosomes'>crossover operators</a> that have been devised to deal with ordered individuals like ours.\n",
    "\n",
    "- We will be using DEAP's `deap.tools.cxOrdered()` crossover. This will not leave out any cities during crossover (You don't need to worry about the detail. Nevertheless, if you are interested, think why we cannot use one/two points crossover). \n",
    "- For mutation we will swap elements from two points of the individual.\n",
    "- This is performed by `deap.tools.mutShuffleIndexes()`."
   ]
  },
  {
   "cell_type": "code",
   "execution_count": 9,
   "metadata": {
    "collapsed": true,
    "deletable": true,
    "editable": true
   },
   "outputs": [],
   "source": [
    "toolbox.register(\"mate\", tools.cxOrdered)\n",
    "toolbox.register(\"mutate\", tools.mutShuffleIndexes, indpb=0.05)"
   ]
  },
  {
   "cell_type": "markdown",
   "metadata": {
    "deletable": true,
    "editable": true
   },
   "source": [
    "Evaluation can be easily defined from the `total_distance()` definition."
   ]
  },
  {
   "cell_type": "code",
   "execution_count": 10,
   "metadata": {
    "collapsed": true,
    "deletable": true,
    "editable": true
   },
   "outputs": [],
   "source": [
    "def create_tour(individual):\n",
    "    return [list(cities)[e] for e in individual]\n",
    "\n",
    "def evaluation(individual):\n",
    "    '''Evaluates an individual by converting it into\n",
    "    a list of cities and passing that list to total_distance'''\n",
    "    return (total_distance(create_tour(individual)),)"
   ]
  },
  {
   "cell_type": "code",
   "execution_count": 12,
   "metadata": {
    "collapsed": true,
    "deletable": true,
    "editable": true
   },
   "outputs": [],
   "source": [
    "toolbox.register(\"evaluate\", evaluation)"
   ]
  },
  {
   "cell_type": "markdown",
   "metadata": {
    "deletable": true,
    "editable": true
   },
   "source": [
    "We will employ tournament selection with size 3."
   ]
  },
  {
   "cell_type": "code",
   "execution_count": 13,
   "metadata": {
    "collapsed": true,
    "deletable": true,
    "editable": true
   },
   "outputs": [],
   "source": [
    "toolbox.register(\"select\", tools.selTournament, tournsize=3)"
   ]
  },
  {
   "cell_type": "markdown",
   "metadata": {
    "deletable": true,
    "editable": true
   },
   "source": [
    "Lets' run the algorithm with a population of 100 individuals and 400 generations."
   ]
  },
  {
   "cell_type": "code",
   "execution_count": 14,
   "metadata": {
    "collapsed": true,
    "deletable": true,
    "editable": true
   },
   "outputs": [],
   "source": [
    "pop = toolbox.population(n=100)"
   ]
  },
  {
   "cell_type": "code",
   "execution_count": 15,
   "metadata": {
    "collapsed": false,
    "deletable": true,
    "editable": true
   },
   "outputs": [
    {
     "name": "stdout",
     "output_type": "stream",
     "text": [
      "CPU times: user 4.31 s, sys: 50.9 ms, total: 4.36 s\n",
      "Wall time: 4.47 s\n"
     ]
    }
   ],
   "source": [
    "%%time \n",
    "result, log = algorithms.eaSimple(pop, toolbox,\n",
    "                             cxpb=0.8, mutpb=0.2,\n",
    "                             ngen=400, verbose=False)"
   ]
  },
  {
   "cell_type": "markdown",
   "metadata": {
    "deletable": true,
    "editable": true
   },
   "source": [
    "Congratulations! You have just saved 16 billion years of your life :-) "
   ]
  },
  {
   "cell_type": "markdown",
   "metadata": {
    "deletable": true,
    "editable": true
   },
   "source": [
    "### We can now review the results\n",
    "\n",
    "The best individual of the last population:"
   ]
  },
  {
   "cell_type": "code",
   "execution_count": 17,
   "metadata": {
    "collapsed": false,
    "deletable": true,
    "editable": true
   },
   "outputs": [
    {
     "name": "stdout",
     "output_type": "stream",
     "text": [
      "Fitness of the best individual:  3530.8825091522826\n"
     ]
    },
    {
     "data": {
      "image/png": "[encoded data removed]",
      "text/plain": [
       "<matplotlib.figure.Figure at 0x11374b390>"
      ]
     },
     "metadata": {},
     "output_type": "display_data"
    }
   ],
   "source": [
    "best_individual = tools.selBest(result, k=1)[0]\n",
    "print('Fitness of the best individual: ', evaluation(best_individual)[0])\n",
    "\n",
    "def plotline(points, style='bo-', alpha=1, size=7, color=None):\n",
    "    \"Plot a list of points (complex numbers) in the 2-D plane.\"\n",
    "    X, Y = XY(points)\n",
    "\n",
    "    if color:\n",
    "        plt.plot(X, Y, style, alpha=alpha, markersize=size, color=color)\n",
    "    else:\n",
    "        plt.plot(X, Y, style, alpha=alpha, markersize=size)\n",
    "\n",
    "\n",
    "def XY(points):\n",
    "    \"Given a list of points, return two lists: X coordinates, and Y coordinates.\"\n",
    "    return [p.real for p in points], [p.imag for p in points]\n",
    "\n",
    "\n",
    "def plot_tour(tour, alpha=1, color=None):\n",
    "    # Plot the tour as blue lines between blue circles, and the starting city as a red square.\n",
    "    plotline(list(tour) + [tour[0]], alpha=alpha, color=color)\n",
    "    plotline([tour[0]], style='gD', alpha=alpha, size=10)\n",
    "    plt.show()\n",
    "    \n",
    "plot_tour(create_tour(best_individual))"
   ]
  },
  {
   "cell_type": "markdown",
   "metadata": {
    "deletable": true,
    "editable": true
   },
   "source": [
    "It is interesting to assess how the fitness of the population changed as the evolution process took place. \n",
    "\n",
    "We can prepare an `deap.tools.Statistics` instance to specify what data to collect. "
   ]
  },
  {
   "cell_type": "code",
   "execution_count": 19,
   "metadata": {
    "collapsed": true,
    "deletable": true,
    "editable": true
   },
   "outputs": [],
   "source": [
    "fit_stats = tools.Statistics(key=operator.attrgetter(\"fitness.values\"))\n",
    "fit_stats.register('mean', np.mean)\n",
    "fit_stats.register('min', np.min)"
   ]
  },
  {
   "cell_type": "markdown",
   "metadata": {
    "deletable": true,
    "editable": true
   },
   "source": [
    "We are all set now but lets run again the genetic algorithm configured to collect the statistics that we want to gather:"
   ]
  },
  {
   "cell_type": "code",
   "execution_count": 20,
   "metadata": {
    "collapsed": true,
    "deletable": true,
    "editable": true
   },
   "outputs": [],
   "source": [
    "result, log = algorithms.eaSimple(toolbox.population(n=100), toolbox,\n",
    "                                  cxpb=0.8, mutpb=0.2,\n",
    "                                  ngen=400, verbose=False,\n",
    "                                  stats=fit_stats)"
   ]
  },
  {
   "cell_type": "markdown",
   "metadata": {
    "deletable": true,
    "editable": true
   },
   "source": [
    "### Plotting mean and minimium fitness as evolution took place.\n"
   ]
  },
  {
   "cell_type": "code",
   "execution_count": 21,
   "metadata": {
    "collapsed": false,
    "deletable": true,
    "editable": true
   },
   "outputs": [
    {
     "data": {
      "image/png": "[encoded data removed]",
      "text/plain": [
       "<matplotlib.figure.Figure at 0x1137f2a20>"
      ]
     },
     "metadata": {},
     "output_type": "display_data"
    }
   ],
   "source": [
    "plt.figure(figsize=(11, 4))\n",
    "plots = plt.plot(log.select('min'),'c-', log.select('mean'), 'b-')\n",
    "plt.legend(plots, ('Minimum fitness', 'Mean fitness'), frameon=True)\n",
    "plt.ylabel('Fitness'); plt.xlabel('Iterations');"
   ]
  }
 ],
 "metadata": {
  "kernelspec": {
   "display_name": "Python 3",
   "language": "python",
   "name": "python3"
  },
  "language_info": {
   "codemirror_mode": {
    "name": "ipython",
    "version": 3
   },
   "file_extension": ".py",
   "mimetype": "text/x-python",
   "name": "python",
   "nbconvert_exporter": "python",
   "pygments_lexer": "ipython3",
   "version": "3.6.1"
  }
 },
 "nbformat": 4,
 "nbformat_minor": 2
}
