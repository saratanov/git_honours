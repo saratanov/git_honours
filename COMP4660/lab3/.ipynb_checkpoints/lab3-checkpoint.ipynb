{
 "cells": [
  {
   "cell_type": "code",
   "execution_count": 149,
   "metadata": {},
   "outputs": [],
   "source": [
    "from torch.autograd import Variable\n",
    "import matplotlib.pyplot as plt\n",
    "import numpy as np\n",
    "import pandas as pd\n",
    "import torch\n",
    "import torch.nn.functional as F\n",
    "import torch.optim as optim\n",
    "import torch.nn as nn"
   ]
  },
  {
   "cell_type": "code",
   "execution_count": 150,
   "metadata": {},
   "outputs": [],
   "source": [
    "# load all data\n",
    "data = pd.read_csv('winequality-white.csv', delimiter=';')\n",
    "\n",
    "# try shuffle data\n",
    "data = data.sample(frac=1).reset_index(drop=True)\n",
    "\n",
    "n_features = data.shape[1] - 1\n",
    "\n",
    "#preprocess normalise\n",
    "from sklearn.preprocessing import Normalizer\n",
    "norm = Normalizer()\n",
    "#data.iloc[:, :n_features] = norm.fit_transform(data.iloc[:, :n_features])\n",
    "\n",
    "# randomly split data into training set (80%) and testing set (20%)\n",
    "msk = np.random.rand(len(data)) < 0.8\n",
    "train_data = data[msk]\n",
    "test_data = data[~msk]\n",
    "\n",
    "# split training data into input and target\n",
    "# the first columns are features, the last one is target\n",
    "train_input = train_data.iloc[:, :n_features]\n",
    "train_target = train_data.iloc[:, n_features]\n",
    "\n",
    "# split testing data into input and target\n",
    "# the first columns are features, the last one is target\n",
    "test_input = test_data.iloc[:, :n_features]\n",
    "test_target = test_data.iloc[:, n_features]\n",
    "\n",
    "# create Tensors to hold inputs and outputs\n",
    "X = torch.Tensor(train_input.values).float()\n",
    "Y = torch.Tensor(train_target.values).float()\n",
    "Y = torch.reshape(Y, (Y.shape[0],1))\n",
    "test_X = torch.Tensor(test_input.values).float()\n",
    "test_Y = torch.Tensor(test_target.values).float()\n",
    "test_Y = torch.reshape(test_Y, (test_Y.shape[0],1))"
   ]
  },
  {
   "cell_type": "code",
   "execution_count": 157,
   "metadata": {},
   "outputs": [],
   "source": [
    "# Hyper Parameters\n",
    "n_hidden = 5\n",
    "num_epochs = 501\n",
    "learning_rate = 0.01\n",
    "\n",
    "# define our regression model\n",
    "class Regression(nn.Module):\n",
    "    def __init__(self, input_size, hidden_size, output_size):\n",
    "        super(Regression, self).__init__()\n",
    "        self.hidden1 = torch.nn.Linear(input_size, hidden_size)   # hidden layer\n",
    "        self.hidden2 = torch.nn.Linear(hidden_size, hidden_size)\n",
    "        self.predict = torch.nn.Linear(hidden_size, output_size)   # output layer\n",
    "    def forward(self, x):\n",
    "        x = F.relu(self.hidden1(x))      # activation function for hidden layer\n",
    "        x = F.relu(self.hidden2(x))\n",
    "        x = self.predict(x)                 # linear output\n",
    "        return x\n",
    "\n",
    "net = Regression(input_size=n_features, hidden_size=n_hidden, output_size=1)     # define the network\n",
    "\n",
    "# define loss function\n",
    "# Softmax is internally computed in nn.CrossEntropyLoss.\n",
    "loss_func = nn.MSELoss()\n",
    "\n",
    "# define optimiser\n",
    "optimiser = torch.optim.Adam(net.parameters(), lr=learning_rate)"
   ]
  },
  {
   "cell_type": "code",
   "execution_count": 158,
   "metadata": {},
   "outputs": [
    {
     "name": "stdout",
     "output_type": "stream",
     "text": [
      "t =  0 training loss =  5.4113383293151855 accuracy =  37.40419008686766\n",
      "t =  50 training loss =  0.6629788279533386 accuracy =  87.42973939703629\n",
      "t =  100 training loss =  0.61600661277771 accuracy =  88.37506387327542\n",
      "t =  150 training loss =  0.5803450345993042 accuracy =  89.57588145120081\n",
      "t =  200 training loss =  0.5560479164123535 accuracy =  89.72917731221257\n",
      "t =  250 training loss =  0.5469793677330017 accuracy =  89.6525293817067\n",
      "t =  300 training loss =  0.5405192971229553 accuracy =  89.80582524271844\n",
      "t =  350 training loss =  0.5890872478485107 accuracy =  89.39703628002044\n",
      "t =  400 training loss =  0.5358232259750366 accuracy =  89.80582524271844\n",
      "t =  450 training loss =  0.5350694060325623 accuracy =  89.70362800204394\n",
      "t =  500 training loss =  0.5436453819274902 accuracy =  90.08686765457333\n"
     ]
    },
    {
     "data": {
      "image/png": "[encoded data removed]",
      "text/plain": [
       "<Figure size 432x288 with 1 Axes>"
      ]
     },
     "metadata": {
      "needs_background": "light"
     },
     "output_type": "display_data"
    }
   ],
   "source": [
    "# store all losses for visualisation\n",
    "all_losses = []\n",
    "n_items = Y.shape[0]\n",
    "pct_close = 0.2\n",
    "\n",
    "for t in range(num_epochs):\n",
    "    # pass input x and get prediction\n",
    "    prediction = net(X)\n",
    "\n",
    "    # calculate loss\n",
    "    loss = loss_func(prediction, Y)\n",
    "    all_losses.append(loss.item())\n",
    "\n",
    "    # clear gradients for next train\n",
    "    optimiser.zero_grad()\n",
    "\n",
    "    # perform backward pass\n",
    "    loss.backward()\n",
    "\n",
    "    # call the step function on an Optimiser makes an update to its\n",
    "    # parameters\n",
    "    optimiser.step()\n",
    "\n",
    "    if t % 50 == 0:\n",
    "        n_correct = torch.sum((torch.abs(prediction - Y) < torch.abs(pct_close * Y)))\n",
    "        result = (n_correct.item() * 100.0 / n_items)\n",
    "        print(\"t = \",t,\"training loss = \",loss.item(), \"accuracy = \",result)\n",
    "        \n",
    "plt.figure()\n",
    "plt.plot(all_losses)\n",
    "plt.show()"
   ]
  },
  {
   "cell_type": "code",
   "execution_count": 159,
   "metadata": {},
   "outputs": [
    {
     "name": "stdout",
     "output_type": "stream",
     "text": [
      "loss =  0.584018349647522 accuracy =  88.51626016260163\n"
     ]
    }
   ],
   "source": [
    "#testing\n",
    "net = net.eval()\n",
    "n_items = test_Y.shape[0]\n",
    "n_correct = torch.sum((torch.abs(net(test_X) - test_Y) < torch.abs(pct_close * test_Y)))\n",
    "result = (n_correct.item() * 100.0 / n_items)\n",
    "test_loss = loss_func(net(test_X), test_Y)\n",
    "print(\"loss = \", test_loss.item(), \"accuracy = \",result)"
   ]
  },
  {
   "cell_type": "code",
   "execution_count": null,
   "metadata": {},
   "outputs": [],
   "source": []
  },
  {
   "cell_type": "code",
   "execution_count": null,
   "metadata": {},
   "outputs": [],
   "source": []
  }
 ],
 "metadata": {
  "kernelspec": {
   "display_name": "Python 3",
   "language": "python",
   "name": "python3"
  },
  "language_info": {
   "codemirror_mode": {
    "name": "ipython",
    "version": 3
   },
   "file_extension": ".py",
   "mimetype": "text/x-python",
   "name": "python",
   "nbconvert_exporter": "python",
   "pygments_lexer": "ipython3",
   "version": "3.8.5"
  }
 },
 "nbformat": 4,
 "nbformat_minor": 4
}
